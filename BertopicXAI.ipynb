{
 "cells": [
  {
   "cell_type": "code",
   "execution_count": null,
   "metadata": {
    "colab": {
     "base_uri": "https://localhost:8080/"
    },
    "executionInfo": {
     "elapsed": 30414,
     "status": "ok",
     "timestamp": 1741378830386,
     "user": {
      "displayName": "Sule Ozturk",
      "userId": "14268268360802730607"
     },
     "user_tz": -180
    },
    "id": "bJVUYlDf3Cos",
    "outputId": "d5e98603-02e3-43d9-da86-2d364a1d8328"
   },
   "outputs": [
    {
     "name": "stdout",
     "output_type": "stream",
     "text": [
      "Mounted at /content/drive\n"
     ]
    }
   ],
   "source": [
    "from google.colab import drive\n",
    "drive.mount('/content/drive')"
   ]
  },
  {
   "cell_type": "code",
   "execution_count": null,
   "metadata": {
    "id": "SFPB2dai3a9d"
   },
   "outputs": [],
   "source": [
    "path = 'drive_path'\n",
    "pathdata = 'path to data'"
   ]
  },
  {
   "cell_type": "code",
   "execution_count": null,
   "metadata": {
    "colab": {
     "base_uri": "https://localhost:8080/"
    },
    "executionInfo": {
     "elapsed": 5541,
     "status": "ok",
     "timestamp": 1741378835965,
     "user": {
      "displayName": "Sule Ozturk",
      "userId": "14268268360802730607"
     },
     "user_tz": -180
    },
    "id": "EZFyUtIx3c8N",
    "outputId": "5a8b4079-9301-445b-dced-2c1eeaea23a4"
   },
   "outputs": [
    {
     "data": {
      "text/plain": [
       "<torch._C.Generator at 0x7d76543d1a10>"
      ]
     },
     "execution_count": 3,
     "metadata": {},
     "output_type": "execute_result"
    }
   ],
   "source": [
    "\n",
    "import numpy as np\n",
    "import pandas as pd\n",
    "import random\n",
    "import torch\n",
    "import time\n",
    "import datetime\n",
    "import gc\n",
    "from nltk.corpus import stopwords\n",
    "import re\n",
    "\n",
    "from itertools import islice\n",
    "from IPython import get_ipython\n",
    "from IPython.display import display, HTML\n",
    "\n",
    "seed_val = 42\n",
    "random.seed(seed_val)\n",
    "np.random.seed(seed_val)\n",
    "torch.manual_seed(seed_val)"
   ]
  },
  {
   "cell_type": "code",
   "execution_count": null,
   "metadata": {
    "colab": {
     "base_uri": "https://localhost:8080/"
    },
    "collapsed": true,
    "executionInfo": {
     "elapsed": 66864,
     "status": "ok",
     "timestamp": 1741378907999,
     "user": {
      "displayName": "Sule Ozturk",
      "userId": "14268268360802730607"
     },
     "user_tz": -180
    },
    "id": "3DFQiMYs3wLM",
    "outputId": "7207da07-b31a-409e-c648-4d4a4fdd880e"
   },
   "outputs": [
    {
     "name": "stdout",
     "output_type": "stream",
     "text": [
      "Collecting bertopic\n",
      "  Downloading bertopic-0.16.4-py3-none-any.whl.metadata (23 kB)\n",
      "Requirement already satisfied: hdbscan>=0.8.29 in /usr/local/lib/python3.11/dist-packages (from bertopic) (0.8.40)\n",
      "Requirement already satisfied: numpy>=1.20.0 in /usr/local/lib/python3.11/dist-packages (from bertopic) (1.26.4)\n",
      "Requirement already satisfied: pandas>=1.1.5 in /usr/local/lib/python3.11/dist-packages (from bertopic) (2.2.2)\n",
      "Requirement already satisfied: plotly>=4.7.0 in /usr/local/lib/python3.11/dist-packages (from bertopic) (5.24.1)\n",
      "Requirement already satisfied: scikit-learn>=0.22.2.post1 in /usr/local/lib/python3.11/dist-packages (from bertopic) (1.6.1)\n",
      "Requirement already satisfied: sentence-transformers>=0.4.1 in /usr/local/lib/python3.11/dist-packages (from bertopic) (3.4.1)\n",
      "Requirement already satisfied: tqdm>=4.41.1 in /usr/local/lib/python3.11/dist-packages (from bertopic) (4.67.1)\n",
      "Requirement already satisfied: umap-learn>=0.5.0 in /usr/local/lib/python3.11/dist-packages (from bertopic) (0.5.7)\n",
      "Requirement already satisfied: scipy>=1.0 in /usr/local/lib/python3.11/dist-packages (from hdbscan>=0.8.29->bertopic) (1.13.1)\n",
      "Requirement already satisfied: joblib>=1.0 in /usr/local/lib/python3.11/dist-packages (from hdbscan>=0.8.29->bertopic) (1.4.2)\n",
      "Requirement already satisfied: python-dateutil>=2.8.2 in /usr/local/lib/python3.11/dist-packages (from pandas>=1.1.5->bertopic) (2.8.2)\n",
      "Requirement already satisfied: pytz>=2020.1 in /usr/local/lib/python3.11/dist-packages (from pandas>=1.1.5->bertopic) (2025.1)\n",
      "Requirement already satisfied: tzdata>=2022.7 in /usr/local/lib/python3.11/dist-packages (from pandas>=1.1.5->bertopic) (2025.1)\n",
      "Requirement already satisfied: tenacity>=6.2.0 in /usr/local/lib/python3.11/dist-packages (from plotly>=4.7.0->bertopic) (9.0.0)\n",
      "Requirement already satisfied: packaging in /usr/local/lib/python3.11/dist-packages (from plotly>=4.7.0->bertopic) (24.2)\n",
      "Requirement already satisfied: threadpoolctl>=3.1.0 in /usr/local/lib/python3.11/dist-packages (from scikit-learn>=0.22.2.post1->bertopic) (3.5.0)\n",
      "Requirement already satisfied: transformers<5.0.0,>=4.41.0 in /usr/local/lib/python3.11/dist-packages (from sentence-transformers>=0.4.1->bertopic) (4.48.3)\n",
      "Requirement already satisfied: torch>=1.11.0 in /usr/local/lib/python3.11/dist-packages (from sentence-transformers>=0.4.1->bertopic) (2.5.1+cu124)\n",
      "Requirement already satisfied: huggingface-hub>=0.20.0 in /usr/local/lib/python3.11/dist-packages (from sentence-transformers>=0.4.1->bertopic) (0.28.1)\n",
      "Requirement already satisfied: Pillow in /usr/local/lib/python3.11/dist-packages (from sentence-transformers>=0.4.1->bertopic) (11.1.0)\n",
      "Requirement already satisfied: numba>=0.51.2 in /usr/local/lib/python3.11/dist-packages (from umap-learn>=0.5.0->bertopic) (0.60.0)\n",
      "Requirement already satisfied: pynndescent>=0.5 in /usr/local/lib/python3.11/dist-packages (from umap-learn>=0.5.0->bertopic) (0.5.13)\n",
      "Requirement already satisfied: filelock in /usr/local/lib/python3.11/dist-packages (from huggingface-hub>=0.20.0->sentence-transformers>=0.4.1->bertopic) (3.17.0)\n",
      "Requirement already satisfied: fsspec>=2023.5.0 in /usr/local/lib/python3.11/dist-packages (from huggingface-hub>=0.20.0->sentence-transformers>=0.4.1->bertopic) (2024.10.0)\n",
      "Requirement already satisfied: pyyaml>=5.1 in /usr/local/lib/python3.11/dist-packages (from huggingface-hub>=0.20.0->sentence-transformers>=0.4.1->bertopic) (6.0.2)\n",
      "Requirement already satisfied: requests in /usr/local/lib/python3.11/dist-packages (from huggingface-hub>=0.20.0->sentence-transformers>=0.4.1->bertopic) (2.32.3)\n",
      "Requirement already satisfied: typing-extensions>=3.7.4.3 in /usr/local/lib/python3.11/dist-packages (from huggingface-hub>=0.20.0->sentence-transformers>=0.4.1->bertopic) (4.12.2)\n",
      "Requirement already satisfied: llvmlite<0.44,>=0.43.0dev0 in /usr/local/lib/python3.11/dist-packages (from numba>=0.51.2->umap-learn>=0.5.0->bertopic) (0.43.0)\n",
      "Requirement already satisfied: six>=1.5 in /usr/local/lib/python3.11/dist-packages (from python-dateutil>=2.8.2->pandas>=1.1.5->bertopic) (1.17.0)\n",
      "Requirement already satisfied: networkx in /usr/local/lib/python3.11/dist-packages (from torch>=1.11.0->sentence-transformers>=0.4.1->bertopic) (3.4.2)\n",
      "Requirement already satisfied: jinja2 in /usr/local/lib/python3.11/dist-packages (from torch>=1.11.0->sentence-transformers>=0.4.1->bertopic) (3.1.5)\n",
      "Collecting nvidia-cuda-nvrtc-cu12==12.4.127 (from torch>=1.11.0->sentence-transformers>=0.4.1->bertopic)\n",
      "  Downloading nvidia_cuda_nvrtc_cu12-12.4.127-py3-none-manylinux2014_x86_64.whl.metadata (1.5 kB)\n",
      "Collecting nvidia-cuda-runtime-cu12==12.4.127 (from torch>=1.11.0->sentence-transformers>=0.4.1->bertopic)\n",
      "  Downloading nvidia_cuda_runtime_cu12-12.4.127-py3-none-manylinux2014_x86_64.whl.metadata (1.5 kB)\n",
      "Collecting nvidia-cuda-cupti-cu12==12.4.127 (from torch>=1.11.0->sentence-transformers>=0.4.1->bertopic)\n",
      "  Downloading nvidia_cuda_cupti_cu12-12.4.127-py3-none-manylinux2014_x86_64.whl.metadata (1.6 kB)\n",
      "Collecting nvidia-cudnn-cu12==9.1.0.70 (from torch>=1.11.0->sentence-transformers>=0.4.1->bertopic)\n",
      "  Downloading nvidia_cudnn_cu12-9.1.0.70-py3-none-manylinux2014_x86_64.whl.metadata (1.6 kB)\n",
      "Collecting nvidia-cublas-cu12==12.4.5.8 (from torch>=1.11.0->sentence-transformers>=0.4.1->bertopic)\n",
      "  Downloading nvidia_cublas_cu12-12.4.5.8-py3-none-manylinux2014_x86_64.whl.metadata (1.5 kB)\n",
      "Collecting nvidia-cufft-cu12==11.2.1.3 (from torch>=1.11.0->sentence-transformers>=0.4.1->bertopic)\n",
      "  Downloading nvidia_cufft_cu12-11.2.1.3-py3-none-manylinux2014_x86_64.whl.metadata (1.5 kB)\n",
      "Collecting nvidia-curand-cu12==10.3.5.147 (from torch>=1.11.0->sentence-transformers>=0.4.1->bertopic)\n",
      "  Downloading nvidia_curand_cu12-10.3.5.147-py3-none-manylinux2014_x86_64.whl.metadata (1.5 kB)\n",
      "Collecting nvidia-cusolver-cu12==11.6.1.9 (from torch>=1.11.0->sentence-transformers>=0.4.1->bertopic)\n",
      "  Downloading nvidia_cusolver_cu12-11.6.1.9-py3-none-manylinux2014_x86_64.whl.metadata (1.6 kB)\n",
      "Collecting nvidia-cusparse-cu12==12.3.1.170 (from torch>=1.11.0->sentence-transformers>=0.4.1->bertopic)\n",
      "  Downloading nvidia_cusparse_cu12-12.3.1.170-py3-none-manylinux2014_x86_64.whl.metadata (1.6 kB)\n",
      "Requirement already satisfied: nvidia-nccl-cu12==2.21.5 in /usr/local/lib/python3.11/dist-packages (from torch>=1.11.0->sentence-transformers>=0.4.1->bertopic) (2.21.5)\n",
      "Requirement already satisfied: nvidia-nvtx-cu12==12.4.127 in /usr/local/lib/python3.11/dist-packages (from torch>=1.11.0->sentence-transformers>=0.4.1->bertopic) (12.4.127)\n",
      "Collecting nvidia-nvjitlink-cu12==12.4.127 (from torch>=1.11.0->sentence-transformers>=0.4.1->bertopic)\n",
      "  Downloading nvidia_nvjitlink_cu12-12.4.127-py3-none-manylinux2014_x86_64.whl.metadata (1.5 kB)\n",
      "Requirement already satisfied: triton==3.1.0 in /usr/local/lib/python3.11/dist-packages (from torch>=1.11.0->sentence-transformers>=0.4.1->bertopic) (3.1.0)\n",
      "Requirement already satisfied: sympy==1.13.1 in /usr/local/lib/python3.11/dist-packages (from torch>=1.11.0->sentence-transformers>=0.4.1->bertopic) (1.13.1)\n",
      "Requirement already satisfied: mpmath<1.4,>=1.1.0 in /usr/local/lib/python3.11/dist-packages (from sympy==1.13.1->torch>=1.11.0->sentence-transformers>=0.4.1->bertopic) (1.3.0)\n",
      "Requirement already satisfied: regex!=2019.12.17 in /usr/local/lib/python3.11/dist-packages (from transformers<5.0.0,>=4.41.0->sentence-transformers>=0.4.1->bertopic) (2024.11.6)\n",
      "Requirement already satisfied: tokenizers<0.22,>=0.21 in /usr/local/lib/python3.11/dist-packages (from transformers<5.0.0,>=4.41.0->sentence-transformers>=0.4.1->bertopic) (0.21.0)\n",
      "Requirement already satisfied: safetensors>=0.4.1 in /usr/local/lib/python3.11/dist-packages (from transformers<5.0.0,>=4.41.0->sentence-transformers>=0.4.1->bertopic) (0.5.3)\n",
      "Requirement already satisfied: MarkupSafe>=2.0 in /usr/local/lib/python3.11/dist-packages (from jinja2->torch>=1.11.0->sentence-transformers>=0.4.1->bertopic) (3.0.2)\n",
      "Requirement already satisfied: charset-normalizer<4,>=2 in /usr/local/lib/python3.11/dist-packages (from requests->huggingface-hub>=0.20.0->sentence-transformers>=0.4.1->bertopic) (3.4.1)\n",
      "Requirement already satisfied: idna<4,>=2.5 in /usr/local/lib/python3.11/dist-packages (from requests->huggingface-hub>=0.20.0->sentence-transformers>=0.4.1->bertopic) (3.10)\n",
      "Requirement already satisfied: urllib3<3,>=1.21.1 in /usr/local/lib/python3.11/dist-packages (from requests->huggingface-hub>=0.20.0->sentence-transformers>=0.4.1->bertopic) (2.3.0)\n",
      "Requirement already satisfied: certifi>=2017.4.17 in /usr/local/lib/python3.11/dist-packages (from requests->huggingface-hub>=0.20.0->sentence-transformers>=0.4.1->bertopic) (2025.1.31)\n",
      "Downloading bertopic-0.16.4-py3-none-any.whl (143 kB)\n",
      "\u001b[2K   \u001b[90m━━━━━━━━━━━━━━━━━━━━━━━━━━━━━━━━━━━━━━━━\u001b[0m \u001b[32m143.7/143.7 kB\u001b[0m \u001b[31m17.1 MB/s\u001b[0m eta \u001b[36m0:00:00\u001b[0m\n",
      "\u001b[?25hDownloading nvidia_cublas_cu12-12.4.5.8-py3-none-manylinux2014_x86_64.whl (363.4 MB)\n",
      "\u001b[2K   \u001b[90m━━━━━━━━━━━━━━━━━━━━━━━━━━━━━━━━━━━━━━━━\u001b[0m \u001b[32m363.4/363.4 MB\u001b[0m \u001b[31m3.0 MB/s\u001b[0m eta \u001b[36m0:00:00\u001b[0m\n",
      "\u001b[?25hDownloading nvidia_cuda_cupti_cu12-12.4.127-py3-none-manylinux2014_x86_64.whl (13.8 MB)\n",
      "\u001b[2K   \u001b[90m━━━━━━━━━━━━━━━━━━━━━━━━━━━━━━━━━━━━━━━━\u001b[0m \u001b[32m13.8/13.8 MB\u001b[0m \u001b[31m115.8 MB/s\u001b[0m eta \u001b[36m0:00:00\u001b[0m\n",
      "\u001b[?25hDownloading nvidia_cuda_nvrtc_cu12-12.4.127-py3-none-manylinux2014_x86_64.whl (24.6 MB)\n",
      "\u001b[2K   \u001b[90m━━━━━━━━━━━━━━━━━━━━━━━━━━━━━━━━━━━━━━━━\u001b[0m \u001b[32m24.6/24.6 MB\u001b[0m \u001b[31m94.2 MB/s\u001b[0m eta \u001b[36m0:00:00\u001b[0m\n",
      "\u001b[?25hDownloading nvidia_cuda_runtime_cu12-12.4.127-py3-none-manylinux2014_x86_64.whl (883 kB)\n",
      "\u001b[2K   \u001b[90m━━━━━━━━━━━━━━━━━━━━━━━━━━━━━━━━━━━━━━━━\u001b[0m \u001b[32m883.7/883.7 kB\u001b[0m \u001b[31m63.1 MB/s\u001b[0m eta \u001b[36m0:00:00\u001b[0m\n",
      "\u001b[?25hDownloading nvidia_cudnn_cu12-9.1.0.70-py3-none-manylinux2014_x86_64.whl (664.8 MB)\n",
      "\u001b[2K   \u001b[90m━━━━━━━━━━━━━━━━━━━━━━━━━━━━━━━━━━━━━━━━\u001b[0m \u001b[32m664.8/664.8 MB\u001b[0m \u001b[31m2.1 MB/s\u001b[0m eta \u001b[36m0:00:00\u001b[0m\n",
      "\u001b[?25hDownloading nvidia_cufft_cu12-11.2.1.3-py3-none-manylinux2014_x86_64.whl (211.5 MB)\n",
      "\u001b[2K   \u001b[90m━━━━━━━━━━━━━━━━━━━━━━━━━━━━━━━━━━━━━━━━\u001b[0m \u001b[32m211.5/211.5 MB\u001b[0m \u001b[31m4.7 MB/s\u001b[0m eta \u001b[36m0:00:00\u001b[0m\n",
      "\u001b[?25hDownloading nvidia_curand_cu12-10.3.5.147-py3-none-manylinux2014_x86_64.whl (56.3 MB)\n",
      "\u001b[2K   \u001b[90m━━━━━━━━━━━━━━━━━━━━━━━━━━━━━━━━━━━━━━━━\u001b[0m \u001b[32m56.3/56.3 MB\u001b[0m \u001b[31m41.1 MB/s\u001b[0m eta \u001b[36m0:00:00\u001b[0m\n",
      "\u001b[?25hDownloading nvidia_cusolver_cu12-11.6.1.9-py3-none-manylinux2014_x86_64.whl (127.9 MB)\n",
      "\u001b[2K   \u001b[90m━━━━━━━━━━━━━━━━━━━━━━━━━━━━━━━━━━━━━━━━\u001b[0m \u001b[32m127.9/127.9 MB\u001b[0m \u001b[31m19.0 MB/s\u001b[0m eta \u001b[36m0:00:00\u001b[0m\n",
      "\u001b[?25hDownloading nvidia_cusparse_cu12-12.3.1.170-py3-none-manylinux2014_x86_64.whl (207.5 MB)\n",
      "\u001b[2K   \u001b[90m━━━━━━━━━━━━━━━━━━━━━━━━━━━━━━━━━━━━━━━━\u001b[0m \u001b[32m207.5/207.5 MB\u001b[0m \u001b[31m4.9 MB/s\u001b[0m eta \u001b[36m0:00:00\u001b[0m\n",
      "\u001b[?25hDownloading nvidia_nvjitlink_cu12-12.4.127-py3-none-manylinux2014_x86_64.whl (21.1 MB)\n",
      "\u001b[2K   \u001b[90m━━━━━━━━━━━━━━━━━━━━━━━━━━━━━━━━━━━━━━━━\u001b[0m \u001b[32m21.1/21.1 MB\u001b[0m \u001b[31m98.3 MB/s\u001b[0m eta \u001b[36m0:00:00\u001b[0m\n",
      "\u001b[?25hInstalling collected packages: nvidia-nvjitlink-cu12, nvidia-curand-cu12, nvidia-cufft-cu12, nvidia-cuda-runtime-cu12, nvidia-cuda-nvrtc-cu12, nvidia-cuda-cupti-cu12, nvidia-cublas-cu12, nvidia-cusparse-cu12, nvidia-cudnn-cu12, nvidia-cusolver-cu12, bertopic\n",
      "  Attempting uninstall: nvidia-nvjitlink-cu12\n",
      "    Found existing installation: nvidia-nvjitlink-cu12 12.5.82\n",
      "    Uninstalling nvidia-nvjitlink-cu12-12.5.82:\n",
      "      Successfully uninstalled nvidia-nvjitlink-cu12-12.5.82\n",
      "  Attempting uninstall: nvidia-curand-cu12\n",
      "    Found existing installation: nvidia-curand-cu12 10.3.6.82\n",
      "    Uninstalling nvidia-curand-cu12-10.3.6.82:\n",
      "      Successfully uninstalled nvidia-curand-cu12-10.3.6.82\n",
      "  Attempting uninstall: nvidia-cufft-cu12\n",
      "    Found existing installation: nvidia-cufft-cu12 11.2.3.61\n",
      "    Uninstalling nvidia-cufft-cu12-11.2.3.61:\n",
      "      Successfully uninstalled nvidia-cufft-cu12-11.2.3.61\n",
      "  Attempting uninstall: nvidia-cuda-runtime-cu12\n",
      "    Found existing installation: nvidia-cuda-runtime-cu12 12.5.82\n",
      "    Uninstalling nvidia-cuda-runtime-cu12-12.5.82:\n",
      "      Successfully uninstalled nvidia-cuda-runtime-cu12-12.5.82\n",
      "  Attempting uninstall: nvidia-cuda-nvrtc-cu12\n",
      "    Found existing installation: nvidia-cuda-nvrtc-cu12 12.5.82\n",
      "    Uninstalling nvidia-cuda-nvrtc-cu12-12.5.82:\n",
      "      Successfully uninstalled nvidia-cuda-nvrtc-cu12-12.5.82\n",
      "  Attempting uninstall: nvidia-cuda-cupti-cu12\n",
      "    Found existing installation: nvidia-cuda-cupti-cu12 12.5.82\n",
      "    Uninstalling nvidia-cuda-cupti-cu12-12.5.82:\n",
      "      Successfully uninstalled nvidia-cuda-cupti-cu12-12.5.82\n",
      "  Attempting uninstall: nvidia-cublas-cu12\n",
      "    Found existing installation: nvidia-cublas-cu12 12.5.3.2\n",
      "    Uninstalling nvidia-cublas-cu12-12.5.3.2:\n",
      "      Successfully uninstalled nvidia-cublas-cu12-12.5.3.2\n",
      "  Attempting uninstall: nvidia-cusparse-cu12\n",
      "    Found existing installation: nvidia-cusparse-cu12 12.5.1.3\n",
      "    Uninstalling nvidia-cusparse-cu12-12.5.1.3:\n",
      "      Successfully uninstalled nvidia-cusparse-cu12-12.5.1.3\n",
      "  Attempting uninstall: nvidia-cudnn-cu12\n",
      "    Found existing installation: nvidia-cudnn-cu12 9.3.0.75\n",
      "    Uninstalling nvidia-cudnn-cu12-9.3.0.75:\n",
      "      Successfully uninstalled nvidia-cudnn-cu12-9.3.0.75\n",
      "  Attempting uninstall: nvidia-cusolver-cu12\n",
      "    Found existing installation: nvidia-cusolver-cu12 11.6.3.83\n",
      "    Uninstalling nvidia-cusolver-cu12-11.6.3.83:\n",
      "      Successfully uninstalled nvidia-cusolver-cu12-11.6.3.83\n",
      "Successfully installed bertopic-0.16.4 nvidia-cublas-cu12-12.4.5.8 nvidia-cuda-cupti-cu12-12.4.127 nvidia-cuda-nvrtc-cu12-12.4.127 nvidia-cuda-runtime-cu12-12.4.127 nvidia-cudnn-cu12-9.1.0.70 nvidia-cufft-cu12-11.2.1.3 nvidia-curand-cu12-10.3.5.147 nvidia-cusolver-cu12-11.6.1.9 nvidia-cusparse-cu12-12.3.1.170 nvidia-nvjitlink-cu12-12.4.127\n"
     ]
    }
   ],
   "source": [
    "!pip install bertopic"
   ]
  },
  {
   "cell_type": "code",
   "execution_count": null,
   "metadata": {
    "id": "1SKADDtF3o1h"
   },
   "outputs": [],
   "source": [
    "from bertopic import BERTopic"
   ]
  },
  {
   "cell_type": "code",
   "execution_count": null,
   "metadata": {
    "id": "R_PRhl073vRF"
   },
   "outputs": [],
   "source": [
    "#load previously saved topic model\n",
    "\n",
    "topic_model = BERTopic.load(path + \"Selected_TM_10_v2\")"
   ]
  },
  {
   "cell_type": "code",
   "execution_count": null,
   "metadata": {
    "colab": {
     "base_uri": "https://localhost:8080/"
    },
    "executionInfo": {
     "elapsed": 443,
     "status": "ok",
     "timestamp": 1741286883659,
     "user": {
      "displayName": "Sule Ozturk",
      "userId": "14268268360802730607"
     },
     "user_tz": -180
    },
    "id": "JjPstQaghQ8H",
    "outputId": "5dba2f0c-df62-4f5c-fef7-a09440b2e92c"
   },
   "outputs": [
    {
     "data": {
      "text/plain": [
       "['Hospitality Excellence',\n",
       " 'Bathroom and spa',\n",
       " 'Hotel Amenities Excellence',\n",
       " 'Welcoming Staff Experience',\n",
       " 'Bed and Comfort',\n",
       " 'Proximity and Access',\n",
       " 'Hotel Booking Reception',\n",
       " 'Perfect Everything Thought',\n",
       " 'Breakfast and Pricing',\n",
       " 'Room Climate Control',\n",
       " 'Room Lighting',\n",
       " 'Internet Connection Issues',\n",
       " 'Room Noise Levels',\n",
       " 'Beverage Making Facilities',\n",
       " 'Hotel Parking Costs',\n",
       " 'Elevator and Accessibility',\n",
       " 'Price and Value',\n",
       " 'Celebratory Sweet Treats',\n",
       " 'Bar Drink Prices']"
      ]
     },
     "execution_count": 7,
     "metadata": {},
     "output_type": "execute_result"
    }
   ],
   "source": [
    "#title files of the topics\n",
    "\n",
    "titles_df = pd.read_csv(path + \"titles_df10.csv\")\n",
    "titles = list(titles_df[\"title\"])\n",
    "titles"
   ]
  },
  {
   "cell_type": "code",
   "execution_count": null,
   "metadata": {
    "id": "zsKJS9Bi-ZUm"
   },
   "outputs": [],
   "source": [
    "#titles_df.to_csv(path + \"titles_df10.csv\", index=False)"
   ]
  },
  {
   "cell_type": "code",
   "execution_count": null,
   "metadata": {
    "id": "K7BmHRNA4Hjd"
   },
   "outputs": [],
   "source": [
    "\n",
    "selected_docs = pd.read_csv(path + \"selected_reviews77_initial_probs - dimensions-interpretability.csv\")"
   ]
  },
  {
   "cell_type": "code",
   "execution_count": null,
   "metadata": {
    "colab": {
     "base_uri": "https://localhost:8080/",
     "height": 1000
    },
    "executionInfo": {
     "elapsed": 183,
     "status": "ok",
     "timestamp": 1741286891069,
     "user": {
      "displayName": "Sule Ozturk",
      "userId": "14268268360802730607"
     },
     "user_tz": -180
    },
    "id": "3lz6mURXplM9",
    "outputId": "eb67c397-9659-49b5-d777-c10da530d5a1"
   },
   "outputs": [
    {
     "data": {
      "application/vnd.google.colaboratory.intrinsic+json": {
       "summary": "{\n  \"name\": \"selected_docs\",\n  \"rows\": 77,\n  \"fields\": [\n    {\n      \"column\": \"review\",\n      \"properties\": {\n        \"dtype\": \"string\",\n        \"num_unique_values\": 77,\n        \"samples\": [\n          \" Everything you would expect from a premium hotel top service facilities and location\",\n          \" Servie for the breakfast was a bit unpredictable \",\n          \" Really good breakfast lovely fish tank in reception \"\n        ],\n        \"semantic_type\": \"\",\n        \"description\": \"\"\n      }\n    },\n    {\n      \"column\": \"85 Percentile Top Topics\",\n      \"properties\": {\n        \"dtype\": \"number\",\n        \"std\": null,\n        \"min\": null,\n        \"max\": null,\n        \"num_unique_values\": 0,\n        \"samples\": [],\n        \"semantic_type\": \"\",\n        \"description\": \"\"\n      }\n    },\n    {\n      \"column\": \"90 Percentile Top topics\",\n      \"properties\": {\n        \"dtype\": \"string\",\n        \"num_unique_values\": 74,\n        \"samples\": [],\n        \"semantic_type\": \"\",\n        \"description\": \"\"\n      }\n    },\n    {\n      \"column\": \"sentiment_label\",\n      \"properties\": {\n        \"dtype\": \"category\",\n        \"num_unique_values\": 2,\n        \"samples\": [],\n        \"semantic_type\": \"\",\n        \"description\": \"\"\n      }\n    },\n    {\n      \"column\": \"sentiment_class_probs\",\n      \"properties\": {\n        \"dtype\": \"string\",\n        \"num_unique_values\": 77,\n        \"samples\": [],\n        \"semantic_type\": \"\",\n        \"description\": \"\"\n      }\n    },\n    {\n      \"column\": \"lime_word_attributions_sentiment\",\n      \"properties\": {\n        \"dtype\": \"string\",\n        \"num_unique_values\": 77,\n        \"samples\": [],\n        \"semantic_type\": \"\",\n        \"description\": \"\"\n      }\n    },\n    {\n      \"column\": \"emotion\",\n      \"properties\": {\n        \"dtype\": \"category\",\n        \"num_unique_values\": 7,\n        \"samples\": [],\n        \"semantic_type\": \"\",\n        \"description\": \"\"\n      }\n    },\n    {\n      \"column\": \"emotion_class_probabilities\",\n      \"properties\": {\n        \"dtype\": \"string\",\n        \"num_unique_values\": 77,\n        \"samples\": [],\n        \"semantic_type\": \"\",\n        \"description\": \"\"\n      }\n    },\n    {\n      \"column\": \"lime_word_attributions_first_class_emotion\",\n      \"properties\": {\n        \"dtype\": \"string\",\n        \"num_unique_values\": 77,\n        \"samples\": [],\n        \"semantic_type\": \"\",\n        \"description\": \"\"\n      }\n    },\n    {\n      \"column\": \"lime_word_attributions_second_class_emotion\",\n      \"properties\": {\n        \"dtype\": \"string\",\n        \"num_unique_values\": 77,\n        \"samples\": [],\n        \"semantic_type\": \"\",\n        \"description\": \"\"\n      }\n    },\n    {\n      \"column\": \"lime_word_attributions_third_class_emotion\",\n      \"properties\": {\n        \"dtype\": \"string\",\n        \"num_unique_values\": 77,\n        \"samples\": [],\n        \"semantic_type\": \"\",\n        \"description\": \"\"\n      }\n    }\n  ]\n}",
       "type": "dataframe",
       "variable_name": "selected_docs"
      },
      "text/html": [
       "\n",
       "  <div id=\"df-f622bdc5-fd19-4e43-8194-991c1544a4e9\" class=\"colab-df-container\">\n",
       "    <div>\n",
       "<style scoped>\n",
       "    .dataframe tbody tr th:only-of-type {\n",
       "        vertical-align: middle;\n",
       "    }\n",
       "\n",
       "    .dataframe tbody tr th {\n",
       "        vertical-align: top;\n",
       "    }\n",
       "\n",
       "    .dataframe thead th {\n",
       "        text-align: right;\n",
       "    }\n",
       "</style>\n",
       "<table border=\"1\" class=\"dataframe\">\n",
       "  <thead>\n",
       "    <tr style=\"text-align: right;\">\n",
       "      <th></th>\n",
       "      <th>review</th>\n",
       "      <th>85 Percentile Top Topics</th>\n",
       "      <th>90 Percentile Top topics</th>\n",
       "      <th>sentiment_label</th>\n",
       "      <th>sentiment_class_probs</th>\n",
       "      <th>lime_word_attributions_sentiment</th>\n",
       "      <th>emotion</th>\n",
       "      <th>emotion_class_probabilities</th>\n",
       "      <th>lime_word_attributions_first_class_emotion</th>\n",
       "      <th>lime_word_attributions_second_class_emotion</th>\n",
       "      <th>lime_word_attributions_third_class_emotion</th>\n",
       "    </tr>\n",
       "  </thead>\n",
       "  <tbody>\n",
       "    <tr>\n",
       "      <th>0</th>\n",
       "      <td>The location and underground car parking make...</td>\n",
       "      <td>NaN</td>\n",
       "      <td>{0: 0.1789759908904629, 5: 0.14402822668851814}</td>\n",
       "      <td>Positive</td>\n",
       "      <td>{'positive': 0.9309498, 'negative': 0.06905022}</td>\n",
       "      <td>[('location', 0.4233608630390651), ('best', 0....</td>\n",
       "      <td>anticipation</td>\n",
       "      <td>{'anticipation': 0.6500486731529236, 'optimism...</td>\n",
       "      <td>[('location', 0.15139065931671647), ('choice',...</td>\n",
       "      <td>[('best', 0.4777543402516913), ('this', 0.1253...</td>\n",
       "      <td>[('best', 0.3658510491281746), ('this', 0.1405...</td>\n",
       "    </tr>\n",
       "    <tr>\n",
       "      <th>1</th>\n",
       "      <td>The location of the hotel was good as it was ...</td>\n",
       "      <td>NaN</td>\n",
       "      <td>{0: 0.4493866679057899, 2: 0.0603928740775705}</td>\n",
       "      <td>Positive</td>\n",
       "      <td>{'positive': 0.94891834, 'negative': 0.051081628}</td>\n",
       "      <td>[('location', 0.23812806200210543), ('good', 0...</td>\n",
       "      <td>anticipation</td>\n",
       "      <td>{'anticipation': 0.7445889115333557, 'optimism...</td>\n",
       "      <td>[('location', 0.22970551736965114), ('was', 0....</td>\n",
       "      <td>[('good', 0.46188428992096686), ('in', -0.0716...</td>\n",
       "      <td>[('good', 0.32220245043757545), ('of', -0.1557...</td>\n",
       "    </tr>\n",
       "    <tr>\n",
       "      <th>2</th>\n",
       "      <td>Location for gig in Wembley Reception staff B...</td>\n",
       "      <td>NaN</td>\n",
       "      <td>{0: 0.5594497733631916, 2: 0.06581788267606746}</td>\n",
       "      <td>Positive</td>\n",
       "      <td>{'positive': 0.98738146, 'negative': 0.012618622}</td>\n",
       "      <td>[('Location', 0.15299046214668335), ('Wembley'...</td>\n",
       "      <td>anticipation</td>\n",
       "      <td>{'anticipation': 0.282431036233902, 'joy': 0.0...</td>\n",
       "      <td>[('Bathrooms', -0.17318495697712116), ('gig', ...</td>\n",
       "      <td>[('staff', -0.12855298146193783), ('Bathrooms'...</td>\n",
       "      <td>[('Bathrooms', 0.09989225437307823), ('gig', -...</td>\n",
       "    </tr>\n",
       "    <tr>\n",
       "      <th>3</th>\n",
       "      <td>One of the nearest hotels from Milan central ...</td>\n",
       "      <td>NaN</td>\n",
       "      <td>{0: 0.5679741416023724, 2: 0.124614678393076}</td>\n",
       "      <td>Positive</td>\n",
       "      <td>{'negative': 0.7366869, 'positive': 0.26331306}</td>\n",
       "      <td>[('nearest', -0.10735253551970868), ('central'...</td>\n",
       "      <td>anticipation</td>\n",
       "      <td>{'anticipation': 0.8140031099319458, 'joy': 0....</td>\n",
       "      <td>[('hotels', 0.15988530146618965), ('until', 0....</td>\n",
       "      <td>[('hotels', 0.06139693728173337), ('until', -0...</td>\n",
       "      <td>[('until', 0.041524270897343986), ('noon', -0....</td>\n",
       "    </tr>\n",
       "    <tr>\n",
       "      <th>4</th>\n",
       "      <td>Everything you would expect from a premium ho...</td>\n",
       "      <td>NaN</td>\n",
       "      <td>{0: 0.2613933549098866, 2: 0.051762169642526605}</td>\n",
       "      <td>Positive</td>\n",
       "      <td>{'positive': 0.9904136, 'negative': 0.009586422}</td>\n",
       "      <td>[('Everything', 0.150655592511471), ('location...</td>\n",
       "      <td>anticipation</td>\n",
       "      <td>{'anticipation': 0.46023547649383545, 'surpris...</td>\n",
       "      <td>[('expect', 0.20729204215187094), ('Everything...</td>\n",
       "      <td>[('hotel', 0.07499330051934167), ('expect', 0....</td>\n",
       "      <td>[('premium', 0.2048197623155256), ('you', -0.1...</td>\n",
       "    </tr>\n",
       "    <tr>\n",
       "      <th>...</th>\n",
       "      <td>...</td>\n",
       "      <td>...</td>\n",
       "      <td>...</td>\n",
       "      <td>...</td>\n",
       "      <td>...</td>\n",
       "      <td>...</td>\n",
       "      <td>...</td>\n",
       "      <td>...</td>\n",
       "      <td>...</td>\n",
       "      <td>...</td>\n",
       "      <td>...</td>\n",
       "    </tr>\n",
       "    <tr>\n",
       "      <th>72</th>\n",
       "      <td>there was nothing postive about my overall ex...</td>\n",
       "      <td>NaN</td>\n",
       "      <td>{7: 0.29867120346508347, 0: 0.13511251891669787}</td>\n",
       "      <td>Negative</td>\n",
       "      <td>{'negative': 0.5910264, 'positive': 0.40897354}</td>\n",
       "      <td>[('nothing', -0.48040598227908987), ('experinc...</td>\n",
       "      <td>anticipation</td>\n",
       "      <td>{'anticipation': 0.6822406053543091, 'disgust'...</td>\n",
       "      <td>[('was', 0.16527560847501604), ('Brittania', 0...</td>\n",
       "      <td>[('experince', 0.22232705881773515), ('nothing...</td>\n",
       "      <td>[('experince', 0.1769966044444874), ('postive'...</td>\n",
       "    </tr>\n",
       "    <tr>\n",
       "      <th>73</th>\n",
       "      <td>Quite pricey but you can get deals to bring i...</td>\n",
       "      <td>NaN</td>\n",
       "      <td>{18: 1.0, 2: 8.86469568675485e-307}</td>\n",
       "      <td>Negative</td>\n",
       "      <td>{'negative': 0.99002993, 'positive': 0.009970014}</td>\n",
       "      <td>[('pricey', -0.010290276120461713), ('expensiv...</td>\n",
       "      <td>anticipation</td>\n",
       "      <td>{'anticipation': 0.3480011522769928, 'disgust'...</td>\n",
       "      <td>[('there', 0.11303232421119962), ('machine', -...</td>\n",
       "      <td>[('but', -0.12793304926719987), ('there', -0.1...</td>\n",
       "      <td>[('but', -0.1357728282364593), ('Mini', -0.132...</td>\n",
       "    </tr>\n",
       "    <tr>\n",
       "      <th>74</th>\n",
       "      <td>The Momo restaurant wasn t our style of food a...</td>\n",
       "      <td>NaN</td>\n",
       "      <td>NaN</td>\n",
       "      <td>Negative</td>\n",
       "      <td>{'negative': 0.97437966, 'positive': 0.02562039}</td>\n",
       "      <td>[('restaurant', -0.18620244412016007), ('wasn'...</td>\n",
       "      <td>joy</td>\n",
       "      <td>{'joy': 0.44104430079460144, 'anticipation': 0...</td>\n",
       "      <td>[('wasn', -0.25013182204193335), ('modern', 0....</td>\n",
       "      <td>[('food', -0.06315300920127138), ('restaurant'...</td>\n",
       "      <td>[('busy', 0.10756856520703792), ('style', -0.0...</td>\n",
       "    </tr>\n",
       "    <tr>\n",
       "      <th>75</th>\n",
       "      <td>The rooms are adequate and comfortable althoug...</td>\n",
       "      <td>NaN</td>\n",
       "      <td>NaN</td>\n",
       "      <td>Negative</td>\n",
       "      <td>{'negative': 0.7577919, 'positive': 0.24220818}</td>\n",
       "      <td>[('comfortable', 0.3074051651136775), ('are', ...</td>\n",
       "      <td>optimism</td>\n",
       "      <td>{'optimism': 0.7842380404472351, 'anticipation...</td>\n",
       "      <td>[('plan', 0.22556374383566058), ('Think', 0.20...</td>\n",
       "      <td>[('plan', 0.11160354840017254), ('are', 0.0741...</td>\n",
       "      <td>[('comfortable', 0.2530432062866484), ('not', ...</td>\n",
       "    </tr>\n",
       "    <tr>\n",
       "      <th>76</th>\n",
       "      <td>We made a point of letting the hotel know at t...</td>\n",
       "      <td>NaN</td>\n",
       "      <td>NaN</td>\n",
       "      <td>Negative</td>\n",
       "      <td>{'negative': 0.6300421, 'positive': 0.3699579}</td>\n",
       "      <td>[('Thank', 0.17946112076116993), ('disappointe...</td>\n",
       "      <td>joy</td>\n",
       "      <td>{'joy': 0.896217942237854, 'optimism': 0.79970...</td>\n",
       "      <td>[('nicer', 0.21941596893713897), ('Thank', 0.1...</td>\n",
       "      <td>[('nicer', 0.21436189710325287), ('not', 0.154...</td>\n",
       "      <td>[('disappointed', 0.20951808138408445), ('find...</td>\n",
       "    </tr>\n",
       "  </tbody>\n",
       "</table>\n",
       "<p>77 rows × 11 columns</p>\n",
       "</div>\n",
       "    <div class=\"colab-df-buttons\">\n",
       "\n",
       "  <div class=\"colab-df-container\">\n",
       "    <button class=\"colab-df-convert\" onclick=\"convertToInteractive('df-f622bdc5-fd19-4e43-8194-991c1544a4e9')\"\n",
       "            title=\"Convert this dataframe to an interactive table.\"\n",
       "            style=\"display:none;\">\n",
       "\n",
       "  <svg xmlns=\"http://www.w3.org/2000/svg\" height=\"24px\" viewBox=\"0 -960 960 960\">\n",
       "    <path d=\"M120-120v-720h720v720H120Zm60-500h600v-160H180v160Zm220 220h160v-160H400v160Zm0 220h160v-160H400v160ZM180-400h160v-160H180v160Zm440 0h160v-160H620v160ZM180-180h160v-160H180v160Zm440 0h160v-160H620v160Z\"/>\n",
       "  </svg>\n",
       "    </button>\n",
       "\n",
       "  <style>\n",
       "    .colab-df-container {\n",
       "      display:flex;\n",
       "      gap: 12px;\n",
       "    }\n",
       "\n",
       "    .colab-df-convert {\n",
       "      background-color: #E8F0FE;\n",
       "      border: none;\n",
       "      border-radius: 50%;\n",
       "      cursor: pointer;\n",
       "      display: none;\n",
       "      fill: #1967D2;\n",
       "      height: 32px;\n",
       "      padding: 0 0 0 0;\n",
       "      width: 32px;\n",
       "    }\n",
       "\n",
       "    .colab-df-convert:hover {\n",
       "      background-color: #E2EBFA;\n",
       "      box-shadow: 0px 1px 2px rgba(60, 64, 67, 0.3), 0px 1px 3px 1px rgba(60, 64, 67, 0.15);\n",
       "      fill: #174EA6;\n",
       "    }\n",
       "\n",
       "    .colab-df-buttons div {\n",
       "      margin-bottom: 4px;\n",
       "    }\n",
       "\n",
       "    [theme=dark] .colab-df-convert {\n",
       "      background-color: #3B4455;\n",
       "      fill: #D2E3FC;\n",
       "    }\n",
       "\n",
       "    [theme=dark] .colab-df-convert:hover {\n",
       "      background-color: #434B5C;\n",
       "      box-shadow: 0px 1px 3px 1px rgba(0, 0, 0, 0.15);\n",
       "      filter: drop-shadow(0px 1px 2px rgba(0, 0, 0, 0.3));\n",
       "      fill: #FFFFFF;\n",
       "    }\n",
       "  </style>\n",
       "\n",
       "    <script>\n",
       "      const buttonEl =\n",
       "        document.querySelector('#df-f622bdc5-fd19-4e43-8194-991c1544a4e9 button.colab-df-convert');\n",
       "      buttonEl.style.display =\n",
       "        google.colab.kernel.accessAllowed ? 'block' : 'none';\n",
       "\n",
       "      async function convertToInteractive(key) {\n",
       "        const element = document.querySelector('#df-f622bdc5-fd19-4e43-8194-991c1544a4e9');\n",
       "        const dataTable =\n",
       "          await google.colab.kernel.invokeFunction('convertToInteractive',\n",
       "                                                    [key], {});\n",
       "        if (!dataTable) return;\n",
       "\n",
       "        const docLinkHtml = 'Like what you see? Visit the ' +\n",
       "          '<a target=\"_blank\" href=https://colab.research.google.com/notebooks/data_table.ipynb>data table notebook</a>'\n",
       "          + ' to learn more about interactive tables.';\n",
       "        element.innerHTML = '';\n",
       "        dataTable['output_type'] = 'display_data';\n",
       "        await google.colab.output.renderOutput(dataTable, element);\n",
       "        const docLink = document.createElement('div');\n",
       "        docLink.innerHTML = docLinkHtml;\n",
       "        element.appendChild(docLink);\n",
       "      }\n",
       "    </script>\n",
       "  </div>\n",
       "\n",
       "\n",
       "<div id=\"df-bc1a10b5-a543-4534-8f31-902eb3535f96\">\n",
       "  <button class=\"colab-df-quickchart\" onclick=\"quickchart('df-bc1a10b5-a543-4534-8f31-902eb3535f96')\"\n",
       "            title=\"Suggest charts\"\n",
       "            style=\"display:none;\">\n",
       "\n",
       "<svg xmlns=\"http://www.w3.org/2000/svg\" height=\"24px\"viewBox=\"0 0 24 24\"\n",
       "     width=\"24px\">\n",
       "    <g>\n",
       "        <path d=\"M19 3H5c-1.1 0-2 .9-2 2v14c0 1.1.9 2 2 2h14c1.1 0 2-.9 2-2V5c0-1.1-.9-2-2-2zM9 17H7v-7h2v7zm4 0h-2V7h2v10zm4 0h-2v-4h2v4z\"/>\n",
       "    </g>\n",
       "</svg>\n",
       "  </button>\n",
       "\n",
       "<style>\n",
       "  .colab-df-quickchart {\n",
       "      --bg-color: #E8F0FE;\n",
       "      --fill-color: #1967D2;\n",
       "      --hover-bg-color: #E2EBFA;\n",
       "      --hover-fill-color: #174EA6;\n",
       "      --disabled-fill-color: #AAA;\n",
       "      --disabled-bg-color: #DDD;\n",
       "  }\n",
       "\n",
       "  [theme=dark] .colab-df-quickchart {\n",
       "      --bg-color: #3B4455;\n",
       "      --fill-color: #D2E3FC;\n",
       "      --hover-bg-color: #434B5C;\n",
       "      --hover-fill-color: #FFFFFF;\n",
       "      --disabled-bg-color: #3B4455;\n",
       "      --disabled-fill-color: #666;\n",
       "  }\n",
       "\n",
       "  .colab-df-quickchart {\n",
       "    background-color: var(--bg-color);\n",
       "    border: none;\n",
       "    border-radius: 50%;\n",
       "    cursor: pointer;\n",
       "    display: none;\n",
       "    fill: var(--fill-color);\n",
       "    height: 32px;\n",
       "    padding: 0;\n",
       "    width: 32px;\n",
       "  }\n",
       "\n",
       "  .colab-df-quickchart:hover {\n",
       "    background-color: var(--hover-bg-color);\n",
       "    box-shadow: 0 1px 2px rgba(60, 64, 67, 0.3), 0 1px 3px 1px rgba(60, 64, 67, 0.15);\n",
       "    fill: var(--button-hover-fill-color);\n",
       "  }\n",
       "\n",
       "  .colab-df-quickchart-complete:disabled,\n",
       "  .colab-df-quickchart-complete:disabled:hover {\n",
       "    background-color: var(--disabled-bg-color);\n",
       "    fill: var(--disabled-fill-color);\n",
       "    box-shadow: none;\n",
       "  }\n",
       "\n",
       "  .colab-df-spinner {\n",
       "    border: 2px solid var(--fill-color);\n",
       "    border-color: transparent;\n",
       "    border-bottom-color: var(--fill-color);\n",
       "    animation:\n",
       "      spin 1s steps(1) infinite;\n",
       "  }\n",
       "\n",
       "  @keyframes spin {\n",
       "    0% {\n",
       "      border-color: transparent;\n",
       "      border-bottom-color: var(--fill-color);\n",
       "      border-left-color: var(--fill-color);\n",
       "    }\n",
       "    20% {\n",
       "      border-color: transparent;\n",
       "      border-left-color: var(--fill-color);\n",
       "      border-top-color: var(--fill-color);\n",
       "    }\n",
       "    30% {\n",
       "      border-color: transparent;\n",
       "      border-left-color: var(--fill-color);\n",
       "      border-top-color: var(--fill-color);\n",
       "      border-right-color: var(--fill-color);\n",
       "    }\n",
       "    40% {\n",
       "      border-color: transparent;\n",
       "      border-right-color: var(--fill-color);\n",
       "      border-top-color: var(--fill-color);\n",
       "    }\n",
       "    60% {\n",
       "      border-color: transparent;\n",
       "      border-right-color: var(--fill-color);\n",
       "    }\n",
       "    80% {\n",
       "      border-color: transparent;\n",
       "      border-right-color: var(--fill-color);\n",
       "      border-bottom-color: var(--fill-color);\n",
       "    }\n",
       "    90% {\n",
       "      border-color: transparent;\n",
       "      border-bottom-color: var(--fill-color);\n",
       "    }\n",
       "  }\n",
       "</style>\n",
       "\n",
       "  <script>\n",
       "    async function quickchart(key) {\n",
       "      const quickchartButtonEl =\n",
       "        document.querySelector('#' + key + ' button');\n",
       "      quickchartButtonEl.disabled = true;  // To prevent multiple clicks.\n",
       "      quickchartButtonEl.classList.add('colab-df-spinner');\n",
       "      try {\n",
       "        const charts = await google.colab.kernel.invokeFunction(\n",
       "            'suggestCharts', [key], {});\n",
       "      } catch (error) {\n",
       "        console.error('Error during call to suggestCharts:', error);\n",
       "      }\n",
       "      quickchartButtonEl.classList.remove('colab-df-spinner');\n",
       "      quickchartButtonEl.classList.add('colab-df-quickchart-complete');\n",
       "    }\n",
       "    (() => {\n",
       "      let quickchartButtonEl =\n",
       "        document.querySelector('#df-bc1a10b5-a543-4534-8f31-902eb3535f96 button');\n",
       "      quickchartButtonEl.style.display =\n",
       "        google.colab.kernel.accessAllowed ? 'block' : 'none';\n",
       "    })();\n",
       "  </script>\n",
       "</div>\n",
       "\n",
       "  <div id=\"id_cf2dc67d-5506-47b2-a95b-41089e0180d7\">\n",
       "    <style>\n",
       "      .colab-df-generate {\n",
       "        background-color: #E8F0FE;\n",
       "        border: none;\n",
       "        border-radius: 50%;\n",
       "        cursor: pointer;\n",
       "        display: none;\n",
       "        fill: #1967D2;\n",
       "        height: 32px;\n",
       "        padding: 0 0 0 0;\n",
       "        width: 32px;\n",
       "      }\n",
       "\n",
       "      .colab-df-generate:hover {\n",
       "        background-color: #E2EBFA;\n",
       "        box-shadow: 0px 1px 2px rgba(60, 64, 67, 0.3), 0px 1px 3px 1px rgba(60, 64, 67, 0.15);\n",
       "        fill: #174EA6;\n",
       "      }\n",
       "\n",
       "      [theme=dark] .colab-df-generate {\n",
       "        background-color: #3B4455;\n",
       "        fill: #D2E3FC;\n",
       "      }\n",
       "\n",
       "      [theme=dark] .colab-df-generate:hover {\n",
       "        background-color: #434B5C;\n",
       "        box-shadow: 0px 1px 3px 1px rgba(0, 0, 0, 0.15);\n",
       "        filter: drop-shadow(0px 1px 2px rgba(0, 0, 0, 0.3));\n",
       "        fill: #FFFFFF;\n",
       "      }\n",
       "    </style>\n",
       "    <button class=\"colab-df-generate\" onclick=\"generateWithVariable('selected_docs')\"\n",
       "            title=\"Generate code using this dataframe.\"\n",
       "            style=\"display:none;\">\n",
       "\n",
       "  <svg xmlns=\"http://www.w3.org/2000/svg\" height=\"24px\"viewBox=\"0 0 24 24\"\n",
       "       width=\"24px\">\n",
       "    <path d=\"M7,19H8.4L18.45,9,17,7.55,7,17.6ZM5,21V16.75L18.45,3.32a2,2,0,0,1,2.83,0l1.4,1.43a1.91,1.91,0,0,1,.58,1.4,1.91,1.91,0,0,1-.58,1.4L9.25,21ZM18.45,9,17,7.55Zm-12,3A5.31,5.31,0,0,0,4.9,8.1,5.31,5.31,0,0,0,1,6.5,5.31,5.31,0,0,0,4.9,4.9,5.31,5.31,0,0,0,6.5,1,5.31,5.31,0,0,0,8.1,4.9,5.31,5.31,0,0,0,12,6.5,5.46,5.46,0,0,0,6.5,12Z\"/>\n",
       "  </svg>\n",
       "    </button>\n",
       "    <script>\n",
       "      (() => {\n",
       "      const buttonEl =\n",
       "        document.querySelector('#id_cf2dc67d-5506-47b2-a95b-41089e0180d7 button.colab-df-generate');\n",
       "      buttonEl.style.display =\n",
       "        google.colab.kernel.accessAllowed ? 'block' : 'none';\n",
       "\n",
       "      buttonEl.onclick = () => {\n",
       "        google.colab.notebook.generateWithVariable('selected_docs');\n",
       "      }\n",
       "      })();\n",
       "    </script>\n",
       "  </div>\n",
       "\n",
       "    </div>\n",
       "  </div>\n"
      ],
      "text/plain": [
       "                                               review  \\\n",
       "0    The location and underground car parking make...   \n",
       "1    The location of the hotel was good as it was ...   \n",
       "2    Location for gig in Wembley Reception staff B...   \n",
       "3    One of the nearest hotels from Milan central ...   \n",
       "4    Everything you would expect from a premium ho...   \n",
       "..                                                ...   \n",
       "72   there was nothing postive about my overall ex...   \n",
       "73   Quite pricey but you can get deals to bring i...   \n",
       "74  The Momo restaurant wasn t our style of food a...   \n",
       "75  The rooms are adequate and comfortable althoug...   \n",
       "76  We made a point of letting the hotel know at t...   \n",
       "\n",
       "    85 Percentile Top Topics  \\\n",
       "0                        NaN   \n",
       "1                        NaN   \n",
       "2                        NaN   \n",
       "3                        NaN   \n",
       "4                        NaN   \n",
       "..                       ...   \n",
       "72                       NaN   \n",
       "73                       NaN   \n",
       "74                       NaN   \n",
       "75                       NaN   \n",
       "76                       NaN   \n",
       "\n",
       "                            90 Percentile Top topics sentiment_label  \\\n",
       "0    {0: 0.1789759908904629, 5: 0.14402822668851814}        Positive   \n",
       "1     {0: 0.4493866679057899, 2: 0.0603928740775705}        Positive   \n",
       "2    {0: 0.5594497733631916, 2: 0.06581788267606746}        Positive   \n",
       "3      {0: 0.5679741416023724, 2: 0.124614678393076}        Positive   \n",
       "4   {0: 0.2613933549098866, 2: 0.051762169642526605}        Positive   \n",
       "..                                               ...             ...   \n",
       "72  {7: 0.29867120346508347, 0: 0.13511251891669787}        Negative   \n",
       "73               {18: 1.0, 2: 8.86469568675485e-307}        Negative   \n",
       "74                                               NaN        Negative   \n",
       "75                                               NaN        Negative   \n",
       "76                                               NaN        Negative   \n",
       "\n",
       "                                sentiment_class_probs  \\\n",
       "0     {'positive': 0.9309498, 'negative': 0.06905022}   \n",
       "1   {'positive': 0.94891834, 'negative': 0.051081628}   \n",
       "2   {'positive': 0.98738146, 'negative': 0.012618622}   \n",
       "3     {'negative': 0.7366869, 'positive': 0.26331306}   \n",
       "4    {'positive': 0.9904136, 'negative': 0.009586422}   \n",
       "..                                                ...   \n",
       "72    {'negative': 0.5910264, 'positive': 0.40897354}   \n",
       "73  {'negative': 0.99002993, 'positive': 0.009970014}   \n",
       "74   {'negative': 0.97437966, 'positive': 0.02562039}   \n",
       "75    {'negative': 0.7577919, 'positive': 0.24220818}   \n",
       "76     {'negative': 0.6300421, 'positive': 0.3699579}   \n",
       "\n",
       "                     lime_word_attributions_sentiment       emotion  \\\n",
       "0   [('location', 0.4233608630390651), ('best', 0....  anticipation   \n",
       "1   [('location', 0.23812806200210543), ('good', 0...  anticipation   \n",
       "2   [('Location', 0.15299046214668335), ('Wembley'...  anticipation   \n",
       "3   [('nearest', -0.10735253551970868), ('central'...  anticipation   \n",
       "4   [('Everything', 0.150655592511471), ('location...  anticipation   \n",
       "..                                                ...           ...   \n",
       "72  [('nothing', -0.48040598227908987), ('experinc...  anticipation   \n",
       "73  [('pricey', -0.010290276120461713), ('expensiv...  anticipation   \n",
       "74  [('restaurant', -0.18620244412016007), ('wasn'...           joy   \n",
       "75  [('comfortable', 0.3074051651136775), ('are', ...      optimism   \n",
       "76  [('Thank', 0.17946112076116993), ('disappointe...           joy   \n",
       "\n",
       "                          emotion_class_probabilities  \\\n",
       "0   {'anticipation': 0.6500486731529236, 'optimism...   \n",
       "1   {'anticipation': 0.7445889115333557, 'optimism...   \n",
       "2   {'anticipation': 0.282431036233902, 'joy': 0.0...   \n",
       "3   {'anticipation': 0.8140031099319458, 'joy': 0....   \n",
       "4   {'anticipation': 0.46023547649383545, 'surpris...   \n",
       "..                                                ...   \n",
       "72  {'anticipation': 0.6822406053543091, 'disgust'...   \n",
       "73  {'anticipation': 0.3480011522769928, 'disgust'...   \n",
       "74  {'joy': 0.44104430079460144, 'anticipation': 0...   \n",
       "75  {'optimism': 0.7842380404472351, 'anticipation...   \n",
       "76  {'joy': 0.896217942237854, 'optimism': 0.79970...   \n",
       "\n",
       "           lime_word_attributions_first_class_emotion  \\\n",
       "0   [('location', 0.15139065931671647), ('choice',...   \n",
       "1   [('location', 0.22970551736965114), ('was', 0....   \n",
       "2   [('Bathrooms', -0.17318495697712116), ('gig', ...   \n",
       "3   [('hotels', 0.15988530146618965), ('until', 0....   \n",
       "4   [('expect', 0.20729204215187094), ('Everything...   \n",
       "..                                                ...   \n",
       "72  [('was', 0.16527560847501604), ('Brittania', 0...   \n",
       "73  [('there', 0.11303232421119962), ('machine', -...   \n",
       "74  [('wasn', -0.25013182204193335), ('modern', 0....   \n",
       "75  [('plan', 0.22556374383566058), ('Think', 0.20...   \n",
       "76  [('nicer', 0.21941596893713897), ('Thank', 0.1...   \n",
       "\n",
       "          lime_word_attributions_second_class_emotion  \\\n",
       "0   [('best', 0.4777543402516913), ('this', 0.1253...   \n",
       "1   [('good', 0.46188428992096686), ('in', -0.0716...   \n",
       "2   [('staff', -0.12855298146193783), ('Bathrooms'...   \n",
       "3   [('hotels', 0.06139693728173337), ('until', -0...   \n",
       "4   [('hotel', 0.07499330051934167), ('expect', 0....   \n",
       "..                                                ...   \n",
       "72  [('experince', 0.22232705881773515), ('nothing...   \n",
       "73  [('but', -0.12793304926719987), ('there', -0.1...   \n",
       "74  [('food', -0.06315300920127138), ('restaurant'...   \n",
       "75  [('plan', 0.11160354840017254), ('are', 0.0741...   \n",
       "76  [('nicer', 0.21436189710325287), ('not', 0.154...   \n",
       "\n",
       "           lime_word_attributions_third_class_emotion  \n",
       "0   [('best', 0.3658510491281746), ('this', 0.1405...  \n",
       "1   [('good', 0.32220245043757545), ('of', -0.1557...  \n",
       "2   [('Bathrooms', 0.09989225437307823), ('gig', -...  \n",
       "3   [('until', 0.041524270897343986), ('noon', -0....  \n",
       "4   [('premium', 0.2048197623155256), ('you', -0.1...  \n",
       "..                                                ...  \n",
       "72  [('experince', 0.1769966044444874), ('postive'...  \n",
       "73  [('but', -0.1357728282364593), ('Mini', -0.132...  \n",
       "74  [('busy', 0.10756856520703792), ('style', -0.0...  \n",
       "75  [('comfortable', 0.2530432062866484), ('not', ...  \n",
       "76  [('disappointed', 0.20951808138408445), ('find...  \n",
       "\n",
       "[77 rows x 11 columns]"
      ]
     },
     "execution_count": 10,
     "metadata": {},
     "output_type": "execute_result"
    }
   ],
   "source": [
    "selected_docs"
   ]
  },
  {
   "cell_type": "code",
   "execution_count": null,
   "metadata": {
    "colab": {
     "base_uri": "https://localhost:8080/",
     "height": 35
    },
    "executionInfo": {
     "elapsed": 5,
     "status": "ok",
     "timestamp": 1741286918444,
     "user": {
      "displayName": "Sule Ozturk",
      "userId": "14268268360802730607"
     },
     "user_tz": -180
    },
    "id": "PzWe7yic929O",
    "outputId": "6c146a29-29ba-4341-b265-a659f74dd918"
   },
   "outputs": [
    {
     "data": {
      "application/vnd.google.colaboratory.intrinsic+json": {
       "type": "string"
      },
      "text/plain": [
       "' The location and underground car parking make this a best choice for travellers by car wishing to stay in central London '"
      ]
     },
     "execution_count": 12,
     "metadata": {},
     "output_type": "execute_result"
    }
   ],
   "source": [
    "example = selected_docs.review[0]\n",
    "# example = \"I like the staff, breakfast and the location\"\n",
    "example"
   ]
  },
  {
   "cell_type": "code",
   "execution_count": null,
   "metadata": {
    "id": "FbQtg7XgxfGg"
   },
   "outputs": [],
   "source": [
    "#load the data used for topic modeling\n",
    "\n",
    "df = pd.read_csv(pathdata + \"hotel_revs_topic_model.csv\")"
   ]
  },
  {
   "cell_type": "code",
   "execution_count": null,
   "metadata": {
    "colab": {
     "base_uri": "https://localhost:8080/",
     "height": 206
    },
    "executionInfo": {
     "elapsed": 133,
     "status": "ok",
     "timestamp": 1741286919605,
     "user": {
      "displayName": "Sule Ozturk",
      "userId": "14268268360802730607"
     },
     "user_tz": -180
    },
    "id": "FOGvuiJlyFID",
    "outputId": "6145e49f-4a52-4ce1-edb0-dcca66262356"
   },
   "outputs": [
    {
     "data": {
      "application/vnd.google.colaboratory.intrinsic+json": {
       "summary": "{\n  \"name\": \"df\",\n  \"rows\": 45850,\n  \"fields\": [\n    {\n      \"column\": \"review\",\n      \"properties\": {\n        \"dtype\": \"string\",\n        \"num_unique_values\": 44284,\n        \"samples\": [\n          \" Location just walking distance to Rambla St\",\n          \" Being near to the train station Staff were friendly and informative Room was of average size comparing to Vienna As it was our anniversary the hotel showed a nice gesture by placing a free bottle of Champaign although we don t consume alcohol but it was a nice thing of them \",\n          \" Rooms a little too warm air conditioning noisy\"\n        ],\n        \"semantic_type\": \"\",\n        \"description\": \"\"\n      }\n    },\n    {\n      \"column\": \"polarity\",\n      \"properties\": {\n        \"dtype\": \"category\",\n        \"num_unique_values\": 2,\n        \"samples\": [\n          \"Positive\",\n          \"Negative\"\n        ],\n        \"semantic_type\": \"\",\n        \"description\": \"\"\n      }\n    },\n    {\n      \"column\": \"massimo\",\n      \"properties\": {\n        \"dtype\": \"category\",\n        \"num_unique_values\": 10,\n        \"samples\": [\n          \"joy\",\n          \"fear\"\n        ],\n        \"semantic_type\": \"\",\n        \"description\": \"\"\n      }\n    },\n    {\n      \"column\": \"text\",\n      \"properties\": {\n        \"dtype\": \"string\",\n        \"num_unique_values\": 42305,\n        \"samples\": [\n          \"staff sky lounge could interested approach service sat mins waiting order drinks leaving going stairs\",\n          \"room smokers provide plug adaptor stock vending machine sells plugger cost\"\n        ],\n        \"semantic_type\": \"\",\n        \"description\": \"\"\n      }\n    }\n  ]\n}",
       "type": "dataframe",
       "variable_name": "df"
      },
      "text/html": [
       "\n",
       "  <div id=\"df-46bce8cc-07e6-4940-a565-c7007af93599\" class=\"colab-df-container\">\n",
       "    <div>\n",
       "<style scoped>\n",
       "    .dataframe tbody tr th:only-of-type {\n",
       "        vertical-align: middle;\n",
       "    }\n",
       "\n",
       "    .dataframe tbody tr th {\n",
       "        vertical-align: top;\n",
       "    }\n",
       "\n",
       "    .dataframe thead th {\n",
       "        text-align: right;\n",
       "    }\n",
       "</style>\n",
       "<table border=\"1\" class=\"dataframe\">\n",
       "  <thead>\n",
       "    <tr style=\"text-align: right;\">\n",
       "      <th></th>\n",
       "      <th>review</th>\n",
       "      <th>polarity</th>\n",
       "      <th>massimo</th>\n",
       "      <th>text</th>\n",
       "    </tr>\n",
       "  </thead>\n",
       "  <tbody>\n",
       "    <tr>\n",
       "      <th>0</th>\n",
       "      <td>Room might feel a bit small over a longer sta...</td>\n",
       "      <td>Negative</td>\n",
       "      <td>negative</td>\n",
       "      <td>room might feel bit small longer stay toilet s...</td>\n",
       "    </tr>\n",
       "    <tr>\n",
       "      <th>1</th>\n",
       "      <td>Bad location difficult to reach</td>\n",
       "      <td>Negative</td>\n",
       "      <td>fear</td>\n",
       "      <td>bad location difficult reach</td>\n",
       "    </tr>\n",
       "    <tr>\n",
       "      <th>2</th>\n",
       "      <td>Bedroom not clean rubbish still in the bin em...</td>\n",
       "      <td>Negative</td>\n",
       "      <td>negative</td>\n",
       "      <td>bedroom clean rubbish still bin empty shampoo ...</td>\n",
       "    </tr>\n",
       "    <tr>\n",
       "      <th>3</th>\n",
       "      <td>I asked for a double bed and hot 2 singles pu...</td>\n",
       "      <td>Negative</td>\n",
       "      <td>anger</td>\n",
       "      <td>asked double bed hot singles pushed together a...</td>\n",
       "    </tr>\n",
       "    <tr>\n",
       "      <th>4</th>\n",
       "      <td>That guys are terrible Stuff is really greedy...</td>\n",
       "      <td>Negative</td>\n",
       "      <td>trust</td>\n",
       "      <td>guys terrible stuff really greedy poor beginin...</td>\n",
       "    </tr>\n",
       "  </tbody>\n",
       "</table>\n",
       "</div>\n",
       "    <div class=\"colab-df-buttons\">\n",
       "\n",
       "  <div class=\"colab-df-container\">\n",
       "    <button class=\"colab-df-convert\" onclick=\"convertToInteractive('df-46bce8cc-07e6-4940-a565-c7007af93599')\"\n",
       "            title=\"Convert this dataframe to an interactive table.\"\n",
       "            style=\"display:none;\">\n",
       "\n",
       "  <svg xmlns=\"http://www.w3.org/2000/svg\" height=\"24px\" viewBox=\"0 -960 960 960\">\n",
       "    <path d=\"M120-120v-720h720v720H120Zm60-500h600v-160H180v160Zm220 220h160v-160H400v160Zm0 220h160v-160H400v160ZM180-400h160v-160H180v160Zm440 0h160v-160H620v160ZM180-180h160v-160H180v160Zm440 0h160v-160H620v160Z\"/>\n",
       "  </svg>\n",
       "    </button>\n",
       "\n",
       "  <style>\n",
       "    .colab-df-container {\n",
       "      display:flex;\n",
       "      gap: 12px;\n",
       "    }\n",
       "\n",
       "    .colab-df-convert {\n",
       "      background-color: #E8F0FE;\n",
       "      border: none;\n",
       "      border-radius: 50%;\n",
       "      cursor: pointer;\n",
       "      display: none;\n",
       "      fill: #1967D2;\n",
       "      height: 32px;\n",
       "      padding: 0 0 0 0;\n",
       "      width: 32px;\n",
       "    }\n",
       "\n",
       "    .colab-df-convert:hover {\n",
       "      background-color: #E2EBFA;\n",
       "      box-shadow: 0px 1px 2px rgba(60, 64, 67, 0.3), 0px 1px 3px 1px rgba(60, 64, 67, 0.15);\n",
       "      fill: #174EA6;\n",
       "    }\n",
       "\n",
       "    .colab-df-buttons div {\n",
       "      margin-bottom: 4px;\n",
       "    }\n",
       "\n",
       "    [theme=dark] .colab-df-convert {\n",
       "      background-color: #3B4455;\n",
       "      fill: #D2E3FC;\n",
       "    }\n",
       "\n",
       "    [theme=dark] .colab-df-convert:hover {\n",
       "      background-color: #434B5C;\n",
       "      box-shadow: 0px 1px 3px 1px rgba(0, 0, 0, 0.15);\n",
       "      filter: drop-shadow(0px 1px 2px rgba(0, 0, 0, 0.3));\n",
       "      fill: #FFFFFF;\n",
       "    }\n",
       "  </style>\n",
       "\n",
       "    <script>\n",
       "      const buttonEl =\n",
       "        document.querySelector('#df-46bce8cc-07e6-4940-a565-c7007af93599 button.colab-df-convert');\n",
       "      buttonEl.style.display =\n",
       "        google.colab.kernel.accessAllowed ? 'block' : 'none';\n",
       "\n",
       "      async function convertToInteractive(key) {\n",
       "        const element = document.querySelector('#df-46bce8cc-07e6-4940-a565-c7007af93599');\n",
       "        const dataTable =\n",
       "          await google.colab.kernel.invokeFunction('convertToInteractive',\n",
       "                                                    [key], {});\n",
       "        if (!dataTable) return;\n",
       "\n",
       "        const docLinkHtml = 'Like what you see? Visit the ' +\n",
       "          '<a target=\"_blank\" href=https://colab.research.google.com/notebooks/data_table.ipynb>data table notebook</a>'\n",
       "          + ' to learn more about interactive tables.';\n",
       "        element.innerHTML = '';\n",
       "        dataTable['output_type'] = 'display_data';\n",
       "        await google.colab.output.renderOutput(dataTable, element);\n",
       "        const docLink = document.createElement('div');\n",
       "        docLink.innerHTML = docLinkHtml;\n",
       "        element.appendChild(docLink);\n",
       "      }\n",
       "    </script>\n",
       "  </div>\n",
       "\n",
       "\n",
       "<div id=\"df-a4d37631-0b0c-43d2-be1a-d3ce6560d999\">\n",
       "  <button class=\"colab-df-quickchart\" onclick=\"quickchart('df-a4d37631-0b0c-43d2-be1a-d3ce6560d999')\"\n",
       "            title=\"Suggest charts\"\n",
       "            style=\"display:none;\">\n",
       "\n",
       "<svg xmlns=\"http://www.w3.org/2000/svg\" height=\"24px\"viewBox=\"0 0 24 24\"\n",
       "     width=\"24px\">\n",
       "    <g>\n",
       "        <path d=\"M19 3H5c-1.1 0-2 .9-2 2v14c0 1.1.9 2 2 2h14c1.1 0 2-.9 2-2V5c0-1.1-.9-2-2-2zM9 17H7v-7h2v7zm4 0h-2V7h2v10zm4 0h-2v-4h2v4z\"/>\n",
       "    </g>\n",
       "</svg>\n",
       "  </button>\n",
       "\n",
       "<style>\n",
       "  .colab-df-quickchart {\n",
       "      --bg-color: #E8F0FE;\n",
       "      --fill-color: #1967D2;\n",
       "      --hover-bg-color: #E2EBFA;\n",
       "      --hover-fill-color: #174EA6;\n",
       "      --disabled-fill-color: #AAA;\n",
       "      --disabled-bg-color: #DDD;\n",
       "  }\n",
       "\n",
       "  [theme=dark] .colab-df-quickchart {\n",
       "      --bg-color: #3B4455;\n",
       "      --fill-color: #D2E3FC;\n",
       "      --hover-bg-color: #434B5C;\n",
       "      --hover-fill-color: #FFFFFF;\n",
       "      --disabled-bg-color: #3B4455;\n",
       "      --disabled-fill-color: #666;\n",
       "  }\n",
       "\n",
       "  .colab-df-quickchart {\n",
       "    background-color: var(--bg-color);\n",
       "    border: none;\n",
       "    border-radius: 50%;\n",
       "    cursor: pointer;\n",
       "    display: none;\n",
       "    fill: var(--fill-color);\n",
       "    height: 32px;\n",
       "    padding: 0;\n",
       "    width: 32px;\n",
       "  }\n",
       "\n",
       "  .colab-df-quickchart:hover {\n",
       "    background-color: var(--hover-bg-color);\n",
       "    box-shadow: 0 1px 2px rgba(60, 64, 67, 0.3), 0 1px 3px 1px rgba(60, 64, 67, 0.15);\n",
       "    fill: var(--button-hover-fill-color);\n",
       "  }\n",
       "\n",
       "  .colab-df-quickchart-complete:disabled,\n",
       "  .colab-df-quickchart-complete:disabled:hover {\n",
       "    background-color: var(--disabled-bg-color);\n",
       "    fill: var(--disabled-fill-color);\n",
       "    box-shadow: none;\n",
       "  }\n",
       "\n",
       "  .colab-df-spinner {\n",
       "    border: 2px solid var(--fill-color);\n",
       "    border-color: transparent;\n",
       "    border-bottom-color: var(--fill-color);\n",
       "    animation:\n",
       "      spin 1s steps(1) infinite;\n",
       "  }\n",
       "\n",
       "  @keyframes spin {\n",
       "    0% {\n",
       "      border-color: transparent;\n",
       "      border-bottom-color: var(--fill-color);\n",
       "      border-left-color: var(--fill-color);\n",
       "    }\n",
       "    20% {\n",
       "      border-color: transparent;\n",
       "      border-left-color: var(--fill-color);\n",
       "      border-top-color: var(--fill-color);\n",
       "    }\n",
       "    30% {\n",
       "      border-color: transparent;\n",
       "      border-left-color: var(--fill-color);\n",
       "      border-top-color: var(--fill-color);\n",
       "      border-right-color: var(--fill-color);\n",
       "    }\n",
       "    40% {\n",
       "      border-color: transparent;\n",
       "      border-right-color: var(--fill-color);\n",
       "      border-top-color: var(--fill-color);\n",
       "    }\n",
       "    60% {\n",
       "      border-color: transparent;\n",
       "      border-right-color: var(--fill-color);\n",
       "    }\n",
       "    80% {\n",
       "      border-color: transparent;\n",
       "      border-right-color: var(--fill-color);\n",
       "      border-bottom-color: var(--fill-color);\n",
       "    }\n",
       "    90% {\n",
       "      border-color: transparent;\n",
       "      border-bottom-color: var(--fill-color);\n",
       "    }\n",
       "  }\n",
       "</style>\n",
       "\n",
       "  <script>\n",
       "    async function quickchart(key) {\n",
       "      const quickchartButtonEl =\n",
       "        document.querySelector('#' + key + ' button');\n",
       "      quickchartButtonEl.disabled = true;  // To prevent multiple clicks.\n",
       "      quickchartButtonEl.classList.add('colab-df-spinner');\n",
       "      try {\n",
       "        const charts = await google.colab.kernel.invokeFunction(\n",
       "            'suggestCharts', [key], {});\n",
       "      } catch (error) {\n",
       "        console.error('Error during call to suggestCharts:', error);\n",
       "      }\n",
       "      quickchartButtonEl.classList.remove('colab-df-spinner');\n",
       "      quickchartButtonEl.classList.add('colab-df-quickchart-complete');\n",
       "    }\n",
       "    (() => {\n",
       "      let quickchartButtonEl =\n",
       "        document.querySelector('#df-a4d37631-0b0c-43d2-be1a-d3ce6560d999 button');\n",
       "      quickchartButtonEl.style.display =\n",
       "        google.colab.kernel.accessAllowed ? 'block' : 'none';\n",
       "    })();\n",
       "  </script>\n",
       "</div>\n",
       "\n",
       "    </div>\n",
       "  </div>\n"
      ],
      "text/plain": [
       "                                              review  polarity   massimo  \\\n",
       "0   Room might feel a bit small over a longer sta...  Negative  negative   \n",
       "1                    Bad location difficult to reach  Negative      fear   \n",
       "2   Bedroom not clean rubbish still in the bin em...  Negative  negative   \n",
       "3   I asked for a double bed and hot 2 singles pu...  Negative     anger   \n",
       "4   That guys are terrible Stuff is really greedy...  Negative     trust   \n",
       "\n",
       "                                                text  \n",
       "0  room might feel bit small longer stay toilet s...  \n",
       "1                       bad location difficult reach  \n",
       "2  bedroom clean rubbish still bin empty shampoo ...  \n",
       "3  asked double bed hot singles pushed together a...  \n",
       "4  guys terrible stuff really greedy poor beginin...  "
      ]
     },
     "execution_count": 14,
     "metadata": {},
     "output_type": "execute_result"
    }
   ],
   "source": [
    "df.head()"
   ]
  },
  {
   "cell_type": "code",
   "execution_count": null,
   "metadata": {
    "id": "9lWF6DIwxwhX"
   },
   "outputs": [],
   "source": [
    "probs = topic_model.probabilities_\n",
    "topics= topic_model.topics_"
   ]
  },
  {
   "cell_type": "code",
   "execution_count": null,
   "metadata": {
    "colab": {
     "base_uri": "https://localhost:8080/"
    },
    "executionInfo": {
     "elapsed": 17,
     "status": "ok",
     "timestamp": 1741286923041,
     "user": {
      "displayName": "Sule Ozturk",
      "userId": "14268268360802730607"
     },
     "user_tz": -180
    },
    "id": "I55ZRqJvxyei",
    "outputId": "41239241-85ac-4478-ad81-00313f14867b"
   },
   "outputs": [
    {
     "data": {
      "text/plain": [
       "array([0.17897599, 0.01301584, 0.05949355, 0.01293513, 0.00604606,\n",
       "       0.14402823, 0.00801215, 0.00337745, 0.0102286 , 0.01132779,\n",
       "       0.02826877, 0.00499129, 0.00638852, 0.00611767, 0.01853581,\n",
       "       0.00647934, 0.00623311, 0.01043192, 0.00848897])"
      ]
     },
     "execution_count": 16,
     "metadata": {},
     "output_type": "execute_result"
    }
   ],
   "source": [
    "index = df[df[\"review\"]==example].index[0]\n",
    "prob_example = probs[index]\n",
    "prob_example"
   ]
  },
  {
   "cell_type": "code",
   "execution_count": null,
   "metadata": {
    "colab": {
     "base_uri": "https://localhost:8080/"
    },
    "executionInfo": {
     "elapsed": 6,
     "status": "ok",
     "timestamp": 1741286923926,
     "user": {
      "displayName": "Sule Ozturk",
      "userId": "14268268360802730607"
     },
     "user_tz": -180
    },
    "id": "wCsTKX-5x3TN",
    "outputId": "e77d870e-6345-4251-e84f-f48c86450f9e"
   },
   "outputs": [
    {
     "data": {
      "text/plain": [
       "5"
      ]
     },
     "execution_count": 17,
     "metadata": {},
     "output_type": "execute_result"
    }
   ],
   "source": [
    "index = df[df[\"review\"]==example].index[0]\n",
    "topic_example = topics[index]\n",
    "topic_example"
   ]
  },
  {
   "cell_type": "code",
   "execution_count": null,
   "metadata": {
    "id": "FskkrACO-CHh"
   },
   "outputs": [],
   "source": [
    "# 1. calculate topic probabilities of given review with initial probabilities\n",
    "# this function will be used to create topic distributions for each review and later be used in identifying cutoff for the top topics\n",
    "\n",
    "def create_doc_probs_initial(df, review, topic_model):\n",
    "    index = df[df[\"review\"].apply(lambda x: x.strip())==review.strip()].index[0]\n",
    "    probs = topic_model.probabilities_\n",
    "    probs_example = probs[index]\n",
    "\n",
    "    # Sort the list in descending order and get the sorted indices\n",
    "    sorted_indices = sorted(range(len(probs_example)), key=lambda i: probs_example[i], reverse=True)\n",
    "\n",
    "    # Create a dictionary with indices as keys and sorted values as values\n",
    "    sorted_dict = {index: probs_example[index] for index in sorted_indices}\n",
    "\n",
    "    return sorted_dict"
   ]
  },
  {
   "cell_type": "code",
   "execution_count": null,
   "metadata": {
    "colab": {
     "base_uri": "https://localhost:8080/"
    },
    "executionInfo": {
     "elapsed": 18,
     "status": "ok",
     "timestamp": 1741286926103,
     "user": {
      "displayName": "Sule Ozturk",
      "userId": "14268268360802730607"
     },
     "user_tz": -180
    },
    "id": "hSlcc3xf-LcS",
    "outputId": "0e1f69db-a63f-4bdc-8cb8-c0205e9a7692"
   },
   "outputs": [
    {
     "data": {
      "text/plain": [
       "{0: 0.1789759908904629,\n",
       " 5: 0.14402822668851814,\n",
       " 2: 0.05949354865551057,\n",
       " 10: 0.02826876591943912,\n",
       " 14: 0.018535806139758616,\n",
       " 1: 0.013015836310881448,\n",
       " 3: 0.01293512503552239,\n",
       " 9: 0.01132779495445969,\n",
       " 17: 0.010431919280907581,\n",
       " 8: 0.0102285985602034,\n",
       " 18: 0.008488967005552371,\n",
       " 6: 0.008012151962583232,\n",
       " 15: 0.006479338404377928,\n",
       " 12: 0.006388523804252267,\n",
       " 16: 0.006233105727893861,\n",
       " 13: 0.006117665329129152,\n",
       " 4: 0.006046064564806811,\n",
       " 11: 0.004991290074687692,\n",
       " 7: 0.003377445623126789}"
      ]
     },
     "execution_count": 19,
     "metadata": {},
     "output_type": "execute_result"
    }
   ],
   "source": [
    "create_doc_probs_initial(df, example, topic_model)"
   ]
  },
  {
   "cell_type": "code",
   "execution_count": null,
   "metadata": {
    "id": "qcBD8CQk-QDR"
   },
   "outputs": [],
   "source": [
    "### 1. Coverage for top topics"
   ]
  },
  {
   "cell_type": "code",
   "execution_count": null,
   "metadata": {
    "colab": {
     "base_uri": "https://localhost:8080/"
    },
    "executionInfo": {
     "elapsed": 6,
     "status": "ok",
     "timestamp": 1741289366901,
     "user": {
      "displayName": "Sule Ozturk",
      "userId": "14268268360802730607"
     },
     "user_tz": -180
    },
    "id": "dgLYrHw3-k7b",
    "outputId": "0c6f1e7f-b6e0-400e-a53b-7dd4e192ed49"
   },
   "outputs": [
    {
     "name": "stdout",
     "output_type": "stream",
     "text": [
      "Top topics (90th percentile): {0: 0.1789759908904629, 5: 0.14402822668851814}\n"
     ]
    }
   ],
   "source": [
    "# percentile cutoff with normalized: top selected percentage will be taken\n",
    "#get probabilities of each topic for a document\n",
    "\n",
    "probs_dict = create_doc_probs_initial(df, example, topic_model)\n",
    "\n",
    "def percentile_cutoff_nor(topic_probs, percentile):\n",
    "    value_sum = sum(topic_probs.values())  # Calculate the sum of all values\n",
    "    # Normalize each value\n",
    "    normalized_dict = {key: value / value_sum for key, value in topic_probs.items()}\n",
    "    weights = list(normalized_dict.values())\n",
    "\n",
    "    cutoff = np.percentile(weights, percentile)\n",
    "    top_topics = {word: weight for word, weight in topic_probs.items() if weight > cutoff}\n",
    "    return top_topics\n",
    "\n",
    "# Example\n",
    "percentile = 90\n",
    "top_topics= percentile_cutoff_nor(probs_dict, percentile)\n",
    "print(f\"Top topics ({percentile}th percentile):\", top_topics)"
   ]
  },
  {
   "cell_type": "code",
   "execution_count": null,
   "metadata": {
    "colab": {
     "base_uri": "https://localhost:8080/"
    },
    "executionInfo": {
     "elapsed": 28,
     "status": "ok",
     "timestamp": 1741289367900,
     "user": {
      "displayName": "Sule Ozturk",
      "userId": "14268268360802730607"
     },
     "user_tz": -180
    },
    "id": "3dDjsRroKErD",
    "outputId": "0c0f8014-b7a6-46c8-81d6-dc1f72747e6e"
   },
   "outputs": [
    {
     "name": "stdout",
     "output_type": "stream",
     "text": [
      "Top topics (90th percentile): {0: 0.1789759908904629, 5: 0.14402822668851814}\n"
     ]
    }
   ],
   "source": [
    "# percentile cutoff: top selected percentage will be taken\n",
    "#get probabilities of each topic for a document\n",
    "\n",
    "probs_dict = create_doc_probs_initial(df, example, topic_model)\n",
    "\n",
    "def percentile_cutoff(topic_probs, percentile):\n",
    "    weights = np.array(list(topic_probs.values()))\n",
    "    cutoff = np.percentile(weights, percentile)\n",
    "    top_topics = {word: weight for word, weight in topic_probs.items() if weight > cutoff}\n",
    "    return top_topics\n",
    "\n",
    "# Example\n",
    "\n",
    "top_topics= percentile_cutoff(probs_dict, 90)\n",
    "print(\"Top topics (90th percentile):\", top_topics)"
   ]
  },
  {
   "cell_type": "code",
   "execution_count": null,
   "metadata": {
    "id": "_x5T_PbbKjiI"
   },
   "outputs": [],
   "source": []
  },
  {
   "cell_type": "code",
   "execution_count": null,
   "metadata": {
    "id": "ySGMhOIvLdt3"
   },
   "outputs": [],
   "source": [
    "# a cutoff point based on normalized probabilies\n",
    "\n",
    "def value_cutoff(topic_probs, cutoff_value):\n",
    "    value_sum = sum(topic_probs.values())  # Calculate the sum of all values\n",
    "    # Normalize each value\n",
    "    normalized_dict = {key: value / value_sum for key, value in topic_probs.items()}\n",
    "    top_topics = {key: topic_probs[key] for key, value in normalized_dict.items() if value > cutoff_value}\n",
    "\n",
    "    return top_topics"
   ]
  },
  {
   "cell_type": "code",
   "execution_count": null,
   "metadata": {
    "colab": {
     "base_uri": "https://localhost:8080/"
    },
    "executionInfo": {
     "elapsed": 4,
     "status": "ok",
     "timestamp": 1741289370924,
     "user": {
      "displayName": "Sule Ozturk",
      "userId": "14268268360802730607"
     },
     "user_tz": -180
    },
    "id": "msaoI2WzMkXD",
    "outputId": "383d828c-189a-4d0c-fc0e-6aab65f2a93d"
   },
   "outputs": [
    {
     "data": {
      "text/plain": [
       "{0: 0.1789759908904629, 5: 0.14402822668851814, 2: 0.05949354865551057}"
      ]
     },
     "execution_count": 24,
     "metadata": {},
     "output_type": "execute_result"
    }
   ],
   "source": [
    "value_cutoff(probs_dict, 0.1)"
   ]
  },
  {
   "cell_type": "code",
   "execution_count": null,
   "metadata": {
    "colab": {
     "base_uri": "https://localhost:8080/"
    },
    "executionInfo": {
     "elapsed": 13,
     "status": "ok",
     "timestamp": 1741289371476,
     "user": {
      "displayName": "Sule Ozturk",
      "userId": "14268268360802730607"
     },
     "user_tz": -180
    },
    "id": "pPpKLkoGkDUX",
    "outputId": "8909e60f-a011-424a-c622-5aa5c824a42d"
   },
   "outputs": [
    {
     "data": {
      "text/plain": [
       "{0: 0.1789759908904629,\n",
       " 5: 0.14402822668851814,\n",
       " 2: 0.05949354865551057,\n",
       " 10: 0.02826876591943912}"
      ]
     },
     "execution_count": 25,
     "metadata": {},
     "output_type": "execute_result"
    }
   ],
   "source": [
    "value_cutoff(probs_dict, 0.05)"
   ]
  },
  {
   "cell_type": "code",
   "execution_count": null,
   "metadata": {
    "colab": {
     "base_uri": "https://localhost:8080/"
    },
    "executionInfo": {
     "elapsed": 11,
     "status": "ok",
     "timestamp": 1741289371936,
     "user": {
      "displayName": "Sule Ozturk",
      "userId": "14268268360802730607"
     },
     "user_tz": -180
    },
    "id": "dQKNfTiylDSZ",
    "outputId": "3aa504a9-1421-4fcd-9102-a1aa74861f03"
   },
   "outputs": [
    {
     "data": {
      "text/plain": [
       "{0: 0.1789759908904629, 5: 0.14402822668851814}"
      ]
     },
     "execution_count": 26,
     "metadata": {},
     "output_type": "execute_result"
    }
   ],
   "source": [
    "percentile_cutoff(probs_dict, 90)"
   ]
  },
  {
   "cell_type": "code",
   "execution_count": null,
   "metadata": {
    "colab": {
     "base_uri": "https://localhost:8080/"
    },
    "executionInfo": {
     "elapsed": 5,
     "status": "ok",
     "timestamp": 1741289372404,
     "user": {
      "displayName": "Sule Ozturk",
      "userId": "14268268360802730607"
     },
     "user_tz": -180
    },
    "id": "6d9Z0OxbjCAe",
    "outputId": "ddf37595-44eb-4ed1-d0a4-b41b53742a5e"
   },
   "outputs": [
    {
     "data": {
      "text/plain": [
       "{0: 0.1789759908904629, 5: 0.14402822668851814}"
      ]
     },
     "execution_count": 27,
     "metadata": {},
     "output_type": "execute_result"
    }
   ],
   "source": [
    "percentile_cutoff_nor(probs_dict, 90)"
   ]
  },
  {
   "cell_type": "code",
   "execution_count": null,
   "metadata": {
    "id": "Yn7DdQvpNBPl"
   },
   "outputs": [],
   "source": [
    "# we have two functions for topic selection; percentile_cutoff and value_cutoff"
   ]
  },
  {
   "cell_type": "code",
   "execution_count": null,
   "metadata": {
    "id": "eQpSn0fqS4Ej"
   },
   "outputs": [],
   "source": [
    "# 2. create a dataframe for cTFIDF scores of all words in all topics\n",
    "def ctfidf_matrix(topic_model):\n",
    "    ctf_df = pd.DataFrame.sparse.from_spmatrix(topic_model.c_tf_idf_)\n",
    "    all_words_list = list(topic_model.vectorizer_model.get_feature_names_out())\n",
    "    ctf_df.columns = all_words_list\n",
    "    topics = [i for i in range(-1,19)] #in the original matrice, index starts from 0 corresponding to topic -1\n",
    "    ctf_df.insert(0, \"Topic\", topics)\n",
    "    return ctf_df"
   ]
  },
  {
   "cell_type": "code",
   "execution_count": null,
   "metadata": {
    "id": "tbcLF3kGTZkd"
   },
   "outputs": [],
   "source": [
    "# 2. create a function to get ALL WORD'S ctfidf scores of the topics\n",
    "ctf_df = ctfidf_matrix(topic_model)\n",
    "def get_topALL(topic_id, ctfdf):\n",
    "    #get dictionary for tfidf scores of the selected topic\n",
    "    scores = ctf_df[ctf_df[\"Topic\"]==topic_id].to_dict(orient=\"records\")\n",
    "    # Sorting the dictionary by values in descending order\n",
    "    sorted_topic = dict(sorted(scores[0].items(), key=lambda item: item[1], reverse=True))\n",
    "    # Get ALL ITEMS in the dictionary\n",
    "    all_words = dict(list(sorted_topic.items()))\n",
    "    if \"Topic\" in all_words:   #remove if there is topic:num pair\n",
    "        all_words.pop(\"Topic\")\n",
    "    return all_words"
   ]
  },
  {
   "cell_type": "code",
   "execution_count": null,
   "metadata": {
    "id": "gbVgdzBzIj9O"
   },
   "outputs": [],
   "source": [
    "# another option\n",
    "#create a function to get top n ctfidf scores of the topics (n is number of top words)\n",
    "def get_topN(topic_id, ctfdf, n):\n",
    "    #get dictionary for tfidf scores of the selected topic\n",
    "    scores = ctfdf[ctfdf[\"Topic\"]==topic_id].to_dict(orient=\"records\")\n",
    "    # Sorting the dictionary by values in descending order\n",
    "    sorted_topic = dict(sorted(scores[0].items(), key=lambda item: item[1], reverse=True))\n",
    "    # Get the first n items\n",
    "    first_n_items = dict(list(sorted_topic.items())[:n])\n",
    "    if \"Topic\" in first_n_items:   #remove if there is topic:num pair\n",
    "        first_n_items.pop(\"Topic\")\n",
    "    return first_n_items"
   ]
  },
  {
   "cell_type": "code",
   "execution_count": null,
   "metadata": {
    "colab": {
     "base_uri": "https://localhost:8080/"
    },
    "executionInfo": {
     "elapsed": 7,
     "status": "ok",
     "timestamp": 1741289375874,
     "user": {
      "displayName": "Sule Ozturk",
      "userId": "14268268360802730607"
     },
     "user_tz": -180
    },
    "id": "VfLfL5hL7eVU",
    "outputId": "6923e35b-dabc-4dd6-e705-acf6b49f0b44"
   },
   "outputs": [
    {
     "data": {
      "text/plain": [
       "{4: 0.18742485856860663,\n",
       " 2: 0.020635347520292023,\n",
       " 1: 0.014857759529752377,\n",
       " 0: 0.013568441629805767,\n",
       " 17: 0.010796654437361573,\n",
       " 6: 0.009929347914408394,\n",
       " 9: 0.008058367696129205,\n",
       " 12: 0.00404071500075214,\n",
       " 11: 0.0027506129990824075,\n",
       " 15: 0.002294637797087828,\n",
       " 14: 0.002235971868516146,\n",
       " 10: 0.0021077821356853864,\n",
       " 13: 0.0013169430478152935,\n",
       " 8: 0.00026812343824667554,\n",
       " 5: 0.0002039921324065038,\n",
       " 3: 0,\n",
       " 7: 0,\n",
       " 16: 0,\n",
       " 18: 0}"
      ]
     },
     "execution_count": 32,
     "metadata": {},
     "output_type": "execute_result"
    }
   ],
   "source": [
    "word = \"bed\"\n",
    "ctf_df[[\"Topic\", \"bed\"]]\n",
    "scores_dict={}\n",
    "for i in range(len(ctf_df)):\n",
    "    if ctf_df[\"Topic\"][i] != -1:\n",
    "        scores_dict[ctf_df[\"Topic\"][i]] = ctf_df[word][i]\n",
    "scores_dict = dict(sorted(scores_dict.items(), key=lambda item: item[1], reverse=True))\n",
    "scores_dict"
   ]
  },
  {
   "cell_type": "code",
   "execution_count": null,
   "metadata": {
    "colab": {
     "base_uri": "https://localhost:8080/",
     "height": 256
    },
    "executionInfo": {
     "elapsed": 1214,
     "status": "ok",
     "timestamp": 1741289378687,
     "user": {
      "displayName": "Sule Ozturk",
      "userId": "14268268360802730607"
     },
     "user_tz": -180
    },
    "id": "oLENl6VC-Fnh",
    "outputId": "28311757-013d-4422-9653-38e6cea95242"
   },
   "outputs": [
    {
     "data": {
      "application/vnd.google.colaboratory.intrinsic+json": {
       "type": "dataframe",
       "variable_name": "ctf_df"
      },
      "text/html": [
       "\n",
       "  <div id=\"df-34318dd0-fc00-4b13-a2b0-f8cae92c4c74\" class=\"colab-df-container\">\n",
       "    <div>\n",
       "<style scoped>\n",
       "    .dataframe tbody tr th:only-of-type {\n",
       "        vertical-align: middle;\n",
       "    }\n",
       "\n",
       "    .dataframe tbody tr th {\n",
       "        vertical-align: top;\n",
       "    }\n",
       "\n",
       "    .dataframe thead th {\n",
       "        text-align: right;\n",
       "    }\n",
       "</style>\n",
       "<table border=\"1\" class=\"dataframe\">\n",
       "  <thead>\n",
       "    <tr style=\"text-align: right;\">\n",
       "      <th></th>\n",
       "      <th>Topic</th>\n",
       "      <th>aaabsolutely</th>\n",
       "      <th>aback</th>\n",
       "      <th>abailable</th>\n",
       "      <th>abandon</th>\n",
       "      <th>abandond</th>\n",
       "      <th>abandoned</th>\n",
       "      <th>abazar</th>\n",
       "      <th>abbey</th>\n",
       "      <th>abd</th>\n",
       "      <th>...</th>\n",
       "      <th>zona</th>\n",
       "      <th>zone</th>\n",
       "      <th>zones</th>\n",
       "      <th>zoo</th>\n",
       "      <th>zoom</th>\n",
       "      <th>ztl</th>\n",
       "      <th>zuid</th>\n",
       "      <th>zurich</th>\n",
       "      <th>zweigelt</th>\n",
       "      <th>zzzz</th>\n",
       "    </tr>\n",
       "  </thead>\n",
       "  <tbody>\n",
       "    <tr>\n",
       "      <th>0</th>\n",
       "      <td>-1</td>\n",
       "      <td>0</td>\n",
       "      <td>0.00013</td>\n",
       "      <td>0.000045</td>\n",
       "      <td>0</td>\n",
       "      <td>0</td>\n",
       "      <td>0.000305</td>\n",
       "      <td>0.000049</td>\n",
       "      <td>0.000144</td>\n",
       "      <td>0.00004</td>\n",
       "      <td>...</td>\n",
       "      <td>0</td>\n",
       "      <td>0.000134</td>\n",
       "      <td>0</td>\n",
       "      <td>0.000082</td>\n",
       "      <td>0</td>\n",
       "      <td>0.000049</td>\n",
       "      <td>0.000077</td>\n",
       "      <td>0</td>\n",
       "      <td>0.000049</td>\n",
       "      <td>0</td>\n",
       "    </tr>\n",
       "    <tr>\n",
       "      <th>1</th>\n",
       "      <td>0</td>\n",
       "      <td>0</td>\n",
       "      <td>0</td>\n",
       "      <td>0</td>\n",
       "      <td>0.000092</td>\n",
       "      <td>0</td>\n",
       "      <td>0</td>\n",
       "      <td>0</td>\n",
       "      <td>0.000478</td>\n",
       "      <td>0.000152</td>\n",
       "      <td>...</td>\n",
       "      <td>0.000092</td>\n",
       "      <td>0.000571</td>\n",
       "      <td>0.000082</td>\n",
       "      <td>0.000155</td>\n",
       "      <td>0</td>\n",
       "      <td>0</td>\n",
       "      <td>0.00044</td>\n",
       "      <td>0</td>\n",
       "      <td>0</td>\n",
       "      <td>0</td>\n",
       "    </tr>\n",
       "    <tr>\n",
       "      <th>2</th>\n",
       "      <td>1</td>\n",
       "      <td>0</td>\n",
       "      <td>0</td>\n",
       "      <td>0</td>\n",
       "      <td>0</td>\n",
       "      <td>0</td>\n",
       "      <td>0</td>\n",
       "      <td>0</td>\n",
       "      <td>0</td>\n",
       "      <td>0</td>\n",
       "      <td>...</td>\n",
       "      <td>0</td>\n",
       "      <td>0</td>\n",
       "      <td>0</td>\n",
       "      <td>0</td>\n",
       "      <td>0</td>\n",
       "      <td>0</td>\n",
       "      <td>0</td>\n",
       "      <td>0</td>\n",
       "      <td>0</td>\n",
       "      <td>0</td>\n",
       "    </tr>\n",
       "    <tr>\n",
       "      <th>3</th>\n",
       "      <td>2</td>\n",
       "      <td>0</td>\n",
       "      <td>0</td>\n",
       "      <td>0</td>\n",
       "      <td>0</td>\n",
       "      <td>0</td>\n",
       "      <td>0</td>\n",
       "      <td>0</td>\n",
       "      <td>0</td>\n",
       "      <td>0</td>\n",
       "      <td>...</td>\n",
       "      <td>0</td>\n",
       "      <td>0.00051</td>\n",
       "      <td>0</td>\n",
       "      <td>0</td>\n",
       "      <td>0</td>\n",
       "      <td>0</td>\n",
       "      <td>0</td>\n",
       "      <td>0</td>\n",
       "      <td>0</td>\n",
       "      <td>0</td>\n",
       "    </tr>\n",
       "    <tr>\n",
       "      <th>4</th>\n",
       "      <td>3</td>\n",
       "      <td>0</td>\n",
       "      <td>0</td>\n",
       "      <td>0</td>\n",
       "      <td>0</td>\n",
       "      <td>0</td>\n",
       "      <td>0</td>\n",
       "      <td>0</td>\n",
       "      <td>0</td>\n",
       "      <td>0</td>\n",
       "      <td>...</td>\n",
       "      <td>0</td>\n",
       "      <td>0.000472</td>\n",
       "      <td>0</td>\n",
       "      <td>0</td>\n",
       "      <td>0</td>\n",
       "      <td>0</td>\n",
       "      <td>0</td>\n",
       "      <td>0</td>\n",
       "      <td>0</td>\n",
       "      <td>0</td>\n",
       "    </tr>\n",
       "  </tbody>\n",
       "</table>\n",
       "<p>5 rows × 17855 columns</p>\n",
       "</div>\n",
       "    <div class=\"colab-df-buttons\">\n",
       "\n",
       "  <div class=\"colab-df-container\">\n",
       "    <button class=\"colab-df-convert\" onclick=\"convertToInteractive('df-34318dd0-fc00-4b13-a2b0-f8cae92c4c74')\"\n",
       "            title=\"Convert this dataframe to an interactive table.\"\n",
       "            style=\"display:none;\">\n",
       "\n",
       "  <svg xmlns=\"http://www.w3.org/2000/svg\" height=\"24px\" viewBox=\"0 -960 960 960\">\n",
       "    <path d=\"M120-120v-720h720v720H120Zm60-500h600v-160H180v160Zm220 220h160v-160H400v160Zm0 220h160v-160H400v160ZM180-400h160v-160H180v160Zm440 0h160v-160H620v160ZM180-180h160v-160H180v160Zm440 0h160v-160H620v160Z\"/>\n",
       "  </svg>\n",
       "    </button>\n",
       "\n",
       "  <style>\n",
       "    .colab-df-container {\n",
       "      display:flex;\n",
       "      gap: 12px;\n",
       "    }\n",
       "\n",
       "    .colab-df-convert {\n",
       "      background-color: #E8F0FE;\n",
       "      border: none;\n",
       "      border-radius: 50%;\n",
       "      cursor: pointer;\n",
       "      display: none;\n",
       "      fill: #1967D2;\n",
       "      height: 32px;\n",
       "      padding: 0 0 0 0;\n",
       "      width: 32px;\n",
       "    }\n",
       "\n",
       "    .colab-df-convert:hover {\n",
       "      background-color: #E2EBFA;\n",
       "      box-shadow: 0px 1px 2px rgba(60, 64, 67, 0.3), 0px 1px 3px 1px rgba(60, 64, 67, 0.15);\n",
       "      fill: #174EA6;\n",
       "    }\n",
       "\n",
       "    .colab-df-buttons div {\n",
       "      margin-bottom: 4px;\n",
       "    }\n",
       "\n",
       "    [theme=dark] .colab-df-convert {\n",
       "      background-color: #3B4455;\n",
       "      fill: #D2E3FC;\n",
       "    }\n",
       "\n",
       "    [theme=dark] .colab-df-convert:hover {\n",
       "      background-color: #434B5C;\n",
       "      box-shadow: 0px 1px 3px 1px rgba(0, 0, 0, 0.15);\n",
       "      filter: drop-shadow(0px 1px 2px rgba(0, 0, 0, 0.3));\n",
       "      fill: #FFFFFF;\n",
       "    }\n",
       "  </style>\n",
       "\n",
       "    <script>\n",
       "      const buttonEl =\n",
       "        document.querySelector('#df-34318dd0-fc00-4b13-a2b0-f8cae92c4c74 button.colab-df-convert');\n",
       "      buttonEl.style.display =\n",
       "        google.colab.kernel.accessAllowed ? 'block' : 'none';\n",
       "\n",
       "      async function convertToInteractive(key) {\n",
       "        const element = document.querySelector('#df-34318dd0-fc00-4b13-a2b0-f8cae92c4c74');\n",
       "        const dataTable =\n",
       "          await google.colab.kernel.invokeFunction('convertToInteractive',\n",
       "                                                    [key], {});\n",
       "        if (!dataTable) return;\n",
       "\n",
       "        const docLinkHtml = 'Like what you see? Visit the ' +\n",
       "          '<a target=\"_blank\" href=https://colab.research.google.com/notebooks/data_table.ipynb>data table notebook</a>'\n",
       "          + ' to learn more about interactive tables.';\n",
       "        element.innerHTML = '';\n",
       "        dataTable['output_type'] = 'display_data';\n",
       "        await google.colab.output.renderOutput(dataTable, element);\n",
       "        const docLink = document.createElement('div');\n",
       "        docLink.innerHTML = docLinkHtml;\n",
       "        element.appendChild(docLink);\n",
       "      }\n",
       "    </script>\n",
       "  </div>\n",
       "\n",
       "\n",
       "<div id=\"df-fde7a925-6385-4c09-8dc2-59e6a0d71723\">\n",
       "  <button class=\"colab-df-quickchart\" onclick=\"quickchart('df-fde7a925-6385-4c09-8dc2-59e6a0d71723')\"\n",
       "            title=\"Suggest charts\"\n",
       "            style=\"display:none;\">\n",
       "\n",
       "<svg xmlns=\"http://www.w3.org/2000/svg\" height=\"24px\"viewBox=\"0 0 24 24\"\n",
       "     width=\"24px\">\n",
       "    <g>\n",
       "        <path d=\"M19 3H5c-1.1 0-2 .9-2 2v14c0 1.1.9 2 2 2h14c1.1 0 2-.9 2-2V5c0-1.1-.9-2-2-2zM9 17H7v-7h2v7zm4 0h-2V7h2v10zm4 0h-2v-4h2v4z\"/>\n",
       "    </g>\n",
       "</svg>\n",
       "  </button>\n",
       "\n",
       "<style>\n",
       "  .colab-df-quickchart {\n",
       "      --bg-color: #E8F0FE;\n",
       "      --fill-color: #1967D2;\n",
       "      --hover-bg-color: #E2EBFA;\n",
       "      --hover-fill-color: #174EA6;\n",
       "      --disabled-fill-color: #AAA;\n",
       "      --disabled-bg-color: #DDD;\n",
       "  }\n",
       "\n",
       "  [theme=dark] .colab-df-quickchart {\n",
       "      --bg-color: #3B4455;\n",
       "      --fill-color: #D2E3FC;\n",
       "      --hover-bg-color: #434B5C;\n",
       "      --hover-fill-color: #FFFFFF;\n",
       "      --disabled-bg-color: #3B4455;\n",
       "      --disabled-fill-color: #666;\n",
       "  }\n",
       "\n",
       "  .colab-df-quickchart {\n",
       "    background-color: var(--bg-color);\n",
       "    border: none;\n",
       "    border-radius: 50%;\n",
       "    cursor: pointer;\n",
       "    display: none;\n",
       "    fill: var(--fill-color);\n",
       "    height: 32px;\n",
       "    padding: 0;\n",
       "    width: 32px;\n",
       "  }\n",
       "\n",
       "  .colab-df-quickchart:hover {\n",
       "    background-color: var(--hover-bg-color);\n",
       "    box-shadow: 0 1px 2px rgba(60, 64, 67, 0.3), 0 1px 3px 1px rgba(60, 64, 67, 0.15);\n",
       "    fill: var(--button-hover-fill-color);\n",
       "  }\n",
       "\n",
       "  .colab-df-quickchart-complete:disabled,\n",
       "  .colab-df-quickchart-complete:disabled:hover {\n",
       "    background-color: var(--disabled-bg-color);\n",
       "    fill: var(--disabled-fill-color);\n",
       "    box-shadow: none;\n",
       "  }\n",
       "\n",
       "  .colab-df-spinner {\n",
       "    border: 2px solid var(--fill-color);\n",
       "    border-color: transparent;\n",
       "    border-bottom-color: var(--fill-color);\n",
       "    animation:\n",
       "      spin 1s steps(1) infinite;\n",
       "  }\n",
       "\n",
       "  @keyframes spin {\n",
       "    0% {\n",
       "      border-color: transparent;\n",
       "      border-bottom-color: var(--fill-color);\n",
       "      border-left-color: var(--fill-color);\n",
       "    }\n",
       "    20% {\n",
       "      border-color: transparent;\n",
       "      border-left-color: var(--fill-color);\n",
       "      border-top-color: var(--fill-color);\n",
       "    }\n",
       "    30% {\n",
       "      border-color: transparent;\n",
       "      border-left-color: var(--fill-color);\n",
       "      border-top-color: var(--fill-color);\n",
       "      border-right-color: var(--fill-color);\n",
       "    }\n",
       "    40% {\n",
       "      border-color: transparent;\n",
       "      border-right-color: var(--fill-color);\n",
       "      border-top-color: var(--fill-color);\n",
       "    }\n",
       "    60% {\n",
       "      border-color: transparent;\n",
       "      border-right-color: var(--fill-color);\n",
       "    }\n",
       "    80% {\n",
       "      border-color: transparent;\n",
       "      border-right-color: var(--fill-color);\n",
       "      border-bottom-color: var(--fill-color);\n",
       "    }\n",
       "    90% {\n",
       "      border-color: transparent;\n",
       "      border-bottom-color: var(--fill-color);\n",
       "    }\n",
       "  }\n",
       "</style>\n",
       "\n",
       "  <script>\n",
       "    async function quickchart(key) {\n",
       "      const quickchartButtonEl =\n",
       "        document.querySelector('#' + key + ' button');\n",
       "      quickchartButtonEl.disabled = true;  // To prevent multiple clicks.\n",
       "      quickchartButtonEl.classList.add('colab-df-spinner');\n",
       "      try {\n",
       "        const charts = await google.colab.kernel.invokeFunction(\n",
       "            'suggestCharts', [key], {});\n",
       "      } catch (error) {\n",
       "        console.error('Error during call to suggestCharts:', error);\n",
       "      }\n",
       "      quickchartButtonEl.classList.remove('colab-df-spinner');\n",
       "      quickchartButtonEl.classList.add('colab-df-quickchart-complete');\n",
       "    }\n",
       "    (() => {\n",
       "      let quickchartButtonEl =\n",
       "        document.querySelector('#df-fde7a925-6385-4c09-8dc2-59e6a0d71723 button');\n",
       "      quickchartButtonEl.style.display =\n",
       "        google.colab.kernel.accessAllowed ? 'block' : 'none';\n",
       "    })();\n",
       "  </script>\n",
       "</div>\n",
       "\n",
       "    </div>\n",
       "  </div>\n"
      ],
      "text/plain": [
       "   Topic  aaabsolutely    aback  abailable   abandon  abandond  abandoned  \\\n",
       "0     -1             0  0.00013   0.000045         0         0   0.000305   \n",
       "1      0             0        0          0  0.000092         0          0   \n",
       "2      1             0        0          0         0         0          0   \n",
       "3      2             0        0          0         0         0          0   \n",
       "4      3             0        0          0         0         0          0   \n",
       "\n",
       "     abazar     abbey       abd  ...      zona      zone     zones       zoo  \\\n",
       "0  0.000049  0.000144   0.00004  ...         0  0.000134         0  0.000082   \n",
       "1         0  0.000478  0.000152  ...  0.000092  0.000571  0.000082  0.000155   \n",
       "2         0         0         0  ...         0         0         0         0   \n",
       "3         0         0         0  ...         0   0.00051         0         0   \n",
       "4         0         0         0  ...         0  0.000472         0         0   \n",
       "\n",
       "   zoom       ztl      zuid  zurich  zweigelt  zzzz  \n",
       "0     0  0.000049  0.000077       0  0.000049     0  \n",
       "1     0         0   0.00044       0         0     0  \n",
       "2     0         0         0       0         0     0  \n",
       "3     0         0         0       0         0     0  \n",
       "4     0         0         0       0         0     0  \n",
       "\n",
       "[5 rows x 17855 columns]"
      ]
     },
     "execution_count": 33,
     "metadata": {},
     "output_type": "execute_result"
    }
   ],
   "source": [
    "ctf_df.head()"
   ]
  },
  {
   "cell_type": "code",
   "execution_count": null,
   "metadata": {
    "id": "60EFL3j--cHZ"
   },
   "outputs": [],
   "source": []
  },
  {
   "cell_type": "code",
   "execution_count": null,
   "metadata": {
    "colab": {
     "base_uri": "https://localhost:8080/"
    },
    "executionInfo": {
     "elapsed": 1936,
     "status": "ok",
     "timestamp": 1741289384023,
     "user": {
      "displayName": "Sule Ozturk",
      "userId": "14268268360802730607"
     },
     "user_tz": -180
    },
    "id": "cN8AWnbh-XoL",
    "outputId": "cdcb9f32-ee8a-4a17-f3a6-6586f9c0a46c"
   },
   "outputs": [
    {
     "data": {
      "text/plain": [
       "9.220468435906277e-05"
      ]
     },
     "execution_count": 34,
     "metadata": {},
     "output_type": "execute_result"
    }
   ],
   "source": [
    "ctf_df[ctf_df[\"Topic\"] == 0][\"abandon\"].values[0]"
   ]
  },
  {
   "cell_type": "code",
   "execution_count": null,
   "metadata": {
    "id": "BYbnkEtX59SX"
   },
   "outputs": [],
   "source": [
    "# create a function to get a specific ctfidf scores of a word for all the topics in a dictionary that is sorted in descending order based on ctfidf score\n",
    "def get_word_scores(word, ctfdf):\n",
    "    scores_dict={}\n",
    "    for i in range(len(ctf_df)):\n",
    "        if ctf_df[\"Topic\"][i] != -1:\n",
    "            scores_dict[ctf_df[\"Topic\"][i]] = ctf_df[word][i]\n",
    "    scores_dict = dict(sorted(scores_dict.items(), key=lambda item: item[1], reverse=True))\n",
    "    return scores_dict\n"
   ]
  },
  {
   "cell_type": "code",
   "execution_count": null,
   "metadata": {
    "colab": {
     "base_uri": "https://localhost:8080/"
    },
    "executionInfo": {
     "elapsed": 24575,
     "status": "ok",
     "timestamp": 1741289411657,
     "user": {
      "displayName": "Sule Ozturk",
      "userId": "14268268360802730607"
     },
     "user_tz": -180
    },
    "id": "IZTFCu7UXIUo",
    "outputId": "4c82b747-4ecd-43d6-fe61-aaa041191a26"
   },
   "outputs": [
    {
     "data": {
      "text/plain": [
       "{'location': 0.03927079997120542,\n",
       " 'choice': 0.01609182204729172,\n",
       " 'stay': 0.008709643986363133,\n",
       " 'best': 0.008090461009697398,\n",
       " 'parking': 0.0047452207717590756,\n",
       " 'central': 0.004615931390134203,\n",
       " 'make': 0.002658757155678278,\n",
       " 'car': 0.002338605223743285,\n",
       " 'underground': 0.0007655291549202655,\n",
       " 'travellers': 0.00023361351040365508}"
      ]
     },
     "execution_count": 36,
     "metadata": {},
     "output_type": "execute_result"
    }
   ],
   "source": [
    "# get ctfidf scores for the words in the review for each selected top topics\n",
    "topic = 2\n",
    "words = example.split()\n",
    "scores_dict ={}\n",
    "for word in words:\n",
    "  if word in ctf_df.columns:\n",
    "      score = ctf_df[ctf_df[\"Topic\"] == topic][word].values[0]\n",
    "      if score > 0:\n",
    "        scores_dict[word] = score\n",
    "        scores_dict = dict(sorted(scores_dict.items(), key=lambda item: item[1], reverse=True))\n",
    "scores_dict\n"
   ]
  },
  {
   "cell_type": "code",
   "execution_count": null,
   "metadata": {
    "id": "eAG8h7gg_duM"
   },
   "outputs": [],
   "source": [
    "# function that calculates word scores for the top topics in a specific review\n",
    "\n",
    "def words_of_topics(review, topic, ctfdf):\n",
    "    words = review.split()\n",
    "    scores_dict ={}\n",
    "    for word in words:\n",
    "      word = word.lower()\n",
    "      if word in ctfdf.columns:\n",
    "        score = ctfdf[ctfdf[\"Topic\"] == topic][word].values[0]\n",
    "        if score > 0:\n",
    "          scores_dict[word] = score\n",
    "          scores_dict = dict(sorted(scores_dict.items(), key=lambda item: item[1], reverse=True))\n",
    "    return scores_dict"
   ]
  },
  {
   "cell_type": "code",
   "execution_count": null,
   "metadata": {
    "id": "1nb4urj7T2Cg"
   },
   "outputs": [],
   "source": [
    "# functions for creating n representations for top topics based on the selected cutoff method\n",
    "\n",
    "def normalize_weights(dictionaries):\n",
    "    \"\"\"\n",
    "    Normalizes weights in each dictionary based on the maximum weight in that dictionary.\n",
    "    \"\"\"\n",
    "    normalized_dictionaries = []\n",
    "    for dictionary in dictionaries:\n",
    "        max_weight = max(dictionary.values(), default=1)  # Avoid division by zero\n",
    "        normalized_dictionaries.append({key: value / max_weight for key, value in dictionary.items()})\n",
    "    return normalized_dictionaries\n",
    "\n",
    "\n",
    "def highlight_text_with_normalized_weights(sentence, dictionaries, colors):\n",
    "    \"\"\"\n",
    "    Highlights words in a sentence based on normalized weights from multiple dictionaries.\n",
    "    \"\"\"\n",
    "    # Normalize the weights in the dictionaries\n",
    "    normalized_dictionaries = normalize_weights(dictionaries)\n",
    "\n",
    "    words = sentence.split()\n",
    "    highlighted_text = \"\"\n",
    "\n",
    "    for word in words:\n",
    "        max_actual_weight = 0  # For deciding the color\n",
    "        max_normalized_opacity = 0  # For deciding the opacity\n",
    "        chosen_color = None\n",
    "        # Normalize for case-insensitive comparison\n",
    "        word_lower = word.lower()\n",
    "\n",
    "        # Check each dictionary for the word\n",
    "        for idx, dictionary in enumerate(dictionaries):\n",
    "            if word_lower in dictionary:\n",
    "                actual_weight = dictionary[word_lower]\n",
    "                normalized_opacity = normalized_dictionaries[idx][word_lower]\n",
    "                if actual_weight > max_actual_weight:  # Compare actual weights\n",
    "                    max_actual_weight = actual_weight\n",
    "                    max_normalized_opacity = normalized_opacity\n",
    "                    chosen_color = colors[idx]\n",
    "\n",
    "        # If the word has a weight, highlight it with the appropriate color and opacity\n",
    "        if chosen_color:\n",
    "            rgba_color = chosen_color.format(max_normalized_opacity)\n",
    "            highlighted_text += f'<span style=\"font-size:20px; font-family:Times New Roman;\"><span style=\"background-color:{rgba_color}\">{word}</span></span> '\n",
    "        else:\n",
    "            # If the word is not in any dictionary, add it as is\n",
    "            highlighted_text += f'<span style=\"font-size:20px; font-family:Times New Roman;\">{word}</span> '\n",
    "\n",
    "    return highlighted_text.strip()"
   ]
  },
  {
   "cell_type": "code",
   "execution_count": null,
   "metadata": {
    "id": "Nh9R9uvXdMoM"
   },
   "outputs": [],
   "source": [
    "# generate colors for topic highlighting if necessary\n",
    "def generate_random_rgba_colors(num_colors):\n",
    "    colors = []\n",
    "    for _ in range(num_colors):\n",
    "        r = random.randint(0, 255)\n",
    "        g = random.randint(0, 255)\n",
    "        b = random.randint(0, 255)\n",
    "        colors.append(f\"rgba({r}, {g}, {b}, \"+\"{})\")\n",
    "    return colors"
   ]
  },
  {
   "cell_type": "code",
   "execution_count": null,
   "metadata": {
    "colab": {
     "base_uri": "https://localhost:8080/",
     "height": 46
    },
    "executionInfo": {
     "elapsed": 5,
     "status": "ok",
     "timestamp": 1741289420042,
     "user": {
      "displayName": "Sule Ozturk",
      "userId": "14268268360802730607"
     },
     "user_tz": -180
    },
    "id": "gL63I96gsC8q",
    "outputId": "aa1659f6-0d93-4db1-e27e-818815f69ce6"
   },
   "outputs": [
    {
     "data": {
      "text/html": [
       "<p>merhaba</p>"
      ],
      "text/plain": [
       "<IPython.core.display.HTML object>"
      ]
     },
     "metadata": {},
     "output_type": "display_data"
    }
   ],
   "source": [
    "from IPython.display import HTML\n",
    "\n",
    "# Create an HTML string with the desired tags\n",
    "html_string = \"<p>merhaba</p>\"\n",
    "\n",
    "# Display the HTML string using IPython.display.HTML\n",
    "display(HTML(html_string))"
   ]
  },
  {
   "cell_type": "code",
   "execution_count": null,
   "metadata": {
    "id": "OLIki335UK-E"
   },
   "outputs": [],
   "source": [
    "# final function for creating n representations for top topics bazed on the selected cutoff method\n",
    "# Function for BERTopicXAI\n",
    "\n",
    "def explain_BERTopic_topN(df, review, topic_model, num_topics = None, cutoff_method = None, cutoff_value = None, titles = None, top_n_words=None, word_scores =True):\n",
    "\n",
    "    # decide cutoff point for selecting top topics\n",
    "    if num_topics is not None:\n",
    "        if num_topics <= len(topic_model.topic_sizes_):\n",
    "            top_topics = dict(islice(create_doc_probs_initial(df, review, topic_model).items(), num_topics))\n",
    "        else:\n",
    "            raise ValueError(\"Number of topics exceeds the number of available topics.\")\n",
    "    else:\n",
    "        if cutoff_method == percentile_cutoff:\n",
    "            if cutoff_value < 0 or cutoff_value > 100:\n",
    "                raise ValueError(\"Percentile value must be between 0 and 100.\")\n",
    "            else:\n",
    "                top_topics = percentile_cutoff(create_doc_probs_initial(df, review, topic_model), cutoff_value)\n",
    "        elif cutoff_method == value_cutoff:\n",
    "            if cutoff_value < 0 or cutoff_value > 1:\n",
    "                raise ValueError(\"Value cutoff must be between 0 and 1.\")\n",
    "            else:\n",
    "                top_topics = value_cutoff(create_doc_probs_initial(df, review, topic_model), cutoff_value)\n",
    "        else:\n",
    "            raise ValueError(\"Invalid cutoff method. Select top number of topics with num_topics parameter or Use percentile_cutoff or value_cutoff in cutoff_method parameter.\")\n",
    "    #print(top_topics)\n",
    "\n",
    "    topic_ids = list(top_topics.keys())\n",
    "    topic_probs = list(top_topics.values())\n",
    "    color_text = [\"red\", \"blue\", \"green\", \"yellow\"]\n",
    "\n",
    "    color_list = [\n",
    "    \"rgba(255, 0, 0, {})\",  # Red\n",
    "    \"rgba(0, 0, 255, {})\",  # Blue\n",
    "    \"rgba(0, 255, 0, {})\",  # Green\n",
    "    ]\n",
    "\n",
    "    if len(topic_ids) > 3:\n",
    "        model_topics = len(topic_model.topic_sizes_) - 1\n",
    "        color_list = color_list + generate_random_rgba_colors(model_topics - len(color_list))\n",
    "\n",
    "    for i in range(len(topic_ids)): # get information for the topics\n",
    "        if titles is not None:\n",
    "            title = titles[topic_ids[i]]\n",
    "            html_string = f'<span style=\"font-size:16px; font-family:Times New Roman;\">\\n <span style=\"background-color: {color_list[i].format(1)};\">Number {i+1} Topic is {topic_ids[i]}</span> with  probability {topic_probs[i]}, Title is: {title}</span>'\n",
    "            display(HTML(html_string))\n",
    "        else:\n",
    "            html_string = f'<span style=\"font-size:16px; font-family:Times New Roman;\">\\n <span style=\"background-color: {color_list[i].format(1)};\">Number {i+1} Topic is {topic_ids[i]}</span> with  probability {topic_probs[i]}'\n",
    "            display(HTML(html_string))\n",
    "        #word_dicts = dict(islice(get_topALL(topic_ids[i], topic_model).items(), 10))\n",
    "        #print(f\"Top {len(word_dicts)} words for topic {topic_ids[i]} and their cTFIDF scores: \\n {word_dicts}\")\n",
    "\n",
    "    # get tfidf scores of the all words in topics\n",
    "    ctf_df = ctfidf_matrix(topic_model)\n",
    "    dict_ctfidf =[]\n",
    "    for item in topic_ids:\n",
    "        dict_ctfidf.append(get_topALL(item, ctf_df))\n",
    "    if top_n_words is not None:\n",
    "        for topic in topic_ids:\n",
    "            print(f\"\\nTop {top_n_words} words for topic {topic} and their cTFIDF scores: \\n {get_topN(topic, ctf_df, top_n_words)}\\n\")\n",
    "    if word_scores is True:\n",
    "        scores_dict = {}\n",
    "        for topic in topic_ids:\n",
    "            scores_dict[topic] = words_of_topics(review, topic, ctf_df)\n",
    "        print(scores_dict)\n",
    "\n",
    "    # Call the function to generate the highlighted text\n",
    "    highlighted_output = highlight_text_with_normalized_weights(review, dict_ctfidf, color_list)\n",
    "\n",
    "    # Display the result in a Jupyter notebook or HTML-rendering environment\n",
    "\n",
    "    #return scores_dict, display(HTML(highlighted_output))\n",
    "    return top_topics, display(HTML(highlighted_output))"
   ]
  },
  {
   "cell_type": "code",
   "execution_count": null,
   "metadata": {
    "colab": {
     "base_uri": "https://localhost:8080/",
     "height": 764
    },
    "executionInfo": {
     "elapsed": 90996,
     "status": "ok",
     "timestamp": 1741289514670,
     "user": {
      "displayName": "Sule Ozturk",
      "userId": "14268268360802730607"
     },
     "user_tz": -180
    },
    "id": "HWArNeYEWc4Q",
    "outputId": "3e09315d-dbd6-4c44-af17-3ff72b2e7a25"
   },
   "outputs": [
    {
     "data": {
      "text/html": [
       "<span style=\"font-size:16px; font-family:Times New Roman;\">\n",
       " <span style=\"background-color: rgba(255, 0, 0, 1);\">Number 1 Topic is 0</span> with  probability 0.1789759908904629, Title is: Hospitality Excellence</span>"
      ],
      "text/plain": [
       "<IPython.core.display.HTML object>"
      ]
     },
     "metadata": {},
     "output_type": "display_data"
    },
    {
     "data": {
      "text/html": [
       "<span style=\"font-size:16px; font-family:Times New Roman;\">\n",
       " <span style=\"background-color: rgba(0, 0, 255, 1);\">Number 2 Topic is 5</span> with  probability 0.14402822668851814, Title is: Proximity and Access</span>"
      ],
      "text/plain": [
       "<IPython.core.display.HTML object>"
      ]
     },
     "metadata": {},
     "output_type": "display_data"
    },
    {
     "data": {
      "text/html": [
       "<span style=\"font-size:16px; font-family:Times New Roman;\">\n",
       " <span style=\"background-color: rgba(0, 255, 0, 1);\">Number 3 Topic is 2</span> with  probability 0.05949354865551057, Title is: Hotel Amenities Excellence</span>"
      ],
      "text/plain": [
       "<IPython.core.display.HTML object>"
      ]
     },
     "metadata": {},
     "output_type": "display_data"
    },
    {
     "name": "stdout",
     "output_type": "stream",
     "text": [
      "{0: {'location': 0.03583580936752398, 'stay': 0.016456744779990817, 'central': 0.010406511528955734, 'london': 0.009566711811136296, 'best': 0.007895699205478163, 'underground': 0.006519144134206303, 'make': 0.003937370254746942, 'parking': 0.003327050137966193, 'choice': 0.003212424447332434, 'car': 0.002135163258730852, 'wishing': 0.0005415556536534105, 'travellers': 0.0004653617502132213}, 5: {'location': 0.14174051311759348, 'london': 0.029658363836359763, 'underground': 0.027682612086189207, 'central': 0.024011826851443253, 'parking': 0.006554943880474343, 'best': 0.006469253175628134, 'stay': 0.005727323496404397, 'car': 0.001818650700714809, 'make': 0.0008161664024383589, 'choice': 0.0008090975279181768, 'wishing': 0.00079281893130863, 'travellers': 0.0006812736659417872}, 2: {'location': 0.03927079997120542, 'choice': 0.01609182204729172, 'stay': 0.008709643986363133, 'best': 0.008090461009697398, 'parking': 0.0047452207717590756, 'central': 0.004615931390134203, 'london': 0.0030510181891719476, 'make': 0.002658757155678278, 'car': 0.002338605223743285, 'underground': 0.0007655291549202655, 'travellers': 0.00023361351040365508}}\n"
     ]
    },
    {
     "data": {
      "text/html": [
       "<span style=\"font-size:20px; font-family:Times New Roman;\">The</span> <span style=\"font-size:20px; font-family:Times New Roman;\"><span style=\"background-color:rgba(0, 0, 255, 1.0)\">location</span></span> <span style=\"font-size:20px; font-family:Times New Roman;\">and</span> <span style=\"font-size:20px; font-family:Times New Roman;\"><span style=\"background-color:rgba(0, 0, 255, 0.19530486716400292)\">underground</span></span> <span style=\"font-size:20px; font-family:Times New Roman;\"><span style=\"background-color:rgba(0, 255, 0, 0.020291864741504892)\">car</span></span> <span style=\"font-size:20px; font-family:Times New Roman;\"><span style=\"background-color:rgba(0, 0, 255, 0.04624608544372988)\">parking</span></span> <span style=\"font-size:20px; font-family:Times New Roman;\"><span style=\"background-color:rgba(255, 0, 0, 0.08112292137088065)\">make</span></span> <span style=\"font-size:20px; font-family:Times New Roman;\">this</span> <span style=\"font-size:20px; font-family:Times New Roman;\">a</span> <span style=\"font-size:20px; font-family:Times New Roman;\"><span style=\"background-color:rgba(0, 255, 0, 0.07020019404661183)\">best</span></span> <span style=\"font-size:20px; font-family:Times New Roman;\"><span style=\"background-color:rgba(0, 255, 0, 0.13962727574230988)\">choice</span></span> <span style=\"font-size:20px; font-family:Times New Roman;\">for</span> <span style=\"font-size:20px; font-family:Times New Roman;\"><span style=\"background-color:rgba(0, 0, 255, 0.004806485111116932)\">travellers</span></span> <span style=\"font-size:20px; font-family:Times New Roman;\">by</span> <span style=\"font-size:20px; font-family:Times New Roman;\"><span style=\"background-color:rgba(0, 255, 0, 0.020291864741504892)\">car</span></span> <span style=\"font-size:20px; font-family:Times New Roman;\"><span style=\"background-color:rgba(0, 0, 255, 0.0055934532327456465)\">wishing</span></span> <span style=\"font-size:20px; font-family:Times New Roman;\">to</span> <span style=\"font-size:20px; font-family:Times New Roman;\"><span style=\"background-color:rgba(255, 0, 0, 0.3390636710373707)\">stay</span></span> <span style=\"font-size:20px; font-family:Times New Roman;\">in</span> <span style=\"font-size:20px; font-family:Times New Roman;\"><span style=\"background-color:rgba(0, 0, 255, 0.16940694176492857)\">central</span></span> <span style=\"font-size:20px; font-family:Times New Roman;\"><span style=\"background-color:rgba(0, 0, 255, 0.20924408402383884)\">London</span></span>"
      ],
      "text/plain": [
       "<IPython.core.display.HTML object>"
      ]
     },
     "metadata": {},
     "output_type": "display_data"
    },
    {
     "data": {
      "text/plain": [
       "({0: {'location': 0.03583580936752398,\n",
       "   'stay': 0.016456744779990817,\n",
       "   'central': 0.010406511528955734,\n",
       "   'london': 0.009566711811136296,\n",
       "   'best': 0.007895699205478163,\n",
       "   'underground': 0.006519144134206303,\n",
       "   'make': 0.003937370254746942,\n",
       "   'parking': 0.003327050137966193,\n",
       "   'choice': 0.003212424447332434,\n",
       "   'car': 0.002135163258730852,\n",
       "   'wishing': 0.0005415556536534105,\n",
       "   'travellers': 0.0004653617502132213},\n",
       "  5: {'location': 0.14174051311759348,\n",
       "   'london': 0.029658363836359763,\n",
       "   'underground': 0.027682612086189207,\n",
       "   'central': 0.024011826851443253,\n",
       "   'parking': 0.006554943880474343,\n",
       "   'best': 0.006469253175628134,\n",
       "   'stay': 0.005727323496404397,\n",
       "   'car': 0.001818650700714809,\n",
       "   'make': 0.0008161664024383589,\n",
       "   'choice': 0.0008090975279181768,\n",
       "   'wishing': 0.00079281893130863,\n",
       "   'travellers': 0.0006812736659417872},\n",
       "  2: {'location': 0.03927079997120542,\n",
       "   'choice': 0.01609182204729172,\n",
       "   'stay': 0.008709643986363133,\n",
       "   'best': 0.008090461009697398,\n",
       "   'parking': 0.0047452207717590756,\n",
       "   'central': 0.004615931390134203,\n",
       "   'london': 0.0030510181891719476,\n",
       "   'make': 0.002658757155678278,\n",
       "   'car': 0.002338605223743285,\n",
       "   'underground': 0.0007655291549202655,\n",
       "   'travellers': 0.00023361351040365508}},\n",
       " None)"
      ]
     },
     "execution_count": 42,
     "metadata": {},
     "output_type": "execute_result"
    }
   ],
   "source": [
    "# if no num_topics or any cutoff method is defined, function reveals a value error\n",
    "\n",
    "explain_BERTopic_topN(df, example, topic_model, num_topics = 3, titles = titles, word_scores=True)"
   ]
  },
  {
   "cell_type": "code",
   "execution_count": null,
   "metadata": {
    "colab": {
     "base_uri": "https://localhost:8080/",
     "height": 1000
    },
    "executionInfo": {
     "elapsed": 235055,
     "status": "ok",
     "timestamp": 1740685473824,
     "user": {
      "displayName": "Sule Ozturk",
      "userId": "14268268360802730607"
     },
     "user_tz": -180
    },
    "id": "Kn6gahzxlpQG",
    "outputId": "428be25f-402a-4744-ce36-9d140b04fd0a"
   },
   "outputs": [
    {
     "data": {
      "text/html": [
       "<span style=\"font-size:16px; font-family:Times New Roman;\">\n",
       " <span style=\"background-color: rgba(255, 0, 0, 1);\">Number 1 Topic is 17</span> with  probability 0.19377528347468148, Title is: Celebratory Sweet Treats</span>"
      ],
      "text/plain": [
       "<IPython.core.display.HTML object>"
      ]
     },
     "metadata": {},
     "output_type": "display_data"
    },
    {
     "data": {
      "text/html": [
       "<span style=\"font-size:16px; font-family:Times New Roman;\">\n",
       " <span style=\"background-color: rgba(0, 0, 255, 1);\">Number 2 Topic is 0</span> with  probability 0.19316981525883103, Title is: Hospitality Excellence</span>"
      ],
      "text/plain": [
       "<IPython.core.display.HTML object>"
      ]
     },
     "metadata": {},
     "output_type": "display_data"
    },
    {
     "data": {
      "text/html": [
       "<span style=\"font-size:16px; font-family:Times New Roman;\">\n",
       " <span style=\"background-color: rgba(0, 255, 0, 1);\">Number 3 Topic is 2</span> with  probability 0.08974496727326764, Title is: Hotel Amenities Excellence</span>"
      ],
      "text/plain": [
       "<IPython.core.display.HTML object>"
      ]
     },
     "metadata": {},
     "output_type": "display_data"
    },
    {
     "name": "stdout",
     "output_type": "stream",
     "text": [
      "\n",
      "Top 10 words for topic 17 and their cTFIDF scores: \n",
      " {'birthday': 0.20607361893045928, 'cake': 0.07180666434838738, 'special': 0.051492108752647585, 'champagne': 0.0445495782324619, 'staff': 0.04360093362763181, 'made': 0.03629812945576879, 'lovely': 0.03583706475558209, 'chocolates': 0.034099286850612885, 'thank': 0.034046696242529345}\n",
      "\n",
      "\n",
      "Top 10 words for topic 0 and their cTFIDF scores: \n",
      " {'hotel': 0.048535853840198054, 'staff': 0.04179384363660856, 'location': 0.03583580936752398, 'clean': 0.03238266017813047, 'friendly': 0.03084435664522748, 'great': 0.030762376692012823, 'helpful': 0.02930849728275495, 'room': 0.02927797724444089, 'nice': 0.026978779987902997, 'good': 0.026974237738203566}\n",
      "\n",
      "\n",
      "Top 10 words for topic 2 and their cTFIDF scores: \n",
      " {'breakfast': 0.11524841376258102, 'staff': 0.05349265438589445, 'good': 0.05274792941197384, 'excellent': 0.04324857193890313, 'great': 0.042179586284901954, 'friendly': 0.03932130262453923, 'location': 0.03927079997120542, 'helpful': 0.03541471830619897, 'bar': 0.03377622288306225}\n",
      "\n",
      "{17: {'birthday': 0.20607361893045928, 'cake': 0.07180666434838738, 'lovely': 0.03583706475558209, 'touch': 0.03315075212050046, 'hotel': 0.03248450309176592, 'surprise': 0.029825117088008203, 'bottle': 0.026784976689852413, 'room': 0.025576446434395505, 'great': 0.017378964317208652, 'chocolate': 0.013275472910564464, 'nice': 0.012248426532120089, 'bed': 0.010796654437361573, 'location': 0.010148639504303765, 'comfortable': 0.00725939768764715, 'close': 0.004262553515467264, 'mini': 0.004136425974847799, 'minute': 0.00398355190167734, 'good': 0.0038548806151448354, 'walk': 0.0034256818705725523, 'bars': 0.0033512063951490283, 'restaurants': 0.003308653987372047, 'expecting': 0.0029343997645695816, 'thames': 0.0027909313196591676, 'walked': 0.0025928814208823663, 'champers': 0.0023814333546233035, 'threatres': 0.0023814333546233035, 'river': 0.0023725219572836077, 'wasnt': 0.0013887057123993264, 'smelt': 0.0013664829211018994}, 0: {'hotel': 0.048535853840198054, 'location': 0.03583580936752398, 'great': 0.030762376692012823, 'room': 0.02927797724444089, 'nice': 0.026978779987902997, 'good': 0.026974237738203566, 'comfortable': 0.026514309589912105, 'lovely': 0.01777938640361986, 'close': 0.016550970705302582, 'walk': 0.01636728867856922, 'bed': 0.013568441629805767, 'restaurants': 0.008294795396581435, 'minute': 0.006130870832101487, 'bars': 0.0029410566337439094, 'river': 0.002618000069905461, 'touch': 0.0017113808816594154, 'walked': 0.001706656544886941, 'mini': 0.0014814313902450761, 'birthday': 0.001242926846841495, 'thames': 0.0010265670204565379, 'surprise': 0.0008660799288377162, 'bottle': 0.0006913764257306162, 'chocolate': 0.0006682022082110124, 'cake': 0.0004043957695106097, 'expecting': 0.00011361451856302087, 'wasnt': 0.0001075362211004738, 'smelt': 0.00010581537054366222}, 2: {'good': 0.05274792941197384, 'great': 0.042179586284901954, 'location': 0.03927079997120542, 'nice': 0.029344159840677307, 'room': 0.02884931166699843, 'comfortable': 0.02663939781420701, 'bed': 0.020635347520292023, 'lovely': 0.02049519077701293, 'hotel': 0.017743692380512918, 'close': 0.005207704169536734, 'restaurants': 0.003601315775755534, 'mini': 0.0025727468762341355, 'chocolate': 0.0018578229431627934, 'touch': 0.0017182404665573628, 'walk': 0.0015980122184729303, 'bars': 0.0013895741294798608, 'surprise': 0.001352635456048798, 'cake': 0.0012180500257849968, 'birthday': 0.0011271434020898904, 'expecting': 0.0009125592811069658, 'minute': 0.0006194158177660867, 'thames': 0.00043397125187894496, 'bottle': 0.00034707380602565127, 'smelt': 0.00021247900289219891, 'river': 0.00018445568987315476}}\n"
     ]
    },
    {
     "data": {
      "text/html": [
       "<span style=\"font-size:20px; font-family:Times New Roman;\">The</span> <span style=\"font-size:20px; font-family:Times New Roman;\"><span style=\"background-color:rgba(0, 0, 255, 1.0)\">hotel</span></span> <span style=\"font-size:20px; font-family:Times New Roman;\"><span style=\"background-color:rgba(255, 0, 0, 0.006631042479838367)\">smelt</span></span> <span style=\"font-size:20px; font-family:Times New Roman;\"><span style=\"background-color:rgba(255, 0, 0, 0.17390418502659244)\">lovely</span></span> <span style=\"font-size:20px; font-family:Times New Roman;\">when</span> <span style=\"font-size:20px; font-family:Times New Roman;\">you</span> <span style=\"font-size:20px; font-family:Times New Roman;\"><span style=\"background-color:rgba(255, 0, 0, 0.012582306431748302)\">walked</span></span> <span style=\"font-size:20px; font-family:Times New Roman;\">in</span> <span style=\"font-size:20px; font-family:Times New Roman;\"><span style=\"background-color:rgba(0, 0, 255, 0.6032236981106217)\">Room</span></span> <span style=\"font-size:20px; font-family:Times New Roman;\">was</span> <span style=\"font-size:20px; font-family:Times New Roman;\"><span style=\"background-color:rgba(255, 0, 0, 0.17390418502659244)\">lovely</span></span> <span style=\"font-size:20px; font-family:Times New Roman;\">with</span> <span style=\"font-size:20px; font-family:Times New Roman;\">a</span> <span style=\"font-size:20px; font-family:Times New Roman;\"><span style=\"background-color:rgba(0, 255, 0, 0.25461660497235233)\">nice</span></span> <span style=\"font-size:20px; font-family:Times New Roman;\"><span style=\"background-color:rgba(255, 0, 0, 0.1299777081067866)\">bottle</span></span> <span style=\"font-size:20px; font-family:Times New Roman;\">of</span> <span style=\"font-size:20px; font-family:Times New Roman;\"><span style=\"background-color:rgba(255, 0, 0, 0.011556226201991104)\">champers</span></span> <span style=\"font-size:20px; font-family:Times New Roman;\">and</span> <span style=\"font-size:20px; font-family:Times New Roman;\">a</span> <span style=\"font-size:20px; font-family:Times New Roman;\"><span style=\"background-color:rgba(255, 0, 0, 0.020072564340434373)\">mini</span></span> <span style=\"font-size:20px; font-family:Times New Roman;\"><span style=\"background-color:rgba(255, 0, 0, 0.06442102089275362)\">chocolate</span></span> <span style=\"font-size:20px; font-family:Times New Roman;\"><span style=\"background-color:rgba(255, 0, 0, 1.0)\">birthday</span></span> <span style=\"font-size:20px; font-family:Times New Roman;\"><span style=\"background-color:rgba(255, 0, 0, 0.348451513207127)\">cake</span></span> <span style=\"font-size:20px; font-family:Times New Roman;\"><span style=\"background-color:rgba(255, 0, 0, 0.17390418502659244)\">lovely</span></span> <span style=\"font-size:20px; font-family:Times New Roman;\"><span style=\"background-color:rgba(255, 0, 0, 0.16086849104002668)\">touch</span></span> <span style=\"font-size:20px; font-family:Times New Roman;\">A</span> <span style=\"font-size:20px; font-family:Times New Roman;\"><span style=\"background-color:rgba(255, 0, 0, 0.1447303989846117)\">surprise</span></span> <span style=\"font-size:20px; font-family:Times New Roman;\">for</span> <span style=\"font-size:20px; font-family:Times New Roman;\">my</span> <span style=\"font-size:20px; font-family:Times New Roman;\"><span style=\"background-color:rgba(255, 0, 0, 1.0)\">birthday</span></span> <span style=\"font-size:20px; font-family:Times New Roman;\">which</span> <span style=\"font-size:20px; font-family:Times New Roman;\">I</span> <span style=\"font-size:20px; font-family:Times New Roman;\"><span style=\"background-color:rgba(255, 0, 0, 0.006738881568668686)\">wasnt</span></span> <span style=\"font-size:20px; font-family:Times New Roman;\"><span style=\"background-color:rgba(255, 0, 0, 0.014239570206993898)\">expecting</span></span> <span style=\"font-size:20px; font-family:Times New Roman;\"><span style=\"background-color:rgba(0, 255, 0, 0.17905103286542526)\">Bed</span></span> <span style=\"font-size:20px; font-family:Times New Roman;\">was</span> <span style=\"font-size:20px; font-family:Times New Roman;\">very</span> <span style=\"font-size:20px; font-family:Times New Roman;\"><span style=\"background-color:rgba(0, 255, 0, 0.2311476309694452)\">comfortable</span></span> <span style=\"font-size:20px; font-family:Times New Roman;\"><span style=\"background-color:rgba(0, 255, 0, 0.3407491581802222)\">Location</span></span> <span style=\"font-size:20px; font-family:Times New Roman;\">of</span> <span style=\"font-size:20px; font-family:Times New Roman;\"><span style=\"background-color:rgba(0, 0, 255, 1.0)\">hotel</span></span> <span style=\"font-size:20px; font-family:Times New Roman;\">too</span> <span style=\"font-size:20px; font-family:Times New Roman;\">was</span> <span style=\"font-size:20px; font-family:Times New Roman;\"><span style=\"background-color:rgba(0, 255, 0, 0.36598843235963796)\">great</span></span> <span style=\"font-size:20px; font-family:Times New Roman;\"><span style=\"background-color:rgba(0, 0, 255, 0.3410050384566397)\">close</span></span> <span style=\"font-size:20px; font-family:Times New Roman;\">to</span> <span style=\"font-size:20px; font-family:Times New Roman;\">all</span> <span style=\"font-size:20px; font-family:Times New Roman;\">the</span> <span style=\"font-size:20px; font-family:Times New Roman;\"><span style=\"background-color:rgba(255, 0, 0, 0.011556226201991104)\">threatres</span></span> <span style=\"font-size:20px; font-family:Times New Roman;\">and</span> <span style=\"font-size:20px; font-family:Times New Roman;\">some</span> <span style=\"font-size:20px; font-family:Times New Roman;\">very</span> <span style=\"font-size:20px; font-family:Times New Roman;\"><span style=\"background-color:rgba(0, 255, 0, 0.45768898408127245)\">good</span></span> <span style=\"font-size:20px; font-family:Times New Roman;\"><span style=\"background-color:rgba(0, 0, 255, 0.17090037035078537)\">restaurants</span></span> <span style=\"font-size:20px; font-family:Times New Roman;\">and</span> <span style=\"font-size:20px; font-family:Times New Roman;\"><span style=\"background-color:rgba(255, 0, 0, 0.016262180537916948)\">bars</span></span> <span style=\"font-size:20px; font-family:Times New Roman;\">and</span> <span style=\"font-size:20px; font-family:Times New Roman;\">only</span> <span style=\"font-size:20px; font-family:Times New Roman;\">a</span> <span style=\"font-size:20px; font-family:Times New Roman;\">5</span> <span style=\"font-size:20px; font-family:Times New Roman;\"><span style=\"background-color:rgba(0, 0, 255, 0.12631632797245274)\">minute</span></span> <span style=\"font-size:20px; font-family:Times New Roman;\"><span style=\"background-color:rgba(0, 0, 255, 0.33722057785277093)\">walk</span></span> <span style=\"font-size:20px; font-family:Times New Roman;\">to</span> <span style=\"font-size:20px; font-family:Times New Roman;\">the</span> <span style=\"font-size:20px; font-family:Times New Roman;\"><span style=\"background-color:rgba(0, 0, 255, 0.053939507864126573)\">River</span></span> <span style=\"font-size:20px; font-family:Times New Roman;\"><span style=\"background-color:rgba(255, 0, 0, 0.01354337024867304)\">Thames</span></span>"
      ],
      "text/plain": [
       "<IPython.core.display.HTML object>"
      ]
     },
     "metadata": {},
     "output_type": "display_data"
    },
    {
     "data": {
      "text/plain": [
       "({17: {'birthday': 0.20607361893045928,\n",
       "   'cake': 0.07180666434838738,\n",
       "   'lovely': 0.03583706475558209,\n",
       "   'touch': 0.03315075212050046,\n",
       "   'hotel': 0.03248450309176592,\n",
       "   'surprise': 0.029825117088008203,\n",
       "   'bottle': 0.026784976689852413,\n",
       "   'room': 0.025576446434395505,\n",
       "   'great': 0.017378964317208652,\n",
       "   'chocolate': 0.013275472910564464,\n",
       "   'nice': 0.012248426532120089,\n",
       "   'bed': 0.010796654437361573,\n",
       "   'location': 0.010148639504303765,\n",
       "   'comfortable': 0.00725939768764715,\n",
       "   'close': 0.004262553515467264,\n",
       "   'mini': 0.004136425974847799,\n",
       "   'minute': 0.00398355190167734,\n",
       "   'good': 0.0038548806151448354,\n",
       "   'walk': 0.0034256818705725523,\n",
       "   'bars': 0.0033512063951490283,\n",
       "   'restaurants': 0.003308653987372047,\n",
       "   'expecting': 0.0029343997645695816,\n",
       "   'thames': 0.0027909313196591676,\n",
       "   'walked': 0.0025928814208823663,\n",
       "   'champers': 0.0023814333546233035,\n",
       "   'threatres': 0.0023814333546233035,\n",
       "   'river': 0.0023725219572836077,\n",
       "   'wasnt': 0.0013887057123993264,\n",
       "   'smelt': 0.0013664829211018994},\n",
       "  0: {'hotel': 0.048535853840198054,\n",
       "   'location': 0.03583580936752398,\n",
       "   'great': 0.030762376692012823,\n",
       "   'room': 0.02927797724444089,\n",
       "   'nice': 0.026978779987902997,\n",
       "   'good': 0.026974237738203566,\n",
       "   'comfortable': 0.026514309589912105,\n",
       "   'lovely': 0.01777938640361986,\n",
       "   'close': 0.016550970705302582,\n",
       "   'walk': 0.01636728867856922,\n",
       "   'bed': 0.013568441629805767,\n",
       "   'restaurants': 0.008294795396581435,\n",
       "   'minute': 0.006130870832101487,\n",
       "   'bars': 0.0029410566337439094,\n",
       "   'river': 0.002618000069905461,\n",
       "   'touch': 0.0017113808816594154,\n",
       "   'walked': 0.001706656544886941,\n",
       "   'mini': 0.0014814313902450761,\n",
       "   'birthday': 0.001242926846841495,\n",
       "   'thames': 0.0010265670204565379,\n",
       "   'surprise': 0.0008660799288377162,\n",
       "   'bottle': 0.0006913764257306162,\n",
       "   'chocolate': 0.0006682022082110124,\n",
       "   'cake': 0.0004043957695106097,\n",
       "   'expecting': 0.00011361451856302087,\n",
       "   'wasnt': 0.0001075362211004738,\n",
       "   'smelt': 0.00010581537054366222},\n",
       "  2: {'good': 0.05274792941197384,\n",
       "   'great': 0.042179586284901954,\n",
       "   'location': 0.03927079997120542,\n",
       "   'nice': 0.029344159840677307,\n",
       "   'room': 0.02884931166699843,\n",
       "   'comfortable': 0.02663939781420701,\n",
       "   'bed': 0.020635347520292023,\n",
       "   'lovely': 0.02049519077701293,\n",
       "   'hotel': 0.017743692380512918,\n",
       "   'close': 0.005207704169536734,\n",
       "   'restaurants': 0.003601315775755534,\n",
       "   'mini': 0.0025727468762341355,\n",
       "   'chocolate': 0.0018578229431627934,\n",
       "   'touch': 0.0017182404665573628,\n",
       "   'walk': 0.0015980122184729303,\n",
       "   'bars': 0.0013895741294798608,\n",
       "   'surprise': 0.001352635456048798,\n",
       "   'cake': 0.0012180500257849968,\n",
       "   'birthday': 0.0011271434020898904,\n",
       "   'expecting': 0.0009125592811069658,\n",
       "   'minute': 0.0006194158177660867,\n",
       "   'thames': 0.00043397125187894496,\n",
       "   'bottle': 0.00034707380602565127,\n",
       "   'smelt': 0.00021247900289219891,\n",
       "   'river': 0.00018445568987315476}},\n",
       " None)"
      ]
     },
     "execution_count": 43,
     "metadata": {},
     "output_type": "execute_result"
    }
   ],
   "source": [
    "explain_BERTopic_topN(df, selected_docs.review[18], topic_model, cutoff_method = percentile_cutoff, cutoff_value = 85, titles = titles, top_n_words=10)"
   ]
  },
  {
   "cell_type": "code",
   "execution_count": null,
   "metadata": {
    "id": "NFggp8JeUO8M"
   },
   "outputs": [],
   "source": [
    "#selected_docs = selected_docs[selected_docs[\"assigned_topic\"]==selected_docs[\"Topic1\"]]"
   ]
  },
  {
   "cell_type": "code",
   "execution_count": null,
   "metadata": {
    "id": "5BqelwEuMoFs"
   },
   "outputs": [],
   "source": [
    "#selected_reviews.to_csv(path + \"selected_reviews30.csv\", index=False)"
   ]
  },
  {
   "cell_type": "code",
   "execution_count": null,
   "metadata": {
    "colab": {
     "base_uri": "https://localhost:8080/",
     "height": 1000
    },
    "executionInfo": {
     "elapsed": 6422265,
     "status": "ok",
     "timestamp": 1740577590003,
     "user": {
      "displayName": "Sule Ozturk",
      "userId": "14268268360802730607"
     },
     "user_tz": -180
    },
    "id": "Lffdzs1htRdS",
    "outputId": "dfab1b96-9a20-4e2c-806c-fb914979d37c"
   },
   "outputs": [
    {
     "name": "stdout",
     "output_type": "stream",
     "text": [
      "\n",
      " The location and underground car parking make this a best choice for travellers by car wishing to stay in central London \n"
     ]
    },
    {
     "data": {
      "text/html": [
       "<span style=\"font-size:16px; font-family:Times New Roman;\">\n",
       " <span style=\"background-color: rgba(255, 0, 0, 1);\">Number 1 Topic is 0</span> with  probability 0.1789759908904629, Title is: Hospitality Excellence</span>"
      ],
      "text/plain": [
       "<IPython.core.display.HTML object>"
      ]
     },
     "metadata": {},
     "output_type": "display_data"
    },
    {
     "data": {
      "text/html": [
       "<span style=\"font-size:16px; font-family:Times New Roman;\">\n",
       " <span style=\"background-color: rgba(0, 0, 255, 1);\">Number 2 Topic is 5</span> with  probability 0.14402822668851814, Title is: Proximity and Access</span>"
      ],
      "text/plain": [
       "<IPython.core.display.HTML object>"
      ]
     },
     "metadata": {},
     "output_type": "display_data"
    },
    {
     "data": {
      "text/html": [
       "<span style=\"font-size:16px; font-family:Times New Roman;\">\n",
       " <span style=\"background-color: rgba(0, 255, 0, 1);\">Number 3 Topic is 2</span> with  probability 0.05949354865551057, Title is: Hotel Amenities Excellence</span>"
      ],
      "text/plain": [
       "<IPython.core.display.HTML object>"
      ]
     },
     "metadata": {},
     "output_type": "display_data"
    },
    {
     "name": "stdout",
     "output_type": "stream",
     "text": [
      "[0, 5, 2]\n",
      "{0: {'location': 0.03583580936752398, 'stay': 0.016456744779990817, 'central': 0.010406511528955734, 'best': 0.007895699205478163, 'underground': 0.006519144134206303, 'make': 0.003937370254746942, 'parking': 0.003327050137966193, 'choice': 0.003212424447332434, 'car': 0.002135163258730852, 'wishing': 0.0005415556536534105, 'travellers': 0.0004653617502132213}, 5: {'location': 0.14174051311759348, 'underground': 0.027682612086189207, 'central': 0.024011826851443253, 'parking': 0.006554943880474343, 'best': 0.006469253175628134, 'stay': 0.005727323496404397, 'car': 0.001818650700714809, 'make': 0.0008161664024383589, 'choice': 0.0008090975279181768, 'wishing': 0.00079281893130863, 'travellers': 0.0006812736659417872}, 2: {'location': 0.03927079997120542, 'choice': 0.01609182204729172, 'stay': 0.008709643986363133, 'best': 0.008090461009697398, 'parking': 0.0047452207717590756, 'central': 0.004615931390134203, 'make': 0.002658757155678278, 'car': 0.002338605223743285, 'underground': 0.0007655291549202655, 'travellers': 0.00023361351040365508}}\n"
     ]
    },
    {
     "data": {
      "text/html": [
       "<span style=\"font-size:20px; font-family:Times New Roman;\">The</span> <span style=\"font-size:20px; font-family:Times New Roman;\"><span style=\"background-color:rgba(0, 0, 255, 1.0)\">location</span></span> <span style=\"font-size:20px; font-family:Times New Roman;\">and</span> <span style=\"font-size:20px; font-family:Times New Roman;\"><span style=\"background-color:rgba(0, 0, 255, 0.19530486716400292)\">underground</span></span> <span style=\"font-size:20px; font-family:Times New Roman;\"><span style=\"background-color:rgba(0, 255, 0, 0.020291864741504892)\">car</span></span> <span style=\"font-size:20px; font-family:Times New Roman;\"><span style=\"background-color:rgba(0, 0, 255, 0.04624608544372988)\">parking</span></span> <span style=\"font-size:20px; font-family:Times New Roman;\"><span style=\"background-color:rgba(255, 0, 0, 0.08112292137088065)\">make</span></span> <span style=\"font-size:20px; font-family:Times New Roman;\">this</span> <span style=\"font-size:20px; font-family:Times New Roman;\">a</span> <span style=\"font-size:20px; font-family:Times New Roman;\"><span style=\"background-color:rgba(0, 255, 0, 0.07020019404661183)\">best</span></span> <span style=\"font-size:20px; font-family:Times New Roman;\"><span style=\"background-color:rgba(0, 255, 0, 0.13962727574230988)\">choice</span></span> <span style=\"font-size:20px; font-family:Times New Roman;\">for</span> <span style=\"font-size:20px; font-family:Times New Roman;\"><span style=\"background-color:rgba(0, 0, 255, 0.004806485111116932)\">travellers</span></span> <span style=\"font-size:20px; font-family:Times New Roman;\">by</span> <span style=\"font-size:20px; font-family:Times New Roman;\"><span style=\"background-color:rgba(0, 255, 0, 0.020291864741504892)\">car</span></span> <span style=\"font-size:20px; font-family:Times New Roman;\"><span style=\"background-color:rgba(0, 0, 255, 0.0055934532327456465)\">wishing</span></span> <span style=\"font-size:20px; font-family:Times New Roman;\">to</span> <span style=\"font-size:20px; font-family:Times New Roman;\"><span style=\"background-color:rgba(255, 0, 0, 0.3390636710373707)\">stay</span></span> <span style=\"font-size:20px; font-family:Times New Roman;\">in</span> <span style=\"font-size:20px; font-family:Times New Roman;\"><span style=\"background-color:rgba(0, 0, 255, 0.16940694176492857)\">central</span></span> <span style=\"font-size:20px; font-family:Times New Roman;\"><span style=\"background-color:rgba(0, 0, 255, 0.20924408402383884)\">London</span></span>"
      ],
      "text/plain": [
       "<IPython.core.display.HTML object>"
      ]
     },
     "metadata": {},
     "output_type": "display_data"
    },
    {
     "name": "stdout",
     "output_type": "stream",
     "text": [
      "\n",
      " The location of the hotel was good as it was in the city center \n"
     ]
    },
    {
     "data": {
      "text/html": [
       "<span style=\"font-size:16px; font-family:Times New Roman;\">\n",
       " <span style=\"background-color: rgba(255, 0, 0, 1);\">Number 1 Topic is 0</span> with  probability 0.4493866679057899, Title is: Hospitality Excellence</span>"
      ],
      "text/plain": [
       "<IPython.core.display.HTML object>"
      ]
     },
     "metadata": {},
     "output_type": "display_data"
    },
    {
     "data": {
      "text/html": [
       "<span style=\"font-size:16px; font-family:Times New Roman;\">\n",
       " <span style=\"background-color: rgba(0, 0, 255, 1);\">Number 2 Topic is 2</span> with  probability 0.0603928740775705, Title is: Hotel Amenities Excellence</span>"
      ],
      "text/plain": [
       "<IPython.core.display.HTML object>"
      ]
     },
     "metadata": {},
     "output_type": "display_data"
    },
    {
     "data": {
      "text/html": [
       "<span style=\"font-size:16px; font-family:Times New Roman;\">\n",
       " <span style=\"background-color: rgba(0, 255, 0, 1);\">Number 3 Topic is 5</span> with  probability 0.04925880403977171, Title is: Proximity and Access</span>"
      ],
      "text/plain": [
       "<IPython.core.display.HTML object>"
      ]
     },
     "metadata": {},
     "output_type": "display_data"
    },
    {
     "name": "stdout",
     "output_type": "stream",
     "text": [
      "[0, 2, 5]\n",
      "{0: {'hotel': 0.048535853840198054, 'location': 0.03583580936752398, 'good': 0.026974237738203566, 'city': 0.012383520572943145, 'center': 0.006722657675527552}, 2: {'good': 0.05274792941197384, 'location': 0.03927079997120542, 'hotel': 0.017743692380512918, 'city': 0.003277832142624648, 'center': 0.002273550666846739}, 5: {'location': 0.14174051311759348, 'city': 0.04845400648017729, 'good': 0.032417824964904675, 'center': 0.027764068271795412, 'hotel': 0.0007554001637822298}}\n"
     ]
    },
    {
     "data": {
      "text/html": [
       "<span style=\"font-size:20px; font-family:Times New Roman;\">The</span> <span style=\"font-size:20px; font-family:Times New Roman;\"><span style=\"background-color:rgba(0, 255, 0, 1.0)\">location</span></span> <span style=\"font-size:20px; font-family:Times New Roman;\">of</span> <span style=\"font-size:20px; font-family:Times New Roman;\">the</span> <span style=\"font-size:20px; font-family:Times New Roman;\"><span style=\"background-color:rgba(255, 0, 0, 1.0)\">hotel</span></span> <span style=\"font-size:20px; font-family:Times New Roman;\">was</span> <span style=\"font-size:20px; font-family:Times New Roman;\"><span style=\"background-color:rgba(0, 0, 255, 0.45768898408127245)\">good</span></span> <span style=\"font-size:20px; font-family:Times New Roman;\">as</span> <span style=\"font-size:20px; font-family:Times New Roman;\">it</span> <span style=\"font-size:20px; font-family:Times New Roman;\">was</span> <span style=\"font-size:20px; font-family:Times New Roman;\">in</span> <span style=\"font-size:20px; font-family:Times New Roman;\">the</span> <span style=\"font-size:20px; font-family:Times New Roman;\"><span style=\"background-color:rgba(0, 255, 0, 0.34185008516215787)\">city</span></span> <span style=\"font-size:20px; font-family:Times New Roman;\"><span style=\"background-color:rgba(0, 255, 0, 0.19587955243792052)\">center</span></span>"
      ],
      "text/plain": [
       "<IPython.core.display.HTML object>"
      ]
     },
     "metadata": {},
     "output_type": "display_data"
    },
    {
     "name": "stdout",
     "output_type": "stream",
     "text": [
      "\n",
      " Location for gig in Wembley Reception staff Bathrooms\n"
     ]
    },
    {
     "data": {
      "text/html": [
       "<span style=\"font-size:16px; font-family:Times New Roman;\">\n",
       " <span style=\"background-color: rgba(255, 0, 0, 1);\">Number 1 Topic is 0</span> with  probability 0.5594497733631916, Title is: Hospitality Excellence</span>"
      ],
      "text/plain": [
       "<IPython.core.display.HTML object>"
      ]
     },
     "metadata": {},
     "output_type": "display_data"
    },
    {
     "data": {
      "text/html": [
       "<span style=\"font-size:16px; font-family:Times New Roman;\">\n",
       " <span style=\"background-color: rgba(0, 0, 255, 1);\">Number 2 Topic is 2</span> with  probability 0.06581788267606746, Title is: Hotel Amenities Excellence</span>"
      ],
      "text/plain": [
       "<IPython.core.display.HTML object>"
      ]
     },
     "metadata": {},
     "output_type": "display_data"
    },
    {
     "data": {
      "text/html": [
       "<span style=\"font-size:16px; font-family:Times New Roman;\">\n",
       " <span style=\"background-color: rgba(0, 255, 0, 1);\">Number 3 Topic is 1</span> with  probability 0.041489897119696875, Title is: Bathroom and spa</span>"
      ],
      "text/plain": [
       "<IPython.core.display.HTML object>"
      ]
     },
     "metadata": {},
     "output_type": "display_data"
    },
    {
     "name": "stdout",
     "output_type": "stream",
     "text": [
      "[0, 2, 1]\n",
      "{0: {'staff': 0.04179384363660856, 'gig': 0.00014918221313796941}, 2: {'staff': 0.05349265438589445}, 1: {'staff': 0.007214016718787336}}\n"
     ]
    },
    {
     "data": {
      "text/html": [
       "<span style=\"font-size:20px; font-family:Times New Roman;\"><span style=\"background-color:rgba(0, 0, 255, 0.3407491581802222)\">Location</span></span> <span style=\"font-size:20px; font-family:Times New Roman;\">for</span> <span style=\"font-size:20px; font-family:Times New Roman;\"><span style=\"background-color:rgba(255, 0, 0, 0.003073649711183502)\">gig</span></span> <span style=\"font-size:20px; font-family:Times New Roman;\">in</span> <span style=\"font-size:20px; font-family:Times New Roman;\"><span style=\"background-color:rgba(0, 0, 255, 0.0035685893684069114)\">Wembley</span></span> <span style=\"font-size:20px; font-family:Times New Roman;\"><span style=\"background-color:rgba(0, 0, 255, 0.07967518288767583)\">Reception</span></span> <span style=\"font-size:20px; font-family:Times New Roman;\"><span style=\"background-color:rgba(0, 0, 255, 0.4641508949189763)\">staff</span></span> <span style=\"font-size:20px; font-family:Times New Roman;\"><span style=\"background-color:rgba(0, 255, 0, 0.09482798010674007)\">Bathrooms</span></span>"
      ],
      "text/plain": [
       "<IPython.core.display.HTML object>"
      ]
     },
     "metadata": {},
     "output_type": "display_data"
    },
    {
     "name": "stdout",
     "output_type": "stream",
     "text": [
      "\n",
      " One of the nearest hotels from Milan central station Check out time until noon \n"
     ]
    },
    {
     "data": {
      "text/html": [
       "<span style=\"font-size:16px; font-family:Times New Roman;\">\n",
       " <span style=\"background-color: rgba(255, 0, 0, 1);\">Number 1 Topic is 0</span> with  probability 0.5679741416023724, Title is: Hospitality Excellence</span>"
      ],
      "text/plain": [
       "<IPython.core.display.HTML object>"
      ]
     },
     "metadata": {},
     "output_type": "display_data"
    },
    {
     "data": {
      "text/html": [
       "<span style=\"font-size:16px; font-family:Times New Roman;\">\n",
       " <span style=\"background-color: rgba(0, 0, 255, 1);\">Number 2 Topic is 2</span> with  probability 0.124614678393076, Title is: Hotel Amenities Excellence</span>"
      ],
      "text/plain": [
       "<IPython.core.display.HTML object>"
      ]
     },
     "metadata": {},
     "output_type": "display_data"
    },
    {
     "data": {
      "text/html": [
       "<span style=\"font-size:16px; font-family:Times New Roman;\">\n",
       " <span style=\"background-color: rgba(0, 255, 0, 1);\">Number 3 Topic is 5</span> with  probability 0.07245722042956812, Title is: Proximity and Access</span>"
      ],
      "text/plain": [
       "<IPython.core.display.HTML object>"
      ]
     },
     "metadata": {},
     "output_type": "display_data"
    },
    {
     "name": "stdout",
     "output_type": "stream",
     "text": [
      "[0, 2, 5]\n",
      "{0: {'station': 0.022796498986596227, 'central': 0.010406511528955734, 'time': 0.006720173463717399, 'hotels': 0.00578109527760408, 'nearest': 0.0014594267925860036, 'noon': 6.604498881306857e-05}, 2: {'time': 0.004897515683972707, 'central': 0.004615931390134203, 'hotels': 0.0017859283564440058, 'station': 0.000588125197964443, 'noon': 0.00026523884567860174}, 5: {'station': 0.09004357654776542, 'central': 0.024011826851443253, 'nearest': 0.010377532681037272, 'time': 0.0030387965460125167}}\n"
     ]
    },
    {
     "data": {
      "text/html": [
       "<span style=\"font-size:20px; font-family:Times New Roman;\"><span style=\"background-color:rgba(255, 0, 0, 0.13728360313935642)\">One</span></span> <span style=\"font-size:20px; font-family:Times New Roman;\">of</span> <span style=\"font-size:20px; font-family:Times New Roman;\">the</span> <span style=\"font-size:20px; font-family:Times New Roman;\"><span style=\"background-color:rgba(0, 255, 0, 0.07321500714779877)\">nearest</span></span> <span style=\"font-size:20px; font-family:Times New Roman;\"><span style=\"background-color:rgba(255, 0, 0, 0.11910978833581576)\">hotels</span></span> <span style=\"font-size:20px; font-family:Times New Roman;\">from</span> <span style=\"font-size:20px; font-family:Times New Roman;\"><span style=\"background-color:rgba(255, 0, 0, 0.033817426694833896)\">Milan</span></span> <span style=\"font-size:20px; font-family:Times New Roman;\"><span style=\"background-color:rgba(0, 255, 0, 0.16940694176492857)\">central</span></span> <span style=\"font-size:20px; font-family:Times New Roman;\"><span style=\"background-color:rgba(0, 255, 0, 0.6352705699115238)\">station</span></span> <span style=\"font-size:20px; font-family:Times New Roman;\"><span style=\"background-color:rgba(255, 0, 0, 0.11368983564465183)\">Check</span></span> <span style=\"font-size:20px; font-family:Times New Roman;\">out</span> <span style=\"font-size:20px; font-family:Times New Roman;\"><span style=\"background-color:rgba(255, 0, 0, 0.13845792196925688)\">time</span></span> <span style=\"font-size:20px; font-family:Times New Roman;\">until</span> <span style=\"font-size:20px; font-family:Times New Roman;\"><span style=\"background-color:rgba(0, 0, 255, 0.0023014533304120824)\">noon</span></span>"
      ],
      "text/plain": [
       "<IPython.core.display.HTML object>"
      ]
     },
     "metadata": {},
     "output_type": "display_data"
    },
    {
     "name": "stdout",
     "output_type": "stream",
     "text": [
      "\n",
      " Everything you would expect from a premium hotel top service facilities and location\n"
     ]
    },
    {
     "data": {
      "text/html": [
       "<span style=\"font-size:16px; font-family:Times New Roman;\">\n",
       " <span style=\"background-color: rgba(255, 0, 0, 1);\">Number 1 Topic is 0</span> with  probability 0.2613933549098866, Title is: Hospitality Excellence</span>"
      ],
      "text/plain": [
       "<IPython.core.display.HTML object>"
      ]
     },
     "metadata": {},
     "output_type": "display_data"
    },
    {
     "data": {
      "text/html": [
       "<span style=\"font-size:16px; font-family:Times New Roman;\">\n",
       " <span style=\"background-color: rgba(0, 0, 255, 1);\">Number 2 Topic is 2</span> with  probability 0.051762169642526605, Title is: Hotel Amenities Excellence</span>"
      ],
      "text/plain": [
       "<IPython.core.display.HTML object>"
      ]
     },
     "metadata": {},
     "output_type": "display_data"
    },
    {
     "data": {
      "text/html": [
       "<span style=\"font-size:16px; font-family:Times New Roman;\">\n",
       " <span style=\"background-color: rgba(0, 255, 0, 1);\">Number 3 Topic is 5</span> with  probability 0.04470438806205025, Title is: Proximity and Access</span>"
      ],
      "text/plain": [
       "<IPython.core.display.HTML object>"
      ]
     },
     "metadata": {},
     "output_type": "display_data"
    },
    {
     "name": "stdout",
     "output_type": "stream",
     "text": [
      "[0, 2, 5]\n",
      "{0: {'hotel': 0.048535853840198054, 'location': 0.03583580936752398, 'would': 0.01093678210925847, 'service': 0.010679983175341665, 'facilities': 0.00916084309476282, 'top': 0.003927664146842657, 'expect': 0.0010802756652040877, 'premium': 0.0005314746698187761}, 2: {'location': 0.03927079997120542, 'hotel': 0.017743692380512918, 'service': 0.015199719832633175, 'would': 0.008936242798054956, 'facilities': 0.008272363218351725, 'top': 0.005842084555032761, 'expect': 0.0005206107090384769, 'premium': 0.00047431549804512223}, 5: {'location': 0.14174051311759348, 'service': 0.00713293082978673, 'would': 0.005654582924524193, 'facilities': 0.003174239189712269, 'hotel': 0.0007554001637822298, 'top': 0.0004259233931582144}}\n"
     ]
    },
    {
     "data": {
      "text/html": [
       "<span style=\"font-size:20px; font-family:Times New Roman;\"><span style=\"background-color:rgba(0, 255, 0, 0.08717668067358524)\">Everything</span></span> <span style=\"font-size:20px; font-family:Times New Roman;\">you</span> <span style=\"font-size:20px; font-family:Times New Roman;\"><span style=\"background-color:rgba(255, 0, 0, 0.22533408282601342)\">would</span></span> <span style=\"font-size:20px; font-family:Times New Roman;\"><span style=\"background-color:rgba(255, 0, 0, 0.022257271269211478)\">expect</span></span> <span style=\"font-size:20px; font-family:Times New Roman;\">from</span> <span style=\"font-size:20px; font-family:Times New Roman;\">a</span> <span style=\"font-size:20px; font-family:Times New Roman;\"><span style=\"background-color:rgba(255, 0, 0, 0.010950145671046206)\">premium</span></span> <span style=\"font-size:20px; font-family:Times New Roman;\"><span style=\"background-color:rgba(255, 0, 0, 1.0)\">hotel</span></span> <span style=\"font-size:20px; font-family:Times New Roman;\"><span style=\"background-color:rgba(0, 0, 255, 0.05069123612467086)\">top</span></span> <span style=\"font-size:20px; font-family:Times New Roman;\"><span style=\"background-color:rgba(0, 0, 255, 0.13188658599627717)\">service</span></span> <span style=\"font-size:20px; font-family:Times New Roman;\"><span style=\"background-color:rgba(255, 0, 0, 0.18874383306255313)\">facilities</span></span> <span style=\"font-size:20px; font-family:Times New Roman;\">and</span> <span style=\"font-size:20px; font-family:Times New Roman;\"><span style=\"background-color:rgba(0, 255, 0, 1.0)\">location</span></span>"
      ],
      "text/plain": [
       "<IPython.core.display.HTML object>"
      ]
     },
     "metadata": {},
     "output_type": "display_data"
    },
    {
     "name": "stdout",
     "output_type": "stream",
     "text": [
      "\n",
      " The location was perfect and so beautiful Only a tram ride from the centre anywhere really \n"
     ]
    },
    {
     "data": {
      "text/html": [
       "<span style=\"font-size:16px; font-family:Times New Roman;\">\n",
       " <span style=\"background-color: rgba(255, 0, 0, 1);\">Number 1 Topic is 5</span> with  probability 0.36984263699320985, Title is: Proximity and Access</span>"
      ],
      "text/plain": [
       "<IPython.core.display.HTML object>"
      ]
     },
     "metadata": {},
     "output_type": "display_data"
    },
    {
     "data": {
      "text/html": [
       "<span style=\"font-size:16px; font-family:Times New Roman;\">\n",
       " <span style=\"background-color: rgba(0, 0, 255, 1);\">Number 2 Topic is 0</span> with  probability 0.14819853237365965, Title is: Hospitality Excellence</span>"
      ],
      "text/plain": [
       "<IPython.core.display.HTML object>"
      ]
     },
     "metadata": {},
     "output_type": "display_data"
    },
    {
     "data": {
      "text/html": [
       "<span style=\"font-size:16px; font-family:Times New Roman;\">\n",
       " <span style=\"background-color: rgba(0, 255, 0, 1);\">Number 3 Topic is 2</span> with  probability 0.05158509981014625, Title is: Hotel Amenities Excellence</span>"
      ],
      "text/plain": [
       "<IPython.core.display.HTML object>"
      ]
     },
     "metadata": {},
     "output_type": "display_data"
    },
    {
     "name": "stdout",
     "output_type": "stream",
     "text": [
      "[5, 0, 2]\n",
      "{5: {'location': 0.14174051311759348, 'centre': 0.02854032843847433, 'tram': 0.023521112506721183, 'perfect': 0.016807981079742153, 'really': 0.006409283487508406, 'ride': 0.004863650557862256, 'anywhere': 0.004655651276348218, 'beautiful': 0.004059501525359507}, 0: {'location': 0.03583580936752398, 'perfect': 0.015017728020002943, 'really': 0.01449127363326545, 'beautiful': 0.01156445533805364, 'tram': 0.008925949724181885, 'centre': 0.00785986696741712, 'ride': 0.002024492068085497, 'anywhere': 0.0014907019023621642}, 2: {'location': 0.03927079997120542, 'really': 0.013450463700559053, 'perfect': 0.013276805322470235, 'beautiful': 0.008099092352677483, 'centre': 0.001102724333975542, 'anywhere': 0.00039911385550894704, 'ride': 0.00020847247901256455}}\n"
     ]
    },
    {
     "data": {
      "text/html": [
       "<span style=\"font-size:20px; font-family:Times New Roman;\">The</span> <span style=\"font-size:20px; font-family:Times New Roman;\"><span style=\"background-color:rgba(255, 0, 0, 1.0)\">location</span></span> <span style=\"font-size:20px; font-family:Times New Roman;\">was</span> <span style=\"font-size:20px; font-family:Times New Roman;\"><span style=\"background-color:rgba(255, 0, 0, 0.11858275880374156)\">perfect</span></span> <span style=\"font-size:20px; font-family:Times New Roman;\">and</span> <span style=\"font-size:20px; font-family:Times New Roman;\">so</span> <span style=\"font-size:20px; font-family:Times New Roman;\"><span style=\"background-color:rgba(0, 0, 255, 0.23826623873001285)\">beautiful</span></span> <span style=\"font-size:20px; font-family:Times New Roman;\">Only</span> <span style=\"font-size:20px; font-family:Times New Roman;\">a</span> <span style=\"font-size:20px; font-family:Times New Roman;\"><span style=\"background-color:rgba(255, 0, 0, 0.16594488046764122)\">tram</span></span> <span style=\"font-size:20px; font-family:Times New Roman;\"><span style=\"background-color:rgba(255, 0, 0, 0.034313764292832644)\">ride</span></span> <span style=\"font-size:20px; font-family:Times New Roman;\">from</span> <span style=\"font-size:20px; font-family:Times New Roman;\">the</span> <span style=\"font-size:20px; font-family:Times New Roman;\"><span style=\"background-color:rgba(255, 0, 0, 0.2013561811702781)\">centre</span></span> <span style=\"font-size:20px; font-family:Times New Roman;\"><span style=\"background-color:rgba(255, 0, 0, 0.032846299014634636)\">anywhere</span></span> <span style=\"font-size:20px; font-family:Times New Roman;\"><span style=\"background-color:rgba(0, 0, 255, 0.29856842904169906)\">really</span></span>"
      ],
      "text/plain": [
       "<IPython.core.display.HTML object>"
      ]
     },
     "metadata": {},
     "output_type": "display_data"
    },
    {
     "name": "stdout",
     "output_type": "stream",
     "text": [
      "\n",
      " Proximity to greater London Hyde Park and services\n"
     ]
    },
    {
     "data": {
      "text/html": [
       "<span style=\"font-size:16px; font-family:Times New Roman;\">\n",
       " <span style=\"background-color: rgba(255, 0, 0, 1);\">Number 1 Topic is 5</span> with  probability 0.21702946790041583, Title is: Proximity and Access</span>"
      ],
      "text/plain": [
       "<IPython.core.display.HTML object>"
      ]
     },
     "metadata": {},
     "output_type": "display_data"
    },
    {
     "data": {
      "text/html": [
       "<span style=\"font-size:16px; font-family:Times New Roman;\">\n",
       " <span style=\"background-color: rgba(0, 0, 255, 1);\">Number 2 Topic is 0</span> with  probability 0.21230951059211944, Title is: Hospitality Excellence</span>"
      ],
      "text/plain": [
       "<IPython.core.display.HTML object>"
      ]
     },
     "metadata": {},
     "output_type": "display_data"
    },
    {
     "data": {
      "text/html": [
       "<span style=\"font-size:16px; font-family:Times New Roman;\">\n",
       " <span style=\"background-color: rgba(0, 255, 0, 1);\">Number 3 Topic is 2</span> with  probability 0.06983054522576301, Title is: Hotel Amenities Excellence</span>"
      ],
      "text/plain": [
       "<IPython.core.display.HTML object>"
      ]
     },
     "metadata": {},
     "output_type": "display_data"
    },
    {
     "name": "stdout",
     "output_type": "stream",
     "text": [
      "[5, 0, 2]\n",
      "{5: {'services': 0.0026385354446682697, 'greater': 0.0009092560860151565}, 0: {'services': 0.0021627845617658696, 'greater': 0.00015527277243099544}, 2: {'services': 0.0016285901027194075}}\n"
     ]
    },
    {
     "data": {
      "text/html": [
       "<span style=\"font-size:20px; font-family:Times New Roman;\"><span style=\"background-color:rgba(255, 0, 0, 0.10292974482953361)\">Proximity</span></span> <span style=\"font-size:20px; font-family:Times New Roman;\">to</span> <span style=\"font-size:20px; font-family:Times New Roman;\"><span style=\"background-color:rgba(255, 0, 0, 0.006414934347392986)\">greater</span></span> <span style=\"font-size:20px; font-family:Times New Roman;\"><span style=\"background-color:rgba(255, 0, 0, 0.20924408402383884)\">London</span></span> <span style=\"font-size:20px; font-family:Times New Roman;\"><span style=\"background-color:rgba(255, 0, 0, 0.13544902472511042)\">Hyde</span></span> <span style=\"font-size:20px; font-family:Times New Roman;\"><span style=\"background-color:rgba(255, 0, 0, 0.14644976718407784)\">Park</span></span> <span style=\"font-size:20px; font-family:Times New Roman;\">and</span> <span style=\"font-size:20px; font-family:Times New Roman;\"><span style=\"background-color:rgba(255, 0, 0, 0.018615252524726206)\">services</span></span>"
      ],
      "text/plain": [
       "<IPython.core.display.HTML object>"
      ]
     },
     "metadata": {},
     "output_type": "display_data"
    },
    {
     "name": "stdout",
     "output_type": "stream",
     "text": [
      "\n",
      " Nice central place and nice people there I m coming again I m sure \n"
     ]
    },
    {
     "data": {
      "text/html": [
       "<span style=\"font-size:16px; font-family:Times New Roman;\">\n",
       " <span style=\"background-color: rgba(255, 0, 0, 1);\">Number 1 Topic is 5</span> with  probability 0.7055309760365438, Title is: Proximity and Access</span>"
      ],
      "text/plain": [
       "<IPython.core.display.HTML object>"
      ]
     },
     "metadata": {},
     "output_type": "display_data"
    },
    {
     "data": {
      "text/html": [
       "<span style=\"font-size:16px; font-family:Times New Roman;\">\n",
       " <span style=\"background-color: rgba(0, 0, 255, 1);\">Number 2 Topic is 0</span> with  probability 0.09097307952449289, Title is: Hospitality Excellence</span>"
      ],
      "text/plain": [
       "<IPython.core.display.HTML object>"
      ]
     },
     "metadata": {},
     "output_type": "display_data"
    },
    {
     "data": {
      "text/html": [
       "<span style=\"font-size:16px; font-family:Times New Roman;\">\n",
       " <span style=\"background-color: rgba(0, 255, 0, 1);\">Number 3 Topic is 2</span> with  probability 0.03489866050990666, Title is: Hotel Amenities Excellence</span>"
      ],
      "text/plain": [
       "<IPython.core.display.HTML object>"
      ]
     },
     "metadata": {},
     "output_type": "display_data"
    },
    {
     "name": "stdout",
     "output_type": "stream",
     "text": [
      "[5, 0, 2]\n",
      "{5: {'central': 0.024011826851443253, 'place': 0.01633537297997957, 'nice': 0.013371045055689243, 'sure': 0.002351158058014998, 'people': 0.0022840878534854977, 'coming': 0.0010326644119507445}, 0: {'nice': 0.026978779987902997, 'central': 0.010406511528955734, 'place': 0.006849958023169525, 'people': 0.0030879073013128523, 'sure': 0.0024893307632249903, 'coming': 0.0014107767323252684}, 2: {'nice': 0.029344159840677307, 'place': 0.005974948028683867, 'central': 0.004615931390134203, 'people': 0.0033939954463629487, 'sure': 0.0011287199856204629, 'coming': 0.000354107857686302}}\n"
     ]
    },
    {
     "data": {
      "text/html": [
       "<span style=\"font-size:20px; font-family:Times New Roman;\"><span style=\"background-color:rgba(0, 255, 0, 0.25461660497235233)\">Nice</span></span> <span style=\"font-size:20px; font-family:Times New Roman;\"><span style=\"background-color:rgba(255, 0, 0, 0.16940694176492857)\">central</span></span> <span style=\"font-size:20px; font-family:Times New Roman;\"><span style=\"background-color:rgba(255, 0, 0, 0.11524843970634638)\">place</span></span> <span style=\"font-size:20px; font-family:Times New Roman;\">and</span> <span style=\"font-size:20px; font-family:Times New Roman;\"><span style=\"background-color:rgba(0, 255, 0, 0.25461660497235233)\">nice</span></span> <span style=\"font-size:20px; font-family:Times New Roman;\"><span style=\"background-color:rgba(0, 255, 0, 0.02944938967537369)\">people</span></span> <span style=\"font-size:20px; font-family:Times New Roman;\">there</span> <span style=\"font-size:20px; font-family:Times New Roman;\">I</span> <span style=\"font-size:20px; font-family:Times New Roman;\">m</span> <span style=\"font-size:20px; font-family:Times New Roman;\"><span style=\"background-color:rgba(0, 0, 255, 0.029066692366640594)\">coming</span></span> <span style=\"font-size:20px; font-family:Times New Roman;\">again</span> <span style=\"font-size:20px; font-family:Times New Roman;\">I</span> <span style=\"font-size:20px; font-family:Times New Roman;\">m</span> <span style=\"font-size:20px; font-family:Times New Roman;\"><span style=\"background-color:rgba(0, 0, 255, 0.051288492243713096)\">sure</span></span>"
      ],
      "text/plain": [
       "<IPython.core.display.HTML object>"
      ]
     },
     "metadata": {},
     "output_type": "display_data"
    },
    {
     "name": "stdout",
     "output_type": "stream",
     "text": [
      "\n",
      " Splendid Property Modern clean and well maintained\n"
     ]
    },
    {
     "data": {
      "text/html": [
       "<span style=\"font-size:16px; font-family:Times New Roman;\">\n",
       " <span style=\"background-color: rgba(255, 0, 0, 1);\">Number 1 Topic is 5</span> with  probability 0.4986109688639489, Title is: Proximity and Access</span>"
      ],
      "text/plain": [
       "<IPython.core.display.HTML object>"
      ]
     },
     "metadata": {},
     "output_type": "display_data"
    },
    {
     "data": {
      "text/html": [
       "<span style=\"font-size:16px; font-family:Times New Roman;\">\n",
       " <span style=\"background-color: rgba(0, 0, 255, 1);\">Number 2 Topic is 0</span> with  probability 0.15692274055959823, Title is: Hospitality Excellence</span>"
      ],
      "text/plain": [
       "<IPython.core.display.HTML object>"
      ]
     },
     "metadata": {},
     "output_type": "display_data"
    },
    {
     "data": {
      "text/html": [
       "<span style=\"font-size:16px; font-family:Times New Roman;\">\n",
       " <span style=\"background-color: rgba(0, 255, 0, 1);\">Number 3 Topic is 2</span> with  probability 0.06196765763286767, Title is: Hotel Amenities Excellence</span>"
      ],
      "text/plain": [
       "<IPython.core.display.HTML object>"
      ]
     },
     "metadata": {},
     "output_type": "display_data"
    },
    {
     "name": "stdout",
     "output_type": "stream",
     "text": [
      "[5, 0, 2]\n",
      "{5: {'clean': 0.013530019147833895, 'well': 0.006256132742752074, 'maintained': 0.0006267386228815071}, 0: {'clean': 0.03238266017813047, 'well': 0.0154182859066096, 'maintained': 0.0014448718115013456}, 2: {'clean': 0.022127028836636753, 'well': 0.012384068586298477, 'maintained': 0.0006447391868339681}}\n"
     ]
    },
    {
     "data": {
      "text/html": [
       "<span style=\"font-size:20px; font-family:Times New Roman;\"><span style=\"background-color:rgba(0, 255, 0, 0.013517168256086665)\">Splendid</span></span> <span style=\"font-size:20px; font-family:Times New Roman;\"><span style=\"background-color:rgba(255, 0, 0, 0.05464198569116963)\">Property</span></span> <span style=\"font-size:20px; font-family:Times New Roman;\"><span style=\"background-color:rgba(0, 0, 255, 0.2816487940101514)\">Modern</span></span> <span style=\"font-size:20px; font-family:Times New Roman;\"><span style=\"background-color:rgba(0, 0, 255, 0.6671904914817983)\">clean</span></span> <span style=\"font-size:20px; font-family:Times New Roman;\">and</span> <span style=\"font-size:20px; font-family:Times New Roman;\"><span style=\"background-color:rgba(0, 0, 255, 0.3176679647456818)\">well</span></span> <span style=\"font-size:20px; font-family:Times New Roman;\"><span style=\"background-color:rgba(0, 0, 255, 0.029769164384302705)\">maintained</span></span>"
      ],
      "text/plain": [
       "<IPython.core.display.HTML object>"
      ]
     },
     "metadata": {},
     "output_type": "display_data"
    },
    {
     "name": "stdout",
     "output_type": "stream",
     "text": [
      "\n",
      " It is close to Paddington Station and other attractions\n"
     ]
    },
    {
     "data": {
      "text/html": [
       "<span style=\"font-size:16px; font-family:Times New Roman;\">\n",
       " <span style=\"background-color: rgba(255, 0, 0, 1);\">Number 1 Topic is 5</span> with  probability 0.22981119531281874, Title is: Proximity and Access</span>"
      ],
      "text/plain": [
       "<IPython.core.display.HTML object>"
      ]
     },
     "metadata": {},
     "output_type": "display_data"
    },
    {
     "data": {
      "text/html": [
       "<span style=\"font-size:16px; font-family:Times New Roman;\">\n",
       " <span style=\"background-color: rgba(0, 0, 255, 1);\">Number 2 Topic is 0</span> with  probability 0.20829141469125292, Title is: Hospitality Excellence</span>"
      ],
      "text/plain": [
       "<IPython.core.display.HTML object>"
      ]
     },
     "metadata": {},
     "output_type": "display_data"
    },
    {
     "data": {
      "text/html": [
       "<span style=\"font-size:16px; font-family:Times New Roman;\">\n",
       " <span style=\"background-color: rgba(0, 255, 0, 1);\">Number 3 Topic is 2</span> with  probability 0.0689737673326653, Title is: Hotel Amenities Excellence</span>"
      ],
      "text/plain": [
       "<IPython.core.display.HTML object>"
      ]
     },
     "metadata": {},
     "output_type": "display_data"
    },
    {
     "name": "stdout",
     "output_type": "stream",
     "text": [
      "[5, 0, 2]\n",
      "{5: {'close': 0.0643373522182428, 'attractions': 0.017996027163566537}, 0: {'close': 0.016550970705302582, 'attractions': 0.005014109612627526}, 2: {'close': 0.005207704169536734, 'attractions': 0.001299150257794545}}\n"
     ]
    },
    {
     "data": {
      "text/html": [
       "<span style=\"font-size:20px; font-family:Times New Roman;\">It</span> <span style=\"font-size:20px; font-family:Times New Roman;\">is</span> <span style=\"font-size:20px; font-family:Times New Roman;\"><span style=\"background-color:rgba(255, 0, 0, 0.45390940672597974)\">close</span></span> <span style=\"font-size:20px; font-family:Times New Roman;\">to</span> <span style=\"font-size:20px; font-family:Times New Roman;\"><span style=\"background-color:rgba(255, 0, 0, 0.15417881852696988)\">Paddington</span></span> <span style=\"font-size:20px; font-family:Times New Roman;\"><span style=\"background-color:rgba(255, 0, 0, 0.6352705699115238)\">Station</span></span> <span style=\"font-size:20px; font-family:Times New Roman;\">and</span> <span style=\"font-size:20px; font-family:Times New Roman;\">other</span> <span style=\"font-size:20px; font-family:Times New Roman;\"><span style=\"background-color:rgba(255, 0, 0, 0.12696459726116788)\">attractions</span></span>"
      ],
      "text/plain": [
       "<IPython.core.display.HTML object>"
      ]
     },
     "metadata": {},
     "output_type": "display_data"
    },
    {
     "name": "stdout",
     "output_type": "stream",
     "text": [
      "\n",
      " Really good breakfast lovely fish tank in reception \n"
     ]
    },
    {
     "data": {
      "text/html": [
       "<span style=\"font-size:16px; font-family:Times New Roman;\">\n",
       " <span style=\"background-color: rgba(255, 0, 0, 1);\">Number 1 Topic is 8</span> with  probability 0.3551056212897896, Title is: Breakfast and Pricing</span>"
      ],
      "text/plain": [
       "<IPython.core.display.HTML object>"
      ]
     },
     "metadata": {},
     "output_type": "display_data"
    },
    {
     "data": {
      "text/html": [
       "<span style=\"font-size:16px; font-family:Times New Roman;\">\n",
       " <span style=\"background-color: rgba(0, 0, 255, 1);\">Number 2 Topic is 2</span> with  probability 0.0987544160095627, Title is: Hotel Amenities Excellence</span>"
      ],
      "text/plain": [
       "<IPython.core.display.HTML object>"
      ]
     },
     "metadata": {},
     "output_type": "display_data"
    },
    {
     "data": {
      "text/html": [
       "<span style=\"font-size:16px; font-family:Times New Roman;\">\n",
       " <span style=\"background-color: rgba(0, 255, 0, 1);\">Number 3 Topic is 0</span> with  probability 0.07427494377058808, Title is: Hospitality Excellence</span>"
      ],
      "text/plain": [
       "<IPython.core.display.HTML object>"
      ]
     },
     "metadata": {},
     "output_type": "display_data"
    },
    {
     "name": "stdout",
     "output_type": "stream",
     "text": [
      "[8, 2, 0]\n",
      "{8: {'breakfast': 0.22847221878340768, 'good': 0.031121558404976116, 'lovely': 0.007964525752299901, 'fish': 0.0028508152826776847, 'reception': 0.0018923004387533507, 'tank': 0.0012662839466141473}, 2: {'breakfast': 0.11524841376258102, 'good': 0.05274792941197384, 'lovely': 0.02049519077701293, 'reception': 0.00918243844404818}, 0: {'good': 0.026974237738203566, 'lovely': 0.01777938640361986, 'breakfast': 0.011407779818943154, 'reception': 0.006982262286465954, 'fish': 0.00018519395707685752}}\n"
     ]
    },
    {
     "data": {
      "text/html": [
       "<span style=\"font-size:20px; font-family:Times New Roman;\"><span style=\"background-color:rgba(0, 255, 0, 0.29856842904169906)\">Really</span></span> <span style=\"font-size:20px; font-family:Times New Roman;\"><span style=\"background-color:rgba(0, 0, 255, 0.45768898408127245)\">good</span></span> <span style=\"font-size:20px; font-family:Times New Roman;\"><span style=\"background-color:rgba(255, 0, 0, 1.0)\">breakfast</span></span> <span style=\"font-size:20px; font-family:Times New Roman;\"><span style=\"background-color:rgba(0, 0, 255, 0.17783490555656853)\">lovely</span></span> <span style=\"font-size:20px; font-family:Times New Roman;\"><span style=\"background-color:rgba(255, 0, 0, 0.01247773273204943)\">fish</span></span> <span style=\"font-size:20px; font-family:Times New Roman;\"><span style=\"background-color:rgba(255, 0, 0, 0.005542397904467274)\">tank</span></span> <span style=\"font-size:20px; font-family:Times New Roman;\">in</span> <span style=\"font-size:20px; font-family:Times New Roman;\"><span style=\"background-color:rgba(0, 0, 255, 0.07967518288767583)\">reception</span></span>"
      ],
      "text/plain": [
       "<IPython.core.display.HTML object>"
      ]
     },
     "metadata": {},
     "output_type": "display_data"
    },
    {
     "name": "stdout",
     "output_type": "stream",
     "text": [
      "\n",
      " Breakfast was plentiful choice and catered for everyones tastes\n"
     ]
    },
    {
     "data": {
      "text/html": [
       "<span style=\"font-size:16px; font-family:Times New Roman;\">\n",
       " <span style=\"background-color: rgba(255, 0, 0, 1);\">Number 1 Topic is 8</span> with  probability 0.5934843843310162, Title is: Breakfast and Pricing</span>"
      ],
      "text/plain": [
       "<IPython.core.display.HTML object>"
      ]
     },
     "metadata": {},
     "output_type": "display_data"
    },
    {
     "data": {
      "text/html": [
       "<span style=\"font-size:16px; font-family:Times New Roman;\">\n",
       " <span style=\"background-color: rgba(0, 0, 255, 1);\">Number 2 Topic is 2</span> with  probability 0.07516507769111182, Title is: Hotel Amenities Excellence</span>"
      ],
      "text/plain": [
       "<IPython.core.display.HTML object>"
      ]
     },
     "metadata": {},
     "output_type": "display_data"
    },
    {
     "data": {
      "text/html": [
       "<span style=\"font-size:16px; font-family:Times New Roman;\">\n",
       " <span style=\"background-color: rgba(0, 255, 0, 1);\">Number 3 Topic is 0</span> with  probability 0.05729735441730958, Title is: Hospitality Excellence</span>"
      ],
      "text/plain": [
       "<IPython.core.display.HTML object>"
      ]
     },
     "metadata": {},
     "output_type": "display_data"
    },
    {
     "name": "stdout",
     "output_type": "stream",
     "text": [
      "[8, 2, 0]\n",
      "{8: {'choice': 0.034562535703461246, 'tastes': 0.004206701969586979, 'plentiful': 0.0036654567717575794, 'catered': 0.0019774636998658155, 'everyones': 0.0014193687928823675}, 2: {'choice': 0.01609182204729172, 'plentiful': 0.0023906891036621454, 'catered': 0.001289744011328173}, 0: {'choice': 0.003212424447332434, 'plentiful': 0.00041670036789690564, 'tastes': 0.00020495604943029122, 'catered': 0.00019268926144349466}}\n"
     ]
    },
    {
     "data": {
      "text/html": [
       "<span style=\"font-size:20px; font-family:Times New Roman;\"><span style=\"background-color:rgba(255, 0, 0, 1.0)\">Breakfast</span></span> <span style=\"font-size:20px; font-family:Times New Roman;\">was</span> <span style=\"font-size:20px; font-family:Times New Roman;\"><span style=\"background-color:rgba(255, 0, 0, 0.01604333687165897)\">plentiful</span></span> <span style=\"font-size:20px; font-family:Times New Roman;\"><span style=\"background-color:rgba(255, 0, 0, 0.15127675429206836)\">choice</span></span> <span style=\"font-size:20px; font-family:Times New Roman;\">and</span> <span style=\"font-size:20px; font-family:Times New Roman;\"><span style=\"background-color:rgba(255, 0, 0, 0.008655160397161708)\">catered</span></span> <span style=\"font-size:20px; font-family:Times New Roman;\">for</span> <span style=\"font-size:20px; font-family:Times New Roman;\"><span style=\"background-color:rgba(255, 0, 0, 0.006212434931653258)\">everyones</span></span> <span style=\"font-size:20px; font-family:Times New Roman;\"><span style=\"background-color:rgba(255, 0, 0, 0.018412312849182527)\">tastes</span></span>"
      ],
      "text/plain": [
       "<IPython.core.display.HTML object>"
      ]
     },
     "metadata": {},
     "output_type": "display_data"
    },
    {
     "name": "stdout",
     "output_type": "stream",
     "text": [
      "\n",
      " The bed was comfortable and the view was fabulous \n"
     ]
    },
    {
     "data": {
      "text/html": [
       "<span style=\"font-size:16px; font-family:Times New Roman;\">\n",
       " <span style=\"background-color: rgba(255, 0, 0, 1);\">Number 1 Topic is 4</span> with  probability 1.0, Title is: Bed and Comfort</span>"
      ],
      "text/plain": [
       "<IPython.core.display.HTML object>"
      ]
     },
     "metadata": {},
     "output_type": "display_data"
    },
    {
     "data": {
      "text/html": [
       "<span style=\"font-size:16px; font-family:Times New Roman;\">\n",
       " <span style=\"background-color: rgba(0, 0, 255, 1);\">Number 2 Topic is 0</span> with  probability 5.053266941526047e-307, Title is: Hospitality Excellence</span>"
      ],
      "text/plain": [
       "<IPython.core.display.HTML object>"
      ]
     },
     "metadata": {},
     "output_type": "display_data"
    },
    {
     "data": {
      "text/html": [
       "<span style=\"font-size:16px; font-family:Times New Roman;\">\n",
       " <span style=\"background-color: rgba(0, 255, 0, 1);\">Number 3 Topic is 10</span> with  probability 2.6913334599380643e-307, Title is: Room Lighting</span>"
      ],
      "text/plain": [
       "<IPython.core.display.HTML object>"
      ]
     },
     "metadata": {},
     "output_type": "display_data"
    },
    {
     "name": "stdout",
     "output_type": "stream",
     "text": [
      "[4, 0, 10]\n",
      "{4: {'bed': 0.18742485856860663, 'comfortable': 0.06669352393034343, 'view': 0.012586659016244632, 'fabulous': 0.002200884287574765}, 0: {'comfortable': 0.026514309589912105, 'bed': 0.013568441629805767, 'view': 0.011865545376186169, 'fabulous': 0.0041783087521707}, 10: {'view': 0.019503633693352413, 'bed': 0.0021077821356853864, 'comfortable': 0.0015117007563784002, 'fabulous': 0.000842718415754129}}\n"
     ]
    },
    {
     "data": {
      "text/html": [
       "<span style=\"font-size:20px; font-family:Times New Roman;\">The</span> <span style=\"font-size:20px; font-family:Times New Roman;\"><span style=\"background-color:rgba(255, 0, 0, 1.0)\">bed</span></span> <span style=\"font-size:20px; font-family:Times New Roman;\">was</span> <span style=\"font-size:20px; font-family:Times New Roman;\"><span style=\"background-color:rgba(255, 0, 0, 0.35584139926631103)\">comfortable</span></span> <span style=\"font-size:20px; font-family:Times New Roman;\">and</span> <span style=\"font-size:20px; font-family:Times New Roman;\">the</span> <span style=\"font-size:20px; font-family:Times New Roman;\"><span style=\"background-color:rgba(0, 255, 0, 0.16990811064265596)\">view</span></span> <span style=\"font-size:20px; font-family:Times New Roman;\">was</span> <span style=\"font-size:20px; font-family:Times New Roman;\"><span style=\"background-color:rgba(0, 0, 255, 0.08608705568315701)\">fabulous</span></span>"
      ],
      "text/plain": [
       "<IPython.core.display.HTML object>"
      ]
     },
     "metadata": {},
     "output_type": "display_data"
    },
    {
     "name": "stdout",
     "output_type": "stream",
     "text": [
      "\n",
      " Location is great Room was really nice Breakfast was great staff was friendly and helfull\n"
     ]
    },
    {
     "data": {
      "text/html": [
       "<span style=\"font-size:16px; font-family:Times New Roman;\">\n",
       " <span style=\"background-color: rgba(255, 0, 0, 1);\">Number 1 Topic is 2</span> with  probability 0.7722600885320311, Title is: Hotel Amenities Excellence</span>"
      ],
      "text/plain": [
       "<IPython.core.display.HTML object>"
      ]
     },
     "metadata": {},
     "output_type": "display_data"
    },
    {
     "data": {
      "text/html": [
       "<span style=\"font-size:16px; font-family:Times New Roman;\">\n",
       " <span style=\"background-color: rgba(0, 0, 255, 1);\">Number 2 Topic is 0</span> with  probability 0.07968492351613, Title is: Hospitality Excellence</span>"
      ],
      "text/plain": [
       "<IPython.core.display.HTML object>"
      ]
     },
     "metadata": {},
     "output_type": "display_data"
    },
    {
     "data": {
      "text/html": [
       "<span style=\"font-size:16px; font-family:Times New Roman;\">\n",
       " <span style=\"background-color: rgba(0, 255, 0, 1);\">Number 3 Topic is 5</span> with  probability 0.018878216683392027, Title is: Proximity and Access</span>"
      ],
      "text/plain": [
       "<IPython.core.display.HTML object>"
      ]
     },
     "metadata": {},
     "output_type": "display_data"
    },
    {
     "name": "stdout",
     "output_type": "stream",
     "text": [
      "[2, 0, 5]\n",
      "{2: {'staff': 0.05349265438589445, 'great': 0.042179586284901954, 'friendly': 0.03932130262453923, 'nice': 0.029344159840677307, 'really': 0.013450463700559053, 'helfull': 0.00033035896171392133}, 0: {'staff': 0.04179384363660856, 'friendly': 0.03084435664522748, 'great': 0.030762376692012823, 'nice': 0.026978779987902997, 'really': 0.01449127363326545, 'helfull': 0.00016452004890061324}, 5: {'great': 0.058419239225354885, 'nice': 0.013371045055689243, 'really': 0.006409283487508406, 'friendly': 0.004785912226796639, 'staff': 0.00137140708883335}}\n"
     ]
    },
    {
     "data": {
      "text/html": [
       "<span style=\"font-size:20px; font-family:Times New Roman;\"><span style=\"background-color:rgba(0, 255, 0, 1.0)\">Location</span></span> <span style=\"font-size:20px; font-family:Times New Roman;\">is</span> <span style=\"font-size:20px; font-family:Times New Roman;\"><span style=\"background-color:rgba(0, 255, 0, 0.4121562561078638)\">great</span></span> <span style=\"font-size:20px; font-family:Times New Roman;\"><span style=\"background-color:rgba(0, 0, 255, 0.6032236981106217)\">Room</span></span> <span style=\"font-size:20px; font-family:Times New Roman;\">was</span> <span style=\"font-size:20px; font-family:Times New Roman;\"><span style=\"background-color:rgba(0, 0, 255, 0.29856842904169906)\">really</span></span> <span style=\"font-size:20px; font-family:Times New Roman;\"><span style=\"background-color:rgba(255, 0, 0, 0.25461660497235233)\">nice</span></span> <span style=\"font-size:20px; font-family:Times New Roman;\"><span style=\"background-color:rgba(255, 0, 0, 1.0)\">Breakfast</span></span> <span style=\"font-size:20px; font-family:Times New Roman;\">was</span> <span style=\"font-size:20px; font-family:Times New Roman;\"><span style=\"background-color:rgba(0, 255, 0, 0.4121562561078638)\">great</span></span> <span style=\"font-size:20px; font-family:Times New Roman;\"><span style=\"background-color:rgba(255, 0, 0, 0.4641508949189763)\">staff</span></span> <span style=\"font-size:20px; font-family:Times New Roman;\">was</span> <span style=\"font-size:20px; font-family:Times New Roman;\"><span style=\"background-color:rgba(255, 0, 0, 0.34118736510806635)\">friendly</span></span> <span style=\"font-size:20px; font-family:Times New Roman;\">and</span> <span style=\"font-size:20px; font-family:Times New Roman;\"><span style=\"background-color:rgba(255, 0, 0, 0.0028664946521041196)\">helfull</span></span>"
      ],
      "text/plain": [
       "<IPython.core.display.HTML object>"
      ]
     },
     "metadata": {},
     "output_type": "display_data"
    },
    {
     "name": "stdout",
     "output_type": "stream",
     "text": [
      "\n",
      " Good location and very nice staff The restaurant is quite good too \n"
     ]
    },
    {
     "data": {
      "text/html": [
       "<span style=\"font-size:16px; font-family:Times New Roman;\">\n",
       " <span style=\"background-color: rgba(255, 0, 0, 1);\">Number 1 Topic is 2</span> with  probability 1.0, Title is: Hotel Amenities Excellence</span>"
      ],
      "text/plain": [
       "<IPython.core.display.HTML object>"
      ]
     },
     "metadata": {},
     "output_type": "display_data"
    },
    {
     "data": {
      "text/html": [
       "<span style=\"font-size:16px; font-family:Times New Roman;\">\n",
       " <span style=\"background-color: rgba(0, 0, 255, 1);\">Number 2 Topic is 0</span> with  probability 8.139857459418036e-307, Title is: Hospitality Excellence</span>"
      ],
      "text/plain": [
       "<IPython.core.display.HTML object>"
      ]
     },
     "metadata": {},
     "output_type": "display_data"
    },
    {
     "data": {
      "text/html": [
       "<span style=\"font-size:16px; font-family:Times New Roman;\">\n",
       " <span style=\"background-color: rgba(0, 255, 0, 1);\">Number 3 Topic is 5</span> with  probability 2.180368773322136e-307, Title is: Proximity and Access</span>"
      ],
      "text/plain": [
       "<IPython.core.display.HTML object>"
      ]
     },
     "metadata": {},
     "output_type": "display_data"
    },
    {
     "name": "stdout",
     "output_type": "stream",
     "text": [
      "[2, 0, 5]\n",
      "{2: {'staff': 0.05349265438589445, 'good': 0.05274792941197384, 'location': 0.03927079997120542, 'nice': 0.029344159840677307, 'restaurant': 0.0206095246084464, 'quite': 0.006677011039744786}, 0: {'staff': 0.04179384363660856, 'location': 0.03583580936752398, 'nice': 0.026978779987902997, 'good': 0.026974237738203566, 'quite': 0.005541962481607148, 'restaurant': 0.004317238448095118}, 5: {'location': 0.14174051311759348, 'good': 0.032417824964904675, 'nice': 0.013371045055689243, 'quite': 0.007515425361410283, 'staff': 0.00137140708883335, 'restaurant': 0.0006360039490465046}}\n"
     ]
    },
    {
     "data": {
      "text/html": [
       "<span style=\"font-size:20px; font-family:Times New Roman;\"><span style=\"background-color:rgba(255, 0, 0, 0.45768898408127245)\">Good</span></span> <span style=\"font-size:20px; font-family:Times New Roman;\"><span style=\"background-color:rgba(0, 255, 0, 1.0)\">location</span></span> <span style=\"font-size:20px; font-family:Times New Roman;\">and</span> <span style=\"font-size:20px; font-family:Times New Roman;\">very</span> <span style=\"font-size:20px; font-family:Times New Roman;\"><span style=\"background-color:rgba(255, 0, 0, 0.25461660497235233)\">nice</span></span> <span style=\"font-size:20px; font-family:Times New Roman;\"><span style=\"background-color:rgba(255, 0, 0, 0.4641508949189763)\">staff</span></span> <span style=\"font-size:20px; font-family:Times New Roman;\">The</span> <span style=\"font-size:20px; font-family:Times New Roman;\"><span style=\"background-color:rgba(255, 0, 0, 0.17882696980891483)\">restaurant</span></span> <span style=\"font-size:20px; font-family:Times New Roman;\">is</span> <span style=\"font-size:20px; font-family:Times New Roman;\"><span style=\"background-color:rgba(0, 255, 0, 0.05302242242607935)\">quite</span></span> <span style=\"font-size:20px; font-family:Times New Roman;\"><span style=\"background-color:rgba(255, 0, 0, 0.45768898408127245)\">good</span></span> <span style=\"font-size:20px; font-family:Times New Roman;\">too</span>"
      ],
      "text/plain": [
       "<IPython.core.display.HTML object>"
      ]
     },
     "metadata": {},
     "output_type": "display_data"
    },
    {
     "name": "stdout",
     "output_type": "stream",
     "text": [
      "\n",
      " The members of staff in the morning when you went for breakfast where very good so helpful x\n"
     ]
    },
    {
     "data": {
      "text/html": [
       "<span style=\"font-size:16px; font-family:Times New Roman;\">\n",
       " <span style=\"background-color: rgba(255, 0, 0, 1);\">Number 1 Topic is 2</span> with  probability 1.0, Title is: Hotel Amenities Excellence</span>"
      ],
      "text/plain": [
       "<IPython.core.display.HTML object>"
      ]
     },
     "metadata": {},
     "output_type": "display_data"
    },
    {
     "data": {
      "text/html": [
       "<span style=\"font-size:16px; font-family:Times New Roman;\">\n",
       " <span style=\"background-color: rgba(0, 0, 255, 1);\">Number 2 Topic is 0</span> with  probability 5.005111698920836e-307, Title is: Hospitality Excellence</span>"
      ],
      "text/plain": [
       "<IPython.core.display.HTML object>"
      ]
     },
     "metadata": {},
     "output_type": "display_data"
    },
    {
     "data": {
      "text/html": [
       "<span style=\"font-size:16px; font-family:Times New Roman;\">\n",
       " <span style=\"background-color: rgba(0, 255, 0, 1);\">Number 3 Topic is 5</span> with  probability 1.3919283558445609e-307, Title is: Proximity and Access</span>"
      ],
      "text/plain": [
       "<IPython.core.display.HTML object>"
      ]
     },
     "metadata": {},
     "output_type": "display_data"
    },
    {
     "name": "stdout",
     "output_type": "stream",
     "text": [
      "[2, 0, 5]\n",
      "{2: {'breakfast': 0.11524841376258102, 'staff': 0.05349265438589445, 'good': 0.05274792941197384, 'helpful': 0.03541471830619897, 'morning': 0.004572135360503713, 'went': 0.0027291503133699702, 'members': 0.0016677798321005164}, 0: {'staff': 0.04179384363660856, 'helpful': 0.02930849728275495, 'good': 0.026974237738203566, 'breakfast': 0.011407779818943154, 'went': 0.002610955421425444, 'morning': 0.0017239697711566822, 'members': 0.0008824709014731652}, 5: {'good': 0.032417824964904675, 'helpful': 0.002214536069618543, 'went': 0.002094437986014977, 'morning': 0.0019047794018238083, 'staff': 0.00137140708883335}}\n"
     ]
    },
    {
     "data": {
      "text/html": [
       "<span style=\"font-size:20px; font-family:Times New Roman;\">The</span> <span style=\"font-size:20px; font-family:Times New Roman;\"><span style=\"background-color:rgba(255, 0, 0, 0.01447117385525364)\">members</span></span> <span style=\"font-size:20px; font-family:Times New Roman;\">of</span> <span style=\"font-size:20px; font-family:Times New Roman;\"><span style=\"background-color:rgba(255, 0, 0, 0.4641508949189763)\">staff</span></span> <span style=\"font-size:20px; font-family:Times New Roman;\">in</span> <span style=\"font-size:20px; font-family:Times New Roman;\">the</span> <span style=\"font-size:20px; font-family:Times New Roman;\"><span style=\"background-color:rgba(255, 0, 0, 0.039672002513827215)\">morning</span></span> <span style=\"font-size:20px; font-family:Times New Roman;\">when</span> <span style=\"font-size:20px; font-family:Times New Roman;\">you</span> <span style=\"font-size:20px; font-family:Times New Roman;\"><span style=\"background-color:rgba(255, 0, 0, 0.02368058894929514)\">went</span></span> <span style=\"font-size:20px; font-family:Times New Roman;\">for</span> <span style=\"font-size:20px; font-family:Times New Roman;\"><span style=\"background-color:rgba(255, 0, 0, 1.0)\">breakfast</span></span> <span style=\"font-size:20px; font-family:Times New Roman;\">where</span> <span style=\"font-size:20px; font-family:Times New Roman;\">very</span> <span style=\"font-size:20px; font-family:Times New Roman;\"><span style=\"background-color:rgba(255, 0, 0, 0.45768898408127245)\">good</span></span> <span style=\"font-size:20px; font-family:Times New Roman;\">so</span> <span style=\"font-size:20px; font-family:Times New Roman;\"><span style=\"background-color:rgba(255, 0, 0, 0.30729028842996065)\">helpful</span></span> <span style=\"font-size:20px; font-family:Times New Roman;\">x</span>"
      ],
      "text/plain": [
       "<IPython.core.display.HTML object>"
      ]
     },
     "metadata": {},
     "output_type": "display_data"
    },
    {
     "name": "stdout",
     "output_type": "stream",
     "text": [
      "\n",
      " Friendly staff member Great value for in room breakfast Really clean room as well and tidy \n"
     ]
    },
    {
     "data": {
      "text/html": [
       "<span style=\"font-size:16px; font-family:Times New Roman;\">\n",
       " <span style=\"background-color: rgba(255, 0, 0, 1);\">Number 1 Topic is 2</span> with  probability 0.7367381222312516, Title is: Hotel Amenities Excellence</span>"
      ],
      "text/plain": [
       "<IPython.core.display.HTML object>"
      ]
     },
     "metadata": {},
     "output_type": "display_data"
    },
    {
     "data": {
      "text/html": [
       "<span style=\"font-size:16px; font-family:Times New Roman;\">\n",
       " <span style=\"background-color: rgba(0, 0, 255, 1);\">Number 2 Topic is 0</span> with  probability 0.0705901612217939, Title is: Hospitality Excellence</span>"
      ],
      "text/plain": [
       "<IPython.core.display.HTML object>"
      ]
     },
     "metadata": {},
     "output_type": "display_data"
    },
    {
     "data": {
      "text/html": [
       "<span style=\"font-size:16px; font-family:Times New Roman;\">\n",
       " <span style=\"background-color: rgba(0, 255, 0, 1);\">Number 3 Topic is 5</span> with  probability 0.017124802767169944, Title is: Proximity and Access</span>"
      ],
      "text/plain": [
       "<IPython.core.display.HTML object>"
      ]
     },
     "metadata": {},
     "output_type": "display_data"
    },
    {
     "name": "stdout",
     "output_type": "stream",
     "text": [
      "[2, 0, 5]\n",
      "{2: {'breakfast': 0.11524841376258102, 'staff': 0.05349265438589445, 'room': 0.02884931166699843, 'clean': 0.022127028836636753, 'well': 0.012384068586298477, 'value': 0.0063913698387443865, 'tidy': 0.002071691720764598, 'member': 0.0012837298974446186}, 0: {'staff': 0.04179384363660856, 'clean': 0.03238266017813047, 'room': 0.02927797724444089, 'well': 0.0154182859066096, 'breakfast': 0.011407779818943154, 'value': 0.0060475614120410245, 'tidy': 0.002954443822761726, 'member': 0.0009589537290303266}, 5: {'clean': 0.013530019147833895, 'well': 0.006256132742752074, 'value': 0.004473308366017891, 'staff': 0.00137140708883335, 'room': 0.0007605115574459432, 'tidy': 0.0005492323277753781}}\n"
     ]
    },
    {
     "data": {
      "text/html": [
       "<span style=\"font-size:20px; font-family:Times New Roman;\"><span style=\"background-color:rgba(255, 0, 0, 0.34118736510806635)\">Friendly</span></span> <span style=\"font-size:20px; font-family:Times New Roman;\"><span style=\"background-color:rgba(255, 0, 0, 0.4641508949189763)\">staff</span></span> <span style=\"font-size:20px; font-family:Times New Roman;\"><span style=\"background-color:rgba(255, 0, 0, 0.011138807516164022)\">member</span></span> <span style=\"font-size:20px; font-family:Times New Roman;\"><span style=\"background-color:rgba(0, 255, 0, 0.4121562561078638)\">Great</span></span> <span style=\"font-size:20px; font-family:Times New Roman;\"><span style=\"background-color:rgba(255, 0, 0, 0.055457334553089904)\">value</span></span> <span style=\"font-size:20px; font-family:Times New Roman;\">for</span> <span style=\"font-size:20px; font-family:Times New Roman;\">in</span> <span style=\"font-size:20px; font-family:Times New Roman;\"><span style=\"background-color:rgba(0, 0, 255, 0.6032236981106217)\">room</span></span> <span style=\"font-size:20px; font-family:Times New Roman;\"><span style=\"background-color:rgba(255, 0, 0, 1.0)\">breakfast</span></span> <span style=\"font-size:20px; font-family:Times New Roman;\"><span style=\"background-color:rgba(0, 0, 255, 0.29856842904169906)\">Really</span></span> <span style=\"font-size:20px; font-family:Times New Roman;\"><span style=\"background-color:rgba(0, 0, 255, 0.6671904914817983)\">clean</span></span> <span style=\"font-size:20px; font-family:Times New Roman;\"><span style=\"background-color:rgba(0, 0, 255, 0.6032236981106217)\">room</span></span> <span style=\"font-size:20px; font-family:Times New Roman;\">as</span> <span style=\"font-size:20px; font-family:Times New Roman;\"><span style=\"background-color:rgba(0, 0, 255, 0.3176679647456818)\">well</span></span> <span style=\"font-size:20px; font-family:Times New Roman;\">and</span> <span style=\"font-size:20px; font-family:Times New Roman;\"><span style=\"background-color:rgba(0, 0, 255, 0.060871368050701015)\">tidy</span></span>"
      ],
      "text/plain": [
       "<IPython.core.display.HTML object>"
      ]
     },
     "metadata": {},
     "output_type": "display_data"
    },
    {
     "name": "stdout",
     "output_type": "stream",
     "text": [
      "\n",
      " Good location comfortable bed friendly staff clean and quiet rooms good breakfast\n"
     ]
    },
    {
     "data": {
      "text/html": [
       "<span style=\"font-size:16px; font-family:Times New Roman;\">\n",
       " <span style=\"background-color: rgba(255, 0, 0, 1);\">Number 1 Topic is 2</span> with  probability 0.2756251928362784, Title is: Hotel Amenities Excellence</span>"
      ],
      "text/plain": [
       "<IPython.core.display.HTML object>"
      ]
     },
     "metadata": {},
     "output_type": "display_data"
    },
    {
     "data": {
      "text/html": [
       "<span style=\"font-size:16px; font-family:Times New Roman;\">\n",
       " <span style=\"background-color: rgba(0, 0, 255, 1);\">Number 2 Topic is 0</span> with  probability 0.19879106903526453, Title is: Hospitality Excellence</span>"
      ],
      "text/plain": [
       "<IPython.core.display.HTML object>"
      ]
     },
     "metadata": {},
     "output_type": "display_data"
    },
    {
     "data": {
      "text/html": [
       "<span style=\"font-size:16px; font-family:Times New Roman;\">\n",
       " <span style=\"background-color: rgba(0, 255, 0, 1);\">Number 3 Topic is 5</span> with  probability 0.0414884343141438, Title is: Proximity and Access</span>"
      ],
      "text/plain": [
       "<IPython.core.display.HTML object>"
      ]
     },
     "metadata": {},
     "output_type": "display_data"
    },
    {
     "name": "stdout",
     "output_type": "stream",
     "text": [
      "[2, 0, 5]\n",
      "{2: {'breakfast': 0.11524841376258102, 'staff': 0.05349265438589445, 'good': 0.05274792941197384, 'friendly': 0.03932130262453923, 'location': 0.03927079997120542, 'comfortable': 0.02663939781420701, 'clean': 0.022127028836636753, 'bed': 0.020635347520292023, 'rooms': 0.017568688718497552, 'quiet': 0.010463561936965635}, 0: {'staff': 0.04179384363660856, 'location': 0.03583580936752398, 'clean': 0.03238266017813047, 'friendly': 0.03084435664522748, 'good': 0.026974237738203566, 'comfortable': 0.026514309589912105, 'rooms': 0.022525856144947343, 'quiet': 0.014492800537951914, 'bed': 0.013568441629805767, 'breakfast': 0.011407779818943154}, 5: {'location': 0.14174051311759348, 'good': 0.032417824964904675, 'clean': 0.013530019147833895, 'quiet': 0.012714285351205857, 'comfortable': 0.007461458106744935, 'friendly': 0.004785912226796639, 'staff': 0.00137140708883335, 'rooms': 0.0004131819200687721, 'bed': 0.0002039921324065038}}\n"
     ]
    },
    {
     "data": {
      "text/html": [
       "<span style=\"font-size:20px; font-family:Times New Roman;\"><span style=\"background-color:rgba(255, 0, 0, 0.45768898408127245)\">Good</span></span> <span style=\"font-size:20px; font-family:Times New Roman;\"><span style=\"background-color:rgba(0, 255, 0, 1.0)\">location</span></span> <span style=\"font-size:20px; font-family:Times New Roman;\"><span style=\"background-color:rgba(255, 0, 0, 0.2311476309694452)\">comfortable</span></span> <span style=\"font-size:20px; font-family:Times New Roman;\"><span style=\"background-color:rgba(255, 0, 0, 0.17905103286542526)\">bed</span></span> <span style=\"font-size:20px; font-family:Times New Roman;\"><span style=\"background-color:rgba(255, 0, 0, 0.34118736510806635)\">friendly</span></span> <span style=\"font-size:20px; font-family:Times New Roman;\"><span style=\"background-color:rgba(255, 0, 0, 0.4641508949189763)\">staff</span></span> <span style=\"font-size:20px; font-family:Times New Roman;\"><span style=\"background-color:rgba(0, 0, 255, 0.6671904914817983)\">clean</span></span> <span style=\"font-size:20px; font-family:Times New Roman;\">and</span> <span style=\"font-size:20px; font-family:Times New Roman;\"><span style=\"background-color:rgba(0, 0, 255, 0.2985998883561162)\">quiet</span></span> <span style=\"font-size:20px; font-family:Times New Roman;\"><span style=\"background-color:rgba(0, 0, 255, 0.4641075485992815)\">rooms</span></span> <span style=\"font-size:20px; font-family:Times New Roman;\"><span style=\"background-color:rgba(255, 0, 0, 0.45768898408127245)\">good</span></span> <span style=\"font-size:20px; font-family:Times New Roman;\"><span style=\"background-color:rgba(255, 0, 0, 1.0)\">breakfast</span></span>"
      ],
      "text/plain": [
       "<IPython.core.display.HTML object>"
      ]
     },
     "metadata": {},
     "output_type": "display_data"
    },
    {
     "name": "stdout",
     "output_type": "stream",
     "text": [
      "\n",
      " The hotel smelt lovely when you walked in Room was lovely with a nice bottle of champers and a mini chocolate birthday cake lovely touch A surprise for my birthday which I wasnt expecting Bed was very comfortable Location of hotel too was great close to all the threatres and some very good restaurants and bars and only a 5 minute walk to the River Thames \n"
     ]
    },
    {
     "data": {
      "text/html": [
       "<span style=\"font-size:16px; font-family:Times New Roman;\">\n",
       " <span style=\"background-color: rgba(255, 0, 0, 1);\">Number 1 Topic is 17</span> with  probability 0.19377528347468148, Title is: Celebratory Sweet Treats</span>"
      ],
      "text/plain": [
       "<IPython.core.display.HTML object>"
      ]
     },
     "metadata": {},
     "output_type": "display_data"
    },
    {
     "data": {
      "text/html": [
       "<span style=\"font-size:16px; font-family:Times New Roman;\">\n",
       " <span style=\"background-color: rgba(0, 0, 255, 1);\">Number 2 Topic is 0</span> with  probability 0.19316981525883103, Title is: Hospitality Excellence</span>"
      ],
      "text/plain": [
       "<IPython.core.display.HTML object>"
      ]
     },
     "metadata": {},
     "output_type": "display_data"
    },
    {
     "data": {
      "text/html": [
       "<span style=\"font-size:16px; font-family:Times New Roman;\">\n",
       " <span style=\"background-color: rgba(0, 255, 0, 1);\">Number 3 Topic is 2</span> with  probability 0.08974496727326764, Title is: Hotel Amenities Excellence</span>"
      ],
      "text/plain": [
       "<IPython.core.display.HTML object>"
      ]
     },
     "metadata": {},
     "output_type": "display_data"
    },
    {
     "name": "stdout",
     "output_type": "stream",
     "text": [
      "[17, 0, 2]\n",
      "{17: {'birthday': 0.20607361893045928, 'cake': 0.07180666434838738, 'lovely': 0.03583706475558209, 'touch': 0.03315075212050046, 'hotel': 0.03248450309176592, 'surprise': 0.029825117088008203, 'bottle': 0.026784976689852413, 'great': 0.017378964317208652, 'chocolate': 0.013275472910564464, 'nice': 0.012248426532120089, 'comfortable': 0.00725939768764715, 'close': 0.004262553515467264, 'mini': 0.004136425974847799, 'minute': 0.00398355190167734, 'good': 0.0038548806151448354, 'walk': 0.0034256818705725523, 'bars': 0.0033512063951490283, 'restaurants': 0.003308653987372047, 'expecting': 0.0029343997645695816, 'walked': 0.0025928814208823663, 'champers': 0.0023814333546233035, 'threatres': 0.0023814333546233035, 'wasnt': 0.0013887057123993264, 'smelt': 0.0013664829211018994}, 0: {'hotel': 0.048535853840198054, 'great': 0.030762376692012823, 'nice': 0.026978779987902997, 'good': 0.026974237738203566, 'comfortable': 0.026514309589912105, 'lovely': 0.01777938640361986, 'close': 0.016550970705302582, 'walk': 0.01636728867856922, 'restaurants': 0.008294795396581435, 'minute': 0.006130870832101487, 'bars': 0.0029410566337439094, 'touch': 0.0017113808816594154, 'walked': 0.001706656544886941, 'mini': 0.0014814313902450761, 'birthday': 0.001242926846841495, 'surprise': 0.0008660799288377162, 'bottle': 0.0006913764257306162, 'chocolate': 0.0006682022082110124, 'cake': 0.0004043957695106097, 'expecting': 0.00011361451856302087, 'wasnt': 0.0001075362211004738, 'smelt': 0.00010581537054366222}, 2: {'good': 0.05274792941197384, 'great': 0.042179586284901954, 'nice': 0.029344159840677307, 'comfortable': 0.02663939781420701, 'lovely': 0.02049519077701293, 'hotel': 0.017743692380512918, 'close': 0.005207704169536734, 'restaurants': 0.003601315775755534, 'mini': 0.0025727468762341355, 'chocolate': 0.0018578229431627934, 'touch': 0.0017182404665573628, 'walk': 0.0015980122184729303, 'bars': 0.0013895741294798608, 'surprise': 0.001352635456048798, 'cake': 0.0012180500257849968, 'birthday': 0.0011271434020898904, 'expecting': 0.0009125592811069658, 'minute': 0.0006194158177660867, 'bottle': 0.00034707380602565127, 'smelt': 0.00021247900289219891}}\n"
     ]
    },
    {
     "data": {
      "text/html": [
       "<span style=\"font-size:20px; font-family:Times New Roman;\">The</span> <span style=\"font-size:20px; font-family:Times New Roman;\"><span style=\"background-color:rgba(0, 0, 255, 1.0)\">hotel</span></span> <span style=\"font-size:20px; font-family:Times New Roman;\"><span style=\"background-color:rgba(255, 0, 0, 0.006631042479838367)\">smelt</span></span> <span style=\"font-size:20px; font-family:Times New Roman;\"><span style=\"background-color:rgba(255, 0, 0, 0.17390418502659244)\">lovely</span></span> <span style=\"font-size:20px; font-family:Times New Roman;\">when</span> <span style=\"font-size:20px; font-family:Times New Roman;\">you</span> <span style=\"font-size:20px; font-family:Times New Roman;\"><span style=\"background-color:rgba(255, 0, 0, 0.012582306431748302)\">walked</span></span> <span style=\"font-size:20px; font-family:Times New Roman;\">in</span> <span style=\"font-size:20px; font-family:Times New Roman;\"><span style=\"background-color:rgba(0, 0, 255, 0.6032236981106217)\">Room</span></span> <span style=\"font-size:20px; font-family:Times New Roman;\">was</span> <span style=\"font-size:20px; font-family:Times New Roman;\"><span style=\"background-color:rgba(255, 0, 0, 0.17390418502659244)\">lovely</span></span> <span style=\"font-size:20px; font-family:Times New Roman;\">with</span> <span style=\"font-size:20px; font-family:Times New Roman;\">a</span> <span style=\"font-size:20px; font-family:Times New Roman;\"><span style=\"background-color:rgba(0, 255, 0, 0.25461660497235233)\">nice</span></span> <span style=\"font-size:20px; font-family:Times New Roman;\"><span style=\"background-color:rgba(255, 0, 0, 0.1299777081067866)\">bottle</span></span> <span style=\"font-size:20px; font-family:Times New Roman;\">of</span> <span style=\"font-size:20px; font-family:Times New Roman;\"><span style=\"background-color:rgba(255, 0, 0, 0.011556226201991104)\">champers</span></span> <span style=\"font-size:20px; font-family:Times New Roman;\">and</span> <span style=\"font-size:20px; font-family:Times New Roman;\">a</span> <span style=\"font-size:20px; font-family:Times New Roman;\"><span style=\"background-color:rgba(255, 0, 0, 0.020072564340434373)\">mini</span></span> <span style=\"font-size:20px; font-family:Times New Roman;\"><span style=\"background-color:rgba(255, 0, 0, 0.06442102089275362)\">chocolate</span></span> <span style=\"font-size:20px; font-family:Times New Roman;\"><span style=\"background-color:rgba(255, 0, 0, 1.0)\">birthday</span></span> <span style=\"font-size:20px; font-family:Times New Roman;\"><span style=\"background-color:rgba(255, 0, 0, 0.348451513207127)\">cake</span></span> <span style=\"font-size:20px; font-family:Times New Roman;\"><span style=\"background-color:rgba(255, 0, 0, 0.17390418502659244)\">lovely</span></span> <span style=\"font-size:20px; font-family:Times New Roman;\"><span style=\"background-color:rgba(255, 0, 0, 0.16086849104002668)\">touch</span></span> <span style=\"font-size:20px; font-family:Times New Roman;\">A</span> <span style=\"font-size:20px; font-family:Times New Roman;\"><span style=\"background-color:rgba(255, 0, 0, 0.1447303989846117)\">surprise</span></span> <span style=\"font-size:20px; font-family:Times New Roman;\">for</span> <span style=\"font-size:20px; font-family:Times New Roman;\">my</span> <span style=\"font-size:20px; font-family:Times New Roman;\"><span style=\"background-color:rgba(255, 0, 0, 1.0)\">birthday</span></span> <span style=\"font-size:20px; font-family:Times New Roman;\">which</span> <span style=\"font-size:20px; font-family:Times New Roman;\">I</span> <span style=\"font-size:20px; font-family:Times New Roman;\"><span style=\"background-color:rgba(255, 0, 0, 0.006738881568668686)\">wasnt</span></span> <span style=\"font-size:20px; font-family:Times New Roman;\"><span style=\"background-color:rgba(255, 0, 0, 0.014239570206993898)\">expecting</span></span> <span style=\"font-size:20px; font-family:Times New Roman;\"><span style=\"background-color:rgba(0, 255, 0, 0.17905103286542526)\">Bed</span></span> <span style=\"font-size:20px; font-family:Times New Roman;\">was</span> <span style=\"font-size:20px; font-family:Times New Roman;\">very</span> <span style=\"font-size:20px; font-family:Times New Roman;\"><span style=\"background-color:rgba(0, 255, 0, 0.2311476309694452)\">comfortable</span></span> <span style=\"font-size:20px; font-family:Times New Roman;\"><span style=\"background-color:rgba(0, 255, 0, 0.3407491581802222)\">Location</span></span> <span style=\"font-size:20px; font-family:Times New Roman;\">of</span> <span style=\"font-size:20px; font-family:Times New Roman;\"><span style=\"background-color:rgba(0, 0, 255, 1.0)\">hotel</span></span> <span style=\"font-size:20px; font-family:Times New Roman;\">too</span> <span style=\"font-size:20px; font-family:Times New Roman;\">was</span> <span style=\"font-size:20px; font-family:Times New Roman;\"><span style=\"background-color:rgba(0, 255, 0, 0.36598843235963796)\">great</span></span> <span style=\"font-size:20px; font-family:Times New Roman;\"><span style=\"background-color:rgba(0, 0, 255, 0.3410050384566397)\">close</span></span> <span style=\"font-size:20px; font-family:Times New Roman;\">to</span> <span style=\"font-size:20px; font-family:Times New Roman;\">all</span> <span style=\"font-size:20px; font-family:Times New Roman;\">the</span> <span style=\"font-size:20px; font-family:Times New Roman;\"><span style=\"background-color:rgba(255, 0, 0, 0.011556226201991104)\">threatres</span></span> <span style=\"font-size:20px; font-family:Times New Roman;\">and</span> <span style=\"font-size:20px; font-family:Times New Roman;\">some</span> <span style=\"font-size:20px; font-family:Times New Roman;\">very</span> <span style=\"font-size:20px; font-family:Times New Roman;\"><span style=\"background-color:rgba(0, 255, 0, 0.45768898408127245)\">good</span></span> <span style=\"font-size:20px; font-family:Times New Roman;\"><span style=\"background-color:rgba(0, 0, 255, 0.17090037035078537)\">restaurants</span></span> <span style=\"font-size:20px; font-family:Times New Roman;\">and</span> <span style=\"font-size:20px; font-family:Times New Roman;\"><span style=\"background-color:rgba(255, 0, 0, 0.016262180537916948)\">bars</span></span> <span style=\"font-size:20px; font-family:Times New Roman;\">and</span> <span style=\"font-size:20px; font-family:Times New Roman;\">only</span> <span style=\"font-size:20px; font-family:Times New Roman;\">a</span> <span style=\"font-size:20px; font-family:Times New Roman;\">5</span> <span style=\"font-size:20px; font-family:Times New Roman;\"><span style=\"background-color:rgba(0, 0, 255, 0.12631632797245274)\">minute</span></span> <span style=\"font-size:20px; font-family:Times New Roman;\"><span style=\"background-color:rgba(0, 0, 255, 0.33722057785277093)\">walk</span></span> <span style=\"font-size:20px; font-family:Times New Roman;\">to</span> <span style=\"font-size:20px; font-family:Times New Roman;\">the</span> <span style=\"font-size:20px; font-family:Times New Roman;\"><span style=\"background-color:rgba(0, 0, 255, 0.053939507864126573)\">River</span></span> <span style=\"font-size:20px; font-family:Times New Roman;\"><span style=\"background-color:rgba(255, 0, 0, 0.01354337024867304)\">Thames</span></span>"
      ],
      "text/plain": [
       "<IPython.core.display.HTML object>"
      ]
     },
     "metadata": {},
     "output_type": "display_data"
    },
    {
     "name": "stdout",
     "output_type": "stream",
     "text": [
      "\n",
      " Very nice reception staff they were helpful and did more than I expected The lady at the reception made us very happy with her care and professional touch \n"
     ]
    },
    {
     "data": {
      "text/html": [
       "<span style=\"font-size:16px; font-family:Times New Roman;\">\n",
       " <span style=\"background-color: rgba(255, 0, 0, 1);\">Number 1 Topic is 3</span> with  probability 0.16091472615331498, Title is: Welcoming Staff Experience</span>"
      ],
      "text/plain": [
       "<IPython.core.display.HTML object>"
      ]
     },
     "metadata": {},
     "output_type": "display_data"
    },
    {
     "data": {
      "text/html": [
       "<span style=\"font-size:16px; font-family:Times New Roman;\">\n",
       " <span style=\"background-color: rgba(0, 0, 255, 1);\">Number 2 Topic is 0</span> with  probability 0.1597195901767976, Title is: Hospitality Excellence</span>"
      ],
      "text/plain": [
       "<IPython.core.display.HTML object>"
      ]
     },
     "metadata": {},
     "output_type": "display_data"
    },
    {
     "data": {
      "text/html": [
       "<span style=\"font-size:16px; font-family:Times New Roman;\">\n",
       " <span style=\"background-color: rgba(0, 255, 0, 1);\">Number 3 Topic is 2</span> with  probability 0.08692542581411412, Title is: Hotel Amenities Excellence</span>"
      ],
      "text/plain": [
       "<IPython.core.display.HTML object>"
      ]
     },
     "metadata": {},
     "output_type": "display_data"
    },
    {
     "name": "stdout",
     "output_type": "stream",
     "text": [
      "[3, 0, 2]\n",
      "{3: {'staff': 0.15916074986066966, 'helpful': 0.09929452471483406, 'reception': 0.034909714760917455, 'nice': 0.026376524755245677, 'professional': 0.02166779689724275, 'made': 0.010670316270462216, 'happy': 0.008283059123909703, 'lady': 0.005109840768891027, 'care': 0.00469093855502899, 'touch': 0.0015903466677813724, 'expected': 0.0011699820957810766}, 0: {'staff': 0.04179384363660856, 'helpful': 0.02930849728275495, 'nice': 0.026978779987902997, 'reception': 0.006982262286465954, 'professional': 0.005445708543269296, 'made': 0.005412270766903251, 'happy': 0.0029446205290107716, 'expected': 0.0019278808538888785, 'touch': 0.0017113808816594154, 'care': 0.0016502897218624597, 'lady': 0.0005956955366281164}, 2: {'staff': 0.05349265438589445, 'helpful': 0.03541471830619897, 'nice': 0.029344159840677307, 'reception': 0.00918243844404818, 'professional': 0.00693067959063757, 'made': 0.004203066324315553, 'happy': 0.003995166493614844, 'expected': 0.002686150179420738, 'lady': 0.001840256040741457, 'touch': 0.0017182404665573628, 'care': 0.00019492993413793846}}\n"
     ]
    },
    {
     "data": {
      "text/html": [
       "<span style=\"font-size:20px; font-family:Times New Roman;\">Very</span> <span style=\"font-size:20px; font-family:Times New Roman;\"><span style=\"background-color:rgba(0, 255, 0, 0.25461660497235233)\">nice</span></span> <span style=\"font-size:20px; font-family:Times New Roman;\"><span style=\"background-color:rgba(255, 0, 0, 0.21933620438127893)\">reception</span></span> <span style=\"font-size:20px; font-family:Times New Roman;\"><span style=\"background-color:rgba(255, 0, 0, 1.0)\">staff</span></span> <span style=\"font-size:20px; font-family:Times New Roman;\">they</span> <span style=\"font-size:20px; font-family:Times New Roman;\">were</span> <span style=\"font-size:20px; font-family:Times New Roman;\"><span style=\"background-color:rgba(255, 0, 0, 0.6238631371224195)\">helpful</span></span> <span style=\"font-size:20px; font-family:Times New Roman;\">and</span> <span style=\"font-size:20px; font-family:Times New Roman;\">did</span> <span style=\"font-size:20px; font-family:Times New Roman;\">more</span> <span style=\"font-size:20px; font-family:Times New Roman;\">than</span> <span style=\"font-size:20px; font-family:Times New Roman;\">I</span> <span style=\"font-size:20px; font-family:Times New Roman;\"><span style=\"background-color:rgba(0, 255, 0, 0.023307480699512065)\">expected</span></span> <span style=\"font-size:20px; font-family:Times New Roman;\">The</span> <span style=\"font-size:20px; font-family:Times New Roman;\"><span style=\"background-color:rgba(255, 0, 0, 0.03210490509352472)\">lady</span></span> <span style=\"font-size:20px; font-family:Times New Roman;\">at</span> <span style=\"font-size:20px; font-family:Times New Roman;\">the</span> <span style=\"font-size:20px; font-family:Times New Roman;\"><span style=\"background-color:rgba(255, 0, 0, 0.21933620438127893)\">reception</span></span> <span style=\"font-size:20px; font-family:Times New Roman;\"><span style=\"background-color:rgba(255, 0, 0, 0.06704112841767257)\">made</span></span> <span style=\"font-size:20px; font-family:Times New Roman;\">us</span> <span style=\"font-size:20px; font-family:Times New Roman;\">very</span> <span style=\"font-size:20px; font-family:Times New Roman;\"><span style=\"background-color:rgba(255, 0, 0, 0.052042096629732804)\">happy</span></span> <span style=\"font-size:20px; font-family:Times New Roman;\">with</span> <span style=\"font-size:20px; font-family:Times New Roman;\">her</span> <span style=\"font-size:20px; font-family:Times New Roman;\"><span style=\"background-color:rgba(255, 0, 0, 0.029472960884737397)\">care</span></span> <span style=\"font-size:20px; font-family:Times New Roman;\">and</span> <span style=\"font-size:20px; font-family:Times New Roman;\"><span style=\"background-color:rgba(255, 0, 0, 0.13613781611490822)\">professional</span></span> <span style=\"font-size:20px; font-family:Times New Roman;\"><span style=\"background-color:rgba(0, 255, 0, 0.014909016189125572)\">touch</span></span>"
      ],
      "text/plain": [
       "<IPython.core.display.HTML object>"
      ]
     },
     "metadata": {},
     "output_type": "display_data"
    },
    {
     "name": "stdout",
     "output_type": "stream",
     "text": [
      "\n",
      " Would certainly stay again and recommend to friends \n"
     ]
    },
    {
     "data": {
      "text/html": [
       "<span style=\"font-size:16px; font-family:Times New Roman;\">\n",
       " <span style=\"background-color: rgba(255, 0, 0, 1);\">Number 1 Topic is 3</span> with  probability 0.17767833439747557, Title is: Welcoming Staff Experience</span>"
      ],
      "text/plain": [
       "<IPython.core.display.HTML object>"
      ]
     },
     "metadata": {},
     "output_type": "display_data"
    },
    {
     "data": {
      "text/html": [
       "<span style=\"font-size:16px; font-family:Times New Roman;\">\n",
       " <span style=\"background-color: rgba(0, 0, 255, 1);\">Number 2 Topic is 0</span> with  probability 0.09857974972723303, Title is: Hospitality Excellence</span>"
      ],
      "text/plain": [
       "<IPython.core.display.HTML object>"
      ]
     },
     "metadata": {},
     "output_type": "display_data"
    },
    {
     "data": {
      "text/html": [
       "<span style=\"font-size:16px; font-family:Times New Roman;\">\n",
       " <span style=\"background-color: rgba(0, 255, 0, 1);\">Number 3 Topic is 2</span> with  probability 0.054510452237220265, Title is: Hotel Amenities Excellence</span>"
      ],
      "text/plain": [
       "<IPython.core.display.HTML object>"
      ]
     },
     "metadata": {},
     "output_type": "display_data"
    },
    {
     "name": "stdout",
     "output_type": "stream",
     "text": [
      "[3, 0, 2]\n",
      "{3: {'stay': 0.012961400784425993, 'recommend': 0.003068411933905641, 'friends': 0.0014130095029472032, 'certainly': 0.0007412728803856091}, 0: {'stay': 0.016456744779990817, 'recommend': 0.008564394226338716, 'friends': 0.0021382697442474136, 'certainly': 0.0015953757269216156}, 2: {'stay': 0.008709643986363133, 'recommend': 0.00414396249235657, 'certainly': 0.0006006638767714189, 'friends': 0.0003816605141476858}}\n"
     ]
    },
    {
     "data": {
      "text/html": [
       "<span style=\"font-size:20px; font-family:Times New Roman;\"><span style=\"background-color:rgba(0, 0, 255, 0.22533408282601342)\">Would</span></span> <span style=\"font-size:20px; font-family:Times New Roman;\"><span style=\"background-color:rgba(0, 0, 255, 0.032870045557956244)\">certainly</span></span> <span style=\"font-size:20px; font-family:Times New Roman;\"><span style=\"background-color:rgba(0, 0, 255, 0.3390636710373707)\">stay</span></span> <span style=\"font-size:20px; font-family:Times New Roman;\">again</span> <span style=\"font-size:20px; font-family:Times New Roman;\">and</span> <span style=\"font-size:20px; font-family:Times New Roman;\"><span style=\"background-color:rgba(0, 0, 255, 0.1764550028219668)\">recommend</span></span> <span style=\"font-size:20px; font-family:Times New Roman;\">to</span> <span style=\"font-size:20px; font-family:Times New Roman;\"><span style=\"background-color:rgba(0, 0, 255, 0.04405546776384244)\">friends</span></span>"
      ],
      "text/plain": [
       "<IPython.core.display.HTML object>"
      ]
     },
     "metadata": {},
     "output_type": "display_data"
    },
    {
     "name": "stdout",
     "output_type": "stream",
     "text": [
      "\n",
      " The staff went the extra mile to help me check in earlier than 11 am and also with storage of our bags\n"
     ]
    },
    {
     "data": {
      "text/html": [
       "<span style=\"font-size:16px; font-family:Times New Roman;\">\n",
       " <span style=\"background-color: rgba(255, 0, 0, 1);\">Number 1 Topic is 3</span> with  probability 0.6901171737148795, Title is: Welcoming Staff Experience</span>"
      ],
      "text/plain": [
       "<IPython.core.display.HTML object>"
      ]
     },
     "metadata": {},
     "output_type": "display_data"
    },
    {
     "data": {
      "text/html": [
       "<span style=\"font-size:16px; font-family:Times New Roman;\">\n",
       " <span style=\"background-color: rgba(0, 0, 255, 1);\">Number 2 Topic is 0</span> with  probability 0.07077298939749703, Title is: Hospitality Excellence</span>"
      ],
      "text/plain": [
       "<IPython.core.display.HTML object>"
      ]
     },
     "metadata": {},
     "output_type": "display_data"
    },
    {
     "data": {
      "text/html": [
       "<span style=\"font-size:16px; font-family:Times New Roman;\">\n",
       " <span style=\"background-color: rgba(0, 255, 0, 1);\">Number 3 Topic is 2</span> with  probability 0.040410362132603975, Title is: Hotel Amenities Excellence</span>"
      ],
      "text/plain": [
       "<IPython.core.display.HTML object>"
      ]
     },
     "metadata": {},
     "output_type": "display_data"
    },
    {
     "name": "stdout",
     "output_type": "stream",
     "text": [
      "[3, 0, 2]\n",
      "{3: {'staff': 0.15916074986066966, 'help': 0.02150989528129011, 'check': 0.013543229300744652, 'extra': 0.007923180090906258, 'went': 0.0074450864035885515, 'also': 0.00412965627460899, 'mile': 0.003788884867531616, 'earlier': 0.001546780388980207, 'bags': 0.001001670255127972, 'storage': 0.00038829247589876976}, 0: {'staff': 0.04179384363660856, 'also': 0.009612448526327309, 'check': 0.0055180332459649605, 'help': 0.003846057983748432, 'extra': 0.003035836141504563, 'went': 0.002610955421425444, 'bags': 0.0010779029246147855, 'storage': 0.0008879178408496531, 'mile': 0.0006229116740980552, 'earlier': 0.00026007796360676344}, 2: {'staff': 0.05349265438589445, 'also': 0.008244553472404872, 'check': 0.004771421670365156, 'extra': 0.004020771800856737, 'help': 0.0032592256064964383, 'went': 0.0027291503133699702, 'mile': 0.001591948753510612, 'storage': 0.0006292777466058118, 'bags': 0.0005411116963915704, 'earlier': 0.00041779265978071867}}\n"
     ]
    },
    {
     "data": {
      "text/html": [
       "<span style=\"font-size:20px; font-family:Times New Roman;\">The</span> <span style=\"font-size:20px; font-family:Times New Roman;\"><span style=\"background-color:rgba(255, 0, 0, 1.0)\">staff</span></span> <span style=\"font-size:20px; font-family:Times New Roman;\"><span style=\"background-color:rgba(255, 0, 0, 0.04677715083716323)\">went</span></span> <span style=\"font-size:20px; font-family:Times New Roman;\">the</span> <span style=\"font-size:20px; font-family:Times New Roman;\"><span style=\"background-color:rgba(255, 0, 0, 0.0497809924735983)\">extra</span></span> <span style=\"font-size:20px; font-family:Times New Roman;\"><span style=\"background-color:rgba(255, 0, 0, 0.023805397190252185)\">mile</span></span> <span style=\"font-size:20px; font-family:Times New Roman;\">to</span> <span style=\"font-size:20px; font-family:Times New Roman;\"><span style=\"background-color:rgba(255, 0, 0, 0.13514572719794302)\">help</span></span> <span style=\"font-size:20px; font-family:Times New Roman;\">me</span> <span style=\"font-size:20px; font-family:Times New Roman;\"><span style=\"background-color:rgba(255, 0, 0, 0.08509151478992454)\">check</span></span> <span style=\"font-size:20px; font-family:Times New Roman;\">in</span> <span style=\"font-size:20px; font-family:Times New Roman;\"><span style=\"background-color:rgba(255, 0, 0, 0.00971835323931477)\">earlier</span></span> <span style=\"font-size:20px; font-family:Times New Roman;\">than</span> <span style=\"font-size:20px; font-family:Times New Roman;\">11</span> <span style=\"font-size:20px; font-family:Times New Roman;\">am</span> <span style=\"font-size:20px; font-family:Times New Roman;\">and</span> <span style=\"font-size:20px; font-family:Times New Roman;\"><span style=\"background-color:rgba(0, 0, 255, 0.1980484068123295)\">also</span></span> <span style=\"font-size:20px; font-family:Times New Roman;\">with</span> <span style=\"font-size:20px; font-family:Times New Roman;\"><span style=\"background-color:rgba(0, 0, 255, 0.01829406038210597)\">storage</span></span> <span style=\"font-size:20px; font-family:Times New Roman;\">of</span> <span style=\"font-size:20px; font-family:Times New Roman;\">our</span> <span style=\"font-size:20px; font-family:Times New Roman;\"><span style=\"background-color:rgba(0, 0, 255, 0.02220838492228299)\">bags</span></span>"
      ],
      "text/plain": [
       "<IPython.core.display.HTML object>"
      ]
     },
     "metadata": {},
     "output_type": "display_data"
    },
    {
     "name": "stdout",
     "output_type": "stream",
     "text": [
      "\n",
      " Good central location with friendly and helpful staff\n"
     ]
    },
    {
     "data": {
      "text/html": [
       "<span style=\"font-size:16px; font-family:Times New Roman;\">\n",
       " <span style=\"background-color: rgba(255, 0, 0, 1);\">Number 1 Topic is 3</span> with  probability 1.0, Title is: Welcoming Staff Experience</span>"
      ],
      "text/plain": [
       "<IPython.core.display.HTML object>"
      ]
     },
     "metadata": {},
     "output_type": "display_data"
    },
    {
     "data": {
      "text/html": [
       "<span style=\"font-size:16px; font-family:Times New Roman;\">\n",
       " <span style=\"background-color: rgba(0, 0, 255, 1);\">Number 2 Topic is 0</span> with  probability 4.593319651837079e-307, Title is: Hospitality Excellence</span>"
      ],
      "text/plain": [
       "<IPython.core.display.HTML object>"
      ]
     },
     "metadata": {},
     "output_type": "display_data"
    },
    {
     "data": {
      "text/html": [
       "<span style=\"font-size:16px; font-family:Times New Roman;\">\n",
       " <span style=\"background-color: rgba(0, 255, 0, 1);\">Number 3 Topic is 2</span> with  probability 2.44117626548871e-307, Title is: Hotel Amenities Excellence</span>"
      ],
      "text/plain": [
       "<IPython.core.display.HTML object>"
      ]
     },
     "metadata": {},
     "output_type": "display_data"
    },
    {
     "name": "stdout",
     "output_type": "stream",
     "text": [
      "[3, 0, 2]\n",
      "{3: {'staff': 0.15916074986066966, 'friendly': 0.10426203996947087, 'helpful': 0.09929452471483406, 'location': 0.07561668720424547, 'central': 0.00854470750501591}, 0: {'staff': 0.04179384363660856, 'location': 0.03583580936752398, 'friendly': 0.03084435664522748, 'helpful': 0.02930849728275495, 'central': 0.010406511528955734}, 2: {'staff': 0.05349265438589445, 'friendly': 0.03932130262453923, 'location': 0.03927079997120542, 'helpful': 0.03541471830619897, 'central': 0.004615931390134203}}\n"
     ]
    },
    {
     "data": {
      "text/html": [
       "<span style=\"font-size:20px; font-family:Times New Roman;\"><span style=\"background-color:rgba(0, 255, 0, 0.45768898408127245)\">Good</span></span> <span style=\"font-size:20px; font-family:Times New Roman;\"><span style=\"background-color:rgba(0, 0, 255, 0.21440874540331914)\">central</span></span> <span style=\"font-size:20px; font-family:Times New Roman;\"><span style=\"background-color:rgba(255, 0, 0, 0.47509632412790714)\">location</span></span> <span style=\"font-size:20px; font-family:Times New Roman;\">with</span> <span style=\"font-size:20px; font-family:Times New Roman;\"><span style=\"background-color:rgba(255, 0, 0, 0.6550738172617465)\">friendly</span></span> <span style=\"font-size:20px; font-family:Times New Roman;\">and</span> <span style=\"font-size:20px; font-family:Times New Roman;\"><span style=\"background-color:rgba(255, 0, 0, 0.6238631371224195)\">helpful</span></span> <span style=\"font-size:20px; font-family:Times New Roman;\"><span style=\"background-color:rgba(255, 0, 0, 1.0)\">staff</span></span>"
      ],
      "text/plain": [
       "<IPython.core.display.HTML object>"
      ]
     },
     "metadata": {},
     "output_type": "display_data"
    },
    {
     "name": "stdout",
     "output_type": "stream",
     "text": [
      "\n",
      " Staff were friendly and prepared to put things right when they went wrong\n"
     ]
    },
    {
     "data": {
      "text/html": [
       "<span style=\"font-size:16px; font-family:Times New Roman;\">\n",
       " <span style=\"background-color: rgba(255, 0, 0, 1);\">Number 1 Topic is 3</span> with  probability 0.2476541996345817, Title is: Welcoming Staff Experience</span>"
      ],
      "text/plain": [
       "<IPython.core.display.HTML object>"
      ]
     },
     "metadata": {},
     "output_type": "display_data"
    },
    {
     "data": {
      "text/html": [
       "<span style=\"font-size:16px; font-family:Times New Roman;\">\n",
       " <span style=\"background-color: rgba(0, 0, 255, 1);\">Number 2 Topic is 0</span> with  probability 0.10319988771479165, Title is: Hospitality Excellence</span>"
      ],
      "text/plain": [
       "<IPython.core.display.HTML object>"
      ]
     },
     "metadata": {},
     "output_type": "display_data"
    },
    {
     "data": {
      "text/html": [
       "<span style=\"font-size:16px; font-family:Times New Roman;\">\n",
       " <span style=\"background-color: rgba(0, 255, 0, 1);\">Number 3 Topic is 2</span> with  probability 0.059618888235066, Title is: Hotel Amenities Excellence</span>"
      ],
      "text/plain": [
       "<IPython.core.display.HTML object>"
      ]
     },
     "metadata": {},
     "output_type": "display_data"
    },
    {
     "name": "stdout",
     "output_type": "stream",
     "text": [
      "[3, 0, 2]\n",
      "{3: {'friendly': 0.10426203996947087, 'went': 0.0074450864035885515, 'right': 0.003158516369187215, 'things': 0.0029365094068039897, 'put': 0.0008276829957069694, 'wrong': 0.0007046056201007352, 'prepared': 0.00040367348696850573}, 0: {'friendly': 0.03084435664522748, 'right': 0.008889422940432067, 'went': 0.002610955421425444, 'things': 0.0019749963008962334, 'put': 0.0007422285570518481, 'prepared': 0.0005429941015584147, 'wrong': 0.00023694688157056135}, 2: {'friendly': 0.03932130262453923, 'went': 0.0027291503133699702, 'right': 0.0022312634177880015, 'things': 0.0017449630118254393, 'prepared': 0.0013084092945971847, 'put': 0.001192325711549951, 'wrong': 0.00019031729275570462}}\n"
     ]
    },
    {
     "data": {
      "text/html": [
       "<span style=\"font-size:20px; font-family:Times New Roman;\"><span style=\"background-color:rgba(255, 0, 0, 1.0)\">Staff</span></span> <span style=\"font-size:20px; font-family:Times New Roman;\">were</span> <span style=\"font-size:20px; font-family:Times New Roman;\"><span style=\"background-color:rgba(255, 0, 0, 0.6550738172617465)\">friendly</span></span> <span style=\"font-size:20px; font-family:Times New Roman;\">and</span> <span style=\"font-size:20px; font-family:Times New Roman;\"><span style=\"background-color:rgba(0, 255, 0, 0.011352948399728868)\">prepared</span></span> <span style=\"font-size:20px; font-family:Times New Roman;\">to</span> <span style=\"font-size:20px; font-family:Times New Roman;\"><span style=\"background-color:rgba(0, 255, 0, 0.010345701711836287)\">put</span></span> <span style=\"font-size:20px; font-family:Times New Roman;\"><span style=\"background-color:rgba(255, 0, 0, 0.018449959612370694)\">things</span></span> <span style=\"font-size:20px; font-family:Times New Roman;\"><span style=\"background-color:rgba(0, 0, 255, 0.18315167524815903)\">right</span></span> <span style=\"font-size:20px; font-family:Times New Roman;\">when</span> <span style=\"font-size:20px; font-family:Times New Roman;\">they</span> <span style=\"font-size:20px; font-family:Times New Roman;\"><span style=\"background-color:rgba(255, 0, 0, 0.04677715083716323)\">went</span></span> <span style=\"font-size:20px; font-family:Times New Roman;\"><span style=\"background-color:rgba(255, 0, 0, 0.004427006160234552)\">wrong</span></span>"
      ],
      "text/plain": [
       "<IPython.core.display.HTML object>"
      ]
     },
     "metadata": {},
     "output_type": "display_data"
    },
    {
     "name": "stdout",
     "output_type": "stream",
     "text": [
      "\n",
      " When I was looking it Appeared to offer good value for money\n"
     ]
    },
    {
     "data": {
      "text/html": [
       "<span style=\"font-size:16px; font-family:Times New Roman;\">\n",
       " <span style=\"background-color: rgba(255, 0, 0, 1);\">Number 1 Topic is 16</span> with  probability 0.29707992777406034, Title is: Price and Value</span>"
      ],
      "text/plain": [
       "<IPython.core.display.HTML object>"
      ]
     },
     "metadata": {},
     "output_type": "display_data"
    },
    {
     "data": {
      "text/html": [
       "<span style=\"font-size:16px; font-family:Times New Roman;\">\n",
       " <span style=\"background-color: rgba(0, 0, 255, 1);\">Number 2 Topic is 0</span> with  probability 0.07859704957404838, Title is: Hospitality Excellence</span>"
      ],
      "text/plain": [
       "<IPython.core.display.HTML object>"
      ]
     },
     "metadata": {},
     "output_type": "display_data"
    },
    {
     "data": {
      "text/html": [
       "<span style=\"font-size:16px; font-family:Times New Roman;\">\n",
       " <span style=\"background-color: rgba(0, 255, 0, 1);\">Number 3 Topic is 10</span> with  probability 0.03967376296836892, Title is: Room Lighting</span>"
      ],
      "text/plain": [
       "<IPython.core.display.HTML object>"
      ]
     },
     "metadata": {},
     "output_type": "display_data"
    },
    {
     "name": "stdout",
     "output_type": "stream",
     "text": [
      "[16, 0, 10]\n",
      "{16: {'value': 0.12206049520235508, 'money': 0.11197597950182107, 'good': 0.043361070546965357, 'offer': 0.0182953302426216, 'looking': 0.008697093481357296}, 0: {'good': 0.026974237738203566, 'value': 0.0060475614120410245, 'money': 0.004977667562971913, 'looking': 0.002530986865932132, 'offer': 0.0016316158591878575}, 10: {'money': 0.018706960241768537, 'value': 0.007061570957201147, 'looking': 0.006586734299921501, 'good': 0.00629422977065103, 'offer': 0.0025979903407337863}}\n"
     ]
    },
    {
     "data": {
      "text/html": [
       "<span style=\"font-size:20px; font-family:Times New Roman;\">When</span> <span style=\"font-size:20px; font-family:Times New Roman;\">I</span> <span style=\"font-size:20px; font-family:Times New Roman;\">was</span> <span style=\"font-size:20px; font-family:Times New Roman;\"><span style=\"background-color:rgba(255, 0, 0, 0.03636754991410644)\">looking</span></span> <span style=\"font-size:20px; font-family:Times New Roman;\">it</span> <span style=\"font-size:20px; font-family:Times New Roman;\"><span style=\"background-color:rgba(255, 0, 0, 0.025553078868358912)\">Appeared</span></span> <span style=\"font-size:20px; font-family:Times New Roman;\">to</span> <span style=\"font-size:20px; font-family:Times New Roman;\"><span style=\"background-color:rgba(255, 0, 0, 0.07650329816735102)\">offer</span></span> <span style=\"font-size:20px; font-family:Times New Roman;\"><span style=\"background-color:rgba(255, 0, 0, 0.1813175747536925)\">good</span></span> <span style=\"font-size:20px; font-family:Times New Roman;\"><span style=\"background-color:rgba(255, 0, 0, 0.5104051326259205)\">value</span></span> <span style=\"font-size:20px; font-family:Times New Roman;\">for</span> <span style=\"font-size:20px; font-family:Times New Roman;\"><span style=\"background-color:rgba(255, 0, 0, 0.46823597244787846)\">money</span></span>"
      ],
      "text/plain": [
       "<IPython.core.display.HTML object>"
      ]
     },
     "metadata": {},
     "output_type": "display_data"
    },
    {
     "name": "stdout",
     "output_type": "stream",
     "text": [
      "\n",
      " Reasonably priced However I was there in January which i assume is off peak \n"
     ]
    },
    {
     "data": {
      "text/html": [
       "<span style=\"font-size:16px; font-family:Times New Roman;\">\n",
       " <span style=\"background-color: rgba(255, 0, 0, 1);\">Number 1 Topic is 16</span> with  probability 1.0, Title is: Price and Value</span>"
      ],
      "text/plain": [
       "<IPython.core.display.HTML object>"
      ]
     },
     "metadata": {},
     "output_type": "display_data"
    },
    {
     "data": {
      "text/html": [
       "<span style=\"font-size:16px; font-family:Times New Roman;\">\n",
       " <span style=\"background-color: rgba(0, 0, 255, 1);\">Number 2 Topic is 0</span> with  probability 3.844508932513621e-307, Title is: Hospitality Excellence</span>"
      ],
      "text/plain": [
       "<IPython.core.display.HTML object>"
      ]
     },
     "metadata": {},
     "output_type": "display_data"
    },
    {
     "data": {
      "text/html": [
       "<span style=\"font-size:16px; font-family:Times New Roman;\">\n",
       " <span style=\"background-color: rgba(0, 255, 0, 1);\">Number 3 Topic is 10</span> with  probability 1.99273248351521e-307, Title is: Room Lighting</span>"
      ],
      "text/plain": [
       "<IPython.core.display.HTML object>"
      ]
     },
     "metadata": {},
     "output_type": "display_data"
    },
    {
     "name": "stdout",
     "output_type": "stream",
     "text": [
      "[16, 0, 10]\n",
      "{16: {'priced': 0.019734602853449367, 'peak': 0.007348981297994839, 'assume': 0.00727755384131055}, 0: {'priced': 0.0010189318551092966}, 10: {'priced': 0.005604742512057785}}\n"
     ]
    },
    {
     "data": {
      "text/html": [
       "<span style=\"font-size:20px; font-family:Times New Roman;\"><span style=\"background-color:rgba(255, 0, 0, 0.0234639199283279)\">Reasonably</span></span> <span style=\"font-size:20px; font-family:Times New Roman;\"><span style=\"background-color:rgba(255, 0, 0, 0.08252172474014628)\">priced</span></span> <span style=\"font-size:20px; font-family:Times New Roman;\"><span style=\"background-color:rgba(255, 0, 0, 0.0321264117708057)\">However</span></span> <span style=\"font-size:20px; font-family:Times New Roman;\">I</span> <span style=\"font-size:20px; font-family:Times New Roman;\">was</span> <span style=\"font-size:20px; font-family:Times New Roman;\">there</span> <span style=\"font-size:20px; font-family:Times New Roman;\">in</span> <span style=\"font-size:20px; font-family:Times New Roman;\"><span style=\"background-color:rgba(255, 0, 0, 0.03322560486666329)\">January</span></span> <span style=\"font-size:20px; font-family:Times New Roman;\">which</span> <span style=\"font-size:20px; font-family:Times New Roman;\">i</span> <span style=\"font-size:20px; font-family:Times New Roman;\"><span style=\"background-color:rgba(255, 0, 0, 0.03043163824141784)\">assume</span></span> <span style=\"font-size:20px; font-family:Times New Roman;\">is</span> <span style=\"font-size:20px; font-family:Times New Roman;\">off</span> <span style=\"font-size:20px; font-family:Times New Roman;\"><span style=\"background-color:rgba(255, 0, 0, 0.03073031751878467)\">peak</span></span>"
      ],
      "text/plain": [
       "<IPython.core.display.HTML object>"
      ]
     },
     "metadata": {},
     "output_type": "display_data"
    },
    {
     "name": "stdout",
     "output_type": "stream",
     "text": [
      "\n",
      " pool on roof location near subway and Primark breakfast \n"
     ]
    },
    {
     "data": {
      "text/html": [
       "<span style=\"font-size:16px; font-family:Times New Roman;\">\n",
       " <span style=\"background-color: rgba(255, 0, 0, 1);\">Number 1 Topic is 1</span> with  probability 0.3450862275807259, Title is: Bathroom and spa</span>"
      ],
      "text/plain": [
       "<IPython.core.display.HTML object>"
      ]
     },
     "metadata": {},
     "output_type": "display_data"
    },
    {
     "data": {
      "text/html": [
       "<span style=\"font-size:16px; font-family:Times New Roman;\">\n",
       " <span style=\"background-color: rgba(0, 0, 255, 1);\">Number 2 Topic is 0</span> with  probability 0.11392210301655076, Title is: Hospitality Excellence</span>"
      ],
      "text/plain": [
       "<IPython.core.display.HTML object>"
      ]
     },
     "metadata": {},
     "output_type": "display_data"
    },
    {
     "data": {
      "text/html": [
       "<span style=\"font-size:16px; font-family:Times New Roman;\">\n",
       " <span style=\"background-color: rgba(0, 255, 0, 1);\">Number 3 Topic is 2</span> with  probability 0.06873424621496846, Title is: Hotel Amenities Excellence</span>"
      ],
      "text/plain": [
       "<IPython.core.display.HTML object>"
      ]
     },
     "metadata": {},
     "output_type": "display_data"
    },
    {
     "name": "stdout",
     "output_type": "stream",
     "text": [
      "[1, 0, 2]\n",
      "{1: {'pool': 0.06328364299821589, 'roof': 0.0064263036439658906, 'breakfast': 0.006261741129187845, 'location': 0.0060148294575348765, 'near': 0.002504021180967867, 'subway': 0.0005460823469011587}, 0: {'location': 0.03583580936752398, 'breakfast': 0.011407779818943154, 'near': 0.009481558052123164, 'subway': 0.0039226598045285195, 'pool': 0.0014729823240611302, 'roof': 0.001445140228992601}, 2: {'breakfast': 0.11524841376258102, 'location': 0.03927079997120542, 'roof': 0.006135372406684987, 'near': 0.002239896985529971, 'pool': 0.0007394431779766812, 'subway': 0.0007327223579248551}}\n"
     ]
    },
    {
     "data": {
      "text/html": [
       "<span style=\"font-size:20px; font-family:Times New Roman;\"><span style=\"background-color:rgba(255, 0, 0, 0.7881744456392635)\">pool</span></span> <span style=\"font-size:20px; font-family:Times New Roman;\">on</span> <span style=\"font-size:20px; font-family:Times New Roman;\"><span style=\"background-color:rgba(255, 0, 0, 0.08003724299239838)\">roof</span></span> <span style=\"font-size:20px; font-family:Times New Roman;\"><span style=\"background-color:rgba(0, 255, 0, 0.3407491581802222)\">location</span></span> <span style=\"font-size:20px; font-family:Times New Roman;\"><span style=\"background-color:rgba(0, 0, 255, 0.19535162775421103)\">near</span></span> <span style=\"font-size:20px; font-family:Times New Roman;\"><span style=\"background-color:rgba(0, 0, 255, 0.0808198371752908)\">subway</span></span> <span style=\"font-size:20px; font-family:Times New Roman;\">and</span> <span style=\"font-size:20px; font-family:Times New Roman;\"><span style=\"background-color:rgba(255, 0, 0, 0.003066448423390118)\">Primark</span></span> <span style=\"font-size:20px; font-family:Times New Roman;\"><span style=\"background-color:rgba(0, 255, 0, 1.0)\">breakfast</span></span>"
      ],
      "text/plain": [
       "<IPython.core.display.HTML object>"
      ]
     },
     "metadata": {},
     "output_type": "display_data"
    },
    {
     "name": "stdout",
     "output_type": "stream",
     "text": [
      "\n",
      " The position the pool the bars provision of robes\n"
     ]
    },
    {
     "data": {
      "text/html": [
       "<span style=\"font-size:16px; font-family:Times New Roman;\">\n",
       " <span style=\"background-color: rgba(255, 0, 0, 1);\">Number 1 Topic is 1</span> with  probability 0.6009530022798137, Title is: Bathroom and spa</span>"
      ],
      "text/plain": [
       "<IPython.core.display.HTML object>"
      ]
     },
     "metadata": {},
     "output_type": "display_data"
    },
    {
     "data": {
      "text/html": [
       "<span style=\"font-size:16px; font-family:Times New Roman;\">\n",
       " <span style=\"background-color: rgba(0, 0, 255, 1);\">Number 2 Topic is 0</span> with  probability 0.09643560370089124, Title is: Hospitality Excellence</span>"
      ],
      "text/plain": [
       "<IPython.core.display.HTML object>"
      ]
     },
     "metadata": {},
     "output_type": "display_data"
    },
    {
     "data": {
      "text/html": [
       "<span style=\"font-size:16px; font-family:Times New Roman;\">\n",
       " <span style=\"background-color: rgba(0, 255, 0, 1);\">Number 3 Topic is 2</span> with  probability 0.05826699154849925, Title is: Hotel Amenities Excellence</span>"
      ],
      "text/plain": [
       "<IPython.core.display.HTML object>"
      ]
     },
     "metadata": {},
     "output_type": "display_data"
    },
    {
     "name": "stdout",
     "output_type": "stream",
     "text": [
      "[1, 0, 2]\n",
      "{1: {'pool': 0.06328364299821589, 'bars': 0.0018123349367214308, 'robes': 0.0010734859114763658, 'position': 0.0007825518807398329, 'provision': 0.0002135948400911344}, 0: {'bars': 0.0029410566337439094, 'position': 0.0026581272771320713, 'pool': 0.0014729823240611302, 'robes': 0.0007770921090438254, 'provision': 7.136328034439413e-05}, 2: {'position': 0.0029750352557133303, 'bars': 0.0013895741294798608, 'pool': 0.0007394431779766812, 'robes': 0.00024006364996036154}}\n"
     ]
    },
    {
     "data": {
      "text/html": [
       "<span style=\"font-size:20px; font-family:Times New Roman;\">The</span> <span style=\"font-size:20px; font-family:Times New Roman;\"><span style=\"background-color:rgba(0, 255, 0, 0.02581411022143949)\">position</span></span> <span style=\"font-size:20px; font-family:Times New Roman;\">the</span> <span style=\"font-size:20px; font-family:Times New Roman;\"><span style=\"background-color:rgba(255, 0, 0, 0.7881744456392635)\">pool</span></span> <span style=\"font-size:20px; font-family:Times New Roman;\">the</span> <span style=\"font-size:20px; font-family:Times New Roman;\"><span style=\"background-color:rgba(0, 0, 255, 0.06059554743648264)\">bars</span></span> <span style=\"font-size:20px; font-family:Times New Roman;\"><span style=\"background-color:rgba(255, 0, 0, 0.00266024499703633)\">provision</span></span> <span style=\"font-size:20px; font-family:Times New Roman;\">of</span> <span style=\"font-size:20px; font-family:Times New Roman;\"><span style=\"background-color:rgba(255, 0, 0, 0.013369871314192476)\">robes</span></span>"
      ],
      "text/plain": [
       "<IPython.core.display.HTML object>"
      ]
     },
     "metadata": {},
     "output_type": "display_data"
    },
    {
     "name": "stdout",
     "output_type": "stream",
     "text": [
      "\n",
      " I liked how it looked in general nothing was really wrong just it felt like i was in a block i could hear everyone in the hall\n"
     ]
    },
    {
     "data": {
      "text/html": [
       "<span style=\"font-size:16px; font-family:Times New Roman;\">\n",
       " <span style=\"background-color: rgba(255, 0, 0, 1);\">Number 1 Topic is 7</span> with  probability 0.27908887373992985, Title is: Perfect Everything Thought</span>"
      ],
      "text/plain": [
       "<IPython.core.display.HTML object>"
      ]
     },
     "metadata": {},
     "output_type": "display_data"
    },
    {
     "data": {
      "text/html": [
       "<span style=\"font-size:16px; font-family:Times New Roman;\">\n",
       " <span style=\"background-color: rgba(0, 0, 255, 1);\">Number 2 Topic is 0</span> with  probability 0.0843710198459596, Title is: Hospitality Excellence</span>"
      ],
      "text/plain": [
       "<IPython.core.display.HTML object>"
      ]
     },
     "metadata": {},
     "output_type": "display_data"
    },
    {
     "data": {
      "text/html": [
       "<span style=\"font-size:16px; font-family:Times New Roman;\">\n",
       " <span style=\"background-color: rgba(0, 255, 0, 1);\">Number 3 Topic is 2</span> with  probability 0.04447798660340073, Title is: Hotel Amenities Excellence</span>"
      ],
      "text/plain": [
       "<IPython.core.display.HTML object>"
      ]
     },
     "metadata": {},
     "output_type": "display_data"
    },
    {
     "name": "stdout",
     "output_type": "stream",
     "text": [
      "[7, 0, 2]\n",
      "{7: {'nothing': 0.3231399063269309, 'like': 0.047535924963401414, 'liked': 0.04238008617930168, 'really': 0.031351044803127795, 'could': 0.02863837660915288, 'everyone': 0.009529455507608827, 'general': 0.008477857037001603, 'wrong': 0.006284354687321022, 'hear': 0.0032220241158851426, 'looked': 0.0032013864224801516, 'felt': 0.0029233551240604888, 'block': 0.0014160007166362661, 'hall': 0.0012518783473825516}, 0: {'really': 0.01449127363326545, 'like': 0.007556751346144966, 'could': 0.0055339161517924135, 'liked': 0.004481093677683882, 'nothing': 0.003744546367588792, 'felt': 0.0026820908845787395, 'general': 0.002237558701070762, 'looked': 0.0021727057447457295, 'everyone': 0.001347378655768482, 'block': 0.001334731133116835, 'hall': 0.0010384249578659593, 'hear': 0.0005264306816777593, 'wrong': 0.00023694688157056135}, 2: {'really': 0.013450463700559053, 'could': 0.0077695018947627125, 'liked': 0.0075333011790208165, 'like': 0.006614342948336849, 'nothing': 0.0028056382982905217, 'felt': 0.002803505995570988, 'everyone': 0.0025251879164939956, 'looked': 0.001777448786276063, 'general': 0.0014671198827938495, 'hall': 0.0013269291506557948, 'hear': 0.00048788375055121134, 'wrong': 0.00019031729275570462}}\n"
     ]
    },
    {
     "data": {
      "text/html": [
       "<span style=\"font-size:20px; font-family:Times New Roman;\">I</span> <span style=\"font-size:20px; font-family:Times New Roman;\"><span style=\"background-color:rgba(255, 0, 0, 0.13115088959772242)\">liked</span></span> <span style=\"font-size:20px; font-family:Times New Roman;\">how</span> <span style=\"font-size:20px; font-family:Times New Roman;\">it</span> <span style=\"font-size:20px; font-family:Times New Roman;\"><span style=\"background-color:rgba(255, 0, 0, 0.009907121837317139)\">looked</span></span> <span style=\"font-size:20px; font-family:Times New Roman;\">in</span> <span style=\"font-size:20px; font-family:Times New Roman;\"><span style=\"background-color:rgba(255, 0, 0, 0.026235871432184813)\">general</span></span> <span style=\"font-size:20px; font-family:Times New Roman;\"><span style=\"background-color:rgba(255, 0, 0, 1.0)\">nothing</span></span> <span style=\"font-size:20px; font-family:Times New Roman;\">was</span> <span style=\"font-size:20px; font-family:Times New Roman;\"><span style=\"background-color:rgba(255, 0, 0, 0.09702003432348881)\">really</span></span> <span style=\"font-size:20px; font-family:Times New Roman;\"><span style=\"background-color:rgba(255, 0, 0, 0.019447782722827617)\">wrong</span></span> <span style=\"font-size:20px; font-family:Times New Roman;\">just</span> <span style=\"font-size:20px; font-family:Times New Roman;\">it</span> <span style=\"font-size:20px; font-family:Times New Roman;\"><span style=\"background-color:rgba(255, 0, 0, 0.009046716505211948)\">felt</span></span> <span style=\"font-size:20px; font-family:Times New Roman;\"><span style=\"background-color:rgba(255, 0, 0, 0.1471063277319509)\">like</span></span> <span style=\"font-size:20px; font-family:Times New Roman;\">i</span> <span style=\"font-size:20px; font-family:Times New Roman;\">was</span> <span style=\"font-size:20px; font-family:Times New Roman;\">in</span> <span style=\"font-size:20px; font-family:Times New Roman;\">a</span> <span style=\"font-size:20px; font-family:Times New Roman;\"><span style=\"background-color:rgba(255, 0, 0, 0.004382005097209049)\">block</span></span> <span style=\"font-size:20px; font-family:Times New Roman;\">i</span> <span style=\"font-size:20px; font-family:Times New Roman;\"><span style=\"background-color:rgba(255, 0, 0, 0.08862531692442382)\">could</span></span> <span style=\"font-size:20px; font-family:Times New Roman;\"><span style=\"background-color:rgba(255, 0, 0, 0.009970987961559036)\">hear</span></span> <span style=\"font-size:20px; font-family:Times New Roman;\"><span style=\"background-color:rgba(255, 0, 0, 0.02949018465694415)\">everyone</span></span> <span style=\"font-size:20px; font-family:Times New Roman;\">in</span> <span style=\"font-size:20px; font-family:Times New Roman;\">the</span> <span style=\"font-size:20px; font-family:Times New Roman;\"><span style=\"background-color:rgba(0, 255, 0, 0.011513643505665529)\">hall</span></span>"
      ],
      "text/plain": [
       "<IPython.core.display.HTML object>"
      ]
     },
     "metadata": {},
     "output_type": "display_data"
    },
    {
     "name": "stdout",
     "output_type": "stream",
     "text": [
      "\n",
      " Tv dint have the children s channel after 5pm not enough channels kids movie channels Missed having bathrobes and slippers Dint have a good view as we were facing the station as well and had to keep the curtains closed during our stay which was a shame \n"
     ]
    },
    {
     "data": {
      "text/html": [
       "<span style=\"font-size:16px; font-family:Times New Roman;\">\n",
       " <span style=\"background-color: rgba(255, 0, 0, 1);\">Number 1 Topic is 0</span> with  probability 0.1665757345604944, Title is: Hospitality Excellence</span>"
      ],
      "text/plain": [
       "<IPython.core.display.HTML object>"
      ]
     },
     "metadata": {},
     "output_type": "display_data"
    },
    {
     "data": {
      "text/html": [
       "<span style=\"font-size:16px; font-family:Times New Roman;\">\n",
       " <span style=\"background-color: rgba(0, 0, 255, 1);\">Number 2 Topic is 2</span> with  probability 0.09261833818678404, Title is: Hotel Amenities Excellence</span>"
      ],
      "text/plain": [
       "<IPython.core.display.HTML object>"
      ]
     },
     "metadata": {},
     "output_type": "display_data"
    },
    {
     "data": {
      "text/html": [
       "<span style=\"font-size:16px; font-family:Times New Roman;\">\n",
       " <span style=\"background-color: rgba(0, 255, 0, 1);\">Number 3 Topic is 1</span> with  probability 0.09134193512645014, Title is: Bathroom and spa</span>"
      ],
      "text/plain": [
       "<IPython.core.display.HTML object>"
      ]
     },
     "metadata": {},
     "output_type": "display_data"
    },
    {
     "name": "stdout",
     "output_type": "stream",
     "text": [
      "[0, 2, 1]\n",
      "{0: {'good': 0.026974237738203566, 'station': 0.022796498986596227, 'stay': 0.016456744779990817, 'well': 0.0154182859066096, 'view': 0.011865545376186169, 'enough': 0.004712334018505235, 'facing': 0.0013798681261678596, 'kids': 0.001092893424837567, 'slippers': 0.0009873616100298497, 'keep': 0.0008461860956068774, 'channels': 0.0007419440234740028, 'children': 0.0007335867066228419, 'curtains': 0.0006755580464378713, 'closed': 0.0005001863365302284, 'shame': 0.00020113162566884433, 'channel': 0.0001881565131691006, 'bathrobes': 0.00012058613735699065}, 2: {'good': 0.05274792941197384, 'well': 0.012384068586298477, 'stay': 0.008709643986363133, 'closed': 0.005356706043754011, 'view': 0.00493318006460417, 'enough': 0.004859092939785833, 'kids': 0.0015266420565907433, 'shame': 0.0010096890237361342, 'children': 0.0009820361078442547, 'curtains': 0.0007751609477387734, 'facing': 0.0007643580337688459, 'station': 0.000588125197964443, 'channels': 0.0005586884217515432, 'dint': 0.0003117902786044847, 'slippers': 0.00019826383380343803, 'keep': 0.00017885848264917074}, 1: {'good': 0.011614881571662178, 'view': 0.007587863994623185, 'well': 0.007340061440664611, 'enough': 0.007147457250394081, 'stay': 0.006427473564018977, 'closed': 0.004241753697590334, 'bathrobes': 0.003428758847910416, 'kids': 0.0032710995793394705, 'children': 0.0032203184979110173, 'curtains': 0.0030329823448028608, 'slippers': 0.0025119507197592663, 'keep': 0.0023993894282240665, 'station': 0.0018263215306050763, 'channels': 0.0016655142632777467, 'shame': 0.0010534995746508942, 'facing': 0.0008544896121404833, 'channel': 0.000750885892548828, 'dint': 0.000464741290448693, 'movie': 0.00020261381743579804}}\n"
     ]
    },
    {
     "data": {
      "text/html": [
       "<span style=\"font-size:20px; font-family:Times New Roman;\">Tv</span> <span style=\"font-size:20px; font-family:Times New Roman;\"><span style=\"background-color:rgba(0, 255, 0, 0.005788181457496076)\">dint</span></span> <span style=\"font-size:20px; font-family:Times New Roman;\">have</span> <span style=\"font-size:20px; font-family:Times New Roman;\">the</span> <span style=\"font-size:20px; font-family:Times New Roman;\"><span style=\"background-color:rgba(0, 255, 0, 0.04010787980307074)\">children</span></span> <span style=\"font-size:20px; font-family:Times New Roman;\">s</span> <span style=\"font-size:20px; font-family:Times New Roman;\"><span style=\"background-color:rgba(0, 255, 0, 0.009352006996732175)\">channel</span></span> <span style=\"font-size:20px; font-family:Times New Roman;\">after</span> <span style=\"font-size:20px; font-family:Times New Roman;\">5pm</span> <span style=\"font-size:20px; font-family:Times New Roman;\">not</span> <span style=\"font-size:20px; font-family:Times New Roman;\"><span style=\"background-color:rgba(0, 255, 0, 0.08901894532554817)\">enough</span></span> <span style=\"font-size:20px; font-family:Times New Roman;\"><span style=\"background-color:rgba(0, 255, 0, 0.020743366199702393)\">channels</span></span> <span style=\"font-size:20px; font-family:Times New Roman;\"><span style=\"background-color:rgba(0, 255, 0, 0.04074033945310956)\">kids</span></span> <span style=\"font-size:20px; font-family:Times New Roman;\"><span style=\"background-color:rgba(0, 255, 0, 0.0025234804077384934)\">movie</span></span> <span style=\"font-size:20px; font-family:Times New Roman;\"><span style=\"background-color:rgba(0, 255, 0, 0.020743366199702393)\">channels</span></span> <span style=\"font-size:20px; font-family:Times New Roman;\"><span style=\"background-color:rgba(0, 255, 0, 0.01644986937113939)\">Missed</span></span> <span style=\"font-size:20px; font-family:Times New Roman;\">having</span> <span style=\"font-size:20px; font-family:Times New Roman;\"><span style=\"background-color:rgba(0, 255, 0, 0.04270392752608602)\">bathrobes</span></span> <span style=\"font-size:20px; font-family:Times New Roman;\">and</span> <span style=\"font-size:20px; font-family:Times New Roman;\"><span style=\"background-color:rgba(0, 255, 0, 0.03128542024793398)\">slippers</span></span> <span style=\"font-size:20px; font-family:Times New Roman;\"><span style=\"background-color:rgba(0, 255, 0, 0.005788181457496076)\">Dint</span></span> <span style=\"font-size:20px; font-family:Times New Roman;\">have</span> <span style=\"font-size:20px; font-family:Times New Roman;\">a</span> <span style=\"font-size:20px; font-family:Times New Roman;\"><span style=\"background-color:rgba(0, 0, 255, 0.45768898408127245)\">good</span></span> <span style=\"font-size:20px; font-family:Times New Roman;\"><span style=\"background-color:rgba(255, 0, 0, 0.24446969482092357)\">view</span></span> <span style=\"font-size:20px; font-family:Times New Roman;\">as</span> <span style=\"font-size:20px; font-family:Times New Roman;\">we</span> <span style=\"font-size:20px; font-family:Times New Roman;\">were</span> <span style=\"font-size:20px; font-family:Times New Roman;\"><span style=\"background-color:rgba(255, 0, 0, 0.028429872290101427)\">facing</span></span> <span style=\"font-size:20px; font-family:Times New Roman;\">the</span> <span style=\"font-size:20px; font-family:Times New Roman;\"><span style=\"background-color:rgba(255, 0, 0, 0.46968369118739717)\">station</span></span> <span style=\"font-size:20px; font-family:Times New Roman;\">as</span> <span style=\"font-size:20px; font-family:Times New Roman;\"><span style=\"background-color:rgba(255, 0, 0, 0.3176679647456818)\">well</span></span> <span style=\"font-size:20px; font-family:Times New Roman;\">and</span> <span style=\"font-size:20px; font-family:Times New Roman;\">had</span> <span style=\"font-size:20px; font-family:Times New Roman;\">to</span> <span style=\"font-size:20px; font-family:Times New Roman;\"><span style=\"background-color:rgba(0, 255, 0, 0.029883510854716893)\">keep</span></span> <span style=\"font-size:20px; font-family:Times New Roman;\">the</span> <span style=\"font-size:20px; font-family:Times New Roman;\"><span style=\"background-color:rgba(0, 255, 0, 0.037774677072811104)\">curtains</span></span> <span style=\"font-size:20px; font-family:Times New Roman;\"><span style=\"background-color:rgba(0, 0, 255, 0.046479650945905095)\">closed</span></span> <span style=\"font-size:20px; font-family:Times New Roman;\">during</span> <span style=\"font-size:20px; font-family:Times New Roman;\">our</span> <span style=\"font-size:20px; font-family:Times New Roman;\"><span style=\"background-color:rgba(255, 0, 0, 0.3390636710373707)\">stay</span></span> <span style=\"font-size:20px; font-family:Times New Roman;\">which</span> <span style=\"font-size:20px; font-family:Times New Roman;\">was</span> <span style=\"font-size:20px; font-family:Times New Roman;\">a</span> <span style=\"font-size:20px; font-family:Times New Roman;\"><span style=\"background-color:rgba(0, 255, 0, 0.013120948856485359)\">shame</span></span>"
      ],
      "text/plain": [
       "<IPython.core.display.HTML object>"
      ]
     },
     "metadata": {},
     "output_type": "display_data"
    },
    {
     "name": "stdout",
     "output_type": "stream",
     "text": [
      "\n",
      " The room was poorly furnished for two people Inadequate hanging space and not enough drawer space One morning we had no hot water in the shower and had to call for assistance to get hot water in the bath and taps There was no decafinated coffee in the breakfast room\n"
     ]
    },
    {
     "data": {
      "text/html": [
       "<span style=\"font-size:16px; font-family:Times New Roman;\">\n",
       " <span style=\"background-color: rgba(255, 0, 0, 1);\">Number 1 Topic is 0</span> with  probability 0.20527140925438367, Title is: Hospitality Excellence</span>"
      ],
      "text/plain": [
       "<IPython.core.display.HTML object>"
      ]
     },
     "metadata": {},
     "output_type": "display_data"
    },
    {
     "data": {
      "text/html": [
       "<span style=\"font-size:16px; font-family:Times New Roman;\">\n",
       " <span style=\"background-color: rgba(0, 0, 255, 1);\">Number 2 Topic is 2</span> with  probability 0.11459396359208177, Title is: Hotel Amenities Excellence</span>"
      ],
      "text/plain": [
       "<IPython.core.display.HTML object>"
      ]
     },
     "metadata": {},
     "output_type": "display_data"
    },
    {
     "data": {
      "text/html": [
       "<span style=\"font-size:16px; font-family:Times New Roman;\">\n",
       " <span style=\"background-color: rgba(0, 255, 0, 1);\">Number 3 Topic is 1</span> with  probability 0.114433133280841, Title is: Bathroom and spa</span>"
      ],
      "text/plain": [
       "<IPython.core.display.HTML object>"
      ]
     },
     "metadata": {},
     "output_type": "display_data"
    },
    {
     "name": "stdout",
     "output_type": "stream",
     "text": [
      "[0, 2, 1]\n",
      "{0: {'room': 0.02927797724444089, 'breakfast': 0.011407779818943154, 'shower': 0.008537696382555497, 'get': 0.007358044681552877, 'enough': 0.004712334018505235, 'coffee': 0.003977247101569772, 'space': 0.003333854822793243, 'bath': 0.003320915891684631, 'two': 0.003159590894096046, 'people': 0.0030879073013128523, 'water': 0.0026863871952321526, 'hot': 0.0022631969401755428, 'furnished': 0.0017721611052830045, 'morning': 0.0017239697711566822, 'assistance': 0.00047242192872780093, 'call': 0.000441748472851137, 'hanging': 0.00022581155935650848, 'drawer': 6.465054164258324e-05}, 2: {'breakfast': 0.11524841376258102, 'room': 0.02884931166699843, 'coffee': 0.0049844058388023695, 'enough': 0.004859092939785833, 'hot': 0.004667361961255957, 'morning': 0.004572135360503713, 'get': 0.004427374280474093, 'space': 0.003946193421529448, 'people': 0.0033939954463629487, 'two': 0.0019521570572927848, 'water': 0.0018762816114196094, 'furnished': 0.0012559512779784117, 'call': 0.0005322229155838819, 'shower': 0.00048704075665463955, 'assistance': 0.00023715774902256112, 'bath': 0.00013749389035829589}, 1: {'shower': 0.08029141689171172, 'room': 0.0345227160801766, 'bath': 0.033200689604012054, 'water': 0.03198731733369863, 'hot': 0.01601934033951883, 'get': 0.009208263154872902, 'enough': 0.007147457250394081, 'morning': 0.006522957240123255, 'breakfast': 0.006261741129187845, 'two': 0.0060923980295048835, 'space': 0.005987063803612143, 'people': 0.0054480944514058395, 'poorly': 0.003163208430427846, 'coffee': 0.003123785016809835, 'taps': 0.0029273727515921667, 'hanging': 0.00253450638472885, 'call': 0.00198327194245675, 'drawer': 0.0005805095577436225, 'assistance': 0.0005302458377501205, 'furnished': 0.00046801685116745057, 'decafinated': 0.0002759744887886815}}\n"
     ]
    },
    {
     "data": {
      "text/html": [
       "<span style=\"font-size:20px; font-family:Times New Roman;\">The</span> <span style=\"font-size:20px; font-family:Times New Roman;\"><span style=\"background-color:rgba(0, 255, 0, 0.4299677028584147)\">room</span></span> <span style=\"font-size:20px; font-family:Times New Roman;\">was</span> <span style=\"font-size:20px; font-family:Times New Roman;\"><span style=\"background-color:rgba(0, 255, 0, 0.03939659496473995)\">poorly</span></span> <span style=\"font-size:20px; font-family:Times New Roman;\"><span style=\"background-color:rgba(255, 0, 0, 0.036512412269860524)\">furnished</span></span> <span style=\"font-size:20px; font-family:Times New Roman;\">for</span> <span style=\"font-size:20px; font-family:Times New Roman;\"><span style=\"background-color:rgba(0, 255, 0, 0.07587857165008861)\">two</span></span> <span style=\"font-size:20px; font-family:Times New Roman;\"><span style=\"background-color:rgba(0, 255, 0, 0.06785400809097233)\">people</span></span> <span style=\"font-size:20px; font-family:Times New Roman;\"><span style=\"background-color:rgba(0, 255, 0, 0.00925207485547979)\">Inadequate</span></span> <span style=\"font-size:20px; font-family:Times New Roman;\"><span style=\"background-color:rgba(0, 255, 0, 0.03156634274055862)\">hanging</span></span> <span style=\"font-size:20px; font-family:Times New Roman;\"><span style=\"background-color:rgba(0, 255, 0, 0.07456667269537465)\">space</span></span> <span style=\"font-size:20px; font-family:Times New Roman;\">and</span> <span style=\"font-size:20px; font-family:Times New Roman;\">not</span> <span style=\"font-size:20px; font-family:Times New Roman;\"><span style=\"background-color:rgba(0, 255, 0, 0.08901894532554817)\">enough</span></span> <span style=\"font-size:20px; font-family:Times New Roman;\"><span style=\"background-color:rgba(0, 255, 0, 0.007230032551630647)\">drawer</span></span> <span style=\"font-size:20px; font-family:Times New Roman;\"><span style=\"background-color:rgba(0, 255, 0, 0.07456667269537465)\">space</span></span> <span style=\"font-size:20px; font-family:Times New Roman;\"><span style=\"background-color:rgba(0, 255, 0, 0.15226439208450654)\">One</span></span> <span style=\"font-size:20px; font-family:Times New Roman;\"><span style=\"background-color:rgba(0, 255, 0, 0.08124102790365134)\">morning</span></span> <span style=\"font-size:20px; font-family:Times New Roman;\">we</span> <span style=\"font-size:20px; font-family:Times New Roman;\">had</span> <span style=\"font-size:20px; font-family:Times New Roman;\">no</span> <span style=\"font-size:20px; font-family:Times New Roman;\"><span style=\"background-color:rgba(0, 255, 0, 0.19951497880681274)\">hot</span></span> <span style=\"font-size:20px; font-family:Times New Roman;\"><span style=\"background-color:rgba(0, 255, 0, 0.3983902460812172)\">water</span></span> <span style=\"font-size:20px; font-family:Times New Roman;\">in</span> <span style=\"font-size:20px; font-family:Times New Roman;\">the</span> <span style=\"font-size:20px; font-family:Times New Roman;\"><span style=\"background-color:rgba(0, 255, 0, 1.0)\">shower</span></span> <span style=\"font-size:20px; font-family:Times New Roman;\">and</span> <span style=\"font-size:20px; font-family:Times New Roman;\">had</span> <span style=\"font-size:20px; font-family:Times New Roman;\">to</span> <span style=\"font-size:20px; font-family:Times New Roman;\"><span style=\"background-color:rgba(0, 255, 0, 0.024700920960599934)\">call</span></span> <span style=\"font-size:20px; font-family:Times New Roman;\">for</span> <span style=\"font-size:20px; font-family:Times New Roman;\"><span style=\"background-color:rgba(0, 255, 0, 0.006604016447552022)\">assistance</span></span> <span style=\"font-size:20px; font-family:Times New Roman;\">to</span> <span style=\"font-size:20px; font-family:Times New Roman;\"><span style=\"background-color:rgba(0, 255, 0, 0.11468552320221226)\">get</span></span> <span style=\"font-size:20px; font-family:Times New Roman;\"><span style=\"background-color:rgba(0, 255, 0, 0.19951497880681274)\">hot</span></span> <span style=\"font-size:20px; font-family:Times New Roman;\"><span style=\"background-color:rgba(0, 255, 0, 0.3983902460812172)\">water</span></span> <span style=\"font-size:20px; font-family:Times New Roman;\">in</span> <span style=\"font-size:20px; font-family:Times New Roman;\">the</span> <span style=\"font-size:20px; font-family:Times New Roman;\"><span style=\"background-color:rgba(0, 255, 0, 0.41350235042918115)\">bath</span></span> <span style=\"font-size:20px; font-family:Times New Roman;\">and</span> <span style=\"font-size:20px; font-family:Times New Roman;\"><span style=\"background-color:rgba(0, 255, 0, 0.036459348519659165)\">taps</span></span> <span style=\"font-size:20px; font-family:Times New Roman;\">There</span> <span style=\"font-size:20px; font-family:Times New Roman;\">was</span> <span style=\"font-size:20px; font-family:Times New Roman;\">no</span> <span style=\"font-size:20px; font-family:Times New Roman;\"><span style=\"background-color:rgba(0, 255, 0, 0.0034371605268952434)\">decafinated</span></span> <span style=\"font-size:20px; font-family:Times New Roman;\"><span style=\"background-color:rgba(0, 0, 255, 0.04324923594237539)\">coffee</span></span> <span style=\"font-size:20px; font-family:Times New Roman;\">in</span> <span style=\"font-size:20px; font-family:Times New Roman;\">the</span> <span style=\"font-size:20px; font-family:Times New Roman;\"><span style=\"background-color:rgba(0, 0, 255, 1.0)\">breakfast</span></span> <span style=\"font-size:20px; font-family:Times New Roman;\"><span style=\"background-color:rgba(0, 255, 0, 0.4299677028584147)\">room</span></span>"
      ],
      "text/plain": [
       "<IPython.core.display.HTML object>"
      ]
     },
     "metadata": {},
     "output_type": "display_data"
    },
    {
     "name": "stdout",
     "output_type": "stream",
     "text": [
      "\n",
      " bathroom and size of bedroom service at breakfast a little bit distracted \n"
     ]
    },
    {
     "data": {
      "text/html": [
       "<span style=\"font-size:16px; font-family:Times New Roman;\">\n",
       " <span style=\"background-color: rgba(255, 0, 0, 1);\">Number 1 Topic is 0</span> with  probability 0.21087785347024757, Title is: Hospitality Excellence</span>"
      ],
      "text/plain": [
       "<IPython.core.display.HTML object>"
      ]
     },
     "metadata": {},
     "output_type": "display_data"
    },
    {
     "data": {
      "text/html": [
       "<span style=\"font-size:16px; font-family:Times New Roman;\">\n",
       " <span style=\"background-color: rgba(0, 0, 255, 1);\">Number 2 Topic is 2</span> with  probability 0.09839710854202176, Title is: Hotel Amenities Excellence</span>"
      ],
      "text/plain": [
       "<IPython.core.display.HTML object>"
      ]
     },
     "metadata": {},
     "output_type": "display_data"
    },
    {
     "data": {
      "text/html": [
       "<span style=\"font-size:16px; font-family:Times New Roman;\">\n",
       " <span style=\"background-color: rgba(0, 255, 0, 1);\">Number 3 Topic is 1</span> with  probability 0.0680677242156024, Title is: Bathroom and spa</span>"
      ],
      "text/plain": [
       "<IPython.core.display.HTML object>"
      ]
     },
     "metadata": {},
     "output_type": "display_data"
    },
    {
     "name": "stdout",
     "output_type": "stream",
     "text": [
      "[0, 2, 1]\n",
      "{0: {'breakfast': 0.011407779818943154, 'service': 0.010679983175341665, 'bathroom': 0.009778721751555348, 'size': 0.007553538001663133, 'little': 0.005150367162280177, 'bit': 0.00356639656508472, 'bedroom': 0.0024965266329884115, 'distracted': 9.220468435906277e-05}, 2: {'breakfast': 0.11524841376258102, 'service': 0.015199719832633175, 'size': 0.006888883033294281, 'little': 0.006489111778321789, 'bit': 0.005709074486491888, 'bedroom': 0.0030078399023456505, 'bathroom': 0.0008945710236305133}, 1: {'bathroom': 0.06980398269448072, 'bit': 0.01373495909817994, 'little': 0.012543884977515348, 'bedroom': 0.008326236034209173, 'size': 0.006665371631978075, 'breakfast': 0.006261741129187845, 'service': 0.004557252254758476}}\n"
     ]
    },
    {
     "data": {
      "text/html": [
       "<span style=\"font-size:20px; font-family:Times New Roman;\"><span style=\"background-color:rgba(0, 255, 0, 0.8693828729990491)\">bathroom</span></span> <span style=\"font-size:20px; font-family:Times New Roman;\">and</span> <span style=\"font-size:20px; font-family:Times New Roman;\"><span style=\"background-color:rgba(255, 0, 0, 0.1556280028890146)\">size</span></span> <span style=\"font-size:20px; font-family:Times New Roman;\">of</span> <span style=\"font-size:20px; font-family:Times New Roman;\"><span style=\"background-color:rgba(0, 255, 0, 0.10370020055118331)\">bedroom</span></span> <span style=\"font-size:20px; font-family:Times New Roman;\"><span style=\"background-color:rgba(0, 0, 255, 0.13188658599627717)\">service</span></span> <span style=\"font-size:20px; font-family:Times New Roman;\">at</span> <span style=\"font-size:20px; font-family:Times New Roman;\"><span style=\"background-color:rgba(0, 0, 255, 1.0)\">breakfast</span></span> <span style=\"font-size:20px; font-family:Times New Roman;\">a</span> <span style=\"font-size:20px; font-family:Times New Roman;\"><span style=\"background-color:rgba(0, 255, 0, 0.1562294634111784)\">little</span></span> <span style=\"font-size:20px; font-family:Times New Roman;\"><span style=\"background-color:rgba(0, 255, 0, 0.17106385252491121)\">bit</span></span> <span style=\"font-size:20px; font-family:Times New Roman;\"><span style=\"background-color:rgba(255, 0, 0, 0.0018997231338021214)\">distracted</span></span>"
      ],
      "text/plain": [
       "<IPython.core.display.HTML object>"
      ]
     },
     "metadata": {},
     "output_type": "display_data"
    },
    {
     "name": "stdout",
     "output_type": "stream",
     "text": [
      "\n",
      " The sound of aircon or fan that reverberated in the walls outside at night \n"
     ]
    },
    {
     "data": {
      "text/html": [
       "<span style=\"font-size:16px; font-family:Times New Roman;\">\n",
       " <span style=\"background-color: rgba(255, 0, 0, 1);\">Number 1 Topic is 9</span> with  probability 0.17795417005929615, Title is: Room Climate Control</span>"
      ],
      "text/plain": [
       "<IPython.core.display.HTML object>"
      ]
     },
     "metadata": {},
     "output_type": "display_data"
    },
    {
     "data": {
      "text/html": [
       "<span style=\"font-size:16px; font-family:Times New Roman;\">\n",
       " <span style=\"background-color: rgba(0, 0, 255, 1);\">Number 2 Topic is 10</span> with  probability 0.11202696291490054, Title is: Room Lighting</span>"
      ],
      "text/plain": [
       "<IPython.core.display.HTML object>"
      ]
     },
     "metadata": {},
     "output_type": "display_data"
    },
    {
     "data": {
      "text/html": [
       "<span style=\"font-size:16px; font-family:Times New Roman;\">\n",
       " <span style=\"background-color: rgba(0, 255, 0, 1);\">Number 3 Topic is 0</span> with  probability 0.11166176568954526, Title is: Hospitality Excellence</span>"
      ],
      "text/plain": [
       "<IPython.core.display.HTML object>"
      ]
     },
     "metadata": {},
     "output_type": "display_data"
    },
    {
     "name": "stdout",
     "output_type": "stream",
     "text": [
      "[9, 10, 0]\n",
      "{9: {'night': 0.02914161515399624, 'fan': 0.025534404028245014, 'aircon': 0.020386369885593277, 'outside': 0.012060399003941881, 'walls': 0.005879903984073395, 'sound': 0.002441969392243603, 'reverberated': 0.001254667462148789}, 10: {'night': 0.01019176057634884, 'walls': 0.006972146874961888, 'outside': 0.005296563764374939}, 0: {'night': 0.005173523449781533, 'outside': 0.004595685469659412, 'sound': 0.0009421582810186596, 'aircon': 0.00039951490090374625, 'walls': 0.00025926615964898107, 'fan': 0.00024057775801047672}}\n"
     ]
    },
    {
     "data": {
      "text/html": [
       "<span style=\"font-size:20px; font-family:Times New Roman;\">The</span> <span style=\"font-size:20px; font-family:Times New Roman;\"><span style=\"background-color:rgba(255, 0, 0, 0.01685855416846459)\">sound</span></span> <span style=\"font-size:20px; font-family:Times New Roman;\">of</span> <span style=\"font-size:20px; font-family:Times New Roman;\"><span style=\"background-color:rgba(255, 0, 0, 0.14074079802403383)\">aircon</span></span> <span style=\"font-size:20px; font-family:Times New Roman;\">or</span> <span style=\"font-size:20px; font-family:Times New Roman;\"><span style=\"background-color:rgba(255, 0, 0, 0.17628113392286385)\">fan</span></span> <span style=\"font-size:20px; font-family:Times New Roman;\">that</span> <span style=\"font-size:20px; font-family:Times New Roman;\"><span style=\"background-color:rgba(255, 0, 0, 0.008661811831560956)\">reverberated</span></span> <span style=\"font-size:20px; font-family:Times New Roman;\">in</span> <span style=\"font-size:20px; font-family:Times New Roman;\">the</span> <span style=\"font-size:20px; font-family:Times New Roman;\"><span style=\"background-color:rgba(0, 0, 255, 0.06073864600172623)\">walls</span></span> <span style=\"font-size:20px; font-family:Times New Roman;\"><span style=\"background-color:rgba(255, 0, 0, 0.08326103125905518)\">outside</span></span> <span style=\"font-size:20px; font-family:Times New Roman;\">at</span> <span style=\"font-size:20px; font-family:Times New Roman;\"><span style=\"background-color:rgba(255, 0, 0, 0.20118413408073754)\">night</span></span>"
      ],
      "text/plain": [
       "<IPython.core.display.HTML object>"
      ]
     },
     "metadata": {},
     "output_type": "display_data"
    },
    {
     "name": "stdout",
     "output_type": "stream",
     "text": [
      "\n",
      " Not enough tea milk sugar in rooms Constant blowing fan noise even though the aircon was turned off It kept me awake at night \n"
     ]
    },
    {
     "data": {
      "text/html": [
       "<span style=\"font-size:16px; font-family:Times New Roman;\">\n",
       " <span style=\"background-color: rgba(255, 0, 0, 1);\">Number 1 Topic is 9</span> with  probability 0.24645332158036173, Title is: Room Climate Control</span>"
      ],
      "text/plain": [
       "<IPython.core.display.HTML object>"
      ]
     },
     "metadata": {},
     "output_type": "display_data"
    },
    {
     "data": {
      "text/html": [
       "<span style=\"font-size:16px; font-family:Times New Roman;\">\n",
       " <span style=\"background-color: rgba(0, 0, 255, 1);\">Number 2 Topic is 0</span> with  probability 0.12152995726399818, Title is: Hospitality Excellence</span>"
      ],
      "text/plain": [
       "<IPython.core.display.HTML object>"
      ]
     },
     "metadata": {},
     "output_type": "display_data"
    },
    {
     "data": {
      "text/html": [
       "<span style=\"font-size:16px; font-family:Times New Roman;\">\n",
       " <span style=\"background-color: rgba(0, 255, 0, 1);\">Number 3 Topic is 10</span> with  probability 0.11878271439730231, Title is: Room Lighting</span>"
      ],
      "text/plain": [
       "<IPython.core.display.HTML object>"
      ]
     },
     "metadata": {},
     "output_type": "display_data"
    },
    {
     "name": "stdout",
     "output_type": "stream",
     "text": [
      "[9, 0, 10]\n",
      "{9: {'night': 0.02914161515399624, 'fan': 0.025534404028245014, 'aircon': 0.020386369885593277, 'rooms': 0.018482332717222633, 'noise': 0.014617286627907062, 'even': 0.01431429202045779, 'turned': 0.009907137413891603, 'though': 0.008493485718335178, 'enough': 0.006932182435484453, 'blowing': 0.004796669307265055, 'kept': 0.004641148028655254, 'awake': 0.003987020169951145, 'milk': 0.00311403425886209, 'tea': 0.0025600357327537357, 'sugar': 0.0008487969650402645}, 0: {'rooms': 0.022525856144947343, 'even': 0.005564250631192386, 'night': 0.005173523449781533, 'enough': 0.004712334018505235, 'though': 0.002739459581392876, 'tea': 0.002696606506963827, 'noise': 0.0020536458540095794, 'kept': 0.0011084934505411297, 'milk': 0.00041192698324533933, 'aircon': 0.00039951490090374625, 'fan': 0.00024057775801047672, 'turned': 0.0001941517319838188, 'awake': 5.860069658201855e-05}, 10: {'rooms': 0.0629717309663769, 'night': 0.01019176057634884, 'even': 0.00893331329076243, 'enough': 0.007706151681293973, 'though': 0.005595124424274845, 'turned': 0.0019579122762089234, 'noise': 0.0019116809252384226, 'kept': 0.0017197754106547086, 'tea': 0.0006324134282300173}}\n"
     ]
    },
    {
     "data": {
      "text/html": [
       "<span style=\"font-size:20px; font-family:Times New Roman;\">Not</span> <span style=\"font-size:20px; font-family:Times New Roman;\"><span style=\"background-color:rgba(0, 255, 0, 0.06713301188283997)\">enough</span></span> <span style=\"font-size:20px; font-family:Times New Roman;\"><span style=\"background-color:rgba(0, 0, 255, 0.055559061881187324)\">tea</span></span> <span style=\"font-size:20px; font-family:Times New Roman;\"><span style=\"background-color:rgba(255, 0, 0, 0.02149826914384355)\">milk</span></span> <span style=\"font-size:20px; font-family:Times New Roman;\"><span style=\"background-color:rgba(255, 0, 0, 0.0058598153026039965)\">sugar</span></span> <span style=\"font-size:20px; font-family:Times New Roman;\">in</span> <span style=\"font-size:20px; font-family:Times New Roman;\"><span style=\"background-color:rgba(0, 255, 0, 0.5485853559709492)\">rooms</span></span> <span style=\"font-size:20px; font-family:Times New Roman;\"><span style=\"background-color:rgba(255, 0, 0, 0.02141474620777523)\">Constant</span></span> <span style=\"font-size:20px; font-family:Times New Roman;\"><span style=\"background-color:rgba(255, 0, 0, 0.033114628545955434)\">blowing</span></span> <span style=\"font-size:20px; font-family:Times New Roman;\"><span style=\"background-color:rgba(255, 0, 0, 0.17628113392286385)\">fan</span></span> <span style=\"font-size:20px; font-family:Times New Roman;\"><span style=\"background-color:rgba(255, 0, 0, 0.10091294313322074)\">noise</span></span> <span style=\"font-size:20px; font-family:Times New Roman;\"><span style=\"background-color:rgba(255, 0, 0, 0.09882116793789648)\">even</span></span> <span style=\"font-size:20px; font-family:Times New Roman;\"><span style=\"background-color:rgba(255, 0, 0, 0.0586362341462755)\">though</span></span> <span style=\"font-size:20px; font-family:Times New Roman;\">the</span> <span style=\"font-size:20px; font-family:Times New Roman;\"><span style=\"background-color:rgba(255, 0, 0, 0.14074079802403383)\">aircon</span></span> <span style=\"font-size:20px; font-family:Times New Roman;\">was</span> <span style=\"font-size:20px; font-family:Times New Roman;\"><span style=\"background-color:rgba(255, 0, 0, 0.06839562087756602)\">turned</span></span> <span style=\"font-size:20px; font-family:Times New Roman;\">off</span> <span style=\"font-size:20px; font-family:Times New Roman;\">It</span> <span style=\"font-size:20px; font-family:Times New Roman;\"><span style=\"background-color:rgba(255, 0, 0, 0.03204096074810342)\">kept</span></span> <span style=\"font-size:20px; font-family:Times New Roman;\">me</span> <span style=\"font-size:20px; font-family:Times New Roman;\"><span style=\"background-color:rgba(255, 0, 0, 0.027525076980644273)\">awake</span></span> <span style=\"font-size:20px; font-family:Times New Roman;\">at</span> <span style=\"font-size:20px; font-family:Times New Roman;\"><span style=\"background-color:rgba(255, 0, 0, 0.20118413408073754)\">night</span></span>"
      ],
      "text/plain": [
       "<IPython.core.display.HTML object>"
      ]
     },
     "metadata": {},
     "output_type": "display_data"
    },
    {
     "name": "stdout",
     "output_type": "stream",
     "text": [
      "\n",
      " Aircon didn t work straight away and only came on half way through the night meaning it was freezing when we woke \n"
     ]
    },
    {
     "data": {
      "text/html": [
       "<span style=\"font-size:16px; font-family:Times New Roman;\">\n",
       " <span style=\"background-color: rgba(255, 0, 0, 1);\">Number 1 Topic is 9</span> with  probability 0.4082093715572638, Title is: Room Climate Control</span>"
      ],
      "text/plain": [
       "<IPython.core.display.HTML object>"
      ]
     },
     "metadata": {},
     "output_type": "display_data"
    },
    {
     "data": {
      "text/html": [
       "<span style=\"font-size:16px; font-family:Times New Roman;\">\n",
       " <span style=\"background-color: rgba(0, 0, 255, 1);\">Number 2 Topic is 0</span> with  probability 0.09181565903801077, Title is: Hospitality Excellence</span>"
      ],
      "text/plain": [
       "<IPython.core.display.HTML object>"
      ]
     },
     "metadata": {},
     "output_type": "display_data"
    },
    {
     "data": {
      "text/html": [
       "<span style=\"font-size:16px; font-family:Times New Roman;\">\n",
       " <span style=\"background-color: rgba(0, 255, 0, 1);\">Number 3 Topic is 10</span> with  probability 0.08615071562698776, Title is: Room Lighting</span>"
      ],
      "text/plain": [
       "<IPython.core.display.HTML object>"
      ]
     },
     "metadata": {},
     "output_type": "display_data"
    },
    {
     "name": "stdout",
     "output_type": "stream",
     "text": [
      "[9, 0, 10]\n",
      "{9: {'work': 0.035379220137282744, 'night': 0.02914161515399624, 'way': 0.0059487256268803135, 'freezing': 0.005328978019826704, 'came': 0.004847071214867938, 'woke': 0.004369104723590817, 'half': 0.0018393692767266164, 'meaning': 0.0016337334231204842, 'straight': 0.0014015599925062765, 'away': 0.0013207403183330222}, 0: {'away': 0.006244214884098741, 'night': 0.005173523449781533, 'way': 0.004102652817954699, 'work': 0.0016289128783496258, 'came': 0.001385253593929125, 'straight': 0.0008754976161038392, 'half': 0.0006308121638483786, 'meaning': 0.0003001549796064838, 'freezing': 0.0001678384629842155, 'woke': 0.00010702754159269226}, 10: {'night': 0.01019176057634884, 'work': 0.010108726625013211, 'way': 0.006782454549657222, 'away': 0.0026101320441184283, 'came': 0.0023947735452679642, 'straight': 0.002077389815440196, 'half': 0.001817539990075671}}\n"
     ]
    },
    {
     "data": {
      "text/html": [
       "<span style=\"font-size:20px; font-family:Times New Roman;\"><span style=\"background-color:rgba(255, 0, 0, 0.14074079802403383)\">Aircon</span></span> <span style=\"font-size:20px; font-family:Times New Roman;\">didn</span> <span style=\"font-size:20px; font-family:Times New Roman;\">t</span> <span style=\"font-size:20px; font-family:Times New Roman;\"><span style=\"background-color:rgba(255, 0, 0, 0.24424650899265457)\">work</span></span> <span style=\"font-size:20px; font-family:Times New Roman;\"><span style=\"background-color:rgba(0, 255, 0, 0.018097416315301474)\">straight</span></span> <span style=\"font-size:20px; font-family:Times New Roman;\"><span style=\"background-color:rgba(0, 0, 255, 0.12865159238070717)\">away</span></span> <span style=\"font-size:20px; font-family:Times New Roman;\">and</span> <span style=\"font-size:20px; font-family:Times New Roman;\">only</span> <span style=\"font-size:20px; font-family:Times New Roman;\"><span style=\"background-color:rgba(255, 0, 0, 0.03346258675223601)\">came</span></span> <span style=\"font-size:20px; font-family:Times New Roman;\">on</span> <span style=\"font-size:20px; font-family:Times New Roman;\"><span style=\"background-color:rgba(255, 0, 0, 0.012698401006171102)\">half</span></span> <span style=\"font-size:20px; font-family:Times New Roman;\"><span style=\"background-color:rgba(0, 255, 0, 0.05908611985697438)\">way</span></span> <span style=\"font-size:20px; font-family:Times New Roman;\">through</span> <span style=\"font-size:20px; font-family:Times New Roman;\">the</span> <span style=\"font-size:20px; font-family:Times New Roman;\"><span style=\"background-color:rgba(255, 0, 0, 0.20118413408073754)\">night</span></span> <span style=\"font-size:20px; font-family:Times New Roman;\"><span style=\"background-color:rgba(255, 0, 0, 0.011278758651926717)\">meaning</span></span> <span style=\"font-size:20px; font-family:Times New Roman;\">it</span> <span style=\"font-size:20px; font-family:Times New Roman;\">was</span> <span style=\"font-size:20px; font-family:Times New Roman;\"><span style=\"background-color:rgba(255, 0, 0, 0.03678951296243096)\">freezing</span></span> <span style=\"font-size:20px; font-family:Times New Roman;\">when</span> <span style=\"font-size:20px; font-family:Times New Roman;\">we</span> <span style=\"font-size:20px; font-family:Times New Roman;\"><span style=\"background-color:rgba(255, 0, 0, 0.030162863172775813)\">woke</span></span>"
      ],
      "text/plain": [
       "<IPython.core.display.HTML object>"
      ]
     },
     "metadata": {},
     "output_type": "display_data"
    },
    {
     "name": "stdout",
     "output_type": "stream",
     "text": [
      "\n",
      " Servie for the breakfast was a bit unpredictable \n"
     ]
    },
    {
     "data": {
      "text/html": [
       "<span style=\"font-size:16px; font-family:Times New Roman;\">\n",
       " <span style=\"background-color: rgba(255, 0, 0, 1);\">Number 1 Topic is 8</span> with  probability 0.5191943737602343, Title is: Breakfast and Pricing</span>"
      ],
      "text/plain": [
       "<IPython.core.display.HTML object>"
      ]
     },
     "metadata": {},
     "output_type": "display_data"
    },
    {
     "data": {
      "text/html": [
       "<span style=\"font-size:16px; font-family:Times New Roman;\">\n",
       " <span style=\"background-color: rgba(0, 0, 255, 1);\">Number 2 Topic is 2</span> with  probability 0.10546271164793239, Title is: Hotel Amenities Excellence</span>"
      ],
      "text/plain": [
       "<IPython.core.display.HTML object>"
      ]
     },
     "metadata": {},
     "output_type": "display_data"
    },
    {
     "data": {
      "text/html": [
       "<span style=\"font-size:16px; font-family:Times New Roman;\">\n",
       " <span style=\"background-color: rgba(0, 255, 0, 1);\">Number 3 Topic is 0</span> with  probability 0.08147236948986449, Title is: Hospitality Excellence</span>"
      ],
      "text/plain": [
       "<IPython.core.display.HTML object>"
      ]
     },
     "metadata": {},
     "output_type": "display_data"
    },
    {
     "name": "stdout",
     "output_type": "stream",
     "text": [
      "[8, 2, 0]\n",
      "{8: {'breakfast': 0.22847221878340768, 'bit': 0.020347531610604135, 'unpredictable': 0.0012662839466141473}, 2: {'breakfast': 0.11524841376258102, 'bit': 0.005709074486491888}, 0: {'breakfast': 0.011407779818943154, 'bit': 0.00356639656508472}}\n"
     ]
    },
    {
     "data": {
      "text/html": [
       "<span style=\"font-size:20px; font-family:Times New Roman;\"><span style=\"background-color:rgba(255, 0, 0, 0.006212434931653258)\">Servie</span></span> <span style=\"font-size:20px; font-family:Times New Roman;\">for</span> <span style=\"font-size:20px; font-family:Times New Roman;\">the</span> <span style=\"font-size:20px; font-family:Times New Roman;\"><span style=\"background-color:rgba(255, 0, 0, 1.0)\">breakfast</span></span> <span style=\"font-size:20px; font-family:Times New Roman;\">was</span> <span style=\"font-size:20px; font-family:Times New Roman;\">a</span> <span style=\"font-size:20px; font-family:Times New Roman;\"><span style=\"background-color:rgba(255, 0, 0, 0.08905910626225264)\">bit</span></span> <span style=\"font-size:20px; font-family:Times New Roman;\"><span style=\"background-color:rgba(255, 0, 0, 0.005542397904467274)\">unpredictable</span></span>"
      ],
      "text/plain": [
       "<IPython.core.display.HTML object>"
      ]
     },
     "metadata": {},
     "output_type": "display_data"
    },
    {
     "name": "stdout",
     "output_type": "stream",
     "text": [
      "\n",
      " Would be better if there was a inclusive breakfast with the total price \n"
     ]
    },
    {
     "data": {
      "text/html": [
       "<span style=\"font-size:16px; font-family:Times New Roman;\">\n",
       " <span style=\"background-color: rgba(255, 0, 0, 1);\">Number 1 Topic is 8</span> with  probability 1.0, Title is: Breakfast and Pricing</span>"
      ],
      "text/plain": [
       "<IPython.core.display.HTML object>"
      ]
     },
     "metadata": {},
     "output_type": "display_data"
    },
    {
     "data": {
      "text/html": [
       "<span style=\"font-size:16px; font-family:Times New Roman;\">\n",
       " <span style=\"background-color: rgba(0, 0, 255, 1);\">Number 2 Topic is 2</span> with  probability 4.883924699468331e-307, Title is: Hotel Amenities Excellence</span>"
      ],
      "text/plain": [
       "<IPython.core.display.HTML object>"
      ]
     },
     "metadata": {},
     "output_type": "display_data"
    },
    {
     "data": {
      "text/html": [
       "<span style=\"font-size:16px; font-family:Times New Roman;\">\n",
       " <span style=\"background-color: rgba(0, 255, 0, 1);\">Number 3 Topic is 0</span> with  probability 3.755402619290019e-307, Title is: Hospitality Excellence</span>"
      ],
      "text/plain": [
       "<IPython.core.display.HTML object>"
      ]
     },
     "metadata": {},
     "output_type": "display_data"
    },
    {
     "name": "stdout",
     "output_type": "stream",
     "text": [
      "[8, 2, 0]\n",
      "{8: {'breakfast': 0.22847221878340768, 'price': 0.043518265136781524, 'better': 0.024017941293897276, 'inclusive': 0.0030992338359929934, 'total': 0.000886070917371959}, 2: {'breakfast': 0.11524841376258102, 'price': 0.006455864209323872, 'better': 0.003317297018671994, 'inclusive': 0.0005390363801130837, 'total': 0.00023116574213121418}, 0: {'breakfast': 0.011407779818943154, 'price': 0.004767136440777144, 'better': 0.003518205282549044, 'inclusive': 0.0002013316616764199, 'total': 0.00017268215913803948}}\n"
     ]
    },
    {
     "data": {
      "text/html": [
       "<span style=\"font-size:20px; font-family:Times New Roman;\"><span style=\"background-color:rgba(255, 0, 0, 0.10183409320900068)\">Would</span></span> <span style=\"font-size:20px; font-family:Times New Roman;\">be</span> <span style=\"font-size:20px; font-family:Times New Roman;\"><span style=\"background-color:rgba(255, 0, 0, 0.10512412153123243)\">better</span></span> <span style=\"font-size:20px; font-family:Times New Roman;\">if</span> <span style=\"font-size:20px; font-family:Times New Roman;\">there</span> <span style=\"font-size:20px; font-family:Times New Roman;\">was</span> <span style=\"font-size:20px; font-family:Times New Roman;\">a</span> <span style=\"font-size:20px; font-family:Times New Roman;\"><span style=\"background-color:rgba(255, 0, 0, 0.013565035838913423)\">inclusive</span></span> <span style=\"font-size:20px; font-family:Times New Roman;\"><span style=\"background-color:rgba(255, 0, 0, 1.0)\">breakfast</span></span> <span style=\"font-size:20px; font-family:Times New Roman;\">with</span> <span style=\"font-size:20px; font-family:Times New Roman;\">the</span> <span style=\"font-size:20px; font-family:Times New Roman;\"><span style=\"background-color:rgba(255, 0, 0, 0.0038782435872956474)\">total</span></span> <span style=\"font-size:20px; font-family:Times New Roman;\"><span style=\"background-color:rgba(255, 0, 0, 0.1904750843166493)\">price</span></span>"
      ],
      "text/plain": [
       "<IPython.core.display.HTML object>"
      ]
     },
     "metadata": {},
     "output_type": "display_data"
    },
    {
     "name": "stdout",
     "output_type": "stream",
     "text": [
      "\n",
      " Price of breakfast was expensive so went elsewhere\n"
     ]
    },
    {
     "data": {
      "text/html": [
       "<span style=\"font-size:16px; font-family:Times New Roman;\">\n",
       " <span style=\"background-color: rgba(255, 0, 0, 1);\">Number 1 Topic is 8</span> with  probability 0.7718659828283109, Title is: Breakfast and Pricing</span>"
      ],
      "text/plain": [
       "<IPython.core.display.HTML object>"
      ]
     },
     "metadata": {},
     "output_type": "display_data"
    },
    {
     "data": {
      "text/html": [
       "<span style=\"font-size:16px; font-family:Times New Roman;\">\n",
       " <span style=\"background-color: rgba(0, 0, 255, 1);\">Number 2 Topic is 2</span> with  probability 0.06261214156855369, Title is: Hotel Amenities Excellence</span>"
      ],
      "text/plain": [
       "<IPython.core.display.HTML object>"
      ]
     },
     "metadata": {},
     "output_type": "display_data"
    },
    {
     "data": {
      "text/html": [
       "<span style=\"font-size:16px; font-family:Times New Roman;\">\n",
       " <span style=\"background-color: rgba(0, 255, 0, 1);\">Number 3 Topic is 0</span> with  probability 0.048656052861422536, Title is: Hospitality Excellence</span>"
      ],
      "text/plain": [
       "<IPython.core.display.HTML object>"
      ]
     },
     "metadata": {},
     "output_type": "display_data"
    },
    {
     "name": "stdout",
     "output_type": "stream",
     "text": [
      "[8, 2, 0]\n",
      "{8: {'breakfast': 0.22847221878340768, 'expensive': 0.05794959865622467, 'went': 0.004955202111394632, 'elsewhere': 0.002561494577009799}, 2: {'breakfast': 0.11524841376258102, 'expensive': 0.008373259830556945, 'went': 0.0027291503133699702, 'elsewhere': 0.0013365291270720802}, 0: {'breakfast': 0.011407779818943154, 'went': 0.002610955421425444, 'expensive': 0.0020270424949771614, 'elsewhere': 0.00027733196162619113}}\n"
     ]
    },
    {
     "data": {
      "text/html": [
       "<span style=\"font-size:20px; font-family:Times New Roman;\"><span style=\"background-color:rgba(255, 0, 0, 0.1904750843166493)\">Price</span></span> <span style=\"font-size:20px; font-family:Times New Roman;\">of</span> <span style=\"font-size:20px; font-family:Times New Roman;\"><span style=\"background-color:rgba(255, 0, 0, 1.0)\">breakfast</span></span> <span style=\"font-size:20px; font-family:Times New Roman;\">was</span> <span style=\"font-size:20px; font-family:Times New Roman;\"><span style=\"background-color:rgba(255, 0, 0, 0.2536395845621872)\">expensive</span></span> <span style=\"font-size:20px; font-family:Times New Roman;\">so</span> <span style=\"font-size:20px; font-family:Times New Roman;\"><span style=\"background-color:rgba(255, 0, 0, 0.02168842294166267)\">went</span></span> <span style=\"font-size:20px; font-family:Times New Roman;\"><span style=\"background-color:rgba(255, 0, 0, 0.011211405004291148)\">elsewhere</span></span>"
      ],
      "text/plain": [
       "<IPython.core.display.HTML object>"
      ]
     },
     "metadata": {},
     "output_type": "display_data"
    },
    {
     "name": "stdout",
     "output_type": "stream",
     "text": [
      "\n",
      " The wifi is paid for after 20 mins at 7 a day The rooms are abit hard to find as they are separated by odd numbers and even numbers on either side The tv could have been bigger\n"
     ]
    },
    {
     "data": {
      "text/html": [
       "<span style=\"font-size:16px; font-family:Times New Roman;\">\n",
       " <span style=\"background-color: rgba(255, 0, 0, 1);\">Number 1 Topic is 11</span> with  probability 1.0, Title is: Internet Connection Issues</span>"
      ],
      "text/plain": [
       "<IPython.core.display.HTML object>"
      ]
     },
     "metadata": {},
     "output_type": "display_data"
    },
    {
     "data": {
      "text/html": [
       "<span style=\"font-size:16px; font-family:Times New Roman;\">\n",
       " <span style=\"background-color: rgba(0, 0, 255, 1);\">Number 2 Topic is 0</span> with  probability 3.989950095423943e-307, Title is: Hospitality Excellence</span>"
      ],
      "text/plain": [
       "<IPython.core.display.HTML object>"
      ]
     },
     "metadata": {},
     "output_type": "display_data"
    },
    {
     "data": {
      "text/html": [
       "<span style=\"font-size:16px; font-family:Times New Roman;\">\n",
       " <span style=\"background-color: rgba(0, 255, 0, 1);\">Number 3 Topic is 2</span> with  probability 2.3112899380334383e-307, Title is: Hotel Amenities Excellence</span>"
      ],
      "text/plain": [
       "<IPython.core.display.HTML object>"
      ]
     },
     "metadata": {},
     "output_type": "display_data"
    },
    {
     "name": "stdout",
     "output_type": "stream",
     "text": [
      "[11, 0, 2]\n",
      "{11: {'wifi': 0.26688130704140944, 'could': 0.021315017615640055, 'rooms': 0.01838532547718738, 'day': 0.017434227043921398, 'paid': 0.011664349287367008, 'even': 0.010054846395198658, 'hard': 0.004087154290074153, 'find': 0.0033073763814529746, 'numbers': 0.00323666476058858, 'mins': 0.0030596088197403217, 'either': 0.002840084209579686, 'bigger': 0.002066413971273378, 'odd': 0.0017775719586370041, 'side': 0.0011797801920795023, 'abit': 0.0010429820856662788, 'separated': 0.0009798718795869898}, 0: {'rooms': 0.022525856144947343, 'even': 0.005564250631192386, 'could': 0.0055339161517924135, 'mins': 0.005269844860173562, 'day': 0.004577525623783083, 'find': 0.003630184779461685, 'wifi': 0.003454811230156909, 'side': 0.0022038708376959718, 'hard': 0.0013310320571176047, 'paid': 0.001195867767215427, 'bigger': 0.0010031986353696268, 'either': 0.0008092948056583043, 'separated': 6.204864706206486e-05}, 2: {'rooms': 0.017568688718497552, 'could': 0.0077695018947627125, 'day': 0.005623186200577053, 'even': 0.0033352557323974193, 'hard': 0.002672734243246859, 'side': 0.0024002217533908585, 'paid': 0.001977559399528157, 'find': 0.0019625498014717384, 'wifi': 0.0013874635444604193, 'bigger': 0.0010510118322589457, 'mins': 0.0006224667692600465, 'either': 0.0005416924229079993, 'abit': 0.00026523884567860174, 'odd': 0.0002260255189897812}}\n"
     ]
    },
    {
     "data": {
      "text/html": [
       "<span style=\"font-size:20px; font-family:Times New Roman;\">The</span> <span style=\"font-size:20px; font-family:Times New Roman;\"><span style=\"background-color:rgba(255, 0, 0, 1.0)\">wifi</span></span> <span style=\"font-size:20px; font-family:Times New Roman;\">is</span> <span style=\"font-size:20px; font-family:Times New Roman;\"><span style=\"background-color:rgba(255, 0, 0, 0.04370613070160497)\">paid</span></span> <span style=\"font-size:20px; font-family:Times New Roman;\">for</span> <span style=\"font-size:20px; font-family:Times New Roman;\">after</span> <span style=\"font-size:20px; font-family:Times New Roman;\">20</span> <span style=\"font-size:20px; font-family:Times New Roman;\"><span style=\"background-color:rgba(0, 0, 255, 0.1085763295217649)\">mins</span></span> <span style=\"font-size:20px; font-family:Times New Roman;\">at</span> <span style=\"font-size:20px; font-family:Times New Roman;\">7</span> <span style=\"font-size:20px; font-family:Times New Roman;\">a</span> <span style=\"font-size:20px; font-family:Times New Roman;\"><span style=\"background-color:rgba(255, 0, 0, 0.06532577061013979)\">day</span></span> <span style=\"font-size:20px; font-family:Times New Roman;\">The</span> <span style=\"font-size:20px; font-family:Times New Roman;\"><span style=\"background-color:rgba(0, 0, 255, 0.4641075485992815)\">rooms</span></span> <span style=\"font-size:20px; font-family:Times New Roman;\">are</span> <span style=\"font-size:20px; font-family:Times New Roman;\"><span style=\"background-color:rgba(255, 0, 0, 0.00390803723658491)\">abit</span></span> <span style=\"font-size:20px; font-family:Times New Roman;\"><span style=\"background-color:rgba(255, 0, 0, 0.015314501923658476)\">hard</span></span> <span style=\"font-size:20px; font-family:Times New Roman;\">to</span> <span style=\"font-size:20px; font-family:Times New Roman;\"><span style=\"background-color:rgba(0, 0, 255, 0.07479387900363085)\">find</span></span> <span style=\"font-size:20px; font-family:Times New Roman;\">as</span> <span style=\"font-size:20px; font-family:Times New Roman;\">they</span> <span style=\"font-size:20px; font-family:Times New Roman;\">are</span> <span style=\"font-size:20px; font-family:Times New Roman;\"><span style=\"background-color:rgba(255, 0, 0, 0.0036715643011855916)\">separated</span></span> <span style=\"font-size:20px; font-family:Times New Roman;\">by</span> <span style=\"font-size:20px; font-family:Times New Roman;\"><span style=\"background-color:rgba(255, 0, 0, 0.006660533771895815)\">odd</span></span> <span style=\"font-size:20px; font-family:Times New Roman;\"><span style=\"background-color:rgba(255, 0, 0, 0.01212773122430181)\">numbers</span></span> <span style=\"font-size:20px; font-family:Times New Roman;\">and</span> <span style=\"font-size:20px; font-family:Times New Roman;\"><span style=\"background-color:rgba(255, 0, 0, 0.03767534904060756)\">even</span></span> <span style=\"font-size:20px; font-family:Times New Roman;\"><span style=\"background-color:rgba(255, 0, 0, 0.01212773122430181)\">numbers</span></span> <span style=\"font-size:20px; font-family:Times New Roman;\">on</span> <span style=\"font-size:20px; font-family:Times New Roman;\"><span style=\"background-color:rgba(255, 0, 0, 0.01064175022621205)\">either</span></span> <span style=\"font-size:20px; font-family:Times New Roman;\"><span style=\"background-color:rgba(0, 255, 0, 0.02082650576289463)\">side</span></span> <span style=\"font-size:20px; font-family:Times New Roman;\">The</span> <span style=\"font-size:20px; font-family:Times New Roman;\">tv</span> <span style=\"font-size:20px; font-family:Times New Roman;\"><span style=\"background-color:rgba(255, 0, 0, 0.07986703097318391)\">could</span></span> <span style=\"font-size:20px; font-family:Times New Roman;\">have</span> <span style=\"font-size:20px; font-family:Times New Roman;\">been</span> <span style=\"font-size:20px; font-family:Times New Roman;\"><span style=\"background-color:rgba(255, 0, 0, 0.007742820185427045)\">bigger</span></span>"
      ],
      "text/plain": [
       "<IPython.core.display.HTML object>"
      ]
     },
     "metadata": {},
     "output_type": "display_data"
    },
    {
     "name": "stdout",
     "output_type": "stream",
     "text": [
      "\n",
      " No iMac in the room as advertised Wifi should be easier to access\n"
     ]
    },
    {
     "data": {
      "text/html": [
       "<span style=\"font-size:16px; font-family:Times New Roman;\">\n",
       " <span style=\"background-color: rgba(255, 0, 0, 1);\">Number 1 Topic is 11</span> with  probability 1.0, Title is: Internet Connection Issues</span>"
      ],
      "text/plain": [
       "<IPython.core.display.HTML object>"
      ]
     },
     "metadata": {},
     "output_type": "display_data"
    },
    {
     "data": {
      "text/html": [
       "<span style=\"font-size:16px; font-family:Times New Roman;\">\n",
       " <span style=\"background-color: rgba(0, 0, 255, 1);\">Number 2 Topic is 0</span> with  probability 3.929730066621302e-307, Title is: Hospitality Excellence</span>"
      ],
      "text/plain": [
       "<IPython.core.display.HTML object>"
      ]
     },
     "metadata": {},
     "output_type": "display_data"
    },
    {
     "data": {
      "text/html": [
       "<span style=\"font-size:16px; font-family:Times New Roman;\">\n",
       " <span style=\"background-color: rgba(0, 255, 0, 1);\">Number 3 Topic is 2</span> with  probability 2.2681878193590513e-307, Title is: Hotel Amenities Excellence</span>"
      ],
      "text/plain": [
       "<IPython.core.display.HTML object>"
      ]
     },
     "metadata": {},
     "output_type": "display_data"
    },
    {
     "name": "stdout",
     "output_type": "stream",
     "text": [
      "[11, 0, 2]\n",
      "{11: {'room': 0.030379474040917485, 'access': 0.015215159999239787, 'easier': 0.0029396156387609695, 'advertised': 0.002430462451331782}, 0: {'room': 0.02927797724444089, 'access': 0.005849657458760691, 'easier': 0.0004963891764965189, 'advertised': 0.0004104125855143455}, 2: {'room': 0.02884931166699843, 'access': 0.0017964789169776856, 'advertised': 0.0008241152159318362, 'easier': 0.0002491894058645748}}\n"
     ]
    },
    {
     "data": {
      "text/html": [
       "<span style=\"font-size:20px; font-family:Times New Roman;\">No</span> <span style=\"font-size:20px; font-family:Times New Roman;\"><span style=\"background-color:rgba(255, 0, 0, 0.004713437692539124)\">iMac</span></span> <span style=\"font-size:20px; font-family:Times New Roman;\">in</span> <span style=\"font-size:20px; font-family:Times New Roman;\">the</span> <span style=\"font-size:20px; font-family:Times New Roman;\"><span style=\"background-color:rgba(255, 0, 0, 0.1138314045959157)\">room</span></span> <span style=\"font-size:20px; font-family:Times New Roman;\">as</span> <span style=\"font-size:20px; font-family:Times New Roman;\"><span style=\"background-color:rgba(255, 0, 0, 0.00910690403264051)\">advertised</span></span> <span style=\"font-size:20px; font-family:Times New Roman;\"><span style=\"background-color:rgba(255, 0, 0, 1.0)\">Wifi</span></span> <span style=\"font-size:20px; font-family:Times New Roman;\">should</span> <span style=\"font-size:20px; font-family:Times New Roman;\">be</span> <span style=\"font-size:20px; font-family:Times New Roman;\"><span style=\"background-color:rgba(255, 0, 0, 0.011014692903556776)\">easier</span></span> <span style=\"font-size:20px; font-family:Times New Roman;\">to</span> <span style=\"font-size:20px; font-family:Times New Roman;\"><span style=\"background-color:rgba(255, 0, 0, 0.05701096179388463)\">access</span></span>"
      ],
      "text/plain": [
       "<IPython.core.display.HTML object>"
      ]
     },
     "metadata": {},
     "output_type": "display_data"
    },
    {
     "name": "stdout",
     "output_type": "stream",
     "text": [
      "\n",
      " Wifi was sometimes slow and got cut off No busses going pass the hotel even though there is a bus stop within 100m from the hotel \n"
     ]
    },
    {
     "data": {
      "text/html": [
       "<span style=\"font-size:16px; font-family:Times New Roman;\">\n",
       " <span style=\"background-color: rgba(255, 0, 0, 1);\">Number 1 Topic is 11</span> with  probability 0.6020451220349244, Title is: Internet Connection Issues</span>"
      ],
      "text/plain": [
       "<IPython.core.display.HTML object>"
      ]
     },
     "metadata": {},
     "output_type": "display_data"
    },
    {
     "data": {
      "text/html": [
       "<span style=\"font-size:16px; font-family:Times New Roman;\">\n",
       " <span style=\"background-color: rgba(0, 0, 255, 1);\">Number 2 Topic is 0</span> with  probability 0.0663661988218542, Title is: Hospitality Excellence</span>"
      ],
      "text/plain": [
       "<IPython.core.display.HTML object>"
      ]
     },
     "metadata": {},
     "output_type": "display_data"
    },
    {
     "data": {
      "text/html": [
       "<span style=\"font-size:16px; font-family:Times New Roman;\">\n",
       " <span style=\"background-color: rgba(0, 255, 0, 1);\">Number 3 Topic is 2</span> with  probability 0.03910551340871707, Title is: Hotel Amenities Excellence</span>"
      ],
      "text/plain": [
       "<IPython.core.display.HTML object>"
      ]
     },
     "metadata": {},
     "output_type": "display_data"
    },
    {
     "name": "stdout",
     "output_type": "stream",
     "text": [
      "[11, 0, 2]\n",
      "{11: {'slow': 0.06521142599111264, 'hotel': 0.01578791741877153, 'even': 0.010054846395198658, 'sometimes': 0.009906379605808976, 'though': 0.004928528739202643, 'bus': 0.004120219282097888, 'going': 0.0035790761339046006, 'got': 0.003331570238650244, 'cut': 0.0027177882847329946, 'stop': 0.0018864748175113188, 'pass': 0.0018725372028430877, 'busses': 0.0010894772846348317, 'within': 0.0005954988925347946}, 0: {'hotel': 0.048535853840198054, 'bus': 0.007528989328761529, 'within': 0.006297387985315786, 'stop': 0.006211798760888672, 'even': 0.005564250631192386, 'got': 0.003857659800295999, 'though': 0.002739459581392876, 'going': 0.0023419326310190045, 'pass': 0.0005335879219888046, 'cut': 0.00028683186305929935, 'busses': 0.00027595685895154655, 'sometimes': 0.00024127073087066835, 'slow': 0.00015015991895675157}, 2: {'hotel': 0.017743692380512918, 'even': 0.0033352557323974193, 'though': 0.002367467279956221, 'going': 0.0015169803895309314, 'got': 0.0014524208008242436, 'within': 0.0009086413335157904, 'slow': 0.0007538089620245383, 'pass': 0.0004762014736380207, 'bus': 0.0004490594344861079, 'sometimes': 0.0003875804738693867}}\n"
     ]
    },
    {
     "data": {
      "text/html": [
       "<span style=\"font-size:20px; font-family:Times New Roman;\"><span style=\"background-color:rgba(255, 0, 0, 1.0)\">Wifi</span></span> <span style=\"font-size:20px; font-family:Times New Roman;\">was</span> <span style=\"font-size:20px; font-family:Times New Roman;\"><span style=\"background-color:rgba(255, 0, 0, 0.03711904634921432)\">sometimes</span></span> <span style=\"font-size:20px; font-family:Times New Roman;\"><span style=\"background-color:rgba(255, 0, 0, 0.24434617288873814)\">slow</span></span> <span style=\"font-size:20px; font-family:Times New Roman;\">and</span> <span style=\"font-size:20px; font-family:Times New Roman;\"><span style=\"background-color:rgba(0, 0, 255, 0.07948062092401129)\">got</span></span> <span style=\"font-size:20px; font-family:Times New Roman;\"><span style=\"background-color:rgba(255, 0, 0, 0.010183509346764782)\">cut</span></span> <span style=\"font-size:20px; font-family:Times New Roman;\">off</span> <span style=\"font-size:20px; font-family:Times New Roman;\">No</span> <span style=\"font-size:20px; font-family:Times New Roman;\"><span style=\"background-color:rgba(255, 0, 0, 0.0040822540053949445)\">busses</span></span> <span style=\"font-size:20px; font-family:Times New Roman;\"><span style=\"background-color:rgba(255, 0, 0, 0.013410741177722384)\">going</span></span> <span style=\"font-size:20px; font-family:Times New Roman;\"><span style=\"background-color:rgba(255, 0, 0, 0.007016367026981563)\">pass</span></span> <span style=\"font-size:20px; font-family:Times New Roman;\">the</span> <span style=\"font-size:20px; font-family:Times New Roman;\"><span style=\"background-color:rgba(0, 0, 255, 1.0)\">hotel</span></span> <span style=\"font-size:20px; font-family:Times New Roman;\"><span style=\"background-color:rgba(255, 0, 0, 0.03767534904060756)\">even</span></span> <span style=\"font-size:20px; font-family:Times New Roman;\"><span style=\"background-color:rgba(255, 0, 0, 0.018467118562327522)\">though</span></span> <span style=\"font-size:20px; font-family:Times New Roman;\">there</span> <span style=\"font-size:20px; font-family:Times New Roman;\">is</span> <span style=\"font-size:20px; font-family:Times New Roman;\">a</span> <span style=\"font-size:20px; font-family:Times New Roman;\"><span style=\"background-color:rgba(0, 0, 255, 0.15512221858814643)\">bus</span></span> <span style=\"font-size:20px; font-family:Times New Roman;\"><span style=\"background-color:rgba(0, 0, 255, 0.12798371243948273)\">stop</span></span> <span style=\"font-size:20px; font-family:Times New Roman;\"><span style=\"background-color:rgba(0, 0, 255, 0.1297471350983055)\">within</span></span> <span style=\"font-size:20px; font-family:Times New Roman;\">100m</span> <span style=\"font-size:20px; font-family:Times New Roman;\">from</span> <span style=\"font-size:20px; font-family:Times New Roman;\">the</span> <span style=\"font-size:20px; font-family:Times New Roman;\"><span style=\"background-color:rgba(0, 0, 255, 1.0)\">hotel</span></span>"
      ],
      "text/plain": [
       "<IPython.core.display.HTML object>"
      ]
     },
     "metadata": {},
     "output_type": "display_data"
    },
    {
     "name": "stdout",
     "output_type": "stream",
     "text": [
      "\n",
      " The hotel over charged me for my room rate by 100 When I questioned the hotel they claimed it wasn t there fault dispite my bank statement showing the hotel name They offered no explanation as to why forcing me to go back and forward on the phone to booking com and the hotel The Hilton Conrad are a huge corporation and they could have refunded me my money but they were uninterested not what I would expect from this type of hotel Thankfully booking com were helpful and refunded me the difference \n"
     ]
    },
    {
     "data": {
      "text/html": [
       "<span style=\"font-size:16px; font-family:Times New Roman;\">\n",
       " <span style=\"background-color: rgba(255, 0, 0, 1);\">Number 1 Topic is 6</span> with  probability 1.0, Title is: Hotel Booking Reception</span>"
      ],
      "text/plain": [
       "<IPython.core.display.HTML object>"
      ]
     },
     "metadata": {},
     "output_type": "display_data"
    },
    {
     "data": {
      "text/html": [
       "<span style=\"font-size:16px; font-family:Times New Roman;\">\n",
       " <span style=\"background-color: rgba(0, 0, 255, 1);\">Number 2 Topic is 0</span> with  probability 6.5526949724976165e-307, Title is: Hospitality Excellence</span>"
      ],
      "text/plain": [
       "<IPython.core.display.HTML object>"
      ]
     },
     "metadata": {},
     "output_type": "display_data"
    },
    {
     "data": {
      "text/html": [
       "<span style=\"font-size:16px; font-family:Times New Roman;\">\n",
       " <span style=\"background-color: rgba(0, 255, 0, 1);\">Number 3 Topic is 2</span> with  probability 4.155274638635261e-307, Title is: Hotel Amenities Excellence</span>"
      ],
      "text/plain": [
       "<IPython.core.display.HTML object>"
      ]
     },
     "metadata": {},
     "output_type": "display_data"
    },
    {
     "name": "stdout",
     "output_type": "stream",
     "text": [
      "[6, 0, 2]\n",
      "{6: {'room': 0.0312774394878031, 'hotel': 0.02713918418622058, 'booking': 0.02644008317916262, 'would': 0.015071039988020014, 'com': 0.015025509395104135, 'back': 0.012902505411590829, 'charged': 0.011749574136941651, 'could': 0.010895633471091655, 'money': 0.008812481779627837, 'phone': 0.005893276163669385, 'offered': 0.004671437041593143, 'rate': 0.003825293275649909, 'name': 0.003679745788102999, 'bank': 0.0031580742707070057, 'helpful': 0.003131372062941068, 'expect': 0.002870799466133677, 'refunded': 0.002381357729531476, 'explanation': 0.001764933505160683, 'fault': 0.0017000029659404953, 'difference': 0.001528542690621219, 'huge': 0.0014883909151384433, 'type': 0.0013576552050785676, 'questioned': 0.0011008747927661751, 'statement': 0.0009770859332740892, 'claimed': 0.0009065503981773487, 'uninterested': 0.0009065503981773487, 'forward': 0.0008443156425060231, 'showing': 0.0008369984351728375, 'forcing': 0.00035258627971842003, 'dispite': 0.00019760574378635475, 'corporation': 0.00019760574378635475}, 0: {'hotel': 0.048535853840198054, 'helpful': 0.02930849728275495, 'room': 0.02927797724444089, 'would': 0.01093678210925847, 'back': 0.007165779440133855, 'could': 0.0055339161517924135, 'money': 0.004977667562971913, 'huge': 0.0035133382329622905, 'booking': 0.0018442190615125089, 'offered': 0.0018230520304837552, 'rate': 0.0016107792478588098, 'fault': 0.0015029758430518492, 'phone': 0.0011422485670943066, 'expect': 0.0010802756652040877, 'forward': 0.0007879311180433703, 'name': 0.0007849159903089396, 'com': 0.0007744756714987964, 'bank': 0.000709504818090927, 'type': 0.0005279121583802539, 'difference': 0.00043891217584618924, 'charged': 0.00020456943859253066, 'explanation': 0.00011764777801631058, 'uninterested': 7.050081281198157e-05, 'showing': 6.509188029775455e-05, 'refunded': 6.173131902561918e-05}, 2: {'helpful': 0.03541471830619897, 'room': 0.02884931166699843, 'hotel': 0.017743692380512918, 'would': 0.008936242798054956, 'could': 0.0077695018947627125, 'money': 0.005214906920011372, 'back': 0.004245935272953548, 'huge': 0.0036094534866354514, 'offered': 0.0028649100795818338, 'rate': 0.0024477079345893355, 'fault': 0.0020120001272779576, 'booking': 0.000766183899550365, 'explanation': 0.0007087160146098168, 'type': 0.000636033773454607, 'name': 0.0005910465775840522, 'expect': 0.0005206107090384769, 'com': 0.0004911031184705033, 'forward': 0.0004520510379795624, 'difference': 0.000440671430822814}}\n"
     ]
    },
    {
     "data": {
      "text/html": [
       "<span style=\"font-size:20px; font-family:Times New Roman;\">The</span> <span style=\"font-size:20px; font-family:Times New Roman;\"><span style=\"background-color:rgba(0, 0, 255, 1.0)\">hotel</span></span> <span style=\"font-size:20px; font-family:Times New Roman;\">over</span> <span style=\"font-size:20px; font-family:Times New Roman;\"><span style=\"background-color:rgba(255, 0, 0, 0.3756565220603655)\">charged</span></span> <span style=\"font-size:20px; font-family:Times New Roman;\">me</span> <span style=\"font-size:20px; font-family:Times New Roman;\">for</span> <span style=\"font-size:20px; font-family:Times New Roman;\">my</span> <span style=\"font-size:20px; font-family:Times New Roman;\"><span style=\"background-color:rgba(255, 0, 0, 1.0)\">room</span></span> <span style=\"font-size:20px; font-family:Times New Roman;\"><span style=\"background-color:rgba(255, 0, 0, 0.12230199588881355)\">rate</span></span> <span style=\"font-size:20px; font-family:Times New Roman;\">by</span> <span style=\"font-size:20px; font-family:Times New Roman;\">100</span> <span style=\"font-size:20px; font-family:Times New Roman;\">When</span> <span style=\"font-size:20px; font-family:Times New Roman;\">I</span> <span style=\"font-size:20px; font-family:Times New Roman;\"><span style=\"background-color:rgba(255, 0, 0, 0.03519708808630165)\">questioned</span></span> <span style=\"font-size:20px; font-family:Times New Roman;\">the</span> <span style=\"font-size:20px; font-family:Times New Roman;\"><span style=\"background-color:rgba(0, 0, 255, 1.0)\">hotel</span></span> <span style=\"font-size:20px; font-family:Times New Roman;\">they</span> <span style=\"font-size:20px; font-family:Times New Roman;\"><span style=\"background-color:rgba(255, 0, 0, 0.028984162803060196)\">claimed</span></span> <span style=\"font-size:20px; font-family:Times New Roman;\">it</span> <span style=\"font-size:20px; font-family:Times New Roman;\">wasn</span> <span style=\"font-size:20px; font-family:Times New Roman;\">t</span> <span style=\"font-size:20px; font-family:Times New Roman;\">there</span> <span style=\"font-size:20px; font-family:Times New Roman;\"><span style=\"background-color:rgba(0, 255, 0, 0.017457942036606285)\">fault</span></span> <span style=\"font-size:20px; font-family:Times New Roman;\"><span style=\"background-color:rgba(255, 0, 0, 0.006317836338982056)\">dispite</span></span> <span style=\"font-size:20px; font-family:Times New Roman;\">my</span> <span style=\"font-size:20px; font-family:Times New Roman;\"><span style=\"background-color:rgba(255, 0, 0, 0.10096971882684078)\">bank</span></span> <span style=\"font-size:20px; font-family:Times New Roman;\"><span style=\"background-color:rgba(255, 0, 0, 0.03123931975490232)\">statement</span></span> <span style=\"font-size:20px; font-family:Times New Roman;\"><span style=\"background-color:rgba(255, 0, 0, 0.0267604525459711)\">showing</span></span> <span style=\"font-size:20px; font-family:Times New Roman;\">the</span> <span style=\"font-size:20px; font-family:Times New Roman;\"><span style=\"background-color:rgba(0, 0, 255, 1.0)\">hotel</span></span> <span style=\"font-size:20px; font-family:Times New Roman;\"><span style=\"background-color:rgba(255, 0, 0, 0.11764856229800866)\">name</span></span> <span style=\"font-size:20px; font-family:Times New Roman;\">They</span> <span style=\"font-size:20px; font-family:Times New Roman;\"><span style=\"background-color:rgba(255, 0, 0, 0.14935484227904297)\">offered</span></span> <span style=\"font-size:20px; font-family:Times New Roman;\">no</span> <span style=\"font-size:20px; font-family:Times New Roman;\"><span style=\"background-color:rgba(255, 0, 0, 0.0564283245068361)\">explanation</span></span> <span style=\"font-size:20px; font-family:Times New Roman;\">as</span> <span style=\"font-size:20px; font-family:Times New Roman;\">to</span> <span style=\"font-size:20px; font-family:Times New Roman;\">why</span> <span style=\"font-size:20px; font-family:Times New Roman;\"><span style=\"background-color:rgba(255, 0, 0, 0.01127286266051011)\">forcing</span></span> <span style=\"font-size:20px; font-family:Times New Roman;\">me</span> <span style=\"font-size:20px; font-family:Times New Roman;\">to</span> <span style=\"font-size:20px; font-family:Times New Roman;\">go</span> <span style=\"font-size:20px; font-family:Times New Roman;\"><span style=\"background-color:rgba(255, 0, 0, 0.41251795616525033)\">back</span></span> <span style=\"font-size:20px; font-family:Times New Roman;\">and</span> <span style=\"font-size:20px; font-family:Times New Roman;\"><span style=\"background-color:rgba(255, 0, 0, 0.02699439776185231)\">forward</span></span> <span style=\"font-size:20px; font-family:Times New Roman;\">on</span> <span style=\"font-size:20px; font-family:Times New Roman;\">the</span> <span style=\"font-size:20px; font-family:Times New Roman;\"><span style=\"background-color:rgba(255, 0, 0, 0.1884193930250434)\">phone</span></span> <span style=\"font-size:20px; font-family:Times New Roman;\">to</span> <span style=\"font-size:20px; font-family:Times New Roman;\"><span style=\"background-color:rgba(255, 0, 0, 0.8453403990909534)\">booking</span></span> <span style=\"font-size:20px; font-family:Times New Roman;\"><span style=\"background-color:rgba(255, 0, 0, 0.4803944837288697)\">com</span></span> <span style=\"font-size:20px; font-family:Times New Roman;\">and</span> <span style=\"font-size:20px; font-family:Times New Roman;\">the</span> <span style=\"font-size:20px; font-family:Times New Roman;\"><span style=\"background-color:rgba(0, 0, 255, 1.0)\">hotel</span></span> <span style=\"font-size:20px; font-family:Times New Roman;\">The</span> <span style=\"font-size:20px; font-family:Times New Roman;\"><span style=\"background-color:rgba(255, 0, 0, 0.12342320588036856)\">Hilton</span></span> <span style=\"font-size:20px; font-family:Times New Roman;\"><span style=\"background-color:rgba(255, 0, 0, 0.005887911519088955)\">Conrad</span></span> <span style=\"font-size:20px; font-family:Times New Roman;\">are</span> <span style=\"font-size:20px; font-family:Times New Roman;\">a</span> <span style=\"font-size:20px; font-family:Times New Roman;\"><span style=\"background-color:rgba(0, 255, 0, 0.031318899486730924)\">huge</span></span> <span style=\"font-size:20px; font-family:Times New Roman;\"><span style=\"background-color:rgba(255, 0, 0, 0.006317836338982056)\">corporation</span></span> <span style=\"font-size:20px; font-family:Times New Roman;\">and</span> <span style=\"font-size:20px; font-family:Times New Roman;\">they</span> <span style=\"font-size:20px; font-family:Times New Roman;\"><span style=\"background-color:rgba(255, 0, 0, 0.3483543937584948)\">could</span></span> <span style=\"font-size:20px; font-family:Times New Roman;\">have</span> <span style=\"font-size:20px; font-family:Times New Roman;\"><span style=\"background-color:rgba(255, 0, 0, 0.07613659457194719)\">refunded</span></span> <span style=\"font-size:20px; font-family:Times New Roman;\">me</span> <span style=\"font-size:20px; font-family:Times New Roman;\">my</span> <span style=\"font-size:20px; font-family:Times New Roman;\"><span style=\"background-color:rgba(255, 0, 0, 0.28175202075170946)\">money</span></span> <span style=\"font-size:20px; font-family:Times New Roman;\">but</span> <span style=\"font-size:20px; font-family:Times New Roman;\">they</span> <span style=\"font-size:20px; font-family:Times New Roman;\">were</span> <span style=\"font-size:20px; font-family:Times New Roman;\"><span style=\"background-color:rgba(255, 0, 0, 0.028984162803060196)\">uninterested</span></span> <span style=\"font-size:20px; font-family:Times New Roman;\">not</span> <span style=\"font-size:20px; font-family:Times New Roman;\">what</span> <span style=\"font-size:20px; font-family:Times New Roman;\">I</span> <span style=\"font-size:20px; font-family:Times New Roman;\"><span style=\"background-color:rgba(255, 0, 0, 0.4818501845043004)\">would</span></span> <span style=\"font-size:20px; font-family:Times New Roman;\"><span style=\"background-color:rgba(255, 0, 0, 0.09178498985676782)\">expect</span></span> <span style=\"font-size:20px; font-family:Times New Roman;\">from</span> <span style=\"font-size:20px; font-family:Times New Roman;\">this</span> <span style=\"font-size:20px; font-family:Times New Roman;\"><span style=\"background-color:rgba(255, 0, 0, 0.043406852584847826)\">type</span></span> <span style=\"font-size:20px; font-family:Times New Roman;\">of</span> <span style=\"font-size:20px; font-family:Times New Roman;\"><span style=\"background-color:rgba(0, 0, 255, 1.0)\">hotel</span></span> <span style=\"font-size:20px; font-family:Times New Roman;\"><span style=\"background-color:rgba(255, 0, 0, 0.014181358709657007)\">Thankfully</span></span> <span style=\"font-size:20px; font-family:Times New Roman;\"><span style=\"background-color:rgba(255, 0, 0, 0.8453403990909534)\">booking</span></span> <span style=\"font-size:20px; font-family:Times New Roman;\"><span style=\"background-color:rgba(255, 0, 0, 0.4803944837288697)\">com</span></span> <span style=\"font-size:20px; font-family:Times New Roman;\">were</span> <span style=\"font-size:20px; font-family:Times New Roman;\"><span style=\"background-color:rgba(0, 255, 0, 0.30729028842996065)\">helpful</span></span> <span style=\"font-size:20px; font-family:Times New Roman;\">and</span> <span style=\"font-size:20px; font-family:Times New Roman;\"><span style=\"background-color:rgba(255, 0, 0, 0.07613659457194719)\">refunded</span></span> <span style=\"font-size:20px; font-family:Times New Roman;\">me</span> <span style=\"font-size:20px; font-family:Times New Roman;\">the</span> <span style=\"font-size:20px; font-family:Times New Roman;\"><span style=\"background-color:rgba(255, 0, 0, 0.04887045473198939)\">difference</span></span>"
      ],
      "text/plain": [
       "<IPython.core.display.HTML object>"
      ]
     },
     "metadata": {},
     "output_type": "display_data"
    },
    {
     "name": "stdout",
     "output_type": "stream",
     "text": [
      "\n",
      " I didn t like the fact that hotel staff charged my credit card before I actually arrived to the desk I didn t had that card with me and there was a problem First of all I want to have a full control over MY cards and hand permissions myself I wasn t late This never happened to me before hotels usually wait for customer arrival And I DO ALWAYS USE different cards for safety reasons But thankfully it was sorted smoothly Paris some tourist areas is being close between 14 18 on Sunday for car traffic Which blocks all town Avoid those hours to drive \n"
     ]
    },
    {
     "data": {
      "text/html": [
       "<span style=\"font-size:16px; font-family:Times New Roman;\">\n",
       " <span style=\"background-color: rgba(255, 0, 0, 1);\">Number 1 Topic is 6</span> with  probability 1.0, Title is: Hotel Booking Reception</span>"
      ],
      "text/plain": [
       "<IPython.core.display.HTML object>"
      ]
     },
     "metadata": {},
     "output_type": "display_data"
    },
    {
     "data": {
      "text/html": [
       "<span style=\"font-size:16px; font-family:Times New Roman;\">\n",
       " <span style=\"background-color: rgba(0, 0, 255, 1);\">Number 2 Topic is 0</span> with  probability 6.4855891569482985e-307, Title is: Hospitality Excellence</span>"
      ],
      "text/plain": [
       "<IPython.core.display.HTML object>"
      ]
     },
     "metadata": {},
     "output_type": "display_data"
    },
    {
     "data": {
      "text/html": [
       "<span style=\"font-size:16px; font-family:Times New Roman;\">\n",
       " <span style=\"background-color: rgba(0, 255, 0, 1);\">Number 3 Topic is 2</span> with  probability 4.141623931716624e-307, Title is: Hotel Amenities Excellence</span>"
      ],
      "text/plain": [
       "<IPython.core.display.HTML object>"
      ]
     },
     "metadata": {},
     "output_type": "display_data"
    },
    {
     "name": "stdout",
     "output_type": "stream",
     "text": [
      "[6, 0, 2]\n",
      "{6: {'hotel': 0.02713918418622058, 'card': 0.01966667910170656, 'staff': 0.01725300571849266, 'like': 0.0121462712069092, 'charged': 0.011749574136941651, 'arrived': 0.011267835811585093, 'never': 0.010629677859164455, 'credit': 0.010183487992924732, 'arrival': 0.009825541562991775, 'desk': 0.009030232180678123, 'problem': 0.007427790873422262, 'late': 0.006575225185500374, 'customer': 0.006353725462855512, 'wait': 0.005900355621512476, 'hotels': 0.005351713565380234, 'full': 0.004730550327238823, 'different': 0.004722648764938955, 'hours': 0.004583752018908746, 'fact': 0.004442623569535382, 'want': 0.004386448971809258, 'happened': 0.0043300114557566225, 'actually': 0.0038473143864913005, 'car': 0.0025791504136437045, 'sorted': 0.0022340239324463965, 'cards': 0.0019541763015282904, 'close': 0.001768483372036851, 'hand': 0.0014696164114688147, 'safety': 0.0012422049813597682, 'town': 0.0011453549799196236, 'reasons': 0.0009260835614844628, 'usually': 0.0008320981141830685, 'control': 0.0008157858170435309, 'areas': 0.0007388221703492556, 'traffic': 0.0007090387575223883, 'tourist': 0.0006858378990160986, 'drive': 0.0006460765396137267, 'smoothly': 0.0004649503864839742, 'thankfully': 0.0004435565888961265, 'permissions': 0.00036831759249568723, 'blocks': 0.00012979375142696127}, 0: {'hotel': 0.048535853840198054, 'staff': 0.04179384363660856, 'close': 0.016550970705302582, 'like': 0.007556751346144966, 'hotels': 0.00578109527760408, 'desk': 0.004112464442315413, 'want': 0.0036765838690124455, 'tourist': 0.0032001836479324474, 'town': 0.002939383279476522, 'arrival': 0.00293706664543588, 'areas': 0.0024562819072369937, 'arrived': 0.002396356345691846, 'customer': 0.002233683809743041, 'car': 0.002135163258730852, 'problem': 0.002051233058510662, 'never': 0.0016408714552326135, 'different': 0.0016103464553200825, 'full': 0.0013553712753903832, 'late': 0.0013095384194806317, 'actually': 0.0011822001370939267, 'hours': 0.0011105419188972272, 'blocks': 0.001090133564694005, 'fact': 0.0010153320596393836, 'traffic': 0.0009925323057366762, 'wait': 0.0009177203342091436, 'credit': 0.0007602736868435249, 'card': 0.0005759407546029914, 'drive': 0.000542637618106458, 'control': 0.0004758165952302964, 'usually': 0.0004437311386019057, 'sorted': 0.00043891217584618924, 'hand': 0.00039184956224142664, 'reasons': 0.00030865659512809587, 'safety': 0.00023184977525626357, 'cards': 0.00022795922528849453, 'charged': 0.00020456943859253066, 'smoothly': 0.00014463345989486847, 'thankfully': 6.898921473788664e-05, 'happened': 5.180573739576855e-05}, 2: {'staff': 0.05349265438589445, 'hotel': 0.017743692380512918, 'like': 0.006614342948336849, 'close': 0.005207704169536734, 'desk': 0.004467386457700519, 'full': 0.00373249068822799, 'want': 0.002892168570800574, 'arrival': 0.0028769161405855087, 'car': 0.002338605223743285, 'customer': 0.0022834121141210254, 'arrived': 0.002010952862483136, 'late': 0.001803136913603407, 'hotels': 0.0017859283564440058, 'areas': 0.0017306155906203205, 'wait': 0.0016024326189450053, 'different': 0.0011913271059601643, 'problem': 0.0009942195800907777, 'tourist': 0.0009180030504223957, 'never': 0.0008986082307774369, 'actually': 0.0008792138155990248, 'traffic': 0.0005694346228521669, 'fact': 0.0005097008651206306, 'safety': 0.0004655581586505336, 'hours': 0.00033036835887922684, 'smoothly': 0.0002904263641984775, 'cards': 0.00022887293519135413, 'usually': 0.00022275485451201337, 'hand': 0.00019671009003944227, 'control': 0.00019108950844221148, 'credit': 0.0001908302570738429, 'town': 0.00017885848264917074, 'card': 0.000154199799939939}}\n"
     ]
    },
    {
     "data": {
      "text/html": [
       "<span style=\"font-size:20px; font-family:Times New Roman;\">I</span> <span style=\"font-size:20px; font-family:Times New Roman;\">didn</span> <span style=\"font-size:20px; font-family:Times New Roman;\">t</span> <span style=\"font-size:20px; font-family:Times New Roman;\"><span style=\"background-color:rgba(255, 0, 0, 0.3883396916696375)\">like</span></span> <span style=\"font-size:20px; font-family:Times New Roman;\">the</span> <span style=\"font-size:20px; font-family:Times New Roman;\"><span style=\"background-color:rgba(255, 0, 0, 0.1420392347419558)\">fact</span></span> <span style=\"font-size:20px; font-family:Times New Roman;\">that</span> <span style=\"font-size:20px; font-family:Times New Roman;\"><span style=\"background-color:rgba(0, 0, 255, 1.0)\">hotel</span></span> <span style=\"font-size:20px; font-family:Times New Roman;\"><span style=\"background-color:rgba(0, 255, 0, 0.4641508949189763)\">staff</span></span> <span style=\"font-size:20px; font-family:Times New Roman;\"><span style=\"background-color:rgba(255, 0, 0, 0.3756565220603655)\">charged</span></span> <span style=\"font-size:20px; font-family:Times New Roman;\">my</span> <span style=\"font-size:20px; font-family:Times New Roman;\"><span style=\"background-color:rgba(255, 0, 0, 0.325585730791546)\">credit</span></span> <span style=\"font-size:20px; font-family:Times New Roman;\"><span style=\"background-color:rgba(255, 0, 0, 0.6287816209947668)\">card</span></span> <span style=\"font-size:20px; font-family:Times New Roman;\">before</span> <span style=\"font-size:20px; font-family:Times New Roman;\">I</span> <span style=\"font-size:20px; font-family:Times New Roman;\"><span style=\"background-color:rgba(255, 0, 0, 0.12300605322860884)\">actually</span></span> <span style=\"font-size:20px; font-family:Times New Roman;\"><span style=\"background-color:rgba(255, 0, 0, 0.36025441967457345)\">arrived</span></span> <span style=\"font-size:20px; font-family:Times New Roman;\">to</span> <span style=\"font-size:20px; font-family:Times New Roman;\">the</span> <span style=\"font-size:20px; font-family:Times New Roman;\"><span style=\"background-color:rgba(255, 0, 0, 0.28871392059441237)\">desk</span></span> <span style=\"font-size:20px; font-family:Times New Roman;\">I</span> <span style=\"font-size:20px; font-family:Times New Roman;\">didn</span> <span style=\"font-size:20px; font-family:Times New Roman;\">t</span> <span style=\"font-size:20px; font-family:Times New Roman;\">had</span> <span style=\"font-size:20px; font-family:Times New Roman;\">that</span> <span style=\"font-size:20px; font-family:Times New Roman;\"><span style=\"background-color:rgba(255, 0, 0, 0.6287816209947668)\">card</span></span> <span style=\"font-size:20px; font-family:Times New Roman;\">with</span> <span style=\"font-size:20px; font-family:Times New Roman;\">me</span> <span style=\"font-size:20px; font-family:Times New Roman;\">and</span> <span style=\"font-size:20px; font-family:Times New Roman;\">there</span> <span style=\"font-size:20px; font-family:Times New Roman;\">was</span> <span style=\"font-size:20px; font-family:Times New Roman;\">a</span> <span style=\"font-size:20px; font-family:Times New Roman;\"><span style=\"background-color:rgba(255, 0, 0, 0.2374807847144518)\">problem</span></span> <span style=\"font-size:20px; font-family:Times New Roman;\"><span style=\"background-color:rgba(255, 0, 0, 0.3683927323636737)\">First</span></span> <span style=\"font-size:20px; font-family:Times New Roman;\">of</span> <span style=\"font-size:20px; font-family:Times New Roman;\">all</span> <span style=\"font-size:20px; font-family:Times New Roman;\">I</span> <span style=\"font-size:20px; font-family:Times New Roman;\"><span style=\"background-color:rgba(255, 0, 0, 0.14024322462584543)\">want</span></span> <span style=\"font-size:20px; font-family:Times New Roman;\">to</span> <span style=\"font-size:20px; font-family:Times New Roman;\">have</span> <span style=\"font-size:20px; font-family:Times New Roman;\">a</span> <span style=\"font-size:20px; font-family:Times New Roman;\"><span style=\"background-color:rgba(255, 0, 0, 0.1512448079096609)\">full</span></span> <span style=\"font-size:20px; font-family:Times New Roman;\"><span style=\"background-color:rgba(255, 0, 0, 0.026082244275835092)\">control</span></span> <span style=\"font-size:20px; font-family:Times New Roman;\">over</span> <span style=\"font-size:20px; font-family:Times New Roman;\">MY</span> <span style=\"font-size:20px; font-family:Times New Roman;\"><span style=\"background-color:rgba(255, 0, 0, 0.06247878130466331)\">cards</span></span> <span style=\"font-size:20px; font-family:Times New Roman;\">and</span> <span style=\"font-size:20px; font-family:Times New Roman;\"><span style=\"background-color:rgba(255, 0, 0, 0.04698646805925095)\">hand</span></span> <span style=\"font-size:20px; font-family:Times New Roman;\"><span style=\"background-color:rgba(255, 0, 0, 0.01177582303817791)\">permissions</span></span> <span style=\"font-size:20px; font-family:Times New Roman;\">myself</span> <span style=\"font-size:20px; font-family:Times New Roman;\">I</span> <span style=\"font-size:20px; font-family:Times New Roman;\">wasn</span> <span style=\"font-size:20px; font-family:Times New Roman;\">t</span> <span style=\"font-size:20px; font-family:Times New Roman;\"><span style=\"background-color:rgba(255, 0, 0, 0.21022261710599546)\">late</span></span> <span style=\"font-size:20px; font-family:Times New Roman;\">This</span> <span style=\"font-size:20px; font-family:Times New Roman;\"><span style=\"background-color:rgba(255, 0, 0, 0.3398512804511887)\">never</span></span> <span style=\"font-size:20px; font-family:Times New Roman;\"><span style=\"background-color:rgba(255, 0, 0, 0.1384388085042942)\">happened</span></span> <span style=\"font-size:20px; font-family:Times New Roman;\">to</span> <span style=\"font-size:20px; font-family:Times New Roman;\">me</span> <span style=\"font-size:20px; font-family:Times New Roman;\">before</span> <span style=\"font-size:20px; font-family:Times New Roman;\"><span style=\"background-color:rgba(0, 0, 255, 0.11910978833581576)\">hotels</span></span> <span style=\"font-size:20px; font-family:Times New Roman;\"><span style=\"background-color:rgba(255, 0, 0, 0.026603779842897694)\">usually</span></span> <span style=\"font-size:20px; font-family:Times New Roman;\"><span style=\"background-color:rgba(255, 0, 0, 0.18864573693167466)\">wait</span></span> <span style=\"font-size:20px; font-family:Times New Roman;\">for</span> <span style=\"font-size:20px; font-family:Times New Roman;\"><span style=\"background-color:rgba(255, 0, 0, 0.20314084422841583)\">customer</span></span> <span style=\"font-size:20px; font-family:Times New Roman;\"><span style=\"background-color:rgba(255, 0, 0, 0.31414149380173295)\">arrival</span></span> <span style=\"font-size:20px; font-family:Times New Roman;\">And</span> <span style=\"font-size:20px; font-family:Times New Roman;\">I</span> <span style=\"font-size:20px; font-family:Times New Roman;\">DO</span> <span style=\"font-size:20px; font-family:Times New Roman;\"><span style=\"background-color:rgba(0, 0, 255, 0.11276666351319835)\">ALWAYS</span></span> <span style=\"font-size:20px; font-family:Times New Roman;\"><span style=\"background-color:rgba(255, 0, 0, 0.16289578705088298)\">USE</span></span> <span style=\"font-size:20px; font-family:Times New Roman;\"><span style=\"background-color:rgba(255, 0, 0, 0.150992179739668)\">different</span></span> <span style=\"font-size:20px; font-family:Times New Roman;\"><span style=\"background-color:rgba(255, 0, 0, 0.06247878130466331)\">cards</span></span> <span style=\"font-size:20px; font-family:Times New Roman;\">for</span> <span style=\"font-size:20px; font-family:Times New Roman;\"><span style=\"background-color:rgba(255, 0, 0, 0.039715686504458794)\">safety</span></span> <span style=\"font-size:20px; font-family:Times New Roman;\"><span style=\"background-color:rgba(255, 0, 0, 0.029608675666868346)\">reasons</span></span> <span style=\"font-size:20px; font-family:Times New Roman;\">But</span> <span style=\"font-size:20px; font-family:Times New Roman;\"><span style=\"background-color:rgba(255, 0, 0, 0.014181358709657007)\">thankfully</span></span> <span style=\"font-size:20px; font-family:Times New Roman;\">it</span> <span style=\"font-size:20px; font-family:Times New Roman;\">was</span> <span style=\"font-size:20px; font-family:Times New Roman;\"><span style=\"background-color:rgba(255, 0, 0, 0.07142604922367679)\">sorted</span></span> <span style=\"font-size:20px; font-family:Times New Roman;\"><span style=\"background-color:rgba(255, 0, 0, 0.014865359636145584)\">smoothly</span></span> <span style=\"font-size:20px; font-family:Times New Roman;\"><span style=\"background-color:rgba(0, 0, 255, 0.19099808857036554)\">Paris</span></span> <span style=\"font-size:20px; font-family:Times New Roman;\">some</span> <span style=\"font-size:20px; font-family:Times New Roman;\"><span style=\"background-color:rgba(0, 0, 255, 0.06593442568186597)\">tourist</span></span> <span style=\"font-size:20px; font-family:Times New Roman;\"><span style=\"background-color:rgba(0, 0, 255, 0.050607575903046494)\">areas</span></span> <span style=\"font-size:20px; font-family:Times New Roman;\">is</span> <span style=\"font-size:20px; font-family:Times New Roman;\">being</span> <span style=\"font-size:20px; font-family:Times New Roman;\"><span style=\"background-color:rgba(0, 0, 255, 0.3410050384566397)\">close</span></span> <span style=\"font-size:20px; font-family:Times New Roman;\">between</span> <span style=\"font-size:20px; font-family:Times New Roman;\">14</span> <span style=\"font-size:20px; font-family:Times New Roman;\">18</span> <span style=\"font-size:20px; font-family:Times New Roman;\">on</span> <span style=\"font-size:20px; font-family:Times New Roman;\"><span style=\"background-color:rgba(255, 0, 0, 0.047357597632343054)\">Sunday</span></span> <span style=\"font-size:20px; font-family:Times New Roman;\">for</span> <span style=\"font-size:20px; font-family:Times New Roman;\"><span style=\"background-color:rgba(255, 0, 0, 0.0824604077533094)\">car</span></span> <span style=\"font-size:20px; font-family:Times New Roman;\"><span style=\"background-color:rgba(0, 0, 255, 0.020449466264764616)\">traffic</span></span> <span style=\"font-size:20px; font-family:Times New Roman;\">Which</span> <span style=\"font-size:20px; font-family:Times New Roman;\"><span style=\"background-color:rgba(0, 0, 255, 0.02246037678214577)\">blocks</span></span> <span style=\"font-size:20px; font-family:Times New Roman;\">all</span> <span style=\"font-size:20px; font-family:Times New Roman;\"><span style=\"background-color:rgba(0, 0, 255, 0.06056107077366557)\">town</span></span> <span style=\"font-size:20px; font-family:Times New Roman;\"><span style=\"background-color:rgba(255, 0, 0, 0.06324983826898717)\">Avoid</span></span> <span style=\"font-size:20px; font-family:Times New Roman;\">those</span> <span style=\"font-size:20px; font-family:Times New Roman;\"><span style=\"background-color:rgba(255, 0, 0, 0.14655138316856847)\">hours</span></span> <span style=\"font-size:20px; font-family:Times New Roman;\">to</span> <span style=\"font-size:20px; font-family:Times New Roman;\"><span style=\"background-color:rgba(255, 0, 0, 0.020656311712014333)\">drive</span></span>"
      ],
      "text/plain": [
       "<IPython.core.display.HTML object>"
      ]
     },
     "metadata": {},
     "output_type": "display_data"
    },
    {
     "name": "stdout",
     "output_type": "stream",
     "text": [
      "\n",
      " Paying for room on arrival Payment on check in at this hotel is policy and in my opinion is not acceptable for a 4 star internationally positioned hotel The front office staff are invested with insufficient authority to be able to waive this condition if you don t like it and if you put your foot down they just call the hotel manager Escalating this request just makes for a fretful confrontational check in and taints the hospitality policy of the hotel A big negative \n"
     ]
    },
    {
     "data": {
      "text/html": [
       "<span style=\"font-size:16px; font-family:Times New Roman;\">\n",
       " <span style=\"background-color: rgba(255, 0, 0, 1);\">Number 1 Topic is 6</span> with  probability 0.4517098375533034, Title is: Hotel Booking Reception</span>"
      ],
      "text/plain": [
       "<IPython.core.display.HTML object>"
      ]
     },
     "metadata": {},
     "output_type": "display_data"
    },
    {
     "data": {
      "text/html": [
       "<span style=\"font-size:16px; font-family:Times New Roman;\">\n",
       " <span style=\"background-color: rgba(0, 0, 255, 1);\">Number 2 Topic is 0</span> with  probability 0.12899735711458488, Title is: Hospitality Excellence</span>"
      ],
      "text/plain": [
       "<IPython.core.display.HTML object>"
      ]
     },
     "metadata": {},
     "output_type": "display_data"
    },
    {
     "data": {
      "text/html": [
       "<span style=\"font-size:16px; font-family:Times New Roman;\">\n",
       " <span style=\"background-color: rgba(0, 255, 0, 1);\">Number 3 Topic is 2</span> with  probability 0.08135408873066016, Title is: Hotel Amenities Excellence</span>"
      ],
      "text/plain": [
       "<IPython.core.display.HTML object>"
      ]
     },
     "metadata": {},
     "output_type": "display_data"
    },
    {
     "name": "stdout",
     "output_type": "stream",
     "text": [
      "[6, 0, 2]\n",
      "{6: {'room': 0.0312774394878031, 'hotel': 0.02713918418622058, 'check': 0.020652730107501835, 'staff': 0.01725300571849266, 'like': 0.0121462712069092, 'arrival': 0.009825541562991775, 'manager': 0.009711268145107643, 'star': 0.008902522029879968, 'front': 0.008074008902921788, 'put': 0.007714823182920457, 'call': 0.007668433473020271, 'request': 0.00465184244020941, 'able': 0.0033511592046115844, 'big': 0.003291152954393267, 'policy': 0.0017860781522478536, 'condition': 0.001721209659648282, 'negative': 0.0012954104901799046, 'makes': 0.0011247824339536423, 'foot': 0.000999233412866913, 'hospitality': 0.000993333619553135, 'office': 0.0009381641280177893, 'acceptable': 0.0009263396906861913, 'opinion': 0.0007328161130731088, 'insufficient': 0.00041849921758641874, 'positioned': 0.0004103712757643671, 'invested': 0.00036831759249568723, 'authority': 0.00035258627971842003, 'internationally': 0.00019760574378635475, 'waive': 0.00019760574378635475, 'fretful': 0.00019760574378635475, 'confrontational': 0.00019760574378635475, 'taints': 0.00019760574378635475}, 0: {'hotel': 0.048535853840198054, 'staff': 0.04179384363660856, 'room': 0.02927797724444089, 'big': 0.009003316138017758, 'like': 0.007556751346144966, 'front': 0.005906529352042416, 'check': 0.0055180332459649605, 'arrival': 0.00293706664543588, 'star': 0.002457783255712778, 'able': 0.002165098378369056, 'manager': 0.0015241875373971066, 'hospitality': 0.00139049621381198, 'foot': 0.001036114747915371, 'request': 0.0009550609637875136, 'makes': 0.0009542436028804936, 'put': 0.0007422285570518481, 'negative': 0.0007051923959939513, 'office': 0.0006019146901281381, 'acceptable': 0.0004862685886373075, 'condition': 0.00045176202658771974, 'call': 0.000441748472851137, 'positioned': 0.00038296613475758903, 'opinion': 0.00034193883793274177, 'policy': 5.9528623985272235e-05}, 2: {'staff': 0.05349265438589445, 'room': 0.02884931166699843, 'hotel': 0.017743692380512918, 'like': 0.006614342948336849, 'big': 0.005925495190483274, 'front': 0.005898148843038631, 'check': 0.004771421670365156, 'arrival': 0.0028769161405855087, 'star': 0.0027804333327766852, 'able': 0.0016102048601284147, 'request': 0.0015690911805739728, 'manager': 0.0013234999445315822, 'hospitality': 0.0012409507764668747, 'put': 0.001192325711549951, 'makes': 0.000958068417728802, 'office': 0.0008790215192057901, 'acceptable': 0.0008679425037578899, 'condition': 0.0006047637153955798, 'call': 0.0005322229155838819, 'negative': 0.0004045822626931882, 'insufficient': 0.00026141113055665877}}\n"
     ]
    },
    {
     "data": {
      "text/html": [
       "<span style=\"font-size:20px; font-family:Times New Roman;\"><span style=\"background-color:rgba(255, 0, 0, 0.14598077897490755)\">Paying</span></span> <span style=\"font-size:20px; font-family:Times New Roman;\">for</span> <span style=\"font-size:20px; font-family:Times New Roman;\"><span style=\"background-color:rgba(255, 0, 0, 1.0)\">room</span></span> <span style=\"font-size:20px; font-family:Times New Roman;\">on</span> <span style=\"font-size:20px; font-family:Times New Roman;\"><span style=\"background-color:rgba(255, 0, 0, 0.31414149380173295)\">arrival</span></span> <span style=\"font-size:20px; font-family:Times New Roman;\"><span style=\"background-color:rgba(255, 0, 0, 0.2600590509709925)\">Payment</span></span> <span style=\"font-size:20px; font-family:Times New Roman;\">on</span> <span style=\"font-size:20px; font-family:Times New Roman;\"><span style=\"background-color:rgba(255, 0, 0, 0.660307571390412)\">check</span></span> <span style=\"font-size:20px; font-family:Times New Roman;\">in</span> <span style=\"font-size:20px; font-family:Times New Roman;\">at</span> <span style=\"font-size:20px; font-family:Times New Roman;\">this</span> <span style=\"font-size:20px; font-family:Times New Roman;\"><span style=\"background-color:rgba(0, 0, 255, 1.0)\">hotel</span></span> <span style=\"font-size:20px; font-family:Times New Roman;\">is</span> <span style=\"font-size:20px; font-family:Times New Roman;\"><span style=\"background-color:rgba(255, 0, 0, 0.05710435961180101)\">policy</span></span> <span style=\"font-size:20px; font-family:Times New Roman;\">and</span> <span style=\"font-size:20px; font-family:Times New Roman;\">in</span> <span style=\"font-size:20px; font-family:Times New Roman;\">my</span> <span style=\"font-size:20px; font-family:Times New Roman;\"><span style=\"background-color:rgba(255, 0, 0, 0.02342954298924874)\">opinion</span></span> <span style=\"font-size:20px; font-family:Times New Roman;\">is</span> <span style=\"font-size:20px; font-family:Times New Roman;\">not</span> <span style=\"font-size:20px; font-family:Times New Roman;\"><span style=\"background-color:rgba(255, 0, 0, 0.029616864610909892)\">acceptable</span></span> <span style=\"font-size:20px; font-family:Times New Roman;\">for</span> <span style=\"font-size:20px; font-family:Times New Roman;\">a</span> <span style=\"font-size:20px; font-family:Times New Roman;\">4</span> <span style=\"font-size:20px; font-family:Times New Roman;\"><span style=\"background-color:rgba(255, 0, 0, 0.2846307810251405)\">star</span></span> <span style=\"font-size:20px; font-family:Times New Roman;\"><span style=\"background-color:rgba(255, 0, 0, 0.006317836338982056)\">internationally</span></span> <span style=\"font-size:20px; font-family:Times New Roman;\"><span style=\"background-color:rgba(255, 0, 0, 0.013120360313522301)\">positioned</span></span> <span style=\"font-size:20px; font-family:Times New Roman;\"><span style=\"background-color:rgba(0, 0, 255, 1.0)\">hotel</span></span> <span style=\"font-size:20px; font-family:Times New Roman;\">The</span> <span style=\"font-size:20px; font-family:Times New Roman;\"><span style=\"background-color:rgba(255, 0, 0, 0.2581416201307116)\">front</span></span> <span style=\"font-size:20px; font-family:Times New Roman;\"><span style=\"background-color:rgba(255, 0, 0, 0.029994914653535956)\">office</span></span> <span style=\"font-size:20px; font-family:Times New Roman;\"><span style=\"background-color:rgba(0, 255, 0, 0.4641508949189763)\">staff</span></span> <span style=\"font-size:20px; font-family:Times New Roman;\">are</span> <span style=\"font-size:20px; font-family:Times New Roman;\"><span style=\"background-color:rgba(255, 0, 0, 0.01177582303817791)\">invested</span></span> <span style=\"font-size:20px; font-family:Times New Roman;\">with</span> <span style=\"font-size:20px; font-family:Times New Roman;\"><span style=\"background-color:rgba(255, 0, 0, 0.01338022627298555)\">insufficient</span></span> <span style=\"font-size:20px; font-family:Times New Roman;\"><span style=\"background-color:rgba(255, 0, 0, 0.01127286266051011)\">authority</span></span> <span style=\"font-size:20px; font-family:Times New Roman;\">to</span> <span style=\"font-size:20px; font-family:Times New Roman;\">be</span> <span style=\"font-size:20px; font-family:Times New Roman;\"><span style=\"background-color:rgba(255, 0, 0, 0.10714301616404363)\">able</span></span> <span style=\"font-size:20px; font-family:Times New Roman;\">to</span> <span style=\"font-size:20px; font-family:Times New Roman;\"><span style=\"background-color:rgba(255, 0, 0, 0.006317836338982056)\">waive</span></span> <span style=\"font-size:20px; font-family:Times New Roman;\">this</span> <span style=\"font-size:20px; font-family:Times New Roman;\"><span style=\"background-color:rgba(255, 0, 0, 0.0550303889268008)\">condition</span></span> <span style=\"font-size:20px; font-family:Times New Roman;\">if</span> <span style=\"font-size:20px; font-family:Times New Roman;\">you</span> <span style=\"font-size:20px; font-family:Times New Roman;\">don</span> <span style=\"font-size:20px; font-family:Times New Roman;\">t</span> <span style=\"font-size:20px; font-family:Times New Roman;\"><span style=\"background-color:rgba(255, 0, 0, 0.3883396916696375)\">like</span></span> <span style=\"font-size:20px; font-family:Times New Roman;\">it</span> <span style=\"font-size:20px; font-family:Times New Roman;\">and</span> <span style=\"font-size:20px; font-family:Times New Roman;\">if</span> <span style=\"font-size:20px; font-family:Times New Roman;\">you</span> <span style=\"font-size:20px; font-family:Times New Roman;\"><span style=\"background-color:rgba(255, 0, 0, 0.24665776064977818)\">put</span></span> <span style=\"font-size:20px; font-family:Times New Roman;\">your</span> <span style=\"font-size:20px; font-family:Times New Roman;\"><span style=\"background-color:rgba(0, 0, 255, 0.021347409511466072)\">foot</span></span> <span style=\"font-size:20px; font-family:Times New Roman;\">down</span> <span style=\"font-size:20px; font-family:Times New Roman;\">they</span> <span style=\"font-size:20px; font-family:Times New Roman;\">just</span> <span style=\"font-size:20px; font-family:Times New Roman;\"><span style=\"background-color:rgba(255, 0, 0, 0.24517459224917182)\">call</span></span> <span style=\"font-size:20px; font-family:Times New Roman;\">the</span> <span style=\"font-size:20px; font-family:Times New Roman;\"><span style=\"background-color:rgba(0, 0, 255, 1.0)\">hotel</span></span> <span style=\"font-size:20px; font-family:Times New Roman;\"><span style=\"background-color:rgba(255, 0, 0, 0.31048795247112965)\">manager</span></span> <span style=\"font-size:20px; font-family:Times New Roman;\"><span style=\"background-color:rgba(255, 0, 0, 0.006317836338982056)\">Escalating</span></span> <span style=\"font-size:20px; font-family:Times New Roman;\">this</span> <span style=\"font-size:20px; font-family:Times New Roman;\"><span style=\"background-color:rgba(255, 0, 0, 0.14872836512155782)\">request</span></span> <span style=\"font-size:20px; font-family:Times New Roman;\">just</span> <span style=\"font-size:20px; font-family:Times New Roman;\"><span style=\"background-color:rgba(255, 0, 0, 0.035961461435878105)\">makes</span></span> <span style=\"font-size:20px; font-family:Times New Roman;\">for</span> <span style=\"font-size:20px; font-family:Times New Roman;\">a</span> <span style=\"font-size:20px; font-family:Times New Roman;\"><span style=\"background-color:rgba(255, 0, 0, 0.006317836338982056)\">fretful</span></span> <span style=\"font-size:20px; font-family:Times New Roman;\"><span style=\"background-color:rgba(255, 0, 0, 0.006317836338982056)\">confrontational</span></span> <span style=\"font-size:20px; font-family:Times New Roman;\"><span style=\"background-color:rgba(255, 0, 0, 0.660307571390412)\">check</span></span> <span style=\"font-size:20px; font-family:Times New Roman;\">in</span> <span style=\"font-size:20px; font-family:Times New Roman;\">and</span> <span style=\"font-size:20px; font-family:Times New Roman;\"><span style=\"background-color:rgba(255, 0, 0, 0.006317836338982056)\">taints</span></span> <span style=\"font-size:20px; font-family:Times New Roman;\">the</span> <span style=\"font-size:20px; font-family:Times New Roman;\"><span style=\"background-color:rgba(0, 0, 255, 0.028648846240350925)\">hospitality</span></span> <span style=\"font-size:20px; font-family:Times New Roman;\"><span style=\"background-color:rgba(255, 0, 0, 0.05710435961180101)\">policy</span></span> <span style=\"font-size:20px; font-family:Times New Roman;\">of</span> <span style=\"font-size:20px; font-family:Times New Roman;\">the</span> <span style=\"font-size:20px; font-family:Times New Roman;\"><span style=\"background-color:rgba(0, 0, 255, 1.0)\">hotel</span></span> <span style=\"font-size:20px; font-family:Times New Roman;\">A</span> <span style=\"font-size:20px; font-family:Times New Roman;\"><span style=\"background-color:rgba(0, 0, 255, 0.1854982538817745)\">big</span></span> <span style=\"font-size:20px; font-family:Times New Roman;\"><span style=\"background-color:rgba(255, 0, 0, 0.041416769127954375)\">negative</span></span>"
      ],
      "text/plain": [
       "<IPython.core.display.HTML object>"
      ]
     },
     "metadata": {},
     "output_type": "display_data"
    },
    {
     "name": "stdout",
     "output_type": "stream",
     "text": [
      "\n",
      " There wasn t enough toilet roll in room which meant for an embarrassing visit to reception \n"
     ]
    },
    {
     "data": {
      "text/html": [
       "<span style=\"font-size:16px; font-family:Times New Roman;\">\n",
       " <span style=\"background-color: rgba(255, 0, 0, 1);\">Number 1 Topic is 1</span> with  probability 0.35650000600547327, Title is: Bathroom and spa</span>"
      ],
      "text/plain": [
       "<IPython.core.display.HTML object>"
      ]
     },
     "metadata": {},
     "output_type": "display_data"
    },
    {
     "data": {
      "text/html": [
       "<span style=\"font-size:16px; font-family:Times New Roman;\">\n",
       " <span style=\"background-color: rgba(0, 0, 255, 1);\">Number 2 Topic is 0</span> with  probability 0.14644377428836325, Title is: Hospitality Excellence</span>"
      ],
      "text/plain": [
       "<IPython.core.display.HTML object>"
      ]
     },
     "metadata": {},
     "output_type": "display_data"
    },
    {
     "data": {
      "text/html": [
       "<span style=\"font-size:16px; font-family:Times New Roman;\">\n",
       " <span style=\"background-color: rgba(0, 255, 0, 1);\">Number 3 Topic is 2</span> with  probability 0.079867939914996, Title is: Hotel Amenities Excellence</span>"
      ],
      "text/plain": [
       "<IPython.core.display.HTML object>"
      ]
     },
     "metadata": {},
     "output_type": "display_data"
    },
    {
     "name": "stdout",
     "output_type": "stream",
     "text": [
      "[1, 0, 2]\n",
      "{1: {'room': 0.0345227160801766, 'toilet': 0.028259102674370883, 'enough': 0.007147457250394081, 'reception': 0.00397363096008171, 'roll': 0.0025738750897848794, 'meant': 0.002480848838935437, 'visit': 0.0016137678590208186, 'embarrassing': 0.0006078414523073941}, 0: {'room': 0.02927797724444089, 'reception': 0.006982262286465954, 'visit': 0.005507228691260991, 'enough': 0.004712334018505235, 'toilet': 0.0011151414358305028, 'meant': 0.00029254095845718557, 'roll': 6.142476152025564e-05}, 2: {'room': 0.02884931166699843, 'reception': 0.00918243844404818, 'enough': 0.004859092939785833, 'visit': 0.0018559897696984976, 'meant': 0.0005874270518427435, 'roll': 0.0002466838610243234}}\n"
     ]
    },
    {
     "data": {
      "text/html": [
       "<span style=\"font-size:20px; font-family:Times New Roman;\">There</span> <span style=\"font-size:20px; font-family:Times New Roman;\">wasn</span> <span style=\"font-size:20px; font-family:Times New Roman;\">t</span> <span style=\"font-size:20px; font-family:Times New Roman;\"><span style=\"background-color:rgba(255, 0, 0, 0.08901894532554817)\">enough</span></span> <span style=\"font-size:20px; font-family:Times New Roman;\"><span style=\"background-color:rgba(255, 0, 0, 0.35195670681068775)\">toilet</span></span> <span style=\"font-size:20px; font-family:Times New Roman;\"><span style=\"background-color:rgba(255, 0, 0, 0.032056665449760845)\">roll</span></span> <span style=\"font-size:20px; font-family:Times New Roman;\">in</span> <span style=\"font-size:20px; font-family:Times New Roman;\"><span style=\"background-color:rgba(255, 0, 0, 0.4299677028584147)\">room</span></span> <span style=\"font-size:20px; font-family:Times New Roman;\">which</span> <span style=\"font-size:20px; font-family:Times New Roman;\"><span style=\"background-color:rgba(255, 0, 0, 0.030898057787189563)\">meant</span></span> <span style=\"font-size:20px; font-family:Times New Roman;\">for</span> <span style=\"font-size:20px; font-family:Times New Roman;\">an</span> <span style=\"font-size:20px; font-family:Times New Roman;\"><span style=\"background-color:rgba(255, 0, 0, 0.00757044122321548)\">embarrassing</span></span> <span style=\"font-size:20px; font-family:Times New Roman;\"><span style=\"background-color:rgba(0, 0, 255, 0.11346722588611038)\">visit</span></span> <span style=\"font-size:20px; font-family:Times New Roman;\">to</span> <span style=\"font-size:20px; font-family:Times New Roman;\"><span style=\"background-color:rgba(0, 255, 0, 0.07967518288767583)\">reception</span></span>"
      ],
      "text/plain": [
       "<IPython.core.display.HTML object>"
      ]
     },
     "metadata": {},
     "output_type": "display_data"
    },
    {
     "name": "stdout",
     "output_type": "stream",
     "text": [
      "\n",
      " Very noisy but was weekend so you ve got to expect that Bathroom was lovely but we had a room for 3 and ran out of loo roll which wasn t replaced \n"
     ]
    },
    {
     "data": {
      "text/html": [
       "<span style=\"font-size:16px; font-family:Times New Roman;\">\n",
       " <span style=\"background-color: rgba(255, 0, 0, 1);\">Number 1 Topic is 1</span> with  probability 0.21972258084102056, Title is: Bathroom and spa</span>"
      ],
      "text/plain": [
       "<IPython.core.display.HTML object>"
      ]
     },
     "metadata": {},
     "output_type": "display_data"
    },
    {
     "data": {
      "text/html": [
       "<span style=\"font-size:16px; font-family:Times New Roman;\">\n",
       " <span style=\"background-color: rgba(0, 0, 255, 1);\">Number 2 Topic is 0</span> with  probability 0.18467020732536718, Title is: Hospitality Excellence</span>"
      ],
      "text/plain": [
       "<IPython.core.display.HTML object>"
      ]
     },
     "metadata": {},
     "output_type": "display_data"
    },
    {
     "data": {
      "text/html": [
       "<span style=\"font-size:16px; font-family:Times New Roman;\">\n",
       " <span style=\"background-color: rgba(0, 255, 0, 1);\">Number 3 Topic is 2</span> with  probability 0.1007234865807722, Title is: Hotel Amenities Excellence</span>"
      ],
      "text/plain": [
       "<IPython.core.display.HTML object>"
      ]
     },
     "metadata": {},
     "output_type": "display_data"
    },
    {
     "name": "stdout",
     "output_type": "stream",
     "text": [
      "[1, 0, 2]\n",
      "{1: {'room': 0.0345227160801766, 'lovely': 0.006687049384396024, 'noisy': 0.006619218810379782, 'got': 0.006314339778188002, 'replaced': 0.003505195145343487, 'roll': 0.0025738750897848794, 'loo': 0.0023378896871893537, 'expect': 0.0023280003516101032, 'ran': 0.0013517367385220533, 'weekend': 0.0011749450561457677}, 0: {'room': 0.02927797724444089, 'lovely': 0.01777938640361986, 'got': 0.003857659800295999, 'weekend': 0.0016138412829859216, 'expect': 0.0010802756652040877, 'noisy': 0.0008293198364912641, 'replaced': 0.00015275297180006897, 'ran': 0.00011290577967825424, 'roll': 6.142476152025564e-05}, 2: {'room': 0.02884931166699843, 'lovely': 0.02049519077701293, 'noisy': 0.0024670931254866272, 'weekend': 0.002277192303227716, 'got': 0.0014524208008242436, 'expect': 0.0005206107090384769, 'ran': 0.00045343332189916216, 'replaced': 0.00040897397004034555, 'roll': 0.0002466838610243234}}\n"
     ]
    },
    {
     "data": {
      "text/html": [
       "<span style=\"font-size:20px; font-family:Times New Roman;\">Very</span> <span style=\"font-size:20px; font-family:Times New Roman;\"><span style=\"background-color:rgba(255, 0, 0, 0.08243993027681976)\">noisy</span></span> <span style=\"font-size:20px; font-family:Times New Roman;\">but</span> <span style=\"font-size:20px; font-family:Times New Roman;\">was</span> <span style=\"font-size:20px; font-family:Times New Roman;\"><span style=\"background-color:rgba(0, 255, 0, 0.01975899041802758)\">weekend</span></span> <span style=\"font-size:20px; font-family:Times New Roman;\">so</span> <span style=\"font-size:20px; font-family:Times New Roman;\">you</span> <span style=\"font-size:20px; font-family:Times New Roman;\">ve</span> <span style=\"font-size:20px; font-family:Times New Roman;\"><span style=\"background-color:rgba(255, 0, 0, 0.07864277431676281)\">got</span></span> <span style=\"font-size:20px; font-family:Times New Roman;\">to</span> <span style=\"font-size:20px; font-family:Times New Roman;\"><span style=\"background-color:rgba(255, 0, 0, 0.0289943862212552)\">expect</span></span> <span style=\"font-size:20px; font-family:Times New Roman;\">that</span> <span style=\"font-size:20px; font-family:Times New Roman;\"><span style=\"background-color:rgba(255, 0, 0, 0.8693828729990491)\">Bathroom</span></span> <span style=\"font-size:20px; font-family:Times New Roman;\">was</span> <span style=\"font-size:20px; font-family:Times New Roman;\"><span style=\"background-color:rgba(0, 255, 0, 0.17783490555656853)\">lovely</span></span> <span style=\"font-size:20px; font-family:Times New Roman;\">but</span> <span style=\"font-size:20px; font-family:Times New Roman;\">we</span> <span style=\"font-size:20px; font-family:Times New Roman;\">had</span> <span style=\"font-size:20px; font-family:Times New Roman;\">a</span> <span style=\"font-size:20px; font-family:Times New Roman;\"><span style=\"background-color:rgba(255, 0, 0, 0.4299677028584147)\">room</span></span> <span style=\"font-size:20px; font-family:Times New Roman;\">for</span> <span style=\"font-size:20px; font-family:Times New Roman;\">3</span> <span style=\"font-size:20px; font-family:Times New Roman;\">and</span> <span style=\"font-size:20px; font-family:Times New Roman;\"><span style=\"background-color:rgba(255, 0, 0, 0.016835382794964597)\">ran</span></span> <span style=\"font-size:20px; font-family:Times New Roman;\">out</span> <span style=\"font-size:20px; font-family:Times New Roman;\">of</span> <span style=\"font-size:20px; font-family:Times New Roman;\"><span style=\"background-color:rgba(255, 0, 0, 0.029117554250443028)\">loo</span></span> <span style=\"font-size:20px; font-family:Times New Roman;\"><span style=\"background-color:rgba(255, 0, 0, 0.032056665449760845)\">roll</span></span> <span style=\"font-size:20px; font-family:Times New Roman;\">which</span> <span style=\"font-size:20px; font-family:Times New Roman;\">wasn</span> <span style=\"font-size:20px; font-family:Times New Roman;\">t</span> <span style=\"font-size:20px; font-family:Times New Roman;\"><span style=\"background-color:rgba(255, 0, 0, 0.043655913434320265)\">replaced</span></span>"
      ],
      "text/plain": [
       "<IPython.core.display.HTML object>"
      ]
     },
     "metadata": {},
     "output_type": "display_data"
    },
    {
     "name": "stdout",
     "output_type": "stream",
     "text": [
      "\n",
      " Rooms need updating Swimming pool is a lot smaller than shown in pictures\n"
     ]
    },
    {
     "data": {
      "text/html": [
       "<span style=\"font-size:16px; font-family:Times New Roman;\">\n",
       " <span style=\"background-color: rgba(255, 0, 0, 1);\">Number 1 Topic is 1</span> with  probability 0.7245634620026988, Title is: Bathroom and spa</span>"
      ],
      "text/plain": [
       "<IPython.core.display.HTML object>"
      ]
     },
     "metadata": {},
     "output_type": "display_data"
    },
    {
     "data": {
      "text/html": [
       "<span style=\"font-size:16px; font-family:Times New Roman;\">\n",
       " <span style=\"background-color: rgba(0, 0, 255, 1);\">Number 2 Topic is 0</span> with  probability 0.06874299016630728, Title is: Hospitality Excellence</span>"
      ],
      "text/plain": [
       "<IPython.core.display.HTML object>"
      ]
     },
     "metadata": {},
     "output_type": "display_data"
    },
    {
     "data": {
      "text/html": [
       "<span style=\"font-size:16px; font-family:Times New Roman;\">\n",
       " <span style=\"background-color: rgba(0, 255, 0, 1);\">Number 3 Topic is 2</span> with  probability 0.04084665315822296, Title is: Hotel Amenities Excellence</span>"
      ],
      "text/plain": [
       "<IPython.core.display.HTML object>"
      ]
     },
     "metadata": {},
     "output_type": "display_data"
    },
    {
     "name": "stdout",
     "output_type": "stream",
     "text": [
      "[1, 0, 2]\n",
      "{1: {'pool': 0.06328364299821589, 'need': 0.007813261281522104, 'lot': 0.004504780093911754, 'smaller': 0.002507506573191845, 'pictures': 0.0020461598326803297, 'updating': 0.0012372402880836144, 'shown': 0.000516848692908758}, 0: {'need': 0.004060709503402192, 'lot': 0.0033326622438303237, 'pool': 0.0014729823240611302, 'pictures': 0.0008301269025486157, 'smaller': 0.0003723433570081683, 'updating': 0.00011810548218195023, 'shown': 0.00011512143942535966}, 2: {'need': 0.0031062748234554757, 'lot': 0.002878297010972517, 'pool': 0.0007394431779766812, 'pictures': 0.00039221375567269963, 'smaller': 0.00037383578975412005, 'shown': 0.00023116574213121418}}\n"
     ]
    },
    {
     "data": {
      "text/html": [
       "<span style=\"font-size:20px; font-family:Times New Roman;\"><span style=\"background-color:rgba(0, 0, 255, 0.4641075485992815)\">Rooms</span></span> <span style=\"font-size:20px; font-family:Times New Roman;\"><span style=\"background-color:rgba(255, 0, 0, 0.09731128910154589)\">need</span></span> <span style=\"font-size:20px; font-family:Times New Roman;\"><span style=\"background-color:rgba(255, 0, 0, 0.015409371710954717)\">updating</span></span> <span style=\"font-size:20px; font-family:Times New Roman;\"><span style=\"background-color:rgba(255, 0, 0, 0.2847340863298907)\">Swimming</span></span> <span style=\"font-size:20px; font-family:Times New Roman;\"><span style=\"background-color:rgba(255, 0, 0, 0.7881744456392635)\">pool</span></span> <span style=\"font-size:20px; font-family:Times New Roman;\">is</span> <span style=\"font-size:20px; font-family:Times New Roman;\">a</span> <span style=\"font-size:20px; font-family:Times New Roman;\"><span style=\"background-color:rgba(255, 0, 0, 0.05610537549720051)\">lot</span></span> <span style=\"font-size:20px; font-family:Times New Roman;\"><span style=\"background-color:rgba(255, 0, 0, 0.031230070040658215)\">smaller</span></span> <span style=\"font-size:20px; font-family:Times New Roman;\">than</span> <span style=\"font-size:20px; font-family:Times New Roman;\"><span style=\"background-color:rgba(255, 0, 0, 0.006437159947069149)\">shown</span></span> <span style=\"font-size:20px; font-family:Times New Roman;\">in</span> <span style=\"font-size:20px; font-family:Times New Roman;\"><span style=\"background-color:rgba(255, 0, 0, 0.02548416645131529)\">pictures</span></span>"
      ],
      "text/plain": [
       "<IPython.core.display.HTML object>"
      ]
     },
     "metadata": {},
     "output_type": "display_data"
    },
    {
     "name": "stdout",
     "output_type": "stream",
     "text": [
      "\n",
      " Priority is given to wedding parties so hotel corridor extremely noisy until around 4am Rooms very cold but no extra blankets\n"
     ]
    },
    {
     "data": {
      "text/html": [
       "<span style=\"font-size:16px; font-family:Times New Roman;\">\n",
       " <span style=\"background-color: rgba(255, 0, 0, 1);\">Number 1 Topic is 12</span> with  probability 0.34290424014265464, Title is: Room Noise Levels</span>"
      ],
      "text/plain": [
       "<IPython.core.display.HTML object>"
      ]
     },
     "metadata": {},
     "output_type": "display_data"
    },
    {
     "data": {
      "text/html": [
       "<span style=\"font-size:16px; font-family:Times New Roman;\">\n",
       " <span style=\"background-color: rgba(0, 0, 255, 1);\">Number 2 Topic is 0</span> with  probability 0.09222777219658451, Title is: Hospitality Excellence</span>"
      ],
      "text/plain": [
       "<IPython.core.display.HTML object>"
      ]
     },
     "metadata": {},
     "output_type": "display_data"
    },
    {
     "data": {
      "text/html": [
       "<span style=\"font-size:16px; font-family:Times New Roman;\">\n",
       " <span style=\"background-color: rgba(0, 255, 0, 1);\">Number 3 Topic is 10</span> with  probability 0.08354970412774941, Title is: Room Lighting</span>"
      ],
      "text/plain": [
       "<IPython.core.display.HTML object>"
      ]
     },
     "metadata": {},
     "output_type": "display_data"
    },
    {
     "name": "stdout",
     "output_type": "stream",
     "text": [
      "[12, 0, 10]\n",
      "{12: {'noisy': 0.1526074984422142, 'corridor': 0.01865731276557814, 'hotel': 0.012884900518528393, 'around': 0.006674550222902177, 'extremely': 0.003529281948326061, 'wedding': 0.003207930467573665, 'cold': 0.0026780424812333143, 'parties': 0.0026415202427157998, 'given': 0.0020704057958868755, 'extra': 0.0012487196038520603, 'blankets': 0.0011605397207640961}, 0: {'hotel': 0.048535853840198054, 'extremely': 0.008367261409348596, 'around': 0.005869302127843857, 'extra': 0.003035836141504563, 'given': 0.00185632110719919, 'cold': 0.001177475628217271, 'noisy': 0.0008293198364912641, 'corridor': 0.0004825414617413367, 'blankets': 0.00018009298776389026, 'wedding': 0.00016593594977337546, 'parties': 6.831868314343041e-05}, 10: {'around': 0.005064269420706497, 'given': 0.004319992228481872, 'extra': 0.003908262086768672, 'hotel': 0.0028185791029858766, 'noisy': 0.0024779939203810543, 'extremely': 0.002454667038249055, 'cold': 0.0020954447787703795, 'corridor': 0.000973232473457308}}\n"
     ]
    },
    {
     "data": {
      "text/html": [
       "<span style=\"font-size:20px; font-family:Times New Roman;\"><span style=\"background-color:rgba(255, 0, 0, 0.008654621396982103)\">Priority</span></span> <span style=\"font-size:20px; font-family:Times New Roman;\">is</span> <span style=\"font-size:20px; font-family:Times New Roman;\"><span style=\"background-color:rgba(0, 255, 0, 0.037634100858984436)\">given</span></span> <span style=\"font-size:20px; font-family:Times New Roman;\">to</span> <span style=\"font-size:20px; font-family:Times New Roman;\"><span style=\"background-color:rgba(255, 0, 0, 0.021020791902885222)\">wedding</span></span> <span style=\"font-size:20px; font-family:Times New Roman;\"><span style=\"background-color:rgba(255, 0, 0, 0.017309242793964206)\">parties</span></span> <span style=\"font-size:20px; font-family:Times New Roman;\">so</span> <span style=\"font-size:20px; font-family:Times New Roman;\"><span style=\"background-color:rgba(0, 0, 255, 1.0)\">hotel</span></span> <span style=\"font-size:20px; font-family:Times New Roman;\"><span style=\"background-color:rgba(255, 0, 0, 0.12225685471571276)\">corridor</span></span> <span style=\"font-size:20px; font-family:Times New Roman;\"><span style=\"background-color:rgba(0, 0, 255, 0.17239341120684512)\">extremely</span></span> <span style=\"font-size:20px; font-family:Times New Roman;\"><span style=\"background-color:rgba(255, 0, 0, 1.0)\">noisy</span></span> <span style=\"font-size:20px; font-family:Times New Roman;\">until</span> <span style=\"font-size:20px; font-family:Times New Roman;\"><span style=\"background-color:rgba(255, 0, 0, 0.043736712094979646)\">around</span></span> <span style=\"font-size:20px; font-family:Times New Roman;\">4am</span> <span style=\"font-size:20px; font-family:Times New Roman;\"><span style=\"background-color:rgba(0, 255, 0, 0.5485853559709492)\">Rooms</span></span> <span style=\"font-size:20px; font-family:Times New Roman;\">very</span> <span style=\"font-size:20px; font-family:Times New Roman;\"><span style=\"background-color:rgba(255, 0, 0, 0.017548564183085487)\">cold</span></span> <span style=\"font-size:20px; font-family:Times New Roman;\">but</span> <span style=\"font-size:20px; font-family:Times New Roman;\">no</span> <span style=\"font-size:20px; font-family:Times New Roman;\"><span style=\"background-color:rgba(0, 255, 0, 0.03404726716568314)\">extra</span></span> <span style=\"font-size:20px; font-family:Times New Roman;\"><span style=\"background-color:rgba(255, 0, 0, 0.007604735891818199)\">blankets</span></span>"
      ],
      "text/plain": [
       "<IPython.core.display.HTML object>"
      ]
     },
     "metadata": {},
     "output_type": "display_data"
    },
    {
     "name": "stdout",
     "output_type": "stream",
     "text": [
      "\n",
      " So noisy outside that we couldnt sleep well at night and the entrance of the hotel was pretty shocking to me It looks so old and scary\n"
     ]
    },
    {
     "data": {
      "text/html": [
       "<span style=\"font-size:16px; font-family:Times New Roman;\">\n",
       " <span style=\"background-color: rgba(255, 0, 0, 1);\">Number 1 Topic is 12</span> with  probability 0.21965667114935533, Title is: Room Noise Levels</span>"
      ],
      "text/plain": [
       "<IPython.core.display.HTML object>"
      ]
     },
     "metadata": {},
     "output_type": "display_data"
    },
    {
     "data": {
      "text/html": [
       "<span style=\"font-size:16px; font-family:Times New Roman;\">\n",
       " <span style=\"background-color: rgba(0, 0, 255, 1);\">Number 2 Topic is 0</span> with  probability 0.10363642973136905, Title is: Hospitality Excellence</span>"
      ],
      "text/plain": [
       "<IPython.core.display.HTML object>"
      ]
     },
     "metadata": {},
     "output_type": "display_data"
    },
    {
     "data": {
      "text/html": [
       "<span style=\"font-size:16px; font-family:Times New Roman;\">\n",
       " <span style=\"background-color: rgba(0, 255, 0, 1);\">Number 3 Topic is 10</span> with  probability 0.0920331122072249, Title is: Room Lighting</span>"
      ],
      "text/plain": [
       "<IPython.core.display.HTML object>"
      ]
     },
     "metadata": {},
     "output_type": "display_data"
    },
    {
     "name": "stdout",
     "output_type": "stream",
     "text": [
      "[12, 0, 10]\n",
      "{12: {'noisy': 0.1526074984422142, 'night': 0.05768383262418256, 'outside': 0.04759572935577344, 'sleep': 0.023809692923094417, 'hotel': 0.012884900518528393, 'well': 0.010326889049639056, 'old': 0.007349187639884397, 'pretty': 0.0031179902697490948, 'entrance': 0.0025937650172805802, 'couldnt': 0.002274407035101811, 'shocking': 0.0013207601213578999, 'scary': 0.0013207601213578999, 'looks': 0.0009328656382789071}, 0: {'hotel': 0.048535853840198054, 'well': 0.0154182859066096, 'night': 0.005173523449781533, 'outside': 0.004595685469659412, 'pretty': 0.0026611799268747064, 'old': 0.002344257687124247, 'sleep': 0.0020409355131304854, 'entrance': 0.0018783399839078197, 'looks': 0.0012546078005274753, 'noisy': 0.0008293198364912641, 'couldnt': 0.00011764777801631058}, 10: {'old': 0.02236266867659425, 'night': 0.01019176057634884, 'pretty': 0.005692595162014985, 'well': 0.005386876394891141, 'outside': 0.005296563764374939, 'looks': 0.003892929893829232, 'hotel': 0.0028185791029858766, 'noisy': 0.0024779939203810543, 'sleep': 0.0021291413760801507, 'entrance': 0.00180400137651284, 'couldnt': 0.0011864124336837456}}\n"
     ]
    },
    {
     "data": {
      "text/html": [
       "<span style=\"font-size:20px; font-family:Times New Roman;\">So</span> <span style=\"font-size:20px; font-family:Times New Roman;\"><span style=\"background-color:rgba(255, 0, 0, 1.0)\">noisy</span></span> <span style=\"font-size:20px; font-family:Times New Roman;\"><span style=\"background-color:rgba(255, 0, 0, 0.31188329434412343)\">outside</span></span> <span style=\"font-size:20px; font-family:Times New Roman;\">that</span> <span style=\"font-size:20px; font-family:Times New Roman;\">we</span> <span style=\"font-size:20px; font-family:Times New Roman;\"><span style=\"background-color:rgba(255, 0, 0, 0.014903638800966455)\">couldnt</span></span> <span style=\"font-size:20px; font-family:Times New Roman;\"><span style=\"background-color:rgba(255, 0, 0, 0.15601915479998588)\">sleep</span></span> <span style=\"font-size:20px; font-family:Times New Roman;\"><span style=\"background-color:rgba(0, 0, 255, 0.3176679647456818)\">well</span></span> <span style=\"font-size:20px; font-family:Times New Roman;\">at</span> <span style=\"font-size:20px; font-family:Times New Roman;\"><span style=\"background-color:rgba(255, 0, 0, 0.37798819332606326)\">night</span></span> <span style=\"font-size:20px; font-family:Times New Roman;\">and</span> <span style=\"font-size:20px; font-family:Times New Roman;\">the</span> <span style=\"font-size:20px; font-family:Times New Roman;\"><span style=\"background-color:rgba(255, 0, 0, 0.016996314360416084)\">entrance</span></span> <span style=\"font-size:20px; font-family:Times New Roman;\">of</span> <span style=\"font-size:20px; font-family:Times New Roman;\">the</span> <span style=\"font-size:20px; font-family:Times New Roman;\"><span style=\"background-color:rgba(0, 0, 255, 1.0)\">hotel</span></span> <span style=\"font-size:20px; font-family:Times New Roman;\">was</span> <span style=\"font-size:20px; font-family:Times New Roman;\"><span style=\"background-color:rgba(0, 255, 0, 0.04959168654614115)\">pretty</span></span> <span style=\"font-size:20px; font-family:Times New Roman;\"><span style=\"background-color:rgba(255, 0, 0, 0.008654621396982103)\">shocking</span></span> <span style=\"font-size:20px; font-family:Times New Roman;\">to</span> <span style=\"font-size:20px; font-family:Times New Roman;\">me</span> <span style=\"font-size:20px; font-family:Times New Roman;\">It</span> <span style=\"font-size:20px; font-family:Times New Roman;\"><span style=\"background-color:rgba(0, 255, 0, 0.03391369903292864)\">looks</span></span> <span style=\"font-size:20px; font-family:Times New Roman;\">so</span> <span style=\"font-size:20px; font-family:Times New Roman;\"><span style=\"background-color:rgba(0, 255, 0, 0.19481491723580116)\">old</span></span> <span style=\"font-size:20px; font-family:Times New Roman;\">and</span> <span style=\"font-size:20px; font-family:Times New Roman;\"><span style=\"background-color:rgba(255, 0, 0, 0.008654621396982103)\">scary</span></span>"
      ],
      "text/plain": [
       "<IPython.core.display.HTML object>"
      ]
     },
     "metadata": {},
     "output_type": "display_data"
    },
    {
     "name": "stdout",
     "output_type": "stream",
     "text": [
      "\n",
      " Hum from machinery outside room not too bad though Rooms not huge \n"
     ]
    },
    {
     "data": {
      "text/html": [
       "<span style=\"font-size:16px; font-family:Times New Roman;\">\n",
       " <span style=\"background-color: rgba(255, 0, 0, 1);\">Number 1 Topic is 12</span> with  probability 0.3277736472214675, Title is: Room Noise Levels</span>"
      ],
      "text/plain": [
       "<IPython.core.display.HTML object>"
      ]
     },
     "metadata": {},
     "output_type": "display_data"
    },
    {
     "data": {
      "text/html": [
       "<span style=\"font-size:16px; font-family:Times New Roman;\">\n",
       " <span style=\"background-color: rgba(0, 0, 255, 1);\">Number 2 Topic is 10</span> with  probability 0.08890684840359543, Title is: Room Lighting</span>"
      ],
      "text/plain": [
       "<IPython.core.display.HTML object>"
      ]
     },
     "metadata": {},
     "output_type": "display_data"
    },
    {
     "data": {
      "text/html": [
       "<span style=\"font-size:16px; font-family:Times New Roman;\">\n",
       " <span style=\"background-color: rgba(0, 255, 0, 1);\">Number 3 Topic is 0</span> with  probability 0.08275520029379056, Title is: Hospitality Excellence</span>"
      ],
      "text/plain": [
       "<IPython.core.display.HTML object>"
      ]
     },
     "metadata": {},
     "output_type": "display_data"
    },
    {
     "name": "stdout",
     "output_type": "stream",
     "text": [
      "[12, 10, 0]\n",
      "{12: {'room': 0.04770379950534568, 'outside': 0.04759572935577344, 'bad': 0.010356808680252834, 'though': 0.004022291276481448, 'huge': 0.003159118834231544, 'machinery': 0.0014186581908680368}, 10: {'room': 0.1034651188198979, 'though': 0.005595124424274845, 'outside': 0.005296563764374939, 'bad': 0.0047271731056321075, 'huge': 0.0016479098976446087}, 0: {'room': 0.02927797724444089, 'outside': 0.004595685469659412, 'huge': 0.0035133382329622905, 'though': 0.002739459581392876, 'bad': 0.0014732423228819346}}\n"
     ]
    },
    {
     "data": {
      "text/html": [
       "<span style=\"font-size:20px; font-family:Times New Roman;\"><span style=\"background-color:rgba(255, 0, 0, 0.010090845011171369)\">Hum</span></span> <span style=\"font-size:20px; font-family:Times New Roman;\">from</span> <span style=\"font-size:20px; font-family:Times New Roman;\"><span style=\"background-color:rgba(255, 0, 0, 0.009296123751122366)\">machinery</span></span> <span style=\"font-size:20px; font-family:Times New Roman;\"><span style=\"background-color:rgba(255, 0, 0, 0.31188329434412343)\">outside</span></span> <span style=\"font-size:20px; font-family:Times New Roman;\"><span style=\"background-color:rgba(0, 0, 255, 0.9013480837726432)\">room</span></span> <span style=\"font-size:20px; font-family:Times New Roman;\">not</span> <span style=\"font-size:20px; font-family:Times New Roman;\">too</span> <span style=\"font-size:20px; font-family:Times New Roman;\"><span style=\"background-color:rgba(255, 0, 0, 0.06786566050798942)\">bad</span></span> <span style=\"font-size:20px; font-family:Times New Roman;\"><span style=\"background-color:rgba(0, 0, 255, 0.048742559191066924)\">though</span></span> <span style=\"font-size:20px; font-family:Times New Roman;\"><span style=\"background-color:rgba(0, 0, 255, 0.5485853559709492)\">Rooms</span></span> <span style=\"font-size:20px; font-family:Times New Roman;\">not</span> <span style=\"font-size:20px; font-family:Times New Roman;\"><span style=\"background-color:rgba(0, 255, 0, 0.07238645156073253)\">huge</span></span>"
      ],
      "text/plain": [
       "<IPython.core.display.HTML object>"
      ]
     },
     "metadata": {},
     "output_type": "display_data"
    },
    {
     "name": "stdout",
     "output_type": "stream",
     "text": [
      "\n",
      " Things were inconsistently stocked coffee brown sugar bottled water but once I contacted housekeeping they responded promptly and with more than requested \n"
     ]
    },
    {
     "data": {
      "text/html": [
       "<span style=\"font-size:16px; font-family:Times New Roman;\">\n",
       " <span style=\"background-color: rgba(255, 0, 0, 1);\">Number 1 Topic is 13</span> with  probability 0.10108048810274037, Title is: Beverage Making Facilities</span>"
      ],
      "text/plain": [
       "<IPython.core.display.HTML object>"
      ]
     },
     "metadata": {},
     "output_type": "display_data"
    },
    {
     "data": {
      "text/html": [
       "<span style=\"font-size:16px; font-family:Times New Roman;\">\n",
       " <span style=\"background-color: rgba(0, 0, 255, 1);\">Number 2 Topic is 2</span> with  probability 0.08136641805508596, Title is: Hotel Amenities Excellence</span>"
      ],
      "text/plain": [
       "<IPython.core.display.HTML object>"
      ]
     },
     "metadata": {},
     "output_type": "display_data"
    },
    {
     "data": {
      "text/html": [
       "<span style=\"font-size:16px; font-family:Times New Roman;\">\n",
       " <span style=\"background-color: rgba(0, 255, 0, 1);\">Number 3 Topic is 0</span> with  probability 0.07973218800290516, Title is: Hospitality Excellence</span>"
      ],
      "text/plain": [
       "<IPython.core.display.HTML object>"
      ]
     },
     "metadata": {},
     "output_type": "display_data"
    },
    {
     "name": "stdout",
     "output_type": "stream",
     "text": [
      "[13, 2, 0]\n",
      "{13: {'coffee': 0.2282031947175733, 'water': 0.024285550224195138, 'sugar': 0.023581566605738763, 'housekeeping': 0.00562390589079282, 'requested': 0.00532662865212196, 'bottled': 0.004414282037079041, 'stocked': 0.004295149826510644, 'inconsistently': 0.0023238399401605907, 'brown': 0.0016522085695716425, 'responded': 0.0016522085695716425, 'contacted': 0.0016293913033419937, 'promptly': 0.0014825418433232658}, 2: {'coffee': 0.0049844058388023695, 'water': 0.0018762816114196094, 'promptly': 0.001181193357683028, 'stocked': 0.0011406991013837072, 'housekeeping': 0.001075383386287134, 'bottled': 0.00046893521821947783, 'requested': 0.00033951302817204315, 'brown': 0.0002632745641108307, 'responded': 0.0002632745641108307}, 0: {'coffee': 0.003977247101569772, 'water': 0.0026863871952321526, 'housekeeping': 0.0011603477436345777, 'requested': 0.0009722031553736706, 'stocked': 0.0007384943706596357, 'promptly': 0.000411767223057087, 'bottled': 0.00029191445508407546, 'contacted': 0.00012930108328516648, 'brown': 6.555587887957733e-05}}\n"
     ]
    },
    {
     "data": {
      "text/html": [
       "<span style=\"font-size:20px; font-family:Times New Roman;\"><span style=\"background-color:rgba(255, 0, 0, 0.013087269422665873)\">Things</span></span> <span style=\"font-size:20px; font-family:Times New Roman;\">were</span> <span style=\"font-size:20px; font-family:Times New Roman;\"><span style=\"background-color:rgba(255, 0, 0, 0.010183205116986201)\">inconsistently</span></span> <span style=\"font-size:20px; font-family:Times New Roman;\"><span style=\"background-color:rgba(255, 0, 0, 0.01882160252763493)\">stocked</span></span> <span style=\"font-size:20px; font-family:Times New Roman;\"><span style=\"background-color:rgba(255, 0, 0, 1.0)\">coffee</span></span> <span style=\"font-size:20px; font-family:Times New Roman;\"><span style=\"background-color:rgba(255, 0, 0, 0.007240076422314917)\">brown</span></span> <span style=\"font-size:20px; font-family:Times New Roman;\"><span style=\"background-color:rgba(255, 0, 0, 0.10333583031089272)\">sugar</span></span> <span style=\"font-size:20px; font-family:Times New Roman;\"><span style=\"background-color:rgba(255, 0, 0, 0.0193436469745404)\">bottled</span></span> <span style=\"font-size:20px; font-family:Times New Roman;\"><span style=\"background-color:rgba(255, 0, 0, 0.10642072848388995)\">water</span></span> <span style=\"font-size:20px; font-family:Times New Roman;\">but</span> <span style=\"font-size:20px; font-family:Times New Roman;\">once</span> <span style=\"font-size:20px; font-family:Times New Roman;\">I</span> <span style=\"font-size:20px; font-family:Times New Roman;\"><span style=\"background-color:rgba(255, 0, 0, 0.007140089801803808)\">contacted</span></span> <span style=\"font-size:20px; font-family:Times New Roman;\"><span style=\"background-color:rgba(255, 0, 0, 0.024644290794232856)\">housekeeping</span></span> <span style=\"font-size:20px; font-family:Times New Roman;\">they</span> <span style=\"font-size:20px; font-family:Times New Roman;\"><span style=\"background-color:rgba(255, 0, 0, 0.007240076422314917)\">responded</span></span> <span style=\"font-size:20px; font-family:Times New Roman;\"><span style=\"background-color:rgba(255, 0, 0, 0.006496586715878694)\">promptly</span></span> <span style=\"font-size:20px; font-family:Times New Roman;\">and</span> <span style=\"font-size:20px; font-family:Times New Roman;\">with</span> <span style=\"font-size:20px; font-family:Times New Roman;\">more</span> <span style=\"font-size:20px; font-family:Times New Roman;\">than</span> <span style=\"font-size:20px; font-family:Times New Roman;\"><span style=\"background-color:rgba(255, 0, 0, 0.023341604216865815)\">requested</span></span>"
      ],
      "text/plain": [
       "<IPython.core.display.HTML object>"
      ]
     },
     "metadata": {},
     "output_type": "display_data"
    },
    {
     "name": "stdout",
     "output_type": "stream",
     "text": [
      "\n",
      " The only fault was more coffee should be supplied with the machine in the room \n"
     ]
    },
    {
     "data": {
      "text/html": [
       "<span style=\"font-size:16px; font-family:Times New Roman;\">\n",
       " <span style=\"background-color: rgba(255, 0, 0, 1);\">Number 1 Topic is 13</span> with  probability 0.42061981165717954, Title is: Beverage Making Facilities</span>"
      ],
      "text/plain": [
       "<IPython.core.display.HTML object>"
      ]
     },
     "metadata": {},
     "output_type": "display_data"
    },
    {
     "data": {
      "text/html": [
       "<span style=\"font-size:16px; font-family:Times New Roman;\">\n",
       " <span style=\"background-color: rgba(0, 0, 255, 1);\">Number 2 Topic is 2</span> with  probability 0.09240737440785897, Title is: Hotel Amenities Excellence</span>"
      ],
      "text/plain": [
       "<IPython.core.display.HTML object>"
      ]
     },
     "metadata": {},
     "output_type": "display_data"
    },
    {
     "data": {
      "text/html": [
       "<span style=\"font-size:16px; font-family:Times New Roman;\">\n",
       " <span style=\"background-color: rgba(0, 255, 0, 1);\">Number 3 Topic is 0</span> with  probability 0.08212830014943463, Title is: Hospitality Excellence</span>"
      ],
      "text/plain": [
       "<IPython.core.display.HTML object>"
      ]
     },
     "metadata": {},
     "output_type": "display_data"
    },
    {
     "name": "stdout",
     "output_type": "stream",
     "text": [
      "[13, 2, 0]\n",
      "{13: {'coffee': 0.2282031947175733, 'room': 0.06628162740089448, 'machine': 0.0647516022442641, 'supplied': 0.008485151861913997, 'fault': 0.0010522107289700263}, 2: {'room': 0.02884931166699843, 'coffee': 0.0049844058388023695, 'fault': 0.0020120001272779576, 'machine': 0.000952428637007678, 'supplied': 0.00022534732186170922}, 0: {'room': 0.02927797724444089, 'coffee': 0.003977247101569772, 'machine': 0.001818200479968809, 'fault': 0.0015029758430518492, 'supplied': 0.0006172311391518572}}\n"
     ]
    },
    {
     "data": {
      "text/html": [
       "<span style=\"font-size:20px; font-family:Times New Roman;\">The</span> <span style=\"font-size:20px; font-family:Times New Roman;\">only</span> <span style=\"font-size:20px; font-family:Times New Roman;\"><span style=\"background-color:rgba(0, 0, 255, 0.017457942036606285)\">fault</span></span> <span style=\"font-size:20px; font-family:Times New Roman;\">was</span> <span style=\"font-size:20px; font-family:Times New Roman;\">more</span> <span style=\"font-size:20px; font-family:Times New Roman;\"><span style=\"background-color:rgba(255, 0, 0, 1.0)\">coffee</span></span> <span style=\"font-size:20px; font-family:Times New Roman;\">should</span> <span style=\"font-size:20px; font-family:Times New Roman;\">be</span> <span style=\"font-size:20px; font-family:Times New Roman;\"><span style=\"background-color:rgba(255, 0, 0, 0.03718244116790438)\">supplied</span></span> <span style=\"font-size:20px; font-family:Times New Roman;\">with</span> <span style=\"font-size:20px; font-family:Times New Roman;\">the</span> <span style=\"font-size:20px; font-family:Times New Roman;\"><span style=\"background-color:rgba(255, 0, 0, 0.2837453801836621)\">machine</span></span> <span style=\"font-size:20px; font-family:Times New Roman;\">in</span> <span style=\"font-size:20px; font-family:Times New Roman;\">the</span> <span style=\"font-size:20px; font-family:Times New Roman;\"><span style=\"background-color:rgba(255, 0, 0, 0.29045004160842414)\">room</span></span>"
      ],
      "text/plain": [
       "<IPython.core.display.HTML object>"
      ]
     },
     "metadata": {},
     "output_type": "display_data"
    },
    {
     "name": "stdout",
     "output_type": "stream",
     "text": [
      "\n",
      " they need to have either powdered milk or bottled cold milk in the minibar for in room coffee \n"
     ]
    },
    {
     "data": {
      "text/html": [
       "<span style=\"font-size:16px; font-family:Times New Roman;\">\n",
       " <span style=\"background-color: rgba(255, 0, 0, 1);\">Number 1 Topic is 13</span> with  probability 0.15765481219438227, Title is: Beverage Making Facilities</span>"
      ],
      "text/plain": [
       "<IPython.core.display.HTML object>"
      ]
     },
     "metadata": {},
     "output_type": "display_data"
    },
    {
     "data": {
      "text/html": [
       "<span style=\"font-size:16px; font-family:Times New Roman;\">\n",
       " <span style=\"background-color: rgba(0, 0, 255, 1);\">Number 2 Topic is 2</span> with  probability 0.09444921872105204, Title is: Hotel Amenities Excellence</span>"
      ],
      "text/plain": [
       "<IPython.core.display.HTML object>"
      ]
     },
     "metadata": {},
     "output_type": "display_data"
    },
    {
     "data": {
      "text/html": [
       "<span style=\"font-size:16px; font-family:Times New Roman;\">\n",
       " <span style=\"background-color: rgba(0, 255, 0, 1);\">Number 3 Topic is 0</span> with  probability 0.0778522775929198, Title is: Hospitality Excellence</span>"
      ],
      "text/plain": [
       "<IPython.core.display.HTML object>"
      ]
     },
     "metadata": {},
     "output_type": "display_data"
    },
    {
     "name": "stdout",
     "output_type": "stream",
     "text": [
      "[13, 2, 0]\n",
      "{13: {'coffee': 0.2282031947175733, 'milk': 0.07844041285485223, 'room': 0.06628162740089448, 'minibar': 0.007156587815190902, 'cold': 0.006109761759318396, 'bottled': 0.004414282037079041, 'powdered': 0.0036989335626830765, 'need': 0.003248961719292962, 'either': 0.0011331501851477245}, 2: {'room': 0.02884931166699843, 'coffee': 0.0049844058388023695, 'need': 0.0031062748234554757, 'cold': 0.0029207175661047622, 'minibar': 0.0011403811675264205, 'milk': 0.0007352499124101636, 'either': 0.0005416924229079993, 'bottled': 0.00046893521821947783}, 0: {'room': 0.02927797724444089, 'need': 0.004060709503402192, 'coffee': 0.003977247101569772, 'cold': 0.001177475628217271, 'either': 0.0008092948056583043, 'minibar': 0.0006625666372693373, 'milk': 0.00041192698324533933, 'bottled': 0.00029191445508407546}}\n"
     ]
    },
    {
     "data": {
      "text/html": [
       "<span style=\"font-size:20px; font-family:Times New Roman;\">they</span> <span style=\"font-size:20px; font-family:Times New Roman;\"><span style=\"background-color:rgba(0, 255, 0, 0.08366412007032742)\">need</span></span> <span style=\"font-size:20px; font-family:Times New Roman;\">to</span> <span style=\"font-size:20px; font-family:Times New Roman;\">have</span> <span style=\"font-size:20px; font-family:Times New Roman;\"><span style=\"background-color:rgba(255, 0, 0, 0.0049655316462599184)\">either</span></span> <span style=\"font-size:20px; font-family:Times New Roman;\"><span style=\"background-color:rgba(255, 0, 0, 0.016208947325478576)\">powdered</span></span> <span style=\"font-size:20px; font-family:Times New Roman;\"><span style=\"background-color:rgba(255, 0, 0, 0.3437305641226054)\">milk</span></span> <span style=\"font-size:20px; font-family:Times New Roman;\">or</span> <span style=\"font-size:20px; font-family:Times New Roman;\"><span style=\"background-color:rgba(255, 0, 0, 0.0193436469745404)\">bottled</span></span> <span style=\"font-size:20px; font-family:Times New Roman;\"><span style=\"background-color:rgba(255, 0, 0, 0.026773340166775062)\">cold</span></span> <span style=\"font-size:20px; font-family:Times New Roman;\"><span style=\"background-color:rgba(255, 0, 0, 0.3437305641226054)\">milk</span></span> <span style=\"font-size:20px; font-family:Times New Roman;\">in</span> <span style=\"font-size:20px; font-family:Times New Roman;\">the</span> <span style=\"font-size:20px; font-family:Times New Roman;\"><span style=\"background-color:rgba(255, 0, 0, 0.03136059433369445)\">minibar</span></span> <span style=\"font-size:20px; font-family:Times New Roman;\">for</span> <span style=\"font-size:20px; font-family:Times New Roman;\">in</span> <span style=\"font-size:20px; font-family:Times New Roman;\"><span style=\"background-color:rgba(255, 0, 0, 0.29045004160842414)\">room</span></span> <span style=\"font-size:20px; font-family:Times New Roman;\"><span style=\"background-color:rgba(255, 0, 0, 1.0)\">coffee</span></span>"
      ],
      "text/plain": [
       "<IPython.core.display.HTML object>"
      ]
     },
     "metadata": {},
     "output_type": "display_data"
    },
    {
     "name": "stdout",
     "output_type": "stream",
     "text": [
      "\n",
      " Mattress was lumpy Car parking fee very stiff for just a 24 hr stay \n"
     ]
    },
    {
     "data": {
      "text/html": [
       "<span style=\"font-size:16px; font-family:Times New Roman;\">\n",
       " <span style=\"background-color: rgba(255, 0, 0, 1);\">Number 1 Topic is 14</span> with  probability 1.0, Title is: Hotel Parking Costs</span>"
      ],
      "text/plain": [
       "<IPython.core.display.HTML object>"
      ]
     },
     "metadata": {},
     "output_type": "display_data"
    },
    {
     "data": {
      "text/html": [
       "<span style=\"font-size:16px; font-family:Times New Roman;\">\n",
       " <span style=\"background-color: rgba(0, 0, 255, 1);\">Number 2 Topic is 0</span> with  probability 5.762564716216317e-307, Title is: Hospitality Excellence</span>"
      ],
      "text/plain": [
       "<IPython.core.display.HTML object>"
      ]
     },
     "metadata": {},
     "output_type": "display_data"
    },
    {
     "data": {
      "text/html": [
       "<span style=\"font-size:16px; font-family:Times New Roman;\">\n",
       " <span style=\"background-color: rgba(0, 255, 0, 1);\">Number 3 Topic is 5</span> with  probability 3.963154064605403e-307, Title is: Proximity and Access</span>"
      ],
      "text/plain": [
       "<IPython.core.display.HTML object>"
      ]
     },
     "metadata": {},
     "output_type": "display_data"
    },
    {
     "name": "stdout",
     "output_type": "stream",
     "text": [
      "[14, 0, 5]\n",
      "{14: {'parking': 0.3682271147452055, 'fee': 0.02232660749077248, 'stay': 0.0075060160599114386, 'stiff': 0.0021925692427190702, 'lumpy': 0.0020890106208865354}, 0: {'stay': 0.016456744779990817, 'parking': 0.003327050137966193, 'fee': 0.00021405508318538452}, 5: {'parking': 0.006554943880474343, 'stay': 0.005727323496404397}}\n"
     ]
    },
    {
     "data": {
      "text/html": [
       "<span style=\"font-size:20px; font-family:Times New Roman;\"><span style=\"background-color:rgba(255, 0, 0, 0.003953062606275223)\">Mattress</span></span> <span style=\"font-size:20px; font-family:Times New Roman;\">was</span> <span style=\"font-size:20px; font-family:Times New Roman;\"><span style=\"background-color:rgba(255, 0, 0, 0.005673158051742129)\">lumpy</span></span> <span style=\"font-size:20px; font-family:Times New Roman;\"><span style=\"background-color:rgba(255, 0, 0, 0.4601563000595032)\">Car</span></span> <span style=\"font-size:20px; font-family:Times New Roman;\"><span style=\"background-color:rgba(255, 0, 0, 1.0)\">parking</span></span> <span style=\"font-size:20px; font-family:Times New Roman;\"><span style=\"background-color:rgba(255, 0, 0, 0.06063270899054069)\">fee</span></span> <span style=\"font-size:20px; font-family:Times New Roman;\">very</span> <span style=\"font-size:20px; font-family:Times New Roman;\"><span style=\"background-color:rgba(255, 0, 0, 0.005954393782859302)\">stiff</span></span> <span style=\"font-size:20px; font-family:Times New Roman;\">for</span> <span style=\"font-size:20px; font-family:Times New Roman;\">just</span> <span style=\"font-size:20px; font-family:Times New Roman;\">a</span> <span style=\"font-size:20px; font-family:Times New Roman;\">24</span> <span style=\"font-size:20px; font-family:Times New Roman;\">hr</span> <span style=\"font-size:20px; font-family:Times New Roman;\"><span style=\"background-color:rgba(0, 0, 255, 0.3390636710373707)\">stay</span></span>"
      ],
      "text/plain": [
       "<IPython.core.display.HTML object>"
      ]
     },
     "metadata": {},
     "output_type": "display_data"
    },
    {
     "name": "stdout",
     "output_type": "stream",
     "text": [
      "\n",
      " Parking garage is over 20 euro s but it is possible to park outside for a lot less Paying only needed till 1900 Dinner is expensive \n"
     ]
    },
    {
     "data": {
      "text/html": [
       "<span style=\"font-size:16px; font-family:Times New Roman;\">\n",
       " <span style=\"background-color: rgba(255, 0, 0, 1);\">Number 1 Topic is 14</span> with  probability 1.0, Title is: Hotel Parking Costs</span>"
      ],
      "text/plain": [
       "<IPython.core.display.HTML object>"
      ]
     },
     "metadata": {},
     "output_type": "display_data"
    },
    {
     "data": {
      "text/html": [
       "<span style=\"font-size:16px; font-family:Times New Roman;\">\n",
       " <span style=\"background-color: rgba(0, 0, 255, 1);\">Number 2 Topic is 0</span> with  probability 5.976141141715084e-307, Title is: Hospitality Excellence</span>"
      ],
      "text/plain": [
       "<IPython.core.display.HTML object>"
      ]
     },
     "metadata": {},
     "output_type": "display_data"
    },
    {
     "data": {
      "text/html": [
       "<span style=\"font-size:16px; font-family:Times New Roman;\">\n",
       " <span style=\"background-color: rgba(0, 255, 0, 1);\">Number 3 Topic is 5</span> with  probability 4.265106246664349e-307, Title is: Proximity and Access</span>"
      ],
      "text/plain": [
       "<IPython.core.display.HTML object>"
      ]
     },
     "metadata": {},
     "output_type": "display_data"
    },
    {
     "name": "stdout",
     "output_type": "stream",
     "text": [
      "[14, 0, 5]\n",
      "{14: {'park': 0.10693834574036833, 'expensive': 0.051114172434717636, 'euro': 0.027100956017597922, 'garage': 0.015932428448305426, 'outside': 0.01264204520808318, 'lot': 0.011500644622866074, 'possible': 0.005771757421850641, 'needed': 0.004600257849146429, 'less': 0.004108418587340881, 'till': 0.001586931459703482}, 0: {'park': 0.0059552645494185055, 'outside': 0.004595685469659412, 'needed': 0.003726848100627459, 'lot': 0.0033326622438303237, 'less': 0.0021335833035542643, 'expensive': 0.0020270424949771614, 'possible': 0.001168981385950884, 'euro': 0.0009333326835430193, 'till': 0.0005933699996523118, 'garage': 0.00033096105082495075}, 5: {'park': 0.020757865146623297, 'outside': 0.007304605531861604, 'needed': 0.004616596763262885, 'less': 0.0024987943132646503, 'lot': 0.002098453074210402, 'euro': 0.002082083179602965, 'expensive': 0.002034871403195676, 'garage': 0.001938062578423356, 'possible': 0.0005265688360371583}}\n"
     ]
    },
    {
     "data": {
      "text/html": [
       "<span style=\"font-size:20px; font-family:Times New Roman;\"><span style=\"background-color:rgba(255, 0, 0, 1.0)\">Parking</span></span> <span style=\"font-size:20px; font-family:Times New Roman;\"><span style=\"background-color:rgba(255, 0, 0, 0.043267939297001144)\">garage</span></span> <span style=\"font-size:20px; font-family:Times New Roman;\">is</span> <span style=\"font-size:20px; font-family:Times New Roman;\">over</span> <span style=\"font-size:20px; font-family:Times New Roman;\">20</span> <span style=\"font-size:20px; font-family:Times New Roman;\"><span style=\"background-color:rgba(255, 0, 0, 0.07359848021064504)\">euro</span></span> <span style=\"font-size:20px; font-family:Times New Roman;\">s</span> <span style=\"font-size:20px; font-family:Times New Roman;\">but</span> <span style=\"font-size:20px; font-family:Times New Roman;\">it</span> <span style=\"font-size:20px; font-family:Times New Roman;\">is</span> <span style=\"font-size:20px; font-family:Times New Roman;\"><span style=\"background-color:rgba(255, 0, 0, 0.015674449791250177)\">possible</span></span> <span style=\"font-size:20px; font-family:Times New Roman;\">to</span> <span style=\"font-size:20px; font-family:Times New Roman;\"><span style=\"background-color:rgba(255, 0, 0, 0.29041409895728143)\">park</span></span> <span style=\"font-size:20px; font-family:Times New Roman;\"><span style=\"background-color:rgba(255, 0, 0, 0.034332195272558444)\">outside</span></span> <span style=\"font-size:20px; font-family:Times New Roman;\">for</span> <span style=\"font-size:20px; font-family:Times New Roman;\">a</span> <span style=\"font-size:20px; font-family:Times New Roman;\"><span style=\"background-color:rgba(255, 0, 0, 0.03123247626895683)\">lot</span></span> <span style=\"font-size:20px; font-family:Times New Roman;\"><span style=\"background-color:rgba(255, 0, 0, 0.011157295111696754)\">less</span></span> <span style=\"font-size:20px; font-family:Times New Roman;\"><span style=\"background-color:rgba(255, 0, 0, 0.03632980229004871)\">Paying</span></span> <span style=\"font-size:20px; font-family:Times New Roman;\">only</span> <span style=\"font-size:20px; font-family:Times New Roman;\"><span style=\"background-color:rgba(0, 255, 0, 0.03257076372676015)\">needed</span></span> <span style=\"font-size:20px; font-family:Times New Roman;\"><span style=\"background-color:rgba(255, 0, 0, 0.00430965400470728)\">till</span></span> <span style=\"font-size:20px; font-family:Times New Roman;\">1900</span> <span style=\"font-size:20px; font-family:Times New Roman;\"><span style=\"background-color:rgba(255, 0, 0, 0.0035958699704979873)\">Dinner</span></span> <span style=\"font-size:20px; font-family:Times New Roman;\">is</span> <span style=\"font-size:20px; font-family:Times New Roman;\"><span style=\"background-color:rgba(255, 0, 0, 0.13881153882458128)\">expensive</span></span>"
      ],
      "text/plain": [
       "<IPython.core.display.HTML object>"
      ]
     },
     "metadata": {},
     "output_type": "display_data"
    },
    {
     "name": "stdout",
     "output_type": "stream",
     "text": [
      "\n",
      " Room is small driving and finding parking is a nightmare \n"
     ]
    },
    {
     "data": {
      "text/html": [
       "<span style=\"font-size:16px; font-family:Times New Roman;\">\n",
       " <span style=\"background-color: rgba(255, 0, 0, 1);\">Number 1 Topic is 14</span> with  probability 1.0, Title is: Hotel Parking Costs</span>"
      ],
      "text/plain": [
       "<IPython.core.display.HTML object>"
      ]
     },
     "metadata": {},
     "output_type": "display_data"
    },
    {
     "data": {
      "text/html": [
       "<span style=\"font-size:16px; font-family:Times New Roman;\">\n",
       " <span style=\"background-color: rgba(0, 0, 255, 1);\">Number 2 Topic is 0</span> with  probability 5.965728267532866e-307, Title is: Hospitality Excellence</span>"
      ],
      "text/plain": [
       "<IPython.core.display.HTML object>"
      ]
     },
     "metadata": {},
     "output_type": "display_data"
    },
    {
     "data": {
      "text/html": [
       "<span style=\"font-size:16px; font-family:Times New Roman;\">\n",
       " <span style=\"background-color: rgba(0, 255, 0, 1);\">Number 3 Topic is 5</span> with  probability 4.282356292181776e-307, Title is: Proximity and Access</span>"
      ],
      "text/plain": [
       "<IPython.core.display.HTML object>"
      ]
     },
     "metadata": {},
     "output_type": "display_data"
    },
    {
     "name": "stdout",
     "output_type": "stream",
     "text": [
      "[14, 0, 5]\n",
      "{14: {'parking': 0.3682271147452055, 'driving': 0.010121178732863811, 'nightmare': 0.0097629620999862, 'small': 0.005553721458880925, 'finding': 0.001866871939907884}, 0: {'small': 0.0065374242710352385, 'parking': 0.003327050137966193, 'finding': 0.000698042625319832, 'driving': 0.0003784412858210355, 'nightmare': 6.084119956212827e-05}, 5: {'parking': 0.006554943880474343, 'small': 0.00022518977077405693}}\n"
     ]
    },
    {
     "data": {
      "text/html": [
       "<span style=\"font-size:20px; font-family:Times New Roman;\"><span style=\"background-color:rgba(0, 0, 255, 0.6032236981106217)\">Room</span></span> <span style=\"font-size:20px; font-family:Times New Roman;\">is</span> <span style=\"font-size:20px; font-family:Times New Roman;\"><span style=\"background-color:rgba(0, 0, 255, 0.13469268084907687)\">small</span></span> <span style=\"font-size:20px; font-family:Times New Roman;\"><span style=\"background-color:rgba(255, 0, 0, 0.027486239680820774)\">driving</span></span> <span style=\"font-size:20px; font-family:Times New Roman;\">and</span> <span style=\"font-size:20px; font-family:Times New Roman;\"><span style=\"background-color:rgba(255, 0, 0, 0.00506989264275029)\">finding</span></span> <span style=\"font-size:20px; font-family:Times New Roman;\"><span style=\"background-color:rgba(255, 0, 0, 1.0)\">parking</span></span> <span style=\"font-size:20px; font-family:Times New Roman;\">is</span> <span style=\"font-size:20px; font-family:Times New Roman;\">a</span> <span style=\"font-size:20px; font-family:Times New Roman;\"><span style=\"background-color:rgba(255, 0, 0, 0.026513425299333742)\">nightmare</span></span>"
      ],
      "text/plain": [
       "<IPython.core.display.HTML object>"
      ]
     },
     "metadata": {},
     "output_type": "display_data"
    },
    {
     "name": "stdout",
     "output_type": "stream",
     "text": [
      "\n",
      " Breakfast is a little bit expensive Carpet in hallways should be changed here and there \n"
     ]
    },
    {
     "data": {
      "text/html": [
       "<span style=\"font-size:16px; font-family:Times New Roman;\">\n",
       " <span style=\"background-color: rgba(255, 0, 0, 1);\">Number 1 Topic is 2</span> with  probability 0.26120483788678506, Title is: Hotel Amenities Excellence</span>"
      ],
      "text/plain": [
       "<IPython.core.display.HTML object>"
      ]
     },
     "metadata": {},
     "output_type": "display_data"
    },
    {
     "data": {
      "text/html": [
       "<span style=\"font-size:16px; font-family:Times New Roman;\">\n",
       " <span style=\"background-color: rgba(0, 0, 255, 1);\">Number 2 Topic is 0</span> with  probability 0.12052725344302045, Title is: Hospitality Excellence</span>"
      ],
      "text/plain": [
       "<IPython.core.display.HTML object>"
      ]
     },
     "metadata": {},
     "output_type": "display_data"
    },
    {
     "data": {
      "text/html": [
       "<span style=\"font-size:16px; font-family:Times New Roman;\">\n",
       " <span style=\"background-color: rgba(0, 255, 0, 1);\">Number 3 Topic is 8</span> with  probability 0.0354647930180067, Title is: Breakfast and Pricing</span>"
      ],
      "text/plain": [
       "<IPython.core.display.HTML object>"
      ]
     },
     "metadata": {},
     "output_type": "display_data"
    },
    {
     "name": "stdout",
     "output_type": "stream",
     "text": [
      "[2, 0, 8]\n",
      "{2: {'expensive': 0.008373259830556945, 'little': 0.006489111778321789, 'bit': 0.005709074486491888, 'changed': 0.00106875429066532, 'hallways': 0.00023534232341789713}, 0: {'little': 0.005150367162280177, 'bit': 0.00356639656508472, 'expensive': 0.0020270424949771614, 'changed': 0.00048789014727054303, 'hallways': 0.00017580208974605563}, 8: {'expensive': 0.05794959865622467, 'bit': 0.020347531610604135, 'little': 0.01865483994298904, 'changed': 0.00204829678923079}}\n"
     ]
    },
    {
     "data": {
      "text/html": [
       "<span style=\"font-size:20px; font-family:Times New Roman;\"><span style=\"background-color:rgba(0, 255, 0, 1.0)\">Breakfast</span></span> <span style=\"font-size:20px; font-family:Times New Roman;\">is</span> <span style=\"font-size:20px; font-family:Times New Roman;\">a</span> <span style=\"font-size:20px; font-family:Times New Roman;\"><span style=\"background-color:rgba(0, 255, 0, 0.08165036450525252)\">little</span></span> <span style=\"font-size:20px; font-family:Times New Roman;\"><span style=\"background-color:rgba(0, 255, 0, 0.08905910626225264)\">bit</span></span> <span style=\"font-size:20px; font-family:Times New Roman;\"><span style=\"background-color:rgba(0, 255, 0, 0.2536395845621872)\">expensive</span></span> <span style=\"font-size:20px; font-family:Times New Roman;\"><span style=\"background-color:rgba(0, 255, 0, 0.006078310253741319)\">Carpet</span></span> <span style=\"font-size:20px; font-family:Times New Roman;\">in</span> <span style=\"font-size:20px; font-family:Times New Roman;\"><span style=\"background-color:rgba(255, 0, 0, 0.0020420439269794822)\">hallways</span></span> <span style=\"font-size:20px; font-family:Times New Roman;\">should</span> <span style=\"font-size:20px; font-family:Times New Roman;\">be</span> <span style=\"font-size:20px; font-family:Times New Roman;\"><span style=\"background-color:rgba(0, 255, 0, 0.00896518972913981)\">changed</span></span> <span style=\"font-size:20px; font-family:Times New Roman;\">here</span> <span style=\"font-size:20px; font-family:Times New Roman;\">and</span> <span style=\"font-size:20px; font-family:Times New Roman;\">there</span>"
      ],
      "text/plain": [
       "<IPython.core.display.HTML object>"
      ]
     },
     "metadata": {},
     "output_type": "display_data"
    },
    {
     "name": "stdout",
     "output_type": "stream",
     "text": [
      "\n",
      " We had two terrible night sleeps due to mattress being too hard and pillows not to our liking Didn t realise that breakfast was not included with the room Breakfast was quite pricy as a result with not a lot of flexibility in the choices i e I could have egg benedicts but not allowed any fresh fruits from the buffet \n"
     ]
    },
    {
     "data": {
      "text/html": [
       "<span style=\"font-size:16px; font-family:Times New Roman;\">\n",
       " <span style=\"background-color: rgba(255, 0, 0, 1);\">Number 1 Topic is 2</span> with  probability 1.0, Title is: Hotel Amenities Excellence</span>"
      ],
      "text/plain": [
       "<IPython.core.display.HTML object>"
      ]
     },
     "metadata": {},
     "output_type": "display_data"
    },
    {
     "data": {
      "text/html": [
       "<span style=\"font-size:16px; font-family:Times New Roman;\">\n",
       " <span style=\"background-color: rgba(0, 0, 255, 1);\">Number 2 Topic is 0</span> with  probability 6.907405844184542e-307, Title is: Hospitality Excellence</span>"
      ],
      "text/plain": [
       "<IPython.core.display.HTML object>"
      ]
     },
     "metadata": {},
     "output_type": "display_data"
    },
    {
     "data": {
      "text/html": [
       "<span style=\"font-size:16px; font-family:Times New Roman;\">\n",
       " <span style=\"background-color: rgba(0, 255, 0, 1);\">Number 3 Topic is 5</span> with  probability 1.6737614704235398e-307, Title is: Proximity and Access</span>"
      ],
      "text/plain": [
       "<IPython.core.display.HTML object>"
      ]
     },
     "metadata": {},
     "output_type": "display_data"
    },
    {
     "name": "stdout",
     "output_type": "stream",
     "text": [
      "[2, 0, 5]\n",
      "{2: {'breakfast': 0.11524841376258102, 'room': 0.02884931166699843, 'buffet': 0.017429381240888844, 'fresh': 0.00967226790885718, 'included': 0.008237371551833496, 'could': 0.0077695018947627125, 'quite': 0.006677011039744786, 'night': 0.005991518570758728, 'choices': 0.0034932923541490858, 'lot': 0.002878297010972517, 'pillows': 0.0028380128069645898, 'hard': 0.002672734243246859, 'two': 0.0019521570572927848, 'egg': 0.001762685723291256, 'due': 0.0015494840151366737, 'pricy': 0.001266527201283983, 'fruits': 0.001181193357683028, 'mattress': 0.0010929093344229951, 'terrible': 0.0010904884003053777, 'flexibility': 0.0006103264420451253, 'allowed': 0.0006016743646158882, 'realise': 0.0004909862672826478, 'benedicts': 0.00037029704274426923, 'sleeps': 0.00030516322102256267, 'liking': 0.0002579488022656346, 'result': 0.00024006364996036154}, 0: {'room': 0.02927797724444089, 'breakfast': 0.011407779818943154, 'quite': 0.005541962481607148, 'could': 0.0055339161517924135, 'night': 0.005173523449781533, 'lot': 0.0033326622438303237, 'two': 0.003159590894096046, 'fresh': 0.0027191765713372638, 'pillows': 0.00257934810102334, 'buffet': 0.002059637217944311, 'included': 0.001684849843780137, 'hard': 0.0013310320571176047, 'choices': 0.0012081063822782573, 'due': 0.0011188911531164905, 'allowed': 0.0009987872522593656, 'mattress': 0.0007710535623574004, 'fruits': 0.00035294333404893173, 'egg': 0.00021945608792309462, 'pricy': 0.00018922064291051775, 'realise': 0.0001833848042530645, 'result': 0.00011955263216058851, 'liking': 6.422975381449822e-05, 'terrible': 4.525562235217749e-05}, 5: {'quite': 0.007515425361410283, 'could': 0.003688471294705313, 'two': 0.002846481765155605, 'night': 0.0022545447181494646, 'lot': 0.002098453074210402, 'hard': 0.0017320758669010484, 'included': 0.0008579347733579159, 'room': 0.0007605115574459432, 'realise': 0.0007159175290434961, 'allowed': 0.0005848761334861684, 'terrible': 0.0005300214507138768, 'due': 0.00045186712595790237}}\n"
     ]
    },
    {
     "data": {
      "text/html": [
       "<span style=\"font-size:20px; font-family:Times New Roman;\">We</span> <span style=\"font-size:20px; font-family:Times New Roman;\">had</span> <span style=\"font-size:20px; font-family:Times New Roman;\"><span style=\"background-color:rgba(0, 0, 255, 0.06509807995752678)\">two</span></span> <span style=\"font-size:20px; font-family:Times New Roman;\"><span style=\"background-color:rgba(255, 0, 0, 0.009462068628136196)\">terrible</span></span> <span style=\"font-size:20px; font-family:Times New Roman;\"><span style=\"background-color:rgba(255, 0, 0, 0.05198786148242902)\">night</span></span> <span style=\"font-size:20px; font-family:Times New Roman;\"><span style=\"background-color:rgba(255, 0, 0, 0.002647873502634215)\">sleeps</span></span> <span style=\"font-size:20px; font-family:Times New Roman;\"><span style=\"background-color:rgba(255, 0, 0, 0.01344473181495329)\">due</span></span> <span style=\"font-size:20px; font-family:Times New Roman;\">to</span> <span style=\"font-size:20px; font-family:Times New Roman;\"><span style=\"background-color:rgba(255, 0, 0, 0.009483074853198908)\">mattress</span></span> <span style=\"font-size:20px; font-family:Times New Roman;\">being</span> <span style=\"font-size:20px; font-family:Times New Roman;\">too</span> <span style=\"font-size:20px; font-family:Times New Roman;\"><span style=\"background-color:rgba(255, 0, 0, 0.023191071842019965)\">hard</span></span> <span style=\"font-size:20px; font-family:Times New Roman;\">and</span> <span style=\"font-size:20px; font-family:Times New Roman;\"><span style=\"background-color:rgba(255, 0, 0, 0.02462517890103958)\">pillows</span></span> <span style=\"font-size:20px; font-family:Times New Roman;\">not</span> <span style=\"font-size:20px; font-family:Times New Roman;\">to</span> <span style=\"font-size:20px; font-family:Times New Roman;\">our</span> <span style=\"font-size:20px; font-family:Times New Roman;\"><span style=\"background-color:rgba(255, 0, 0, 0.0022381982870239357)\">liking</span></span> <span style=\"font-size:20px; font-family:Times New Roman;\">Didn</span> <span style=\"font-size:20px; font-family:Times New Roman;\">t</span> <span style=\"font-size:20px; font-family:Times New Roman;\"><span style=\"background-color:rgba(0, 255, 0, 0.005050902619842662)\">realise</span></span> <span style=\"font-size:20px; font-family:Times New Roman;\">that</span> <span style=\"font-size:20px; font-family:Times New Roman;\"><span style=\"background-color:rgba(255, 0, 0, 1.0)\">breakfast</span></span> <span style=\"font-size:20px; font-family:Times New Roman;\">was</span> <span style=\"font-size:20px; font-family:Times New Roman;\">not</span> <span style=\"font-size:20px; font-family:Times New Roman;\"><span style=\"background-color:rgba(255, 0, 0, 0.07147492345363642)\">included</span></span> <span style=\"font-size:20px; font-family:Times New Roman;\">with</span> <span style=\"font-size:20px; font-family:Times New Roman;\">the</span> <span style=\"font-size:20px; font-family:Times New Roman;\"><span style=\"background-color:rgba(0, 0, 255, 0.6032236981106217)\">room</span></span> <span style=\"font-size:20px; font-family:Times New Roman;\"><span style=\"background-color:rgba(255, 0, 0, 1.0)\">Breakfast</span></span> <span style=\"font-size:20px; font-family:Times New Roman;\">was</span> <span style=\"font-size:20px; font-family:Times New Roman;\"><span style=\"background-color:rgba(0, 255, 0, 0.05302242242607935)\">quite</span></span> <span style=\"font-size:20px; font-family:Times New Roman;\"><span style=\"background-color:rgba(255, 0, 0, 0.010989541286816394)\">pricy</span></span> <span style=\"font-size:20px; font-family:Times New Roman;\">as</span> <span style=\"font-size:20px; font-family:Times New Roman;\">a</span> <span style=\"font-size:20px; font-family:Times New Roman;\"><span style=\"background-color:rgba(255, 0, 0, 0.0020830104478045813)\">result</span></span> <span style=\"font-size:20px; font-family:Times New Roman;\">with</span> <span style=\"font-size:20px; font-family:Times New Roman;\">not</span> <span style=\"font-size:20px; font-family:Times New Roman;\">a</span> <span style=\"font-size:20px; font-family:Times New Roman;\"><span style=\"background-color:rgba(0, 0, 255, 0.06866392532833465)\">lot</span></span> <span style=\"font-size:20px; font-family:Times New Roman;\">of</span> <span style=\"font-size:20px; font-family:Times New Roman;\"><span style=\"background-color:rgba(255, 0, 0, 0.00529574700526843)\">flexibility</span></span> <span style=\"font-size:20px; font-family:Times New Roman;\">in</span> <span style=\"font-size:20px; font-family:Times New Roman;\">the</span> <span style=\"font-size:20px; font-family:Times New Roman;\"><span style=\"background-color:rgba(255, 0, 0, 0.030310979909411055)\">choices</span></span> <span style=\"font-size:20px; font-family:Times New Roman;\">i</span> <span style=\"font-size:20px; font-family:Times New Roman;\">e</span> <span style=\"font-size:20px; font-family:Times New Roman;\">I</span> <span style=\"font-size:20px; font-family:Times New Roman;\"><span style=\"background-color:rgba(255, 0, 0, 0.06741526100973828)\">could</span></span> <span style=\"font-size:20px; font-family:Times New Roman;\">have</span> <span style=\"font-size:20px; font-family:Times New Roman;\"><span style=\"background-color:rgba(255, 0, 0, 0.015294663637822378)\">egg</span></span> <span style=\"font-size:20px; font-family:Times New Roman;\"><span style=\"background-color:rgba(255, 0, 0, 0.00321303374731998)\">benedicts</span></span> <span style=\"font-size:20px; font-family:Times New Roman;\">but</span> <span style=\"font-size:20px; font-family:Times New Roman;\">not</span> <span style=\"font-size:20px; font-family:Times New Roman;\"><span style=\"background-color:rgba(0, 0, 255, 0.02057833896458944)\">allowed</span></span> <span style=\"font-size:20px; font-family:Times New Roman;\">any</span> <span style=\"font-size:20px; font-family:Times New Roman;\"><span style=\"background-color:rgba(255, 0, 0, 0.0839253885852404)\">fresh</span></span> <span style=\"font-size:20px; font-family:Times New Roman;\"><span style=\"background-color:rgba(255, 0, 0, 0.01024910729024315)\">fruits</span></span> <span style=\"font-size:20px; font-family:Times New Roman;\">from</span> <span style=\"font-size:20px; font-family:Times New Roman;\">the</span> <span style=\"font-size:20px; font-family:Times New Roman;\"><span style=\"background-color:rgba(255, 0, 0, 0.1512331551633714)\">buffet</span></span>"
      ],
      "text/plain": [
       "<IPython.core.display.HTML object>"
      ]
     },
     "metadata": {},
     "output_type": "display_data"
    },
    {
     "name": "stdout",
     "output_type": "stream",
     "text": [
      "\n",
      " Breakfast was a bit of a hassle as they wanted us to eat in a side room as a guest of the hotel but we wanted to eat in the glass enclosed room We had to ask many times \n"
     ]
    },
    {
     "data": {
      "text/html": [
       "<span style=\"font-size:16px; font-family:Times New Roman;\">\n",
       " <span style=\"background-color: rgba(255, 0, 0, 1);\">Number 1 Topic is 2</span> with  probability 0.30577313574267695, Title is: Hotel Amenities Excellence</span>"
      ],
      "text/plain": [
       "<IPython.core.display.HTML object>"
      ]
     },
     "metadata": {},
     "output_type": "display_data"
    },
    {
     "data": {
      "text/html": [
       "<span style=\"font-size:16px; font-family:Times New Roman;\">\n",
       " <span style=\"background-color: rgba(0, 0, 255, 1);\">Number 2 Topic is 0</span> with  probability 0.16567352110267122, Title is: Hospitality Excellence</span>"
      ],
      "text/plain": [
       "<IPython.core.display.HTML object>"
      ]
     },
     "metadata": {},
     "output_type": "display_data"
    },
    {
     "data": {
      "text/html": [
       "<span style=\"font-size:16px; font-family:Times New Roman;\">\n",
       " <span style=\"background-color: rgba(0, 255, 0, 1);\">Number 3 Topic is 5</span> with  probability 0.038249550034090106, Title is: Proximity and Access</span>"
      ],
      "text/plain": [
       "<IPython.core.display.HTML object>"
      ]
     },
     "metadata": {},
     "output_type": "display_data"
    },
    {
     "name": "stdout",
     "output_type": "stream",
     "text": [
      "[2, 0, 5]\n",
      "{2: {'room': 0.02884931166699843, 'hotel': 0.017743692380512918, 'bit': 0.005709074486491888, 'eat': 0.004933046426264577, 'wanted': 0.0029696592643779804, 'many': 0.0025210464855380025, 'side': 0.0024002217533908585, 'ask': 0.001865093515567367, 'times': 0.0017624354294427024, 'glass': 0.001230899341838635, 'guest': 0.0010490176862525723, 'enclosed': 0.0002904263641984775, 'hassle': 0.00024006364996036154}, 0: {'hotel': 0.048535853840198054, 'room': 0.02927797724444089, 'many': 0.005579959836948519, 'bit': 0.00356639656508472, 'side': 0.0022038708376959718, 'wanted': 0.0020237604584214565, 'times': 0.0017188285877470962, 'eat': 0.0013511719775577496, 'guest': 0.0013060372279936295, 'ask': 0.0012771327674628978, 'glass': 0.0008757038052547606, 'hassle': 0.0003586578964817655, 'enclosed': 7.231672994743423e-05}, 5: {'bit': 0.020446196966246322, 'many': 0.006943539597649497, 'wanted': 0.0036464197011731943, 'side': 0.002187384023429845, 'times': 0.002141537183800315, 'hassle': 0.00140016767510808, 'guest': 0.0010197300140678278, 'room': 0.0007605115574459432, 'hotel': 0.0007554001637822298}}\n"
     ]
    },
    {
     "data": {
      "text/html": [
       "<span style=\"font-size:20px; font-family:Times New Roman;\"><span style=\"background-color:rgba(255, 0, 0, 1.0)\">Breakfast</span></span> <span style=\"font-size:20px; font-family:Times New Roman;\">was</span> <span style=\"font-size:20px; font-family:Times New Roman;\">a</span> <span style=\"font-size:20px; font-family:Times New Roman;\"><span style=\"background-color:rgba(0, 255, 0, 0.14425090269909888)\">bit</span></span> <span style=\"font-size:20px; font-family:Times New Roman;\">of</span> <span style=\"font-size:20px; font-family:Times New Roman;\">a</span> <span style=\"font-size:20px; font-family:Times New Roman;\"><span style=\"background-color:rgba(0, 255, 0, 0.009878387232494679)\">hassle</span></span> <span style=\"font-size:20px; font-family:Times New Roman;\">as</span> <span style=\"font-size:20px; font-family:Times New Roman;\">they</span> <span style=\"font-size:20px; font-family:Times New Roman;\"><span style=\"background-color:rgba(0, 255, 0, 0.02572602300478468)\">wanted</span></span> <span style=\"font-size:20px; font-family:Times New Roman;\">us</span> <span style=\"font-size:20px; font-family:Times New Roman;\">to</span> <span style=\"font-size:20px; font-family:Times New Roman;\"><span style=\"background-color:rgba(255, 0, 0, 0.042803594992873076)\">eat</span></span> <span style=\"font-size:20px; font-family:Times New Roman;\">in</span> <span style=\"font-size:20px; font-family:Times New Roman;\">a</span> <span style=\"font-size:20px; font-family:Times New Roman;\"><span style=\"background-color:rgba(255, 0, 0, 0.02082650576289463)\">side</span></span> <span style=\"font-size:20px; font-family:Times New Roman;\"><span style=\"background-color:rgba(0, 0, 255, 0.6032236981106217)\">room</span></span> <span style=\"font-size:20px; font-family:Times New Roman;\">as</span> <span style=\"font-size:20px; font-family:Times New Roman;\">a</span> <span style=\"font-size:20px; font-family:Times New Roman;\"><span style=\"background-color:rgba(0, 0, 255, 0.026908710255591543)\">guest</span></span> <span style=\"font-size:20px; font-family:Times New Roman;\">of</span> <span style=\"font-size:20px; font-family:Times New Roman;\">the</span> <span style=\"font-size:20px; font-family:Times New Roman;\"><span style=\"background-color:rgba(0, 0, 255, 1.0)\">hotel</span></span> <span style=\"font-size:20px; font-family:Times New Roman;\">but</span> <span style=\"font-size:20px; font-family:Times New Roman;\">we</span> <span style=\"font-size:20px; font-family:Times New Roman;\"><span style=\"background-color:rgba(0, 255, 0, 0.02572602300478468)\">wanted</span></span> <span style=\"font-size:20px; font-family:Times New Roman;\">to</span> <span style=\"font-size:20px; font-family:Times New Roman;\"><span style=\"background-color:rgba(255, 0, 0, 0.042803594992873076)\">eat</span></span> <span style=\"font-size:20px; font-family:Times New Roman;\">in</span> <span style=\"font-size:20px; font-family:Times New Roman;\">the</span> <span style=\"font-size:20px; font-family:Times New Roman;\"><span style=\"background-color:rgba(255, 0, 0, 0.010680401592115316)\">glass</span></span> <span style=\"font-size:20px; font-family:Times New Roman;\"><span style=\"background-color:rgba(255, 0, 0, 0.0025200031368481485)\">enclosed</span></span> <span style=\"font-size:20px; font-family:Times New Roman;\"><span style=\"background-color:rgba(0, 0, 255, 0.6032236981106217)\">room</span></span> <span style=\"font-size:20px; font-family:Times New Roman;\">We</span> <span style=\"font-size:20px; font-family:Times New Roman;\">had</span> <span style=\"font-size:20px; font-family:Times New Roman;\">to</span> <span style=\"font-size:20px; font-family:Times New Roman;\"><span style=\"background-color:rgba(255, 0, 0, 0.016183246733526214)\">ask</span></span> <span style=\"font-size:20px; font-family:Times New Roman;\"><span style=\"background-color:rgba(0, 255, 0, 0.04898768492455551)\">many</span></span> <span style=\"font-size:20px; font-family:Times New Roman;\"><span style=\"background-color:rgba(0, 255, 0, 0.015108857282205632)\">times</span></span>"
      ],
      "text/plain": [
       "<IPython.core.display.HTML object>"
      ]
     },
     "metadata": {},
     "output_type": "display_data"
    },
    {
     "name": "stdout",
     "output_type": "stream",
     "text": [
      "\n",
      " Some parts of the hotel are very confusing Have to take multiple lifts and routes to get to your room \n"
     ]
    },
    {
     "data": {
      "text/html": [
       "<span style=\"font-size:16px; font-family:Times New Roman;\">\n",
       " <span style=\"background-color: rgba(255, 0, 0, 1);\">Number 1 Topic is 15</span> with  probability 1.0, Title is: Elevator and Accessibility</span>"
      ],
      "text/plain": [
       "<IPython.core.display.HTML object>"
      ]
     },
     "metadata": {},
     "output_type": "display_data"
    },
    {
     "data": {
      "text/html": [
       "<span style=\"font-size:16px; font-family:Times New Roman;\">\n",
       " <span style=\"background-color: rgba(0, 0, 255, 1);\">Number 2 Topic is 0</span> with  probability 5.61066895952114e-307, Title is: Hospitality Excellence</span>"
      ],
      "text/plain": [
       "<IPython.core.display.HTML object>"
      ]
     },
     "metadata": {},
     "output_type": "display_data"
    },
    {
     "data": {
      "text/html": [
       "<span style=\"font-size:16px; font-family:Times New Roman;\">\n",
       " <span style=\"background-color: rgba(0, 255, 0, 1);\">Number 3 Topic is 10</span> with  probability 4.6060044465989165e-307, Title is: Room Lighting</span>"
      ],
      "text/plain": [
       "<IPython.core.display.HTML object>"
      ]
     },
     "metadata": {},
     "output_type": "display_data"
    },
    {
     "name": "stdout",
     "output_type": "stream",
     "text": [
      "[15, 0, 10]\n",
      "{15: {'lifts': 0.11537843659648478, 'room': 0.027535552176971678, 'get': 0.01604337606062659, 'hotel': 0.012745857504103739, 'take': 0.012075708292470656, 'confusing': 0.011374677823007473, 'routes': 0.002143820678918144, 'multiple': 0.001902321453677187, 'parts': 0.0018167169787009633}, 0: {'hotel': 0.048535853840198054, 'room': 0.02927797724444089, 'get': 0.007358044681552877, 'take': 0.0031531848121245697, 'multiple': 0.0006353528059744365, 'routes': 0.000585826922679791, 'parts': 0.0004964415762374262, 'lifts': 0.00044912621858949405, 'confusing': 0.00011512143942535966}, 10: {'room': 0.1034651188198979, 'get': 0.004653770790444964, 'parts': 0.0033375581960359856, 'hotel': 0.0028185791029858766, 'lifts': 0.000905837643536397, 'take': 0.0007394910646877228}}\n"
     ]
    },
    {
     "data": {
      "text/html": [
       "<span style=\"font-size:20px; font-family:Times New Roman;\">Some</span> <span style=\"font-size:20px; font-family:Times New Roman;\"><span style=\"background-color:rgba(0, 255, 0, 0.02907551567899204)\">parts</span></span> <span style=\"font-size:20px; font-family:Times New Roman;\">of</span> <span style=\"font-size:20px; font-family:Times New Roman;\">the</span> <span style=\"font-size:20px; font-family:Times New Roman;\"><span style=\"background-color:rgba(0, 0, 255, 1.0)\">hotel</span></span> <span style=\"font-size:20px; font-family:Times New Roman;\">are</span> <span style=\"font-size:20px; font-family:Times New Roman;\">very</span> <span style=\"font-size:20px; font-family:Times New Roman;\"><span style=\"background-color:rgba(255, 0, 0, 0.07026639315594088)\">confusing</span></span> <span style=\"font-size:20px; font-family:Times New Roman;\">Have</span> <span style=\"font-size:20px; font-family:Times New Roman;\">to</span> <span style=\"font-size:20px; font-family:Times New Roman;\"><span style=\"background-color:rgba(255, 0, 0, 0.07459696702784066)\">take</span></span> <span style=\"font-size:20px; font-family:Times New Roman;\"><span style=\"background-color:rgba(255, 0, 0, 0.011751477206913977)\">multiple</span></span> <span style=\"font-size:20px; font-family:Times New Roman;\"><span style=\"background-color:rgba(255, 0, 0, 0.7127434037039689)\">lifts</span></span> <span style=\"font-size:20px; font-family:Times New Roman;\">and</span> <span style=\"font-size:20px; font-family:Times New Roman;\"><span style=\"background-color:rgba(255, 0, 0, 0.013243324252754044)\">routes</span></span> <span style=\"font-size:20px; font-family:Times New Roman;\">to</span> <span style=\"font-size:20px; font-family:Times New Roman;\"><span style=\"background-color:rgba(255, 0, 0, 0.09910699778629303)\">get</span></span> <span style=\"font-size:20px; font-family:Times New Roman;\">to</span> <span style=\"font-size:20px; font-family:Times New Roman;\">your</span> <span style=\"font-size:20px; font-family:Times New Roman;\"><span style=\"background-color:rgba(0, 255, 0, 0.9013480837726432)\">room</span></span>"
      ],
      "text/plain": [
       "<IPython.core.display.HTML object>"
      ]
     },
     "metadata": {},
     "output_type": "display_data"
    },
    {
     "name": "stdout",
     "output_type": "stream",
     "text": [
      "\n",
      " No lift so if you struggle with stairs ask for a room on the first floor \n"
     ]
    },
    {
     "data": {
      "text/html": [
       "<span style=\"font-size:16px; font-family:Times New Roman;\">\n",
       " <span style=\"background-color: rgba(255, 0, 0, 1);\">Number 1 Topic is 15</span> with  probability 0.30992516431221495, Title is: Elevator and Accessibility</span>"
      ],
      "text/plain": [
       "<IPython.core.display.HTML object>"
      ]
     },
     "metadata": {},
     "output_type": "display_data"
    },
    {
     "data": {
      "text/html": [
       "<span style=\"font-size:16px; font-family:Times New Roman;\">\n",
       " <span style=\"background-color: rgba(0, 0, 255, 1);\">Number 2 Topic is 0</span> with  probability 0.10440216888626148, Title is: Hospitality Excellence</span>"
      ],
      "text/plain": [
       "<IPython.core.display.HTML object>"
      ]
     },
     "metadata": {},
     "output_type": "display_data"
    },
    {
     "data": {
      "text/html": [
       "<span style=\"font-size:16px; font-family:Times New Roman;\">\n",
       " <span style=\"background-color: rgba(0, 255, 0, 1);\">Number 3 Topic is 10</span> with  probability 0.08883976218208951, Title is: Room Lighting</span>"
      ],
      "text/plain": [
       "<IPython.core.display.HTML object>"
      ]
     },
     "metadata": {},
     "output_type": "display_data"
    },
    {
     "name": "stdout",
     "output_type": "stream",
     "text": [
      "[15, 0, 10]\n",
      "{15: {'lift': 0.16187934675633434, 'stairs': 0.1087697605504785, 'floor': 0.04672003811150139, 'room': 0.027535552176971678, 'first': 0.005208088906882794, 'struggle': 0.004544361124639623, 'ask': 0.0038238865711982704}, 0: {'room': 0.02927797724444089, 'floor': 0.004057024056328162, 'first': 0.0035737584065294752, 'ask': 0.0012771327674628978, 'lift': 0.0005334185689522083, 'stairs': 0.00044628759370560683, 'struggle': 0.00020696764421365991}, 10: {'room': 0.1034651188198979, 'floor': 0.010299733945107036, 'lift': 0.003842306934147063, 'first': 0.0038271893796643906, 'stairs': 0.002700337358336125}}\n"
     ]
    },
    {
     "data": {
      "text/html": [
       "<span style=\"font-size:20px; font-family:Times New Roman;\">No</span> <span style=\"font-size:20px; font-family:Times New Roman;\"><span style=\"background-color:rgba(255, 0, 0, 1.0)\">lift</span></span> <span style=\"font-size:20px; font-family:Times New Roman;\">so</span> <span style=\"font-size:20px; font-family:Times New Roman;\">if</span> <span style=\"font-size:20px; font-family:Times New Roman;\">you</span> <span style=\"font-size:20px; font-family:Times New Roman;\"><span style=\"background-color:rgba(255, 0, 0, 0.028072519538146715)\">struggle</span></span> <span style=\"font-size:20px; font-family:Times New Roman;\">with</span> <span style=\"font-size:20px; font-family:Times New Roman;\"><span style=\"background-color:rgba(255, 0, 0, 0.6719187019836571)\">stairs</span></span> <span style=\"font-size:20px; font-family:Times New Roman;\"><span style=\"background-color:rgba(255, 0, 0, 0.0236218309983305)\">ask</span></span> <span style=\"font-size:20px; font-family:Times New Roman;\">for</span> <span style=\"font-size:20px; font-family:Times New Roman;\">a</span> <span style=\"font-size:20px; font-family:Times New Roman;\"><span style=\"background-color:rgba(0, 255, 0, 0.9013480837726432)\">room</span></span> <span style=\"font-size:20px; font-family:Times New Roman;\">on</span> <span style=\"font-size:20px; font-family:Times New Roman;\">the</span> <span style=\"font-size:20px; font-family:Times New Roman;\"><span style=\"background-color:rgba(255, 0, 0, 0.03217265828680521)\">first</span></span> <span style=\"font-size:20px; font-family:Times New Roman;\"><span style=\"background-color:rgba(255, 0, 0, 0.2886102461348933)\">floor</span></span>"
      ],
      "text/plain": [
       "<IPython.core.display.HTML object>"
      ]
     },
     "metadata": {},
     "output_type": "display_data"
    },
    {
     "name": "stdout",
     "output_type": "stream",
     "text": [
      "\n",
      " Our room was in between floors so that although we could use the elevator to take our bags upstairs I had to carry them 12 stairs to the room itself Strange setup Avoid room 307 there were other rooms the same on other floors \n"
     ]
    },
    {
     "data": {
      "text/html": [
       "<span style=\"font-size:16px; font-family:Times New Roman;\">\n",
       " <span style=\"background-color: rgba(255, 0, 0, 1);\">Number 1 Topic is 15</span> with  probability 0.5332758227805888, Title is: Elevator and Accessibility</span>"
      ],
      "text/plain": [
       "<IPython.core.display.HTML object>"
      ]
     },
     "metadata": {},
     "output_type": "display_data"
    },
    {
     "data": {
      "text/html": [
       "<span style=\"font-size:16px; font-family:Times New Roman;\">\n",
       " <span style=\"background-color: rgba(0, 0, 255, 1);\">Number 2 Topic is 0</span> with  probability 0.08679325109123735, Title is: Hospitality Excellence</span>"
      ],
      "text/plain": [
       "<IPython.core.display.HTML object>"
      ]
     },
     "metadata": {},
     "output_type": "display_data"
    },
    {
     "data": {
      "text/html": [
       "<span style=\"font-size:16px; font-family:Times New Roman;\">\n",
       " <span style=\"background-color: rgba(0, 255, 0, 1);\">Number 3 Topic is 10</span> with  probability 0.07695645605320205, Title is: Room Lighting</span>"
      ],
      "text/plain": [
       "<IPython.core.display.HTML object>"
      ]
     },
     "metadata": {},
     "output_type": "display_data"
    },
    {
     "name": "stdout",
     "output_type": "stream",
     "text": [
      "[15, 0, 10]\n",
      "{15: {'elevator': 0.15226324419802933, 'stairs': 0.1087697605504785, 'use': 0.028568546784598865, 'carry': 0.02763905160040454, 'room': 0.027535552176971678, 'bags': 0.019229739432747462, 'rooms': 0.0174290334082677, 'could': 0.014817983325521984, 'take': 0.012075708292470656, 'floors': 0.01109290126835964, 'although': 0.006934832369830629, 'upstairs': 0.0037787575137561715, 'setup': 0.0021922422209861743}, 0: {'room': 0.02927797724444089, 'rooms': 0.022525856144947343, 'could': 0.0055339161517924135, 'use': 0.003501783117090669, 'although': 0.003333854822793243, 'take': 0.0031531848121245697, 'floors': 0.001106657686848193, 'bags': 0.0010779029246147855, 'elevator': 0.0006362066456852626, 'stairs': 0.00044628759370560683, 'carry': 0.000335676925968431, 'setup': 0.0001331241643812543}, 10: {'room': 0.1034651188198979, 'rooms': 0.0629717309663769, 'could': 0.018602155915883056, 'although': 0.007077909977606941, 'use': 0.005831593081099421, 'stairs': 0.002700337358336125, 'upstairs': 0.0011570159486158664, 'take': 0.0007394910646877228}}\n"
     ]
    },
    {
     "data": {
      "text/html": [
       "<span style=\"font-size:20px; font-family:Times New Roman;\">Our</span> <span style=\"font-size:20px; font-family:Times New Roman;\"><span style=\"background-color:rgba(0, 255, 0, 0.9013480837726432)\">room</span></span> <span style=\"font-size:20px; font-family:Times New Roman;\">was</span> <span style=\"font-size:20px; font-family:Times New Roman;\">in</span> <span style=\"font-size:20px; font-family:Times New Roman;\">between</span> <span style=\"font-size:20px; font-family:Times New Roman;\"><span style=\"background-color:rgba(255, 0, 0, 0.06852573531234352)\">floors</span></span> <span style=\"font-size:20px; font-family:Times New Roman;\">so</span> <span style=\"font-size:20px; font-family:Times New Roman;\">that</span> <span style=\"font-size:20px; font-family:Times New Roman;\"><span style=\"background-color:rgba(0, 255, 0, 0.06166001323147743)\">although</span></span> <span style=\"font-size:20px; font-family:Times New Roman;\">we</span> <span style=\"font-size:20px; font-family:Times New Roman;\"><span style=\"background-color:rgba(0, 255, 0, 0.16205478503347143)\">could</span></span> <span style=\"font-size:20px; font-family:Times New Roman;\"><span style=\"background-color:rgba(255, 0, 0, 0.17648049215074424)\">use</span></span> <span style=\"font-size:20px; font-family:Times New Roman;\">the</span> <span style=\"font-size:20px; font-family:Times New Roman;\"><span style=\"background-color:rgba(255, 0, 0, 0.9405971005505758)\">elevator</span></span> <span style=\"font-size:20px; font-family:Times New Roman;\">to</span> <span style=\"font-size:20px; font-family:Times New Roman;\"><span style=\"background-color:rgba(255, 0, 0, 0.07459696702784066)\">take</span></span> <span style=\"font-size:20px; font-family:Times New Roman;\">our</span> <span style=\"font-size:20px; font-family:Times New Roman;\"><span style=\"background-color:rgba(255, 0, 0, 0.11879056728399481)\">bags</span></span> <span style=\"font-size:20px; font-family:Times New Roman;\"><span style=\"background-color:rgba(255, 0, 0, 0.02334304894029546)\">upstairs</span></span> <span style=\"font-size:20px; font-family:Times New Roman;\">I</span> <span style=\"font-size:20px; font-family:Times New Roman;\">had</span> <span style=\"font-size:20px; font-family:Times New Roman;\">to</span> <span style=\"font-size:20px; font-family:Times New Roman;\"><span style=\"background-color:rgba(255, 0, 0, 0.17073859114348708)\">carry</span></span> <span style=\"font-size:20px; font-family:Times New Roman;\">them</span> <span style=\"font-size:20px; font-family:Times New Roman;\">12</span> <span style=\"font-size:20px; font-family:Times New Roman;\"><span style=\"background-color:rgba(255, 0, 0, 0.6719187019836571)\">stairs</span></span> <span style=\"font-size:20px; font-family:Times New Roman;\">to</span> <span style=\"font-size:20px; font-family:Times New Roman;\">the</span> <span style=\"font-size:20px; font-family:Times New Roman;\"><span style=\"background-color:rgba(0, 255, 0, 0.9013480837726432)\">room</span></span> <span style=\"font-size:20px; font-family:Times New Roman;\">itself</span> <span style=\"font-size:20px; font-family:Times New Roman;\"><span style=\"background-color:rgba(255, 0, 0, 0.020153372110468627)\">Strange</span></span> <span style=\"font-size:20px; font-family:Times New Roman;\"><span style=\"background-color:rgba(255, 0, 0, 0.013542445437996506)\">setup</span></span> <span style=\"font-size:20px; font-family:Times New Roman;\"><span style=\"background-color:rgba(255, 0, 0, 0.011047532997013472)\">Avoid</span></span> <span style=\"font-size:20px; font-family:Times New Roman;\"><span style=\"background-color:rgba(0, 255, 0, 0.9013480837726432)\">room</span></span> <span style=\"font-size:20px; font-family:Times New Roman;\">307</span> <span style=\"font-size:20px; font-family:Times New Roman;\">there</span> <span style=\"font-size:20px; font-family:Times New Roman;\">were</span> <span style=\"font-size:20px; font-family:Times New Roman;\">other</span> <span style=\"font-size:20px; font-family:Times New Roman;\"><span style=\"background-color:rgba(0, 255, 0, 0.5485853559709492)\">rooms</span></span> <span style=\"font-size:20px; font-family:Times New Roman;\">the</span> <span style=\"font-size:20px; font-family:Times New Roman;\">same</span> <span style=\"font-size:20px; font-family:Times New Roman;\">on</span> <span style=\"font-size:20px; font-family:Times New Roman;\">other</span> <span style=\"font-size:20px; font-family:Times New Roman;\"><span style=\"background-color:rgba(255, 0, 0, 0.06852573531234352)\">floors</span></span>"
      ],
      "text/plain": [
       "<IPython.core.display.HTML object>"
      ]
     },
     "metadata": {},
     "output_type": "display_data"
    },
    {
     "name": "stdout",
     "output_type": "stream",
     "text": [
      "\n",
      " Only downside was the exclusive Wings and Horns robe was 140 to purchase And I don t do enough loafing to warrant that \n"
     ]
    },
    {
     "data": {
      "text/html": [
       "<span style=\"font-size:16px; font-family:Times New Roman;\">\n",
       " <span style=\"background-color: rgba(255, 0, 0, 1);\">Number 1 Topic is 16</span> with  probability 1.0, Title is: Price and Value</span>"
      ],
      "text/plain": [
       "<IPython.core.display.HTML object>"
      ]
     },
     "metadata": {},
     "output_type": "display_data"
    },
    {
     "data": {
      "text/html": [
       "<span style=\"font-size:16px; font-family:Times New Roman;\">\n",
       " <span style=\"background-color: rgba(0, 0, 255, 1);\">Number 2 Topic is 0</span> with  probability 3.891381828613259e-307, Title is: Hospitality Excellence</span>"
      ],
      "text/plain": [
       "<IPython.core.display.HTML object>"
      ]
     },
     "metadata": {},
     "output_type": "display_data"
    },
    {
     "data": {
      "text/html": [
       "<span style=\"font-size:16px; font-family:Times New Roman;\">\n",
       " <span style=\"background-color: rgba(0, 255, 0, 1);\">Number 3 Topic is 10</span> with  probability 2.0533922294721546e-307, Title is: Room Lighting</span>"
      ],
      "text/plain": [
       "<IPython.core.display.HTML object>"
      ]
     },
     "metadata": {},
     "output_type": "display_data"
    },
    {
     "name": "stdout",
     "output_type": "stream",
     "text": [
      "[16, 0, 10]\n",
      "{16: {'enough': 0.010175167010233147, 'loafing': 0.00982197729770865, 'warrant': 0.008762636066444668, 'exclusive': 0.007703440283166174, 'downside': 0.006886810108532265, 'robe': 0.006841986263373718, 'purchase': 0.006841986263373718}, 0: {'enough': 0.004712334018505235, 'downside': 0.00025860216657033297, 'exclusive': 0.00021695018984230267, 'purchase': 0.00019268926144349466, 'robe': 0.00012845950762899644}, 10: {'enough': 0.007706151681293973, 'exclusive': 0.0014585480324344209, 'robe': 0.001295442715924511, 'purchase': 0.001295442715924511}}\n"
     ]
    },
    {
     "data": {
      "text/html": [
       "<span style=\"font-size:20px; font-family:Times New Roman;\">Only</span> <span style=\"font-size:20px; font-family:Times New Roman;\"><span style=\"background-color:rgba(255, 0, 0, 0.028797713961323655)\">downside</span></span> <span style=\"font-size:20px; font-family:Times New Roman;\">was</span> <span style=\"font-size:20px; font-family:Times New Roman;\">the</span> <span style=\"font-size:20px; font-family:Times New Roman;\"><span style=\"background-color:rgba(255, 0, 0, 0.03221251440023181)\">exclusive</span></span> <span style=\"font-size:20px; font-family:Times New Roman;\"><span style=\"background-color:rgba(255, 0, 0, 0.03664162115868649)\">Wings</span></span> <span style=\"font-size:20px; font-family:Times New Roman;\">and</span> <span style=\"font-size:20px; font-family:Times New Roman;\"><span style=\"background-color:rgba(255, 0, 0, 0.03664162115868649)\">Horns</span></span> <span style=\"font-size:20px; font-family:Times New Roman;\"><span style=\"background-color:rgba(255, 0, 0, 0.028610279684615016)\">robe</span></span> <span style=\"font-size:20px; font-family:Times New Roman;\">was</span> <span style=\"font-size:20px; font-family:Times New Roman;\">140</span> <span style=\"font-size:20px; font-family:Times New Roman;\">to</span> <span style=\"font-size:20px; font-family:Times New Roman;\"><span style=\"background-color:rgba(255, 0, 0, 0.028610279684615016)\">purchase</span></span> <span style=\"font-size:20px; font-family:Times New Roman;\">And</span> <span style=\"font-size:20px; font-family:Times New Roman;\">I</span> <span style=\"font-size:20px; font-family:Times New Roman;\">don</span> <span style=\"font-size:20px; font-family:Times New Roman;\">t</span> <span style=\"font-size:20px; font-family:Times New Roman;\">do</span> <span style=\"font-size:20px; font-family:Times New Roman;\"><span style=\"background-color:rgba(255, 0, 0, 0.04254822544131981)\">enough</span></span> <span style=\"font-size:20px; font-family:Times New Roman;\"><span style=\"background-color:rgba(255, 0, 0, 0.04107133611882181)\">loafing</span></span> <span style=\"font-size:20px; font-family:Times New Roman;\">to</span> <span style=\"font-size:20px; font-family:Times New Roman;\"><span style=\"background-color:rgba(255, 0, 0, 0.03664162115868649)\">warrant</span></span> <span style=\"font-size:20px; font-family:Times New Roman;\">that</span>"
      ],
      "text/plain": [
       "<IPython.core.display.HTML object>"
      ]
     },
     "metadata": {},
     "output_type": "display_data"
    },
    {
     "name": "stdout",
     "output_type": "stream",
     "text": [
      "\n",
      " Ceiling in room needed patching and painting looked like they d been doing a bit of work but not a problem \n"
     ]
    },
    {
     "data": {
      "text/html": [
       "<span style=\"font-size:16px; font-family:Times New Roman;\">\n",
       " <span style=\"background-color: rgba(255, 0, 0, 1);\">Number 1 Topic is 10</span> with  probability 1.0, Title is: Room Lighting</span>"
      ],
      "text/plain": [
       "<IPython.core.display.HTML object>"
      ]
     },
     "metadata": {},
     "output_type": "display_data"
    },
    {
     "data": {
      "text/html": [
       "<span style=\"font-size:16px; font-family:Times New Roman;\">\n",
       " <span style=\"background-color: rgba(0, 0, 255, 1);\">Number 2 Topic is 0</span> with  probability 6.742624434180905e-307, Title is: Hospitality Excellence</span>"
      ],
      "text/plain": [
       "<IPython.core.display.HTML object>"
      ]
     },
     "metadata": {},
     "output_type": "display_data"
    },
    {
     "data": {
      "text/html": [
       "<span style=\"font-size:16px; font-family:Times New Roman;\">\n",
       " <span style=\"background-color: rgba(0, 255, 0, 1);\">Number 3 Topic is 2</span> with  probability 2.676799860172695e-307, Title is: Hotel Amenities Excellence</span>"
      ],
      "text/plain": [
       "<IPython.core.display.HTML object>"
      ]
     },
     "metadata": {},
     "output_type": "display_data"
    },
    {
     "name": "stdout",
     "output_type": "stream",
     "text": [
      "[10, 0, 2]\n",
      "{10: {'room': 0.1034651188198979, 'bit': 0.04828884128282164, 'like': 0.015143427679508839, 'work': 0.010108726625013211, 'needed': 0.0065047830769973565, 'problem': 0.005706357238316478, 'painting': 0.003996161962334647, 'looked': 0.0032460043696986994, 'patching': 0.0018596659590512817}, 0: {'room': 0.02927797724444089, 'like': 0.007556751346144966, 'needed': 0.003726848100627459, 'bit': 0.00356639656508472, 'looked': 0.0021727057447457295, 'problem': 0.002051233058510662, 'work': 0.0016289128783496258}, 2: {'room': 0.02884931166699843, 'like': 0.006614342948336849, 'bit': 0.005709074486491888, 'needed': 0.0020148079076807617, 'looked': 0.001777448786276063, 'work': 0.0010064257930123856, 'problem': 0.0009942195800907777}}\n"
     ]
    },
    {
     "data": {
      "text/html": [
       "<span style=\"font-size:20px; font-family:Times New Roman;\"><span style=\"background-color:rgba(255, 0, 0, 0.036265681625306204)\">Ceiling</span></span> <span style=\"font-size:20px; font-family:Times New Roman;\">in</span> <span style=\"font-size:20px; font-family:Times New Roman;\"><span style=\"background-color:rgba(255, 0, 0, 0.9013480837726432)\">room</span></span> <span style=\"font-size:20px; font-family:Times New Roman;\"><span style=\"background-color:rgba(255, 0, 0, 0.05666715342021845)\">needed</span></span> <span style=\"font-size:20px; font-family:Times New Roman;\"><span style=\"background-color:rgba(255, 0, 0, 0.016200690317341306)\">patching</span></span> <span style=\"font-size:20px; font-family:Times New Roman;\">and</span> <span style=\"font-size:20px; font-family:Times New Roman;\"><span style=\"background-color:rgba(255, 0, 0, 0.03481301687253032)\">painting</span></span> <span style=\"font-size:20px; font-family:Times New Roman;\"><span style=\"background-color:rgba(255, 0, 0, 0.028277934166764596)\">looked</span></span> <span style=\"font-size:20px; font-family:Times New Roman;\"><span style=\"background-color:rgba(255, 0, 0, 0.13192368284459838)\">like</span></span> <span style=\"font-size:20px; font-family:Times New Roman;\">they</span> <span style=\"font-size:20px; font-family:Times New Roman;\">d</span> <span style=\"font-size:20px; font-family:Times New Roman;\">been</span> <span style=\"font-size:20px; font-family:Times New Roman;\">doing</span> <span style=\"font-size:20px; font-family:Times New Roman;\">a</span> <span style=\"font-size:20px; font-family:Times New Roman;\"><span style=\"background-color:rgba(255, 0, 0, 0.42067370196169024)\">bit</span></span> <span style=\"font-size:20px; font-family:Times New Roman;\">of</span> <span style=\"font-size:20px; font-family:Times New Roman;\"><span style=\"background-color:rgba(255, 0, 0, 0.08806331521928222)\">work</span></span> <span style=\"font-size:20px; font-family:Times New Roman;\">but</span> <span style=\"font-size:20px; font-family:Times New Roman;\">not</span> <span style=\"font-size:20px; font-family:Times New Roman;\">a</span> <span style=\"font-size:20px; font-family:Times New Roman;\"><span style=\"background-color:rgba(255, 0, 0, 0.0497115764302351)\">problem</span></span>"
      ],
      "text/plain": [
       "<IPython.core.display.HTML object>"
      ]
     },
     "metadata": {},
     "output_type": "display_data"
    },
    {
     "name": "stdout",
     "output_type": "stream",
     "text": [
      "\n",
      " The room was in the ground so can t open curtain and was far from all other locations\n"
     ]
    },
    {
     "data": {
      "text/html": [
       "<span style=\"font-size:16px; font-family:Times New Roman;\">\n",
       " <span style=\"background-color: rgba(255, 0, 0, 1);\">Number 1 Topic is 10</span> with  probability 1.0, Title is: Room Lighting</span>"
      ],
      "text/plain": [
       "<IPython.core.display.HTML object>"
      ]
     },
     "metadata": {},
     "output_type": "display_data"
    },
    {
     "data": {
      "text/html": [
       "<span style=\"font-size:16px; font-family:Times New Roman;\">\n",
       " <span style=\"background-color: rgba(0, 0, 255, 1);\">Number 2 Topic is 0</span> with  probability 5.820220192813384e-307, Title is: Hospitality Excellence</span>"
      ],
      "text/plain": [
       "<IPython.core.display.HTML object>"
      ]
     },
     "metadata": {},
     "output_type": "display_data"
    },
    {
     "data": {
      "text/html": [
       "<span style=\"font-size:16px; font-family:Times New Roman;\">\n",
       " <span style=\"background-color: rgba(0, 255, 0, 1);\">Number 3 Topic is 2</span> with  probability 2.7323683168844135e-307, Title is: Hotel Amenities Excellence</span>"
      ],
      "text/plain": [
       "<IPython.core.display.HTML object>"
      ]
     },
     "metadata": {},
     "output_type": "display_data"
    },
    {
     "name": "stdout",
     "output_type": "stream",
     "text": [
      "[10, 0, 2]\n",
      "{10: {'room': 0.1034651188198979, 'far': 0.005980853894231412, 'ground': 0.005660605184379733, 'open': 0.005563883384492342, 'curtain': 0.0032938182522463965, 'locations': 0.0011531788557024795}, 0: {'room': 0.02927797724444089, 'far': 0.003986796773461035, 'open': 0.001310357119088459, 'locations': 0.0011435224899619752, 'ground': 0.0006548739183268744, 'curtain': 0.0002177491219548094}, 2: {'room': 0.02884931166699843, 'open': 0.004016070537378536, 'far': 0.0023818175509856356, 'ground': 0.0011271407909128116, 'curtain': 0.00021862190755415198}}\n"
     ]
    },
    {
     "data": {
      "text/html": [
       "<span style=\"font-size:20px; font-family:Times New Roman;\">The</span> <span style=\"font-size:20px; font-family:Times New Roman;\"><span style=\"background-color:rgba(255, 0, 0, 0.9013480837726432)\">room</span></span> <span style=\"font-size:20px; font-family:Times New Roman;\">was</span> <span style=\"font-size:20px; font-family:Times New Roman;\">in</span> <span style=\"font-size:20px; font-family:Times New Roman;\">the</span> <span style=\"font-size:20px; font-family:Times New Roman;\"><span style=\"background-color:rgba(255, 0, 0, 0.04931300223813146)\">ground</span></span> <span style=\"font-size:20px; font-family:Times New Roman;\">so</span> <span style=\"font-size:20px; font-family:Times New Roman;\">can</span> <span style=\"font-size:20px; font-family:Times New Roman;\">t</span> <span style=\"font-size:20px; font-family:Times New Roman;\"><span style=\"background-color:rgba(255, 0, 0, 0.048470399339861026)\">open</span></span> <span style=\"font-size:20px; font-family:Times New Roman;\"><span style=\"background-color:rgba(255, 0, 0, 0.028694470211990775)\">curtain</span></span> <span style=\"font-size:20px; font-family:Times New Roman;\">and</span> <span style=\"font-size:20px; font-family:Times New Roman;\">was</span> <span style=\"font-size:20px; font-family:Times New Roman;\"><span style=\"background-color:rgba(255, 0, 0, 0.052102885091868244)\">far</span></span> <span style=\"font-size:20px; font-family:Times New Roman;\">from</span> <span style=\"font-size:20px; font-family:Times New Roman;\">all</span> <span style=\"font-size:20px; font-family:Times New Roman;\">other</span> <span style=\"font-size:20px; font-family:Times New Roman;\"><span style=\"background-color:rgba(255, 0, 0, 0.010046048017823996)\">locations</span></span>"
      ],
      "text/plain": [
       "<IPython.core.display.HTML object>"
      ]
     },
     "metadata": {},
     "output_type": "display_data"
    },
    {
     "name": "stdout",
     "output_type": "stream",
     "text": [
      "\n",
      " The room is completely outdated way too expensive \n"
     ]
    },
    {
     "data": {
      "text/html": [
       "<span style=\"font-size:16px; font-family:Times New Roman;\">\n",
       " <span style=\"background-color: rgba(255, 0, 0, 1);\">Number 1 Topic is 10</span> with  probability 1.0, Title is: Room Lighting</span>"
      ],
      "text/plain": [
       "<IPython.core.display.HTML object>"
      ]
     },
     "metadata": {},
     "output_type": "display_data"
    },
    {
     "data": {
      "text/html": [
       "<span style=\"font-size:16px; font-family:Times New Roman;\">\n",
       " <span style=\"background-color: rgba(0, 0, 255, 1);\">Number 2 Topic is 0</span> with  probability 8.445767560248852e-307, Title is: Hospitality Excellence</span>"
      ],
      "text/plain": [
       "<IPython.core.display.HTML object>"
      ]
     },
     "metadata": {},
     "output_type": "display_data"
    },
    {
     "data": {
      "text/html": [
       "<span style=\"font-size:16px; font-family:Times New Roman;\">\n",
       " <span style=\"background-color: rgba(0, 255, 0, 1);\">Number 3 Topic is 2</span> with  probability 2.8184695140709936e-307, Title is: Hotel Amenities Excellence</span>"
      ],
      "text/plain": [
       "<IPython.core.display.HTML object>"
      ]
     },
     "metadata": {},
     "output_type": "display_data"
    },
    {
     "name": "stdout",
     "output_type": "stream",
     "text": [
      "[10, 0, 2]\n",
      "{10: {'room': 0.1034651188198979, 'expensive': 0.018105414135572696, 'outdated': 0.007555192776543477, 'way': 0.006782454549657222, 'completely': 0.0019521433266217441}, 0: {'room': 0.02927797724444089, 'way': 0.004102652817954699, 'expensive': 0.0020270424949771614, 'completely': 0.0003871593355327856}, 2: {'room': 0.02884931166699843, 'expensive': 0.008373259830556945, 'way': 0.0027010473037499165, 'completely': 0.0005830667308900217, 'outdated': 0.00021491306227798933}}\n"
     ]
    },
    {
     "data": {
      "text/html": [
       "<span style=\"font-size:20px; font-family:Times New Roman;\">The</span> <span style=\"font-size:20px; font-family:Times New Roman;\"><span style=\"background-color:rgba(255, 0, 0, 0.9013480837726432)\">room</span></span> <span style=\"font-size:20px; font-family:Times New Roman;\">is</span> <span style=\"font-size:20px; font-family:Times New Roman;\"><span style=\"background-color:rgba(255, 0, 0, 0.017006317363467544)\">completely</span></span> <span style=\"font-size:20px; font-family:Times New Roman;\"><span style=\"background-color:rgba(255, 0, 0, 0.06581791631172168)\">outdated</span></span> <span style=\"font-size:20px; font-family:Times New Roman;\"><span style=\"background-color:rgba(255, 0, 0, 0.05908611985697438)\">way</span></span> <span style=\"font-size:20px; font-family:Times New Roman;\">too</span> <span style=\"font-size:20px; font-family:Times New Roman;\"><span style=\"background-color:rgba(255, 0, 0, 0.15772736283631594)\">expensive</span></span>"
      ],
      "text/plain": [
       "<IPython.core.display.HTML object>"
      ]
     },
     "metadata": {},
     "output_type": "display_data"
    },
    {
     "name": "stdout",
     "output_type": "stream",
     "text": [
      "\n",
      " Beds were very low Room was quite dark it needs more lights \n"
     ]
    },
    {
     "data": {
      "text/html": [
       "<span style=\"font-size:16px; font-family:Times New Roman;\">\n",
       " <span style=\"background-color: rgba(255, 0, 0, 1);\">Number 1 Topic is 4</span> with  probability 0.21564064906102284, Title is: Bed and Comfort</span>"
      ],
      "text/plain": [
       "<IPython.core.display.HTML object>"
      ]
     },
     "metadata": {},
     "output_type": "display_data"
    },
    {
     "data": {
      "text/html": [
       "<span style=\"font-size:16px; font-family:Times New Roman;\">\n",
       " <span style=\"background-color: rgba(0, 0, 255, 1);\">Number 2 Topic is 0</span> with  probability 0.19576961841534762, Title is: Hospitality Excellence</span>"
      ],
      "text/plain": [
       "<IPython.core.display.HTML object>"
      ]
     },
     "metadata": {},
     "output_type": "display_data"
    },
    {
     "data": {
      "text/html": [
       "<span style=\"font-size:16px; font-family:Times New Roman;\">\n",
       " <span style=\"background-color: rgba(0, 255, 0, 1);\">Number 3 Topic is 10</span> with  probability 0.12855494222153618, Title is: Room Lighting</span>"
      ],
      "text/plain": [
       "<IPython.core.display.HTML object>"
      ]
     },
     "metadata": {},
     "output_type": "display_data"
    },
    {
     "name": "stdout",
     "output_type": "stream",
     "text": [
      "[4, 0, 10]\n",
      "{4: {'quite': 0.008559989436289479, 'dark': 0.003092704854242984, 'needs': 0.003055542194106804, 'lights': 0.0028230840956824884, 'low': 0.002509743542987568}, 0: {'quite': 0.005541962481607148, 'needs': 0.002030297352531928, 'dark': 0.0007808964268731753, 'low': 0.0004764668215667212, 'lights': 0.0004220634032516752}, 10: {'dark': 0.0555388129713206, 'lights': 0.027429326301213003, 'quite': 0.023531625478055932, 'needs': 0.009678816743129823, 'low': 0.007687844797424555}}\n"
     ]
    },
    {
     "data": {
      "text/html": [
       "<span style=\"font-size:20px; font-family:Times New Roman;\"><span style=\"background-color:rgba(255, 0, 0, 0.36839743701049477)\">Beds</span></span> <span style=\"font-size:20px; font-family:Times New Roman;\">were</span> <span style=\"font-size:20px; font-family:Times New Roman;\">very</span> <span style=\"font-size:20px; font-family:Times New Roman;\"><span style=\"background-color:rgba(0, 255, 0, 0.06697352939363246)\">low</span></span> <span style=\"font-size:20px; font-family:Times New Roman;\"><span style=\"background-color:rgba(0, 255, 0, 0.9013480837726432)\">Room</span></span> <span style=\"font-size:20px; font-family:Times New Roman;\">was</span> <span style=\"font-size:20px; font-family:Times New Roman;\"><span style=\"background-color:rgba(0, 255, 0, 0.2049984166124805)\">quite</span></span> <span style=\"font-size:20px; font-family:Times New Roman;\"><span style=\"background-color:rgba(0, 255, 0, 0.48383265024656597)\">dark</span></span> <span style=\"font-size:20px; font-family:Times New Roman;\">it</span> <span style=\"font-size:20px; font-family:Times New Roman;\"><span style=\"background-color:rgba(0, 255, 0, 0.08431810666348831)\">needs</span></span> <span style=\"font-size:20px; font-family:Times New Roman;\">more</span> <span style=\"font-size:20px; font-family:Times New Roman;\"><span style=\"background-color:rgba(0, 255, 0, 0.23895367813580695)\">lights</span></span>"
      ],
      "text/plain": [
       "<IPython.core.display.HTML object>"
      ]
     },
     "metadata": {},
     "output_type": "display_data"
    },
    {
     "name": "stdout",
     "output_type": "stream",
     "text": [
      "\n",
      " Room too small Bed not comfortable Sheets weren t changed I was not at all impressed\n"
     ]
    },
    {
     "data": {
      "text/html": [
       "<span style=\"font-size:16px; font-family:Times New Roman;\">\n",
       " <span style=\"background-color: rgba(255, 0, 0, 1);\">Number 1 Topic is 4</span> with  probability 0.20808639563424083, Title is: Bed and Comfort</span>"
      ],
      "text/plain": [
       "<IPython.core.display.HTML object>"
      ]
     },
     "metadata": {},
     "output_type": "display_data"
    },
    {
     "data": {
      "text/html": [
       "<span style=\"font-size:16px; font-family:Times New Roman;\">\n",
       " <span style=\"background-color: rgba(0, 0, 255, 1);\">Number 2 Topic is 0</span> with  probability 0.162398981455831, Title is: Hospitality Excellence</span>"
      ],
      "text/plain": [
       "<IPython.core.display.HTML object>"
      ]
     },
     "metadata": {},
     "output_type": "display_data"
    },
    {
     "data": {
      "text/html": [
       "<span style=\"font-size:16px; font-family:Times New Roman;\">\n",
       " <span style=\"background-color: rgba(0, 255, 0, 1);\">Number 3 Topic is 10</span> with  probability 0.1022280720583672, Title is: Room Lighting</span>"
      ],
      "text/plain": [
       "<IPython.core.display.HTML object>"
      ]
     },
     "metadata": {},
     "output_type": "display_data"
    },
    {
     "name": "stdout",
     "output_type": "stream",
     "text": [
      "[4, 0, 10]\n",
      "{4: {'comfortable': 0.06669352393034343, 'small': 0.030239365997932505, 'changed': 0.004672572403117213, 'impressed': 0.0015562206213328568}, 0: {'comfortable': 0.026514309589912105, 'small': 0.0065374242710352385, 'impressed': 0.0009306471212171142, 'changed': 0.00048789014727054303}, 10: {'small': 0.11478930358051997, 'impressed': 0.002085568625266235, 'changed': 0.001789127595340533, 'comfortable': 0.0015117007563784002}}\n"
     ]
    },
    {
     "data": {
      "text/html": [
       "<span style=\"font-size:20px; font-family:Times New Roman;\"><span style=\"background-color:rgba(0, 255, 0, 0.9013480837726432)\">Room</span></span> <span style=\"font-size:20px; font-family:Times New Roman;\">too</span> <span style=\"font-size:20px; font-family:Times New Roman;\"><span style=\"background-color:rgba(0, 255, 0, 1.0)\">small</span></span> <span style=\"font-size:20px; font-family:Times New Roman;\"><span style=\"background-color:rgba(255, 0, 0, 1.0)\">Bed</span></span> <span style=\"font-size:20px; font-family:Times New Roman;\">not</span> <span style=\"font-size:20px; font-family:Times New Roman;\"><span style=\"background-color:rgba(255, 0, 0, 0.35584139926631103)\">comfortable</span></span> <span style=\"font-size:20px; font-family:Times New Roman;\"><span style=\"background-color:rgba(255, 0, 0, 0.05293352073216404)\">Sheets</span></span> <span style=\"font-size:20px; font-family:Times New Roman;\">weren</span> <span style=\"font-size:20px; font-family:Times New Roman;\">t</span> <span style=\"font-size:20px; font-family:Times New Roman;\"><span style=\"background-color:rgba(255, 0, 0, 0.024930377105803304)\">changed</span></span> <span style=\"font-size:20px; font-family:Times New Roman;\">I</span> <span style=\"font-size:20px; font-family:Times New Roman;\">was</span> <span style=\"font-size:20px; font-family:Times New Roman;\">not</span> <span style=\"font-size:20px; font-family:Times New Roman;\">at</span> <span style=\"font-size:20px; font-family:Times New Roman;\">all</span> <span style=\"font-size:20px; font-family:Times New Roman;\"><span style=\"background-color:rgba(0, 255, 0, 0.018168666942066553)\">impressed</span></span>"
      ],
      "text/plain": [
       "<IPython.core.display.HTML object>"
      ]
     },
     "metadata": {},
     "output_type": "display_data"
    },
    {
     "name": "stdout",
     "output_type": "stream",
     "text": [
      "\n",
      " The staff could not have been more helpful Despite rumours about the bad manners of Parisians everybody we met were friendly and did their very best to communicate in English to make up for our very poor French \n"
     ]
    },
    {
     "data": {
      "text/html": [
       "<span style=\"font-size:16px; font-family:Times New Roman;\">\n",
       " <span style=\"background-color: rgba(255, 0, 0, 1);\">Number 1 Topic is 3</span> with  probability 0.15293459094438683, Title is: Welcoming Staff Experience</span>"
      ],
      "text/plain": [
       "<IPython.core.display.HTML object>"
      ]
     },
     "metadata": {},
     "output_type": "display_data"
    },
    {
     "data": {
      "text/html": [
       "<span style=\"font-size:16px; font-family:Times New Roman;\">\n",
       " <span style=\"background-color: rgba(0, 0, 255, 1);\">Number 2 Topic is 0</span> with  probability 0.12490101154016349, Title is: Hospitality Excellence</span>"
      ],
      "text/plain": [
       "<IPython.core.display.HTML object>"
      ]
     },
     "metadata": {},
     "output_type": "display_data"
    },
    {
     "data": {
      "text/html": [
       "<span style=\"font-size:16px; font-family:Times New Roman;\">\n",
       " <span style=\"background-color: rgba(0, 255, 0, 1);\">Number 3 Topic is 2</span> with  probability 0.0706754109953575, Title is: Hotel Amenities Excellence</span>"
      ],
      "text/plain": [
       "<IPython.core.display.HTML object>"
      ]
     },
     "metadata": {},
     "output_type": "display_data"
    },
    {
     "name": "stdout",
     "output_type": "stream",
     "text": [
      "[3, 0, 2]\n",
      "{3: {'staff': 0.15916074986066966, 'friendly': 0.10426203996947087, 'helpful': 0.09929452471483406, 'could': 0.010034224929093626, 'best': 0.009420718843990206, 'make': 0.007253054788961601, 'communicate': 0.002969020960705685, 'met': 0.001993858037443333, 'bad': 0.001493509105566442, 'manners': 0.0010365298623999943, 'everybody': 0.0009132897612672506, 'rumours': 0.0006854694432817732, 'poor': 0.00022619643597298058}, 0: {'staff': 0.04179384363660856, 'friendly': 0.03084435664522748, 'helpful': 0.02930849728275495, 'best': 0.007895699205478163, 'could': 0.0055339161517924135, 'make': 0.003937370254746942, 'bad': 0.0014732423228819346, 'met': 0.0008582406830288829, 'everybody': 0.00042997333064178944, 'communicate': 0.0001331241643812543, 'poor': 9.127921537471195e-05, 'manners': 6.971347135020828e-05}, 2: {'staff': 0.05349265438589445, 'friendly': 0.03932130262453923, 'helpful': 0.03541471830619897, 'best': 0.008090461009697398, 'could': 0.0077695018947627125, 'poor': 0.00281044918813415, 'make': 0.002658757155678278, 'bad': 0.0012102115065592103, 'met': 0.0008616806974004358, 'everybody': 0.0002466838610243234}}\n"
     ]
    },
    {
     "data": {
      "text/html": [
       "<span style=\"font-size:20px; font-family:Times New Roman;\">The</span> <span style=\"font-size:20px; font-family:Times New Roman;\"><span style=\"background-color:rgba(255, 0, 0, 1.0)\">staff</span></span> <span style=\"font-size:20px; font-family:Times New Roman;\"><span style=\"background-color:rgba(255, 0, 0, 0.06304459446111967)\">could</span></span> <span style=\"font-size:20px; font-family:Times New Roman;\">not</span> <span style=\"font-size:20px; font-family:Times New Roman;\">have</span> <span style=\"font-size:20px; font-family:Times New Roman;\">been</span> <span style=\"font-size:20px; font-family:Times New Roman;\">more</span> <span style=\"font-size:20px; font-family:Times New Roman;\"><span style=\"background-color:rgba(255, 0, 0, 0.6238631371224195)\">helpful</span></span> <span style=\"font-size:20px; font-family:Times New Roman;\"><span style=\"background-color:rgba(0, 255, 0, 0.010408782684488737)\">Despite</span></span> <span style=\"font-size:20px; font-family:Times New Roman;\"><span style=\"background-color:rgba(255, 0, 0, 0.004306774401866274)\">rumours</span></span> <span style=\"font-size:20px; font-family:Times New Roman;\">about</span> <span style=\"font-size:20px; font-family:Times New Roman;\">the</span> <span style=\"font-size:20px; font-family:Times New Roman;\"><span style=\"background-color:rgba(255, 0, 0, 0.009383652105647086)\">bad</span></span> <span style=\"font-size:20px; font-family:Times New Roman;\"><span style=\"background-color:rgba(255, 0, 0, 0.006512471594330758)\">manners</span></span> <span style=\"font-size:20px; font-family:Times New Roman;\">of</span> <span style=\"font-size:20px; font-family:Times New Roman;\"><span style=\"background-color:rgba(255, 0, 0, 0.004013701091686018)\">Parisians</span></span> <span style=\"font-size:20px; font-family:Times New Roman;\"><span style=\"background-color:rgba(255, 0, 0, 0.0057381594524199605)\">everybody</span></span> <span style=\"font-size:20px; font-family:Times New Roman;\">we</span> <span style=\"font-size:20px; font-family:Times New Roman;\"><span style=\"background-color:rgba(255, 0, 0, 0.012527322466052522)\">met</span></span> <span style=\"font-size:20px; font-family:Times New Roman;\">were</span> <span style=\"font-size:20px; font-family:Times New Roman;\"><span style=\"background-color:rgba(255, 0, 0, 0.6550738172617465)\">friendly</span></span> <span style=\"font-size:20px; font-family:Times New Roman;\">and</span> <span style=\"font-size:20px; font-family:Times New Roman;\">did</span> <span style=\"font-size:20px; font-family:Times New Roman;\">their</span> <span style=\"font-size:20px; font-family:Times New Roman;\">very</span> <span style=\"font-size:20px; font-family:Times New Roman;\"><span style=\"background-color:rgba(255, 0, 0, 0.05918996267758956)\">best</span></span> <span style=\"font-size:20px; font-family:Times New Roman;\">to</span> <span style=\"font-size:20px; font-family:Times New Roman;\"><span style=\"background-color:rgba(255, 0, 0, 0.01865422827741629)\">communicate</span></span> <span style=\"font-size:20px; font-family:Times New Roman;\">in</span> <span style=\"font-size:20px; font-family:Times New Roman;\"><span style=\"background-color:rgba(255, 0, 0, 0.05893685588260514)\">English</span></span> <span style=\"font-size:20px; font-family:Times New Roman;\">to</span> <span style=\"font-size:20px; font-family:Times New Roman;\"><span style=\"background-color:rgba(255, 0, 0, 0.04557062463773871)\">make</span></span> <span style=\"font-size:20px; font-family:Times New Roman;\">up</span> <span style=\"font-size:20px; font-family:Times New Roman;\">for</span> <span style=\"font-size:20px; font-family:Times New Roman;\">our</span> <span style=\"font-size:20px; font-family:Times New Roman;\">very</span> <span style=\"font-size:20px; font-family:Times New Roman;\"><span style=\"background-color:rgba(0, 255, 0, 0.02438601188840527)\">poor</span></span> <span style=\"font-size:20px; font-family:Times New Roman;\"><span style=\"background-color:rgba(255, 0, 0, 0.012882340628134268)\">French</span></span>"
      ],
      "text/plain": [
       "<IPython.core.display.HTML object>"
      ]
     },
     "metadata": {},
     "output_type": "display_data"
    },
    {
     "name": "stdout",
     "output_type": "stream",
     "text": [
      "\n",
      " Everything i needed was very close from trains to buses etc \n"
     ]
    },
    {
     "data": {
      "text/html": [
       "<span style=\"font-size:16px; font-family:Times New Roman;\">\n",
       " <span style=\"background-color: rgba(255, 0, 0, 1);\">Number 1 Topic is 5</span> with  probability 0.4766234748271249, Title is: Proximity and Access</span>"
      ],
      "text/plain": [
       "<IPython.core.display.HTML object>"
      ]
     },
     "metadata": {},
     "output_type": "display_data"
    },
    {
     "data": {
      "text/html": [
       "<span style=\"font-size:16px; font-family:Times New Roman;\">\n",
       " <span style=\"background-color: rgba(0, 0, 255, 1);\">Number 2 Topic is 0</span> with  probability 0.1640991330223242, Title is: Hospitality Excellence</span>"
      ],
      "text/plain": [
       "<IPython.core.display.HTML object>"
      ]
     },
     "metadata": {},
     "output_type": "display_data"
    },
    {
     "data": {
      "text/html": [
       "<span style=\"font-size:16px; font-family:Times New Roman;\">\n",
       " <span style=\"background-color: rgba(0, 255, 0, 1);\">Number 3 Topic is 2</span> with  probability 0.0601313305148055, Title is: Hotel Amenities Excellence</span>"
      ],
      "text/plain": [
       "<IPython.core.display.HTML object>"
      ]
     },
     "metadata": {},
     "output_type": "display_data"
    },
    {
     "name": "stdout",
     "output_type": "stream",
     "text": [
      "[5, 0, 2]\n",
      "{5: {'close': 0.0643373522182428, 'buses': 0.00782580120123298, 'trains': 0.0068622587382800165, 'etc': 0.0049680855422017485, 'needed': 0.004616596763262885}, 0: {'close': 0.016550970705302582, 'etc': 0.004029876765703575, 'needed': 0.003726848100627459, 'buses': 0.0016962056054587236, 'trains': 0.0012783940500010046}, 2: {'close': 0.005207704169536734, 'needed': 0.0020148079076807617, 'etc': 0.0014196594329130275}}\n"
     ]
    },
    {
     "data": {
      "text/html": [
       "<span style=\"font-size:20px; font-family:Times New Roman;\"><span style=\"background-color:rgba(255, 0, 0, 0.08717668067358524)\">Everything</span></span> <span style=\"font-size:20px; font-family:Times New Roman;\">i</span> <span style=\"font-size:20px; font-family:Times New Roman;\"><span style=\"background-color:rgba(255, 0, 0, 0.03257076372676015)\">needed</span></span> <span style=\"font-size:20px; font-family:Times New Roman;\">was</span> <span style=\"font-size:20px; font-family:Times New Roman;\">very</span> <span style=\"font-size:20px; font-family:Times New Roman;\"><span style=\"background-color:rgba(255, 0, 0, 0.45390940672597974)\">close</span></span> <span style=\"font-size:20px; font-family:Times New Roman;\">from</span> <span style=\"font-size:20px; font-family:Times New Roman;\"><span style=\"background-color:rgba(255, 0, 0, 0.04841423660281812)\">trains</span></span> <span style=\"font-size:20px; font-family:Times New Roman;\">to</span> <span style=\"font-size:20px; font-family:Times New Roman;\"><span style=\"background-color:rgba(255, 0, 0, 0.05521216925989529)\">buses</span></span> <span style=\"font-size:20px; font-family:Times New Roman;\"><span style=\"background-color:rgba(255, 0, 0, 0.035050568344422675)\">etc</span></span>"
      ],
      "text/plain": [
       "<IPython.core.display.HTML object>"
      ]
     },
     "metadata": {},
     "output_type": "display_data"
    },
    {
     "name": "stdout",
     "output_type": "stream",
     "text": [
      "\n",
      " Location was far from central London approximately 8 tube stops \n"
     ]
    },
    {
     "data": {
      "text/html": [
       "<span style=\"font-size:16px; font-family:Times New Roman;\">\n",
       " <span style=\"background-color: rgba(255, 0, 0, 1);\">Number 1 Topic is 5</span> with  probability 0.23792285575354455, Title is: Proximity and Access</span>"
      ],
      "text/plain": [
       "<IPython.core.display.HTML object>"
      ]
     },
     "metadata": {},
     "output_type": "display_data"
    },
    {
     "data": {
      "text/html": [
       "<span style=\"font-size:16px; font-family:Times New Roman;\">\n",
       " <span style=\"background-color: rgba(0, 0, 255, 1);\">Number 2 Topic is 0</span> with  probability 0.19433459249475807, Title is: Hospitality Excellence</span>"
      ],
      "text/plain": [
       "<IPython.core.display.HTML object>"
      ]
     },
     "metadata": {},
     "output_type": "display_data"
    },
    {
     "data": {
      "text/html": [
       "<span style=\"font-size:16px; font-family:Times New Roman;\">\n",
       " <span style=\"background-color: rgba(0, 255, 0, 1);\">Number 3 Topic is 2</span> with  probability 0.0663145834750267, Title is: Hotel Amenities Excellence</span>"
      ],
      "text/plain": [
       "<IPython.core.display.HTML object>"
      ]
     },
     "metadata": {},
     "output_type": "display_data"
    },
    {
     "name": "stdout",
     "output_type": "stream",
     "text": [
      "[5, 0, 2]\n",
      "{5: {'far': 0.04669227158400903, 'tube': 0.043335322754300076, 'central': 0.024011826851443253, 'stops': 0.006033850197827494, 'approximately': 0.0008256862051818854}, 0: {'central': 0.010406511528955734, 'tube': 0.009834649981078643, 'far': 0.003986796773461035, 'stops': 0.0030443479664756666, 'approximately': 0.00014100162562396314}, 2: {'central': 0.004615931390134203, 'far': 0.0023818175509856356, 'tube': 0.0007821045058466827, 'stops': 0.0005642862225026168}}\n"
     ]
    },
    {
     "data": {
      "text/html": [
       "<span style=\"font-size:20px; font-family:Times New Roman;\"><span style=\"background-color:rgba(255, 0, 0, 1.0)\">Location</span></span> <span style=\"font-size:20px; font-family:Times New Roman;\">was</span> <span style=\"font-size:20px; font-family:Times New Roman;\"><span style=\"background-color:rgba(255, 0, 0, 0.3294207884323891)\">far</span></span> <span style=\"font-size:20px; font-family:Times New Roman;\">from</span> <span style=\"font-size:20px; font-family:Times New Roman;\"><span style=\"background-color:rgba(255, 0, 0, 0.16940694176492857)\">central</span></span> <span style=\"font-size:20px; font-family:Times New Roman;\"><span style=\"background-color:rgba(255, 0, 0, 0.20924408402383884)\">London</span></span> <span style=\"font-size:20px; font-family:Times New Roman;\"><span style=\"background-color:rgba(255, 0, 0, 0.005825336645260088)\">approximately</span></span> <span style=\"font-size:20px; font-family:Times New Roman;\">8</span> <span style=\"font-size:20px; font-family:Times New Roman;\"><span style=\"background-color:rgba(255, 0, 0, 0.3057370246596144)\">tube</span></span> <span style=\"font-size:20px; font-family:Times New Roman;\"><span style=\"background-color:rgba(255, 0, 0, 0.0425696934850347)\">stops</span></span>"
      ],
      "text/plain": [
       "<IPython.core.display.HTML object>"
      ]
     },
     "metadata": {},
     "output_type": "display_data"
    },
    {
     "name": "stdout",
     "output_type": "stream",
     "text": [
      "\n",
      " Wasn t as close to kings cross as you think 10 15 min walk depending how fast you walk \n"
     ]
    },
    {
     "data": {
      "text/html": [
       "<span style=\"font-size:16px; font-family:Times New Roman;\">\n",
       " <span style=\"background-color: rgba(255, 0, 0, 1);\">Number 1 Topic is 5</span> with  probability 0.22226355390658548, Title is: Proximity and Access</span>"
      ],
      "text/plain": [
       "<IPython.core.display.HTML object>"
      ]
     },
     "metadata": {},
     "output_type": "display_data"
    },
    {
     "data": {
      "text/html": [
       "<span style=\"font-size:16px; font-family:Times New Roman;\">\n",
       " <span style=\"background-color: rgba(0, 0, 255, 1);\">Number 2 Topic is 0</span> with  probability 0.12776565082285543, Title is: Hospitality Excellence</span>"
      ],
      "text/plain": [
       "<IPython.core.display.HTML object>"
      ]
     },
     "metadata": {},
     "output_type": "display_data"
    },
    {
     "data": {
      "text/html": [
       "<span style=\"font-size:16px; font-family:Times New Roman;\">\n",
       " <span style=\"background-color: rgba(0, 255, 0, 1);\">Number 3 Topic is 2</span> with  probability 0.046137726451285374, Title is: Hotel Amenities Excellence</span>"
      ],
      "text/plain": [
       "<IPython.core.display.HTML object>"
      ]
     },
     "metadata": {},
     "output_type": "display_data"
    },
    {
     "name": "stdout",
     "output_type": "stream",
     "text": [
      "[5, 0, 2]\n",
      "{5: {'close': 0.0643373522182428, 'walk': 0.04132036261531725, 'min': 0.015576097529577695, 'cross': 0.0063278272127768554, 'kings': 0.004044812279301003, 'depending': 0.0016002594006444104, 'fast': 0.0015971645388423415, 'think': 0.0008683468550857145}, 0: {'close': 0.016550970705302582, 'walk': 0.01636728867856922, 'min': 0.005750110236979397, 'fast': 0.002272885217091532, 'think': 0.0015570108023404484, 'cross': 0.001134626706820384, 'kings': 0.000978532235115557, 'depending': 0.00027327473257372163}, 2: {'close': 0.005207704169536734, 'walk': 0.0015980122184729303, 'think': 0.0014888110843395, 'fast': 0.0012779174424068296, 'min': 0.0004712781978016886, 'depending': 0.00027437007683556457, 'kings': 0.00023116574213121418, 'cross': 0.00021698562593947248}}\n"
     ]
    },
    {
     "data": {
      "text/html": [
       "<span style=\"font-size:20px; font-family:Times New Roman;\">Wasn</span> <span style=\"font-size:20px; font-family:Times New Roman;\">t</span> <span style=\"font-size:20px; font-family:Times New Roman;\">as</span> <span style=\"font-size:20px; font-family:Times New Roman;\"><span style=\"background-color:rgba(255, 0, 0, 0.45390940672597974)\">close</span></span> <span style=\"font-size:20px; font-family:Times New Roman;\">to</span> <span style=\"font-size:20px; font-family:Times New Roman;\"><span style=\"background-color:rgba(255, 0, 0, 0.028536740768994318)\">kings</span></span> <span style=\"font-size:20px; font-family:Times New Roman;\"><span style=\"background-color:rgba(255, 0, 0, 0.044643744216779024)\">cross</span></span> <span style=\"font-size:20px; font-family:Times New Roman;\">as</span> <span style=\"font-size:20px; font-family:Times New Roman;\">you</span> <span style=\"font-size:20px; font-family:Times New Roman;\"><span style=\"background-color:rgba(0, 0, 255, 0.03207960052514644)\">think</span></span> <span style=\"font-size:20px; font-family:Times New Roman;\">10</span> <span style=\"font-size:20px; font-family:Times New Roman;\">15</span> <span style=\"font-size:20px; font-family:Times New Roman;\"><span style=\"background-color:rgba(255, 0, 0, 0.10989164062539519)\">min</span></span> <span style=\"font-size:20px; font-family:Times New Roman;\"><span style=\"background-color:rgba(255, 0, 0, 0.29152118689619994)\">walk</span></span> <span style=\"font-size:20px; font-family:Times New Roman;\"><span style=\"background-color:rgba(255, 0, 0, 0.011290063549556735)\">depending</span></span> <span style=\"font-size:20px; font-family:Times New Roman;\">how</span> <span style=\"font-size:20px; font-family:Times New Roman;\"><span style=\"background-color:rgba(0, 0, 255, 0.04682899418180416)\">fast</span></span> <span style=\"font-size:20px; font-family:Times New Roman;\">you</span> <span style=\"font-size:20px; font-family:Times New Roman;\"><span style=\"background-color:rgba(255, 0, 0, 0.29152118689619994)\">walk</span></span>"
      ],
      "text/plain": [
       "<IPython.core.display.HTML object>"
      ]
     },
     "metadata": {},
     "output_type": "display_data"
    },
    {
     "name": "stdout",
     "output_type": "stream",
     "text": [
      "\n",
      " there was nothing postive about my overall experince with Brittania \n"
     ]
    },
    {
     "data": {
      "text/html": [
       "<span style=\"font-size:16px; font-family:Times New Roman;\">\n",
       " <span style=\"background-color: rgba(255, 0, 0, 1);\">Number 1 Topic is 7</span> with  probability 0.29867120346508347, Title is: Perfect Everything Thought</span>"
      ],
      "text/plain": [
       "<IPython.core.display.HTML object>"
      ]
     },
     "metadata": {},
     "output_type": "display_data"
    },
    {
     "data": {
      "text/html": [
       "<span style=\"font-size:16px; font-family:Times New Roman;\">\n",
       " <span style=\"background-color: rgba(0, 0, 255, 1);\">Number 2 Topic is 0</span> with  probability 0.13511251891669787, Title is: Hospitality Excellence</span>"
      ],
      "text/plain": [
       "<IPython.core.display.HTML object>"
      ]
     },
     "metadata": {},
     "output_type": "display_data"
    },
    {
     "data": {
      "text/html": [
       "<span style=\"font-size:16px; font-family:Times New Roman;\">\n",
       " <span style=\"background-color: rgba(0, 255, 0, 1);\">Number 3 Topic is 2</span> with  probability 0.07209509781124844, Title is: Hotel Amenities Excellence</span>"
      ],
      "text/plain": [
       "<IPython.core.display.HTML object>"
      ]
     },
     "metadata": {},
     "output_type": "display_data"
    },
    {
     "name": "stdout",
     "output_type": "stream",
     "text": [
      "[7, 0, 2]\n",
      "{7: {'nothing': 0.3231399063269309, 'overall': 0.018280413762420844, 'postive': 0.002445471898613174, 'experince': 0.002181717551237244}, 0: {'overall': 0.004534534832447693, 'nothing': 0.003744546367588792}, 2: {'overall': 0.004953348729456952, 'nothing': 0.0028056382982905217}}\n"
     ]
    },
    {
     "data": {
      "text/html": [
       "<span style=\"font-size:20px; font-family:Times New Roman;\">there</span> <span style=\"font-size:20px; font-family:Times New Roman;\">was</span> <span style=\"font-size:20px; font-family:Times New Roman;\"><span style=\"background-color:rgba(255, 0, 0, 1.0)\">nothing</span></span> <span style=\"font-size:20px; font-family:Times New Roman;\"><span style=\"background-color:rgba(255, 0, 0, 0.007567842444501462)\">postive</span></span> <span style=\"font-size:20px; font-family:Times New Roman;\">about</span> <span style=\"font-size:20px; font-family:Times New Roman;\">my</span> <span style=\"font-size:20px; font-family:Times New Roman;\"><span style=\"background-color:rgba(255, 0, 0, 0.05657120462220463)\">overall</span></span> <span style=\"font-size:20px; font-family:Times New Roman;\"><span style=\"background-color:rgba(255, 0, 0, 0.00675161906196114)\">experince</span></span> <span style=\"font-size:20px; font-family:Times New Roman;\">with</span> <span style=\"font-size:20px; font-family:Times New Roman;\"><span style=\"background-color:rgba(255, 0, 0, 0.007567842444501462)\">Brittania</span></span>"
      ],
      "text/plain": [
       "<IPython.core.display.HTML object>"
      ]
     },
     "metadata": {},
     "output_type": "display_data"
    },
    {
     "name": "stdout",
     "output_type": "stream",
     "text": [
      "\n",
      " Quite pricey but you can get deals to bring it down Mini bar expensive but theres a vending machine a minute down the road go there instead\n"
     ]
    },
    {
     "data": {
      "text/html": [
       "<span style=\"font-size:16px; font-family:Times New Roman;\">\n",
       " <span style=\"background-color: rgba(255, 0, 0, 1);\">Number 1 Topic is 18</span> with  probability 1.0, Title is: Bar Drink Prices</span>"
      ],
      "text/plain": [
       "<IPython.core.display.HTML object>"
      ]
     },
     "metadata": {},
     "output_type": "display_data"
    },
    {
     "data": {
      "text/html": [
       "<span style=\"font-size:16px; font-family:Times New Roman;\">\n",
       " <span style=\"background-color: rgba(0, 0, 255, 1);\">Number 2 Topic is 2</span> with  probability 8.86469568675485e-307, Title is: Hotel Amenities Excellence</span>"
      ],
      "text/plain": [
       "<IPython.core.display.HTML object>"
      ]
     },
     "metadata": {},
     "output_type": "display_data"
    },
    {
     "data": {
      "text/html": [
       "<span style=\"font-size:16px; font-family:Times New Roman;\">\n",
       " <span style=\"background-color: rgba(0, 255, 0, 1);\">Number 3 Topic is 0</span> with  probability 5.92812879342351e-307, Title is: Hospitality Excellence</span>"
      ],
      "text/plain": [
       "<IPython.core.display.HTML object>"
      ]
     },
     "metadata": {},
     "output_type": "display_data"
    },
    {
     "name": "stdout",
     "output_type": "stream",
     "text": [
      "[18, 2, 0]\n",
      "{18: {'bar': 0.2210480515986648, 'expensive': 0.12697257466012904, 'pricey': 0.03234402702979137, 'bring': 0.00797036320532531, 'get': 0.007888796849045825, 'instead': 0.00685192398850709, 'minute': 0.005932329903716568, 'theres': 0.005644995057534793, 'deals': 0.005423309392253164, 'vending': 0.005120320619211441, 'machine': 0.0030405643093701475, 'road': 0.00299006876288965}, 2: {'bar': 0.03377622288306225, 'expensive': 0.008373259830556945, 'get': 0.004427374280474093, 'pricey': 0.001688577867184629, 'road': 0.0015610189571400922, 'machine': 0.000952428637007678, 'minute': 0.0006194158177660867, 'bring': 0.00041610708801160276, 'instead': 0.00017885848264917074}, 0: {'get': 0.007358044681552877, 'minute': 0.006130870832101487, 'bar': 0.004835948511359873, 'road': 0.0025653986065417057, 'expensive': 0.0020270424949771614, 'machine': 0.001818200479968809, 'pricey': 0.0007474829785567941, 'instead': 0.0006235055441313834, 'bring': 0.000569863111353454, 'theres': 0.00014676527230561649}}\n"
     ]
    },
    {
     "data": {
      "text/html": [
       "<span style=\"font-size:20px; font-family:Times New Roman;\"><span style=\"background-color:rgba(255, 0, 0, 0.0812051425643294)\">Quite</span></span> <span style=\"font-size:20px; font-family:Times New Roman;\"><span style=\"background-color:rgba(255, 0, 0, 0.1463212491395999)\">pricey</span></span> <span style=\"font-size:20px; font-family:Times New Roman;\">but</span> <span style=\"font-size:20px; font-family:Times New Roman;\">you</span> <span style=\"font-size:20px; font-family:Times New Roman;\">can</span> <span style=\"font-size:20px; font-family:Times New Roman;\"><span style=\"background-color:rgba(255, 0, 0, 0.0356881537384855)\">get</span></span> <span style=\"font-size:20px; font-family:Times New Roman;\"><span style=\"background-color:rgba(255, 0, 0, 0.024534527009085486)\">deals</span></span> <span style=\"font-size:20px; font-family:Times New Roman;\">to</span> <span style=\"font-size:20px; font-family:Times New Roman;\"><span style=\"background-color:rgba(255, 0, 0, 0.036057152043105604)\">bring</span></span> <span style=\"font-size:20px; font-family:Times New Roman;\">it</span> <span style=\"font-size:20px; font-family:Times New Roman;\">down</span> <span style=\"font-size:20px; font-family:Times New Roman;\"><span style=\"background-color:rgba(255, 0, 0, 0.26473842779776774)\">Mini</span></span> <span style=\"font-size:20px; font-family:Times New Roman;\"><span style=\"background-color:rgba(255, 0, 0, 1.0)\">bar</span></span> <span style=\"font-size:20px; font-family:Times New Roman;\"><span style=\"background-color:rgba(255, 0, 0, 0.5744116437210705)\">expensive</span></span> <span style=\"font-size:20px; font-family:Times New Roman;\">but</span> <span style=\"font-size:20px; font-family:Times New Roman;\"><span style=\"background-color:rgba(255, 0, 0, 0.02553741151170088)\">theres</span></span> <span style=\"font-size:20px; font-family:Times New Roman;\">a</span> <span style=\"font-size:20px; font-family:Times New Roman;\"><span style=\"background-color:rgba(255, 0, 0, 0.023163835112683568)\">vending</span></span> <span style=\"font-size:20px; font-family:Times New Roman;\"><span style=\"background-color:rgba(255, 0, 0, 0.013755218774289858)\">machine</span></span> <span style=\"font-size:20px; font-family:Times New Roman;\">a</span> <span style=\"font-size:20px; font-family:Times New Roman;\"><span style=\"background-color:rgba(0, 255, 0, 0.12631632797245274)\">minute</span></span> <span style=\"font-size:20px; font-family:Times New Roman;\">down</span> <span style=\"font-size:20px; font-family:Times New Roman;\">the</span> <span style=\"font-size:20px; font-family:Times New Roman;\"><span style=\"background-color:rgba(255, 0, 0, 0.013526781807235396)\">road</span></span> <span style=\"font-size:20px; font-family:Times New Roman;\">go</span> <span style=\"font-size:20px; font-family:Times New Roman;\">there</span> <span style=\"font-size:20px; font-family:Times New Roman;\"><span style=\"background-color:rgba(255, 0, 0, 0.030997441230323323)\">instead</span></span>"
      ],
      "text/plain": [
       "<IPython.core.display.HTML object>"
      ]
     },
     "metadata": {},
     "output_type": "display_data"
    },
    {
     "name": "stdout",
     "output_type": "stream",
     "text": [
      "\n",
      "The Momo restaurant wasn t our style of food although it looked very modern and was quite busy\n"
     ]
    },
    {
     "data": {
      "text/html": [
       "<span style=\"font-size:16px; font-family:Times New Roman;\">\n",
       " <span style=\"background-color: rgba(255, 0, 0, 1);\">Number 1 Topic is 2</span> with  probability 0.25723428529533776, Title is: Hotel Amenities Excellence</span>"
      ],
      "text/plain": [
       "<IPython.core.display.HTML object>"
      ]
     },
     "metadata": {},
     "output_type": "display_data"
    },
    {
     "data": {
      "text/html": [
       "<span style=\"font-size:16px; font-family:Times New Roman;\">\n",
       " <span style=\"background-color: rgba(0, 0, 255, 1);\">Number 2 Topic is 0</span> with  probability 0.10402316222028421, Title is: Hospitality Excellence</span>"
      ],
      "text/plain": [
       "<IPython.core.display.HTML object>"
      ]
     },
     "metadata": {},
     "output_type": "display_data"
    },
    {
     "data": {
      "text/html": [
       "<span style=\"font-size:16px; font-family:Times New Roman;\">\n",
       " <span style=\"background-color: rgba(0, 255, 0, 1);\">Number 3 Topic is 18</span> with  probability 0.030328464487173416, Title is: Bar Drink Prices</span>"
      ],
      "text/plain": [
       "<IPython.core.display.HTML object>"
      ]
     },
     "metadata": {},
     "output_type": "display_data"
    },
    {
     "name": "stdout",
     "output_type": "stream",
     "text": [
      "[2, 0, 18]\n",
      "{2: {'food': 0.02504594262317111, 'restaurant': 0.0206095246084464, 'quite': 0.006677011039744786, 'modern': 0.006339149766614592, 'although': 0.003100580545487424, 'busy': 0.0029336766635038834, 'looked': 0.001777448786276063, 'style': 0.0015065735748058156}, 0: {'modern': 0.013670064700344759, 'quite': 0.005541962481607148, 'food': 0.004606203095332542, 'restaurant': 0.004317238448095118, 'style': 0.003626350939844156, 'although': 0.003333854822793243, 'looked': 0.0021727057447457295, 'busy': 0.0017450623089125899}, 18: {'quite': 0.017950238543636816, 'food': 0.01393449960283467, 'restaurant': 0.010443574595067255, 'looked': 0.00619023883455424, 'although': 0.002699562182963316}}\n"
     ]
    },
    {
     "data": {
      "text/html": [
       "<span style=\"font-size:20px; font-family:Times New Roman;\">The</span> <span style=\"font-size:20px; font-family:Times New Roman;\"><span style=\"background-color:rgba(255, 0, 0, 0.0028664946521041196)\">Momo</span></span> <span style=\"font-size:20px; font-family:Times New Roman;\"><span style=\"background-color:rgba(255, 0, 0, 0.17882696980891483)\">restaurant</span></span> <span style=\"font-size:20px; font-family:Times New Roman;\">wasn</span> <span style=\"font-size:20px; font-family:Times New Roman;\">t</span> <span style=\"font-size:20px; font-family:Times New Roman;\">our</span> <span style=\"font-size:20px; font-family:Times New Roman;\"><span style=\"background-color:rgba(0, 0, 255, 0.07471488915768827)\">style</span></span> <span style=\"font-size:20px; font-family:Times New Roman;\">of</span> <span style=\"font-size:20px; font-family:Times New Roman;\"><span style=\"background-color:rgba(255, 0, 0, 0.2173213652620619)\">food</span></span> <span style=\"font-size:20px; font-family:Times New Roman;\"><span style=\"background-color:rgba(0, 0, 255, 0.06868849642101277)\">although</span></span> <span style=\"font-size:20px; font-family:Times New Roman;\">it</span> <span style=\"font-size:20px; font-family:Times New Roman;\"><span style=\"background-color:rgba(0, 255, 0, 0.028004041608985758)\">looked</span></span> <span style=\"font-size:20px; font-family:Times New Roman;\">very</span> <span style=\"font-size:20px; font-family:Times New Roman;\"><span style=\"background-color:rgba(0, 0, 255, 0.2816487940101514)\">modern</span></span> <span style=\"font-size:20px; font-family:Times New Roman;\">and</span> <span style=\"font-size:20px; font-family:Times New Roman;\">was</span> <span style=\"font-size:20px; font-family:Times New Roman;\"><span style=\"background-color:rgba(0, 255, 0, 0.0812051425643294)\">quite</span></span> <span style=\"font-size:20px; font-family:Times New Roman;\"><span style=\"background-color:rgba(255, 0, 0, 0.025455245479972)\">busy</span></span>"
      ],
      "text/plain": [
       "<IPython.core.display.HTML object>"
      ]
     },
     "metadata": {},
     "output_type": "display_data"
    },
    {
     "name": "stdout",
     "output_type": "stream",
     "text": [
      "\n",
      "The rooms are adequate and comfortable although I d say they are not going to be everyone s cup of tea as there is only one side to the bed with the toilet and shower in a pod Think open plan\n"
     ]
    },
    {
     "data": {
      "text/html": [
       "<span style=\"font-size:16px; font-family:Times New Roman;\">\n",
       " <span style=\"background-color: rgba(255, 0, 0, 1);\">Number 1 Topic is 0</span> with  probability 0.19169082602033272, Title is: Hospitality Excellence</span>"
      ],
      "text/plain": [
       "<IPython.core.display.HTML object>"
      ]
     },
     "metadata": {},
     "output_type": "display_data"
    },
    {
     "data": {
      "text/html": [
       "<span style=\"font-size:16px; font-family:Times New Roman;\">\n",
       " <span style=\"background-color: rgba(0, 0, 255, 1);\">Number 2 Topic is 1</span> with  probability 0.1299539015680582, Title is: Bathroom and spa</span>"
      ],
      "text/plain": [
       "<IPython.core.display.HTML object>"
      ]
     },
     "metadata": {},
     "output_type": "display_data"
    },
    {
     "data": {
      "text/html": [
       "<span style=\"font-size:16px; font-family:Times New Roman;\">\n",
       " <span style=\"background-color: rgba(0, 255, 0, 1);\">Number 3 Topic is 2</span> with  probability 0.09867404285760724, Title is: Hotel Amenities Excellence</span>"
      ],
      "text/plain": [
       "<IPython.core.display.HTML object>"
      ]
     },
     "metadata": {},
     "output_type": "display_data"
    },
    {
     "name": "stdout",
     "output_type": "stream",
     "text": [
      "[0, 1, 2]\n",
      "{0: {'comfortable': 0.026514309589912105, 'rooms': 0.022525856144947343, 'bed': 0.013568441629805767, 'shower': 0.008537696382555497, 'one': 0.0066631768966275585, 'although': 0.003333854822793243, 'tea': 0.002696606506963827, 'say': 0.002341950072981652, 'going': 0.0023419326310190045, 'side': 0.0022038708376959718, 'everyone': 0.001347378655768482, 'open': 0.001310357119088459, 'toilet': 0.0011151414358305028, 'adequate': 0.0010074177085627877, 'plan': 0.000642211801184966, 'cup': 0.00026633209375020935, 'pod': 7.136328034439413e-05}, 1: {'shower': 0.08029141689171172, 'toilet': 0.028259102674370883, 'bed': 0.014857759529752377, 'rooms': 0.013621535514710948, 'one': 0.012225523782620165, 'comfortable': 0.008356532442084091, 'open': 0.007431124276472782, 'although': 0.005671955182369398, 'side': 0.005366502252860077, 'going': 0.0036178340234156382, 'say': 0.0026588159268273568, 'tea': 0.002627804852728277, 'everyone': 0.001747542364793535, 'adequate': 0.0012061061281208262, 'pod': 0.0010679742004556722, 'plan': 0.000873718543389124, 'cup': 0.00047828934461403323}, 2: {'comfortable': 0.02663939781420701, 'bed': 0.020635347520292023, 'rooms': 0.017568688718497552, 'one': 0.004857039323668865, 'open': 0.004016070537378536, 'although': 0.003100580545487424, 'everyone': 0.0025251879164939956, 'tea': 0.002518525664521053, 'side': 0.0024002217533908585, 'going': 0.0015169803895309314, 'adequate': 0.0014160379194261587, 'shower': 0.00048704075665463955, 'plan': 0.00046893521821947783, 'say': 0.0003243223607788623, 'cup': 0.00021391968833066875}}\n"
     ]
    },
    {
     "data": {
      "text/html": [
       "<span style=\"font-size:20px; font-family:Times New Roman;\">The</span> <span style=\"font-size:20px; font-family:Times New Roman;\"><span style=\"background-color:rgba(255, 0, 0, 0.4641075485992815)\">rooms</span></span> <span style=\"font-size:20px; font-family:Times New Roman;\">are</span> <span style=\"font-size:20px; font-family:Times New Roman;\"><span style=\"background-color:rgba(0, 255, 0, 0.012286832184461001)\">adequate</span></span> <span style=\"font-size:20px; font-family:Times New Roman;\">and</span> <span style=\"font-size:20px; font-family:Times New Roman;\"><span style=\"background-color:rgba(0, 255, 0, 0.2311476309694452)\">comfortable</span></span> <span style=\"font-size:20px; font-family:Times New Roman;\"><span style=\"background-color:rgba(0, 0, 255, 0.07064211097456544)\">although</span></span> <span style=\"font-size:20px; font-family:Times New Roman;\">I</span> <span style=\"font-size:20px; font-family:Times New Roman;\">d</span> <span style=\"font-size:20px; font-family:Times New Roman;\"><span style=\"background-color:rgba(0, 0, 255, 0.033114572263848285)\">say</span></span> <span style=\"font-size:20px; font-family:Times New Roman;\">they</span> <span style=\"font-size:20px; font-family:Times New Roman;\">are</span> <span style=\"font-size:20px; font-family:Times New Roman;\">not</span> <span style=\"font-size:20px; font-family:Times New Roman;\"><span style=\"background-color:rgba(0, 0, 255, 0.04505878913925478)\">going</span></span> <span style=\"font-size:20px; font-family:Times New Roman;\">to</span> <span style=\"font-size:20px; font-family:Times New Roman;\">be</span> <span style=\"font-size:20px; font-family:Times New Roman;\"><span style=\"background-color:rgba(0, 255, 0, 0.02191082578972446)\">everyone</span></span> <span style=\"font-size:20px; font-family:Times New Roman;\">s</span> <span style=\"font-size:20px; font-family:Times New Roman;\"><span style=\"background-color:rgba(0, 0, 255, 0.005956917477980213)\">cup</span></span> <span style=\"font-size:20px; font-family:Times New Roman;\">of</span> <span style=\"font-size:20px; font-family:Times New Roman;\"><span style=\"background-color:rgba(255, 0, 0, 0.055559061881187324)\">tea</span></span> <span style=\"font-size:20px; font-family:Times New Roman;\">as</span> <span style=\"font-size:20px; font-family:Times New Roman;\">there</span> <span style=\"font-size:20px; font-family:Times New Roman;\">is</span> <span style=\"font-size:20px; font-family:Times New Roman;\">only</span> <span style=\"font-size:20px; font-family:Times New Roman;\"><span style=\"background-color:rgba(0, 0, 255, 0.15226439208450654)\">one</span></span> <span style=\"font-size:20px; font-family:Times New Roman;\"><span style=\"background-color:rgba(0, 0, 255, 0.06683780733497116)\">side</span></span> <span style=\"font-size:20px; font-family:Times New Roman;\">to</span> <span style=\"font-size:20px; font-family:Times New Roman;\">the</span> <span style=\"font-size:20px; font-family:Times New Roman;\"><span style=\"background-color:rgba(0, 255, 0, 0.17905103286542526)\">bed</span></span> <span style=\"font-size:20px; font-family:Times New Roman;\">with</span> <span style=\"font-size:20px; font-family:Times New Roman;\">the</span> <span style=\"font-size:20px; font-family:Times New Roman;\"><span style=\"background-color:rgba(0, 0, 255, 0.35195670681068775)\">toilet</span></span> <span style=\"font-size:20px; font-family:Times New Roman;\">and</span> <span style=\"font-size:20px; font-family:Times New Roman;\"><span style=\"background-color:rgba(0, 0, 255, 1.0)\">shower</span></span> <span style=\"font-size:20px; font-family:Times New Roman;\">in</span> <span style=\"font-size:20px; font-family:Times New Roman;\">a</span> <span style=\"font-size:20px; font-family:Times New Roman;\"><span style=\"background-color:rgba(0, 0, 255, 0.013301224985181654)\">pod</span></span> <span style=\"font-size:20px; font-family:Times New Roman;\"><span style=\"background-color:rgba(0, 0, 255, 0.0456040176704263)\">Think</span></span> <span style=\"font-size:20px; font-family:Times New Roman;\"><span style=\"background-color:rgba(0, 0, 255, 0.09255191356873263)\">open</span></span> <span style=\"font-size:20px; font-family:Times New Roman;\"><span style=\"background-color:rgba(0, 0, 255, 0.01088184238381918)\">plan</span></span>"
      ],
      "text/plain": [
       "<IPython.core.display.HTML object>"
      ]
     },
     "metadata": {},
     "output_type": "display_data"
    },
    {
     "name": "stdout",
     "output_type": "stream",
     "text": [
      "\n",
      "We made a point of letting the hotel know at the time of booking we were celebrating my wife s 50th birthday We asked when checking in if we had a room with some sort of view and were told no and we are not moving you Were disappointed there was nothing in the room when we checked in but after after some lunch and a walk we arrived back to find a card and bottle of processco had been left Thank you We would definitely book the Strand Palace again but would make sure we had a nicer room\n"
     ]
    },
    {
     "data": {
      "text/html": [
       "<span style=\"font-size:16px; font-family:Times New Roman;\">\n",
       " <span style=\"background-color: rgba(255, 0, 0, 1);\">Number 1 Topic is 6</span> with  probability 0.2830789119901198, Title is: Hotel Booking Reception</span>"
      ],
      "text/plain": [
       "<IPython.core.display.HTML object>"
      ]
     },
     "metadata": {},
     "output_type": "display_data"
    },
    {
     "data": {
      "text/html": [
       "<span style=\"font-size:16px; font-family:Times New Roman;\">\n",
       " <span style=\"background-color: rgba(0, 0, 255, 1);\">Number 2 Topic is 0</span> with  probability 0.1366643292743594, Title is: Hospitality Excellence</span>"
      ],
      "text/plain": [
       "<IPython.core.display.HTML object>"
      ]
     },
     "metadata": {},
     "output_type": "display_data"
    },
    {
     "data": {
      "text/html": [
       "<span style=\"font-size:16px; font-family:Times New Roman;\">\n",
       " <span style=\"background-color: rgba(0, 255, 0, 1);\">Number 3 Topic is 2</span> with  probability 0.07942519208341577, Title is: Hotel Amenities Excellence</span>"
      ],
      "text/plain": [
       "<IPython.core.display.HTML object>"
      ]
     },
     "metadata": {},
     "output_type": "display_data"
    },
    {
     "name": "stdout",
     "output_type": "stream",
     "text": [
      "[6, 0, 2]\n",
      "{6: {'room': 0.0312774394878031, 'hotel': 0.02713918418622058, 'booking': 0.02644008317916262, 'told': 0.0199907811523774, 'card': 0.01966667910170656, 'asked': 0.01568698249078915, 'would': 0.015071039988020014, 'time': 0.014235320948373148, 'back': 0.012902505411590829, 'arrived': 0.011267835811585093, 'checked': 0.010562467913077694, 'made': 0.010125223213468952, 'left': 0.009024654623642499, 'know': 0.007631569044296368, 'checking': 0.006500446129803468, 'find': 0.006059363265201731, 'make': 0.005824638732037589, 'disappointed': 0.005077046542745887, 'nothing': 0.005030605704449359, 'book': 0.004761433451010329, 'view': 0.00464896763316084, 'sort': 0.0036047425503531235, 'sure': 0.0034418939629361264, 'wife': 0.003156881277806667, 'point': 0.003051427603119293, 'bottle': 0.00259298016295945, 'walk': 0.0024445932737035105, 'definitely': 0.0019210301609668226, 'birthday': 0.0016326160227594898, 'moving': 0.0011219920641484253, 'nicer': 0.000804699503525506, 'lunch': 0.00044590272000343196, 'celebrating': 0.00040552262764066314, 'letting': 0.00028765199967776037, 'processco': 0.00019760574378635475}, 0: {'hotel': 0.048535853840198054, 'room': 0.02927797724444089, 'walk': 0.01636728867856922, 'view': 0.011865545376186169, 'would': 0.01093678210925847, 'definitely': 0.009162899493305975, 'back': 0.007165779440133855, 'time': 0.006720173463717399, 'made': 0.005412270766903251, 'make': 0.003937370254746942, 'nothing': 0.003744546367588792, 'find': 0.003630184779461685, 'sure': 0.0024893307632249903, 'arrived': 0.002396356345691846, 'book': 0.002095971026414722, 'asked': 0.0018785051397492934, 'booking': 0.0018442190615125089, 'left': 0.0016196107988295247, 'birthday': 0.001242926846841495, 'checked': 0.0011404900090733608, 'know': 0.001133033154777319, 'point': 0.0007808070383928566, 'checking': 0.0006932957336238936, 'bottle': 0.0006913764257306162, 'wife': 0.0006652394759880842, 'nicer': 0.0006436805122716621, 'card': 0.0005759407546029914, 'disappointed': 0.00043870320413084426, 'lunch': 0.00041612474177082145, 'told': 0.0004115243411080995, 'celebrating': 0.000252294190547357, 'moving': 0.00023268087510661066, 'sort': 0.00010512540737756382}, 2: {'room': 0.02884931166699843, 'hotel': 0.017743692380512918, 'would': 0.008936242798054956, 'view': 0.00493318006460417, 'time': 0.004897515683972707, 'back': 0.004245935272953548, 'made': 0.004203066324315553, 'definitely': 0.004133165473826708, 'lunch': 0.002924548618465031, 'nothing': 0.0028056382982905217, 'make': 0.002658757155678278, 'arrived': 0.002010952862483136, 'find': 0.0019625498014717384, 'walk': 0.0015980122184729303, 'asked': 0.0015608562164172758, 'book': 0.0015151479349204686, 'disappointed': 0.0012332925402101212, 'sure': 0.0011287199856204629, 'birthday': 0.0011271434020898904, 'nicer': 0.0008616806974004358, 'booking': 0.000766183899550365, 'left': 0.000722712244167751, 'checking': 0.0006960746129459338, 'checked': 0.0006543207656110813, 'told': 0.0005508984262888849, 'wife': 0.0003816605141476858, 'point': 0.0003689113797463095, 'bottle': 0.00034707380602565127, 'know': 0.0003250213133822141, 'celebrating': 0.00025330544025679657, 'sort': 0.00021109354551666158, 'card': 0.000154199799939939}}\n"
     ]
    },
    {
     "data": {
      "text/html": [
       "<span style=\"font-size:20px; font-family:Times New Roman;\">We</span> <span style=\"font-size:20px; font-family:Times New Roman;\"><span style=\"background-color:rgba(255, 0, 0, 0.3237228935385637)\">made</span></span> <span style=\"font-size:20px; font-family:Times New Roman;\">a</span> <span style=\"font-size:20px; font-family:Times New Roman;\"><span style=\"background-color:rgba(255, 0, 0, 0.0975600193970233)\">point</span></span> <span style=\"font-size:20px; font-family:Times New Roman;\">of</span> <span style=\"font-size:20px; font-family:Times New Roman;\"><span style=\"background-color:rgba(255, 0, 0, 0.009196788624271264)\">letting</span></span> <span style=\"font-size:20px; font-family:Times New Roman;\">the</span> <span style=\"font-size:20px; font-family:Times New Roman;\"><span style=\"background-color:rgba(0, 0, 255, 1.0)\">hotel</span></span> <span style=\"font-size:20px; font-family:Times New Roman;\"><span style=\"background-color:rgba(255, 0, 0, 0.2439959654393181)\">know</span></span> <span style=\"font-size:20px; font-family:Times New Roman;\">at</span> <span style=\"font-size:20px; font-family:Times New Roman;\">the</span> <span style=\"font-size:20px; font-family:Times New Roman;\"><span style=\"background-color:rgba(255, 0, 0, 0.4551306366981968)\">time</span></span> <span style=\"font-size:20px; font-family:Times New Roman;\">of</span> <span style=\"font-size:20px; font-family:Times New Roman;\"><span style=\"background-color:rgba(255, 0, 0, 0.8453403990909534)\">booking</span></span> <span style=\"font-size:20px; font-family:Times New Roman;\">we</span> <span style=\"font-size:20px; font-family:Times New Roman;\">were</span> <span style=\"font-size:20px; font-family:Times New Roman;\"><span style=\"background-color:rgba(255, 0, 0, 0.012965339691530698)\">celebrating</span></span> <span style=\"font-size:20px; font-family:Times New Roman;\">my</span> <span style=\"font-size:20px; font-family:Times New Roman;\"><span style=\"background-color:rgba(255, 0, 0, 0.10093157654537926)\">wife</span></span> <span style=\"font-size:20px; font-family:Times New Roman;\">s</span> <span style=\"font-size:20px; font-family:Times New Roman;\">50th</span> <span style=\"font-size:20px; font-family:Times New Roman;\"><span style=\"background-color:rgba(255, 0, 0, 0.05219787966966228)\">birthday</span></span> <span style=\"font-size:20px; font-family:Times New Roman;\">We</span> <span style=\"font-size:20px; font-family:Times New Roman;\"><span style=\"background-color:rgba(255, 0, 0, 0.5015430530017145)\">asked</span></span> <span style=\"font-size:20px; font-family:Times New Roman;\">when</span> <span style=\"font-size:20px; font-family:Times New Roman;\"><span style=\"background-color:rgba(255, 0, 0, 0.20783178662493684)\">checking</span></span> <span style=\"font-size:20px; font-family:Times New Roman;\">in</span> <span style=\"font-size:20px; font-family:Times New Roman;\">if</span> <span style=\"font-size:20px; font-family:Times New Roman;\">we</span> <span style=\"font-size:20px; font-family:Times New Roman;\">had</span> <span style=\"font-size:20px; font-family:Times New Roman;\">a</span> <span style=\"font-size:20px; font-family:Times New Roman;\"><span style=\"background-color:rgba(255, 0, 0, 1.0)\">room</span></span> <span style=\"font-size:20px; font-family:Times New Roman;\">with</span> <span style=\"font-size:20px; font-family:Times New Roman;\">some</span> <span style=\"font-size:20px; font-family:Times New Roman;\"><span style=\"background-color:rgba(255, 0, 0, 0.11525056428480417)\">sort</span></span> <span style=\"font-size:20px; font-family:Times New Roman;\">of</span> <span style=\"font-size:20px; font-family:Times New Roman;\"><span style=\"background-color:rgba(0, 0, 255, 0.24446969482092357)\">view</span></span> <span style=\"font-size:20px; font-family:Times New Roman;\">and</span> <span style=\"font-size:20px; font-family:Times New Roman;\">were</span> <span style=\"font-size:20px; font-family:Times New Roman;\"><span style=\"background-color:rgba(255, 0, 0, 0.6391437879744911)\">told</span></span> <span style=\"font-size:20px; font-family:Times New Roman;\">no</span> <span style=\"font-size:20px; font-family:Times New Roman;\">and</span> <span style=\"font-size:20px; font-family:Times New Roman;\">we</span> <span style=\"font-size:20px; font-family:Times New Roman;\">are</span> <span style=\"font-size:20px; font-family:Times New Roman;\">not</span> <span style=\"font-size:20px; font-family:Times New Roman;\"><span style=\"background-color:rgba(255, 0, 0, 0.03587224793723781)\">moving</span></span> <span style=\"font-size:20px; font-family:Times New Roman;\">you</span> <span style=\"font-size:20px; font-family:Times New Roman;\">Were</span> <span style=\"font-size:20px; font-family:Times New Roman;\"><span style=\"background-color:rgba(255, 0, 0, 0.1623229594841267)\">disappointed</span></span> <span style=\"font-size:20px; font-family:Times New Roman;\">there</span> <span style=\"font-size:20px; font-family:Times New Roman;\">was</span> <span style=\"font-size:20px; font-family:Times New Roman;\"><span style=\"background-color:rgba(255, 0, 0, 0.1608381564101846)\">nothing</span></span> <span style=\"font-size:20px; font-family:Times New Roman;\">in</span> <span style=\"font-size:20px; font-family:Times New Roman;\">the</span> <span style=\"font-size:20px; font-family:Times New Roman;\"><span style=\"background-color:rgba(255, 0, 0, 1.0)\">room</span></span> <span style=\"font-size:20px; font-family:Times New Roman;\">when</span> <span style=\"font-size:20px; font-family:Times New Roman;\">we</span> <span style=\"font-size:20px; font-family:Times New Roman;\"><span style=\"background-color:rgba(255, 0, 0, 0.3377024489871243)\">checked</span></span> <span style=\"font-size:20px; font-family:Times New Roman;\">in</span> <span style=\"font-size:20px; font-family:Times New Roman;\">but</span> <span style=\"font-size:20px; font-family:Times New Roman;\">after</span> <span style=\"font-size:20px; font-family:Times New Roman;\">after</span> <span style=\"font-size:20px; font-family:Times New Roman;\">some</span> <span style=\"font-size:20px; font-family:Times New Roman;\"><span style=\"background-color:rgba(0, 255, 0, 0.02537604226371206)\">lunch</span></span> <span style=\"font-size:20px; font-family:Times New Roman;\">and</span> <span style=\"font-size:20px; font-family:Times New Roman;\">a</span> <span style=\"font-size:20px; font-family:Times New Roman;\"><span style=\"background-color:rgba(0, 0, 255, 0.33722057785277093)\">walk</span></span> <span style=\"font-size:20px; font-family:Times New Roman;\">we</span> <span style=\"font-size:20px; font-family:Times New Roman;\"><span style=\"background-color:rgba(255, 0, 0, 0.36025441967457345)\">arrived</span></span> <span style=\"font-size:20px; font-family:Times New Roman;\"><span style=\"background-color:rgba(255, 0, 0, 0.41251795616525033)\">back</span></span> <span style=\"font-size:20px; font-family:Times New Roman;\">to</span> <span style=\"font-size:20px; font-family:Times New Roman;\"><span style=\"background-color:rgba(255, 0, 0, 0.1937295176468851)\">find</span></span> <span style=\"font-size:20px; font-family:Times New Roman;\">a</span> <span style=\"font-size:20px; font-family:Times New Roman;\"><span style=\"background-color:rgba(255, 0, 0, 0.6287816209947668)\">card</span></span> <span style=\"font-size:20px; font-family:Times New Roman;\">and</span> <span style=\"font-size:20px; font-family:Times New Roman;\"><span style=\"background-color:rgba(255, 0, 0, 0.08290257148353222)\">bottle</span></span> <span style=\"font-size:20px; font-family:Times New Roman;\">of</span> <span style=\"font-size:20px; font-family:Times New Roman;\"><span style=\"background-color:rgba(255, 0, 0, 0.006317836338982056)\">processco</span></span> <span style=\"font-size:20px; font-family:Times New Roman;\">had</span> <span style=\"font-size:20px; font-family:Times New Roman;\">been</span> <span style=\"font-size:20px; font-family:Times New Roman;\"><span style=\"background-color:rgba(255, 0, 0, 0.2885355953501801)\">left</span></span> <span style=\"font-size:20px; font-family:Times New Roman;\"><span style=\"background-color:rgba(0, 0, 255, 0.05169126650875117)\">Thank</span></span> <span style=\"font-size:20px; font-family:Times New Roman;\">you</span> <span style=\"font-size:20px; font-family:Times New Roman;\">We</span> <span style=\"font-size:20px; font-family:Times New Roman;\"><span style=\"background-color:rgba(255, 0, 0, 0.4818501845043004)\">would</span></span> <span style=\"font-size:20px; font-family:Times New Roman;\"><span style=\"background-color:rgba(0, 0, 255, 0.1887862017113035)\">definitely</span></span> <span style=\"font-size:20px; font-family:Times New Roman;\"><span style=\"background-color:rgba(255, 0, 0, 0.15223220087651643)\">book</span></span> <span style=\"font-size:20px; font-family:Times New Roman;\">the</span> <span style=\"font-size:20px; font-family:Times New Roman;\"><span style=\"background-color:rgba(0, 0, 255, 0.00588128360361017)\">Strand</span></span> <span style=\"font-size:20px; font-family:Times New Roman;\"><span style=\"background-color:rgba(0, 0, 255, 0.01887813586459795)\">Palace</span></span> <span style=\"font-size:20px; font-family:Times New Roman;\">again</span> <span style=\"font-size:20px; font-family:Times New Roman;\">but</span> <span style=\"font-size:20px; font-family:Times New Roman;\"><span style=\"background-color:rgba(255, 0, 0, 0.4818501845043004)\">would</span></span> <span style=\"font-size:20px; font-family:Times New Roman;\"><span style=\"background-color:rgba(255, 0, 0, 0.1862249220978896)\">make</span></span> <span style=\"font-size:20px; font-family:Times New Roman;\"><span style=\"background-color:rgba(255, 0, 0, 0.11004398119859912)\">sure</span></span> <span style=\"font-size:20px; font-family:Times New Roman;\">we</span> <span style=\"font-size:20px; font-family:Times New Roman;\">had</span> <span style=\"font-size:20px; font-family:Times New Roman;\">a</span> <span style=\"font-size:20px; font-family:Times New Roman;\"><span style=\"background-color:rgba(0, 255, 0, 0.007476725008775845)\">nicer</span></span> <span style=\"font-size:20px; font-family:Times New Roman;\"><span style=\"background-color:rgba(255, 0, 0, 1.0)\">room</span></span>"
      ],
      "text/plain": [
       "<IPython.core.display.HTML object>"
      ]
     },
     "metadata": {},
     "output_type": "display_data"
    }
   ],
   "source": [
    "# Calculate topic representations for the selected reviews with 85 percentile cut off\n",
    "top_topics85_words= []\n",
    "reviews = selected_docs.review.tolist()\n",
    "for rev in reviews:\n",
    "    print('\\n' + rev)\n",
    "    top_topics85_words.append(explain_BERTopic_topN(df, review=rev, topic_model=topic_model, cutoff_method = percentile_cutoff, cutoff_value = 85, titles = titles)[0])"
   ]
  },
  {
   "cell_type": "code",
   "execution_count": null,
   "metadata": {
    "colab": {
     "base_uri": "https://localhost:8080/",
     "height": 591
    },
    "executionInfo": {
     "elapsed": 55,
     "status": "ok",
     "timestamp": 1741289517187,
     "user": {
      "displayName": "Sule Ozturk",
      "userId": "14268268360802730607"
     },
     "user_tz": -180
    },
    "id": "bXBOYHDc8Rxl",
    "outputId": "72a463ca-30f2-4050-a122-9290c704209a"
   },
   "outputs": [
    {
     "data": {
      "application/vnd.google.colaboratory.intrinsic+json": {
       "summary": "{\n  \"name\": \"selected_docs\",\n  \"rows\": 77,\n  \"fields\": [\n    {\n      \"column\": \"review\",\n      \"properties\": {\n        \"dtype\": \"string\",\n        \"num_unique_values\": 77,\n        \"samples\": [\n          \" Everything you would expect from a premium hotel top service facilities and location\",\n          \" Servie for the breakfast was a bit unpredictable \",\n          \" Really good breakfast lovely fish tank in reception \"\n        ],\n        \"semantic_type\": \"\",\n        \"description\": \"\"\n      }\n    },\n    {\n      \"column\": \"85 Percentile Top Topics\",\n      \"properties\": {\n        \"dtype\": \"number\",\n        \"std\": null,\n        \"min\": null,\n        \"max\": null,\n        \"num_unique_values\": 0,\n        \"samples\": [],\n        \"semantic_type\": \"\",\n        \"description\": \"\"\n      }\n    },\n    {\n      \"column\": \"90 Percentile Top topics\",\n      \"properties\": {\n        \"dtype\": \"string\",\n        \"num_unique_values\": 74,\n        \"samples\": [],\n        \"semantic_type\": \"\",\n        \"description\": \"\"\n      }\n    },\n    {\n      \"column\": \"sentiment_label\",\n      \"properties\": {\n        \"dtype\": \"category\",\n        \"num_unique_values\": 2,\n        \"samples\": [],\n        \"semantic_type\": \"\",\n        \"description\": \"\"\n      }\n    },\n    {\n      \"column\": \"sentiment_class_probs\",\n      \"properties\": {\n        \"dtype\": \"string\",\n        \"num_unique_values\": 77,\n        \"samples\": [],\n        \"semantic_type\": \"\",\n        \"description\": \"\"\n      }\n    },\n    {\n      \"column\": \"lime_word_attributions_sentiment\",\n      \"properties\": {\n        \"dtype\": \"string\",\n        \"num_unique_values\": 77,\n        \"samples\": [],\n        \"semantic_type\": \"\",\n        \"description\": \"\"\n      }\n    },\n    {\n      \"column\": \"emotion\",\n      \"properties\": {\n        \"dtype\": \"category\",\n        \"num_unique_values\": 7,\n        \"samples\": [],\n        \"semantic_type\": \"\",\n        \"description\": \"\"\n      }\n    },\n    {\n      \"column\": \"emotion_class_probabilities\",\n      \"properties\": {\n        \"dtype\": \"string\",\n        \"num_unique_values\": 77,\n        \"samples\": [],\n        \"semantic_type\": \"\",\n        \"description\": \"\"\n      }\n    },\n    {\n      \"column\": \"lime_word_attributions_first_class_emotion\",\n      \"properties\": {\n        \"dtype\": \"string\",\n        \"num_unique_values\": 77,\n        \"samples\": [],\n        \"semantic_type\": \"\",\n        \"description\": \"\"\n      }\n    },\n    {\n      \"column\": \"lime_word_attributions_second_class_emotion\",\n      \"properties\": {\n        \"dtype\": \"string\",\n        \"num_unique_values\": 77,\n        \"samples\": [],\n        \"semantic_type\": \"\",\n        \"description\": \"\"\n      }\n    },\n    {\n      \"column\": \"lime_word_attributions_third_class_emotion\",\n      \"properties\": {\n        \"dtype\": \"string\",\n        \"num_unique_values\": 77,\n        \"samples\": [],\n        \"semantic_type\": \"\",\n        \"description\": \"\"\n      }\n    }\n  ]\n}",
       "type": "dataframe",
       "variable_name": "selected_docs"
      },
      "text/html": [
       "\n",
       "  <div id=\"df-8f85004f-872e-4b8a-a42c-e75ea9927f79\" class=\"colab-df-container\">\n",
       "    <div>\n",
       "<style scoped>\n",
       "    .dataframe tbody tr th:only-of-type {\n",
       "        vertical-align: middle;\n",
       "    }\n",
       "\n",
       "    .dataframe tbody tr th {\n",
       "        vertical-align: top;\n",
       "    }\n",
       "\n",
       "    .dataframe thead th {\n",
       "        text-align: right;\n",
       "    }\n",
       "</style>\n",
       "<table border=\"1\" class=\"dataframe\">\n",
       "  <thead>\n",
       "    <tr style=\"text-align: right;\">\n",
       "      <th></th>\n",
       "      <th>review</th>\n",
       "      <th>85 Percentile Top Topics</th>\n",
       "      <th>90 Percentile Top topics</th>\n",
       "      <th>sentiment_label</th>\n",
       "      <th>sentiment_class_probs</th>\n",
       "      <th>lime_word_attributions_sentiment</th>\n",
       "      <th>emotion</th>\n",
       "      <th>emotion_class_probabilities</th>\n",
       "      <th>lime_word_attributions_first_class_emotion</th>\n",
       "      <th>lime_word_attributions_second_class_emotion</th>\n",
       "      <th>lime_word_attributions_third_class_emotion</th>\n",
       "    </tr>\n",
       "  </thead>\n",
       "  <tbody>\n",
       "    <tr>\n",
       "      <th>0</th>\n",
       "      <td>The location and underground car parking make...</td>\n",
       "      <td>NaN</td>\n",
       "      <td>{0: 0.1789759908904629, 5: 0.14402822668851814}</td>\n",
       "      <td>Positive</td>\n",
       "      <td>{'positive': 0.9309498, 'negative': 0.06905022}</td>\n",
       "      <td>[('location', 0.4233608630390651), ('best', 0....</td>\n",
       "      <td>anticipation</td>\n",
       "      <td>{'anticipation': 0.6500486731529236, 'optimism...</td>\n",
       "      <td>[('location', 0.15139065931671647), ('choice',...</td>\n",
       "      <td>[('best', 0.4777543402516913), ('this', 0.1253...</td>\n",
       "      <td>[('best', 0.3658510491281746), ('this', 0.1405...</td>\n",
       "    </tr>\n",
       "    <tr>\n",
       "      <th>1</th>\n",
       "      <td>The location of the hotel was good as it was ...</td>\n",
       "      <td>NaN</td>\n",
       "      <td>{0: 0.4493866679057899, 2: 0.0603928740775705}</td>\n",
       "      <td>Positive</td>\n",
       "      <td>{'positive': 0.94891834, 'negative': 0.051081628}</td>\n",
       "      <td>[('location', 0.23812806200210543), ('good', 0...</td>\n",
       "      <td>anticipation</td>\n",
       "      <td>{'anticipation': 0.7445889115333557, 'optimism...</td>\n",
       "      <td>[('location', 0.22970551736965114), ('was', 0....</td>\n",
       "      <td>[('good', 0.46188428992096686), ('in', -0.0716...</td>\n",
       "      <td>[('good', 0.32220245043757545), ('of', -0.1557...</td>\n",
       "    </tr>\n",
       "    <tr>\n",
       "      <th>2</th>\n",
       "      <td>Location for gig in Wembley Reception staff B...</td>\n",
       "      <td>NaN</td>\n",
       "      <td>{0: 0.5594497733631916, 2: 0.06581788267606746}</td>\n",
       "      <td>Positive</td>\n",
       "      <td>{'positive': 0.98738146, 'negative': 0.012618622}</td>\n",
       "      <td>[('Location', 0.15299046214668335), ('Wembley'...</td>\n",
       "      <td>anticipation</td>\n",
       "      <td>{'anticipation': 0.282431036233902, 'joy': 0.0...</td>\n",
       "      <td>[('Bathrooms', -0.17318495697712116), ('gig', ...</td>\n",
       "      <td>[('staff', -0.12855298146193783), ('Bathrooms'...</td>\n",
       "      <td>[('Bathrooms', 0.09989225437307823), ('gig', -...</td>\n",
       "    </tr>\n",
       "    <tr>\n",
       "      <th>3</th>\n",
       "      <td>One of the nearest hotels from Milan central ...</td>\n",
       "      <td>NaN</td>\n",
       "      <td>{0: 0.5679741416023724, 2: 0.124614678393076}</td>\n",
       "      <td>Positive</td>\n",
       "      <td>{'negative': 0.7366869, 'positive': 0.26331306}</td>\n",
       "      <td>[('nearest', -0.10735253551970868), ('central'...</td>\n",
       "      <td>anticipation</td>\n",
       "      <td>{'anticipation': 0.8140031099319458, 'joy': 0....</td>\n",
       "      <td>[('hotels', 0.15988530146618965), ('until', 0....</td>\n",
       "      <td>[('hotels', 0.06139693728173337), ('until', -0...</td>\n",
       "      <td>[('until', 0.041524270897343986), ('noon', -0....</td>\n",
       "    </tr>\n",
       "    <tr>\n",
       "      <th>4</th>\n",
       "      <td>Everything you would expect from a premium ho...</td>\n",
       "      <td>NaN</td>\n",
       "      <td>{0: 0.2613933549098866, 2: 0.051762169642526605}</td>\n",
       "      <td>Positive</td>\n",
       "      <td>{'positive': 0.9904136, 'negative': 0.009586422}</td>\n",
       "      <td>[('Everything', 0.150655592511471), ('location...</td>\n",
       "      <td>anticipation</td>\n",
       "      <td>{'anticipation': 0.46023547649383545, 'surpris...</td>\n",
       "      <td>[('expect', 0.20729204215187094), ('Everything...</td>\n",
       "      <td>[('hotel', 0.07499330051934167), ('expect', 0....</td>\n",
       "      <td>[('premium', 0.2048197623155256), ('you', -0.1...</td>\n",
       "    </tr>\n",
       "  </tbody>\n",
       "</table>\n",
       "</div>\n",
       "    <div class=\"colab-df-buttons\">\n",
       "\n",
       "  <div class=\"colab-df-container\">\n",
       "    <button class=\"colab-df-convert\" onclick=\"convertToInteractive('df-8f85004f-872e-4b8a-a42c-e75ea9927f79')\"\n",
       "            title=\"Convert this dataframe to an interactive table.\"\n",
       "            style=\"display:none;\">\n",
       "\n",
       "  <svg xmlns=\"http://www.w3.org/2000/svg\" height=\"24px\" viewBox=\"0 -960 960 960\">\n",
       "    <path d=\"M120-120v-720h720v720H120Zm60-500h600v-160H180v160Zm220 220h160v-160H400v160Zm0 220h160v-160H400v160ZM180-400h160v-160H180v160Zm440 0h160v-160H620v160ZM180-180h160v-160H180v160Zm440 0h160v-160H620v160Z\"/>\n",
       "  </svg>\n",
       "    </button>\n",
       "\n",
       "  <style>\n",
       "    .colab-df-container {\n",
       "      display:flex;\n",
       "      gap: 12px;\n",
       "    }\n",
       "\n",
       "    .colab-df-convert {\n",
       "      background-color: #E8F0FE;\n",
       "      border: none;\n",
       "      border-radius: 50%;\n",
       "      cursor: pointer;\n",
       "      display: none;\n",
       "      fill: #1967D2;\n",
       "      height: 32px;\n",
       "      padding: 0 0 0 0;\n",
       "      width: 32px;\n",
       "    }\n",
       "\n",
       "    .colab-df-convert:hover {\n",
       "      background-color: #E2EBFA;\n",
       "      box-shadow: 0px 1px 2px rgba(60, 64, 67, 0.3), 0px 1px 3px 1px rgba(60, 64, 67, 0.15);\n",
       "      fill: #174EA6;\n",
       "    }\n",
       "\n",
       "    .colab-df-buttons div {\n",
       "      margin-bottom: 4px;\n",
       "    }\n",
       "\n",
       "    [theme=dark] .colab-df-convert {\n",
       "      background-color: #3B4455;\n",
       "      fill: #D2E3FC;\n",
       "    }\n",
       "\n",
       "    [theme=dark] .colab-df-convert:hover {\n",
       "      background-color: #434B5C;\n",
       "      box-shadow: 0px 1px 3px 1px rgba(0, 0, 0, 0.15);\n",
       "      filter: drop-shadow(0px 1px 2px rgba(0, 0, 0, 0.3));\n",
       "      fill: #FFFFFF;\n",
       "    }\n",
       "  </style>\n",
       "\n",
       "    <script>\n",
       "      const buttonEl =\n",
       "        document.querySelector('#df-8f85004f-872e-4b8a-a42c-e75ea9927f79 button.colab-df-convert');\n",
       "      buttonEl.style.display =\n",
       "        google.colab.kernel.accessAllowed ? 'block' : 'none';\n",
       "\n",
       "      async function convertToInteractive(key) {\n",
       "        const element = document.querySelector('#df-8f85004f-872e-4b8a-a42c-e75ea9927f79');\n",
       "        const dataTable =\n",
       "          await google.colab.kernel.invokeFunction('convertToInteractive',\n",
       "                                                    [key], {});\n",
       "        if (!dataTable) return;\n",
       "\n",
       "        const docLinkHtml = 'Like what you see? Visit the ' +\n",
       "          '<a target=\"_blank\" href=https://colab.research.google.com/notebooks/data_table.ipynb>data table notebook</a>'\n",
       "          + ' to learn more about interactive tables.';\n",
       "        element.innerHTML = '';\n",
       "        dataTable['output_type'] = 'display_data';\n",
       "        await google.colab.output.renderOutput(dataTable, element);\n",
       "        const docLink = document.createElement('div');\n",
       "        docLink.innerHTML = docLinkHtml;\n",
       "        element.appendChild(docLink);\n",
       "      }\n",
       "    </script>\n",
       "  </div>\n",
       "\n",
       "\n",
       "<div id=\"df-7e75882b-59e2-4a06-bdfa-cc7f34a7213b\">\n",
       "  <button class=\"colab-df-quickchart\" onclick=\"quickchart('df-7e75882b-59e2-4a06-bdfa-cc7f34a7213b')\"\n",
       "            title=\"Suggest charts\"\n",
       "            style=\"display:none;\">\n",
       "\n",
       "<svg xmlns=\"http://www.w3.org/2000/svg\" height=\"24px\"viewBox=\"0 0 24 24\"\n",
       "     width=\"24px\">\n",
       "    <g>\n",
       "        <path d=\"M19 3H5c-1.1 0-2 .9-2 2v14c0 1.1.9 2 2 2h14c1.1 0 2-.9 2-2V5c0-1.1-.9-2-2-2zM9 17H7v-7h2v7zm4 0h-2V7h2v10zm4 0h-2v-4h2v4z\"/>\n",
       "    </g>\n",
       "</svg>\n",
       "  </button>\n",
       "\n",
       "<style>\n",
       "  .colab-df-quickchart {\n",
       "      --bg-color: #E8F0FE;\n",
       "      --fill-color: #1967D2;\n",
       "      --hover-bg-color: #E2EBFA;\n",
       "      --hover-fill-color: #174EA6;\n",
       "      --disabled-fill-color: #AAA;\n",
       "      --disabled-bg-color: #DDD;\n",
       "  }\n",
       "\n",
       "  [theme=dark] .colab-df-quickchart {\n",
       "      --bg-color: #3B4455;\n",
       "      --fill-color: #D2E3FC;\n",
       "      --hover-bg-color: #434B5C;\n",
       "      --hover-fill-color: #FFFFFF;\n",
       "      --disabled-bg-color: #3B4455;\n",
       "      --disabled-fill-color: #666;\n",
       "  }\n",
       "\n",
       "  .colab-df-quickchart {\n",
       "    background-color: var(--bg-color);\n",
       "    border: none;\n",
       "    border-radius: 50%;\n",
       "    cursor: pointer;\n",
       "    display: none;\n",
       "    fill: var(--fill-color);\n",
       "    height: 32px;\n",
       "    padding: 0;\n",
       "    width: 32px;\n",
       "  }\n",
       "\n",
       "  .colab-df-quickchart:hover {\n",
       "    background-color: var(--hover-bg-color);\n",
       "    box-shadow: 0 1px 2px rgba(60, 64, 67, 0.3), 0 1px 3px 1px rgba(60, 64, 67, 0.15);\n",
       "    fill: var(--button-hover-fill-color);\n",
       "  }\n",
       "\n",
       "  .colab-df-quickchart-complete:disabled,\n",
       "  .colab-df-quickchart-complete:disabled:hover {\n",
       "    background-color: var(--disabled-bg-color);\n",
       "    fill: var(--disabled-fill-color);\n",
       "    box-shadow: none;\n",
       "  }\n",
       "\n",
       "  .colab-df-spinner {\n",
       "    border: 2px solid var(--fill-color);\n",
       "    border-color: transparent;\n",
       "    border-bottom-color: var(--fill-color);\n",
       "    animation:\n",
       "      spin 1s steps(1) infinite;\n",
       "  }\n",
       "\n",
       "  @keyframes spin {\n",
       "    0% {\n",
       "      border-color: transparent;\n",
       "      border-bottom-color: var(--fill-color);\n",
       "      border-left-color: var(--fill-color);\n",
       "    }\n",
       "    20% {\n",
       "      border-color: transparent;\n",
       "      border-left-color: var(--fill-color);\n",
       "      border-top-color: var(--fill-color);\n",
       "    }\n",
       "    30% {\n",
       "      border-color: transparent;\n",
       "      border-left-color: var(--fill-color);\n",
       "      border-top-color: var(--fill-color);\n",
       "      border-right-color: var(--fill-color);\n",
       "    }\n",
       "    40% {\n",
       "      border-color: transparent;\n",
       "      border-right-color: var(--fill-color);\n",
       "      border-top-color: var(--fill-color);\n",
       "    }\n",
       "    60% {\n",
       "      border-color: transparent;\n",
       "      border-right-color: var(--fill-color);\n",
       "    }\n",
       "    80% {\n",
       "      border-color: transparent;\n",
       "      border-right-color: var(--fill-color);\n",
       "      border-bottom-color: var(--fill-color);\n",
       "    }\n",
       "    90% {\n",
       "      border-color: transparent;\n",
       "      border-bottom-color: var(--fill-color);\n",
       "    }\n",
       "  }\n",
       "</style>\n",
       "\n",
       "  <script>\n",
       "    async function quickchart(key) {\n",
       "      const quickchartButtonEl =\n",
       "        document.querySelector('#' + key + ' button');\n",
       "      quickchartButtonEl.disabled = true;  // To prevent multiple clicks.\n",
       "      quickchartButtonEl.classList.add('colab-df-spinner');\n",
       "      try {\n",
       "        const charts = await google.colab.kernel.invokeFunction(\n",
       "            'suggestCharts', [key], {});\n",
       "      } catch (error) {\n",
       "        console.error('Error during call to suggestCharts:', error);\n",
       "      }\n",
       "      quickchartButtonEl.classList.remove('colab-df-spinner');\n",
       "      quickchartButtonEl.classList.add('colab-df-quickchart-complete');\n",
       "    }\n",
       "    (() => {\n",
       "      let quickchartButtonEl =\n",
       "        document.querySelector('#df-7e75882b-59e2-4a06-bdfa-cc7f34a7213b button');\n",
       "      quickchartButtonEl.style.display =\n",
       "        google.colab.kernel.accessAllowed ? 'block' : 'none';\n",
       "    })();\n",
       "  </script>\n",
       "</div>\n",
       "\n",
       "    </div>\n",
       "  </div>\n"
      ],
      "text/plain": [
       "                                              review  \\\n",
       "0   The location and underground car parking make...   \n",
       "1   The location of the hotel was good as it was ...   \n",
       "2   Location for gig in Wembley Reception staff B...   \n",
       "3   One of the nearest hotels from Milan central ...   \n",
       "4   Everything you would expect from a premium ho...   \n",
       "\n",
       "   85 Percentile Top Topics                          90 Percentile Top topics  \\\n",
       "0                       NaN   {0: 0.1789759908904629, 5: 0.14402822668851814}   \n",
       "1                       NaN    {0: 0.4493866679057899, 2: 0.0603928740775705}   \n",
       "2                       NaN   {0: 0.5594497733631916, 2: 0.06581788267606746}   \n",
       "3                       NaN     {0: 0.5679741416023724, 2: 0.124614678393076}   \n",
       "4                       NaN  {0: 0.2613933549098866, 2: 0.051762169642526605}   \n",
       "\n",
       "  sentiment_label                              sentiment_class_probs  \\\n",
       "0        Positive    {'positive': 0.9309498, 'negative': 0.06905022}   \n",
       "1        Positive  {'positive': 0.94891834, 'negative': 0.051081628}   \n",
       "2        Positive  {'positive': 0.98738146, 'negative': 0.012618622}   \n",
       "3        Positive    {'negative': 0.7366869, 'positive': 0.26331306}   \n",
       "4        Positive   {'positive': 0.9904136, 'negative': 0.009586422}   \n",
       "\n",
       "                    lime_word_attributions_sentiment       emotion  \\\n",
       "0  [('location', 0.4233608630390651), ('best', 0....  anticipation   \n",
       "1  [('location', 0.23812806200210543), ('good', 0...  anticipation   \n",
       "2  [('Location', 0.15299046214668335), ('Wembley'...  anticipation   \n",
       "3  [('nearest', -0.10735253551970868), ('central'...  anticipation   \n",
       "4  [('Everything', 0.150655592511471), ('location...  anticipation   \n",
       "\n",
       "                         emotion_class_probabilities  \\\n",
       "0  {'anticipation': 0.6500486731529236, 'optimism...   \n",
       "1  {'anticipation': 0.7445889115333557, 'optimism...   \n",
       "2  {'anticipation': 0.282431036233902, 'joy': 0.0...   \n",
       "3  {'anticipation': 0.8140031099319458, 'joy': 0....   \n",
       "4  {'anticipation': 0.46023547649383545, 'surpris...   \n",
       "\n",
       "          lime_word_attributions_first_class_emotion  \\\n",
       "0  [('location', 0.15139065931671647), ('choice',...   \n",
       "1  [('location', 0.22970551736965114), ('was', 0....   \n",
       "2  [('Bathrooms', -0.17318495697712116), ('gig', ...   \n",
       "3  [('hotels', 0.15988530146618965), ('until', 0....   \n",
       "4  [('expect', 0.20729204215187094), ('Everything...   \n",
       "\n",
       "         lime_word_attributions_second_class_emotion  \\\n",
       "0  [('best', 0.4777543402516913), ('this', 0.1253...   \n",
       "1  [('good', 0.46188428992096686), ('in', -0.0716...   \n",
       "2  [('staff', -0.12855298146193783), ('Bathrooms'...   \n",
       "3  [('hotels', 0.06139693728173337), ('until', -0...   \n",
       "4  [('hotel', 0.07499330051934167), ('expect', 0....   \n",
       "\n",
       "          lime_word_attributions_third_class_emotion  \n",
       "0  [('best', 0.3658510491281746), ('this', 0.1405...  \n",
       "1  [('good', 0.32220245043757545), ('of', -0.1557...  \n",
       "2  [('Bathrooms', 0.09989225437307823), ('gig', -...  \n",
       "3  [('until', 0.041524270897343986), ('noon', -0....  \n",
       "4  [('premium', 0.2048197623155256), ('you', -0.1...  "
      ]
     },
     "execution_count": 43,
     "metadata": {},
     "output_type": "execute_result"
    }
   ],
   "source": [
    "selected_docs.head()"
   ]
  },
  {
   "cell_type": "code",
   "execution_count": null,
   "metadata": {
    "colab": {
     "base_uri": "https://localhost:8080/",
     "height": 1000
    },
    "collapsed": true,
    "executionInfo": {
     "elapsed": 4188079,
     "status": "ok",
     "timestamp": 1741293738732,
     "user": {
      "displayName": "Sule Ozturk",
      "userId": "14268268360802730607"
     },
     "user_tz": -180
    },
    "id": "iJMpXTvLMBNu",
    "outputId": "2c4508bf-8939-4652-cbb3-a0c0d6e55b88"
   },
   "outputs": [
    {
     "name": "stdout",
     "output_type": "stream",
     "text": [
      "\n",
      " The location and underground car parking make this a best choice for travellers by car wishing to stay in central London \n"
     ]
    },
    {
     "data": {
      "text/html": [
       "<span style=\"font-size:16px; font-family:Times New Roman;\">\n",
       " <span style=\"background-color: rgba(255, 0, 0, 1);\">Number 1 Topic is 0</span> with  probability 0.1789759908904629, Title is: Hospitality Excellence</span>"
      ],
      "text/plain": [
       "<IPython.core.display.HTML object>"
      ]
     },
     "metadata": {},
     "output_type": "display_data"
    },
    {
     "data": {
      "text/html": [
       "<span style=\"font-size:16px; font-family:Times New Roman;\">\n",
       " <span style=\"background-color: rgba(0, 0, 255, 1);\">Number 2 Topic is 5</span> with  probability 0.14402822668851814, Title is: Proximity and Access</span>"
      ],
      "text/plain": [
       "<IPython.core.display.HTML object>"
      ]
     },
     "metadata": {},
     "output_type": "display_data"
    },
    {
     "name": "stdout",
     "output_type": "stream",
     "text": [
      "{0: {'location': 0.03583580936752398, 'stay': 0.016456744779990817, 'central': 0.010406511528955734, 'london': 0.009566711811136296, 'best': 0.007895699205478163, 'underground': 0.006519144134206303, 'make': 0.003937370254746942, 'parking': 0.003327050137966193, 'choice': 0.003212424447332434, 'car': 0.002135163258730852, 'wishing': 0.0005415556536534105, 'travellers': 0.0004653617502132213}, 5: {'location': 0.14174051311759348, 'london': 0.029658363836359763, 'underground': 0.027682612086189207, 'central': 0.024011826851443253, 'parking': 0.006554943880474343, 'best': 0.006469253175628134, 'stay': 0.005727323496404397, 'car': 0.001818650700714809, 'make': 0.0008161664024383589, 'choice': 0.0008090975279181768, 'wishing': 0.00079281893130863, 'travellers': 0.0006812736659417872}}\n"
     ]
    },
    {
     "data": {
      "text/html": [
       "<span style=\"font-size:20px; font-family:Times New Roman;\">The</span> <span style=\"font-size:20px; font-family:Times New Roman;\"><span style=\"background-color:rgba(0, 0, 255, 1.0)\">location</span></span> <span style=\"font-size:20px; font-family:Times New Roman;\">and</span> <span style=\"font-size:20px; font-family:Times New Roman;\"><span style=\"background-color:rgba(0, 0, 255, 0.19530486716400292)\">underground</span></span> <span style=\"font-size:20px; font-family:Times New Roman;\"><span style=\"background-color:rgba(255, 0, 0, 0.04399146383126943)\">car</span></span> <span style=\"font-size:20px; font-family:Times New Roman;\"><span style=\"background-color:rgba(0, 0, 255, 0.04624608544372988)\">parking</span></span> <span style=\"font-size:20px; font-family:Times New Roman;\"><span style=\"background-color:rgba(255, 0, 0, 0.08112292137088065)\">make</span></span> <span style=\"font-size:20px; font-family:Times New Roman;\">this</span> <span style=\"font-size:20px; font-family:Times New Roman;\">a</span> <span style=\"font-size:20px; font-family:Times New Roman;\"><span style=\"background-color:rgba(255, 0, 0, 0.16267766157930114)\">best</span></span> <span style=\"font-size:20px; font-family:Times New Roman;\"><span style=\"background-color:rgba(255, 0, 0, 0.0661866268575224)\">choice</span></span> <span style=\"font-size:20px; font-family:Times New Roman;\">for</span> <span style=\"font-size:20px; font-family:Times New Roman;\"><span style=\"background-color:rgba(0, 0, 255, 0.004806485111116932)\">travellers</span></span> <span style=\"font-size:20px; font-family:Times New Roman;\">by</span> <span style=\"font-size:20px; font-family:Times New Roman;\"><span style=\"background-color:rgba(255, 0, 0, 0.04399146383126943)\">car</span></span> <span style=\"font-size:20px; font-family:Times New Roman;\"><span style=\"background-color:rgba(0, 0, 255, 0.0055934532327456465)\">wishing</span></span> <span style=\"font-size:20px; font-family:Times New Roman;\">to</span> <span style=\"font-size:20px; font-family:Times New Roman;\"><span style=\"background-color:rgba(255, 0, 0, 0.3390636710373707)\">stay</span></span> <span style=\"font-size:20px; font-family:Times New Roman;\">in</span> <span style=\"font-size:20px; font-family:Times New Roman;\"><span style=\"background-color:rgba(0, 0, 255, 0.16940694176492857)\">central</span></span> <span style=\"font-size:20px; font-family:Times New Roman;\"><span style=\"background-color:rgba(0, 0, 255, 0.20924408402383884)\">London</span></span>"
      ],
      "text/plain": [
       "<IPython.core.display.HTML object>"
      ]
     },
     "metadata": {},
     "output_type": "display_data"
    },
    {
     "name": "stdout",
     "output_type": "stream",
     "text": [
      "\n",
      " The location of the hotel was good as it was in the city center \n"
     ]
    },
    {
     "data": {
      "text/html": [
       "<span style=\"font-size:16px; font-family:Times New Roman;\">\n",
       " <span style=\"background-color: rgba(255, 0, 0, 1);\">Number 1 Topic is 0</span> with  probability 0.4493866679057899, Title is: Hospitality Excellence</span>"
      ],
      "text/plain": [
       "<IPython.core.display.HTML object>"
      ]
     },
     "metadata": {},
     "output_type": "display_data"
    },
    {
     "data": {
      "text/html": [
       "<span style=\"font-size:16px; font-family:Times New Roman;\">\n",
       " <span style=\"background-color: rgba(0, 0, 255, 1);\">Number 2 Topic is 2</span> with  probability 0.0603928740775705, Title is: Hotel Amenities Excellence</span>"
      ],
      "text/plain": [
       "<IPython.core.display.HTML object>"
      ]
     },
     "metadata": {},
     "output_type": "display_data"
    },
    {
     "name": "stdout",
     "output_type": "stream",
     "text": [
      "{0: {'hotel': 0.048535853840198054, 'location': 0.03583580936752398, 'good': 0.026974237738203566, 'city': 0.012383520572943145, 'center': 0.006722657675527552}, 2: {'good': 0.05274792941197384, 'location': 0.03927079997120542, 'hotel': 0.017743692380512918, 'city': 0.003277832142624648, 'center': 0.002273550666846739}}\n"
     ]
    },
    {
     "data": {
      "text/html": [
       "<span style=\"font-size:20px; font-family:Times New Roman;\">The</span> <span style=\"font-size:20px; font-family:Times New Roman;\"><span style=\"background-color:rgba(0, 0, 255, 0.3407491581802222)\">location</span></span> <span style=\"font-size:20px; font-family:Times New Roman;\">of</span> <span style=\"font-size:20px; font-family:Times New Roman;\">the</span> <span style=\"font-size:20px; font-family:Times New Roman;\"><span style=\"background-color:rgba(255, 0, 0, 1.0)\">hotel</span></span> <span style=\"font-size:20px; font-family:Times New Roman;\">was</span> <span style=\"font-size:20px; font-family:Times New Roman;\"><span style=\"background-color:rgba(0, 0, 255, 0.45768898408127245)\">good</span></span> <span style=\"font-size:20px; font-family:Times New Roman;\">as</span> <span style=\"font-size:20px; font-family:Times New Roman;\">it</span> <span style=\"font-size:20px; font-family:Times New Roman;\">was</span> <span style=\"font-size:20px; font-family:Times New Roman;\">in</span> <span style=\"font-size:20px; font-family:Times New Roman;\">the</span> <span style=\"font-size:20px; font-family:Times New Roman;\"><span style=\"background-color:rgba(255, 0, 0, 0.25514170645303336)\">city</span></span> <span style=\"font-size:20px; font-family:Times New Roman;\"><span style=\"background-color:rgba(255, 0, 0, 0.13850910499404373)\">center</span></span>"
      ],
      "text/plain": [
       "<IPython.core.display.HTML object>"
      ]
     },
     "metadata": {},
     "output_type": "display_data"
    },
    {
     "name": "stdout",
     "output_type": "stream",
     "text": [
      "\n",
      " Location for gig in Wembley Reception staff Bathrooms\n"
     ]
    },
    {
     "data": {
      "text/html": [
       "<span style=\"font-size:16px; font-family:Times New Roman;\">\n",
       " <span style=\"background-color: rgba(255, 0, 0, 1);\">Number 1 Topic is 0</span> with  probability 0.5594497733631916, Title is: Hospitality Excellence</span>"
      ],
      "text/plain": [
       "<IPython.core.display.HTML object>"
      ]
     },
     "metadata": {},
     "output_type": "display_data"
    },
    {
     "data": {
      "text/html": [
       "<span style=\"font-size:16px; font-family:Times New Roman;\">\n",
       " <span style=\"background-color: rgba(0, 0, 255, 1);\">Number 2 Topic is 2</span> with  probability 0.06581788267606746, Title is: Hotel Amenities Excellence</span>"
      ],
      "text/plain": [
       "<IPython.core.display.HTML object>"
      ]
     },
     "metadata": {},
     "output_type": "display_data"
    },
    {
     "name": "stdout",
     "output_type": "stream",
     "text": [
      "{0: {'staff': 0.04179384363660856, 'location': 0.03583580936752398, 'reception': 0.006982262286465954, 'bathrooms': 0.0021421804497869126, 'wembley': 0.00030722427667825353, 'gig': 0.00014918221313796941}, 2: {'staff': 0.05349265438589445, 'location': 0.03927079997120542, 'reception': 0.00918243844404818, 'wembley': 0.0004112742640789074}}\n"
     ]
    },
    {
     "data": {
      "text/html": [
       "<span style=\"font-size:20px; font-family:Times New Roman;\"><span style=\"background-color:rgba(0, 0, 255, 0.3407491581802222)\">Location</span></span> <span style=\"font-size:20px; font-family:Times New Roman;\">for</span> <span style=\"font-size:20px; font-family:Times New Roman;\"><span style=\"background-color:rgba(255, 0, 0, 0.003073649711183502)\">gig</span></span> <span style=\"font-size:20px; font-family:Times New Roman;\">in</span> <span style=\"font-size:20px; font-family:Times New Roman;\"><span style=\"background-color:rgba(0, 0, 255, 0.0035685893684069114)\">Wembley</span></span> <span style=\"font-size:20px; font-family:Times New Roman;\"><span style=\"background-color:rgba(0, 0, 255, 0.07967518288767583)\">Reception</span></span> <span style=\"font-size:20px; font-family:Times New Roman;\"><span style=\"background-color:rgba(0, 0, 255, 0.4641508949189763)\">staff</span></span> <span style=\"font-size:20px; font-family:Times New Roman;\"><span style=\"background-color:rgba(255, 0, 0, 0.044136041303403005)\">Bathrooms</span></span>"
      ],
      "text/plain": [
       "<IPython.core.display.HTML object>"
      ]
     },
     "metadata": {},
     "output_type": "display_data"
    },
    {
     "name": "stdout",
     "output_type": "stream",
     "text": [
      "\n",
      " One of the nearest hotels from Milan central station Check out time until noon \n"
     ]
    },
    {
     "data": {
      "text/html": [
       "<span style=\"font-size:16px; font-family:Times New Roman;\">\n",
       " <span style=\"background-color: rgba(255, 0, 0, 1);\">Number 1 Topic is 0</span> with  probability 0.5679741416023724, Title is: Hospitality Excellence</span>"
      ],
      "text/plain": [
       "<IPython.core.display.HTML object>"
      ]
     },
     "metadata": {},
     "output_type": "display_data"
    },
    {
     "data": {
      "text/html": [
       "<span style=\"font-size:16px; font-family:Times New Roman;\">\n",
       " <span style=\"background-color: rgba(0, 0, 255, 1);\">Number 2 Topic is 2</span> with  probability 0.124614678393076, Title is: Hotel Amenities Excellence</span>"
      ],
      "text/plain": [
       "<IPython.core.display.HTML object>"
      ]
     },
     "metadata": {},
     "output_type": "display_data"
    },
    {
     "name": "stdout",
     "output_type": "stream",
     "text": [
      "{0: {'station': 0.022796498986596227, 'central': 0.010406511528955734, 'time': 0.006720173463717399, 'one': 0.0066631768966275585, 'hotels': 0.00578109527760408, 'check': 0.0055180332459649605, 'milan': 0.00164135767931207, 'nearest': 0.0014594267925860036, 'noon': 6.604498881306857e-05}, 2: {'time': 0.004897515683972707, 'one': 0.004857039323668865, 'check': 0.004771421670365156, 'central': 0.004615931390134203, 'hotels': 0.0017859283564440058, 'station': 0.000588125197964443, 'milan': 0.0003766712219571996, 'noon': 0.00026523884567860174}}\n"
     ]
    },
    {
     "data": {
      "text/html": [
       "<span style=\"font-size:20px; font-family:Times New Roman;\"><span style=\"background-color:rgba(255, 0, 0, 0.13728360313935642)\">One</span></span> <span style=\"font-size:20px; font-family:Times New Roman;\">of</span> <span style=\"font-size:20px; font-family:Times New Roman;\">the</span> <span style=\"font-size:20px; font-family:Times New Roman;\"><span style=\"background-color:rgba(255, 0, 0, 0.030069045398708666)\">nearest</span></span> <span style=\"font-size:20px; font-family:Times New Roman;\"><span style=\"background-color:rgba(255, 0, 0, 0.11910978833581576)\">hotels</span></span> <span style=\"font-size:20px; font-family:Times New Roman;\">from</span> <span style=\"font-size:20px; font-family:Times New Roman;\"><span style=\"background-color:rgba(255, 0, 0, 0.033817426694833896)\">Milan</span></span> <span style=\"font-size:20px; font-family:Times New Roman;\"><span style=\"background-color:rgba(255, 0, 0, 0.21440874540331914)\">central</span></span> <span style=\"font-size:20px; font-family:Times New Roman;\"><span style=\"background-color:rgba(255, 0, 0, 0.46968369118739717)\">station</span></span> <span style=\"font-size:20px; font-family:Times New Roman;\"><span style=\"background-color:rgba(255, 0, 0, 0.11368983564465183)\">Check</span></span> <span style=\"font-size:20px; font-family:Times New Roman;\">out</span> <span style=\"font-size:20px; font-family:Times New Roman;\"><span style=\"background-color:rgba(255, 0, 0, 0.13845792196925688)\">time</span></span> <span style=\"font-size:20px; font-family:Times New Roman;\">until</span> <span style=\"font-size:20px; font-family:Times New Roman;\"><span style=\"background-color:rgba(0, 0, 255, 0.0023014533304120824)\">noon</span></span>"
      ],
      "text/plain": [
       "<IPython.core.display.HTML object>"
      ]
     },
     "metadata": {},
     "output_type": "display_data"
    },
    {
     "name": "stdout",
     "output_type": "stream",
     "text": [
      "\n",
      " Everything you would expect from a premium hotel top service facilities and location\n"
     ]
    },
    {
     "data": {
      "text/html": [
       "<span style=\"font-size:16px; font-family:Times New Roman;\">\n",
       " <span style=\"background-color: rgba(255, 0, 0, 1);\">Number 1 Topic is 0</span> with  probability 0.2613933549098866, Title is: Hospitality Excellence</span>"
      ],
      "text/plain": [
       "<IPython.core.display.HTML object>"
      ]
     },
     "metadata": {},
     "output_type": "display_data"
    },
    {
     "data": {
      "text/html": [
       "<span style=\"font-size:16px; font-family:Times New Roman;\">\n",
       " <span style=\"background-color: rgba(0, 0, 255, 1);\">Number 2 Topic is 2</span> with  probability 0.051762169642526605, Title is: Hotel Amenities Excellence</span>"
      ],
      "text/plain": [
       "<IPython.core.display.HTML object>"
      ]
     },
     "metadata": {},
     "output_type": "display_data"
    },
    {
     "name": "stdout",
     "output_type": "stream",
     "text": [
      "{0: {'hotel': 0.048535853840198054, 'location': 0.03583580936752398, 'everything': 0.012218961934668489, 'would': 0.01093678210925847, 'service': 0.010679983175341665, 'facilities': 0.00916084309476282, 'top': 0.003927664146842657, 'expect': 0.0010802756652040877, 'premium': 0.0005314746698187761}, 2: {'location': 0.03927079997120542, 'hotel': 0.017743692380512918, 'service': 0.015199719832633175, 'would': 0.008936242798054956, 'everything': 0.008769851388398848, 'facilities': 0.008272363218351725, 'top': 0.005842084555032761, 'expect': 0.0005206107090384769, 'premium': 0.00047431549804512223}}\n"
     ]
    },
    {
     "data": {
      "text/html": [
       "<span style=\"font-size:20px; font-family:Times New Roman;\"><span style=\"background-color:rgba(255, 0, 0, 0.2517512512481768)\">Everything</span></span> <span style=\"font-size:20px; font-family:Times New Roman;\">you</span> <span style=\"font-size:20px; font-family:Times New Roman;\"><span style=\"background-color:rgba(255, 0, 0, 0.22533408282601342)\">would</span></span> <span style=\"font-size:20px; font-family:Times New Roman;\"><span style=\"background-color:rgba(255, 0, 0, 0.022257271269211478)\">expect</span></span> <span style=\"font-size:20px; font-family:Times New Roman;\">from</span> <span style=\"font-size:20px; font-family:Times New Roman;\">a</span> <span style=\"font-size:20px; font-family:Times New Roman;\"><span style=\"background-color:rgba(255, 0, 0, 0.010950145671046206)\">premium</span></span> <span style=\"font-size:20px; font-family:Times New Roman;\"><span style=\"background-color:rgba(255, 0, 0, 1.0)\">hotel</span></span> <span style=\"font-size:20px; font-family:Times New Roman;\"><span style=\"background-color:rgba(0, 0, 255, 0.05069123612467086)\">top</span></span> <span style=\"font-size:20px; font-family:Times New Roman;\"><span style=\"background-color:rgba(0, 0, 255, 0.13188658599627717)\">service</span></span> <span style=\"font-size:20px; font-family:Times New Roman;\"><span style=\"background-color:rgba(255, 0, 0, 0.18874383306255313)\">facilities</span></span> <span style=\"font-size:20px; font-family:Times New Roman;\">and</span> <span style=\"font-size:20px; font-family:Times New Roman;\"><span style=\"background-color:rgba(0, 0, 255, 0.3407491581802222)\">location</span></span>"
      ],
      "text/plain": [
       "<IPython.core.display.HTML object>"
      ]
     },
     "metadata": {},
     "output_type": "display_data"
    },
    {
     "name": "stdout",
     "output_type": "stream",
     "text": [
      "\n",
      " The location was perfect and so beautiful Only a tram ride from the centre anywhere really \n"
     ]
    },
    {
     "data": {
      "text/html": [
       "<span style=\"font-size:16px; font-family:Times New Roman;\">\n",
       " <span style=\"background-color: rgba(255, 0, 0, 1);\">Number 1 Topic is 5</span> with  probability 0.36984263699320985, Title is: Proximity and Access</span>"
      ],
      "text/plain": [
       "<IPython.core.display.HTML object>"
      ]
     },
     "metadata": {},
     "output_type": "display_data"
    },
    {
     "data": {
      "text/html": [
       "<span style=\"font-size:16px; font-family:Times New Roman;\">\n",
       " <span style=\"background-color: rgba(0, 0, 255, 1);\">Number 2 Topic is 0</span> with  probability 0.14819853237365965, Title is: Hospitality Excellence</span>"
      ],
      "text/plain": [
       "<IPython.core.display.HTML object>"
      ]
     },
     "metadata": {},
     "output_type": "display_data"
    },
    {
     "name": "stdout",
     "output_type": "stream",
     "text": [
      "{5: {'location': 0.14174051311759348, 'centre': 0.02854032843847433, 'tram': 0.023521112506721183, 'perfect': 0.016807981079742153, 'really': 0.006409283487508406, 'ride': 0.004863650557862256, 'anywhere': 0.004655651276348218, 'beautiful': 0.004059501525359507}, 0: {'location': 0.03583580936752398, 'perfect': 0.015017728020002943, 'really': 0.01449127363326545, 'beautiful': 0.01156445533805364, 'tram': 0.008925949724181885, 'centre': 0.00785986696741712, 'ride': 0.002024492068085497, 'anywhere': 0.0014907019023621642}}\n"
     ]
    },
    {
     "data": {
      "text/html": [
       "<span style=\"font-size:20px; font-family:Times New Roman;\">The</span> <span style=\"font-size:20px; font-family:Times New Roman;\"><span style=\"background-color:rgba(255, 0, 0, 1.0)\">location</span></span> <span style=\"font-size:20px; font-family:Times New Roman;\">was</span> <span style=\"font-size:20px; font-family:Times New Roman;\"><span style=\"background-color:rgba(255, 0, 0, 0.11858275880374156)\">perfect</span></span> <span style=\"font-size:20px; font-family:Times New Roman;\">and</span> <span style=\"font-size:20px; font-family:Times New Roman;\">so</span> <span style=\"font-size:20px; font-family:Times New Roman;\"><span style=\"background-color:rgba(0, 0, 255, 0.23826623873001285)\">beautiful</span></span> <span style=\"font-size:20px; font-family:Times New Roman;\">Only</span> <span style=\"font-size:20px; font-family:Times New Roman;\">a</span> <span style=\"font-size:20px; font-family:Times New Roman;\"><span style=\"background-color:rgba(255, 0, 0, 0.16594488046764122)\">tram</span></span> <span style=\"font-size:20px; font-family:Times New Roman;\"><span style=\"background-color:rgba(255, 0, 0, 0.034313764292832644)\">ride</span></span> <span style=\"font-size:20px; font-family:Times New Roman;\">from</span> <span style=\"font-size:20px; font-family:Times New Roman;\">the</span> <span style=\"font-size:20px; font-family:Times New Roman;\"><span style=\"background-color:rgba(255, 0, 0, 0.2013561811702781)\">centre</span></span> <span style=\"font-size:20px; font-family:Times New Roman;\"><span style=\"background-color:rgba(255, 0, 0, 0.032846299014634636)\">anywhere</span></span> <span style=\"font-size:20px; font-family:Times New Roman;\"><span style=\"background-color:rgba(0, 0, 255, 0.29856842904169906)\">really</span></span>"
      ],
      "text/plain": [
       "<IPython.core.display.HTML object>"
      ]
     },
     "metadata": {},
     "output_type": "display_data"
    },
    {
     "name": "stdout",
     "output_type": "stream",
     "text": [
      "\n",
      " Proximity to greater London Hyde Park and services\n"
     ]
    },
    {
     "data": {
      "text/html": [
       "<span style=\"font-size:16px; font-family:Times New Roman;\">\n",
       " <span style=\"background-color: rgba(255, 0, 0, 1);\">Number 1 Topic is 5</span> with  probability 0.21702946790041583, Title is: Proximity and Access</span>"
      ],
      "text/plain": [
       "<IPython.core.display.HTML object>"
      ]
     },
     "metadata": {},
     "output_type": "display_data"
    },
    {
     "data": {
      "text/html": [
       "<span style=\"font-size:16px; font-family:Times New Roman;\">\n",
       " <span style=\"background-color: rgba(0, 0, 255, 1);\">Number 2 Topic is 0</span> with  probability 0.21230951059211944, Title is: Hospitality Excellence</span>"
      ],
      "text/plain": [
       "<IPython.core.display.HTML object>"
      ]
     },
     "metadata": {},
     "output_type": "display_data"
    },
    {
     "name": "stdout",
     "output_type": "stream",
     "text": [
      "{5: {'london': 0.029658363836359763, 'park': 0.020757865146623297, 'hyde': 0.019198614265814755, 'proximity': 0.014589314847201058, 'services': 0.0026385354446682697, 'greater': 0.0009092560860151565}, 0: {'london': 0.009566711811136296, 'park': 0.0059552645494185055, 'hyde': 0.0029038395987921743, 'services': 0.0021627845617658696, 'proximity': 0.0019643754628827148, 'greater': 0.00015527277243099544}}\n"
     ]
    },
    {
     "data": {
      "text/html": [
       "<span style=\"font-size:20px; font-family:Times New Roman;\"><span style=\"background-color:rgba(255, 0, 0, 0.10292974482953361)\">Proximity</span></span> <span style=\"font-size:20px; font-family:Times New Roman;\">to</span> <span style=\"font-size:20px; font-family:Times New Roman;\"><span style=\"background-color:rgba(255, 0, 0, 0.006414934347392986)\">greater</span></span> <span style=\"font-size:20px; font-family:Times New Roman;\"><span style=\"background-color:rgba(255, 0, 0, 0.20924408402383884)\">London</span></span> <span style=\"font-size:20px; font-family:Times New Roman;\"><span style=\"background-color:rgba(255, 0, 0, 0.13544902472511042)\">Hyde</span></span> <span style=\"font-size:20px; font-family:Times New Roman;\"><span style=\"background-color:rgba(255, 0, 0, 0.14644976718407784)\">Park</span></span> <span style=\"font-size:20px; font-family:Times New Roman;\">and</span> <span style=\"font-size:20px; font-family:Times New Roman;\"><span style=\"background-color:rgba(255, 0, 0, 0.018615252524726206)\">services</span></span>"
      ],
      "text/plain": [
       "<IPython.core.display.HTML object>"
      ]
     },
     "metadata": {},
     "output_type": "display_data"
    },
    {
     "name": "stdout",
     "output_type": "stream",
     "text": [
      "\n",
      " Nice central place and nice people there I m coming again I m sure \n"
     ]
    },
    {
     "data": {
      "text/html": [
       "<span style=\"font-size:16px; font-family:Times New Roman;\">\n",
       " <span style=\"background-color: rgba(255, 0, 0, 1);\">Number 1 Topic is 5</span> with  probability 0.7055309760365438, Title is: Proximity and Access</span>"
      ],
      "text/plain": [
       "<IPython.core.display.HTML object>"
      ]
     },
     "metadata": {},
     "output_type": "display_data"
    },
    {
     "data": {
      "text/html": [
       "<span style=\"font-size:16px; font-family:Times New Roman;\">\n",
       " <span style=\"background-color: rgba(0, 0, 255, 1);\">Number 2 Topic is 0</span> with  probability 0.09097307952449289, Title is: Hospitality Excellence</span>"
      ],
      "text/plain": [
       "<IPython.core.display.HTML object>"
      ]
     },
     "metadata": {},
     "output_type": "display_data"
    },
    {
     "name": "stdout",
     "output_type": "stream",
     "text": [
      "{5: {'central': 0.024011826851443253, 'place': 0.01633537297997957, 'nice': 0.013371045055689243, 'sure': 0.002351158058014998, 'people': 0.0022840878534854977, 'coming': 0.0010326644119507445}, 0: {'nice': 0.026978779987902997, 'central': 0.010406511528955734, 'place': 0.006849958023169525, 'people': 0.0030879073013128523, 'sure': 0.0024893307632249903, 'coming': 0.0014107767323252684}}\n"
     ]
    },
    {
     "data": {
      "text/html": [
       "<span style=\"font-size:20px; font-family:Times New Roman;\"><span style=\"background-color:rgba(0, 0, 255, 0.5558525884128735)\">Nice</span></span> <span style=\"font-size:20px; font-family:Times New Roman;\"><span style=\"background-color:rgba(255, 0, 0, 0.16940694176492857)\">central</span></span> <span style=\"font-size:20px; font-family:Times New Roman;\"><span style=\"background-color:rgba(255, 0, 0, 0.11524843970634638)\">place</span></span> <span style=\"font-size:20px; font-family:Times New Roman;\">and</span> <span style=\"font-size:20px; font-family:Times New Roman;\"><span style=\"background-color:rgba(0, 0, 255, 0.5558525884128735)\">nice</span></span> <span style=\"font-size:20px; font-family:Times New Roman;\"><span style=\"background-color:rgba(0, 0, 255, 0.06362115955515354)\">people</span></span> <span style=\"font-size:20px; font-family:Times New Roman;\">there</span> <span style=\"font-size:20px; font-family:Times New Roman;\">I</span> <span style=\"font-size:20px; font-family:Times New Roman;\">m</span> <span style=\"font-size:20px; font-family:Times New Roman;\"><span style=\"background-color:rgba(0, 0, 255, 0.029066692366640594)\">coming</span></span> <span style=\"font-size:20px; font-family:Times New Roman;\">again</span> <span style=\"font-size:20px; font-family:Times New Roman;\">I</span> <span style=\"font-size:20px; font-family:Times New Roman;\">m</span> <span style=\"font-size:20px; font-family:Times New Roman;\"><span style=\"background-color:rgba(0, 0, 255, 0.051288492243713096)\">sure</span></span>"
      ],
      "text/plain": [
       "<IPython.core.display.HTML object>"
      ]
     },
     "metadata": {},
     "output_type": "display_data"
    },
    {
     "name": "stdout",
     "output_type": "stream",
     "text": [
      "\n",
      " Splendid Property Modern clean and well maintained\n"
     ]
    },
    {
     "data": {
      "text/html": [
       "<span style=\"font-size:16px; font-family:Times New Roman;\">\n",
       " <span style=\"background-color: rgba(255, 0, 0, 1);\">Number 1 Topic is 5</span> with  probability 0.4986109688639489, Title is: Proximity and Access</span>"
      ],
      "text/plain": [
       "<IPython.core.display.HTML object>"
      ]
     },
     "metadata": {},
     "output_type": "display_data"
    },
    {
     "data": {
      "text/html": [
       "<span style=\"font-size:16px; font-family:Times New Roman;\">\n",
       " <span style=\"background-color: rgba(0, 0, 255, 1);\">Number 2 Topic is 0</span> with  probability 0.15692274055959823, Title is: Hospitality Excellence</span>"
      ],
      "text/plain": [
       "<IPython.core.display.HTML object>"
      ]
     },
     "metadata": {},
     "output_type": "display_data"
    },
    {
     "name": "stdout",
     "output_type": "stream",
     "text": [
      "{5: {'clean': 0.013530019147833895, 'modern': 0.008371244585937921, 'property': 0.007744983089630585, 'well': 0.006256132742752074, 'splendid': 0.0007571694319919379, 'maintained': 0.0006267386228815071}, 0: {'clean': 0.03238266017813047, 'well': 0.0154182859066096, 'modern': 0.013670064700344759, 'property': 0.0020279915527175734, 'maintained': 0.0014448718115013456, 'splendid': 0.00012930108328516648}}\n"
     ]
    },
    {
     "data": {
      "text/html": [
       "<span style=\"font-size:20px; font-family:Times New Roman;\"><span style=\"background-color:rgba(255, 0, 0, 0.005341940813800784)\">Splendid</span></span> <span style=\"font-size:20px; font-family:Times New Roman;\"><span style=\"background-color:rgba(255, 0, 0, 0.05464198569116963)\">Property</span></span> <span style=\"font-size:20px; font-family:Times New Roman;\"><span style=\"background-color:rgba(0, 0, 255, 0.2816487940101514)\">Modern</span></span> <span style=\"font-size:20px; font-family:Times New Roman;\"><span style=\"background-color:rgba(0, 0, 255, 0.6671904914817983)\">clean</span></span> <span style=\"font-size:20px; font-family:Times New Roman;\">and</span> <span style=\"font-size:20px; font-family:Times New Roman;\"><span style=\"background-color:rgba(0, 0, 255, 0.3176679647456818)\">well</span></span> <span style=\"font-size:20px; font-family:Times New Roman;\"><span style=\"background-color:rgba(0, 0, 255, 0.029769164384302705)\">maintained</span></span>"
      ],
      "text/plain": [
       "<IPython.core.display.HTML object>"
      ]
     },
     "metadata": {},
     "output_type": "display_data"
    },
    {
     "name": "stdout",
     "output_type": "stream",
     "text": [
      "\n",
      " It is close to Paddington Station and other attractions\n"
     ]
    },
    {
     "data": {
      "text/html": [
       "<span style=\"font-size:16px; font-family:Times New Roman;\">\n",
       " <span style=\"background-color: rgba(255, 0, 0, 1);\">Number 1 Topic is 5</span> with  probability 0.22981119531281874, Title is: Proximity and Access</span>"
      ],
      "text/plain": [
       "<IPython.core.display.HTML object>"
      ]
     },
     "metadata": {},
     "output_type": "display_data"
    },
    {
     "data": {
      "text/html": [
       "<span style=\"font-size:16px; font-family:Times New Roman;\">\n",
       " <span style=\"background-color: rgba(0, 0, 255, 1);\">Number 2 Topic is 0</span> with  probability 0.20829141469125292, Title is: Hospitality Excellence</span>"
      ],
      "text/plain": [
       "<IPython.core.display.HTML object>"
      ]
     },
     "metadata": {},
     "output_type": "display_data"
    },
    {
     "name": "stdout",
     "output_type": "stream",
     "text": [
      "{5: {'station': 0.09004357654776542, 'close': 0.0643373522182428, 'paddington': 0.021853384849877037, 'attractions': 0.017996027163566537}, 0: {'station': 0.022796498986596227, 'close': 0.016550970705302582, 'attractions': 0.005014109612627526, 'paddington': 0.0030142117022689714}}\n"
     ]
    },
    {
     "data": {
      "text/html": [
       "<span style=\"font-size:20px; font-family:Times New Roman;\">It</span> <span style=\"font-size:20px; font-family:Times New Roman;\">is</span> <span style=\"font-size:20px; font-family:Times New Roman;\"><span style=\"background-color:rgba(255, 0, 0, 0.45390940672597974)\">close</span></span> <span style=\"font-size:20px; font-family:Times New Roman;\">to</span> <span style=\"font-size:20px; font-family:Times New Roman;\"><span style=\"background-color:rgba(255, 0, 0, 0.15417881852696988)\">Paddington</span></span> <span style=\"font-size:20px; font-family:Times New Roman;\"><span style=\"background-color:rgba(255, 0, 0, 0.6352705699115238)\">Station</span></span> <span style=\"font-size:20px; font-family:Times New Roman;\">and</span> <span style=\"font-size:20px; font-family:Times New Roman;\">other</span> <span style=\"font-size:20px; font-family:Times New Roman;\"><span style=\"background-color:rgba(255, 0, 0, 0.12696459726116788)\">attractions</span></span>"
      ],
      "text/plain": [
       "<IPython.core.display.HTML object>"
      ]
     },
     "metadata": {},
     "output_type": "display_data"
    },
    {
     "name": "stdout",
     "output_type": "stream",
     "text": [
      "\n",
      " Really good breakfast lovely fish tank in reception \n"
     ]
    },
    {
     "data": {
      "text/html": [
       "<span style=\"font-size:16px; font-family:Times New Roman;\">\n",
       " <span style=\"background-color: rgba(255, 0, 0, 1);\">Number 1 Topic is 8</span> with  probability 0.3551056212897896, Title is: Breakfast and Pricing</span>"
      ],
      "text/plain": [
       "<IPython.core.display.HTML object>"
      ]
     },
     "metadata": {},
     "output_type": "display_data"
    },
    {
     "data": {
      "text/html": [
       "<span style=\"font-size:16px; font-family:Times New Roman;\">\n",
       " <span style=\"background-color: rgba(0, 0, 255, 1);\">Number 2 Topic is 2</span> with  probability 0.0987544160095627, Title is: Hotel Amenities Excellence</span>"
      ],
      "text/plain": [
       "<IPython.core.display.HTML object>"
      ]
     },
     "metadata": {},
     "output_type": "display_data"
    },
    {
     "name": "stdout",
     "output_type": "stream",
     "text": [
      "{8: {'breakfast': 0.22847221878340768, 'good': 0.031121558404976116, 'really': 0.013141817794386803, 'lovely': 0.007964525752299901, 'fish': 0.0028508152826776847, 'reception': 0.0018923004387533507, 'tank': 0.0012662839466141473}, 2: {'breakfast': 0.11524841376258102, 'good': 0.05274792941197384, 'lovely': 0.02049519077701293, 'really': 0.013450463700559053, 'reception': 0.00918243844404818}}\n"
     ]
    },
    {
     "data": {
      "text/html": [
       "<span style=\"font-size:20px; font-family:Times New Roman;\"><span style=\"background-color:rgba(0, 0, 255, 0.11670844969951477)\">Really</span></span> <span style=\"font-size:20px; font-family:Times New Roman;\"><span style=\"background-color:rgba(0, 0, 255, 0.45768898408127245)\">good</span></span> <span style=\"font-size:20px; font-family:Times New Roman;\"><span style=\"background-color:rgba(255, 0, 0, 1.0)\">breakfast</span></span> <span style=\"font-size:20px; font-family:Times New Roman;\"><span style=\"background-color:rgba(0, 0, 255, 0.17783490555656853)\">lovely</span></span> <span style=\"font-size:20px; font-family:Times New Roman;\"><span style=\"background-color:rgba(255, 0, 0, 0.01247773273204943)\">fish</span></span> <span style=\"font-size:20px; font-family:Times New Roman;\"><span style=\"background-color:rgba(255, 0, 0, 0.005542397904467274)\">tank</span></span> <span style=\"font-size:20px; font-family:Times New Roman;\">in</span> <span style=\"font-size:20px; font-family:Times New Roman;\"><span style=\"background-color:rgba(0, 0, 255, 0.07967518288767583)\">reception</span></span>"
      ],
      "text/plain": [
       "<IPython.core.display.HTML object>"
      ]
     },
     "metadata": {},
     "output_type": "display_data"
    },
    {
     "name": "stdout",
     "output_type": "stream",
     "text": [
      "\n",
      " Breakfast was plentiful choice and catered for everyones tastes\n"
     ]
    },
    {
     "data": {
      "text/html": [
       "<span style=\"font-size:16px; font-family:Times New Roman;\">\n",
       " <span style=\"background-color: rgba(255, 0, 0, 1);\">Number 1 Topic is 8</span> with  probability 0.5934843843310162, Title is: Breakfast and Pricing</span>"
      ],
      "text/plain": [
       "<IPython.core.display.HTML object>"
      ]
     },
     "metadata": {},
     "output_type": "display_data"
    },
    {
     "data": {
      "text/html": [
       "<span style=\"font-size:16px; font-family:Times New Roman;\">\n",
       " <span style=\"background-color: rgba(0, 0, 255, 1);\">Number 2 Topic is 2</span> with  probability 0.07516507769111182, Title is: Hotel Amenities Excellence</span>"
      ],
      "text/plain": [
       "<IPython.core.display.HTML object>"
      ]
     },
     "metadata": {},
     "output_type": "display_data"
    },
    {
     "name": "stdout",
     "output_type": "stream",
     "text": [
      "{8: {'breakfast': 0.22847221878340768, 'choice': 0.034562535703461246, 'tastes': 0.004206701969586979, 'plentiful': 0.0036654567717575794, 'catered': 0.0019774636998658155, 'everyones': 0.0014193687928823675}, 2: {'breakfast': 0.11524841376258102, 'choice': 0.01609182204729172, 'plentiful': 0.0023906891036621454, 'catered': 0.001289744011328173}}\n"
     ]
    },
    {
     "data": {
      "text/html": [
       "<span style=\"font-size:20px; font-family:Times New Roman;\"><span style=\"background-color:rgba(255, 0, 0, 1.0)\">Breakfast</span></span> <span style=\"font-size:20px; font-family:Times New Roman;\">was</span> <span style=\"font-size:20px; font-family:Times New Roman;\"><span style=\"background-color:rgba(255, 0, 0, 0.01604333687165897)\">plentiful</span></span> <span style=\"font-size:20px; font-family:Times New Roman;\"><span style=\"background-color:rgba(255, 0, 0, 0.15127675429206836)\">choice</span></span> <span style=\"font-size:20px; font-family:Times New Roman;\">and</span> <span style=\"font-size:20px; font-family:Times New Roman;\"><span style=\"background-color:rgba(255, 0, 0, 0.008655160397161708)\">catered</span></span> <span style=\"font-size:20px; font-family:Times New Roman;\">for</span> <span style=\"font-size:20px; font-family:Times New Roman;\"><span style=\"background-color:rgba(255, 0, 0, 0.006212434931653258)\">everyones</span></span> <span style=\"font-size:20px; font-family:Times New Roman;\"><span style=\"background-color:rgba(255, 0, 0, 0.018412312849182527)\">tastes</span></span>"
      ],
      "text/plain": [
       "<IPython.core.display.HTML object>"
      ]
     },
     "metadata": {},
     "output_type": "display_data"
    },
    {
     "name": "stdout",
     "output_type": "stream",
     "text": [
      "\n",
      " The bed was comfortable and the view was fabulous \n"
     ]
    },
    {
     "data": {
      "text/html": [
       "<span style=\"font-size:16px; font-family:Times New Roman;\">\n",
       " <span style=\"background-color: rgba(255, 0, 0, 1);\">Number 1 Topic is 4</span> with  probability 1.0, Title is: Bed and Comfort</span>"
      ],
      "text/plain": [
       "<IPython.core.display.HTML object>"
      ]
     },
     "metadata": {},
     "output_type": "display_data"
    },
    {
     "data": {
      "text/html": [
       "<span style=\"font-size:16px; font-family:Times New Roman;\">\n",
       " <span style=\"background-color: rgba(0, 0, 255, 1);\">Number 2 Topic is 0</span> with  probability 5.053266941526047e-307, Title is: Hospitality Excellence</span>"
      ],
      "text/plain": [
       "<IPython.core.display.HTML object>"
      ]
     },
     "metadata": {},
     "output_type": "display_data"
    },
    {
     "name": "stdout",
     "output_type": "stream",
     "text": [
      "{4: {'bed': 0.18742485856860663, 'comfortable': 0.06669352393034343, 'view': 0.012586659016244632, 'fabulous': 0.002200884287574765}, 0: {'comfortable': 0.026514309589912105, 'bed': 0.013568441629805767, 'view': 0.011865545376186169, 'fabulous': 0.0041783087521707}}\n"
     ]
    },
    {
     "data": {
      "text/html": [
       "<span style=\"font-size:20px; font-family:Times New Roman;\">The</span> <span style=\"font-size:20px; font-family:Times New Roman;\"><span style=\"background-color:rgba(255, 0, 0, 1.0)\">bed</span></span> <span style=\"font-size:20px; font-family:Times New Roman;\">was</span> <span style=\"font-size:20px; font-family:Times New Roman;\"><span style=\"background-color:rgba(255, 0, 0, 0.35584139926631103)\">comfortable</span></span> <span style=\"font-size:20px; font-family:Times New Roman;\">and</span> <span style=\"font-size:20px; font-family:Times New Roman;\">the</span> <span style=\"font-size:20px; font-family:Times New Roman;\"><span style=\"background-color:rgba(255, 0, 0, 0.06715576104669863)\">view</span></span> <span style=\"font-size:20px; font-family:Times New Roman;\">was</span> <span style=\"font-size:20px; font-family:Times New Roman;\"><span style=\"background-color:rgba(0, 0, 255, 0.08608705568315701)\">fabulous</span></span>"
      ],
      "text/plain": [
       "<IPython.core.display.HTML object>"
      ]
     },
     "metadata": {},
     "output_type": "display_data"
    },
    {
     "name": "stdout",
     "output_type": "stream",
     "text": [
      "\n",
      " Location is great Room was really nice Breakfast was great staff was friendly and helfull\n"
     ]
    },
    {
     "data": {
      "text/html": [
       "<span style=\"font-size:16px; font-family:Times New Roman;\">\n",
       " <span style=\"background-color: rgba(255, 0, 0, 1);\">Number 1 Topic is 2</span> with  probability 0.7722600885320311, Title is: Hotel Amenities Excellence</span>"
      ],
      "text/plain": [
       "<IPython.core.display.HTML object>"
      ]
     },
     "metadata": {},
     "output_type": "display_data"
    },
    {
     "data": {
      "text/html": [
       "<span style=\"font-size:16px; font-family:Times New Roman;\">\n",
       " <span style=\"background-color: rgba(0, 0, 255, 1);\">Number 2 Topic is 0</span> with  probability 0.07968492351613, Title is: Hospitality Excellence</span>"
      ],
      "text/plain": [
       "<IPython.core.display.HTML object>"
      ]
     },
     "metadata": {},
     "output_type": "display_data"
    },
    {
     "name": "stdout",
     "output_type": "stream",
     "text": [
      "{2: {'breakfast': 0.11524841376258102, 'staff': 0.05349265438589445, 'great': 0.042179586284901954, 'friendly': 0.03932130262453923, 'location': 0.03927079997120542, 'nice': 0.029344159840677307, 'room': 0.02884931166699843, 'really': 0.013450463700559053, 'helfull': 0.00033035896171392133}, 0: {'staff': 0.04179384363660856, 'location': 0.03583580936752398, 'friendly': 0.03084435664522748, 'great': 0.030762376692012823, 'room': 0.02927797724444089, 'nice': 0.026978779987902997, 'really': 0.01449127363326545, 'breakfast': 0.011407779818943154, 'helfull': 0.00016452004890061324}}\n"
     ]
    },
    {
     "data": {
      "text/html": [
       "<span style=\"font-size:20px; font-family:Times New Roman;\"><span style=\"background-color:rgba(255, 0, 0, 0.3407491581802222)\">Location</span></span> <span style=\"font-size:20px; font-family:Times New Roman;\">is</span> <span style=\"font-size:20px; font-family:Times New Roman;\"><span style=\"background-color:rgba(255, 0, 0, 0.36598843235963796)\">great</span></span> <span style=\"font-size:20px; font-family:Times New Roman;\"><span style=\"background-color:rgba(0, 0, 255, 0.6032236981106217)\">Room</span></span> <span style=\"font-size:20px; font-family:Times New Roman;\">was</span> <span style=\"font-size:20px; font-family:Times New Roman;\"><span style=\"background-color:rgba(0, 0, 255, 0.29856842904169906)\">really</span></span> <span style=\"font-size:20px; font-family:Times New Roman;\"><span style=\"background-color:rgba(255, 0, 0, 0.25461660497235233)\">nice</span></span> <span style=\"font-size:20px; font-family:Times New Roman;\"><span style=\"background-color:rgba(255, 0, 0, 1.0)\">Breakfast</span></span> <span style=\"font-size:20px; font-family:Times New Roman;\">was</span> <span style=\"font-size:20px; font-family:Times New Roman;\"><span style=\"background-color:rgba(255, 0, 0, 0.36598843235963796)\">great</span></span> <span style=\"font-size:20px; font-family:Times New Roman;\"><span style=\"background-color:rgba(255, 0, 0, 0.4641508949189763)\">staff</span></span> <span style=\"font-size:20px; font-family:Times New Roman;\">was</span> <span style=\"font-size:20px; font-family:Times New Roman;\"><span style=\"background-color:rgba(255, 0, 0, 0.34118736510806635)\">friendly</span></span> <span style=\"font-size:20px; font-family:Times New Roman;\">and</span> <span style=\"font-size:20px; font-family:Times New Roman;\"><span style=\"background-color:rgba(255, 0, 0, 0.0028664946521041196)\">helfull</span></span>"
      ],
      "text/plain": [
       "<IPython.core.display.HTML object>"
      ]
     },
     "metadata": {},
     "output_type": "display_data"
    },
    {
     "name": "stdout",
     "output_type": "stream",
     "text": [
      "\n",
      " Good location and very nice staff The restaurant is quite good too \n"
     ]
    },
    {
     "data": {
      "text/html": [
       "<span style=\"font-size:16px; font-family:Times New Roman;\">\n",
       " <span style=\"background-color: rgba(255, 0, 0, 1);\">Number 1 Topic is 2</span> with  probability 1.0, Title is: Hotel Amenities Excellence</span>"
      ],
      "text/plain": [
       "<IPython.core.display.HTML object>"
      ]
     },
     "metadata": {},
     "output_type": "display_data"
    },
    {
     "data": {
      "text/html": [
       "<span style=\"font-size:16px; font-family:Times New Roman;\">\n",
       " <span style=\"background-color: rgba(0, 0, 255, 1);\">Number 2 Topic is 0</span> with  probability 8.139857459418036e-307, Title is: Hospitality Excellence</span>"
      ],
      "text/plain": [
       "<IPython.core.display.HTML object>"
      ]
     },
     "metadata": {},
     "output_type": "display_data"
    },
    {
     "name": "stdout",
     "output_type": "stream",
     "text": [
      "{2: {'staff': 0.05349265438589445, 'good': 0.05274792941197384, 'location': 0.03927079997120542, 'nice': 0.029344159840677307, 'restaurant': 0.0206095246084464, 'quite': 0.006677011039744786}, 0: {'staff': 0.04179384363660856, 'location': 0.03583580936752398, 'nice': 0.026978779987902997, 'good': 0.026974237738203566, 'quite': 0.005541962481607148, 'restaurant': 0.004317238448095118}}\n"
     ]
    },
    {
     "data": {
      "text/html": [
       "<span style=\"font-size:20px; font-family:Times New Roman;\"><span style=\"background-color:rgba(255, 0, 0, 0.45768898408127245)\">Good</span></span> <span style=\"font-size:20px; font-family:Times New Roman;\"><span style=\"background-color:rgba(255, 0, 0, 0.3407491581802222)\">location</span></span> <span style=\"font-size:20px; font-family:Times New Roman;\">and</span> <span style=\"font-size:20px; font-family:Times New Roman;\">very</span> <span style=\"font-size:20px; font-family:Times New Roman;\"><span style=\"background-color:rgba(255, 0, 0, 0.25461660497235233)\">nice</span></span> <span style=\"font-size:20px; font-family:Times New Roman;\"><span style=\"background-color:rgba(255, 0, 0, 0.4641508949189763)\">staff</span></span> <span style=\"font-size:20px; font-family:Times New Roman;\">The</span> <span style=\"font-size:20px; font-family:Times New Roman;\"><span style=\"background-color:rgba(255, 0, 0, 0.17882696980891483)\">restaurant</span></span> <span style=\"font-size:20px; font-family:Times New Roman;\">is</span> <span style=\"font-size:20px; font-family:Times New Roman;\"><span style=\"background-color:rgba(255, 0, 0, 0.05793581726426056)\">quite</span></span> <span style=\"font-size:20px; font-family:Times New Roman;\"><span style=\"background-color:rgba(255, 0, 0, 0.45768898408127245)\">good</span></span> <span style=\"font-size:20px; font-family:Times New Roman;\">too</span>"
      ],
      "text/plain": [
       "<IPython.core.display.HTML object>"
      ]
     },
     "metadata": {},
     "output_type": "display_data"
    },
    {
     "name": "stdout",
     "output_type": "stream",
     "text": [
      "\n",
      " The members of staff in the morning when you went for breakfast where very good so helpful x\n"
     ]
    },
    {
     "data": {
      "text/html": [
       "<span style=\"font-size:16px; font-family:Times New Roman;\">\n",
       " <span style=\"background-color: rgba(255, 0, 0, 1);\">Number 1 Topic is 2</span> with  probability 1.0, Title is: Hotel Amenities Excellence</span>"
      ],
      "text/plain": [
       "<IPython.core.display.HTML object>"
      ]
     },
     "metadata": {},
     "output_type": "display_data"
    },
    {
     "data": {
      "text/html": [
       "<span style=\"font-size:16px; font-family:Times New Roman;\">\n",
       " <span style=\"background-color: rgba(0, 0, 255, 1);\">Number 2 Topic is 0</span> with  probability 5.005111698920836e-307, Title is: Hospitality Excellence</span>"
      ],
      "text/plain": [
       "<IPython.core.display.HTML object>"
      ]
     },
     "metadata": {},
     "output_type": "display_data"
    },
    {
     "name": "stdout",
     "output_type": "stream",
     "text": [
      "{2: {'breakfast': 0.11524841376258102, 'staff': 0.05349265438589445, 'good': 0.05274792941197384, 'helpful': 0.03541471830619897, 'morning': 0.004572135360503713, 'went': 0.0027291503133699702, 'members': 0.0016677798321005164}, 0: {'staff': 0.04179384363660856, 'helpful': 0.02930849728275495, 'good': 0.026974237738203566, 'breakfast': 0.011407779818943154, 'went': 0.002610955421425444, 'morning': 0.0017239697711566822, 'members': 0.0008824709014731652}}\n"
     ]
    },
    {
     "data": {
      "text/html": [
       "<span style=\"font-size:20px; font-family:Times New Roman;\">The</span> <span style=\"font-size:20px; font-family:Times New Roman;\"><span style=\"background-color:rgba(255, 0, 0, 0.01447117385525364)\">members</span></span> <span style=\"font-size:20px; font-family:Times New Roman;\">of</span> <span style=\"font-size:20px; font-family:Times New Roman;\"><span style=\"background-color:rgba(255, 0, 0, 0.4641508949189763)\">staff</span></span> <span style=\"font-size:20px; font-family:Times New Roman;\">in</span> <span style=\"font-size:20px; font-family:Times New Roman;\">the</span> <span style=\"font-size:20px; font-family:Times New Roman;\"><span style=\"background-color:rgba(255, 0, 0, 0.039672002513827215)\">morning</span></span> <span style=\"font-size:20px; font-family:Times New Roman;\">when</span> <span style=\"font-size:20px; font-family:Times New Roman;\">you</span> <span style=\"font-size:20px; font-family:Times New Roman;\"><span style=\"background-color:rgba(255, 0, 0, 0.02368058894929514)\">went</span></span> <span style=\"font-size:20px; font-family:Times New Roman;\">for</span> <span style=\"font-size:20px; font-family:Times New Roman;\"><span style=\"background-color:rgba(255, 0, 0, 1.0)\">breakfast</span></span> <span style=\"font-size:20px; font-family:Times New Roman;\">where</span> <span style=\"font-size:20px; font-family:Times New Roman;\">very</span> <span style=\"font-size:20px; font-family:Times New Roman;\"><span style=\"background-color:rgba(255, 0, 0, 0.45768898408127245)\">good</span></span> <span style=\"font-size:20px; font-family:Times New Roman;\">so</span> <span style=\"font-size:20px; font-family:Times New Roman;\"><span style=\"background-color:rgba(255, 0, 0, 0.30729028842996065)\">helpful</span></span> <span style=\"font-size:20px; font-family:Times New Roman;\">x</span>"
      ],
      "text/plain": [
       "<IPython.core.display.HTML object>"
      ]
     },
     "metadata": {},
     "output_type": "display_data"
    },
    {
     "name": "stdout",
     "output_type": "stream",
     "text": [
      "\n",
      " Friendly staff member Great value for in room breakfast Really clean room as well and tidy \n"
     ]
    },
    {
     "data": {
      "text/html": [
       "<span style=\"font-size:16px; font-family:Times New Roman;\">\n",
       " <span style=\"background-color: rgba(255, 0, 0, 1);\">Number 1 Topic is 2</span> with  probability 0.7367381222312516, Title is: Hotel Amenities Excellence</span>"
      ],
      "text/plain": [
       "<IPython.core.display.HTML object>"
      ]
     },
     "metadata": {},
     "output_type": "display_data"
    },
    {
     "data": {
      "text/html": [
       "<span style=\"font-size:16px; font-family:Times New Roman;\">\n",
       " <span style=\"background-color: rgba(0, 0, 255, 1);\">Number 2 Topic is 0</span> with  probability 0.0705901612217939, Title is: Hospitality Excellence</span>"
      ],
      "text/plain": [
       "<IPython.core.display.HTML object>"
      ]
     },
     "metadata": {},
     "output_type": "display_data"
    },
    {
     "name": "stdout",
     "output_type": "stream",
     "text": [
      "{2: {'breakfast': 0.11524841376258102, 'staff': 0.05349265438589445, 'great': 0.042179586284901954, 'friendly': 0.03932130262453923, 'room': 0.02884931166699843, 'clean': 0.022127028836636753, 'really': 0.013450463700559053, 'well': 0.012384068586298477, 'value': 0.0063913698387443865, 'tidy': 0.002071691720764598, 'member': 0.0012837298974446186}, 0: {'staff': 0.04179384363660856, 'clean': 0.03238266017813047, 'friendly': 0.03084435664522748, 'great': 0.030762376692012823, 'room': 0.02927797724444089, 'well': 0.0154182859066096, 'really': 0.01449127363326545, 'breakfast': 0.011407779818943154, 'value': 0.0060475614120410245, 'tidy': 0.002954443822761726, 'member': 0.0009589537290303266}}\n"
     ]
    },
    {
     "data": {
      "text/html": [
       "<span style=\"font-size:20px; font-family:Times New Roman;\"><span style=\"background-color:rgba(255, 0, 0, 0.34118736510806635)\">Friendly</span></span> <span style=\"font-size:20px; font-family:Times New Roman;\"><span style=\"background-color:rgba(255, 0, 0, 0.4641508949189763)\">staff</span></span> <span style=\"font-size:20px; font-family:Times New Roman;\"><span style=\"background-color:rgba(255, 0, 0, 0.011138807516164022)\">member</span></span> <span style=\"font-size:20px; font-family:Times New Roman;\"><span style=\"background-color:rgba(255, 0, 0, 0.36598843235963796)\">Great</span></span> <span style=\"font-size:20px; font-family:Times New Roman;\"><span style=\"background-color:rgba(255, 0, 0, 0.055457334553089904)\">value</span></span> <span style=\"font-size:20px; font-family:Times New Roman;\">for</span> <span style=\"font-size:20px; font-family:Times New Roman;\">in</span> <span style=\"font-size:20px; font-family:Times New Roman;\"><span style=\"background-color:rgba(0, 0, 255, 0.6032236981106217)\">room</span></span> <span style=\"font-size:20px; font-family:Times New Roman;\"><span style=\"background-color:rgba(255, 0, 0, 1.0)\">breakfast</span></span> <span style=\"font-size:20px; font-family:Times New Roman;\"><span style=\"background-color:rgba(0, 0, 255, 0.29856842904169906)\">Really</span></span> <span style=\"font-size:20px; font-family:Times New Roman;\"><span style=\"background-color:rgba(0, 0, 255, 0.6671904914817983)\">clean</span></span> <span style=\"font-size:20px; font-family:Times New Roman;\"><span style=\"background-color:rgba(0, 0, 255, 0.6032236981106217)\">room</span></span> <span style=\"font-size:20px; font-family:Times New Roman;\">as</span> <span style=\"font-size:20px; font-family:Times New Roman;\"><span style=\"background-color:rgba(0, 0, 255, 0.3176679647456818)\">well</span></span> <span style=\"font-size:20px; font-family:Times New Roman;\">and</span> <span style=\"font-size:20px; font-family:Times New Roman;\"><span style=\"background-color:rgba(0, 0, 255, 0.060871368050701015)\">tidy</span></span>"
      ],
      "text/plain": [
       "<IPython.core.display.HTML object>"
      ]
     },
     "metadata": {},
     "output_type": "display_data"
    },
    {
     "name": "stdout",
     "output_type": "stream",
     "text": [
      "\n",
      " Good location comfortable bed friendly staff clean and quiet rooms good breakfast\n"
     ]
    },
    {
     "data": {
      "text/html": [
       "<span style=\"font-size:16px; font-family:Times New Roman;\">\n",
       " <span style=\"background-color: rgba(255, 0, 0, 1);\">Number 1 Topic is 2</span> with  probability 0.2756251928362784, Title is: Hotel Amenities Excellence</span>"
      ],
      "text/plain": [
       "<IPython.core.display.HTML object>"
      ]
     },
     "metadata": {},
     "output_type": "display_data"
    },
    {
     "data": {
      "text/html": [
       "<span style=\"font-size:16px; font-family:Times New Roman;\">\n",
       " <span style=\"background-color: rgba(0, 0, 255, 1);\">Number 2 Topic is 0</span> with  probability 0.19879106903526453, Title is: Hospitality Excellence</span>"
      ],
      "text/plain": [
       "<IPython.core.display.HTML object>"
      ]
     },
     "metadata": {},
     "output_type": "display_data"
    },
    {
     "name": "stdout",
     "output_type": "stream",
     "text": [
      "{2: {'breakfast': 0.11524841376258102, 'staff': 0.05349265438589445, 'good': 0.05274792941197384, 'friendly': 0.03932130262453923, 'location': 0.03927079997120542, 'comfortable': 0.02663939781420701, 'clean': 0.022127028836636753, 'bed': 0.020635347520292023, 'rooms': 0.017568688718497552, 'quiet': 0.010463561936965635}, 0: {'staff': 0.04179384363660856, 'location': 0.03583580936752398, 'clean': 0.03238266017813047, 'friendly': 0.03084435664522748, 'good': 0.026974237738203566, 'comfortable': 0.026514309589912105, 'rooms': 0.022525856144947343, 'quiet': 0.014492800537951914, 'bed': 0.013568441629805767, 'breakfast': 0.011407779818943154}}\n"
     ]
    },
    {
     "data": {
      "text/html": [
       "<span style=\"font-size:20px; font-family:Times New Roman;\"><span style=\"background-color:rgba(255, 0, 0, 0.45768898408127245)\">Good</span></span> <span style=\"font-size:20px; font-family:Times New Roman;\"><span style=\"background-color:rgba(255, 0, 0, 0.3407491581802222)\">location</span></span> <span style=\"font-size:20px; font-family:Times New Roman;\"><span style=\"background-color:rgba(255, 0, 0, 0.2311476309694452)\">comfortable</span></span> <span style=\"font-size:20px; font-family:Times New Roman;\"><span style=\"background-color:rgba(255, 0, 0, 0.17905103286542526)\">bed</span></span> <span style=\"font-size:20px; font-family:Times New Roman;\"><span style=\"background-color:rgba(255, 0, 0, 0.34118736510806635)\">friendly</span></span> <span style=\"font-size:20px; font-family:Times New Roman;\"><span style=\"background-color:rgba(255, 0, 0, 0.4641508949189763)\">staff</span></span> <span style=\"font-size:20px; font-family:Times New Roman;\"><span style=\"background-color:rgba(0, 0, 255, 0.6671904914817983)\">clean</span></span> <span style=\"font-size:20px; font-family:Times New Roman;\">and</span> <span style=\"font-size:20px; font-family:Times New Roman;\"><span style=\"background-color:rgba(0, 0, 255, 0.2985998883561162)\">quiet</span></span> <span style=\"font-size:20px; font-family:Times New Roman;\"><span style=\"background-color:rgba(0, 0, 255, 0.4641075485992815)\">rooms</span></span> <span style=\"font-size:20px; font-family:Times New Roman;\"><span style=\"background-color:rgba(255, 0, 0, 0.45768898408127245)\">good</span></span> <span style=\"font-size:20px; font-family:Times New Roman;\"><span style=\"background-color:rgba(255, 0, 0, 1.0)\">breakfast</span></span>"
      ],
      "text/plain": [
       "<IPython.core.display.HTML object>"
      ]
     },
     "metadata": {},
     "output_type": "display_data"
    },
    {
     "name": "stdout",
     "output_type": "stream",
     "text": [
      "\n",
      " The hotel smelt lovely when you walked in Room was lovely with a nice bottle of champers and a mini chocolate birthday cake lovely touch A surprise for my birthday which I wasnt expecting Bed was very comfortable Location of hotel too was great close to all the threatres and some very good restaurants and bars and only a 5 minute walk to the River Thames \n"
     ]
    },
    {
     "data": {
      "text/html": [
       "<span style=\"font-size:16px; font-family:Times New Roman;\">\n",
       " <span style=\"background-color: rgba(255, 0, 0, 1);\">Number 1 Topic is 17</span> with  probability 0.19377528347468148, Title is: Celebratory Sweet Treats</span>"
      ],
      "text/plain": [
       "<IPython.core.display.HTML object>"
      ]
     },
     "metadata": {},
     "output_type": "display_data"
    },
    {
     "data": {
      "text/html": [
       "<span style=\"font-size:16px; font-family:Times New Roman;\">\n",
       " <span style=\"background-color: rgba(0, 0, 255, 1);\">Number 2 Topic is 0</span> with  probability 0.19316981525883103, Title is: Hospitality Excellence</span>"
      ],
      "text/plain": [
       "<IPython.core.display.HTML object>"
      ]
     },
     "metadata": {},
     "output_type": "display_data"
    },
    {
     "name": "stdout",
     "output_type": "stream",
     "text": [
      "{17: {'birthday': 0.20607361893045928, 'cake': 0.07180666434838738, 'lovely': 0.03583706475558209, 'touch': 0.03315075212050046, 'hotel': 0.03248450309176592, 'surprise': 0.029825117088008203, 'bottle': 0.026784976689852413, 'room': 0.025576446434395505, 'great': 0.017378964317208652, 'chocolate': 0.013275472910564464, 'nice': 0.012248426532120089, 'bed': 0.010796654437361573, 'location': 0.010148639504303765, 'comfortable': 0.00725939768764715, 'close': 0.004262553515467264, 'mini': 0.004136425974847799, 'minute': 0.00398355190167734, 'good': 0.0038548806151448354, 'walk': 0.0034256818705725523, 'bars': 0.0033512063951490283, 'restaurants': 0.003308653987372047, 'expecting': 0.0029343997645695816, 'thames': 0.0027909313196591676, 'walked': 0.0025928814208823663, 'champers': 0.0023814333546233035, 'threatres': 0.0023814333546233035, 'river': 0.0023725219572836077, 'wasnt': 0.0013887057123993264, 'smelt': 0.0013664829211018994}, 0: {'hotel': 0.048535853840198054, 'location': 0.03583580936752398, 'great': 0.030762376692012823, 'room': 0.02927797724444089, 'nice': 0.026978779987902997, 'good': 0.026974237738203566, 'comfortable': 0.026514309589912105, 'lovely': 0.01777938640361986, 'close': 0.016550970705302582, 'walk': 0.01636728867856922, 'bed': 0.013568441629805767, 'restaurants': 0.008294795396581435, 'minute': 0.006130870832101487, 'bars': 0.0029410566337439094, 'river': 0.002618000069905461, 'touch': 0.0017113808816594154, 'walked': 0.001706656544886941, 'mini': 0.0014814313902450761, 'birthday': 0.001242926846841495, 'thames': 0.0010265670204565379, 'surprise': 0.0008660799288377162, 'bottle': 0.0006913764257306162, 'chocolate': 0.0006682022082110124, 'cake': 0.0004043957695106097, 'expecting': 0.00011361451856302087, 'wasnt': 0.0001075362211004738, 'smelt': 0.00010581537054366222}}\n"
     ]
    },
    {
     "data": {
      "text/html": [
       "<span style=\"font-size:20px; font-family:Times New Roman;\">The</span> <span style=\"font-size:20px; font-family:Times New Roman;\"><span style=\"background-color:rgba(0, 0, 255, 1.0)\">hotel</span></span> <span style=\"font-size:20px; font-family:Times New Roman;\"><span style=\"background-color:rgba(255, 0, 0, 0.006631042479838367)\">smelt</span></span> <span style=\"font-size:20px; font-family:Times New Roman;\"><span style=\"background-color:rgba(255, 0, 0, 0.17390418502659244)\">lovely</span></span> <span style=\"font-size:20px; font-family:Times New Roman;\">when</span> <span style=\"font-size:20px; font-family:Times New Roman;\">you</span> <span style=\"font-size:20px; font-family:Times New Roman;\"><span style=\"background-color:rgba(255, 0, 0, 0.012582306431748302)\">walked</span></span> <span style=\"font-size:20px; font-family:Times New Roman;\">in</span> <span style=\"font-size:20px; font-family:Times New Roman;\"><span style=\"background-color:rgba(0, 0, 255, 0.6032236981106217)\">Room</span></span> <span style=\"font-size:20px; font-family:Times New Roman;\">was</span> <span style=\"font-size:20px; font-family:Times New Roman;\"><span style=\"background-color:rgba(255, 0, 0, 0.17390418502659244)\">lovely</span></span> <span style=\"font-size:20px; font-family:Times New Roman;\">with</span> <span style=\"font-size:20px; font-family:Times New Roman;\">a</span> <span style=\"font-size:20px; font-family:Times New Roman;\"><span style=\"background-color:rgba(0, 0, 255, 0.5558525884128735)\">nice</span></span> <span style=\"font-size:20px; font-family:Times New Roman;\"><span style=\"background-color:rgba(255, 0, 0, 0.1299777081067866)\">bottle</span></span> <span style=\"font-size:20px; font-family:Times New Roman;\">of</span> <span style=\"font-size:20px; font-family:Times New Roman;\"><span style=\"background-color:rgba(255, 0, 0, 0.011556226201991104)\">champers</span></span> <span style=\"font-size:20px; font-family:Times New Roman;\">and</span> <span style=\"font-size:20px; font-family:Times New Roman;\">a</span> <span style=\"font-size:20px; font-family:Times New Roman;\"><span style=\"background-color:rgba(255, 0, 0, 0.020072564340434373)\">mini</span></span> <span style=\"font-size:20px; font-family:Times New Roman;\"><span style=\"background-color:rgba(255, 0, 0, 0.06442102089275362)\">chocolate</span></span> <span style=\"font-size:20px; font-family:Times New Roman;\"><span style=\"background-color:rgba(255, 0, 0, 1.0)\">birthday</span></span> <span style=\"font-size:20px; font-family:Times New Roman;\"><span style=\"background-color:rgba(255, 0, 0, 0.348451513207127)\">cake</span></span> <span style=\"font-size:20px; font-family:Times New Roman;\"><span style=\"background-color:rgba(255, 0, 0, 0.17390418502659244)\">lovely</span></span> <span style=\"font-size:20px; font-family:Times New Roman;\"><span style=\"background-color:rgba(255, 0, 0, 0.16086849104002668)\">touch</span></span> <span style=\"font-size:20px; font-family:Times New Roman;\">A</span> <span style=\"font-size:20px; font-family:Times New Roman;\"><span style=\"background-color:rgba(255, 0, 0, 0.1447303989846117)\">surprise</span></span> <span style=\"font-size:20px; font-family:Times New Roman;\">for</span> <span style=\"font-size:20px; font-family:Times New Roman;\">my</span> <span style=\"font-size:20px; font-family:Times New Roman;\"><span style=\"background-color:rgba(255, 0, 0, 1.0)\">birthday</span></span> <span style=\"font-size:20px; font-family:Times New Roman;\">which</span> <span style=\"font-size:20px; font-family:Times New Roman;\">I</span> <span style=\"font-size:20px; font-family:Times New Roman;\"><span style=\"background-color:rgba(255, 0, 0, 0.006738881568668686)\">wasnt</span></span> <span style=\"font-size:20px; font-family:Times New Roman;\"><span style=\"background-color:rgba(255, 0, 0, 0.014239570206993898)\">expecting</span></span> <span style=\"font-size:20px; font-family:Times New Roman;\"><span style=\"background-color:rgba(0, 0, 255, 0.27955502079924677)\">Bed</span></span> <span style=\"font-size:20px; font-family:Times New Roman;\">was</span> <span style=\"font-size:20px; font-family:Times New Roman;\">very</span> <span style=\"font-size:20px; font-family:Times New Roman;\"><span style=\"background-color:rgba(0, 0, 255, 0.546282953570966)\">comfortable</span></span> <span style=\"font-size:20px; font-family:Times New Roman;\"><span style=\"background-color:rgba(0, 0, 255, 0.7383368485802608)\">Location</span></span> <span style=\"font-size:20px; font-family:Times New Roman;\">of</span> <span style=\"font-size:20px; font-family:Times New Roman;\"><span style=\"background-color:rgba(0, 0, 255, 1.0)\">hotel</span></span> <span style=\"font-size:20px; font-family:Times New Roman;\">too</span> <span style=\"font-size:20px; font-family:Times New Roman;\">was</span> <span style=\"font-size:20px; font-family:Times New Roman;\"><span style=\"background-color:rgba(0, 0, 255, 0.6338072632511309)\">great</span></span> <span style=\"font-size:20px; font-family:Times New Roman;\"><span style=\"background-color:rgba(0, 0, 255, 0.3410050384566397)\">close</span></span> <span style=\"font-size:20px; font-family:Times New Roman;\">to</span> <span style=\"font-size:20px; font-family:Times New Roman;\">all</span> <span style=\"font-size:20px; font-family:Times New Roman;\">the</span> <span style=\"font-size:20px; font-family:Times New Roman;\"><span style=\"background-color:rgba(255, 0, 0, 0.011556226201991104)\">threatres</span></span> <span style=\"font-size:20px; font-family:Times New Roman;\">and</span> <span style=\"font-size:20px; font-family:Times New Roman;\">some</span> <span style=\"font-size:20px; font-family:Times New Roman;\">very</span> <span style=\"font-size:20px; font-family:Times New Roman;\"><span style=\"background-color:rgba(0, 0, 255, 0.5557590029633543)\">good</span></span> <span style=\"font-size:20px; font-family:Times New Roman;\"><span style=\"background-color:rgba(0, 0, 255, 0.17090037035078537)\">restaurants</span></span> <span style=\"font-size:20px; font-family:Times New Roman;\">and</span> <span style=\"font-size:20px; font-family:Times New Roman;\"><span style=\"background-color:rgba(255, 0, 0, 0.016262180537916948)\">bars</span></span> <span style=\"font-size:20px; font-family:Times New Roman;\">and</span> <span style=\"font-size:20px; font-family:Times New Roman;\">only</span> <span style=\"font-size:20px; font-family:Times New Roman;\">a</span> <span style=\"font-size:20px; font-family:Times New Roman;\">5</span> <span style=\"font-size:20px; font-family:Times New Roman;\"><span style=\"background-color:rgba(0, 0, 255, 0.12631632797245274)\">minute</span></span> <span style=\"font-size:20px; font-family:Times New Roman;\"><span style=\"background-color:rgba(0, 0, 255, 0.33722057785277093)\">walk</span></span> <span style=\"font-size:20px; font-family:Times New Roman;\">to</span> <span style=\"font-size:20px; font-family:Times New Roman;\">the</span> <span style=\"font-size:20px; font-family:Times New Roman;\"><span style=\"background-color:rgba(0, 0, 255, 0.053939507864126573)\">River</span></span> <span style=\"font-size:20px; font-family:Times New Roman;\"><span style=\"background-color:rgba(255, 0, 0, 0.01354337024867304)\">Thames</span></span>"
      ],
      "text/plain": [
       "<IPython.core.display.HTML object>"
      ]
     },
     "metadata": {},
     "output_type": "display_data"
    },
    {
     "name": "stdout",
     "output_type": "stream",
     "text": [
      "\n",
      " Very nice reception staff they were helpful and did more than I expected The lady at the reception made us very happy with her care and professional touch \n"
     ]
    },
    {
     "data": {
      "text/html": [
       "<span style=\"font-size:16px; font-family:Times New Roman;\">\n",
       " <span style=\"background-color: rgba(255, 0, 0, 1);\">Number 1 Topic is 3</span> with  probability 0.16091472615331498, Title is: Welcoming Staff Experience</span>"
      ],
      "text/plain": [
       "<IPython.core.display.HTML object>"
      ]
     },
     "metadata": {},
     "output_type": "display_data"
    },
    {
     "data": {
      "text/html": [
       "<span style=\"font-size:16px; font-family:Times New Roman;\">\n",
       " <span style=\"background-color: rgba(0, 0, 255, 1);\">Number 2 Topic is 0</span> with  probability 0.1597195901767976, Title is: Hospitality Excellence</span>"
      ],
      "text/plain": [
       "<IPython.core.display.HTML object>"
      ]
     },
     "metadata": {},
     "output_type": "display_data"
    },
    {
     "name": "stdout",
     "output_type": "stream",
     "text": [
      "{3: {'staff': 0.15916074986066966, 'helpful': 0.09929452471483406, 'reception': 0.034909714760917455, 'nice': 0.026376524755245677, 'professional': 0.02166779689724275, 'made': 0.010670316270462216, 'happy': 0.008283059123909703, 'lady': 0.005109840768891027, 'care': 0.00469093855502899, 'touch': 0.0015903466677813724, 'expected': 0.0011699820957810766}, 0: {'staff': 0.04179384363660856, 'helpful': 0.02930849728275495, 'nice': 0.026978779987902997, 'reception': 0.006982262286465954, 'professional': 0.005445708543269296, 'made': 0.005412270766903251, 'happy': 0.0029446205290107716, 'expected': 0.0019278808538888785, 'touch': 0.0017113808816594154, 'care': 0.0016502897218624597, 'lady': 0.0005956955366281164}}\n"
     ]
    },
    {
     "data": {
      "text/html": [
       "<span style=\"font-size:20px; font-family:Times New Roman;\">Very</span> <span style=\"font-size:20px; font-family:Times New Roman;\"><span style=\"background-color:rgba(0, 0, 255, 0.5558525884128735)\">nice</span></span> <span style=\"font-size:20px; font-family:Times New Roman;\"><span style=\"background-color:rgba(255, 0, 0, 0.21933620438127893)\">reception</span></span> <span style=\"font-size:20px; font-family:Times New Roman;\"><span style=\"background-color:rgba(255, 0, 0, 1.0)\">staff</span></span> <span style=\"font-size:20px; font-family:Times New Roman;\">they</span> <span style=\"font-size:20px; font-family:Times New Roman;\">were</span> <span style=\"font-size:20px; font-family:Times New Roman;\"><span style=\"background-color:rgba(255, 0, 0, 0.6238631371224195)\">helpful</span></span> <span style=\"font-size:20px; font-family:Times New Roman;\">and</span> <span style=\"font-size:20px; font-family:Times New Roman;\">did</span> <span style=\"font-size:20px; font-family:Times New Roman;\">more</span> <span style=\"font-size:20px; font-family:Times New Roman;\">than</span> <span style=\"font-size:20px; font-family:Times New Roman;\">I</span> <span style=\"font-size:20px; font-family:Times New Roman;\"><span style=\"background-color:rgba(0, 0, 255, 0.03972075695291841)\">expected</span></span> <span style=\"font-size:20px; font-family:Times New Roman;\">The</span> <span style=\"font-size:20px; font-family:Times New Roman;\"><span style=\"background-color:rgba(255, 0, 0, 0.03210490509352472)\">lady</span></span> <span style=\"font-size:20px; font-family:Times New Roman;\">at</span> <span style=\"font-size:20px; font-family:Times New Roman;\">the</span> <span style=\"font-size:20px; font-family:Times New Roman;\"><span style=\"background-color:rgba(255, 0, 0, 0.21933620438127893)\">reception</span></span> <span style=\"font-size:20px; font-family:Times New Roman;\"><span style=\"background-color:rgba(255, 0, 0, 0.06704112841767257)\">made</span></span> <span style=\"font-size:20px; font-family:Times New Roman;\">us</span> <span style=\"font-size:20px; font-family:Times New Roman;\">very</span> <span style=\"font-size:20px; font-family:Times New Roman;\"><span style=\"background-color:rgba(255, 0, 0, 0.052042096629732804)\">happy</span></span> <span style=\"font-size:20px; font-family:Times New Roman;\">with</span> <span style=\"font-size:20px; font-family:Times New Roman;\">her</span> <span style=\"font-size:20px; font-family:Times New Roman;\"><span style=\"background-color:rgba(255, 0, 0, 0.029472960884737397)\">care</span></span> <span style=\"font-size:20px; font-family:Times New Roman;\">and</span> <span style=\"font-size:20px; font-family:Times New Roman;\"><span style=\"background-color:rgba(255, 0, 0, 0.13613781611490822)\">professional</span></span> <span style=\"font-size:20px; font-family:Times New Roman;\"><span style=\"background-color:rgba(0, 0, 255, 0.03526013753243229)\">touch</span></span>"
      ],
      "text/plain": [
       "<IPython.core.display.HTML object>"
      ]
     },
     "metadata": {},
     "output_type": "display_data"
    },
    {
     "name": "stdout",
     "output_type": "stream",
     "text": [
      "\n",
      " Would certainly stay again and recommend to friends \n"
     ]
    },
    {
     "data": {
      "text/html": [
       "<span style=\"font-size:16px; font-family:Times New Roman;\">\n",
       " <span style=\"background-color: rgba(255, 0, 0, 1);\">Number 1 Topic is 3</span> with  probability 0.17767833439747557, Title is: Welcoming Staff Experience</span>"
      ],
      "text/plain": [
       "<IPython.core.display.HTML object>"
      ]
     },
     "metadata": {},
     "output_type": "display_data"
    },
    {
     "data": {
      "text/html": [
       "<span style=\"font-size:16px; font-family:Times New Roman;\">\n",
       " <span style=\"background-color: rgba(0, 0, 255, 1);\">Number 2 Topic is 0</span> with  probability 0.09857974972723303, Title is: Hospitality Excellence</span>"
      ],
      "text/plain": [
       "<IPython.core.display.HTML object>"
      ]
     },
     "metadata": {},
     "output_type": "display_data"
    },
    {
     "name": "stdout",
     "output_type": "stream",
     "text": [
      "{3: {'stay': 0.012961400784425993, 'would': 0.007490799763918179, 'recommend': 0.003068411933905641, 'friends': 0.0014130095029472032, 'certainly': 0.0007412728803856091}, 0: {'stay': 0.016456744779990817, 'would': 0.01093678210925847, 'recommend': 0.008564394226338716, 'friends': 0.0021382697442474136, 'certainly': 0.0015953757269216156}}\n"
     ]
    },
    {
     "data": {
      "text/html": [
       "<span style=\"font-size:20px; font-family:Times New Roman;\"><span style=\"background-color:rgba(0, 0, 255, 0.22533408282601342)\">Would</span></span> <span style=\"font-size:20px; font-family:Times New Roman;\"><span style=\"background-color:rgba(0, 0, 255, 0.032870045557956244)\">certainly</span></span> <span style=\"font-size:20px; font-family:Times New Roman;\"><span style=\"background-color:rgba(0, 0, 255, 0.3390636710373707)\">stay</span></span> <span style=\"font-size:20px; font-family:Times New Roman;\">again</span> <span style=\"font-size:20px; font-family:Times New Roman;\">and</span> <span style=\"font-size:20px; font-family:Times New Roman;\"><span style=\"background-color:rgba(0, 0, 255, 0.1764550028219668)\">recommend</span></span> <span style=\"font-size:20px; font-family:Times New Roman;\">to</span> <span style=\"font-size:20px; font-family:Times New Roman;\"><span style=\"background-color:rgba(0, 0, 255, 0.04405546776384244)\">friends</span></span>"
      ],
      "text/plain": [
       "<IPython.core.display.HTML object>"
      ]
     },
     "metadata": {},
     "output_type": "display_data"
    },
    {
     "name": "stdout",
     "output_type": "stream",
     "text": [
      "\n",
      " The staff went the extra mile to help me check in earlier than 11 am and also with storage of our bags\n"
     ]
    },
    {
     "data": {
      "text/html": [
       "<span style=\"font-size:16px; font-family:Times New Roman;\">\n",
       " <span style=\"background-color: rgba(255, 0, 0, 1);\">Number 1 Topic is 3</span> with  probability 0.6901171737148795, Title is: Welcoming Staff Experience</span>"
      ],
      "text/plain": [
       "<IPython.core.display.HTML object>"
      ]
     },
     "metadata": {},
     "output_type": "display_data"
    },
    {
     "data": {
      "text/html": [
       "<span style=\"font-size:16px; font-family:Times New Roman;\">\n",
       " <span style=\"background-color: rgba(0, 0, 255, 1);\">Number 2 Topic is 0</span> with  probability 0.07077298939749703, Title is: Hospitality Excellence</span>"
      ],
      "text/plain": [
       "<IPython.core.display.HTML object>"
      ]
     },
     "metadata": {},
     "output_type": "display_data"
    },
    {
     "name": "stdout",
     "output_type": "stream",
     "text": [
      "{3: {'staff': 0.15916074986066966, 'help': 0.02150989528129011, 'check': 0.013543229300744652, 'extra': 0.007923180090906258, 'went': 0.0074450864035885515, 'also': 0.00412965627460899, 'mile': 0.003788884867531616, 'earlier': 0.001546780388980207, 'bags': 0.001001670255127972, 'storage': 0.00038829247589876976}, 0: {'staff': 0.04179384363660856, 'also': 0.009612448526327309, 'check': 0.0055180332459649605, 'help': 0.003846057983748432, 'extra': 0.003035836141504563, 'went': 0.002610955421425444, 'bags': 0.0010779029246147855, 'storage': 0.0008879178408496531, 'mile': 0.0006229116740980552, 'earlier': 0.00026007796360676344}}\n"
     ]
    },
    {
     "data": {
      "text/html": [
       "<span style=\"font-size:20px; font-family:Times New Roman;\">The</span> <span style=\"font-size:20px; font-family:Times New Roman;\"><span style=\"background-color:rgba(255, 0, 0, 1.0)\">staff</span></span> <span style=\"font-size:20px; font-family:Times New Roman;\"><span style=\"background-color:rgba(255, 0, 0, 0.04677715083716323)\">went</span></span> <span style=\"font-size:20px; font-family:Times New Roman;\">the</span> <span style=\"font-size:20px; font-family:Times New Roman;\"><span style=\"background-color:rgba(255, 0, 0, 0.0497809924735983)\">extra</span></span> <span style=\"font-size:20px; font-family:Times New Roman;\"><span style=\"background-color:rgba(255, 0, 0, 0.023805397190252185)\">mile</span></span> <span style=\"font-size:20px; font-family:Times New Roman;\">to</span> <span style=\"font-size:20px; font-family:Times New Roman;\"><span style=\"background-color:rgba(255, 0, 0, 0.13514572719794302)\">help</span></span> <span style=\"font-size:20px; font-family:Times New Roman;\">me</span> <span style=\"font-size:20px; font-family:Times New Roman;\"><span style=\"background-color:rgba(255, 0, 0, 0.08509151478992454)\">check</span></span> <span style=\"font-size:20px; font-family:Times New Roman;\">in</span> <span style=\"font-size:20px; font-family:Times New Roman;\"><span style=\"background-color:rgba(255, 0, 0, 0.00971835323931477)\">earlier</span></span> <span style=\"font-size:20px; font-family:Times New Roman;\">than</span> <span style=\"font-size:20px; font-family:Times New Roman;\">11</span> <span style=\"font-size:20px; font-family:Times New Roman;\">am</span> <span style=\"font-size:20px; font-family:Times New Roman;\">and</span> <span style=\"font-size:20px; font-family:Times New Roman;\"><span style=\"background-color:rgba(0, 0, 255, 0.1980484068123295)\">also</span></span> <span style=\"font-size:20px; font-family:Times New Roman;\">with</span> <span style=\"font-size:20px; font-family:Times New Roman;\"><span style=\"background-color:rgba(0, 0, 255, 0.01829406038210597)\">storage</span></span> <span style=\"font-size:20px; font-family:Times New Roman;\">of</span> <span style=\"font-size:20px; font-family:Times New Roman;\">our</span> <span style=\"font-size:20px; font-family:Times New Roman;\"><span style=\"background-color:rgba(0, 0, 255, 0.02220838492228299)\">bags</span></span>"
      ],
      "text/plain": [
       "<IPython.core.display.HTML object>"
      ]
     },
     "metadata": {},
     "output_type": "display_data"
    },
    {
     "name": "stdout",
     "output_type": "stream",
     "text": [
      "\n",
      " Good central location with friendly and helpful staff\n"
     ]
    },
    {
     "data": {
      "text/html": [
       "<span style=\"font-size:16px; font-family:Times New Roman;\">\n",
       " <span style=\"background-color: rgba(255, 0, 0, 1);\">Number 1 Topic is 3</span> with  probability 1.0, Title is: Welcoming Staff Experience</span>"
      ],
      "text/plain": [
       "<IPython.core.display.HTML object>"
      ]
     },
     "metadata": {},
     "output_type": "display_data"
    },
    {
     "data": {
      "text/html": [
       "<span style=\"font-size:16px; font-family:Times New Roman;\">\n",
       " <span style=\"background-color: rgba(0, 0, 255, 1);\">Number 2 Topic is 0</span> with  probability 4.593319651837079e-307, Title is: Hospitality Excellence</span>"
      ],
      "text/plain": [
       "<IPython.core.display.HTML object>"
      ]
     },
     "metadata": {},
     "output_type": "display_data"
    },
    {
     "name": "stdout",
     "output_type": "stream",
     "text": [
      "{3: {'staff': 0.15916074986066966, 'friendly': 0.10426203996947087, 'helpful': 0.09929452471483406, 'location': 0.07561668720424547, 'good': 0.03833112021835738, 'central': 0.00854470750501591}, 0: {'staff': 0.04179384363660856, 'location': 0.03583580936752398, 'friendly': 0.03084435664522748, 'helpful': 0.02930849728275495, 'good': 0.026974237738203566, 'central': 0.010406511528955734}}\n"
     ]
    },
    {
     "data": {
      "text/html": [
       "<span style=\"font-size:20px; font-family:Times New Roman;\"><span style=\"background-color:rgba(255, 0, 0, 0.2408327445800091)\">Good</span></span> <span style=\"font-size:20px; font-family:Times New Roman;\"><span style=\"background-color:rgba(0, 0, 255, 0.21440874540331914)\">central</span></span> <span style=\"font-size:20px; font-family:Times New Roman;\"><span style=\"background-color:rgba(255, 0, 0, 0.47509632412790714)\">location</span></span> <span style=\"font-size:20px; font-family:Times New Roman;\">with</span> <span style=\"font-size:20px; font-family:Times New Roman;\"><span style=\"background-color:rgba(255, 0, 0, 0.6550738172617465)\">friendly</span></span> <span style=\"font-size:20px; font-family:Times New Roman;\">and</span> <span style=\"font-size:20px; font-family:Times New Roman;\"><span style=\"background-color:rgba(255, 0, 0, 0.6238631371224195)\">helpful</span></span> <span style=\"font-size:20px; font-family:Times New Roman;\"><span style=\"background-color:rgba(255, 0, 0, 1.0)\">staff</span></span>"
      ],
      "text/plain": [
       "<IPython.core.display.HTML object>"
      ]
     },
     "metadata": {},
     "output_type": "display_data"
    },
    {
     "name": "stdout",
     "output_type": "stream",
     "text": [
      "\n",
      " Staff were friendly and prepared to put things right when they went wrong\n"
     ]
    },
    {
     "data": {
      "text/html": [
       "<span style=\"font-size:16px; font-family:Times New Roman;\">\n",
       " <span style=\"background-color: rgba(255, 0, 0, 1);\">Number 1 Topic is 3</span> with  probability 0.2476541996345817, Title is: Welcoming Staff Experience</span>"
      ],
      "text/plain": [
       "<IPython.core.display.HTML object>"
      ]
     },
     "metadata": {},
     "output_type": "display_data"
    },
    {
     "data": {
      "text/html": [
       "<span style=\"font-size:16px; font-family:Times New Roman;\">\n",
       " <span style=\"background-color: rgba(0, 0, 255, 1);\">Number 2 Topic is 0</span> with  probability 0.10319988771479165, Title is: Hospitality Excellence</span>"
      ],
      "text/plain": [
       "<IPython.core.display.HTML object>"
      ]
     },
     "metadata": {},
     "output_type": "display_data"
    },
    {
     "name": "stdout",
     "output_type": "stream",
     "text": [
      "{3: {'staff': 0.15916074986066966, 'friendly': 0.10426203996947087, 'went': 0.0074450864035885515, 'right': 0.003158516369187215, 'things': 0.0029365094068039897, 'put': 0.0008276829957069694, 'wrong': 0.0007046056201007352, 'prepared': 0.00040367348696850573}, 0: {'staff': 0.04179384363660856, 'friendly': 0.03084435664522748, 'right': 0.008889422940432067, 'went': 0.002610955421425444, 'things': 0.0019749963008962334, 'put': 0.0007422285570518481, 'prepared': 0.0005429941015584147, 'wrong': 0.00023694688157056135}}\n"
     ]
    },
    {
     "data": {
      "text/html": [
       "<span style=\"font-size:20px; font-family:Times New Roman;\"><span style=\"background-color:rgba(255, 0, 0, 1.0)\">Staff</span></span> <span style=\"font-size:20px; font-family:Times New Roman;\">were</span> <span style=\"font-size:20px; font-family:Times New Roman;\"><span style=\"background-color:rgba(255, 0, 0, 0.6550738172617465)\">friendly</span></span> <span style=\"font-size:20px; font-family:Times New Roman;\">and</span> <span style=\"font-size:20px; font-family:Times New Roman;\"><span style=\"background-color:rgba(0, 0, 255, 0.011187484273918337)\">prepared</span></span> <span style=\"font-size:20px; font-family:Times New Roman;\">to</span> <span style=\"font-size:20px; font-family:Times New Roman;\"><span style=\"background-color:rgba(255, 0, 0, 0.0052002959048102525)\">put</span></span> <span style=\"font-size:20px; font-family:Times New Roman;\"><span style=\"background-color:rgba(255, 0, 0, 0.018449959612370694)\">things</span></span> <span style=\"font-size:20px; font-family:Times New Roman;\"><span style=\"background-color:rgba(0, 0, 255, 0.18315167524815903)\">right</span></span> <span style=\"font-size:20px; font-family:Times New Roman;\">when</span> <span style=\"font-size:20px; font-family:Times New Roman;\">they</span> <span style=\"font-size:20px; font-family:Times New Roman;\"><span style=\"background-color:rgba(255, 0, 0, 0.04677715083716323)\">went</span></span> <span style=\"font-size:20px; font-family:Times New Roman;\"><span style=\"background-color:rgba(255, 0, 0, 0.004427006160234552)\">wrong</span></span>"
      ],
      "text/plain": [
       "<IPython.core.display.HTML object>"
      ]
     },
     "metadata": {},
     "output_type": "display_data"
    },
    {
     "name": "stdout",
     "output_type": "stream",
     "text": [
      "\n",
      " When I was looking it Appeared to offer good value for money\n"
     ]
    },
    {
     "data": {
      "text/html": [
       "<span style=\"font-size:16px; font-family:Times New Roman;\">\n",
       " <span style=\"background-color: rgba(255, 0, 0, 1);\">Number 1 Topic is 16</span> with  probability 0.29707992777406034, Title is: Price and Value</span>"
      ],
      "text/plain": [
       "<IPython.core.display.HTML object>"
      ]
     },
     "metadata": {},
     "output_type": "display_data"
    },
    {
     "data": {
      "text/html": [
       "<span style=\"font-size:16px; font-family:Times New Roman;\">\n",
       " <span style=\"background-color: rgba(0, 0, 255, 1);\">Number 2 Topic is 0</span> with  probability 0.07859704957404838, Title is: Hospitality Excellence</span>"
      ],
      "text/plain": [
       "<IPython.core.display.HTML object>"
      ]
     },
     "metadata": {},
     "output_type": "display_data"
    },
    {
     "name": "stdout",
     "output_type": "stream",
     "text": [
      "{16: {'value': 0.12206049520235508, 'money': 0.11197597950182107, 'good': 0.043361070546965357, 'offer': 0.0182953302426216, 'looking': 0.008697093481357296, 'appeared': 0.006110874012120637}, 0: {'good': 0.026974237738203566, 'value': 0.0060475614120410245, 'money': 0.004977667562971913, 'looking': 0.002530986865932132, 'offer': 0.0016316158591878575, 'appeared': 0.00040156460828301904}}\n"
     ]
    },
    {
     "data": {
      "text/html": [
       "<span style=\"font-size:20px; font-family:Times New Roman;\">When</span> <span style=\"font-size:20px; font-family:Times New Roman;\">I</span> <span style=\"font-size:20px; font-family:Times New Roman;\">was</span> <span style=\"font-size:20px; font-family:Times New Roman;\"><span style=\"background-color:rgba(255, 0, 0, 0.03636754991410644)\">looking</span></span> <span style=\"font-size:20px; font-family:Times New Roman;\">it</span> <span style=\"font-size:20px; font-family:Times New Roman;\"><span style=\"background-color:rgba(255, 0, 0, 0.025553078868358912)\">Appeared</span></span> <span style=\"font-size:20px; font-family:Times New Roman;\">to</span> <span style=\"font-size:20px; font-family:Times New Roman;\"><span style=\"background-color:rgba(255, 0, 0, 0.07650329816735102)\">offer</span></span> <span style=\"font-size:20px; font-family:Times New Roman;\"><span style=\"background-color:rgba(255, 0, 0, 0.1813175747536925)\">good</span></span> <span style=\"font-size:20px; font-family:Times New Roman;\"><span style=\"background-color:rgba(255, 0, 0, 0.5104051326259205)\">value</span></span> <span style=\"font-size:20px; font-family:Times New Roman;\">for</span> <span style=\"font-size:20px; font-family:Times New Roman;\"><span style=\"background-color:rgba(255, 0, 0, 0.46823597244787846)\">money</span></span>"
      ],
      "text/plain": [
       "<IPython.core.display.HTML object>"
      ]
     },
     "metadata": {},
     "output_type": "display_data"
    },
    {
     "name": "stdout",
     "output_type": "stream",
     "text": [
      "\n",
      " Reasonably priced However I was there in January which i assume is off peak \n"
     ]
    },
    {
     "data": {
      "text/html": [
       "<span style=\"font-size:16px; font-family:Times New Roman;\">\n",
       " <span style=\"background-color: rgba(255, 0, 0, 1);\">Number 1 Topic is 16</span> with  probability 1.0, Title is: Price and Value</span>"
      ],
      "text/plain": [
       "<IPython.core.display.HTML object>"
      ]
     },
     "metadata": {},
     "output_type": "display_data"
    },
    {
     "data": {
      "text/html": [
       "<span style=\"font-size:16px; font-family:Times New Roman;\">\n",
       " <span style=\"background-color: rgba(0, 0, 255, 1);\">Number 2 Topic is 0</span> with  probability 3.844508932513621e-307, Title is: Hospitality Excellence</span>"
      ],
      "text/plain": [
       "<IPython.core.display.HTML object>"
      ]
     },
     "metadata": {},
     "output_type": "display_data"
    },
    {
     "name": "stdout",
     "output_type": "stream",
     "text": [
      "{16: {'priced': 0.019734602853449367, 'january': 0.007945715127428058, 'however': 0.007682849327248654, 'peak': 0.007348981297994839, 'assume': 0.00727755384131055, 'reasonably': 0.005611263490054225}, 0: {'however': 0.0019833943392913002, 'reasonably': 0.0014222583303130244, 'priced': 0.0010189318551092966}}\n"
     ]
    },
    {
     "data": {
      "text/html": [
       "<span style=\"font-size:20px; font-family:Times New Roman;\"><span style=\"background-color:rgba(255, 0, 0, 0.0234639199283279)\">Reasonably</span></span> <span style=\"font-size:20px; font-family:Times New Roman;\"><span style=\"background-color:rgba(255, 0, 0, 0.08252172474014628)\">priced</span></span> <span style=\"font-size:20px; font-family:Times New Roman;\"><span style=\"background-color:rgba(255, 0, 0, 0.0321264117708057)\">However</span></span> <span style=\"font-size:20px; font-family:Times New Roman;\">I</span> <span style=\"font-size:20px; font-family:Times New Roman;\">was</span> <span style=\"font-size:20px; font-family:Times New Roman;\">there</span> <span style=\"font-size:20px; font-family:Times New Roman;\">in</span> <span style=\"font-size:20px; font-family:Times New Roman;\"><span style=\"background-color:rgba(255, 0, 0, 0.03322560486666329)\">January</span></span> <span style=\"font-size:20px; font-family:Times New Roman;\">which</span> <span style=\"font-size:20px; font-family:Times New Roman;\">i</span> <span style=\"font-size:20px; font-family:Times New Roman;\"><span style=\"background-color:rgba(255, 0, 0, 0.03043163824141784)\">assume</span></span> <span style=\"font-size:20px; font-family:Times New Roman;\">is</span> <span style=\"font-size:20px; font-family:Times New Roman;\">off</span> <span style=\"font-size:20px; font-family:Times New Roman;\"><span style=\"background-color:rgba(255, 0, 0, 0.03073031751878467)\">peak</span></span>"
      ],
      "text/plain": [
       "<IPython.core.display.HTML object>"
      ]
     },
     "metadata": {},
     "output_type": "display_data"
    },
    {
     "name": "stdout",
     "output_type": "stream",
     "text": [
      "\n",
      " pool on roof location near subway and Primark breakfast \n"
     ]
    },
    {
     "data": {
      "text/html": [
       "<span style=\"font-size:16px; font-family:Times New Roman;\">\n",
       " <span style=\"background-color: rgba(255, 0, 0, 1);\">Number 1 Topic is 1</span> with  probability 0.3450862275807259, Title is: Bathroom and spa</span>"
      ],
      "text/plain": [
       "<IPython.core.display.HTML object>"
      ]
     },
     "metadata": {},
     "output_type": "display_data"
    },
    {
     "data": {
      "text/html": [
       "<span style=\"font-size:16px; font-family:Times New Roman;\">\n",
       " <span style=\"background-color: rgba(0, 0, 255, 1);\">Number 2 Topic is 0</span> with  probability 0.11392210301655076, Title is: Hospitality Excellence</span>"
      ],
      "text/plain": [
       "<IPython.core.display.HTML object>"
      ]
     },
     "metadata": {},
     "output_type": "display_data"
    },
    {
     "name": "stdout",
     "output_type": "stream",
     "text": [
      "{1: {'pool': 0.06328364299821589, 'roof': 0.0064263036439658906, 'breakfast': 0.006261741129187845, 'location': 0.0060148294575348765, 'near': 0.002504021180967867, 'subway': 0.0005460823469011587, 'primark': 0.0002462094887393481}, 0: {'location': 0.03583580936752398, 'breakfast': 0.011407779818943154, 'near': 0.009481558052123164, 'subway': 0.0039226598045285195, 'pool': 0.0014729823240611302, 'roof': 0.001445140228992601}}\n"
     ]
    },
    {
     "data": {
      "text/html": [
       "<span style=\"font-size:20px; font-family:Times New Roman;\"><span style=\"background-color:rgba(255, 0, 0, 0.7881744456392635)\">pool</span></span> <span style=\"font-size:20px; font-family:Times New Roman;\">on</span> <span style=\"font-size:20px; font-family:Times New Roman;\"><span style=\"background-color:rgba(255, 0, 0, 0.08003724299239838)\">roof</span></span> <span style=\"font-size:20px; font-family:Times New Roman;\"><span style=\"background-color:rgba(0, 0, 255, 0.7383368485802608)\">location</span></span> <span style=\"font-size:20px; font-family:Times New Roman;\"><span style=\"background-color:rgba(0, 0, 255, 0.19535162775421103)\">near</span></span> <span style=\"font-size:20px; font-family:Times New Roman;\"><span style=\"background-color:rgba(0, 0, 255, 0.0808198371752908)\">subway</span></span> <span style=\"font-size:20px; font-family:Times New Roman;\">and</span> <span style=\"font-size:20px; font-family:Times New Roman;\"><span style=\"background-color:rgba(255, 0, 0, 0.003066448423390118)\">Primark</span></span> <span style=\"font-size:20px; font-family:Times New Roman;\"><span style=\"background-color:rgba(0, 0, 255, 0.23503820199604847)\">breakfast</span></span>"
      ],
      "text/plain": [
       "<IPython.core.display.HTML object>"
      ]
     },
     "metadata": {},
     "output_type": "display_data"
    },
    {
     "name": "stdout",
     "output_type": "stream",
     "text": [
      "\n",
      " The position the pool the bars provision of robes\n"
     ]
    },
    {
     "data": {
      "text/html": [
       "<span style=\"font-size:16px; font-family:Times New Roman;\">\n",
       " <span style=\"background-color: rgba(255, 0, 0, 1);\">Number 1 Topic is 1</span> with  probability 0.6009530022798137, Title is: Bathroom and spa</span>"
      ],
      "text/plain": [
       "<IPython.core.display.HTML object>"
      ]
     },
     "metadata": {},
     "output_type": "display_data"
    },
    {
     "data": {
      "text/html": [
       "<span style=\"font-size:16px; font-family:Times New Roman;\">\n",
       " <span style=\"background-color: rgba(0, 0, 255, 1);\">Number 2 Topic is 0</span> with  probability 0.09643560370089124, Title is: Hospitality Excellence</span>"
      ],
      "text/plain": [
       "<IPython.core.display.HTML object>"
      ]
     },
     "metadata": {},
     "output_type": "display_data"
    },
    {
     "name": "stdout",
     "output_type": "stream",
     "text": [
      "{1: {'pool': 0.06328364299821589, 'bars': 0.0018123349367214308, 'robes': 0.0010734859114763658, 'position': 0.0007825518807398329, 'provision': 0.0002135948400911344}, 0: {'bars': 0.0029410566337439094, 'position': 0.0026581272771320713, 'pool': 0.0014729823240611302, 'robes': 0.0007770921090438254, 'provision': 7.136328034439413e-05}}\n"
     ]
    },
    {
     "data": {
      "text/html": [
       "<span style=\"font-size:20px; font-family:Times New Roman;\">The</span> <span style=\"font-size:20px; font-family:Times New Roman;\"><span style=\"background-color:rgba(0, 0, 255, 0.054766261780081725)\">position</span></span> <span style=\"font-size:20px; font-family:Times New Roman;\">the</span> <span style=\"font-size:20px; font-family:Times New Roman;\"><span style=\"background-color:rgba(255, 0, 0, 0.7881744456392635)\">pool</span></span> <span style=\"font-size:20px; font-family:Times New Roman;\">the</span> <span style=\"font-size:20px; font-family:Times New Roman;\"><span style=\"background-color:rgba(0, 0, 255, 0.06059554743648264)\">bars</span></span> <span style=\"font-size:20px; font-family:Times New Roman;\"><span style=\"background-color:rgba(255, 0, 0, 0.00266024499703633)\">provision</span></span> <span style=\"font-size:20px; font-family:Times New Roman;\">of</span> <span style=\"font-size:20px; font-family:Times New Roman;\"><span style=\"background-color:rgba(255, 0, 0, 0.013369871314192476)\">robes</span></span>"
      ],
      "text/plain": [
       "<IPython.core.display.HTML object>"
      ]
     },
     "metadata": {},
     "output_type": "display_data"
    },
    {
     "name": "stdout",
     "output_type": "stream",
     "text": [
      "\n",
      " I liked how it looked in general nothing was really wrong just it felt like i was in a block i could hear everyone in the hall\n"
     ]
    },
    {
     "data": {
      "text/html": [
       "<span style=\"font-size:16px; font-family:Times New Roman;\">\n",
       " <span style=\"background-color: rgba(255, 0, 0, 1);\">Number 1 Topic is 7</span> with  probability 0.27908887373992985, Title is: Perfect Everything Thought</span>"
      ],
      "text/plain": [
       "<IPython.core.display.HTML object>"
      ]
     },
     "metadata": {},
     "output_type": "display_data"
    },
    {
     "data": {
      "text/html": [
       "<span style=\"font-size:16px; font-family:Times New Roman;\">\n",
       " <span style=\"background-color: rgba(0, 0, 255, 1);\">Number 2 Topic is 0</span> with  probability 0.0843710198459596, Title is: Hospitality Excellence</span>"
      ],
      "text/plain": [
       "<IPython.core.display.HTML object>"
      ]
     },
     "metadata": {},
     "output_type": "display_data"
    },
    {
     "name": "stdout",
     "output_type": "stream",
     "text": [
      "{7: {'nothing': 0.3231399063269309, 'like': 0.047535924963401414, 'liked': 0.04238008617930168, 'really': 0.031351044803127795, 'could': 0.02863837660915288, 'everyone': 0.009529455507608827, 'general': 0.008477857037001603, 'wrong': 0.006284354687321022, 'hear': 0.0032220241158851426, 'looked': 0.0032013864224801516, 'felt': 0.0029233551240604888, 'block': 0.0014160007166362661, 'hall': 0.0012518783473825516}, 0: {'really': 0.01449127363326545, 'like': 0.007556751346144966, 'could': 0.0055339161517924135, 'liked': 0.004481093677683882, 'nothing': 0.003744546367588792, 'felt': 0.0026820908845787395, 'general': 0.002237558701070762, 'looked': 0.0021727057447457295, 'everyone': 0.001347378655768482, 'block': 0.001334731133116835, 'hall': 0.0010384249578659593, 'hear': 0.0005264306816777593, 'wrong': 0.00023694688157056135}}\n"
     ]
    },
    {
     "data": {
      "text/html": [
       "<span style=\"font-size:20px; font-family:Times New Roman;\">I</span> <span style=\"font-size:20px; font-family:Times New Roman;\"><span style=\"background-color:rgba(255, 0, 0, 0.13115088959772242)\">liked</span></span> <span style=\"font-size:20px; font-family:Times New Roman;\">how</span> <span style=\"font-size:20px; font-family:Times New Roman;\">it</span> <span style=\"font-size:20px; font-family:Times New Roman;\"><span style=\"background-color:rgba(255, 0, 0, 0.009907121837317139)\">looked</span></span> <span style=\"font-size:20px; font-family:Times New Roman;\">in</span> <span style=\"font-size:20px; font-family:Times New Roman;\"><span style=\"background-color:rgba(255, 0, 0, 0.026235871432184813)\">general</span></span> <span style=\"font-size:20px; font-family:Times New Roman;\"><span style=\"background-color:rgba(255, 0, 0, 1.0)\">nothing</span></span> <span style=\"font-size:20px; font-family:Times New Roman;\">was</span> <span style=\"font-size:20px; font-family:Times New Roman;\"><span style=\"background-color:rgba(255, 0, 0, 0.09702003432348881)\">really</span></span> <span style=\"font-size:20px; font-family:Times New Roman;\"><span style=\"background-color:rgba(255, 0, 0, 0.019447782722827617)\">wrong</span></span> <span style=\"font-size:20px; font-family:Times New Roman;\">just</span> <span style=\"font-size:20px; font-family:Times New Roman;\">it</span> <span style=\"font-size:20px; font-family:Times New Roman;\"><span style=\"background-color:rgba(255, 0, 0, 0.009046716505211948)\">felt</span></span> <span style=\"font-size:20px; font-family:Times New Roman;\"><span style=\"background-color:rgba(255, 0, 0, 0.1471063277319509)\">like</span></span> <span style=\"font-size:20px; font-family:Times New Roman;\">i</span> <span style=\"font-size:20px; font-family:Times New Roman;\">was</span> <span style=\"font-size:20px; font-family:Times New Roman;\">in</span> <span style=\"font-size:20px; font-family:Times New Roman;\">a</span> <span style=\"font-size:20px; font-family:Times New Roman;\"><span style=\"background-color:rgba(255, 0, 0, 0.004382005097209049)\">block</span></span> <span style=\"font-size:20px; font-family:Times New Roman;\">i</span> <span style=\"font-size:20px; font-family:Times New Roman;\"><span style=\"background-color:rgba(255, 0, 0, 0.08862531692442382)\">could</span></span> <span style=\"font-size:20px; font-family:Times New Roman;\"><span style=\"background-color:rgba(255, 0, 0, 0.009970987961559036)\">hear</span></span> <span style=\"font-size:20px; font-family:Times New Roman;\"><span style=\"background-color:rgba(255, 0, 0, 0.02949018465694415)\">everyone</span></span> <span style=\"font-size:20px; font-family:Times New Roman;\">in</span> <span style=\"font-size:20px; font-family:Times New Roman;\">the</span> <span style=\"font-size:20px; font-family:Times New Roman;\"><span style=\"background-color:rgba(255, 0, 0, 0.0038741063015472516)\">hall</span></span>"
      ],
      "text/plain": [
       "<IPython.core.display.HTML object>"
      ]
     },
     "metadata": {},
     "output_type": "display_data"
    },
    {
     "name": "stdout",
     "output_type": "stream",
     "text": [
      "\n",
      " Tv dint have the children s channel after 5pm not enough channels kids movie channels Missed having bathrobes and slippers Dint have a good view as we were facing the station as well and had to keep the curtains closed during our stay which was a shame \n"
     ]
    },
    {
     "data": {
      "text/html": [
       "<span style=\"font-size:16px; font-family:Times New Roman;\">\n",
       " <span style=\"background-color: rgba(255, 0, 0, 1);\">Number 1 Topic is 0</span> with  probability 0.1665757345604944, Title is: Hospitality Excellence</span>"
      ],
      "text/plain": [
       "<IPython.core.display.HTML object>"
      ]
     },
     "metadata": {},
     "output_type": "display_data"
    },
    {
     "data": {
      "text/html": [
       "<span style=\"font-size:16px; font-family:Times New Roman;\">\n",
       " <span style=\"background-color: rgba(0, 0, 255, 1);\">Number 2 Topic is 2</span> with  probability 0.09261833818678404, Title is: Hotel Amenities Excellence</span>"
      ],
      "text/plain": [
       "<IPython.core.display.HTML object>"
      ]
     },
     "metadata": {},
     "output_type": "display_data"
    },
    {
     "name": "stdout",
     "output_type": "stream",
     "text": [
      "{0: {'good': 0.026974237738203566, 'station': 0.022796498986596227, 'stay': 0.016456744779990817, 'well': 0.0154182859066096, 'view': 0.011865545376186169, 'enough': 0.004712334018505235, 'facing': 0.0013798681261678596, 'kids': 0.001092893424837567, 'slippers': 0.0009873616100298497, 'keep': 0.0008461860956068774, 'channels': 0.0007419440234740028, 'children': 0.0007335867066228419, 'curtains': 0.0006755580464378713, 'closed': 0.0005001863365302284, 'missed': 0.00033096105082495075, 'shame': 0.00020113162566884433, 'channel': 0.0001881565131691006, 'bathrobes': 0.00012058613735699065}, 2: {'good': 0.05274792941197384, 'well': 0.012384068586298477, 'stay': 0.008709643986363133, 'closed': 0.005356706043754011, 'view': 0.00493318006460417, 'enough': 0.004859092939785833, 'kids': 0.0015266420565907433, 'shame': 0.0010096890237361342, 'children': 0.0009820361078442547, 'curtains': 0.0007751609477387734, 'facing': 0.0007643580337688459, 'station': 0.000588125197964443, 'channels': 0.0005586884217515432, 'missed': 0.0004430501524440508, 'dint': 0.0003117902786044847, 'slippers': 0.00019826383380343803, 'keep': 0.00017885848264917074}}\n"
     ]
    },
    {
     "data": {
      "text/html": [
       "<span style=\"font-size:20px; font-family:Times New Roman;\">Tv</span> <span style=\"font-size:20px; font-family:Times New Roman;\"><span style=\"background-color:rgba(0, 0, 255, 0.0027053758782901107)\">dint</span></span> <span style=\"font-size:20px; font-family:Times New Roman;\">have</span> <span style=\"font-size:20px; font-family:Times New Roman;\">the</span> <span style=\"font-size:20px; font-family:Times New Roman;\"><span style=\"background-color:rgba(0, 0, 255, 0.008521037954303742)\">children</span></span> <span style=\"font-size:20px; font-family:Times New Roman;\">s</span> <span style=\"font-size:20px; font-family:Times New Roman;\"><span style=\"background-color:rgba(255, 0, 0, 0.003876649904802268)\">channel</span></span> <span style=\"font-size:20px; font-family:Times New Roman;\">after</span> <span style=\"font-size:20px; font-family:Times New Roman;\">5pm</span> <span style=\"font-size:20px; font-family:Times New Roman;\">not</span> <span style=\"font-size:20px; font-family:Times New Roman;\"><span style=\"background-color:rgba(0, 0, 255, 0.04216190731957379)\">enough</span></span> <span style=\"font-size:20px; font-family:Times New Roman;\"><span style=\"background-color:rgba(255, 0, 0, 0.015286514293470917)\">channels</span></span> <span style=\"font-size:20px; font-family:Times New Roman;\"><span style=\"background-color:rgba(0, 0, 255, 0.013246534218993434)\">kids</span></span> <span style=\"font-size:20px; font-family:Times New Roman;\">movie</span> <span style=\"font-size:20px; font-family:Times New Roman;\"><span style=\"background-color:rgba(255, 0, 0, 0.015286514293470917)\">channels</span></span> <span style=\"font-size:20px; font-family:Times New Roman;\"><span style=\"background-color:rgba(0, 0, 255, 0.0038443058605280417)\">Missed</span></span> <span style=\"font-size:20px; font-family:Times New Roman;\">having</span> <span style=\"font-size:20px; font-family:Times New Roman;\"><span style=\"background-color:rgba(255, 0, 0, 0.002484475450952499)\">bathrobes</span></span> <span style=\"font-size:20px; font-family:Times New Roman;\">and</span> <span style=\"font-size:20px; font-family:Times New Roman;\"><span style=\"background-color:rgba(255, 0, 0, 0.02034293273753234)\">slippers</span></span> <span style=\"font-size:20px; font-family:Times New Roman;\"><span style=\"background-color:rgba(0, 0, 255, 0.0027053758782901107)\">Dint</span></span> <span style=\"font-size:20px; font-family:Times New Roman;\">have</span> <span style=\"font-size:20px; font-family:Times New Roman;\">a</span> <span style=\"font-size:20px; font-family:Times New Roman;\"><span style=\"background-color:rgba(0, 0, 255, 0.45768898408127245)\">good</span></span> <span style=\"font-size:20px; font-family:Times New Roman;\"><span style=\"background-color:rgba(255, 0, 0, 0.24446969482092357)\">view</span></span> <span style=\"font-size:20px; font-family:Times New Roman;\">as</span> <span style=\"font-size:20px; font-family:Times New Roman;\">we</span> <span style=\"font-size:20px; font-family:Times New Roman;\">were</span> <span style=\"font-size:20px; font-family:Times New Roman;\"><span style=\"background-color:rgba(255, 0, 0, 0.028429872290101427)\">facing</span></span> <span style=\"font-size:20px; font-family:Times New Roman;\">the</span> <span style=\"font-size:20px; font-family:Times New Roman;\"><span style=\"background-color:rgba(255, 0, 0, 0.46968369118739717)\">station</span></span> <span style=\"font-size:20px; font-family:Times New Roman;\">as</span> <span style=\"font-size:20px; font-family:Times New Roman;\"><span style=\"background-color:rgba(255, 0, 0, 0.3176679647456818)\">well</span></span> <span style=\"font-size:20px; font-family:Times New Roman;\">and</span> <span style=\"font-size:20px; font-family:Times New Roman;\">had</span> <span style=\"font-size:20px; font-family:Times New Roman;\">to</span> <span style=\"font-size:20px; font-family:Times New Roman;\"><span style=\"background-color:rgba(255, 0, 0, 0.017434247646964326)\">keep</span></span> <span style=\"font-size:20px; font-family:Times New Roman;\">the</span> <span style=\"font-size:20px; font-family:Times New Roman;\"><span style=\"background-color:rgba(0, 0, 255, 0.006726001013217012)\">curtains</span></span> <span style=\"font-size:20px; font-family:Times New Roman;\"><span style=\"background-color:rgba(0, 0, 255, 0.046479650945905095)\">closed</span></span> <span style=\"font-size:20px; font-family:Times New Roman;\">during</span> <span style=\"font-size:20px; font-family:Times New Roman;\">our</span> <span style=\"font-size:20px; font-family:Times New Roman;\"><span style=\"background-color:rgba(255, 0, 0, 0.3390636710373707)\">stay</span></span> <span style=\"font-size:20px; font-family:Times New Roman;\">which</span> <span style=\"font-size:20px; font-family:Times New Roman;\">was</span> <span style=\"font-size:20px; font-family:Times New Roman;\">a</span> <span style=\"font-size:20px; font-family:Times New Roman;\"><span style=\"background-color:rgba(0, 0, 255, 0.00876097978941521)\">shame</span></span>"
      ],
      "text/plain": [
       "<IPython.core.display.HTML object>"
      ]
     },
     "metadata": {},
     "output_type": "display_data"
    },
    {
     "name": "stdout",
     "output_type": "stream",
     "text": [
      "\n",
      " The room was poorly furnished for two people Inadequate hanging space and not enough drawer space One morning we had no hot water in the shower and had to call for assistance to get hot water in the bath and taps There was no decafinated coffee in the breakfast room\n"
     ]
    },
    {
     "data": {
      "text/html": [
       "<span style=\"font-size:16px; font-family:Times New Roman;\">\n",
       " <span style=\"background-color: rgba(255, 0, 0, 1);\">Number 1 Topic is 0</span> with  probability 0.20527140925438367, Title is: Hospitality Excellence</span>"
      ],
      "text/plain": [
       "<IPython.core.display.HTML object>"
      ]
     },
     "metadata": {},
     "output_type": "display_data"
    },
    {
     "data": {
      "text/html": [
       "<span style=\"font-size:16px; font-family:Times New Roman;\">\n",
       " <span style=\"background-color: rgba(0, 0, 255, 1);\">Number 2 Topic is 2</span> with  probability 0.11459396359208177, Title is: Hotel Amenities Excellence</span>"
      ],
      "text/plain": [
       "<IPython.core.display.HTML object>"
      ]
     },
     "metadata": {},
     "output_type": "display_data"
    },
    {
     "name": "stdout",
     "output_type": "stream",
     "text": [
      "{0: {'room': 0.02927797724444089, 'breakfast': 0.011407779818943154, 'shower': 0.008537696382555497, 'get': 0.007358044681552877, 'one': 0.0066631768966275585, 'enough': 0.004712334018505235, 'coffee': 0.003977247101569772, 'space': 0.003333854822793243, 'bath': 0.003320915891684631, 'two': 0.003159590894096046, 'people': 0.0030879073013128523, 'water': 0.0026863871952321526, 'hot': 0.0022631969401755428, 'furnished': 0.0017721611052830045, 'morning': 0.0017239697711566822, 'assistance': 0.00047242192872780093, 'call': 0.000441748472851137, 'hanging': 0.00022581155935650848, 'drawer': 6.465054164258324e-05, 'inadequate': 6.204864706206486e-05}, 2: {'breakfast': 0.11524841376258102, 'room': 0.02884931166699843, 'coffee': 0.0049844058388023695, 'enough': 0.004859092939785833, 'one': 0.004857039323668865, 'hot': 0.004667361961255957, 'morning': 0.004572135360503713, 'get': 0.004427374280474093, 'space': 0.003946193421529448, 'people': 0.0033939954463629487, 'two': 0.0019521570572927848, 'water': 0.0018762816114196094, 'furnished': 0.0012559512779784117, 'call': 0.0005322229155838819, 'shower': 0.00048704075665463955, 'assistance': 0.00023715774902256112, 'bath': 0.00013749389035829589}}\n"
     ]
    },
    {
     "data": {
      "text/html": [
       "<span style=\"font-size:20px; font-family:Times New Roman;\">The</span> <span style=\"font-size:20px; font-family:Times New Roman;\"><span style=\"background-color:rgba(255, 0, 0, 0.6032236981106217)\">room</span></span> <span style=\"font-size:20px; font-family:Times New Roman;\">was</span> <span style=\"font-size:20px; font-family:Times New Roman;\">poorly</span> <span style=\"font-size:20px; font-family:Times New Roman;\"><span style=\"background-color:rgba(255, 0, 0, 0.036512412269860524)\">furnished</span></span> <span style=\"font-size:20px; font-family:Times New Roman;\">for</span> <span style=\"font-size:20px; font-family:Times New Roman;\"><span style=\"background-color:rgba(255, 0, 0, 0.06509807995752678)\">two</span></span> <span style=\"font-size:20px; font-family:Times New Roman;\"><span style=\"background-color:rgba(0, 0, 255, 0.02944938967537369)\">people</span></span> <span style=\"font-size:20px; font-family:Times New Roman;\"><span style=\"background-color:rgba(255, 0, 0, 0.001278408478531294)\">Inadequate</span></span> <span style=\"font-size:20px; font-family:Times New Roman;\"><span style=\"background-color:rgba(255, 0, 0, 0.00465246908192822)\">hanging</span></span> <span style=\"font-size:20px; font-family:Times New Roman;\"><span style=\"background-color:rgba(0, 0, 255, 0.03424076126252683)\">space</span></span> <span style=\"font-size:20px; font-family:Times New Roman;\">and</span> <span style=\"font-size:20px; font-family:Times New Roman;\">not</span> <span style=\"font-size:20px; font-family:Times New Roman;\"><span style=\"background-color:rgba(0, 0, 255, 0.04216190731957379)\">enough</span></span> <span style=\"font-size:20px; font-family:Times New Roman;\"><span style=\"background-color:rgba(255, 0, 0, 0.0013320161597536126)\">drawer</span></span> <span style=\"font-size:20px; font-family:Times New Roman;\"><span style=\"background-color:rgba(0, 0, 255, 0.03424076126252683)\">space</span></span> <span style=\"font-size:20px; font-family:Times New Roman;\"><span style=\"background-color:rgba(255, 0, 0, 0.13728360313935642)\">One</span></span> <span style=\"font-size:20px; font-family:Times New Roman;\"><span style=\"background-color:rgba(0, 0, 255, 0.039672002513827215)\">morning</span></span> <span style=\"font-size:20px; font-family:Times New Roman;\">we</span> <span style=\"font-size:20px; font-family:Times New Roman;\">had</span> <span style=\"font-size:20px; font-family:Times New Roman;\">no</span> <span style=\"font-size:20px; font-family:Times New Roman;\"><span style=\"background-color:rgba(0, 0, 255, 0.040498275064080415)\">hot</span></span> <span style=\"font-size:20px; font-family:Times New Roman;\"><span style=\"background-color:rgba(255, 0, 0, 0.05534851007415986)\">water</span></span> <span style=\"font-size:20px; font-family:Times New Roman;\">in</span> <span style=\"font-size:20px; font-family:Times New Roman;\">the</span> <span style=\"font-size:20px; font-family:Times New Roman;\"><span style=\"background-color:rgba(255, 0, 0, 0.17590493845365218)\">shower</span></span> <span style=\"font-size:20px; font-family:Times New Roman;\">and</span> <span style=\"font-size:20px; font-family:Times New Roman;\">had</span> <span style=\"font-size:20px; font-family:Times New Roman;\">to</span> <span style=\"font-size:20px; font-family:Times New Roman;\"><span style=\"background-color:rgba(0, 0, 255, 0.004618049812644663)\">call</span></span> <span style=\"font-size:20px; font-family:Times New Roman;\">for</span> <span style=\"font-size:20px; font-family:Times New Roman;\"><span style=\"background-color:rgba(255, 0, 0, 0.009733462818707737)\">assistance</span></span> <span style=\"font-size:20px; font-family:Times New Roman;\">to</span> <span style=\"font-size:20px; font-family:Times New Roman;\"><span style=\"background-color:rgba(255, 0, 0, 0.15160019036193084)\">get</span></span> <span style=\"font-size:20px; font-family:Times New Roman;\"><span style=\"background-color:rgba(0, 0, 255, 0.040498275064080415)\">hot</span></span> <span style=\"font-size:20px; font-family:Times New Roman;\"><span style=\"background-color:rgba(255, 0, 0, 0.05534851007415986)\">water</span></span> <span style=\"font-size:20px; font-family:Times New Roman;\">in</span> <span style=\"font-size:20px; font-family:Times New Roman;\">the</span> <span style=\"font-size:20px; font-family:Times New Roman;\"><span style=\"background-color:rgba(255, 0, 0, 0.06842191141045104)\">bath</span></span> <span style=\"font-size:20px; font-family:Times New Roman;\">and</span> <span style=\"font-size:20px; font-family:Times New Roman;\">taps</span> <span style=\"font-size:20px; font-family:Times New Roman;\">There</span> <span style=\"font-size:20px; font-family:Times New Roman;\">was</span> <span style=\"font-size:20px; font-family:Times New Roman;\">no</span> <span style=\"font-size:20px; font-family:Times New Roman;\">decafinated</span> <span style=\"font-size:20px; font-family:Times New Roman;\"><span style=\"background-color:rgba(0, 0, 255, 0.04324923594237539)\">coffee</span></span> <span style=\"font-size:20px; font-family:Times New Roman;\">in</span> <span style=\"font-size:20px; font-family:Times New Roman;\">the</span> <span style=\"font-size:20px; font-family:Times New Roman;\"><span style=\"background-color:rgba(0, 0, 255, 1.0)\">breakfast</span></span> <span style=\"font-size:20px; font-family:Times New Roman;\"><span style=\"background-color:rgba(255, 0, 0, 0.6032236981106217)\">room</span></span>"
      ],
      "text/plain": [
       "<IPython.core.display.HTML object>"
      ]
     },
     "metadata": {},
     "output_type": "display_data"
    },
    {
     "name": "stdout",
     "output_type": "stream",
     "text": [
      "\n",
      " bathroom and size of bedroom service at breakfast a little bit distracted \n"
     ]
    },
    {
     "data": {
      "text/html": [
       "<span style=\"font-size:16px; font-family:Times New Roman;\">\n",
       " <span style=\"background-color: rgba(255, 0, 0, 1);\">Number 1 Topic is 0</span> with  probability 0.21087785347024757, Title is: Hospitality Excellence</span>"
      ],
      "text/plain": [
       "<IPython.core.display.HTML object>"
      ]
     },
     "metadata": {},
     "output_type": "display_data"
    },
    {
     "data": {
      "text/html": [
       "<span style=\"font-size:16px; font-family:Times New Roman;\">\n",
       " <span style=\"background-color: rgba(0, 0, 255, 1);\">Number 2 Topic is 2</span> with  probability 0.09839710854202176, Title is: Hotel Amenities Excellence</span>"
      ],
      "text/plain": [
       "<IPython.core.display.HTML object>"
      ]
     },
     "metadata": {},
     "output_type": "display_data"
    },
    {
     "name": "stdout",
     "output_type": "stream",
     "text": [
      "{0: {'breakfast': 0.011407779818943154, 'service': 0.010679983175341665, 'bathroom': 0.009778721751555348, 'size': 0.007553538001663133, 'little': 0.005150367162280177, 'bit': 0.00356639656508472, 'bedroom': 0.0024965266329884115, 'distracted': 9.220468435906277e-05}, 2: {'breakfast': 0.11524841376258102, 'service': 0.015199719832633175, 'size': 0.006888883033294281, 'little': 0.006489111778321789, 'bit': 0.005709074486491888, 'bedroom': 0.0030078399023456505, 'bathroom': 0.0008945710236305133}}\n"
     ]
    },
    {
     "data": {
      "text/html": [
       "<span style=\"font-size:20px; font-family:Times New Roman;\"><span style=\"background-color:rgba(255, 0, 0, 0.2014741882104581)\">bathroom</span></span> <span style=\"font-size:20px; font-family:Times New Roman;\">and</span> <span style=\"font-size:20px; font-family:Times New Roman;\"><span style=\"background-color:rgba(255, 0, 0, 0.1556280028890146)\">size</span></span> <span style=\"font-size:20px; font-family:Times New Roman;\">of</span> <span style=\"font-size:20px; font-family:Times New Roman;\"><span style=\"background-color:rgba(0, 0, 255, 0.0260987531554403)\">bedroom</span></span> <span style=\"font-size:20px; font-family:Times New Roman;\"><span style=\"background-color:rgba(0, 0, 255, 0.13188658599627717)\">service</span></span> <span style=\"font-size:20px; font-family:Times New Roman;\">at</span> <span style=\"font-size:20px; font-family:Times New Roman;\"><span style=\"background-color:rgba(0, 0, 255, 1.0)\">breakfast</span></span> <span style=\"font-size:20px; font-family:Times New Roman;\">a</span> <span style=\"font-size:20px; font-family:Times New Roman;\"><span style=\"background-color:rgba(0, 0, 255, 0.05630543246946346)\">little</span></span> <span style=\"font-size:20px; font-family:Times New Roman;\"><span style=\"background-color:rgba(0, 0, 255, 0.04953711986225633)\">bit</span></span> <span style=\"font-size:20px; font-family:Times New Roman;\"><span style=\"background-color:rgba(255, 0, 0, 0.0018997231338021214)\">distracted</span></span>"
      ],
      "text/plain": [
       "<IPython.core.display.HTML object>"
      ]
     },
     "metadata": {},
     "output_type": "display_data"
    },
    {
     "name": "stdout",
     "output_type": "stream",
     "text": [
      "\n",
      " The sound of aircon or fan that reverberated in the walls outside at night \n"
     ]
    },
    {
     "data": {
      "text/html": [
       "<span style=\"font-size:16px; font-family:Times New Roman;\">\n",
       " <span style=\"background-color: rgba(255, 0, 0, 1);\">Number 1 Topic is 9</span> with  probability 0.17795417005929615, Title is: Room Climate Control</span>"
      ],
      "text/plain": [
       "<IPython.core.display.HTML object>"
      ]
     },
     "metadata": {},
     "output_type": "display_data"
    },
    {
     "data": {
      "text/html": [
       "<span style=\"font-size:16px; font-family:Times New Roman;\">\n",
       " <span style=\"background-color: rgba(0, 0, 255, 1);\">Number 2 Topic is 10</span> with  probability 0.11202696291490054, Title is: Room Lighting</span>"
      ],
      "text/plain": [
       "<IPython.core.display.HTML object>"
      ]
     },
     "metadata": {},
     "output_type": "display_data"
    },
    {
     "name": "stdout",
     "output_type": "stream",
     "text": [
      "{9: {'night': 0.02914161515399624, 'fan': 0.025534404028245014, 'aircon': 0.020386369885593277, 'outside': 0.012060399003941881, 'walls': 0.005879903984073395, 'sound': 0.002441969392243603, 'reverberated': 0.001254667462148789}, 10: {'night': 0.01019176057634884, 'walls': 0.006972146874961888, 'outside': 0.005296563764374939}}\n"
     ]
    },
    {
     "data": {
      "text/html": [
       "<span style=\"font-size:20px; font-family:Times New Roman;\">The</span> <span style=\"font-size:20px; font-family:Times New Roman;\"><span style=\"background-color:rgba(255, 0, 0, 0.01685855416846459)\">sound</span></span> <span style=\"font-size:20px; font-family:Times New Roman;\">of</span> <span style=\"font-size:20px; font-family:Times New Roman;\"><span style=\"background-color:rgba(255, 0, 0, 0.14074079802403383)\">aircon</span></span> <span style=\"font-size:20px; font-family:Times New Roman;\">or</span> <span style=\"font-size:20px; font-family:Times New Roman;\"><span style=\"background-color:rgba(255, 0, 0, 0.17628113392286385)\">fan</span></span> <span style=\"font-size:20px; font-family:Times New Roman;\">that</span> <span style=\"font-size:20px; font-family:Times New Roman;\"><span style=\"background-color:rgba(255, 0, 0, 0.008661811831560956)\">reverberated</span></span> <span style=\"font-size:20px; font-family:Times New Roman;\">in</span> <span style=\"font-size:20px; font-family:Times New Roman;\">the</span> <span style=\"font-size:20px; font-family:Times New Roman;\"><span style=\"background-color:rgba(0, 0, 255, 0.06073864600172623)\">walls</span></span> <span style=\"font-size:20px; font-family:Times New Roman;\"><span style=\"background-color:rgba(255, 0, 0, 0.08326103125905518)\">outside</span></span> <span style=\"font-size:20px; font-family:Times New Roman;\">at</span> <span style=\"font-size:20px; font-family:Times New Roman;\"><span style=\"background-color:rgba(255, 0, 0, 0.20118413408073754)\">night</span></span>"
      ],
      "text/plain": [
       "<IPython.core.display.HTML object>"
      ]
     },
     "metadata": {},
     "output_type": "display_data"
    },
    {
     "name": "stdout",
     "output_type": "stream",
     "text": [
      "\n",
      " Not enough tea milk sugar in rooms Constant blowing fan noise even though the aircon was turned off It kept me awake at night \n"
     ]
    },
    {
     "data": {
      "text/html": [
       "<span style=\"font-size:16px; font-family:Times New Roman;\">\n",
       " <span style=\"background-color: rgba(255, 0, 0, 1);\">Number 1 Topic is 9</span> with  probability 0.24645332158036173, Title is: Room Climate Control</span>"
      ],
      "text/plain": [
       "<IPython.core.display.HTML object>"
      ]
     },
     "metadata": {},
     "output_type": "display_data"
    },
    {
     "data": {
      "text/html": [
       "<span style=\"font-size:16px; font-family:Times New Roman;\">\n",
       " <span style=\"background-color: rgba(0, 0, 255, 1);\">Number 2 Topic is 0</span> with  probability 0.12152995726399818, Title is: Hospitality Excellence</span>"
      ],
      "text/plain": [
       "<IPython.core.display.HTML object>"
      ]
     },
     "metadata": {},
     "output_type": "display_data"
    },
    {
     "name": "stdout",
     "output_type": "stream",
     "text": [
      "{9: {'night': 0.02914161515399624, 'fan': 0.025534404028245014, 'aircon': 0.020386369885593277, 'rooms': 0.018482332717222633, 'noise': 0.014617286627907062, 'even': 0.01431429202045779, 'turned': 0.009907137413891603, 'though': 0.008493485718335178, 'enough': 0.006932182435484453, 'blowing': 0.004796669307265055, 'kept': 0.004641148028655254, 'awake': 0.003987020169951145, 'milk': 0.00311403425886209, 'constant': 0.0031019359228250244, 'tea': 0.0025600357327537357, 'sugar': 0.0008487969650402645}, 0: {'rooms': 0.022525856144947343, 'even': 0.005564250631192386, 'night': 0.005173523449781533, 'enough': 0.004712334018505235, 'though': 0.002739459581392876, 'tea': 0.002696606506963827, 'noise': 0.0020536458540095794, 'kept': 0.0011084934505411297, 'milk': 0.00041192698324533933, 'aircon': 0.00039951490090374625, 'fan': 0.00024057775801047672, 'turned': 0.0001941517319838188, 'constant': 0.00017096941896637088, 'awake': 5.860069658201855e-05}}\n"
     ]
    },
    {
     "data": {
      "text/html": [
       "<span style=\"font-size:20px; font-family:Times New Roman;\">Not</span> <span style=\"font-size:20px; font-family:Times New Roman;\"><span style=\"background-color:rgba(255, 0, 0, 0.04785750937972248)\">enough</span></span> <span style=\"font-size:20px; font-family:Times New Roman;\"><span style=\"background-color:rgba(0, 0, 255, 0.055559061881187324)\">tea</span></span> <span style=\"font-size:20px; font-family:Times New Roman;\"><span style=\"background-color:rgba(255, 0, 0, 0.02149826914384355)\">milk</span></span> <span style=\"font-size:20px; font-family:Times New Roman;\"><span style=\"background-color:rgba(255, 0, 0, 0.0058598153026039965)\">sugar</span></span> <span style=\"font-size:20px; font-family:Times New Roman;\">in</span> <span style=\"font-size:20px; font-family:Times New Roman;\"><span style=\"background-color:rgba(0, 0, 255, 0.4641075485992815)\">rooms</span></span> <span style=\"font-size:20px; font-family:Times New Roman;\"><span style=\"background-color:rgba(255, 0, 0, 0.02141474620777523)\">Constant</span></span> <span style=\"font-size:20px; font-family:Times New Roman;\"><span style=\"background-color:rgba(255, 0, 0, 0.033114628545955434)\">blowing</span></span> <span style=\"font-size:20px; font-family:Times New Roman;\"><span style=\"background-color:rgba(255, 0, 0, 0.17628113392286385)\">fan</span></span> <span style=\"font-size:20px; font-family:Times New Roman;\"><span style=\"background-color:rgba(255, 0, 0, 0.10091294313322074)\">noise</span></span> <span style=\"font-size:20px; font-family:Times New Roman;\"><span style=\"background-color:rgba(255, 0, 0, 0.09882116793789648)\">even</span></span> <span style=\"font-size:20px; font-family:Times New Roman;\"><span style=\"background-color:rgba(255, 0, 0, 0.0586362341462755)\">though</span></span> <span style=\"font-size:20px; font-family:Times New Roman;\">the</span> <span style=\"font-size:20px; font-family:Times New Roman;\"><span style=\"background-color:rgba(255, 0, 0, 0.14074079802403383)\">aircon</span></span> <span style=\"font-size:20px; font-family:Times New Roman;\">was</span> <span style=\"font-size:20px; font-family:Times New Roman;\"><span style=\"background-color:rgba(255, 0, 0, 0.06839562087756602)\">turned</span></span> <span style=\"font-size:20px; font-family:Times New Roman;\">off</span> <span style=\"font-size:20px; font-family:Times New Roman;\">It</span> <span style=\"font-size:20px; font-family:Times New Roman;\"><span style=\"background-color:rgba(255, 0, 0, 0.03204096074810342)\">kept</span></span> <span style=\"font-size:20px; font-family:Times New Roman;\">me</span> <span style=\"font-size:20px; font-family:Times New Roman;\"><span style=\"background-color:rgba(255, 0, 0, 0.027525076980644273)\">awake</span></span> <span style=\"font-size:20px; font-family:Times New Roman;\">at</span> <span style=\"font-size:20px; font-family:Times New Roman;\"><span style=\"background-color:rgba(255, 0, 0, 0.20118413408073754)\">night</span></span>"
      ],
      "text/plain": [
       "<IPython.core.display.HTML object>"
      ]
     },
     "metadata": {},
     "output_type": "display_data"
    },
    {
     "name": "stdout",
     "output_type": "stream",
     "text": [
      "\n",
      " Aircon didn t work straight away and only came on half way through the night meaning it was freezing when we woke \n"
     ]
    },
    {
     "data": {
      "text/html": [
       "<span style=\"font-size:16px; font-family:Times New Roman;\">\n",
       " <span style=\"background-color: rgba(255, 0, 0, 1);\">Number 1 Topic is 9</span> with  probability 0.4082093715572638, Title is: Room Climate Control</span>"
      ],
      "text/plain": [
       "<IPython.core.display.HTML object>"
      ]
     },
     "metadata": {},
     "output_type": "display_data"
    },
    {
     "data": {
      "text/html": [
       "<span style=\"font-size:16px; font-family:Times New Roman;\">\n",
       " <span style=\"background-color: rgba(0, 0, 255, 1);\">Number 2 Topic is 0</span> with  probability 0.09181565903801077, Title is: Hospitality Excellence</span>"
      ],
      "text/plain": [
       "<IPython.core.display.HTML object>"
      ]
     },
     "metadata": {},
     "output_type": "display_data"
    },
    {
     "name": "stdout",
     "output_type": "stream",
     "text": [
      "{9: {'work': 0.035379220137282744, 'night': 0.02914161515399624, 'aircon': 0.020386369885593277, 'way': 0.0059487256268803135, 'freezing': 0.005328978019826704, 'came': 0.004847071214867938, 'woke': 0.004369104723590817, 'half': 0.0018393692767266164, 'meaning': 0.0016337334231204842, 'straight': 0.0014015599925062765, 'away': 0.0013207403183330222}, 0: {'away': 0.006244214884098741, 'night': 0.005173523449781533, 'way': 0.004102652817954699, 'work': 0.0016289128783496258, 'came': 0.001385253593929125, 'straight': 0.0008754976161038392, 'half': 0.0006308121638483786, 'aircon': 0.00039951490090374625, 'meaning': 0.0003001549796064838, 'freezing': 0.0001678384629842155, 'woke': 0.00010702754159269226}}\n"
     ]
    },
    {
     "data": {
      "text/html": [
       "<span style=\"font-size:20px; font-family:Times New Roman;\"><span style=\"background-color:rgba(255, 0, 0, 0.14074079802403383)\">Aircon</span></span> <span style=\"font-size:20px; font-family:Times New Roman;\">didn</span> <span style=\"font-size:20px; font-family:Times New Roman;\">t</span> <span style=\"font-size:20px; font-family:Times New Roman;\"><span style=\"background-color:rgba(255, 0, 0, 0.24424650899265457)\">work</span></span> <span style=\"font-size:20px; font-family:Times New Roman;\"><span style=\"background-color:rgba(255, 0, 0, 0.009675909587184051)\">straight</span></span> <span style=\"font-size:20px; font-family:Times New Roman;\"><span style=\"background-color:rgba(0, 0, 255, 0.12865159238070717)\">away</span></span> <span style=\"font-size:20px; font-family:Times New Roman;\">and</span> <span style=\"font-size:20px; font-family:Times New Roman;\">only</span> <span style=\"font-size:20px; font-family:Times New Roman;\"><span style=\"background-color:rgba(255, 0, 0, 0.03346258675223601)\">came</span></span> <span style=\"font-size:20px; font-family:Times New Roman;\">on</span> <span style=\"font-size:20px; font-family:Times New Roman;\"><span style=\"background-color:rgba(255, 0, 0, 0.012698401006171102)\">half</span></span> <span style=\"font-size:20px; font-family:Times New Roman;\"><span style=\"background-color:rgba(255, 0, 0, 0.04106804677103461)\">way</span></span> <span style=\"font-size:20px; font-family:Times New Roman;\">through</span> <span style=\"font-size:20px; font-family:Times New Roman;\">the</span> <span style=\"font-size:20px; font-family:Times New Roman;\"><span style=\"background-color:rgba(255, 0, 0, 0.20118413408073754)\">night</span></span> <span style=\"font-size:20px; font-family:Times New Roman;\"><span style=\"background-color:rgba(255, 0, 0, 0.011278758651926717)\">meaning</span></span> <span style=\"font-size:20px; font-family:Times New Roman;\">it</span> <span style=\"font-size:20px; font-family:Times New Roman;\">was</span> <span style=\"font-size:20px; font-family:Times New Roman;\"><span style=\"background-color:rgba(255, 0, 0, 0.03678951296243096)\">freezing</span></span> <span style=\"font-size:20px; font-family:Times New Roman;\">when</span> <span style=\"font-size:20px; font-family:Times New Roman;\">we</span> <span style=\"font-size:20px; font-family:Times New Roman;\"><span style=\"background-color:rgba(255, 0, 0, 0.030162863172775813)\">woke</span></span>"
      ],
      "text/plain": [
       "<IPython.core.display.HTML object>"
      ]
     },
     "metadata": {},
     "output_type": "display_data"
    },
    {
     "name": "stdout",
     "output_type": "stream",
     "text": [
      "\n",
      " Servie for the breakfast was a bit unpredictable \n"
     ]
    },
    {
     "data": {
      "text/html": [
       "<span style=\"font-size:16px; font-family:Times New Roman;\">\n",
       " <span style=\"background-color: rgba(255, 0, 0, 1);\">Number 1 Topic is 8</span> with  probability 0.5191943737602343, Title is: Breakfast and Pricing</span>"
      ],
      "text/plain": [
       "<IPython.core.display.HTML object>"
      ]
     },
     "metadata": {},
     "output_type": "display_data"
    },
    {
     "data": {
      "text/html": [
       "<span style=\"font-size:16px; font-family:Times New Roman;\">\n",
       " <span style=\"background-color: rgba(0, 0, 255, 1);\">Number 2 Topic is 2</span> with  probability 0.10546271164793239, Title is: Hotel Amenities Excellence</span>"
      ],
      "text/plain": [
       "<IPython.core.display.HTML object>"
      ]
     },
     "metadata": {},
     "output_type": "display_data"
    },
    {
     "name": "stdout",
     "output_type": "stream",
     "text": [
      "{8: {'breakfast': 0.22847221878340768, 'bit': 0.020347531610604135, 'servie': 0.0014193687928823675, 'unpredictable': 0.0012662839466141473}, 2: {'breakfast': 0.11524841376258102, 'bit': 0.005709074486491888}}\n"
     ]
    },
    {
     "data": {
      "text/html": [
       "<span style=\"font-size:20px; font-family:Times New Roman;\"><span style=\"background-color:rgba(255, 0, 0, 0.006212434931653258)\">Servie</span></span> <span style=\"font-size:20px; font-family:Times New Roman;\">for</span> <span style=\"font-size:20px; font-family:Times New Roman;\">the</span> <span style=\"font-size:20px; font-family:Times New Roman;\"><span style=\"background-color:rgba(255, 0, 0, 1.0)\">breakfast</span></span> <span style=\"font-size:20px; font-family:Times New Roman;\">was</span> <span style=\"font-size:20px; font-family:Times New Roman;\">a</span> <span style=\"font-size:20px; font-family:Times New Roman;\"><span style=\"background-color:rgba(255, 0, 0, 0.08905910626225264)\">bit</span></span> <span style=\"font-size:20px; font-family:Times New Roman;\"><span style=\"background-color:rgba(255, 0, 0, 0.005542397904467274)\">unpredictable</span></span>"
      ],
      "text/plain": [
       "<IPython.core.display.HTML object>"
      ]
     },
     "metadata": {},
     "output_type": "display_data"
    },
    {
     "name": "stdout",
     "output_type": "stream",
     "text": [
      "\n",
      " Would be better if there was a inclusive breakfast with the total price \n"
     ]
    },
    {
     "data": {
      "text/html": [
       "<span style=\"font-size:16px; font-family:Times New Roman;\">\n",
       " <span style=\"background-color: rgba(255, 0, 0, 1);\">Number 1 Topic is 8</span> with  probability 1.0, Title is: Breakfast and Pricing</span>"
      ],
      "text/plain": [
       "<IPython.core.display.HTML object>"
      ]
     },
     "metadata": {},
     "output_type": "display_data"
    },
    {
     "data": {
      "text/html": [
       "<span style=\"font-size:16px; font-family:Times New Roman;\">\n",
       " <span style=\"background-color: rgba(0, 0, 255, 1);\">Number 2 Topic is 2</span> with  probability 4.883924699468331e-307, Title is: Hotel Amenities Excellence</span>"
      ],
      "text/plain": [
       "<IPython.core.display.HTML object>"
      ]
     },
     "metadata": {},
     "output_type": "display_data"
    },
    {
     "name": "stdout",
     "output_type": "stream",
     "text": [
      "{8: {'breakfast': 0.22847221878340768, 'price': 0.043518265136781524, 'better': 0.024017941293897276, 'would': 0.023266261223256732, 'inclusive': 0.0030992338359929934, 'total': 0.000886070917371959}, 2: {'breakfast': 0.11524841376258102, 'would': 0.008936242798054956, 'price': 0.006455864209323872, 'better': 0.003317297018671994, 'inclusive': 0.0005390363801130837, 'total': 0.00023116574213121418}}\n"
     ]
    },
    {
     "data": {
      "text/html": [
       "<span style=\"font-size:20px; font-family:Times New Roman;\"><span style=\"background-color:rgba(255, 0, 0, 0.10183409320900068)\">Would</span></span> <span style=\"font-size:20px; font-family:Times New Roman;\">be</span> <span style=\"font-size:20px; font-family:Times New Roman;\"><span style=\"background-color:rgba(255, 0, 0, 0.10512412153123243)\">better</span></span> <span style=\"font-size:20px; font-family:Times New Roman;\">if</span> <span style=\"font-size:20px; font-family:Times New Roman;\">there</span> <span style=\"font-size:20px; font-family:Times New Roman;\">was</span> <span style=\"font-size:20px; font-family:Times New Roman;\">a</span> <span style=\"font-size:20px; font-family:Times New Roman;\"><span style=\"background-color:rgba(255, 0, 0, 0.013565035838913423)\">inclusive</span></span> <span style=\"font-size:20px; font-family:Times New Roman;\"><span style=\"background-color:rgba(255, 0, 0, 1.0)\">breakfast</span></span> <span style=\"font-size:20px; font-family:Times New Roman;\">with</span> <span style=\"font-size:20px; font-family:Times New Roman;\">the</span> <span style=\"font-size:20px; font-family:Times New Roman;\"><span style=\"background-color:rgba(255, 0, 0, 0.0038782435872956474)\">total</span></span> <span style=\"font-size:20px; font-family:Times New Roman;\"><span style=\"background-color:rgba(255, 0, 0, 0.1904750843166493)\">price</span></span>"
      ],
      "text/plain": [
       "<IPython.core.display.HTML object>"
      ]
     },
     "metadata": {},
     "output_type": "display_data"
    },
    {
     "name": "stdout",
     "output_type": "stream",
     "text": [
      "\n",
      " Price of breakfast was expensive so went elsewhere\n"
     ]
    },
    {
     "data": {
      "text/html": [
       "<span style=\"font-size:16px; font-family:Times New Roman;\">\n",
       " <span style=\"background-color: rgba(255, 0, 0, 1);\">Number 1 Topic is 8</span> with  probability 0.7718659828283109, Title is: Breakfast and Pricing</span>"
      ],
      "text/plain": [
       "<IPython.core.display.HTML object>"
      ]
     },
     "metadata": {},
     "output_type": "display_data"
    },
    {
     "data": {
      "text/html": [
       "<span style=\"font-size:16px; font-family:Times New Roman;\">\n",
       " <span style=\"background-color: rgba(0, 0, 255, 1);\">Number 2 Topic is 2</span> with  probability 0.06261214156855369, Title is: Hotel Amenities Excellence</span>"
      ],
      "text/plain": [
       "<IPython.core.display.HTML object>"
      ]
     },
     "metadata": {},
     "output_type": "display_data"
    },
    {
     "name": "stdout",
     "output_type": "stream",
     "text": [
      "{8: {'breakfast': 0.22847221878340768, 'expensive': 0.05794959865622467, 'price': 0.043518265136781524, 'went': 0.004955202111394632, 'elsewhere': 0.002561494577009799}, 2: {'breakfast': 0.11524841376258102, 'expensive': 0.008373259830556945, 'price': 0.006455864209323872, 'went': 0.0027291503133699702, 'elsewhere': 0.0013365291270720802}}\n"
     ]
    },
    {
     "data": {
      "text/html": [
       "<span style=\"font-size:20px; font-family:Times New Roman;\"><span style=\"background-color:rgba(255, 0, 0, 0.1904750843166493)\">Price</span></span> <span style=\"font-size:20px; font-family:Times New Roman;\">of</span> <span style=\"font-size:20px; font-family:Times New Roman;\"><span style=\"background-color:rgba(255, 0, 0, 1.0)\">breakfast</span></span> <span style=\"font-size:20px; font-family:Times New Roman;\">was</span> <span style=\"font-size:20px; font-family:Times New Roman;\"><span style=\"background-color:rgba(255, 0, 0, 0.2536395845621872)\">expensive</span></span> <span style=\"font-size:20px; font-family:Times New Roman;\">so</span> <span style=\"font-size:20px; font-family:Times New Roman;\"><span style=\"background-color:rgba(255, 0, 0, 0.02168842294166267)\">went</span></span> <span style=\"font-size:20px; font-family:Times New Roman;\"><span style=\"background-color:rgba(255, 0, 0, 0.011211405004291148)\">elsewhere</span></span>"
      ],
      "text/plain": [
       "<IPython.core.display.HTML object>"
      ]
     },
     "metadata": {},
     "output_type": "display_data"
    },
    {
     "name": "stdout",
     "output_type": "stream",
     "text": [
      "\n",
      " The wifi is paid for after 20 mins at 7 a day The rooms are abit hard to find as they are separated by odd numbers and even numbers on either side The tv could have been bigger\n"
     ]
    },
    {
     "data": {
      "text/html": [
       "<span style=\"font-size:16px; font-family:Times New Roman;\">\n",
       " <span style=\"background-color: rgba(255, 0, 0, 1);\">Number 1 Topic is 11</span> with  probability 1.0, Title is: Internet Connection Issues</span>"
      ],
      "text/plain": [
       "<IPython.core.display.HTML object>"
      ]
     },
     "metadata": {},
     "output_type": "display_data"
    },
    {
     "data": {
      "text/html": [
       "<span style=\"font-size:16px; font-family:Times New Roman;\">\n",
       " <span style=\"background-color: rgba(0, 0, 255, 1);\">Number 2 Topic is 0</span> with  probability 3.989950095423943e-307, Title is: Hospitality Excellence</span>"
      ],
      "text/plain": [
       "<IPython.core.display.HTML object>"
      ]
     },
     "metadata": {},
     "output_type": "display_data"
    },
    {
     "name": "stdout",
     "output_type": "stream",
     "text": [
      "{11: {'wifi': 0.26688130704140944, 'could': 0.021315017615640055, 'rooms': 0.01838532547718738, 'day': 0.017434227043921398, 'paid': 0.011664349287367008, 'even': 0.010054846395198658, 'hard': 0.004087154290074153, 'find': 0.0033073763814529746, 'numbers': 0.00323666476058858, 'mins': 0.0030596088197403217, 'either': 0.002840084209579686, 'bigger': 0.002066413971273378, 'odd': 0.0017775719586370041, 'side': 0.0011797801920795023, 'abit': 0.0010429820856662788, 'separated': 0.0009798718795869898}, 0: {'rooms': 0.022525856144947343, 'even': 0.005564250631192386, 'could': 0.0055339161517924135, 'mins': 0.005269844860173562, 'day': 0.004577525623783083, 'find': 0.003630184779461685, 'wifi': 0.003454811230156909, 'side': 0.0022038708376959718, 'hard': 0.0013310320571176047, 'paid': 0.001195867767215427, 'bigger': 0.0010031986353696268, 'either': 0.0008092948056583043, 'separated': 6.204864706206486e-05}}\n"
     ]
    },
    {
     "data": {
      "text/html": [
       "<span style=\"font-size:20px; font-family:Times New Roman;\">The</span> <span style=\"font-size:20px; font-family:Times New Roman;\"><span style=\"background-color:rgba(255, 0, 0, 1.0)\">wifi</span></span> <span style=\"font-size:20px; font-family:Times New Roman;\">is</span> <span style=\"font-size:20px; font-family:Times New Roman;\"><span style=\"background-color:rgba(255, 0, 0, 0.04370613070160497)\">paid</span></span> <span style=\"font-size:20px; font-family:Times New Roman;\">for</span> <span style=\"font-size:20px; font-family:Times New Roman;\">after</span> <span style=\"font-size:20px; font-family:Times New Roman;\">20</span> <span style=\"font-size:20px; font-family:Times New Roman;\"><span style=\"background-color:rgba(0, 0, 255, 0.1085763295217649)\">mins</span></span> <span style=\"font-size:20px; font-family:Times New Roman;\">at</span> <span style=\"font-size:20px; font-family:Times New Roman;\">7</span> <span style=\"font-size:20px; font-family:Times New Roman;\">a</span> <span style=\"font-size:20px; font-family:Times New Roman;\"><span style=\"background-color:rgba(255, 0, 0, 0.06532577061013979)\">day</span></span> <span style=\"font-size:20px; font-family:Times New Roman;\">The</span> <span style=\"font-size:20px; font-family:Times New Roman;\"><span style=\"background-color:rgba(0, 0, 255, 0.4641075485992815)\">rooms</span></span> <span style=\"font-size:20px; font-family:Times New Roman;\">are</span> <span style=\"font-size:20px; font-family:Times New Roman;\"><span style=\"background-color:rgba(255, 0, 0, 0.00390803723658491)\">abit</span></span> <span style=\"font-size:20px; font-family:Times New Roman;\"><span style=\"background-color:rgba(255, 0, 0, 0.015314501923658476)\">hard</span></span> <span style=\"font-size:20px; font-family:Times New Roman;\">to</span> <span style=\"font-size:20px; font-family:Times New Roman;\"><span style=\"background-color:rgba(0, 0, 255, 0.07479387900363085)\">find</span></span> <span style=\"font-size:20px; font-family:Times New Roman;\">as</span> <span style=\"font-size:20px; font-family:Times New Roman;\">they</span> <span style=\"font-size:20px; font-family:Times New Roman;\">are</span> <span style=\"font-size:20px; font-family:Times New Roman;\"><span style=\"background-color:rgba(255, 0, 0, 0.0036715643011855916)\">separated</span></span> <span style=\"font-size:20px; font-family:Times New Roman;\">by</span> <span style=\"font-size:20px; font-family:Times New Roman;\"><span style=\"background-color:rgba(255, 0, 0, 0.006660533771895815)\">odd</span></span> <span style=\"font-size:20px; font-family:Times New Roman;\"><span style=\"background-color:rgba(255, 0, 0, 0.01212773122430181)\">numbers</span></span> <span style=\"font-size:20px; font-family:Times New Roman;\">and</span> <span style=\"font-size:20px; font-family:Times New Roman;\"><span style=\"background-color:rgba(255, 0, 0, 0.03767534904060756)\">even</span></span> <span style=\"font-size:20px; font-family:Times New Roman;\"><span style=\"background-color:rgba(255, 0, 0, 0.01212773122430181)\">numbers</span></span> <span style=\"font-size:20px; font-family:Times New Roman;\">on</span> <span style=\"font-size:20px; font-family:Times New Roman;\"><span style=\"background-color:rgba(255, 0, 0, 0.01064175022621205)\">either</span></span> <span style=\"font-size:20px; font-family:Times New Roman;\"><span style=\"background-color:rgba(0, 0, 255, 0.04540706845195532)\">side</span></span> <span style=\"font-size:20px; font-family:Times New Roman;\">The</span> <span style=\"font-size:20px; font-family:Times New Roman;\">tv</span> <span style=\"font-size:20px; font-family:Times New Roman;\"><span style=\"background-color:rgba(255, 0, 0, 0.07986703097318391)\">could</span></span> <span style=\"font-size:20px; font-family:Times New Roman;\">have</span> <span style=\"font-size:20px; font-family:Times New Roman;\">been</span> <span style=\"font-size:20px; font-family:Times New Roman;\"><span style=\"background-color:rgba(255, 0, 0, 0.007742820185427045)\">bigger</span></span>"
      ],
      "text/plain": [
       "<IPython.core.display.HTML object>"
      ]
     },
     "metadata": {},
     "output_type": "display_data"
    },
    {
     "name": "stdout",
     "output_type": "stream",
     "text": [
      "\n",
      " No iMac in the room as advertised Wifi should be easier to access\n"
     ]
    },
    {
     "data": {
      "text/html": [
       "<span style=\"font-size:16px; font-family:Times New Roman;\">\n",
       " <span style=\"background-color: rgba(255, 0, 0, 1);\">Number 1 Topic is 11</span> with  probability 1.0, Title is: Internet Connection Issues</span>"
      ],
      "text/plain": [
       "<IPython.core.display.HTML object>"
      ]
     },
     "metadata": {},
     "output_type": "display_data"
    },
    {
     "data": {
      "text/html": [
       "<span style=\"font-size:16px; font-family:Times New Roman;\">\n",
       " <span style=\"background-color: rgba(0, 0, 255, 1);\">Number 2 Topic is 0</span> with  probability 3.929730066621302e-307, Title is: Hospitality Excellence</span>"
      ],
      "text/plain": [
       "<IPython.core.display.HTML object>"
      ]
     },
     "metadata": {},
     "output_type": "display_data"
    },
    {
     "name": "stdout",
     "output_type": "stream",
     "text": [
      "{11: {'wifi': 0.26688130704140944, 'room': 0.030379474040917485, 'access': 0.015215159999239787, 'easier': 0.0029396156387609695, 'advertised': 0.002430462451331782, 'imac': 0.0012579284120430865}, 0: {'room': 0.02927797724444089, 'access': 0.005849657458760691, 'wifi': 0.003454811230156909, 'easier': 0.0004963891764965189, 'advertised': 0.0004104125855143455, 'imac': 7.96560833045887e-05}}\n"
     ]
    },
    {
     "data": {
      "text/html": [
       "<span style=\"font-size:20px; font-family:Times New Roman;\">No</span> <span style=\"font-size:20px; font-family:Times New Roman;\"><span style=\"background-color:rgba(255, 0, 0, 0.004713437692539124)\">iMac</span></span> <span style=\"font-size:20px; font-family:Times New Roman;\">in</span> <span style=\"font-size:20px; font-family:Times New Roman;\">the</span> <span style=\"font-size:20px; font-family:Times New Roman;\"><span style=\"background-color:rgba(255, 0, 0, 0.1138314045959157)\">room</span></span> <span style=\"font-size:20px; font-family:Times New Roman;\">as</span> <span style=\"font-size:20px; font-family:Times New Roman;\"><span style=\"background-color:rgba(255, 0, 0, 0.00910690403264051)\">advertised</span></span> <span style=\"font-size:20px; font-family:Times New Roman;\"><span style=\"background-color:rgba(255, 0, 0, 1.0)\">Wifi</span></span> <span style=\"font-size:20px; font-family:Times New Roman;\">should</span> <span style=\"font-size:20px; font-family:Times New Roman;\">be</span> <span style=\"font-size:20px; font-family:Times New Roman;\"><span style=\"background-color:rgba(255, 0, 0, 0.011014692903556776)\">easier</span></span> <span style=\"font-size:20px; font-family:Times New Roman;\">to</span> <span style=\"font-size:20px; font-family:Times New Roman;\"><span style=\"background-color:rgba(255, 0, 0, 0.05701096179388463)\">access</span></span>"
      ],
      "text/plain": [
       "<IPython.core.display.HTML object>"
      ]
     },
     "metadata": {},
     "output_type": "display_data"
    },
    {
     "name": "stdout",
     "output_type": "stream",
     "text": [
      "\n",
      " Wifi was sometimes slow and got cut off No busses going pass the hotel even though there is a bus stop within 100m from the hotel \n"
     ]
    },
    {
     "data": {
      "text/html": [
       "<span style=\"font-size:16px; font-family:Times New Roman;\">\n",
       " <span style=\"background-color: rgba(255, 0, 0, 1);\">Number 1 Topic is 11</span> with  probability 0.6020451220349244, Title is: Internet Connection Issues</span>"
      ],
      "text/plain": [
       "<IPython.core.display.HTML object>"
      ]
     },
     "metadata": {},
     "output_type": "display_data"
    },
    {
     "data": {
      "text/html": [
       "<span style=\"font-size:16px; font-family:Times New Roman;\">\n",
       " <span style=\"background-color: rgba(0, 0, 255, 1);\">Number 2 Topic is 0</span> with  probability 0.0663661988218542, Title is: Hospitality Excellence</span>"
      ],
      "text/plain": [
       "<IPython.core.display.HTML object>"
      ]
     },
     "metadata": {},
     "output_type": "display_data"
    },
    {
     "name": "stdout",
     "output_type": "stream",
     "text": [
      "{11: {'wifi': 0.26688130704140944, 'slow': 0.06521142599111264, 'hotel': 0.01578791741877153, 'even': 0.010054846395198658, 'sometimes': 0.009906379605808976, 'though': 0.004928528739202643, 'bus': 0.004120219282097888, 'going': 0.0035790761339046006, 'got': 0.003331570238650244, 'cut': 0.0027177882847329946, 'stop': 0.0018864748175113188, 'pass': 0.0018725372028430877, 'busses': 0.0010894772846348317, 'within': 0.0005954988925347946}, 0: {'hotel': 0.048535853840198054, 'bus': 0.007528989328761529, 'within': 0.006297387985315786, 'stop': 0.006211798760888672, 'even': 0.005564250631192386, 'got': 0.003857659800295999, 'wifi': 0.003454811230156909, 'though': 0.002739459581392876, 'going': 0.0023419326310190045, 'pass': 0.0005335879219888046, 'cut': 0.00028683186305929935, 'busses': 0.00027595685895154655, 'sometimes': 0.00024127073087066835, 'slow': 0.00015015991895675157}}\n"
     ]
    },
    {
     "data": {
      "text/html": [
       "<span style=\"font-size:20px; font-family:Times New Roman;\"><span style=\"background-color:rgba(255, 0, 0, 1.0)\">Wifi</span></span> <span style=\"font-size:20px; font-family:Times New Roman;\">was</span> <span style=\"font-size:20px; font-family:Times New Roman;\"><span style=\"background-color:rgba(255, 0, 0, 0.03711904634921432)\">sometimes</span></span> <span style=\"font-size:20px; font-family:Times New Roman;\"><span style=\"background-color:rgba(255, 0, 0, 0.24434617288873814)\">slow</span></span> <span style=\"font-size:20px; font-family:Times New Roman;\">and</span> <span style=\"font-size:20px; font-family:Times New Roman;\"><span style=\"background-color:rgba(0, 0, 255, 0.07948062092401129)\">got</span></span> <span style=\"font-size:20px; font-family:Times New Roman;\"><span style=\"background-color:rgba(255, 0, 0, 0.010183509346764782)\">cut</span></span> <span style=\"font-size:20px; font-family:Times New Roman;\">off</span> <span style=\"font-size:20px; font-family:Times New Roman;\">No</span> <span style=\"font-size:20px; font-family:Times New Roman;\"><span style=\"background-color:rgba(255, 0, 0, 0.0040822540053949445)\">busses</span></span> <span style=\"font-size:20px; font-family:Times New Roman;\"><span style=\"background-color:rgba(255, 0, 0, 0.013410741177722384)\">going</span></span> <span style=\"font-size:20px; font-family:Times New Roman;\"><span style=\"background-color:rgba(255, 0, 0, 0.007016367026981563)\">pass</span></span> <span style=\"font-size:20px; font-family:Times New Roman;\">the</span> <span style=\"font-size:20px; font-family:Times New Roman;\"><span style=\"background-color:rgba(0, 0, 255, 1.0)\">hotel</span></span> <span style=\"font-size:20px; font-family:Times New Roman;\"><span style=\"background-color:rgba(255, 0, 0, 0.03767534904060756)\">even</span></span> <span style=\"font-size:20px; font-family:Times New Roman;\"><span style=\"background-color:rgba(255, 0, 0, 0.018467118562327522)\">though</span></span> <span style=\"font-size:20px; font-family:Times New Roman;\">there</span> <span style=\"font-size:20px; font-family:Times New Roman;\">is</span> <span style=\"font-size:20px; font-family:Times New Roman;\">a</span> <span style=\"font-size:20px; font-family:Times New Roman;\"><span style=\"background-color:rgba(0, 0, 255, 0.15512221858814643)\">bus</span></span> <span style=\"font-size:20px; font-family:Times New Roman;\"><span style=\"background-color:rgba(0, 0, 255, 0.12798371243948273)\">stop</span></span> <span style=\"font-size:20px; font-family:Times New Roman;\"><span style=\"background-color:rgba(0, 0, 255, 0.1297471350983055)\">within</span></span> <span style=\"font-size:20px; font-family:Times New Roman;\">100m</span> <span style=\"font-size:20px; font-family:Times New Roman;\">from</span> <span style=\"font-size:20px; font-family:Times New Roman;\">the</span> <span style=\"font-size:20px; font-family:Times New Roman;\"><span style=\"background-color:rgba(0, 0, 255, 1.0)\">hotel</span></span>"
      ],
      "text/plain": [
       "<IPython.core.display.HTML object>"
      ]
     },
     "metadata": {},
     "output_type": "display_data"
    },
    {
     "name": "stdout",
     "output_type": "stream",
     "text": [
      "\n",
      " The hotel over charged me for my room rate by 100 When I questioned the hotel they claimed it wasn t there fault dispite my bank statement showing the hotel name They offered no explanation as to why forcing me to go back and forward on the phone to booking com and the hotel The Hilton Conrad are a huge corporation and they could have refunded me my money but they were uninterested not what I would expect from this type of hotel Thankfully booking com were helpful and refunded me the difference \n"
     ]
    },
    {
     "data": {
      "text/html": [
       "<span style=\"font-size:16px; font-family:Times New Roman;\">\n",
       " <span style=\"background-color: rgba(255, 0, 0, 1);\">Number 1 Topic is 6</span> with  probability 1.0, Title is: Hotel Booking Reception</span>"
      ],
      "text/plain": [
       "<IPython.core.display.HTML object>"
      ]
     },
     "metadata": {},
     "output_type": "display_data"
    },
    {
     "data": {
      "text/html": [
       "<span style=\"font-size:16px; font-family:Times New Roman;\">\n",
       " <span style=\"background-color: rgba(0, 0, 255, 1);\">Number 2 Topic is 0</span> with  probability 6.5526949724976165e-307, Title is: Hospitality Excellence</span>"
      ],
      "text/plain": [
       "<IPython.core.display.HTML object>"
      ]
     },
     "metadata": {},
     "output_type": "display_data"
    },
    {
     "name": "stdout",
     "output_type": "stream",
     "text": [
      "{6: {'room': 0.0312774394878031, 'hotel': 0.02713918418622058, 'booking': 0.02644008317916262, 'would': 0.015071039988020014, 'com': 0.015025509395104135, 'back': 0.012902505411590829, 'charged': 0.011749574136941651, 'could': 0.010895633471091655, 'money': 0.008812481779627837, 'phone': 0.005893276163669385, 'offered': 0.004671437041593143, 'hilton': 0.0038603618533138914, 'rate': 0.003825293275649909, 'name': 0.003679745788102999, 'bank': 0.0031580742707070057, 'helpful': 0.003131372062941068, 'expect': 0.002870799466133677, 'refunded': 0.002381357729531476, 'explanation': 0.001764933505160683, 'fault': 0.0017000029659404953, 'difference': 0.001528542690621219, 'huge': 0.0014883909151384433, 'type': 0.0013576552050785676, 'questioned': 0.0011008747927661751, 'statement': 0.0009770859332740892, 'claimed': 0.0009065503981773487, 'uninterested': 0.0009065503981773487, 'forward': 0.0008443156425060231, 'showing': 0.0008369984351728375, 'thankfully': 0.0004435565888961265, 'forcing': 0.00035258627971842003, 'dispite': 0.00019760574378635475, 'corporation': 0.00019760574378635475, 'conrad': 0.00018415879624784361}, 0: {'hotel': 0.048535853840198054, 'helpful': 0.02930849728275495, 'room': 0.02927797724444089, 'would': 0.01093678210925847, 'back': 0.007165779440133855, 'could': 0.0055339161517924135, 'money': 0.004977667562971913, 'huge': 0.0035133382329622905, 'booking': 0.0018442190615125089, 'offered': 0.0018230520304837552, 'rate': 0.0016107792478588098, 'fault': 0.0015029758430518492, 'phone': 0.0011422485670943066, 'expect': 0.0010802756652040877, 'hilton': 0.0009736653354417567, 'forward': 0.0007879311180433703, 'name': 0.0007849159903089396, 'com': 0.0007744756714987964, 'bank': 0.000709504818090927, 'type': 0.0005279121583802539, 'difference': 0.00043891217584618924, 'charged': 0.00020456943859253066, 'explanation': 0.00011764777801631058, 'uninterested': 7.050081281198157e-05, 'thankfully': 6.898921473788664e-05, 'showing': 6.509188029775455e-05, 'refunded': 6.173131902561918e-05}}\n"
     ]
    },
    {
     "data": {
      "text/html": [
       "<span style=\"font-size:20px; font-family:Times New Roman;\">The</span> <span style=\"font-size:20px; font-family:Times New Roman;\"><span style=\"background-color:rgba(0, 0, 255, 1.0)\">hotel</span></span> <span style=\"font-size:20px; font-family:Times New Roman;\">over</span> <span style=\"font-size:20px; font-family:Times New Roman;\"><span style=\"background-color:rgba(255, 0, 0, 0.3756565220603655)\">charged</span></span> <span style=\"font-size:20px; font-family:Times New Roman;\">me</span> <span style=\"font-size:20px; font-family:Times New Roman;\">for</span> <span style=\"font-size:20px; font-family:Times New Roman;\">my</span> <span style=\"font-size:20px; font-family:Times New Roman;\"><span style=\"background-color:rgba(255, 0, 0, 1.0)\">room</span></span> <span style=\"font-size:20px; font-family:Times New Roman;\"><span style=\"background-color:rgba(255, 0, 0, 0.12230199588881355)\">rate</span></span> <span style=\"font-size:20px; font-family:Times New Roman;\">by</span> <span style=\"font-size:20px; font-family:Times New Roman;\">100</span> <span style=\"font-size:20px; font-family:Times New Roman;\">When</span> <span style=\"font-size:20px; font-family:Times New Roman;\">I</span> <span style=\"font-size:20px; font-family:Times New Roman;\"><span style=\"background-color:rgba(255, 0, 0, 0.03519708808630165)\">questioned</span></span> <span style=\"font-size:20px; font-family:Times New Roman;\">the</span> <span style=\"font-size:20px; font-family:Times New Roman;\"><span style=\"background-color:rgba(0, 0, 255, 1.0)\">hotel</span></span> <span style=\"font-size:20px; font-family:Times New Roman;\">they</span> <span style=\"font-size:20px; font-family:Times New Roman;\"><span style=\"background-color:rgba(255, 0, 0, 0.028984162803060196)\">claimed</span></span> <span style=\"font-size:20px; font-family:Times New Roman;\">it</span> <span style=\"font-size:20px; font-family:Times New Roman;\">wasn</span> <span style=\"font-size:20px; font-family:Times New Roman;\">t</span> <span style=\"font-size:20px; font-family:Times New Roman;\">there</span> <span style=\"font-size:20px; font-family:Times New Roman;\"><span style=\"background-color:rgba(255, 0, 0, 0.05435237007183487)\">fault</span></span> <span style=\"font-size:20px; font-family:Times New Roman;\"><span style=\"background-color:rgba(255, 0, 0, 0.006317836338982056)\">dispite</span></span> <span style=\"font-size:20px; font-family:Times New Roman;\">my</span> <span style=\"font-size:20px; font-family:Times New Roman;\"><span style=\"background-color:rgba(255, 0, 0, 0.10096971882684078)\">bank</span></span> <span style=\"font-size:20px; font-family:Times New Roman;\"><span style=\"background-color:rgba(255, 0, 0, 0.03123931975490232)\">statement</span></span> <span style=\"font-size:20px; font-family:Times New Roman;\"><span style=\"background-color:rgba(255, 0, 0, 0.0267604525459711)\">showing</span></span> <span style=\"font-size:20px; font-family:Times New Roman;\">the</span> <span style=\"font-size:20px; font-family:Times New Roman;\"><span style=\"background-color:rgba(0, 0, 255, 1.0)\">hotel</span></span> <span style=\"font-size:20px; font-family:Times New Roman;\"><span style=\"background-color:rgba(255, 0, 0, 0.11764856229800866)\">name</span></span> <span style=\"font-size:20px; font-family:Times New Roman;\">They</span> <span style=\"font-size:20px; font-family:Times New Roman;\"><span style=\"background-color:rgba(255, 0, 0, 0.14935484227904297)\">offered</span></span> <span style=\"font-size:20px; font-family:Times New Roman;\">no</span> <span style=\"font-size:20px; font-family:Times New Roman;\"><span style=\"background-color:rgba(255, 0, 0, 0.0564283245068361)\">explanation</span></span> <span style=\"font-size:20px; font-family:Times New Roman;\">as</span> <span style=\"font-size:20px; font-family:Times New Roman;\">to</span> <span style=\"font-size:20px; font-family:Times New Roman;\">why</span> <span style=\"font-size:20px; font-family:Times New Roman;\"><span style=\"background-color:rgba(255, 0, 0, 0.01127286266051011)\">forcing</span></span> <span style=\"font-size:20px; font-family:Times New Roman;\">me</span> <span style=\"font-size:20px; font-family:Times New Roman;\">to</span> <span style=\"font-size:20px; font-family:Times New Roman;\">go</span> <span style=\"font-size:20px; font-family:Times New Roman;\"><span style=\"background-color:rgba(255, 0, 0, 0.41251795616525033)\">back</span></span> <span style=\"font-size:20px; font-family:Times New Roman;\">and</span> <span style=\"font-size:20px; font-family:Times New Roman;\"><span style=\"background-color:rgba(255, 0, 0, 0.02699439776185231)\">forward</span></span> <span style=\"font-size:20px; font-family:Times New Roman;\">on</span> <span style=\"font-size:20px; font-family:Times New Roman;\">the</span> <span style=\"font-size:20px; font-family:Times New Roman;\"><span style=\"background-color:rgba(255, 0, 0, 0.1884193930250434)\">phone</span></span> <span style=\"font-size:20px; font-family:Times New Roman;\">to</span> <span style=\"font-size:20px; font-family:Times New Roman;\"><span style=\"background-color:rgba(255, 0, 0, 0.8453403990909534)\">booking</span></span> <span style=\"font-size:20px; font-family:Times New Roman;\"><span style=\"background-color:rgba(255, 0, 0, 0.4803944837288697)\">com</span></span> <span style=\"font-size:20px; font-family:Times New Roman;\">and</span> <span style=\"font-size:20px; font-family:Times New Roman;\">the</span> <span style=\"font-size:20px; font-family:Times New Roman;\"><span style=\"background-color:rgba(0, 0, 255, 1.0)\">hotel</span></span> <span style=\"font-size:20px; font-family:Times New Roman;\">The</span> <span style=\"font-size:20px; font-family:Times New Roman;\"><span style=\"background-color:rgba(255, 0, 0, 0.12342320588036856)\">Hilton</span></span> <span style=\"font-size:20px; font-family:Times New Roman;\"><span style=\"background-color:rgba(255, 0, 0, 0.005887911519088955)\">Conrad</span></span> <span style=\"font-size:20px; font-family:Times New Roman;\">are</span> <span style=\"font-size:20px; font-family:Times New Roman;\">a</span> <span style=\"font-size:20px; font-family:Times New Roman;\"><span style=\"background-color:rgba(0, 0, 255, 0.07238645156073253)\">huge</span></span> <span style=\"font-size:20px; font-family:Times New Roman;\"><span style=\"background-color:rgba(255, 0, 0, 0.006317836338982056)\">corporation</span></span> <span style=\"font-size:20px; font-family:Times New Roman;\">and</span> <span style=\"font-size:20px; font-family:Times New Roman;\">they</span> <span style=\"font-size:20px; font-family:Times New Roman;\"><span style=\"background-color:rgba(255, 0, 0, 0.3483543937584948)\">could</span></span> <span style=\"font-size:20px; font-family:Times New Roman;\">have</span> <span style=\"font-size:20px; font-family:Times New Roman;\"><span style=\"background-color:rgba(255, 0, 0, 0.07613659457194719)\">refunded</span></span> <span style=\"font-size:20px; font-family:Times New Roman;\">me</span> <span style=\"font-size:20px; font-family:Times New Roman;\">my</span> <span style=\"font-size:20px; font-family:Times New Roman;\"><span style=\"background-color:rgba(255, 0, 0, 0.28175202075170946)\">money</span></span> <span style=\"font-size:20px; font-family:Times New Roman;\">but</span> <span style=\"font-size:20px; font-family:Times New Roman;\">they</span> <span style=\"font-size:20px; font-family:Times New Roman;\">were</span> <span style=\"font-size:20px; font-family:Times New Roman;\"><span style=\"background-color:rgba(255, 0, 0, 0.028984162803060196)\">uninterested</span></span> <span style=\"font-size:20px; font-family:Times New Roman;\">not</span> <span style=\"font-size:20px; font-family:Times New Roman;\">what</span> <span style=\"font-size:20px; font-family:Times New Roman;\">I</span> <span style=\"font-size:20px; font-family:Times New Roman;\"><span style=\"background-color:rgba(255, 0, 0, 0.4818501845043004)\">would</span></span> <span style=\"font-size:20px; font-family:Times New Roman;\"><span style=\"background-color:rgba(255, 0, 0, 0.09178498985676782)\">expect</span></span> <span style=\"font-size:20px; font-family:Times New Roman;\">from</span> <span style=\"font-size:20px; font-family:Times New Roman;\">this</span> <span style=\"font-size:20px; font-family:Times New Roman;\"><span style=\"background-color:rgba(255, 0, 0, 0.043406852584847826)\">type</span></span> <span style=\"font-size:20px; font-family:Times New Roman;\">of</span> <span style=\"font-size:20px; font-family:Times New Roman;\"><span style=\"background-color:rgba(0, 0, 255, 1.0)\">hotel</span></span> <span style=\"font-size:20px; font-family:Times New Roman;\"><span style=\"background-color:rgba(255, 0, 0, 0.014181358709657007)\">Thankfully</span></span> <span style=\"font-size:20px; font-family:Times New Roman;\"><span style=\"background-color:rgba(255, 0, 0, 0.8453403990909534)\">booking</span></span> <span style=\"font-size:20px; font-family:Times New Roman;\"><span style=\"background-color:rgba(255, 0, 0, 0.4803944837288697)\">com</span></span> <span style=\"font-size:20px; font-family:Times New Roman;\">were</span> <span style=\"font-size:20px; font-family:Times New Roman;\"><span style=\"background-color:rgba(0, 0, 255, 0.6038525123973663)\">helpful</span></span> <span style=\"font-size:20px; font-family:Times New Roman;\">and</span> <span style=\"font-size:20px; font-family:Times New Roman;\"><span style=\"background-color:rgba(255, 0, 0, 0.07613659457194719)\">refunded</span></span> <span style=\"font-size:20px; font-family:Times New Roman;\">me</span> <span style=\"font-size:20px; font-family:Times New Roman;\">the</span> <span style=\"font-size:20px; font-family:Times New Roman;\"><span style=\"background-color:rgba(255, 0, 0, 0.04887045473198939)\">difference</span></span>"
      ],
      "text/plain": [
       "<IPython.core.display.HTML object>"
      ]
     },
     "metadata": {},
     "output_type": "display_data"
    },
    {
     "name": "stdout",
     "output_type": "stream",
     "text": [
      "\n",
      " I didn t like the fact that hotel staff charged my credit card before I actually arrived to the desk I didn t had that card with me and there was a problem First of all I want to have a full control over MY cards and hand permissions myself I wasn t late This never happened to me before hotels usually wait for customer arrival And I DO ALWAYS USE different cards for safety reasons But thankfully it was sorted smoothly Paris some tourist areas is being close between 14 18 on Sunday for car traffic Which blocks all town Avoid those hours to drive \n"
     ]
    },
    {
     "data": {
      "text/html": [
       "<span style=\"font-size:16px; font-family:Times New Roman;\">\n",
       " <span style=\"background-color: rgba(255, 0, 0, 1);\">Number 1 Topic is 6</span> with  probability 1.0, Title is: Hotel Booking Reception</span>"
      ],
      "text/plain": [
       "<IPython.core.display.HTML object>"
      ]
     },
     "metadata": {},
     "output_type": "display_data"
    },
    {
     "data": {
      "text/html": [
       "<span style=\"font-size:16px; font-family:Times New Roman;\">\n",
       " <span style=\"background-color: rgba(0, 0, 255, 1);\">Number 2 Topic is 0</span> with  probability 6.4855891569482985e-307, Title is: Hospitality Excellence</span>"
      ],
      "text/plain": [
       "<IPython.core.display.HTML object>"
      ]
     },
     "metadata": {},
     "output_type": "display_data"
    },
    {
     "name": "stdout",
     "output_type": "stream",
     "text": [
      "{6: {'hotel': 0.02713918418622058, 'card': 0.01966667910170656, 'staff': 0.01725300571849266, 'like': 0.0121462712069092, 'charged': 0.011749574136941651, 'first': 0.011522381394251248, 'arrived': 0.011267835811585093, 'never': 0.010629677859164455, 'credit': 0.010183487992924732, 'arrival': 0.009825541562991775, 'desk': 0.009030232180678123, 'problem': 0.007427790873422262, 'late': 0.006575225185500374, 'customer': 0.006353725462855512, 'wait': 0.005900355621512476, 'hotels': 0.005351713565380234, 'use': 0.005094963122302052, 'full': 0.004730550327238823, 'different': 0.004722648764938955, 'hours': 0.004583752018908746, 'fact': 0.004442623569535382, 'want': 0.004386448971809258, 'happened': 0.0043300114557566225, 'actually': 0.0038473143864913005, 'always': 0.0030790680787119154, 'car': 0.0025791504136437045, 'sorted': 0.0022340239324463965, 'avoid': 0.001978292989071579, 'cards': 0.0019541763015282904, 'close': 0.001768483372036851, 'sunday': 0.0014812243942333373, 'hand': 0.0014696164114688147, 'safety': 0.0012422049813597682, 'town': 0.0011453549799196236, 'paris': 0.0010541818670098172, 'reasons': 0.0009260835614844628, 'usually': 0.0008320981141830685, 'control': 0.0008157858170435309, 'areas': 0.0007388221703492556, 'traffic': 0.0007090387575223883, 'tourist': 0.0006858378990160986, 'drive': 0.0006460765396137267, 'smoothly': 0.0004649503864839742, 'thankfully': 0.0004435565888961265, 'permissions': 0.00036831759249568723, 'blocks': 0.00012979375142696127}, 0: {'hotel': 0.048535853840198054, 'staff': 0.04179384363660856, 'close': 0.016550970705302582, 'paris': 0.009270255310608464, 'like': 0.007556751346144966, 'hotels': 0.00578109527760408, 'always': 0.00547322629832339, 'desk': 0.004112464442315413, 'want': 0.0036765838690124455, 'first': 0.0035737584065294752, 'use': 0.003501783117090669, 'tourist': 0.0032001836479324474, 'town': 0.002939383279476522, 'arrival': 0.00293706664543588, 'areas': 0.0024562819072369937, 'arrived': 0.002396356345691846, 'customer': 0.002233683809743041, 'car': 0.002135163258730852, 'problem': 0.002051233058510662, 'never': 0.0016408714552326135, 'different': 0.0016103464553200825, 'full': 0.0013553712753903832, 'late': 0.0013095384194806317, 'actually': 0.0011822001370939267, 'hours': 0.0011105419188972272, 'blocks': 0.001090133564694005, 'fact': 0.0010153320596393836, 'traffic': 0.0009925323057366762, 'wait': 0.0009177203342091436, 'credit': 0.0007602736868435249, 'card': 0.0005759407546029914, 'drive': 0.000542637618106458, 'control': 0.0004758165952302964, 'usually': 0.0004437311386019057, 'sorted': 0.00043891217584618924, 'hand': 0.00039184956224142664, 'avoid': 0.00032579646093504875, 'reasons': 0.00030865659512809587, 'sunday': 0.0002962084830089549, 'safety': 0.00023184977525626357, 'cards': 0.00022795922528849453, 'charged': 0.00020456943859253066, 'smoothly': 0.00014463345989486847, 'thankfully': 6.898921473788664e-05, 'happened': 5.180573739576855e-05}}\n"
     ]
    },
    {
     "data": {
      "text/html": [
       "<span style=\"font-size:20px; font-family:Times New Roman;\">I</span> <span style=\"font-size:20px; font-family:Times New Roman;\">didn</span> <span style=\"font-size:20px; font-family:Times New Roman;\">t</span> <span style=\"font-size:20px; font-family:Times New Roman;\"><span style=\"background-color:rgba(255, 0, 0, 0.3883396916696375)\">like</span></span> <span style=\"font-size:20px; font-family:Times New Roman;\">the</span> <span style=\"font-size:20px; font-family:Times New Roman;\"><span style=\"background-color:rgba(255, 0, 0, 0.1420392347419558)\">fact</span></span> <span style=\"font-size:20px; font-family:Times New Roman;\">that</span> <span style=\"font-size:20px; font-family:Times New Roman;\"><span style=\"background-color:rgba(0, 0, 255, 1.0)\">hotel</span></span> <span style=\"font-size:20px; font-family:Times New Roman;\"><span style=\"background-color:rgba(0, 0, 255, 0.8610921685690905)\">staff</span></span> <span style=\"font-size:20px; font-family:Times New Roman;\"><span style=\"background-color:rgba(255, 0, 0, 0.3756565220603655)\">charged</span></span> <span style=\"font-size:20px; font-family:Times New Roman;\">my</span> <span style=\"font-size:20px; font-family:Times New Roman;\"><span style=\"background-color:rgba(255, 0, 0, 0.325585730791546)\">credit</span></span> <span style=\"font-size:20px; font-family:Times New Roman;\"><span style=\"background-color:rgba(255, 0, 0, 0.6287816209947668)\">card</span></span> <span style=\"font-size:20px; font-family:Times New Roman;\">before</span> <span style=\"font-size:20px; font-family:Times New Roman;\">I</span> <span style=\"font-size:20px; font-family:Times New Roman;\"><span style=\"background-color:rgba(255, 0, 0, 0.12300605322860884)\">actually</span></span> <span style=\"font-size:20px; font-family:Times New Roman;\"><span style=\"background-color:rgba(255, 0, 0, 0.36025441967457345)\">arrived</span></span> <span style=\"font-size:20px; font-family:Times New Roman;\">to</span> <span style=\"font-size:20px; font-family:Times New Roman;\">the</span> <span style=\"font-size:20px; font-family:Times New Roman;\"><span style=\"background-color:rgba(255, 0, 0, 0.28871392059441237)\">desk</span></span> <span style=\"font-size:20px; font-family:Times New Roman;\">I</span> <span style=\"font-size:20px; font-family:Times New Roman;\">didn</span> <span style=\"font-size:20px; font-family:Times New Roman;\">t</span> <span style=\"font-size:20px; font-family:Times New Roman;\">had</span> <span style=\"font-size:20px; font-family:Times New Roman;\">that</span> <span style=\"font-size:20px; font-family:Times New Roman;\"><span style=\"background-color:rgba(255, 0, 0, 0.6287816209947668)\">card</span></span> <span style=\"font-size:20px; font-family:Times New Roman;\">with</span> <span style=\"font-size:20px; font-family:Times New Roman;\">me</span> <span style=\"font-size:20px; font-family:Times New Roman;\">and</span> <span style=\"font-size:20px; font-family:Times New Roman;\">there</span> <span style=\"font-size:20px; font-family:Times New Roman;\">was</span> <span style=\"font-size:20px; font-family:Times New Roman;\">a</span> <span style=\"font-size:20px; font-family:Times New Roman;\"><span style=\"background-color:rgba(255, 0, 0, 0.2374807847144518)\">problem</span></span> <span style=\"font-size:20px; font-family:Times New Roman;\"><span style=\"background-color:rgba(255, 0, 0, 0.3683927323636737)\">First</span></span> <span style=\"font-size:20px; font-family:Times New Roman;\">of</span> <span style=\"font-size:20px; font-family:Times New Roman;\">all</span> <span style=\"font-size:20px; font-family:Times New Roman;\">I</span> <span style=\"font-size:20px; font-family:Times New Roman;\"><span style=\"background-color:rgba(255, 0, 0, 0.14024322462584543)\">want</span></span> <span style=\"font-size:20px; font-family:Times New Roman;\">to</span> <span style=\"font-size:20px; font-family:Times New Roman;\">have</span> <span style=\"font-size:20px; font-family:Times New Roman;\">a</span> <span style=\"font-size:20px; font-family:Times New Roman;\"><span style=\"background-color:rgba(255, 0, 0, 0.1512448079096609)\">full</span></span> <span style=\"font-size:20px; font-family:Times New Roman;\"><span style=\"background-color:rgba(255, 0, 0, 0.026082244275835092)\">control</span></span> <span style=\"font-size:20px; font-family:Times New Roman;\">over</span> <span style=\"font-size:20px; font-family:Times New Roman;\">MY</span> <span style=\"font-size:20px; font-family:Times New Roman;\"><span style=\"background-color:rgba(255, 0, 0, 0.06247878130466331)\">cards</span></span> <span style=\"font-size:20px; font-family:Times New Roman;\">and</span> <span style=\"font-size:20px; font-family:Times New Roman;\"><span style=\"background-color:rgba(255, 0, 0, 0.04698646805925095)\">hand</span></span> <span style=\"font-size:20px; font-family:Times New Roman;\"><span style=\"background-color:rgba(255, 0, 0, 0.01177582303817791)\">permissions</span></span> <span style=\"font-size:20px; font-family:Times New Roman;\">myself</span> <span style=\"font-size:20px; font-family:Times New Roman;\">I</span> <span style=\"font-size:20px; font-family:Times New Roman;\">wasn</span> <span style=\"font-size:20px; font-family:Times New Roman;\">t</span> <span style=\"font-size:20px; font-family:Times New Roman;\"><span style=\"background-color:rgba(255, 0, 0, 0.21022261710599546)\">late</span></span> <span style=\"font-size:20px; font-family:Times New Roman;\">This</span> <span style=\"font-size:20px; font-family:Times New Roman;\"><span style=\"background-color:rgba(255, 0, 0, 0.3398512804511887)\">never</span></span> <span style=\"font-size:20px; font-family:Times New Roman;\"><span style=\"background-color:rgba(255, 0, 0, 0.1384388085042942)\">happened</span></span> <span style=\"font-size:20px; font-family:Times New Roman;\">to</span> <span style=\"font-size:20px; font-family:Times New Roman;\">me</span> <span style=\"font-size:20px; font-family:Times New Roman;\">before</span> <span style=\"font-size:20px; font-family:Times New Roman;\"><span style=\"background-color:rgba(0, 0, 255, 0.11910978833581576)\">hotels</span></span> <span style=\"font-size:20px; font-family:Times New Roman;\"><span style=\"background-color:rgba(255, 0, 0, 0.026603779842897694)\">usually</span></span> <span style=\"font-size:20px; font-family:Times New Roman;\"><span style=\"background-color:rgba(255, 0, 0, 0.18864573693167466)\">wait</span></span> <span style=\"font-size:20px; font-family:Times New Roman;\">for</span> <span style=\"font-size:20px; font-family:Times New Roman;\"><span style=\"background-color:rgba(255, 0, 0, 0.20314084422841583)\">customer</span></span> <span style=\"font-size:20px; font-family:Times New Roman;\"><span style=\"background-color:rgba(255, 0, 0, 0.31414149380173295)\">arrival</span></span> <span style=\"font-size:20px; font-family:Times New Roman;\">And</span> <span style=\"font-size:20px; font-family:Times New Roman;\">I</span> <span style=\"font-size:20px; font-family:Times New Roman;\">DO</span> <span style=\"font-size:20px; font-family:Times New Roman;\"><span style=\"background-color:rgba(0, 0, 255, 0.11276666351319835)\">ALWAYS</span></span> <span style=\"font-size:20px; font-family:Times New Roman;\"><span style=\"background-color:rgba(255, 0, 0, 0.16289578705088298)\">USE</span></span> <span style=\"font-size:20px; font-family:Times New Roman;\"><span style=\"background-color:rgba(255, 0, 0, 0.150992179739668)\">different</span></span> <span style=\"font-size:20px; font-family:Times New Roman;\"><span style=\"background-color:rgba(255, 0, 0, 0.06247878130466331)\">cards</span></span> <span style=\"font-size:20px; font-family:Times New Roman;\">for</span> <span style=\"font-size:20px; font-family:Times New Roman;\"><span style=\"background-color:rgba(255, 0, 0, 0.039715686504458794)\">safety</span></span> <span style=\"font-size:20px; font-family:Times New Roman;\"><span style=\"background-color:rgba(255, 0, 0, 0.029608675666868346)\">reasons</span></span> <span style=\"font-size:20px; font-family:Times New Roman;\">But</span> <span style=\"font-size:20px; font-family:Times New Roman;\"><span style=\"background-color:rgba(255, 0, 0, 0.014181358709657007)\">thankfully</span></span> <span style=\"font-size:20px; font-family:Times New Roman;\">it</span> <span style=\"font-size:20px; font-family:Times New Roman;\">was</span> <span style=\"font-size:20px; font-family:Times New Roman;\"><span style=\"background-color:rgba(255, 0, 0, 0.07142604922367679)\">sorted</span></span> <span style=\"font-size:20px; font-family:Times New Roman;\"><span style=\"background-color:rgba(255, 0, 0, 0.014865359636145584)\">smoothly</span></span> <span style=\"font-size:20px; font-family:Times New Roman;\"><span style=\"background-color:rgba(0, 0, 255, 0.19099808857036554)\">Paris</span></span> <span style=\"font-size:20px; font-family:Times New Roman;\">some</span> <span style=\"font-size:20px; font-family:Times New Roman;\"><span style=\"background-color:rgba(0, 0, 255, 0.06593442568186597)\">tourist</span></span> <span style=\"font-size:20px; font-family:Times New Roman;\"><span style=\"background-color:rgba(0, 0, 255, 0.050607575903046494)\">areas</span></span> <span style=\"font-size:20px; font-family:Times New Roman;\">is</span> <span style=\"font-size:20px; font-family:Times New Roman;\">being</span> <span style=\"font-size:20px; font-family:Times New Roman;\"><span style=\"background-color:rgba(0, 0, 255, 0.3410050384566397)\">close</span></span> <span style=\"font-size:20px; font-family:Times New Roman;\">between</span> <span style=\"font-size:20px; font-family:Times New Roman;\">14</span> <span style=\"font-size:20px; font-family:Times New Roman;\">18</span> <span style=\"font-size:20px; font-family:Times New Roman;\">on</span> <span style=\"font-size:20px; font-family:Times New Roman;\"><span style=\"background-color:rgba(255, 0, 0, 0.047357597632343054)\">Sunday</span></span> <span style=\"font-size:20px; font-family:Times New Roman;\">for</span> <span style=\"font-size:20px; font-family:Times New Roman;\"><span style=\"background-color:rgba(255, 0, 0, 0.0824604077533094)\">car</span></span> <span style=\"font-size:20px; font-family:Times New Roman;\"><span style=\"background-color:rgba(0, 0, 255, 0.020449466264764616)\">traffic</span></span> <span style=\"font-size:20px; font-family:Times New Roman;\">Which</span> <span style=\"font-size:20px; font-family:Times New Roman;\"><span style=\"background-color:rgba(0, 0, 255, 0.02246037678214577)\">blocks</span></span> <span style=\"font-size:20px; font-family:Times New Roman;\">all</span> <span style=\"font-size:20px; font-family:Times New Roman;\"><span style=\"background-color:rgba(0, 0, 255, 0.06056107077366557)\">town</span></span> <span style=\"font-size:20px; font-family:Times New Roman;\"><span style=\"background-color:rgba(255, 0, 0, 0.06324983826898717)\">Avoid</span></span> <span style=\"font-size:20px; font-family:Times New Roman;\">those</span> <span style=\"font-size:20px; font-family:Times New Roman;\"><span style=\"background-color:rgba(255, 0, 0, 0.14655138316856847)\">hours</span></span> <span style=\"font-size:20px; font-family:Times New Roman;\">to</span> <span style=\"font-size:20px; font-family:Times New Roman;\"><span style=\"background-color:rgba(255, 0, 0, 0.020656311712014333)\">drive</span></span>"
      ],
      "text/plain": [
       "<IPython.core.display.HTML object>"
      ]
     },
     "metadata": {},
     "output_type": "display_data"
    },
    {
     "name": "stdout",
     "output_type": "stream",
     "text": [
      "\n",
      " Paying for room on arrival Payment on check in at this hotel is policy and in my opinion is not acceptable for a 4 star internationally positioned hotel The front office staff are invested with insufficient authority to be able to waive this condition if you don t like it and if you put your foot down they just call the hotel manager Escalating this request just makes for a fretful confrontational check in and taints the hospitality policy of the hotel A big negative \n"
     ]
    },
    {
     "data": {
      "text/html": [
       "<span style=\"font-size:16px; font-family:Times New Roman;\">\n",
       " <span style=\"background-color: rgba(255, 0, 0, 1);\">Number 1 Topic is 6</span> with  probability 0.4517098375533034, Title is: Hotel Booking Reception</span>"
      ],
      "text/plain": [
       "<IPython.core.display.HTML object>"
      ]
     },
     "metadata": {},
     "output_type": "display_data"
    },
    {
     "data": {
      "text/html": [
       "<span style=\"font-size:16px; font-family:Times New Roman;\">\n",
       " <span style=\"background-color: rgba(0, 0, 255, 1);\">Number 2 Topic is 0</span> with  probability 0.12899735711458488, Title is: Hospitality Excellence</span>"
      ],
      "text/plain": [
       "<IPython.core.display.HTML object>"
      ]
     },
     "metadata": {},
     "output_type": "display_data"
    },
    {
     "name": "stdout",
     "output_type": "stream",
     "text": [
      "{6: {'room': 0.0312774394878031, 'hotel': 0.02713918418622058, 'check': 0.020652730107501835, 'staff': 0.01725300571849266, 'like': 0.0121462712069092, 'arrival': 0.009825541562991775, 'manager': 0.009711268145107643, 'star': 0.008902522029879968, 'payment': 0.00813398123000072, 'front': 0.008074008902921788, 'put': 0.007714823182920457, 'call': 0.007668433473020271, 'request': 0.00465184244020941, 'paying': 0.00456590498077003, 'able': 0.0033511592046115844, 'big': 0.003291152954393267, 'policy': 0.0017860781522478536, 'condition': 0.001721209659648282, 'negative': 0.0012954104901799046, 'makes': 0.0011247824339536423, 'foot': 0.000999233412866913, 'hospitality': 0.000993333619553135, 'office': 0.0009381641280177893, 'acceptable': 0.0009263396906861913, 'opinion': 0.0007328161130731088, 'insufficient': 0.00041849921758641874, 'positioned': 0.0004103712757643671, 'invested': 0.00036831759249568723, 'authority': 0.00035258627971842003, 'internationally': 0.00019760574378635475, 'waive': 0.00019760574378635475, 'escalating': 0.00019760574378635475, 'fretful': 0.00019760574378635475, 'confrontational': 0.00019760574378635475, 'taints': 0.00019760574378635475}, 0: {'hotel': 0.048535853840198054, 'staff': 0.04179384363660856, 'room': 0.02927797724444089, 'big': 0.009003316138017758, 'like': 0.007556751346144966, 'front': 0.005906529352042416, 'check': 0.0055180332459649605, 'arrival': 0.00293706664543588, 'star': 0.002457783255712778, 'able': 0.002165098378369056, 'manager': 0.0015241875373971066, 'hospitality': 0.00139049621381198, 'foot': 0.001036114747915371, 'request': 0.0009550609637875136, 'makes': 0.0009542436028804936, 'put': 0.0007422285570518481, 'negative': 0.0007051923959939513, 'office': 0.0006019146901281381, 'acceptable': 0.0004862685886373075, 'condition': 0.00045176202658771974, 'call': 0.000441748472851137, 'positioned': 0.00038296613475758903, 'opinion': 0.00034193883793274177, 'paying': 0.0003242055902620489, 'policy': 5.9528623985272235e-05, 'payment': 4.993936261296828e-05}}\n"
     ]
    },
    {
     "data": {
      "text/html": [
       "<span style=\"font-size:20px; font-family:Times New Roman;\"><span style=\"background-color:rgba(255, 0, 0, 0.14598077897490755)\">Paying</span></span> <span style=\"font-size:20px; font-family:Times New Roman;\">for</span> <span style=\"font-size:20px; font-family:Times New Roman;\"><span style=\"background-color:rgba(255, 0, 0, 1.0)\">room</span></span> <span style=\"font-size:20px; font-family:Times New Roman;\">on</span> <span style=\"font-size:20px; font-family:Times New Roman;\"><span style=\"background-color:rgba(255, 0, 0, 0.31414149380173295)\">arrival</span></span> <span style=\"font-size:20px; font-family:Times New Roman;\"><span style=\"background-color:rgba(255, 0, 0, 0.2600590509709925)\">Payment</span></span> <span style=\"font-size:20px; font-family:Times New Roman;\">on</span> <span style=\"font-size:20px; font-family:Times New Roman;\"><span style=\"background-color:rgba(255, 0, 0, 0.660307571390412)\">check</span></span> <span style=\"font-size:20px; font-family:Times New Roman;\">in</span> <span style=\"font-size:20px; font-family:Times New Roman;\">at</span> <span style=\"font-size:20px; font-family:Times New Roman;\">this</span> <span style=\"font-size:20px; font-family:Times New Roman;\"><span style=\"background-color:rgba(0, 0, 255, 1.0)\">hotel</span></span> <span style=\"font-size:20px; font-family:Times New Roman;\">is</span> <span style=\"font-size:20px; font-family:Times New Roman;\"><span style=\"background-color:rgba(255, 0, 0, 0.05710435961180101)\">policy</span></span> <span style=\"font-size:20px; font-family:Times New Roman;\">and</span> <span style=\"font-size:20px; font-family:Times New Roman;\">in</span> <span style=\"font-size:20px; font-family:Times New Roman;\">my</span> <span style=\"font-size:20px; font-family:Times New Roman;\"><span style=\"background-color:rgba(255, 0, 0, 0.02342954298924874)\">opinion</span></span> <span style=\"font-size:20px; font-family:Times New Roman;\">is</span> <span style=\"font-size:20px; font-family:Times New Roman;\">not</span> <span style=\"font-size:20px; font-family:Times New Roman;\"><span style=\"background-color:rgba(255, 0, 0, 0.029616864610909892)\">acceptable</span></span> <span style=\"font-size:20px; font-family:Times New Roman;\">for</span> <span style=\"font-size:20px; font-family:Times New Roman;\">a</span> <span style=\"font-size:20px; font-family:Times New Roman;\">4</span> <span style=\"font-size:20px; font-family:Times New Roman;\"><span style=\"background-color:rgba(255, 0, 0, 0.2846307810251405)\">star</span></span> <span style=\"font-size:20px; font-family:Times New Roman;\"><span style=\"background-color:rgba(255, 0, 0, 0.006317836338982056)\">internationally</span></span> <span style=\"font-size:20px; font-family:Times New Roman;\"><span style=\"background-color:rgba(255, 0, 0, 0.013120360313522301)\">positioned</span></span> <span style=\"font-size:20px; font-family:Times New Roman;\"><span style=\"background-color:rgba(0, 0, 255, 1.0)\">hotel</span></span> <span style=\"font-size:20px; font-family:Times New Roman;\">The</span> <span style=\"font-size:20px; font-family:Times New Roman;\"><span style=\"background-color:rgba(255, 0, 0, 0.2581416201307116)\">front</span></span> <span style=\"font-size:20px; font-family:Times New Roman;\"><span style=\"background-color:rgba(255, 0, 0, 0.029994914653535956)\">office</span></span> <span style=\"font-size:20px; font-family:Times New Roman;\"><span style=\"background-color:rgba(0, 0, 255, 0.8610921685690905)\">staff</span></span> <span style=\"font-size:20px; font-family:Times New Roman;\">are</span> <span style=\"font-size:20px; font-family:Times New Roman;\"><span style=\"background-color:rgba(255, 0, 0, 0.01177582303817791)\">invested</span></span> <span style=\"font-size:20px; font-family:Times New Roman;\">with</span> <span style=\"font-size:20px; font-family:Times New Roman;\"><span style=\"background-color:rgba(255, 0, 0, 0.01338022627298555)\">insufficient</span></span> <span style=\"font-size:20px; font-family:Times New Roman;\"><span style=\"background-color:rgba(255, 0, 0, 0.01127286266051011)\">authority</span></span> <span style=\"font-size:20px; font-family:Times New Roman;\">to</span> <span style=\"font-size:20px; font-family:Times New Roman;\">be</span> <span style=\"font-size:20px; font-family:Times New Roman;\"><span style=\"background-color:rgba(255, 0, 0, 0.10714301616404363)\">able</span></span> <span style=\"font-size:20px; font-family:Times New Roman;\">to</span> <span style=\"font-size:20px; font-family:Times New Roman;\"><span style=\"background-color:rgba(255, 0, 0, 0.006317836338982056)\">waive</span></span> <span style=\"font-size:20px; font-family:Times New Roman;\">this</span> <span style=\"font-size:20px; font-family:Times New Roman;\"><span style=\"background-color:rgba(255, 0, 0, 0.0550303889268008)\">condition</span></span> <span style=\"font-size:20px; font-family:Times New Roman;\">if</span> <span style=\"font-size:20px; font-family:Times New Roman;\">you</span> <span style=\"font-size:20px; font-family:Times New Roman;\">don</span> <span style=\"font-size:20px; font-family:Times New Roman;\">t</span> <span style=\"font-size:20px; font-family:Times New Roman;\"><span style=\"background-color:rgba(255, 0, 0, 0.3883396916696375)\">like</span></span> <span style=\"font-size:20px; font-family:Times New Roman;\">it</span> <span style=\"font-size:20px; font-family:Times New Roman;\">and</span> <span style=\"font-size:20px; font-family:Times New Roman;\">if</span> <span style=\"font-size:20px; font-family:Times New Roman;\">you</span> <span style=\"font-size:20px; font-family:Times New Roman;\"><span style=\"background-color:rgba(255, 0, 0, 0.24665776064977818)\">put</span></span> <span style=\"font-size:20px; font-family:Times New Roman;\">your</span> <span style=\"font-size:20px; font-family:Times New Roman;\"><span style=\"background-color:rgba(0, 0, 255, 0.021347409511466072)\">foot</span></span> <span style=\"font-size:20px; font-family:Times New Roman;\">down</span> <span style=\"font-size:20px; font-family:Times New Roman;\">they</span> <span style=\"font-size:20px; font-family:Times New Roman;\">just</span> <span style=\"font-size:20px; font-family:Times New Roman;\"><span style=\"background-color:rgba(255, 0, 0, 0.24517459224917182)\">call</span></span> <span style=\"font-size:20px; font-family:Times New Roman;\">the</span> <span style=\"font-size:20px; font-family:Times New Roman;\"><span style=\"background-color:rgba(0, 0, 255, 1.0)\">hotel</span></span> <span style=\"font-size:20px; font-family:Times New Roman;\"><span style=\"background-color:rgba(255, 0, 0, 0.31048795247112965)\">manager</span></span> <span style=\"font-size:20px; font-family:Times New Roman;\"><span style=\"background-color:rgba(255, 0, 0, 0.006317836338982056)\">Escalating</span></span> <span style=\"font-size:20px; font-family:Times New Roman;\">this</span> <span style=\"font-size:20px; font-family:Times New Roman;\"><span style=\"background-color:rgba(255, 0, 0, 0.14872836512155782)\">request</span></span> <span style=\"font-size:20px; font-family:Times New Roman;\">just</span> <span style=\"font-size:20px; font-family:Times New Roman;\"><span style=\"background-color:rgba(255, 0, 0, 0.035961461435878105)\">makes</span></span> <span style=\"font-size:20px; font-family:Times New Roman;\">for</span> <span style=\"font-size:20px; font-family:Times New Roman;\">a</span> <span style=\"font-size:20px; font-family:Times New Roman;\"><span style=\"background-color:rgba(255, 0, 0, 0.006317836338982056)\">fretful</span></span> <span style=\"font-size:20px; font-family:Times New Roman;\"><span style=\"background-color:rgba(255, 0, 0, 0.006317836338982056)\">confrontational</span></span> <span style=\"font-size:20px; font-family:Times New Roman;\"><span style=\"background-color:rgba(255, 0, 0, 0.660307571390412)\">check</span></span> <span style=\"font-size:20px; font-family:Times New Roman;\">in</span> <span style=\"font-size:20px; font-family:Times New Roman;\">and</span> <span style=\"font-size:20px; font-family:Times New Roman;\"><span style=\"background-color:rgba(255, 0, 0, 0.006317836338982056)\">taints</span></span> <span style=\"font-size:20px; font-family:Times New Roman;\">the</span> <span style=\"font-size:20px; font-family:Times New Roman;\"><span style=\"background-color:rgba(0, 0, 255, 0.028648846240350925)\">hospitality</span></span> <span style=\"font-size:20px; font-family:Times New Roman;\"><span style=\"background-color:rgba(255, 0, 0, 0.05710435961180101)\">policy</span></span> <span style=\"font-size:20px; font-family:Times New Roman;\">of</span> <span style=\"font-size:20px; font-family:Times New Roman;\">the</span> <span style=\"font-size:20px; font-family:Times New Roman;\"><span style=\"background-color:rgba(0, 0, 255, 1.0)\">hotel</span></span> <span style=\"font-size:20px; font-family:Times New Roman;\">A</span> <span style=\"font-size:20px; font-family:Times New Roman;\"><span style=\"background-color:rgba(0, 0, 255, 0.1854982538817745)\">big</span></span> <span style=\"font-size:20px; font-family:Times New Roman;\"><span style=\"background-color:rgba(255, 0, 0, 0.041416769127954375)\">negative</span></span>"
      ],
      "text/plain": [
       "<IPython.core.display.HTML object>"
      ]
     },
     "metadata": {},
     "output_type": "display_data"
    },
    {
     "name": "stdout",
     "output_type": "stream",
     "text": [
      "\n",
      " There wasn t enough toilet roll in room which meant for an embarrassing visit to reception \n"
     ]
    },
    {
     "data": {
      "text/html": [
       "<span style=\"font-size:16px; font-family:Times New Roman;\">\n",
       " <span style=\"background-color: rgba(255, 0, 0, 1);\">Number 1 Topic is 1</span> with  probability 0.35650000600547327, Title is: Bathroom and spa</span>"
      ],
      "text/plain": [
       "<IPython.core.display.HTML object>"
      ]
     },
     "metadata": {},
     "output_type": "display_data"
    },
    {
     "data": {
      "text/html": [
       "<span style=\"font-size:16px; font-family:Times New Roman;\">\n",
       " <span style=\"background-color: rgba(0, 0, 255, 1);\">Number 2 Topic is 0</span> with  probability 0.14644377428836325, Title is: Hospitality Excellence</span>"
      ],
      "text/plain": [
       "<IPython.core.display.HTML object>"
      ]
     },
     "metadata": {},
     "output_type": "display_data"
    },
    {
     "name": "stdout",
     "output_type": "stream",
     "text": [
      "{1: {'room': 0.0345227160801766, 'toilet': 0.028259102674370883, 'enough': 0.007147457250394081, 'reception': 0.00397363096008171, 'roll': 0.0025738750897848794, 'meant': 0.002480848838935437, 'visit': 0.0016137678590208186, 'embarrassing': 0.0006078414523073941}, 0: {'room': 0.02927797724444089, 'reception': 0.006982262286465954, 'visit': 0.005507228691260991, 'enough': 0.004712334018505235, 'toilet': 0.0011151414358305028, 'meant': 0.00029254095845718557, 'roll': 6.142476152025564e-05}}\n"
     ]
    },
    {
     "data": {
      "text/html": [
       "<span style=\"font-size:20px; font-family:Times New Roman;\">There</span> <span style=\"font-size:20px; font-family:Times New Roman;\">wasn</span> <span style=\"font-size:20px; font-family:Times New Roman;\">t</span> <span style=\"font-size:20px; font-family:Times New Roman;\"><span style=\"background-color:rgba(255, 0, 0, 0.08901894532554817)\">enough</span></span> <span style=\"font-size:20px; font-family:Times New Roman;\"><span style=\"background-color:rgba(255, 0, 0, 0.35195670681068775)\">toilet</span></span> <span style=\"font-size:20px; font-family:Times New Roman;\"><span style=\"background-color:rgba(255, 0, 0, 0.032056665449760845)\">roll</span></span> <span style=\"font-size:20px; font-family:Times New Roman;\">in</span> <span style=\"font-size:20px; font-family:Times New Roman;\"><span style=\"background-color:rgba(255, 0, 0, 0.4299677028584147)\">room</span></span> <span style=\"font-size:20px; font-family:Times New Roman;\">which</span> <span style=\"font-size:20px; font-family:Times New Roman;\"><span style=\"background-color:rgba(255, 0, 0, 0.030898057787189563)\">meant</span></span> <span style=\"font-size:20px; font-family:Times New Roman;\">for</span> <span style=\"font-size:20px; font-family:Times New Roman;\">an</span> <span style=\"font-size:20px; font-family:Times New Roman;\"><span style=\"background-color:rgba(255, 0, 0, 0.00757044122321548)\">embarrassing</span></span> <span style=\"font-size:20px; font-family:Times New Roman;\"><span style=\"background-color:rgba(0, 0, 255, 0.11346722588611038)\">visit</span></span> <span style=\"font-size:20px; font-family:Times New Roman;\">to</span> <span style=\"font-size:20px; font-family:Times New Roman;\"><span style=\"background-color:rgba(0, 0, 255, 0.14385782332077054)\">reception</span></span>"
      ],
      "text/plain": [
       "<IPython.core.display.HTML object>"
      ]
     },
     "metadata": {},
     "output_type": "display_data"
    },
    {
     "name": "stdout",
     "output_type": "stream",
     "text": [
      "\n",
      " Very noisy but was weekend so you ve got to expect that Bathroom was lovely but we had a room for 3 and ran out of loo roll which wasn t replaced \n"
     ]
    },
    {
     "data": {
      "text/html": [
       "<span style=\"font-size:16px; font-family:Times New Roman;\">\n",
       " <span style=\"background-color: rgba(255, 0, 0, 1);\">Number 1 Topic is 1</span> with  probability 0.21972258084102056, Title is: Bathroom and spa</span>"
      ],
      "text/plain": [
       "<IPython.core.display.HTML object>"
      ]
     },
     "metadata": {},
     "output_type": "display_data"
    },
    {
     "data": {
      "text/html": [
       "<span style=\"font-size:16px; font-family:Times New Roman;\">\n",
       " <span style=\"background-color: rgba(0, 0, 255, 1);\">Number 2 Topic is 0</span> with  probability 0.18467020732536718, Title is: Hospitality Excellence</span>"
      ],
      "text/plain": [
       "<IPython.core.display.HTML object>"
      ]
     },
     "metadata": {},
     "output_type": "display_data"
    },
    {
     "name": "stdout",
     "output_type": "stream",
     "text": [
      "{1: {'bathroom': 0.06980398269448072, 'room': 0.0345227160801766, 'lovely': 0.006687049384396024, 'noisy': 0.006619218810379782, 'got': 0.006314339778188002, 'replaced': 0.003505195145343487, 'roll': 0.0025738750897848794, 'loo': 0.0023378896871893537, 'expect': 0.0023280003516101032, 'ran': 0.0013517367385220533, 'weekend': 0.0011749450561457677}, 0: {'room': 0.02927797724444089, 'lovely': 0.01777938640361986, 'bathroom': 0.009778721751555348, 'got': 0.003857659800295999, 'weekend': 0.0016138412829859216, 'expect': 0.0010802756652040877, 'noisy': 0.0008293198364912641, 'replaced': 0.00015275297180006897, 'ran': 0.00011290577967825424, 'roll': 6.142476152025564e-05}}\n"
     ]
    },
    {
     "data": {
      "text/html": [
       "<span style=\"font-size:20px; font-family:Times New Roman;\">Very</span> <span style=\"font-size:20px; font-family:Times New Roman;\"><span style=\"background-color:rgba(255, 0, 0, 0.08243993027681976)\">noisy</span></span> <span style=\"font-size:20px; font-family:Times New Roman;\">but</span> <span style=\"font-size:20px; font-family:Times New Roman;\">was</span> <span style=\"font-size:20px; font-family:Times New Roman;\"><span style=\"background-color:rgba(0, 0, 255, 0.03325049742195565)\">weekend</span></span> <span style=\"font-size:20px; font-family:Times New Roman;\">so</span> <span style=\"font-size:20px; font-family:Times New Roman;\">you</span> <span style=\"font-size:20px; font-family:Times New Roman;\">ve</span> <span style=\"font-size:20px; font-family:Times New Roman;\"><span style=\"background-color:rgba(255, 0, 0, 0.07864277431676281)\">got</span></span> <span style=\"font-size:20px; font-family:Times New Roman;\">to</span> <span style=\"font-size:20px; font-family:Times New Roman;\"><span style=\"background-color:rgba(255, 0, 0, 0.0289943862212552)\">expect</span></span> <span style=\"font-size:20px; font-family:Times New Roman;\">that</span> <span style=\"font-size:20px; font-family:Times New Roman;\"><span style=\"background-color:rgba(255, 0, 0, 0.8693828729990491)\">Bathroom</span></span> <span style=\"font-size:20px; font-family:Times New Roman;\">was</span> <span style=\"font-size:20px; font-family:Times New Roman;\"><span style=\"background-color:rgba(0, 0, 255, 0.3663144870626492)\">lovely</span></span> <span style=\"font-size:20px; font-family:Times New Roman;\">but</span> <span style=\"font-size:20px; font-family:Times New Roman;\">we</span> <span style=\"font-size:20px; font-family:Times New Roman;\">had</span> <span style=\"font-size:20px; font-family:Times New Roman;\">a</span> <span style=\"font-size:20px; font-family:Times New Roman;\"><span style=\"background-color:rgba(255, 0, 0, 0.4299677028584147)\">room</span></span> <span style=\"font-size:20px; font-family:Times New Roman;\">for</span> <span style=\"font-size:20px; font-family:Times New Roman;\">3</span> <span style=\"font-size:20px; font-family:Times New Roman;\">and</span> <span style=\"font-size:20px; font-family:Times New Roman;\"><span style=\"background-color:rgba(255, 0, 0, 0.016835382794964597)\">ran</span></span> <span style=\"font-size:20px; font-family:Times New Roman;\">out</span> <span style=\"font-size:20px; font-family:Times New Roman;\">of</span> <span style=\"font-size:20px; font-family:Times New Roman;\"><span style=\"background-color:rgba(255, 0, 0, 0.029117554250443028)\">loo</span></span> <span style=\"font-size:20px; font-family:Times New Roman;\"><span style=\"background-color:rgba(255, 0, 0, 0.032056665449760845)\">roll</span></span> <span style=\"font-size:20px; font-family:Times New Roman;\">which</span> <span style=\"font-size:20px; font-family:Times New Roman;\">wasn</span> <span style=\"font-size:20px; font-family:Times New Roman;\">t</span> <span style=\"font-size:20px; font-family:Times New Roman;\"><span style=\"background-color:rgba(255, 0, 0, 0.043655913434320265)\">replaced</span></span>"
      ],
      "text/plain": [
       "<IPython.core.display.HTML object>"
      ]
     },
     "metadata": {},
     "output_type": "display_data"
    },
    {
     "name": "stdout",
     "output_type": "stream",
     "text": [
      "\n",
      " Rooms need updating Swimming pool is a lot smaller than shown in pictures\n"
     ]
    },
    {
     "data": {
      "text/html": [
       "<span style=\"font-size:16px; font-family:Times New Roman;\">\n",
       " <span style=\"background-color: rgba(255, 0, 0, 1);\">Number 1 Topic is 1</span> with  probability 0.7245634620026988, Title is: Bathroom and spa</span>"
      ],
      "text/plain": [
       "<IPython.core.display.HTML object>"
      ]
     },
     "metadata": {},
     "output_type": "display_data"
    },
    {
     "data": {
      "text/html": [
       "<span style=\"font-size:16px; font-family:Times New Roman;\">\n",
       " <span style=\"background-color: rgba(0, 0, 255, 1);\">Number 2 Topic is 0</span> with  probability 0.06874299016630728, Title is: Hospitality Excellence</span>"
      ],
      "text/plain": [
       "<IPython.core.display.HTML object>"
      ]
     },
     "metadata": {},
     "output_type": "display_data"
    },
    {
     "name": "stdout",
     "output_type": "stream",
     "text": [
      "{1: {'pool': 0.06328364299821589, 'swimming': 0.02286170322879389, 'rooms': 0.013621535514710948, 'need': 0.007813261281522104, 'lot': 0.004504780093911754, 'smaller': 0.002507506573191845, 'pictures': 0.0020461598326803297, 'updating': 0.0012372402880836144, 'shown': 0.000516848692908758}, 0: {'rooms': 0.022525856144947343, 'need': 0.004060709503402192, 'lot': 0.0033326622438303237, 'pool': 0.0014729823240611302, 'pictures': 0.0008301269025486157, 'swimming': 0.000597403324995194, 'smaller': 0.0003723433570081683, 'updating': 0.00011810548218195023, 'shown': 0.00011512143942535966}}\n"
     ]
    },
    {
     "data": {
      "text/html": [
       "<span style=\"font-size:20px; font-family:Times New Roman;\"><span style=\"background-color:rgba(0, 0, 255, 0.4641075485992815)\">Rooms</span></span> <span style=\"font-size:20px; font-family:Times New Roman;\"><span style=\"background-color:rgba(255, 0, 0, 0.09731128910154589)\">need</span></span> <span style=\"font-size:20px; font-family:Times New Roman;\"><span style=\"background-color:rgba(255, 0, 0, 0.015409371710954717)\">updating</span></span> <span style=\"font-size:20px; font-family:Times New Roman;\"><span style=\"background-color:rgba(255, 0, 0, 0.2847340863298907)\">Swimming</span></span> <span style=\"font-size:20px; font-family:Times New Roman;\"><span style=\"background-color:rgba(255, 0, 0, 0.7881744456392635)\">pool</span></span> <span style=\"font-size:20px; font-family:Times New Roman;\">is</span> <span style=\"font-size:20px; font-family:Times New Roman;\">a</span> <span style=\"font-size:20px; font-family:Times New Roman;\"><span style=\"background-color:rgba(255, 0, 0, 0.05610537549720051)\">lot</span></span> <span style=\"font-size:20px; font-family:Times New Roman;\"><span style=\"background-color:rgba(255, 0, 0, 0.031230070040658215)\">smaller</span></span> <span style=\"font-size:20px; font-family:Times New Roman;\">than</span> <span style=\"font-size:20px; font-family:Times New Roman;\"><span style=\"background-color:rgba(255, 0, 0, 0.006437159947069149)\">shown</span></span> <span style=\"font-size:20px; font-family:Times New Roman;\">in</span> <span style=\"font-size:20px; font-family:Times New Roman;\"><span style=\"background-color:rgba(255, 0, 0, 0.02548416645131529)\">pictures</span></span>"
      ],
      "text/plain": [
       "<IPython.core.display.HTML object>"
      ]
     },
     "metadata": {},
     "output_type": "display_data"
    },
    {
     "name": "stdout",
     "output_type": "stream",
     "text": [
      "\n",
      " Priority is given to wedding parties so hotel corridor extremely noisy until around 4am Rooms very cold but no extra blankets\n"
     ]
    },
    {
     "data": {
      "text/html": [
       "<span style=\"font-size:16px; font-family:Times New Roman;\">\n",
       " <span style=\"background-color: rgba(255, 0, 0, 1);\">Number 1 Topic is 12</span> with  probability 0.34290424014265464, Title is: Room Noise Levels</span>"
      ],
      "text/plain": [
       "<IPython.core.display.HTML object>"
      ]
     },
     "metadata": {},
     "output_type": "display_data"
    },
    {
     "data": {
      "text/html": [
       "<span style=\"font-size:16px; font-family:Times New Roman;\">\n",
       " <span style=\"background-color: rgba(0, 0, 255, 1);\">Number 2 Topic is 0</span> with  probability 0.09222777219658451, Title is: Hospitality Excellence</span>"
      ],
      "text/plain": [
       "<IPython.core.display.HTML object>"
      ]
     },
     "metadata": {},
     "output_type": "display_data"
    },
    {
     "name": "stdout",
     "output_type": "stream",
     "text": [
      "{12: {'noisy': 0.1526074984422142, 'rooms': 0.03989888246415584, 'corridor': 0.01865731276557814, 'hotel': 0.012884900518528393, 'around': 0.006674550222902177, 'extremely': 0.003529281948326061, 'wedding': 0.003207930467573665, 'cold': 0.0026780424812333143, 'parties': 0.0026415202427157998, 'given': 0.0020704057958868755, 'priority': 0.0013207601213578999, 'extra': 0.0012487196038520603, 'blankets': 0.0011605397207640961}, 0: {'hotel': 0.048535853840198054, 'rooms': 0.022525856144947343, 'extremely': 0.008367261409348596, 'around': 0.005869302127843857, 'extra': 0.003035836141504563, 'given': 0.00185632110719919, 'cold': 0.001177475628217271, 'noisy': 0.0008293198364912641, 'corridor': 0.0004825414617413367, 'blankets': 0.00018009298776389026, 'wedding': 0.00016593594977337546, 'priority': 0.00013663736628686081, 'parties': 6.831868314343041e-05}}\n"
     ]
    },
    {
     "data": {
      "text/html": [
       "<span style=\"font-size:20px; font-family:Times New Roman;\"><span style=\"background-color:rgba(255, 0, 0, 0.008654621396982103)\">Priority</span></span> <span style=\"font-size:20px; font-family:Times New Roman;\">is</span> <span style=\"font-size:20px; font-family:Times New Roman;\"><span style=\"background-color:rgba(255, 0, 0, 0.013566868057082057)\">given</span></span> <span style=\"font-size:20px; font-family:Times New Roman;\">to</span> <span style=\"font-size:20px; font-family:Times New Roman;\"><span style=\"background-color:rgba(255, 0, 0, 0.021020791902885222)\">wedding</span></span> <span style=\"font-size:20px; font-family:Times New Roman;\"><span style=\"background-color:rgba(255, 0, 0, 0.017309242793964206)\">parties</span></span> <span style=\"font-size:20px; font-family:Times New Roman;\">so</span> <span style=\"font-size:20px; font-family:Times New Roman;\"><span style=\"background-color:rgba(0, 0, 255, 1.0)\">hotel</span></span> <span style=\"font-size:20px; font-family:Times New Roman;\"><span style=\"background-color:rgba(255, 0, 0, 0.12225685471571276)\">corridor</span></span> <span style=\"font-size:20px; font-family:Times New Roman;\"><span style=\"background-color:rgba(0, 0, 255, 0.17239341120684512)\">extremely</span></span> <span style=\"font-size:20px; font-family:Times New Roman;\"><span style=\"background-color:rgba(255, 0, 0, 1.0)\">noisy</span></span> <span style=\"font-size:20px; font-family:Times New Roman;\">until</span> <span style=\"font-size:20px; font-family:Times New Roman;\"><span style=\"background-color:rgba(255, 0, 0, 0.043736712094979646)\">around</span></span> <span style=\"font-size:20px; font-family:Times New Roman;\">4am</span> <span style=\"font-size:20px; font-family:Times New Roman;\"><span style=\"background-color:rgba(255, 0, 0, 0.26144771961689556)\">Rooms</span></span> <span style=\"font-size:20px; font-family:Times New Roman;\">very</span> <span style=\"font-size:20px; font-family:Times New Roman;\"><span style=\"background-color:rgba(255, 0, 0, 0.017548564183085487)\">cold</span></span> <span style=\"font-size:20px; font-family:Times New Roman;\">but</span> <span style=\"font-size:20px; font-family:Times New Roman;\">no</span> <span style=\"font-size:20px; font-family:Times New Roman;\"><span style=\"background-color:rgba(0, 0, 255, 0.06254832049519322)\">extra</span></span> <span style=\"font-size:20px; font-family:Times New Roman;\"><span style=\"background-color:rgba(255, 0, 0, 0.007604735891818199)\">blankets</span></span>"
      ],
      "text/plain": [
       "<IPython.core.display.HTML object>"
      ]
     },
     "metadata": {},
     "output_type": "display_data"
    },
    {
     "name": "stdout",
     "output_type": "stream",
     "text": [
      "\n",
      " So noisy outside that we couldnt sleep well at night and the entrance of the hotel was pretty shocking to me It looks so old and scary\n"
     ]
    },
    {
     "data": {
      "text/html": [
       "<span style=\"font-size:16px; font-family:Times New Roman;\">\n",
       " <span style=\"background-color: rgba(255, 0, 0, 1);\">Number 1 Topic is 12</span> with  probability 0.21965667114935533, Title is: Room Noise Levels</span>"
      ],
      "text/plain": [
       "<IPython.core.display.HTML object>"
      ]
     },
     "metadata": {},
     "output_type": "display_data"
    },
    {
     "data": {
      "text/html": [
       "<span style=\"font-size:16px; font-family:Times New Roman;\">\n",
       " <span style=\"background-color: rgba(0, 0, 255, 1);\">Number 2 Topic is 0</span> with  probability 0.10363642973136905, Title is: Hospitality Excellence</span>"
      ],
      "text/plain": [
       "<IPython.core.display.HTML object>"
      ]
     },
     "metadata": {},
     "output_type": "display_data"
    },
    {
     "name": "stdout",
     "output_type": "stream",
     "text": [
      "{12: {'noisy': 0.1526074984422142, 'night': 0.05768383262418256, 'outside': 0.04759572935577344, 'sleep': 0.023809692923094417, 'hotel': 0.012884900518528393, 'well': 0.010326889049639056, 'old': 0.007349187639884397, 'pretty': 0.0031179902697490948, 'entrance': 0.0025937650172805802, 'couldnt': 0.002274407035101811, 'shocking': 0.0013207601213578999, 'scary': 0.0013207601213578999, 'looks': 0.0009328656382789071}, 0: {'hotel': 0.048535853840198054, 'well': 0.0154182859066096, 'night': 0.005173523449781533, 'outside': 0.004595685469659412, 'pretty': 0.0026611799268747064, 'old': 0.002344257687124247, 'sleep': 0.0020409355131304854, 'entrance': 0.0018783399839078197, 'looks': 0.0012546078005274753, 'noisy': 0.0008293198364912641, 'couldnt': 0.00011764777801631058}}\n"
     ]
    },
    {
     "data": {
      "text/html": [
       "<span style=\"font-size:20px; font-family:Times New Roman;\">So</span> <span style=\"font-size:20px; font-family:Times New Roman;\"><span style=\"background-color:rgba(255, 0, 0, 1.0)\">noisy</span></span> <span style=\"font-size:20px; font-family:Times New Roman;\"><span style=\"background-color:rgba(255, 0, 0, 0.31188329434412343)\">outside</span></span> <span style=\"font-size:20px; font-family:Times New Roman;\">that</span> <span style=\"font-size:20px; font-family:Times New Roman;\">we</span> <span style=\"font-size:20px; font-family:Times New Roman;\"><span style=\"background-color:rgba(255, 0, 0, 0.014903638800966455)\">couldnt</span></span> <span style=\"font-size:20px; font-family:Times New Roman;\"><span style=\"background-color:rgba(255, 0, 0, 0.15601915479998588)\">sleep</span></span> <span style=\"font-size:20px; font-family:Times New Roman;\"><span style=\"background-color:rgba(0, 0, 255, 0.3176679647456818)\">well</span></span> <span style=\"font-size:20px; font-family:Times New Roman;\">at</span> <span style=\"font-size:20px; font-family:Times New Roman;\"><span style=\"background-color:rgba(255, 0, 0, 0.37798819332606326)\">night</span></span> <span style=\"font-size:20px; font-family:Times New Roman;\">and</span> <span style=\"font-size:20px; font-family:Times New Roman;\">the</span> <span style=\"font-size:20px; font-family:Times New Roman;\"><span style=\"background-color:rgba(255, 0, 0, 0.016996314360416084)\">entrance</span></span> <span style=\"font-size:20px; font-family:Times New Roman;\">of</span> <span style=\"font-size:20px; font-family:Times New Roman;\">the</span> <span style=\"font-size:20px; font-family:Times New Roman;\"><span style=\"background-color:rgba(0, 0, 255, 1.0)\">hotel</span></span> <span style=\"font-size:20px; font-family:Times New Roman;\">was</span> <span style=\"font-size:20px; font-family:Times New Roman;\"><span style=\"background-color:rgba(255, 0, 0, 0.020431435555768197)\">pretty</span></span> <span style=\"font-size:20px; font-family:Times New Roman;\"><span style=\"background-color:rgba(255, 0, 0, 0.008654621396982103)\">shocking</span></span> <span style=\"font-size:20px; font-family:Times New Roman;\">to</span> <span style=\"font-size:20px; font-family:Times New Roman;\">me</span> <span style=\"font-size:20px; font-family:Times New Roman;\">It</span> <span style=\"font-size:20px; font-family:Times New Roman;\"><span style=\"background-color:rgba(0, 0, 255, 0.025849093016025032)\">looks</span></span> <span style=\"font-size:20px; font-family:Times New Roman;\">so</span> <span style=\"font-size:20px; font-family:Times New Roman;\"><span style=\"background-color:rgba(255, 0, 0, 0.04815744779845935)\">old</span></span> <span style=\"font-size:20px; font-family:Times New Roman;\">and</span> <span style=\"font-size:20px; font-family:Times New Roman;\"><span style=\"background-color:rgba(255, 0, 0, 0.008654621396982103)\">scary</span></span>"
      ],
      "text/plain": [
       "<IPython.core.display.HTML object>"
      ]
     },
     "metadata": {},
     "output_type": "display_data"
    },
    {
     "name": "stdout",
     "output_type": "stream",
     "text": [
      "\n",
      " Hum from machinery outside room not too bad though Rooms not huge \n"
     ]
    },
    {
     "data": {
      "text/html": [
       "<span style=\"font-size:16px; font-family:Times New Roman;\">\n",
       " <span style=\"background-color: rgba(255, 0, 0, 1);\">Number 1 Topic is 12</span> with  probability 0.3277736472214675, Title is: Room Noise Levels</span>"
      ],
      "text/plain": [
       "<IPython.core.display.HTML object>"
      ]
     },
     "metadata": {},
     "output_type": "display_data"
    },
    {
     "data": {
      "text/html": [
       "<span style=\"font-size:16px; font-family:Times New Roman;\">\n",
       " <span style=\"background-color: rgba(0, 0, 255, 1);\">Number 2 Topic is 10</span> with  probability 0.08890684840359543, Title is: Room Lighting</span>"
      ],
      "text/plain": [
       "<IPython.core.display.HTML object>"
      ]
     },
     "metadata": {},
     "output_type": "display_data"
    },
    {
     "name": "stdout",
     "output_type": "stream",
     "text": [
      "{12: {'room': 0.04770379950534568, 'outside': 0.04759572935577344, 'rooms': 0.03989888246415584, 'bad': 0.010356808680252834, 'though': 0.004022291276481448, 'huge': 0.003159118834231544, 'hum': 0.0015399386143229595, 'machinery': 0.0014186581908680368}, 10: {'room': 0.1034651188198979, 'rooms': 0.0629717309663769, 'though': 0.005595124424274845, 'outside': 0.005296563764374939, 'bad': 0.0047271731056321075, 'huge': 0.0016479098976446087}}\n"
     ]
    },
    {
     "data": {
      "text/html": [
       "<span style=\"font-size:20px; font-family:Times New Roman;\"><span style=\"background-color:rgba(255, 0, 0, 0.010090845011171369)\">Hum</span></span> <span style=\"font-size:20px; font-family:Times New Roman;\">from</span> <span style=\"font-size:20px; font-family:Times New Roman;\"><span style=\"background-color:rgba(255, 0, 0, 0.009296123751122366)\">machinery</span></span> <span style=\"font-size:20px; font-family:Times New Roman;\"><span style=\"background-color:rgba(255, 0, 0, 0.31188329434412343)\">outside</span></span> <span style=\"font-size:20px; font-family:Times New Roman;\"><span style=\"background-color:rgba(0, 0, 255, 0.9013480837726432)\">room</span></span> <span style=\"font-size:20px; font-family:Times New Roman;\">not</span> <span style=\"font-size:20px; font-family:Times New Roman;\">too</span> <span style=\"font-size:20px; font-family:Times New Roman;\"><span style=\"background-color:rgba(255, 0, 0, 0.06786566050798942)\">bad</span></span> <span style=\"font-size:20px; font-family:Times New Roman;\"><span style=\"background-color:rgba(0, 0, 255, 0.048742559191066924)\">though</span></span> <span style=\"font-size:20px; font-family:Times New Roman;\"><span style=\"background-color:rgba(0, 0, 255, 0.5485853559709492)\">Rooms</span></span> <span style=\"font-size:20px; font-family:Times New Roman;\">not</span> <span style=\"font-size:20px; font-family:Times New Roman;\"><span style=\"background-color:rgba(255, 0, 0, 0.02070094108401734)\">huge</span></span>"
      ],
      "text/plain": [
       "<IPython.core.display.HTML object>"
      ]
     },
     "metadata": {},
     "output_type": "display_data"
    },
    {
     "name": "stdout",
     "output_type": "stream",
     "text": [
      "\n",
      " Things were inconsistently stocked coffee brown sugar bottled water but once I contacted housekeeping they responded promptly and with more than requested \n"
     ]
    },
    {
     "data": {
      "text/html": [
       "<span style=\"font-size:16px; font-family:Times New Roman;\">\n",
       " <span style=\"background-color: rgba(255, 0, 0, 1);\">Number 1 Topic is 13</span> with  probability 0.10108048810274037, Title is: Beverage Making Facilities</span>"
      ],
      "text/plain": [
       "<IPython.core.display.HTML object>"
      ]
     },
     "metadata": {},
     "output_type": "display_data"
    },
    {
     "data": {
      "text/html": [
       "<span style=\"font-size:16px; font-family:Times New Roman;\">\n",
       " <span style=\"background-color: rgba(0, 0, 255, 1);\">Number 2 Topic is 2</span> with  probability 0.08136641805508596, Title is: Hotel Amenities Excellence</span>"
      ],
      "text/plain": [
       "<IPython.core.display.HTML object>"
      ]
     },
     "metadata": {},
     "output_type": "display_data"
    },
    {
     "name": "stdout",
     "output_type": "stream",
     "text": [
      "{13: {'coffee': 0.2282031947175733, 'water': 0.024285550224195138, 'sugar': 0.023581566605738763, 'housekeeping': 0.00562390589079282, 'requested': 0.00532662865212196, 'bottled': 0.004414282037079041, 'stocked': 0.004295149826510644, 'things': 0.0029865566923819634, 'inconsistently': 0.0023238399401605907, 'brown': 0.0016522085695716425, 'responded': 0.0016522085695716425, 'contacted': 0.0016293913033419937, 'promptly': 0.0014825418433232658}, 2: {'coffee': 0.0049844058388023695, 'water': 0.0018762816114196094, 'things': 0.0017449630118254393, 'promptly': 0.001181193357683028, 'stocked': 0.0011406991013837072, 'housekeeping': 0.001075383386287134, 'bottled': 0.00046893521821947783, 'requested': 0.00033951302817204315, 'brown': 0.0002632745641108307, 'responded': 0.0002632745641108307}}\n"
     ]
    },
    {
     "data": {
      "text/html": [
       "<span style=\"font-size:20px; font-family:Times New Roman;\"><span style=\"background-color:rgba(255, 0, 0, 0.013087269422665873)\">Things</span></span> <span style=\"font-size:20px; font-family:Times New Roman;\">were</span> <span style=\"font-size:20px; font-family:Times New Roman;\"><span style=\"background-color:rgba(255, 0, 0, 0.010183205116986201)\">inconsistently</span></span> <span style=\"font-size:20px; font-family:Times New Roman;\"><span style=\"background-color:rgba(255, 0, 0, 0.01882160252763493)\">stocked</span></span> <span style=\"font-size:20px; font-family:Times New Roman;\"><span style=\"background-color:rgba(255, 0, 0, 1.0)\">coffee</span></span> <span style=\"font-size:20px; font-family:Times New Roman;\"><span style=\"background-color:rgba(255, 0, 0, 0.007240076422314917)\">brown</span></span> <span style=\"font-size:20px; font-family:Times New Roman;\"><span style=\"background-color:rgba(255, 0, 0, 0.10333583031089272)\">sugar</span></span> <span style=\"font-size:20px; font-family:Times New Roman;\"><span style=\"background-color:rgba(255, 0, 0, 0.0193436469745404)\">bottled</span></span> <span style=\"font-size:20px; font-family:Times New Roman;\"><span style=\"background-color:rgba(255, 0, 0, 0.10642072848388995)\">water</span></span> <span style=\"font-size:20px; font-family:Times New Roman;\">but</span> <span style=\"font-size:20px; font-family:Times New Roman;\">once</span> <span style=\"font-size:20px; font-family:Times New Roman;\">I</span> <span style=\"font-size:20px; font-family:Times New Roman;\"><span style=\"background-color:rgba(255, 0, 0, 0.007140089801803808)\">contacted</span></span> <span style=\"font-size:20px; font-family:Times New Roman;\"><span style=\"background-color:rgba(255, 0, 0, 0.024644290794232856)\">housekeeping</span></span> <span style=\"font-size:20px; font-family:Times New Roman;\">they</span> <span style=\"font-size:20px; font-family:Times New Roman;\"><span style=\"background-color:rgba(255, 0, 0, 0.007240076422314917)\">responded</span></span> <span style=\"font-size:20px; font-family:Times New Roman;\"><span style=\"background-color:rgba(255, 0, 0, 0.006496586715878694)\">promptly</span></span> <span style=\"font-size:20px; font-family:Times New Roman;\">and</span> <span style=\"font-size:20px; font-family:Times New Roman;\">with</span> <span style=\"font-size:20px; font-family:Times New Roman;\">more</span> <span style=\"font-size:20px; font-family:Times New Roman;\">than</span> <span style=\"font-size:20px; font-family:Times New Roman;\"><span style=\"background-color:rgba(255, 0, 0, 0.023341604216865815)\">requested</span></span>"
      ],
      "text/plain": [
       "<IPython.core.display.HTML object>"
      ]
     },
     "metadata": {},
     "output_type": "display_data"
    },
    {
     "name": "stdout",
     "output_type": "stream",
     "text": [
      "\n",
      " The only fault was more coffee should be supplied with the machine in the room \n"
     ]
    },
    {
     "data": {
      "text/html": [
       "<span style=\"font-size:16px; font-family:Times New Roman;\">\n",
       " <span style=\"background-color: rgba(255, 0, 0, 1);\">Number 1 Topic is 13</span> with  probability 0.42061981165717954, Title is: Beverage Making Facilities</span>"
      ],
      "text/plain": [
       "<IPython.core.display.HTML object>"
      ]
     },
     "metadata": {},
     "output_type": "display_data"
    },
    {
     "data": {
      "text/html": [
       "<span style=\"font-size:16px; font-family:Times New Roman;\">\n",
       " <span style=\"background-color: rgba(0, 0, 255, 1);\">Number 2 Topic is 2</span> with  probability 0.09240737440785897, Title is: Hotel Amenities Excellence</span>"
      ],
      "text/plain": [
       "<IPython.core.display.HTML object>"
      ]
     },
     "metadata": {},
     "output_type": "display_data"
    },
    {
     "name": "stdout",
     "output_type": "stream",
     "text": [
      "{13: {'coffee': 0.2282031947175733, 'room': 0.06628162740089448, 'machine': 0.0647516022442641, 'supplied': 0.008485151861913997, 'fault': 0.0010522107289700263}, 2: {'room': 0.02884931166699843, 'coffee': 0.0049844058388023695, 'fault': 0.0020120001272779576, 'machine': 0.000952428637007678, 'supplied': 0.00022534732186170922}}\n"
     ]
    },
    {
     "data": {
      "text/html": [
       "<span style=\"font-size:20px; font-family:Times New Roman;\">The</span> <span style=\"font-size:20px; font-family:Times New Roman;\">only</span> <span style=\"font-size:20px; font-family:Times New Roman;\"><span style=\"background-color:rgba(0, 0, 255, 0.017457942036606285)\">fault</span></span> <span style=\"font-size:20px; font-family:Times New Roman;\">was</span> <span style=\"font-size:20px; font-family:Times New Roman;\">more</span> <span style=\"font-size:20px; font-family:Times New Roman;\"><span style=\"background-color:rgba(255, 0, 0, 1.0)\">coffee</span></span> <span style=\"font-size:20px; font-family:Times New Roman;\">should</span> <span style=\"font-size:20px; font-family:Times New Roman;\">be</span> <span style=\"font-size:20px; font-family:Times New Roman;\"><span style=\"background-color:rgba(255, 0, 0, 0.03718244116790438)\">supplied</span></span> <span style=\"font-size:20px; font-family:Times New Roman;\">with</span> <span style=\"font-size:20px; font-family:Times New Roman;\">the</span> <span style=\"font-size:20px; font-family:Times New Roman;\"><span style=\"background-color:rgba(255, 0, 0, 0.2837453801836621)\">machine</span></span> <span style=\"font-size:20px; font-family:Times New Roman;\">in</span> <span style=\"font-size:20px; font-family:Times New Roman;\">the</span> <span style=\"font-size:20px; font-family:Times New Roman;\"><span style=\"background-color:rgba(255, 0, 0, 0.29045004160842414)\">room</span></span>"
      ],
      "text/plain": [
       "<IPython.core.display.HTML object>"
      ]
     },
     "metadata": {},
     "output_type": "display_data"
    },
    {
     "name": "stdout",
     "output_type": "stream",
     "text": [
      "\n",
      " they need to have either powdered milk or bottled cold milk in the minibar for in room coffee \n"
     ]
    },
    {
     "data": {
      "text/html": [
       "<span style=\"font-size:16px; font-family:Times New Roman;\">\n",
       " <span style=\"background-color: rgba(255, 0, 0, 1);\">Number 1 Topic is 13</span> with  probability 0.15765481219438227, Title is: Beverage Making Facilities</span>"
      ],
      "text/plain": [
       "<IPython.core.display.HTML object>"
      ]
     },
     "metadata": {},
     "output_type": "display_data"
    },
    {
     "data": {
      "text/html": [
       "<span style=\"font-size:16px; font-family:Times New Roman;\">\n",
       " <span style=\"background-color: rgba(0, 0, 255, 1);\">Number 2 Topic is 2</span> with  probability 0.09444921872105204, Title is: Hotel Amenities Excellence</span>"
      ],
      "text/plain": [
       "<IPython.core.display.HTML object>"
      ]
     },
     "metadata": {},
     "output_type": "display_data"
    },
    {
     "name": "stdout",
     "output_type": "stream",
     "text": [
      "{13: {'coffee': 0.2282031947175733, 'milk': 0.07844041285485223, 'room': 0.06628162740089448, 'minibar': 0.007156587815190902, 'cold': 0.006109761759318396, 'bottled': 0.004414282037079041, 'powdered': 0.0036989335626830765, 'need': 0.003248961719292962, 'either': 0.0011331501851477245}, 2: {'room': 0.02884931166699843, 'coffee': 0.0049844058388023695, 'need': 0.0031062748234554757, 'cold': 0.0029207175661047622, 'minibar': 0.0011403811675264205, 'milk': 0.0007352499124101636, 'either': 0.0005416924229079993, 'bottled': 0.00046893521821947783}}\n"
     ]
    },
    {
     "data": {
      "text/html": [
       "<span style=\"font-size:20px; font-family:Times New Roman;\">they</span> <span style=\"font-size:20px; font-family:Times New Roman;\"><span style=\"background-color:rgba(255, 0, 0, 0.01423714388974226)\">need</span></span> <span style=\"font-size:20px; font-family:Times New Roman;\">to</span> <span style=\"font-size:20px; font-family:Times New Roman;\">have</span> <span style=\"font-size:20px; font-family:Times New Roman;\"><span style=\"background-color:rgba(255, 0, 0, 0.0049655316462599184)\">either</span></span> <span style=\"font-size:20px; font-family:Times New Roman;\"><span style=\"background-color:rgba(255, 0, 0, 0.016208947325478576)\">powdered</span></span> <span style=\"font-size:20px; font-family:Times New Roman;\"><span style=\"background-color:rgba(255, 0, 0, 0.3437305641226054)\">milk</span></span> <span style=\"font-size:20px; font-family:Times New Roman;\">or</span> <span style=\"font-size:20px; font-family:Times New Roman;\"><span style=\"background-color:rgba(255, 0, 0, 0.0193436469745404)\">bottled</span></span> <span style=\"font-size:20px; font-family:Times New Roman;\"><span style=\"background-color:rgba(255, 0, 0, 0.026773340166775062)\">cold</span></span> <span style=\"font-size:20px; font-family:Times New Roman;\"><span style=\"background-color:rgba(255, 0, 0, 0.3437305641226054)\">milk</span></span> <span style=\"font-size:20px; font-family:Times New Roman;\">in</span> <span style=\"font-size:20px; font-family:Times New Roman;\">the</span> <span style=\"font-size:20px; font-family:Times New Roman;\"><span style=\"background-color:rgba(255, 0, 0, 0.03136059433369445)\">minibar</span></span> <span style=\"font-size:20px; font-family:Times New Roman;\">for</span> <span style=\"font-size:20px; font-family:Times New Roman;\">in</span> <span style=\"font-size:20px; font-family:Times New Roman;\"><span style=\"background-color:rgba(255, 0, 0, 0.29045004160842414)\">room</span></span> <span style=\"font-size:20px; font-family:Times New Roman;\"><span style=\"background-color:rgba(255, 0, 0, 1.0)\">coffee</span></span>"
      ],
      "text/plain": [
       "<IPython.core.display.HTML object>"
      ]
     },
     "metadata": {},
     "output_type": "display_data"
    },
    {
     "name": "stdout",
     "output_type": "stream",
     "text": [
      "\n",
      " Mattress was lumpy Car parking fee very stiff for just a 24 hr stay \n"
     ]
    },
    {
     "data": {
      "text/html": [
       "<span style=\"font-size:16px; font-family:Times New Roman;\">\n",
       " <span style=\"background-color: rgba(255, 0, 0, 1);\">Number 1 Topic is 14</span> with  probability 1.0, Title is: Hotel Parking Costs</span>"
      ],
      "text/plain": [
       "<IPython.core.display.HTML object>"
      ]
     },
     "metadata": {},
     "output_type": "display_data"
    },
    {
     "data": {
      "text/html": [
       "<span style=\"font-size:16px; font-family:Times New Roman;\">\n",
       " <span style=\"background-color: rgba(0, 0, 255, 1);\">Number 2 Topic is 0</span> with  probability 5.762564716216317e-307, Title is: Hospitality Excellence</span>"
      ],
      "text/plain": [
       "<IPython.core.display.HTML object>"
      ]
     },
     "metadata": {},
     "output_type": "display_data"
    },
    {
     "name": "stdout",
     "output_type": "stream",
     "text": [
      "{14: {'parking': 0.3682271147452055, 'car': 0.1694420267027399, 'fee': 0.02232660749077248, 'stay': 0.0075060160599114386, 'stiff': 0.0021925692427190702, 'lumpy': 0.0020890106208865354, 'mattress': 0.0014556248379158875}, 0: {'stay': 0.016456744779990817, 'parking': 0.003327050137966193, 'car': 0.002135163258730852, 'mattress': 0.0007710535623574004, 'fee': 0.00021405508318538452}}\n"
     ]
    },
    {
     "data": {
      "text/html": [
       "<span style=\"font-size:20px; font-family:Times New Roman;\"><span style=\"background-color:rgba(255, 0, 0, 0.003953062606275223)\">Mattress</span></span> <span style=\"font-size:20px; font-family:Times New Roman;\">was</span> <span style=\"font-size:20px; font-family:Times New Roman;\"><span style=\"background-color:rgba(255, 0, 0, 0.005673158051742129)\">lumpy</span></span> <span style=\"font-size:20px; font-family:Times New Roman;\"><span style=\"background-color:rgba(255, 0, 0, 0.4601563000595032)\">Car</span></span> <span style=\"font-size:20px; font-family:Times New Roman;\"><span style=\"background-color:rgba(255, 0, 0, 1.0)\">parking</span></span> <span style=\"font-size:20px; font-family:Times New Roman;\"><span style=\"background-color:rgba(255, 0, 0, 0.06063270899054069)\">fee</span></span> <span style=\"font-size:20px; font-family:Times New Roman;\">very</span> <span style=\"font-size:20px; font-family:Times New Roman;\"><span style=\"background-color:rgba(255, 0, 0, 0.005954393782859302)\">stiff</span></span> <span style=\"font-size:20px; font-family:Times New Roman;\">for</span> <span style=\"font-size:20px; font-family:Times New Roman;\">just</span> <span style=\"font-size:20px; font-family:Times New Roman;\">a</span> <span style=\"font-size:20px; font-family:Times New Roman;\">24</span> <span style=\"font-size:20px; font-family:Times New Roman;\">hr</span> <span style=\"font-size:20px; font-family:Times New Roman;\"><span style=\"background-color:rgba(0, 0, 255, 0.3390636710373707)\">stay</span></span>"
      ],
      "text/plain": [
       "<IPython.core.display.HTML object>"
      ]
     },
     "metadata": {},
     "output_type": "display_data"
    },
    {
     "name": "stdout",
     "output_type": "stream",
     "text": [
      "\n",
      " Parking garage is over 20 euro s but it is possible to park outside for a lot less Paying only needed till 1900 Dinner is expensive \n"
     ]
    },
    {
     "data": {
      "text/html": [
       "<span style=\"font-size:16px; font-family:Times New Roman;\">\n",
       " <span style=\"background-color: rgba(255, 0, 0, 1);\">Number 1 Topic is 14</span> with  probability 1.0, Title is: Hotel Parking Costs</span>"
      ],
      "text/plain": [
       "<IPython.core.display.HTML object>"
      ]
     },
     "metadata": {},
     "output_type": "display_data"
    },
    {
     "data": {
      "text/html": [
       "<span style=\"font-size:16px; font-family:Times New Roman;\">\n",
       " <span style=\"background-color: rgba(0, 0, 255, 1);\">Number 2 Topic is 0</span> with  probability 5.976141141715084e-307, Title is: Hospitality Excellence</span>"
      ],
      "text/plain": [
       "<IPython.core.display.HTML object>"
      ]
     },
     "metadata": {},
     "output_type": "display_data"
    },
    {
     "name": "stdout",
     "output_type": "stream",
     "text": [
      "{14: {'parking': 0.3682271147452055, 'park': 0.10693834574036833, 'expensive': 0.051114172434717636, 'euro': 0.027100956017597922, 'garage': 0.015932428448305426, 'paying': 0.013377618276528395, 'outside': 0.01264204520808318, 'lot': 0.011500644622866074, 'possible': 0.005771757421850641, 'needed': 0.004600257849146429, 'less': 0.004108418587340881, 'till': 0.001586931459703482, 'dinner': 0.001324096824235401}, 0: {'park': 0.0059552645494185055, 'outside': 0.004595685469659412, 'needed': 0.003726848100627459, 'lot': 0.0033326622438303237, 'parking': 0.003327050137966193, 'less': 0.0021335833035542643, 'expensive': 0.0020270424949771614, 'dinner': 0.0013202491341925858, 'possible': 0.001168981385950884, 'euro': 0.0009333326835430193, 'till': 0.0005933699996523118, 'garage': 0.00033096105082495075, 'paying': 0.0003242055902620489}}\n"
     ]
    },
    {
     "data": {
      "text/html": [
       "<span style=\"font-size:20px; font-family:Times New Roman;\"><span style=\"background-color:rgba(255, 0, 0, 1.0)\">Parking</span></span> <span style=\"font-size:20px; font-family:Times New Roman;\"><span style=\"background-color:rgba(255, 0, 0, 0.043267939297001144)\">garage</span></span> <span style=\"font-size:20px; font-family:Times New Roman;\">is</span> <span style=\"font-size:20px; font-family:Times New Roman;\">over</span> <span style=\"font-size:20px; font-family:Times New Roman;\">20</span> <span style=\"font-size:20px; font-family:Times New Roman;\"><span style=\"background-color:rgba(255, 0, 0, 0.07359848021064504)\">euro</span></span> <span style=\"font-size:20px; font-family:Times New Roman;\">s</span> <span style=\"font-size:20px; font-family:Times New Roman;\">but</span> <span style=\"font-size:20px; font-family:Times New Roman;\">it</span> <span style=\"font-size:20px; font-family:Times New Roman;\">is</span> <span style=\"font-size:20px; font-family:Times New Roman;\"><span style=\"background-color:rgba(255, 0, 0, 0.015674449791250177)\">possible</span></span> <span style=\"font-size:20px; font-family:Times New Roman;\">to</span> <span style=\"font-size:20px; font-family:Times New Roman;\"><span style=\"background-color:rgba(255, 0, 0, 0.29041409895728143)\">park</span></span> <span style=\"font-size:20px; font-family:Times New Roman;\"><span style=\"background-color:rgba(255, 0, 0, 0.034332195272558444)\">outside</span></span> <span style=\"font-size:20px; font-family:Times New Roman;\">for</span> <span style=\"font-size:20px; font-family:Times New Roman;\">a</span> <span style=\"font-size:20px; font-family:Times New Roman;\"><span style=\"background-color:rgba(255, 0, 0, 0.03123247626895683)\">lot</span></span> <span style=\"font-size:20px; font-family:Times New Roman;\"><span style=\"background-color:rgba(255, 0, 0, 0.011157295111696754)\">less</span></span> <span style=\"font-size:20px; font-family:Times New Roman;\"><span style=\"background-color:rgba(255, 0, 0, 0.03632980229004871)\">Paying</span></span> <span style=\"font-size:20px; font-family:Times New Roman;\">only</span> <span style=\"font-size:20px; font-family:Times New Roman;\"><span style=\"background-color:rgba(255, 0, 0, 0.012492990507582732)\">needed</span></span> <span style=\"font-size:20px; font-family:Times New Roman;\"><span style=\"background-color:rgba(255, 0, 0, 0.00430965400470728)\">till</span></span> <span style=\"font-size:20px; font-family:Times New Roman;\">1900</span> <span style=\"font-size:20px; font-family:Times New Roman;\"><span style=\"background-color:rgba(255, 0, 0, 0.0035958699704979873)\">Dinner</span></span> <span style=\"font-size:20px; font-family:Times New Roman;\">is</span> <span style=\"font-size:20px; font-family:Times New Roman;\"><span style=\"background-color:rgba(255, 0, 0, 0.13881153882458128)\">expensive</span></span>"
      ],
      "text/plain": [
       "<IPython.core.display.HTML object>"
      ]
     },
     "metadata": {},
     "output_type": "display_data"
    },
    {
     "name": "stdout",
     "output_type": "stream",
     "text": [
      "\n",
      " Room is small driving and finding parking is a nightmare \n"
     ]
    },
    {
     "data": {
      "text/html": [
       "<span style=\"font-size:16px; font-family:Times New Roman;\">\n",
       " <span style=\"background-color: rgba(255, 0, 0, 1);\">Number 1 Topic is 14</span> with  probability 1.0, Title is: Hotel Parking Costs</span>"
      ],
      "text/plain": [
       "<IPython.core.display.HTML object>"
      ]
     },
     "metadata": {},
     "output_type": "display_data"
    },
    {
     "data": {
      "text/html": [
       "<span style=\"font-size:16px; font-family:Times New Roman;\">\n",
       " <span style=\"background-color: rgba(0, 0, 255, 1);\">Number 2 Topic is 0</span> with  probability 5.965728267532866e-307, Title is: Hospitality Excellence</span>"
      ],
      "text/plain": [
       "<IPython.core.display.HTML object>"
      ]
     },
     "metadata": {},
     "output_type": "display_data"
    },
    {
     "name": "stdout",
     "output_type": "stream",
     "text": [
      "{14: {'parking': 0.3682271147452055, 'driving': 0.010121178732863811, 'nightmare': 0.0097629620999862, 'room': 0.005731013590073468, 'small': 0.005553721458880925, 'finding': 0.001866871939907884}, 0: {'room': 0.02927797724444089, 'small': 0.0065374242710352385, 'parking': 0.003327050137966193, 'finding': 0.000698042625319832, 'driving': 0.0003784412858210355, 'nightmare': 6.084119956212827e-05}}\n"
     ]
    },
    {
     "data": {
      "text/html": [
       "<span style=\"font-size:20px; font-family:Times New Roman;\"><span style=\"background-color:rgba(0, 0, 255, 0.6032236981106217)\">Room</span></span> <span style=\"font-size:20px; font-family:Times New Roman;\">is</span> <span style=\"font-size:20px; font-family:Times New Roman;\"><span style=\"background-color:rgba(0, 0, 255, 0.13469268084907687)\">small</span></span> <span style=\"font-size:20px; font-family:Times New Roman;\"><span style=\"background-color:rgba(255, 0, 0, 0.027486239680820774)\">driving</span></span> <span style=\"font-size:20px; font-family:Times New Roman;\">and</span> <span style=\"font-size:20px; font-family:Times New Roman;\"><span style=\"background-color:rgba(255, 0, 0, 0.00506989264275029)\">finding</span></span> <span style=\"font-size:20px; font-family:Times New Roman;\"><span style=\"background-color:rgba(255, 0, 0, 1.0)\">parking</span></span> <span style=\"font-size:20px; font-family:Times New Roman;\">is</span> <span style=\"font-size:20px; font-family:Times New Roman;\">a</span> <span style=\"font-size:20px; font-family:Times New Roman;\"><span style=\"background-color:rgba(255, 0, 0, 0.026513425299333742)\">nightmare</span></span>"
      ],
      "text/plain": [
       "<IPython.core.display.HTML object>"
      ]
     },
     "metadata": {},
     "output_type": "display_data"
    },
    {
     "name": "stdout",
     "output_type": "stream",
     "text": [
      "\n",
      " Breakfast is a little bit expensive Carpet in hallways should be changed here and there \n"
     ]
    },
    {
     "data": {
      "text/html": [
       "<span style=\"font-size:16px; font-family:Times New Roman;\">\n",
       " <span style=\"background-color: rgba(255, 0, 0, 1);\">Number 1 Topic is 2</span> with  probability 0.26120483788678506, Title is: Hotel Amenities Excellence</span>"
      ],
      "text/plain": [
       "<IPython.core.display.HTML object>"
      ]
     },
     "metadata": {},
     "output_type": "display_data"
    },
    {
     "data": {
      "text/html": [
       "<span style=\"font-size:16px; font-family:Times New Roman;\">\n",
       " <span style=\"background-color: rgba(0, 0, 255, 1);\">Number 2 Topic is 0</span> with  probability 0.12052725344302045, Title is: Hospitality Excellence</span>"
      ],
      "text/plain": [
       "<IPython.core.display.HTML object>"
      ]
     },
     "metadata": {},
     "output_type": "display_data"
    },
    {
     "name": "stdout",
     "output_type": "stream",
     "text": [
      "{2: {'breakfast': 0.11524841376258102, 'expensive': 0.008373259830556945, 'little': 0.006489111778321789, 'bit': 0.005709074486491888, 'changed': 0.00106875429066532, 'carpet': 0.0003623024364206257, 'hallways': 0.00023534232341789713}, 0: {'breakfast': 0.011407779818943154, 'little': 0.005150367162280177, 'bit': 0.00356639656508472, 'expensive': 0.0020270424949771614, 'changed': 0.00048789014727054303, 'carpet': 0.0001804280236488613, 'hallways': 0.00017580208974605563}}\n"
     ]
    },
    {
     "data": {
      "text/html": [
       "<span style=\"font-size:20px; font-family:Times New Roman;\"><span style=\"background-color:rgba(255, 0, 0, 1.0)\">Breakfast</span></span> <span style=\"font-size:20px; font-family:Times New Roman;\">is</span> <span style=\"font-size:20px; font-family:Times New Roman;\">a</span> <span style=\"font-size:20px; font-family:Times New Roman;\"><span style=\"background-color:rgba(255, 0, 0, 0.05630543246946346)\">little</span></span> <span style=\"font-size:20px; font-family:Times New Roman;\"><span style=\"background-color:rgba(255, 0, 0, 0.04953711986225633)\">bit</span></span> <span style=\"font-size:20px; font-family:Times New Roman;\"><span style=\"background-color:rgba(255, 0, 0, 0.07265401368392269)\">expensive</span></span> <span style=\"font-size:20px; font-family:Times New Roman;\"><span style=\"background-color:rgba(255, 0, 0, 0.0031436652756626354)\">Carpet</span></span> <span style=\"font-size:20px; font-family:Times New Roman;\">in</span> <span style=\"font-size:20px; font-family:Times New Roman;\"><span style=\"background-color:rgba(255, 0, 0, 0.0020420439269794822)\">hallways</span></span> <span style=\"font-size:20px; font-family:Times New Roman;\">should</span> <span style=\"font-size:20px; font-family:Times New Roman;\">be</span> <span style=\"font-size:20px; font-family:Times New Roman;\"><span style=\"background-color:rgba(255, 0, 0, 0.009273483736331687)\">changed</span></span> <span style=\"font-size:20px; font-family:Times New Roman;\">here</span> <span style=\"font-size:20px; font-family:Times New Roman;\">and</span> <span style=\"font-size:20px; font-family:Times New Roman;\">there</span>"
      ],
      "text/plain": [
       "<IPython.core.display.HTML object>"
      ]
     },
     "metadata": {},
     "output_type": "display_data"
    },
    {
     "name": "stdout",
     "output_type": "stream",
     "text": [
      "\n",
      " We had two terrible night sleeps due to mattress being too hard and pillows not to our liking Didn t realise that breakfast was not included with the room Breakfast was quite pricy as a result with not a lot of flexibility in the choices i e I could have egg benedicts but not allowed any fresh fruits from the buffet \n"
     ]
    },
    {
     "data": {
      "text/html": [
       "<span style=\"font-size:16px; font-family:Times New Roman;\">\n",
       " <span style=\"background-color: rgba(255, 0, 0, 1);\">Number 1 Topic is 2</span> with  probability 1.0, Title is: Hotel Amenities Excellence</span>"
      ],
      "text/plain": [
       "<IPython.core.display.HTML object>"
      ]
     },
     "metadata": {},
     "output_type": "display_data"
    },
    {
     "data": {
      "text/html": [
       "<span style=\"font-size:16px; font-family:Times New Roman;\">\n",
       " <span style=\"background-color: rgba(0, 0, 255, 1);\">Number 2 Topic is 0</span> with  probability 6.907405844184542e-307, Title is: Hospitality Excellence</span>"
      ],
      "text/plain": [
       "<IPython.core.display.HTML object>"
      ]
     },
     "metadata": {},
     "output_type": "display_data"
    },
    {
     "name": "stdout",
     "output_type": "stream",
     "text": [
      "{2: {'breakfast': 0.11524841376258102, 'room': 0.02884931166699843, 'buffet': 0.017429381240888844, 'fresh': 0.00967226790885718, 'included': 0.008237371551833496, 'could': 0.0077695018947627125, 'quite': 0.006677011039744786, 'night': 0.005991518570758728, 'choices': 0.0034932923541490858, 'lot': 0.002878297010972517, 'pillows': 0.0028380128069645898, 'hard': 0.002672734243246859, 'two': 0.0019521570572927848, 'egg': 0.001762685723291256, 'due': 0.0015494840151366737, 'pricy': 0.001266527201283983, 'fruits': 0.001181193357683028, 'mattress': 0.0010929093344229951, 'terrible': 0.0010904884003053777, 'flexibility': 0.0006103264420451253, 'allowed': 0.0006016743646158882, 'realise': 0.0004909862672826478, 'benedicts': 0.00037029704274426923, 'sleeps': 0.00030516322102256267, 'liking': 0.0002579488022656346, 'result': 0.00024006364996036154}, 0: {'room': 0.02927797724444089, 'breakfast': 0.011407779818943154, 'quite': 0.005541962481607148, 'could': 0.0055339161517924135, 'night': 0.005173523449781533, 'lot': 0.0033326622438303237, 'two': 0.003159590894096046, 'fresh': 0.0027191765713372638, 'pillows': 0.00257934810102334, 'buffet': 0.002059637217944311, 'included': 0.001684849843780137, 'hard': 0.0013310320571176047, 'choices': 0.0012081063822782573, 'due': 0.0011188911531164905, 'allowed': 0.0009987872522593656, 'mattress': 0.0007710535623574004, 'fruits': 0.00035294333404893173, 'egg': 0.00021945608792309462, 'pricy': 0.00018922064291051775, 'realise': 0.0001833848042530645, 'result': 0.00011955263216058851, 'liking': 6.422975381449822e-05, 'terrible': 4.525562235217749e-05}}\n"
     ]
    },
    {
     "data": {
      "text/html": [
       "<span style=\"font-size:20px; font-family:Times New Roman;\">We</span> <span style=\"font-size:20px; font-family:Times New Roman;\">had</span> <span style=\"font-size:20px; font-family:Times New Roman;\"><span style=\"background-color:rgba(0, 0, 255, 0.06509807995752678)\">two</span></span> <span style=\"font-size:20px; font-family:Times New Roman;\"><span style=\"background-color:rgba(255, 0, 0, 0.009462068628136196)\">terrible</span></span> <span style=\"font-size:20px; font-family:Times New Roman;\"><span style=\"background-color:rgba(255, 0, 0, 0.05198786148242902)\">night</span></span> <span style=\"font-size:20px; font-family:Times New Roman;\"><span style=\"background-color:rgba(255, 0, 0, 0.002647873502634215)\">sleeps</span></span> <span style=\"font-size:20px; font-family:Times New Roman;\"><span style=\"background-color:rgba(255, 0, 0, 0.01344473181495329)\">due</span></span> <span style=\"font-size:20px; font-family:Times New Roman;\">to</span> <span style=\"font-size:20px; font-family:Times New Roman;\"><span style=\"background-color:rgba(255, 0, 0, 0.009483074853198908)\">mattress</span></span> <span style=\"font-size:20px; font-family:Times New Roman;\">being</span> <span style=\"font-size:20px; font-family:Times New Roman;\">too</span> <span style=\"font-size:20px; font-family:Times New Roman;\"><span style=\"background-color:rgba(255, 0, 0, 0.023191071842019965)\">hard</span></span> <span style=\"font-size:20px; font-family:Times New Roman;\">and</span> <span style=\"font-size:20px; font-family:Times New Roman;\"><span style=\"background-color:rgba(255, 0, 0, 0.02462517890103958)\">pillows</span></span> <span style=\"font-size:20px; font-family:Times New Roman;\">not</span> <span style=\"font-size:20px; font-family:Times New Roman;\">to</span> <span style=\"font-size:20px; font-family:Times New Roman;\">our</span> <span style=\"font-size:20px; font-family:Times New Roman;\"><span style=\"background-color:rgba(255, 0, 0, 0.0022381982870239357)\">liking</span></span> <span style=\"font-size:20px; font-family:Times New Roman;\">Didn</span> <span style=\"font-size:20px; font-family:Times New Roman;\">t</span> <span style=\"font-size:20px; font-family:Times New Roman;\"><span style=\"background-color:rgba(255, 0, 0, 0.004260243167373309)\">realise</span></span> <span style=\"font-size:20px; font-family:Times New Roman;\">that</span> <span style=\"font-size:20px; font-family:Times New Roman;\"><span style=\"background-color:rgba(255, 0, 0, 1.0)\">breakfast</span></span> <span style=\"font-size:20px; font-family:Times New Roman;\">was</span> <span style=\"font-size:20px; font-family:Times New Roman;\">not</span> <span style=\"font-size:20px; font-family:Times New Roman;\"><span style=\"background-color:rgba(255, 0, 0, 0.07147492345363642)\">included</span></span> <span style=\"font-size:20px; font-family:Times New Roman;\">with</span> <span style=\"font-size:20px; font-family:Times New Roman;\">the</span> <span style=\"font-size:20px; font-family:Times New Roman;\"><span style=\"background-color:rgba(0, 0, 255, 0.6032236981106217)\">room</span></span> <span style=\"font-size:20px; font-family:Times New Roman;\"><span style=\"background-color:rgba(255, 0, 0, 1.0)\">Breakfast</span></span> <span style=\"font-size:20px; font-family:Times New Roman;\">was</span> <span style=\"font-size:20px; font-family:Times New Roman;\"><span style=\"background-color:rgba(255, 0, 0, 0.05793581726426056)\">quite</span></span> <span style=\"font-size:20px; font-family:Times New Roman;\"><span style=\"background-color:rgba(255, 0, 0, 0.010989541286816394)\">pricy</span></span> <span style=\"font-size:20px; font-family:Times New Roman;\">as</span> <span style=\"font-size:20px; font-family:Times New Roman;\">a</span> <span style=\"font-size:20px; font-family:Times New Roman;\"><span style=\"background-color:rgba(255, 0, 0, 0.0020830104478045813)\">result</span></span> <span style=\"font-size:20px; font-family:Times New Roman;\">with</span> <span style=\"font-size:20px; font-family:Times New Roman;\">not</span> <span style=\"font-size:20px; font-family:Times New Roman;\">a</span> <span style=\"font-size:20px; font-family:Times New Roman;\"><span style=\"background-color:rgba(0, 0, 255, 0.06866392532833465)\">lot</span></span> <span style=\"font-size:20px; font-family:Times New Roman;\">of</span> <span style=\"font-size:20px; font-family:Times New Roman;\"><span style=\"background-color:rgba(255, 0, 0, 0.00529574700526843)\">flexibility</span></span> <span style=\"font-size:20px; font-family:Times New Roman;\">in</span> <span style=\"font-size:20px; font-family:Times New Roman;\">the</span> <span style=\"font-size:20px; font-family:Times New Roman;\"><span style=\"background-color:rgba(255, 0, 0, 0.030310979909411055)\">choices</span></span> <span style=\"font-size:20px; font-family:Times New Roman;\">i</span> <span style=\"font-size:20px; font-family:Times New Roman;\">e</span> <span style=\"font-size:20px; font-family:Times New Roman;\">I</span> <span style=\"font-size:20px; font-family:Times New Roman;\"><span style=\"background-color:rgba(255, 0, 0, 0.06741526100973828)\">could</span></span> <span style=\"font-size:20px; font-family:Times New Roman;\">have</span> <span style=\"font-size:20px; font-family:Times New Roman;\"><span style=\"background-color:rgba(255, 0, 0, 0.015294663637822378)\">egg</span></span> <span style=\"font-size:20px; font-family:Times New Roman;\"><span style=\"background-color:rgba(255, 0, 0, 0.00321303374731998)\">benedicts</span></span> <span style=\"font-size:20px; font-family:Times New Roman;\">but</span> <span style=\"font-size:20px; font-family:Times New Roman;\">not</span> <span style=\"font-size:20px; font-family:Times New Roman;\"><span style=\"background-color:rgba(0, 0, 255, 0.02057833896458944)\">allowed</span></span> <span style=\"font-size:20px; font-family:Times New Roman;\">any</span> <span style=\"font-size:20px; font-family:Times New Roman;\"><span style=\"background-color:rgba(255, 0, 0, 0.0839253885852404)\">fresh</span></span> <span style=\"font-size:20px; font-family:Times New Roman;\"><span style=\"background-color:rgba(255, 0, 0, 0.01024910729024315)\">fruits</span></span> <span style=\"font-size:20px; font-family:Times New Roman;\">from</span> <span style=\"font-size:20px; font-family:Times New Roman;\">the</span> <span style=\"font-size:20px; font-family:Times New Roman;\"><span style=\"background-color:rgba(255, 0, 0, 0.1512331551633714)\">buffet</span></span>"
      ],
      "text/plain": [
       "<IPython.core.display.HTML object>"
      ]
     },
     "metadata": {},
     "output_type": "display_data"
    },
    {
     "name": "stdout",
     "output_type": "stream",
     "text": [
      "\n",
      " Breakfast was a bit of a hassle as they wanted us to eat in a side room as a guest of the hotel but we wanted to eat in the glass enclosed room We had to ask many times \n"
     ]
    },
    {
     "data": {
      "text/html": [
       "<span style=\"font-size:16px; font-family:Times New Roman;\">\n",
       " <span style=\"background-color: rgba(255, 0, 0, 1);\">Number 1 Topic is 2</span> with  probability 0.30577313574267695, Title is: Hotel Amenities Excellence</span>"
      ],
      "text/plain": [
       "<IPython.core.display.HTML object>"
      ]
     },
     "metadata": {},
     "output_type": "display_data"
    },
    {
     "data": {
      "text/html": [
       "<span style=\"font-size:16px; font-family:Times New Roman;\">\n",
       " <span style=\"background-color: rgba(0, 0, 255, 1);\">Number 2 Topic is 0</span> with  probability 0.16567352110267122, Title is: Hospitality Excellence</span>"
      ],
      "text/plain": [
       "<IPython.core.display.HTML object>"
      ]
     },
     "metadata": {},
     "output_type": "display_data"
    },
    {
     "name": "stdout",
     "output_type": "stream",
     "text": [
      "{2: {'breakfast': 0.11524841376258102, 'room': 0.02884931166699843, 'hotel': 0.017743692380512918, 'bit': 0.005709074486491888, 'eat': 0.004933046426264577, 'wanted': 0.0029696592643779804, 'many': 0.0025210464855380025, 'side': 0.0024002217533908585, 'ask': 0.001865093515567367, 'times': 0.0017624354294427024, 'glass': 0.001230899341838635, 'guest': 0.0010490176862525723, 'enclosed': 0.0002904263641984775, 'hassle': 0.00024006364996036154}, 0: {'hotel': 0.048535853840198054, 'room': 0.02927797724444089, 'breakfast': 0.011407779818943154, 'many': 0.005579959836948519, 'bit': 0.00356639656508472, 'side': 0.0022038708376959718, 'wanted': 0.0020237604584214565, 'times': 0.0017188285877470962, 'eat': 0.0013511719775577496, 'guest': 0.0013060372279936295, 'ask': 0.0012771327674628978, 'glass': 0.0008757038052547606, 'hassle': 0.0003586578964817655, 'enclosed': 7.231672994743423e-05}}\n"
     ]
    },
    {
     "data": {
      "text/html": [
       "<span style=\"font-size:20px; font-family:Times New Roman;\"><span style=\"background-color:rgba(255, 0, 0, 1.0)\">Breakfast</span></span> <span style=\"font-size:20px; font-family:Times New Roman;\">was</span> <span style=\"font-size:20px; font-family:Times New Roman;\">a</span> <span style=\"font-size:20px; font-family:Times New Roman;\"><span style=\"background-color:rgba(255, 0, 0, 0.04953711986225633)\">bit</span></span> <span style=\"font-size:20px; font-family:Times New Roman;\">of</span> <span style=\"font-size:20px; font-family:Times New Roman;\">a</span> <span style=\"font-size:20px; font-family:Times New Roman;\"><span style=\"background-color:rgba(0, 0, 255, 0.0073895454206416)\">hassle</span></span> <span style=\"font-size:20px; font-family:Times New Roman;\">as</span> <span style=\"font-size:20px; font-family:Times New Roman;\">they</span> <span style=\"font-size:20px; font-family:Times New Roman;\"><span style=\"background-color:rgba(255, 0, 0, 0.025767463233773137)\">wanted</span></span> <span style=\"font-size:20px; font-family:Times New Roman;\">us</span> <span style=\"font-size:20px; font-family:Times New Roman;\">to</span> <span style=\"font-size:20px; font-family:Times New Roman;\"><span style=\"background-color:rgba(255, 0, 0, 0.042803594992873076)\">eat</span></span> <span style=\"font-size:20px; font-family:Times New Roman;\">in</span> <span style=\"font-size:20px; font-family:Times New Roman;\">a</span> <span style=\"font-size:20px; font-family:Times New Roman;\"><span style=\"background-color:rgba(255, 0, 0, 0.02082650576289463)\">side</span></span> <span style=\"font-size:20px; font-family:Times New Roman;\"><span style=\"background-color:rgba(0, 0, 255, 0.6032236981106217)\">room</span></span> <span style=\"font-size:20px; font-family:Times New Roman;\">as</span> <span style=\"font-size:20px; font-family:Times New Roman;\">a</span> <span style=\"font-size:20px; font-family:Times New Roman;\"><span style=\"background-color:rgba(0, 0, 255, 0.026908710255591543)\">guest</span></span> <span style=\"font-size:20px; font-family:Times New Roman;\">of</span> <span style=\"font-size:20px; font-family:Times New Roman;\">the</span> <span style=\"font-size:20px; font-family:Times New Roman;\"><span style=\"background-color:rgba(0, 0, 255, 1.0)\">hotel</span></span> <span style=\"font-size:20px; font-family:Times New Roman;\">but</span> <span style=\"font-size:20px; font-family:Times New Roman;\">we</span> <span style=\"font-size:20px; font-family:Times New Roman;\"><span style=\"background-color:rgba(255, 0, 0, 0.025767463233773137)\">wanted</span></span> <span style=\"font-size:20px; font-family:Times New Roman;\">to</span> <span style=\"font-size:20px; font-family:Times New Roman;\"><span style=\"background-color:rgba(255, 0, 0, 0.042803594992873076)\">eat</span></span> <span style=\"font-size:20px; font-family:Times New Roman;\">in</span> <span style=\"font-size:20px; font-family:Times New Roman;\">the</span> <span style=\"font-size:20px; font-family:Times New Roman;\"><span style=\"background-color:rgba(255, 0, 0, 0.010680401592115316)\">glass</span></span> <span style=\"font-size:20px; font-family:Times New Roman;\"><span style=\"background-color:rgba(255, 0, 0, 0.0025200031368481485)\">enclosed</span></span> <span style=\"font-size:20px; font-family:Times New Roman;\"><span style=\"background-color:rgba(0, 0, 255, 0.6032236981106217)\">room</span></span> <span style=\"font-size:20px; font-family:Times New Roman;\">We</span> <span style=\"font-size:20px; font-family:Times New Roman;\">had</span> <span style=\"font-size:20px; font-family:Times New Roman;\">to</span> <span style=\"font-size:20px; font-family:Times New Roman;\"><span style=\"background-color:rgba(255, 0, 0, 0.016183246733526214)\">ask</span></span> <span style=\"font-size:20px; font-family:Times New Roman;\"><span style=\"background-color:rgba(0, 0, 255, 0.11496572936205607)\">many</span></span> <span style=\"font-size:20px; font-family:Times New Roman;\"><span style=\"background-color:rgba(255, 0, 0, 0.015292491860872205)\">times</span></span>"
      ],
      "text/plain": [
       "<IPython.core.display.HTML object>"
      ]
     },
     "metadata": {},
     "output_type": "display_data"
    },
    {
     "name": "stdout",
     "output_type": "stream",
     "text": [
      "\n",
      " Some parts of the hotel are very confusing Have to take multiple lifts and routes to get to your room \n"
     ]
    },
    {
     "data": {
      "text/html": [
       "<span style=\"font-size:16px; font-family:Times New Roman;\">\n",
       " <span style=\"background-color: rgba(255, 0, 0, 1);\">Number 1 Topic is 15</span> with  probability 1.0, Title is: Elevator and Accessibility</span>"
      ],
      "text/plain": [
       "<IPython.core.display.HTML object>"
      ]
     },
     "metadata": {},
     "output_type": "display_data"
    },
    {
     "data": {
      "text/html": [
       "<span style=\"font-size:16px; font-family:Times New Roman;\">\n",
       " <span style=\"background-color: rgba(0, 0, 255, 1);\">Number 2 Topic is 0</span> with  probability 5.61066895952114e-307, Title is: Hospitality Excellence</span>"
      ],
      "text/plain": [
       "<IPython.core.display.HTML object>"
      ]
     },
     "metadata": {},
     "output_type": "display_data"
    },
    {
     "name": "stdout",
     "output_type": "stream",
     "text": [
      "{15: {'lifts': 0.11537843659648478, 'room': 0.027535552176971678, 'get': 0.01604337606062659, 'hotel': 0.012745857504103739, 'take': 0.012075708292470656, 'confusing': 0.011374677823007473, 'routes': 0.002143820678918144, 'multiple': 0.001902321453677187, 'parts': 0.0018167169787009633}, 0: {'hotel': 0.048535853840198054, 'room': 0.02927797724444089, 'get': 0.007358044681552877, 'take': 0.0031531848121245697, 'multiple': 0.0006353528059744365, 'routes': 0.000585826922679791, 'parts': 0.0004964415762374262, 'lifts': 0.00044912621858949405, 'confusing': 0.00011512143942535966}}\n"
     ]
    },
    {
     "data": {
      "text/html": [
       "<span style=\"font-size:20px; font-family:Times New Roman;\">Some</span> <span style=\"font-size:20px; font-family:Times New Roman;\"><span style=\"background-color:rgba(255, 0, 0, 0.011222660673541884)\">parts</span></span> <span style=\"font-size:20px; font-family:Times New Roman;\">of</span> <span style=\"font-size:20px; font-family:Times New Roman;\">the</span> <span style=\"font-size:20px; font-family:Times New Roman;\"><span style=\"background-color:rgba(0, 0, 255, 1.0)\">hotel</span></span> <span style=\"font-size:20px; font-family:Times New Roman;\">are</span> <span style=\"font-size:20px; font-family:Times New Roman;\">very</span> <span style=\"font-size:20px; font-family:Times New Roman;\"><span style=\"background-color:rgba(255, 0, 0, 0.07026639315594088)\">confusing</span></span> <span style=\"font-size:20px; font-family:Times New Roman;\">Have</span> <span style=\"font-size:20px; font-family:Times New Roman;\">to</span> <span style=\"font-size:20px; font-family:Times New Roman;\"><span style=\"background-color:rgba(255, 0, 0, 0.07459696702784066)\">take</span></span> <span style=\"font-size:20px; font-family:Times New Roman;\"><span style=\"background-color:rgba(255, 0, 0, 0.011751477206913977)\">multiple</span></span> <span style=\"font-size:20px; font-family:Times New Roman;\"><span style=\"background-color:rgba(255, 0, 0, 0.7127434037039689)\">lifts</span></span> <span style=\"font-size:20px; font-family:Times New Roman;\">and</span> <span style=\"font-size:20px; font-family:Times New Roman;\"><span style=\"background-color:rgba(255, 0, 0, 0.013243324252754044)\">routes</span></span> <span style=\"font-size:20px; font-family:Times New Roman;\">to</span> <span style=\"font-size:20px; font-family:Times New Roman;\"><span style=\"background-color:rgba(255, 0, 0, 0.09910699778629303)\">get</span></span> <span style=\"font-size:20px; font-family:Times New Roman;\">to</span> <span style=\"font-size:20px; font-family:Times New Roman;\">your</span> <span style=\"font-size:20px; font-family:Times New Roman;\"><span style=\"background-color:rgba(0, 0, 255, 0.6032236981106217)\">room</span></span>"
      ],
      "text/plain": [
       "<IPython.core.display.HTML object>"
      ]
     },
     "metadata": {},
     "output_type": "display_data"
    },
    {
     "name": "stdout",
     "output_type": "stream",
     "text": [
      "\n",
      " No lift so if you struggle with stairs ask for a room on the first floor \n"
     ]
    },
    {
     "data": {
      "text/html": [
       "<span style=\"font-size:16px; font-family:Times New Roman;\">\n",
       " <span style=\"background-color: rgba(255, 0, 0, 1);\">Number 1 Topic is 15</span> with  probability 0.30992516431221495, Title is: Elevator and Accessibility</span>"
      ],
      "text/plain": [
       "<IPython.core.display.HTML object>"
      ]
     },
     "metadata": {},
     "output_type": "display_data"
    },
    {
     "data": {
      "text/html": [
       "<span style=\"font-size:16px; font-family:Times New Roman;\">\n",
       " <span style=\"background-color: rgba(0, 0, 255, 1);\">Number 2 Topic is 0</span> with  probability 0.10440216888626148, Title is: Hospitality Excellence</span>"
      ],
      "text/plain": [
       "<IPython.core.display.HTML object>"
      ]
     },
     "metadata": {},
     "output_type": "display_data"
    },
    {
     "name": "stdout",
     "output_type": "stream",
     "text": [
      "{15: {'lift': 0.16187934675633434, 'stairs': 0.1087697605504785, 'floor': 0.04672003811150139, 'room': 0.027535552176971678, 'first': 0.005208088906882794, 'struggle': 0.004544361124639623, 'ask': 0.0038238865711982704}, 0: {'room': 0.02927797724444089, 'floor': 0.004057024056328162, 'first': 0.0035737584065294752, 'ask': 0.0012771327674628978, 'lift': 0.0005334185689522083, 'stairs': 0.00044628759370560683, 'struggle': 0.00020696764421365991}}\n"
     ]
    },
    {
     "data": {
      "text/html": [
       "<span style=\"font-size:20px; font-family:Times New Roman;\">No</span> <span style=\"font-size:20px; font-family:Times New Roman;\"><span style=\"background-color:rgba(255, 0, 0, 1.0)\">lift</span></span> <span style=\"font-size:20px; font-family:Times New Roman;\">so</span> <span style=\"font-size:20px; font-family:Times New Roman;\">if</span> <span style=\"font-size:20px; font-family:Times New Roman;\">you</span> <span style=\"font-size:20px; font-family:Times New Roman;\"><span style=\"background-color:rgba(255, 0, 0, 0.028072519538146715)\">struggle</span></span> <span style=\"font-size:20px; font-family:Times New Roman;\">with</span> <span style=\"font-size:20px; font-family:Times New Roman;\"><span style=\"background-color:rgba(255, 0, 0, 0.6719187019836571)\">stairs</span></span> <span style=\"font-size:20px; font-family:Times New Roman;\"><span style=\"background-color:rgba(255, 0, 0, 0.0236218309983305)\">ask</span></span> <span style=\"font-size:20px; font-family:Times New Roman;\">for</span> <span style=\"font-size:20px; font-family:Times New Roman;\">a</span> <span style=\"font-size:20px; font-family:Times New Roman;\"><span style=\"background-color:rgba(0, 0, 255, 0.6032236981106217)\">room</span></span> <span style=\"font-size:20px; font-family:Times New Roman;\">on</span> <span style=\"font-size:20px; font-family:Times New Roman;\">the</span> <span style=\"font-size:20px; font-family:Times New Roman;\"><span style=\"background-color:rgba(255, 0, 0, 0.03217265828680521)\">first</span></span> <span style=\"font-size:20px; font-family:Times New Roman;\"><span style=\"background-color:rgba(255, 0, 0, 0.2886102461348933)\">floor</span></span>"
      ],
      "text/plain": [
       "<IPython.core.display.HTML object>"
      ]
     },
     "metadata": {},
     "output_type": "display_data"
    },
    {
     "name": "stdout",
     "output_type": "stream",
     "text": [
      "\n",
      " Our room was in between floors so that although we could use the elevator to take our bags upstairs I had to carry them 12 stairs to the room itself Strange setup Avoid room 307 there were other rooms the same on other floors \n"
     ]
    },
    {
     "data": {
      "text/html": [
       "<span style=\"font-size:16px; font-family:Times New Roman;\">\n",
       " <span style=\"background-color: rgba(255, 0, 0, 1);\">Number 1 Topic is 15</span> with  probability 0.5332758227805888, Title is: Elevator and Accessibility</span>"
      ],
      "text/plain": [
       "<IPython.core.display.HTML object>"
      ]
     },
     "metadata": {},
     "output_type": "display_data"
    },
    {
     "data": {
      "text/html": [
       "<span style=\"font-size:16px; font-family:Times New Roman;\">\n",
       " <span style=\"background-color: rgba(0, 0, 255, 1);\">Number 2 Topic is 0</span> with  probability 0.08679325109123735, Title is: Hospitality Excellence</span>"
      ],
      "text/plain": [
       "<IPython.core.display.HTML object>"
      ]
     },
     "metadata": {},
     "output_type": "display_data"
    },
    {
     "name": "stdout",
     "output_type": "stream",
     "text": [
      "{15: {'elevator': 0.15226324419802933, 'stairs': 0.1087697605504785, 'use': 0.028568546784598865, 'carry': 0.02763905160040454, 'room': 0.027535552176971678, 'bags': 0.019229739432747462, 'rooms': 0.0174290334082677, 'could': 0.014817983325521984, 'take': 0.012075708292470656, 'floors': 0.01109290126835964, 'although': 0.006934832369830629, 'upstairs': 0.0037787575137561715, 'strange': 0.003262414712179988, 'setup': 0.0021922422209861743, 'avoid': 0.0017883674248255893}, 0: {'room': 0.02927797724444089, 'rooms': 0.022525856144947343, 'could': 0.0055339161517924135, 'use': 0.003501783117090669, 'although': 0.003333854822793243, 'take': 0.0031531848121245697, 'floors': 0.001106657686848193, 'bags': 0.0010779029246147855, 'elevator': 0.0006362066456852626, 'stairs': 0.00044628759370560683, 'carry': 0.000335676925968431, 'avoid': 0.00032579646093504875, 'strange': 0.0002971657704608251, 'setup': 0.0001331241643812543}}\n"
     ]
    },
    {
     "data": {
      "text/html": [
       "<span style=\"font-size:20px; font-family:Times New Roman;\">Our</span> <span style=\"font-size:20px; font-family:Times New Roman;\"><span style=\"background-color:rgba(0, 0, 255, 0.6032236981106217)\">room</span></span> <span style=\"font-size:20px; font-family:Times New Roman;\">was</span> <span style=\"font-size:20px; font-family:Times New Roman;\">in</span> <span style=\"font-size:20px; font-family:Times New Roman;\">between</span> <span style=\"font-size:20px; font-family:Times New Roman;\"><span style=\"background-color:rgba(255, 0, 0, 0.06852573531234352)\">floors</span></span> <span style=\"font-size:20px; font-family:Times New Roman;\">so</span> <span style=\"font-size:20px; font-family:Times New Roman;\">that</span> <span style=\"font-size:20px; font-family:Times New Roman;\"><span style=\"background-color:rgba(255, 0, 0, 0.04283951293841794)\">although</span></span> <span style=\"font-size:20px; font-family:Times New Roman;\">we</span> <span style=\"font-size:20px; font-family:Times New Roman;\"><span style=\"background-color:rgba(255, 0, 0, 0.09153720732408477)\">could</span></span> <span style=\"font-size:20px; font-family:Times New Roman;\"><span style=\"background-color:rgba(255, 0, 0, 0.17648049215074424)\">use</span></span> <span style=\"font-size:20px; font-family:Times New Roman;\">the</span> <span style=\"font-size:20px; font-family:Times New Roman;\"><span style=\"background-color:rgba(255, 0, 0, 0.9405971005505758)\">elevator</span></span> <span style=\"font-size:20px; font-family:Times New Roman;\">to</span> <span style=\"font-size:20px; font-family:Times New Roman;\"><span style=\"background-color:rgba(255, 0, 0, 0.07459696702784066)\">take</span></span> <span style=\"font-size:20px; font-family:Times New Roman;\">our</span> <span style=\"font-size:20px; font-family:Times New Roman;\"><span style=\"background-color:rgba(255, 0, 0, 0.11879056728399481)\">bags</span></span> <span style=\"font-size:20px; font-family:Times New Roman;\"><span style=\"background-color:rgba(255, 0, 0, 0.02334304894029546)\">upstairs</span></span> <span style=\"font-size:20px; font-family:Times New Roman;\">I</span> <span style=\"font-size:20px; font-family:Times New Roman;\">had</span> <span style=\"font-size:20px; font-family:Times New Roman;\">to</span> <span style=\"font-size:20px; font-family:Times New Roman;\"><span style=\"background-color:rgba(255, 0, 0, 0.17073859114348708)\">carry</span></span> <span style=\"font-size:20px; font-family:Times New Roman;\">them</span> <span style=\"font-size:20px; font-family:Times New Roman;\">12</span> <span style=\"font-size:20px; font-family:Times New Roman;\"><span style=\"background-color:rgba(255, 0, 0, 0.6719187019836571)\">stairs</span></span> <span style=\"font-size:20px; font-family:Times New Roman;\">to</span> <span style=\"font-size:20px; font-family:Times New Roman;\">the</span> <span style=\"font-size:20px; font-family:Times New Roman;\"><span style=\"background-color:rgba(0, 0, 255, 0.6032236981106217)\">room</span></span> <span style=\"font-size:20px; font-family:Times New Roman;\">itself</span> <span style=\"font-size:20px; font-family:Times New Roman;\"><span style=\"background-color:rgba(255, 0, 0, 0.020153372110468627)\">Strange</span></span> <span style=\"font-size:20px; font-family:Times New Roman;\"><span style=\"background-color:rgba(255, 0, 0, 0.013542445437996506)\">setup</span></span> <span style=\"font-size:20px; font-family:Times New Roman;\"><span style=\"background-color:rgba(255, 0, 0, 0.011047532997013472)\">Avoid</span></span> <span style=\"font-size:20px; font-family:Times New Roman;\"><span style=\"background-color:rgba(0, 0, 255, 0.6032236981106217)\">room</span></span> <span style=\"font-size:20px; font-family:Times New Roman;\">307</span> <span style=\"font-size:20px; font-family:Times New Roman;\">there</span> <span style=\"font-size:20px; font-family:Times New Roman;\">were</span> <span style=\"font-size:20px; font-family:Times New Roman;\">other</span> <span style=\"font-size:20px; font-family:Times New Roman;\"><span style=\"background-color:rgba(0, 0, 255, 0.4641075485992815)\">rooms</span></span> <span style=\"font-size:20px; font-family:Times New Roman;\">the</span> <span style=\"font-size:20px; font-family:Times New Roman;\">same</span> <span style=\"font-size:20px; font-family:Times New Roman;\">on</span> <span style=\"font-size:20px; font-family:Times New Roman;\">other</span> <span style=\"font-size:20px; font-family:Times New Roman;\"><span style=\"background-color:rgba(255, 0, 0, 0.06852573531234352)\">floors</span></span>"
      ],
      "text/plain": [
       "<IPython.core.display.HTML object>"
      ]
     },
     "metadata": {},
     "output_type": "display_data"
    },
    {
     "name": "stdout",
     "output_type": "stream",
     "text": [
      "\n",
      " Only downside was the exclusive Wings and Horns robe was 140 to purchase And I don t do enough loafing to warrant that \n"
     ]
    },
    {
     "data": {
      "text/html": [
       "<span style=\"font-size:16px; font-family:Times New Roman;\">\n",
       " <span style=\"background-color: rgba(255, 0, 0, 1);\">Number 1 Topic is 16</span> with  probability 1.0, Title is: Price and Value</span>"
      ],
      "text/plain": [
       "<IPython.core.display.HTML object>"
      ]
     },
     "metadata": {},
     "output_type": "display_data"
    },
    {
     "data": {
      "text/html": [
       "<span style=\"font-size:16px; font-family:Times New Roman;\">\n",
       " <span style=\"background-color: rgba(0, 0, 255, 1);\">Number 2 Topic is 0</span> with  probability 3.891381828613259e-307, Title is: Hospitality Excellence</span>"
      ],
      "text/plain": [
       "<IPython.core.display.HTML object>"
      ]
     },
     "metadata": {},
     "output_type": "display_data"
    },
    {
     "name": "stdout",
     "output_type": "stream",
     "text": [
      "{16: {'enough': 0.010175167010233147, 'loafing': 0.00982197729770865, 'wings': 0.008762636066444668, 'horns': 0.008762636066444668, 'warrant': 0.008762636066444668, 'exclusive': 0.007703440283166174, 'downside': 0.006886810108532265, 'robe': 0.006841986263373718, 'purchase': 0.006841986263373718}, 0: {'enough': 0.004712334018505235, 'downside': 0.00025860216657033297, 'exclusive': 0.00021695018984230267, 'purchase': 0.00019268926144349466, 'robe': 0.00012845950762899644, 'wings': 8.226002445030662e-05}}\n"
     ]
    },
    {
     "data": {
      "text/html": [
       "<span style=\"font-size:20px; font-family:Times New Roman;\">Only</span> <span style=\"font-size:20px; font-family:Times New Roman;\"><span style=\"background-color:rgba(255, 0, 0, 0.028797713961323655)\">downside</span></span> <span style=\"font-size:20px; font-family:Times New Roman;\">was</span> <span style=\"font-size:20px; font-family:Times New Roman;\">the</span> <span style=\"font-size:20px; font-family:Times New Roman;\"><span style=\"background-color:rgba(255, 0, 0, 0.03221251440023181)\">exclusive</span></span> <span style=\"font-size:20px; font-family:Times New Roman;\"><span style=\"background-color:rgba(255, 0, 0, 0.03664162115868649)\">Wings</span></span> <span style=\"font-size:20px; font-family:Times New Roman;\">and</span> <span style=\"font-size:20px; font-family:Times New Roman;\"><span style=\"background-color:rgba(255, 0, 0, 0.03664162115868649)\">Horns</span></span> <span style=\"font-size:20px; font-family:Times New Roman;\"><span style=\"background-color:rgba(255, 0, 0, 0.028610279684615016)\">robe</span></span> <span style=\"font-size:20px; font-family:Times New Roman;\">was</span> <span style=\"font-size:20px; font-family:Times New Roman;\">140</span> <span style=\"font-size:20px; font-family:Times New Roman;\">to</span> <span style=\"font-size:20px; font-family:Times New Roman;\"><span style=\"background-color:rgba(255, 0, 0, 0.028610279684615016)\">purchase</span></span> <span style=\"font-size:20px; font-family:Times New Roman;\">And</span> <span style=\"font-size:20px; font-family:Times New Roman;\">I</span> <span style=\"font-size:20px; font-family:Times New Roman;\">don</span> <span style=\"font-size:20px; font-family:Times New Roman;\">t</span> <span style=\"font-size:20px; font-family:Times New Roman;\">do</span> <span style=\"font-size:20px; font-family:Times New Roman;\"><span style=\"background-color:rgba(255, 0, 0, 0.04254822544131981)\">enough</span></span> <span style=\"font-size:20px; font-family:Times New Roman;\"><span style=\"background-color:rgba(255, 0, 0, 0.04107133611882181)\">loafing</span></span> <span style=\"font-size:20px; font-family:Times New Roman;\">to</span> <span style=\"font-size:20px; font-family:Times New Roman;\"><span style=\"background-color:rgba(255, 0, 0, 0.03664162115868649)\">warrant</span></span> <span style=\"font-size:20px; font-family:Times New Roman;\">that</span>"
      ],
      "text/plain": [
       "<IPython.core.display.HTML object>"
      ]
     },
     "metadata": {},
     "output_type": "display_data"
    },
    {
     "name": "stdout",
     "output_type": "stream",
     "text": [
      "\n",
      " Ceiling in room needed patching and painting looked like they d been doing a bit of work but not a problem \n"
     ]
    },
    {
     "data": {
      "text/html": [
       "<span style=\"font-size:16px; font-family:Times New Roman;\">\n",
       " <span style=\"background-color: rgba(255, 0, 0, 1);\">Number 1 Topic is 10</span> with  probability 1.0, Title is: Room Lighting</span>"
      ],
      "text/plain": [
       "<IPython.core.display.HTML object>"
      ]
     },
     "metadata": {},
     "output_type": "display_data"
    },
    {
     "data": {
      "text/html": [
       "<span style=\"font-size:16px; font-family:Times New Roman;\">\n",
       " <span style=\"background-color: rgba(0, 0, 255, 1);\">Number 2 Topic is 0</span> with  probability 6.742624434180905e-307, Title is: Hospitality Excellence</span>"
      ],
      "text/plain": [
       "<IPython.core.display.HTML object>"
      ]
     },
     "metadata": {},
     "output_type": "display_data"
    },
    {
     "name": "stdout",
     "output_type": "stream",
     "text": [
      "{10: {'room': 0.1034651188198979, 'bit': 0.04828884128282164, 'like': 0.015143427679508839, 'work': 0.010108726625013211, 'needed': 0.0065047830769973565, 'problem': 0.005706357238316478, 'ceiling': 0.004162912337641759, 'painting': 0.003996161962334647, 'looked': 0.0032460043696986994, 'patching': 0.0018596659590512817}, 0: {'room': 0.02927797724444089, 'like': 0.007556751346144966, 'needed': 0.003726848100627459, 'bit': 0.00356639656508472, 'looked': 0.0021727057447457295, 'problem': 0.002051233058510662, 'work': 0.0016289128783496258, 'ceiling': 0.00041280533876366103}}\n"
     ]
    },
    {
     "data": {
      "text/html": [
       "<span style=\"font-size:20px; font-family:Times New Roman;\"><span style=\"background-color:rgba(255, 0, 0, 0.036265681625306204)\">Ceiling</span></span> <span style=\"font-size:20px; font-family:Times New Roman;\">in</span> <span style=\"font-size:20px; font-family:Times New Roman;\"><span style=\"background-color:rgba(255, 0, 0, 0.9013480837726432)\">room</span></span> <span style=\"font-size:20px; font-family:Times New Roman;\"><span style=\"background-color:rgba(255, 0, 0, 0.05666715342021845)\">needed</span></span> <span style=\"font-size:20px; font-family:Times New Roman;\"><span style=\"background-color:rgba(255, 0, 0, 0.016200690317341306)\">patching</span></span> <span style=\"font-size:20px; font-family:Times New Roman;\">and</span> <span style=\"font-size:20px; font-family:Times New Roman;\"><span style=\"background-color:rgba(255, 0, 0, 0.03481301687253032)\">painting</span></span> <span style=\"font-size:20px; font-family:Times New Roman;\"><span style=\"background-color:rgba(255, 0, 0, 0.028277934166764596)\">looked</span></span> <span style=\"font-size:20px; font-family:Times New Roman;\"><span style=\"background-color:rgba(255, 0, 0, 0.13192368284459838)\">like</span></span> <span style=\"font-size:20px; font-family:Times New Roman;\">they</span> <span style=\"font-size:20px; font-family:Times New Roman;\">d</span> <span style=\"font-size:20px; font-family:Times New Roman;\">been</span> <span style=\"font-size:20px; font-family:Times New Roman;\">doing</span> <span style=\"font-size:20px; font-family:Times New Roman;\">a</span> <span style=\"font-size:20px; font-family:Times New Roman;\"><span style=\"background-color:rgba(255, 0, 0, 0.42067370196169024)\">bit</span></span> <span style=\"font-size:20px; font-family:Times New Roman;\">of</span> <span style=\"font-size:20px; font-family:Times New Roman;\"><span style=\"background-color:rgba(255, 0, 0, 0.08806331521928222)\">work</span></span> <span style=\"font-size:20px; font-family:Times New Roman;\">but</span> <span style=\"font-size:20px; font-family:Times New Roman;\">not</span> <span style=\"font-size:20px; font-family:Times New Roman;\">a</span> <span style=\"font-size:20px; font-family:Times New Roman;\"><span style=\"background-color:rgba(255, 0, 0, 0.0497115764302351)\">problem</span></span>"
      ],
      "text/plain": [
       "<IPython.core.display.HTML object>"
      ]
     },
     "metadata": {},
     "output_type": "display_data"
    },
    {
     "name": "stdout",
     "output_type": "stream",
     "text": [
      "\n",
      " The room was in the ground so can t open curtain and was far from all other locations\n"
     ]
    },
    {
     "data": {
      "text/html": [
       "<span style=\"font-size:16px; font-family:Times New Roman;\">\n",
       " <span style=\"background-color: rgba(255, 0, 0, 1);\">Number 1 Topic is 10</span> with  probability 1.0, Title is: Room Lighting</span>"
      ],
      "text/plain": [
       "<IPython.core.display.HTML object>"
      ]
     },
     "metadata": {},
     "output_type": "display_data"
    },
    {
     "data": {
      "text/html": [
       "<span style=\"font-size:16px; font-family:Times New Roman;\">\n",
       " <span style=\"background-color: rgba(0, 0, 255, 1);\">Number 2 Topic is 0</span> with  probability 5.820220192813384e-307, Title is: Hospitality Excellence</span>"
      ],
      "text/plain": [
       "<IPython.core.display.HTML object>"
      ]
     },
     "metadata": {},
     "output_type": "display_data"
    },
    {
     "name": "stdout",
     "output_type": "stream",
     "text": [
      "{10: {'room': 0.1034651188198979, 'far': 0.005980853894231412, 'ground': 0.005660605184379733, 'open': 0.005563883384492342, 'curtain': 0.0032938182522463965, 'locations': 0.0011531788557024795}, 0: {'room': 0.02927797724444089, 'far': 0.003986796773461035, 'open': 0.001310357119088459, 'locations': 0.0011435224899619752, 'ground': 0.0006548739183268744, 'curtain': 0.0002177491219548094}}\n"
     ]
    },
    {
     "data": {
      "text/html": [
       "<span style=\"font-size:20px; font-family:Times New Roman;\">The</span> <span style=\"font-size:20px; font-family:Times New Roman;\"><span style=\"background-color:rgba(255, 0, 0, 0.9013480837726432)\">room</span></span> <span style=\"font-size:20px; font-family:Times New Roman;\">was</span> <span style=\"font-size:20px; font-family:Times New Roman;\">in</span> <span style=\"font-size:20px; font-family:Times New Roman;\">the</span> <span style=\"font-size:20px; font-family:Times New Roman;\"><span style=\"background-color:rgba(255, 0, 0, 0.04931300223813146)\">ground</span></span> <span style=\"font-size:20px; font-family:Times New Roman;\">so</span> <span style=\"font-size:20px; font-family:Times New Roman;\">can</span> <span style=\"font-size:20px; font-family:Times New Roman;\">t</span> <span style=\"font-size:20px; font-family:Times New Roman;\"><span style=\"background-color:rgba(255, 0, 0, 0.048470399339861026)\">open</span></span> <span style=\"font-size:20px; font-family:Times New Roman;\"><span style=\"background-color:rgba(255, 0, 0, 0.028694470211990775)\">curtain</span></span> <span style=\"font-size:20px; font-family:Times New Roman;\">and</span> <span style=\"font-size:20px; font-family:Times New Roman;\">was</span> <span style=\"font-size:20px; font-family:Times New Roman;\"><span style=\"background-color:rgba(255, 0, 0, 0.052102885091868244)\">far</span></span> <span style=\"font-size:20px; font-family:Times New Roman;\">from</span> <span style=\"font-size:20px; font-family:Times New Roman;\">all</span> <span style=\"font-size:20px; font-family:Times New Roman;\">other</span> <span style=\"font-size:20px; font-family:Times New Roman;\"><span style=\"background-color:rgba(255, 0, 0, 0.010046048017823996)\">locations</span></span>"
      ],
      "text/plain": [
       "<IPython.core.display.HTML object>"
      ]
     },
     "metadata": {},
     "output_type": "display_data"
    },
    {
     "name": "stdout",
     "output_type": "stream",
     "text": [
      "\n",
      " The room is completely outdated way too expensive \n"
     ]
    },
    {
     "data": {
      "text/html": [
       "<span style=\"font-size:16px; font-family:Times New Roman;\">\n",
       " <span style=\"background-color: rgba(255, 0, 0, 1);\">Number 1 Topic is 10</span> with  probability 1.0, Title is: Room Lighting</span>"
      ],
      "text/plain": [
       "<IPython.core.display.HTML object>"
      ]
     },
     "metadata": {},
     "output_type": "display_data"
    },
    {
     "data": {
      "text/html": [
       "<span style=\"font-size:16px; font-family:Times New Roman;\">\n",
       " <span style=\"background-color: rgba(0, 0, 255, 1);\">Number 2 Topic is 0</span> with  probability 8.445767560248852e-307, Title is: Hospitality Excellence</span>"
      ],
      "text/plain": [
       "<IPython.core.display.HTML object>"
      ]
     },
     "metadata": {},
     "output_type": "display_data"
    },
    {
     "name": "stdout",
     "output_type": "stream",
     "text": [
      "{10: {'room': 0.1034651188198979, 'expensive': 0.018105414135572696, 'outdated': 0.007555192776543477, 'way': 0.006782454549657222, 'completely': 0.0019521433266217441}, 0: {'room': 0.02927797724444089, 'way': 0.004102652817954699, 'expensive': 0.0020270424949771614, 'completely': 0.0003871593355327856}}\n"
     ]
    },
    {
     "data": {
      "text/html": [
       "<span style=\"font-size:20px; font-family:Times New Roman;\">The</span> <span style=\"font-size:20px; font-family:Times New Roman;\"><span style=\"background-color:rgba(255, 0, 0, 0.9013480837726432)\">room</span></span> <span style=\"font-size:20px; font-family:Times New Roman;\">is</span> <span style=\"font-size:20px; font-family:Times New Roman;\"><span style=\"background-color:rgba(255, 0, 0, 0.017006317363467544)\">completely</span></span> <span style=\"font-size:20px; font-family:Times New Roman;\"><span style=\"background-color:rgba(255, 0, 0, 0.06581791631172168)\">outdated</span></span> <span style=\"font-size:20px; font-family:Times New Roman;\"><span style=\"background-color:rgba(255, 0, 0, 0.05908611985697438)\">way</span></span> <span style=\"font-size:20px; font-family:Times New Roman;\">too</span> <span style=\"font-size:20px; font-family:Times New Roman;\"><span style=\"background-color:rgba(255, 0, 0, 0.15772736283631594)\">expensive</span></span>"
      ],
      "text/plain": [
       "<IPython.core.display.HTML object>"
      ]
     },
     "metadata": {},
     "output_type": "display_data"
    },
    {
     "name": "stdout",
     "output_type": "stream",
     "text": [
      "\n",
      " Beds were very low Room was quite dark it needs more lights \n"
     ]
    },
    {
     "data": {
      "text/html": [
       "<span style=\"font-size:16px; font-family:Times New Roman;\">\n",
       " <span style=\"background-color: rgba(255, 0, 0, 1);\">Number 1 Topic is 4</span> with  probability 0.21564064906102284, Title is: Bed and Comfort</span>"
      ],
      "text/plain": [
       "<IPython.core.display.HTML object>"
      ]
     },
     "metadata": {},
     "output_type": "display_data"
    },
    {
     "data": {
      "text/html": [
       "<span style=\"font-size:16px; font-family:Times New Roman;\">\n",
       " <span style=\"background-color: rgba(0, 0, 255, 1);\">Number 2 Topic is 0</span> with  probability 0.19576961841534762, Title is: Hospitality Excellence</span>"
      ],
      "text/plain": [
       "<IPython.core.display.HTML object>"
      ]
     },
     "metadata": {},
     "output_type": "display_data"
    },
    {
     "name": "stdout",
     "output_type": "stream",
     "text": [
      "{4: {'beds': 0.06904683752872916, 'room': 0.04299977935048038, 'quite': 0.008559989436289479, 'dark': 0.003092704854242984, 'needs': 0.003055542194106804, 'lights': 0.0028230840956824884, 'low': 0.002509743542987568}, 0: {'room': 0.02927797724444089, 'beds': 0.00797655356123386, 'quite': 0.005541962481607148, 'needs': 0.002030297352531928, 'dark': 0.0007808964268731753, 'low': 0.0004764668215667212, 'lights': 0.0004220634032516752}}\n"
     ]
    },
    {
     "data": {
      "text/html": [
       "<span style=\"font-size:20px; font-family:Times New Roman;\"><span style=\"background-color:rgba(255, 0, 0, 0.36839743701049477)\">Beds</span></span> <span style=\"font-size:20px; font-family:Times New Roman;\">were</span> <span style=\"font-size:20px; font-family:Times New Roman;\">very</span> <span style=\"font-size:20px; font-family:Times New Roman;\"><span style=\"background-color:rgba(255, 0, 0, 0.013390665262627794)\">low</span></span> <span style=\"font-size:20px; font-family:Times New Roman;\"><span style=\"background-color:rgba(255, 0, 0, 0.229424099230361)\">Room</span></span> <span style=\"font-size:20px; font-family:Times New Roman;\">was</span> <span style=\"font-size:20px; font-family:Times New Roman;\"><span style=\"background-color:rgba(255, 0, 0, 0.045671580075681936)\">quite</span></span> <span style=\"font-size:20px; font-family:Times New Roman;\"><span style=\"background-color:rgba(255, 0, 0, 0.016501038751542678)\">dark</span></span> <span style=\"font-size:20px; font-family:Times New Roman;\">it</span> <span style=\"font-size:20px; font-family:Times New Roman;\"><span style=\"background-color:rgba(255, 0, 0, 0.01630275843579376)\">needs</span></span> <span style=\"font-size:20px; font-family:Times New Roman;\">more</span> <span style=\"font-size:20px; font-family:Times New Roman;\"><span style=\"background-color:rgba(255, 0, 0, 0.015062484865896815)\">lights</span></span>"
      ],
      "text/plain": [
       "<IPython.core.display.HTML object>"
      ]
     },
     "metadata": {},
     "output_type": "display_data"
    },
    {
     "name": "stdout",
     "output_type": "stream",
     "text": [
      "\n",
      " Room too small Bed not comfortable Sheets weren t changed I was not at all impressed\n"
     ]
    },
    {
     "data": {
      "text/html": [
       "<span style=\"font-size:16px; font-family:Times New Roman;\">\n",
       " <span style=\"background-color: rgba(255, 0, 0, 1);\">Number 1 Topic is 4</span> with  probability 0.20808639563424083, Title is: Bed and Comfort</span>"
      ],
      "text/plain": [
       "<IPython.core.display.HTML object>"
      ]
     },
     "metadata": {},
     "output_type": "display_data"
    },
    {
     "data": {
      "text/html": [
       "<span style=\"font-size:16px; font-family:Times New Roman;\">\n",
       " <span style=\"background-color: rgba(0, 0, 255, 1);\">Number 2 Topic is 0</span> with  probability 0.162398981455831, Title is: Hospitality Excellence</span>"
      ],
      "text/plain": [
       "<IPython.core.display.HTML object>"
      ]
     },
     "metadata": {},
     "output_type": "display_data"
    },
    {
     "name": "stdout",
     "output_type": "stream",
     "text": [
      "{4: {'bed': 0.18742485856860663, 'comfortable': 0.06669352393034343, 'room': 0.04299977935048038, 'small': 0.030239365997932505, 'sheets': 0.009921057636764253, 'changed': 0.004672572403117213, 'impressed': 0.0015562206213328568}, 0: {'room': 0.02927797724444089, 'comfortable': 0.026514309589912105, 'bed': 0.013568441629805767, 'small': 0.0065374242710352385, 'impressed': 0.0009306471212171142, 'sheets': 0.0004883099426756564, 'changed': 0.00048789014727054303}}\n"
     ]
    },
    {
     "data": {
      "text/html": [
       "<span style=\"font-size:20px; font-family:Times New Roman;\"><span style=\"background-color:rgba(255, 0, 0, 0.229424099230361)\">Room</span></span> <span style=\"font-size:20px; font-family:Times New Roman;\">too</span> <span style=\"font-size:20px; font-family:Times New Roman;\"><span style=\"background-color:rgba(255, 0, 0, 0.16134127686623503)\">small</span></span> <span style=\"font-size:20px; font-family:Times New Roman;\"><span style=\"background-color:rgba(255, 0, 0, 1.0)\">Bed</span></span> <span style=\"font-size:20px; font-family:Times New Roman;\">not</span> <span style=\"font-size:20px; font-family:Times New Roman;\"><span style=\"background-color:rgba(255, 0, 0, 0.35584139926631103)\">comfortable</span></span> <span style=\"font-size:20px; font-family:Times New Roman;\"><span style=\"background-color:rgba(255, 0, 0, 0.05293352073216404)\">Sheets</span></span> <span style=\"font-size:20px; font-family:Times New Roman;\">weren</span> <span style=\"font-size:20px; font-family:Times New Roman;\">t</span> <span style=\"font-size:20px; font-family:Times New Roman;\"><span style=\"background-color:rgba(255, 0, 0, 0.024930377105803304)\">changed</span></span> <span style=\"font-size:20px; font-family:Times New Roman;\">I</span> <span style=\"font-size:20px; font-family:Times New Roman;\">was</span> <span style=\"font-size:20px; font-family:Times New Roman;\">not</span> <span style=\"font-size:20px; font-family:Times New Roman;\">at</span> <span style=\"font-size:20px; font-family:Times New Roman;\">all</span> <span style=\"font-size:20px; font-family:Times New Roman;\"><span style=\"background-color:rgba(255, 0, 0, 0.008303170845201433)\">impressed</span></span>"
      ],
      "text/plain": [
       "<IPython.core.display.HTML object>"
      ]
     },
     "metadata": {},
     "output_type": "display_data"
    },
    {
     "name": "stdout",
     "output_type": "stream",
     "text": [
      "\n",
      " The staff could not have been more helpful Despite rumours about the bad manners of Parisians everybody we met were friendly and did their very best to communicate in English to make up for our very poor French \n"
     ]
    },
    {
     "data": {
      "text/html": [
       "<span style=\"font-size:16px; font-family:Times New Roman;\">\n",
       " <span style=\"background-color: rgba(255, 0, 0, 1);\">Number 1 Topic is 3</span> with  probability 0.15293459094438683, Title is: Welcoming Staff Experience</span>"
      ],
      "text/plain": [
       "<IPython.core.display.HTML object>"
      ]
     },
     "metadata": {},
     "output_type": "display_data"
    },
    {
     "data": {
      "text/html": [
       "<span style=\"font-size:16px; font-family:Times New Roman;\">\n",
       " <span style=\"background-color: rgba(0, 0, 255, 1);\">Number 2 Topic is 0</span> with  probability 0.12490101154016349, Title is: Hospitality Excellence</span>"
      ],
      "text/plain": [
       "<IPython.core.display.HTML object>"
      ]
     },
     "metadata": {},
     "output_type": "display_data"
    },
    {
     "name": "stdout",
     "output_type": "stream",
     "text": [
      "{3: {'staff': 0.15916074986066966, 'friendly': 0.10426203996947087, 'helpful': 0.09929452471483406, 'could': 0.010034224929093626, 'best': 0.009420718843990206, 'english': 0.009380434176705654, 'make': 0.007253054788961601, 'communicate': 0.002969020960705685, 'french': 0.0020503629943344204, 'met': 0.001993858037443333, 'bad': 0.001493509105566442, 'manners': 0.0010365298623999943, 'everybody': 0.0009132897612672506, 'rumours': 0.0006854694432817732, 'parisians': 0.000638823675469335, 'despite': 0.0006344606760269784, 'poor': 0.00022619643597298058}, 0: {'staff': 0.04179384363660856, 'friendly': 0.03084435664522748, 'helpful': 0.02930849728275495, 'best': 0.007895699205478163, 'could': 0.0055339161517924135, 'make': 0.003937370254746942, 'english': 0.002714764959598754, 'bad': 0.0014732423228819346, 'french': 0.0011583636778873278, 'despite': 0.001152134983919303, 'met': 0.0008582406830288829, 'everybody': 0.00042997333064178944, 'communicate': 0.0001331241643812543, 'poor': 9.127921537471195e-05, 'parisians': 8.593021313356131e-05, 'manners': 6.971347135020828e-05}}\n"
     ]
    },
    {
     "data": {
      "text/html": [
       "<span style=\"font-size:20px; font-family:Times New Roman;\">The</span> <span style=\"font-size:20px; font-family:Times New Roman;\"><span style=\"background-color:rgba(255, 0, 0, 1.0)\">staff</span></span> <span style=\"font-size:20px; font-family:Times New Roman;\"><span style=\"background-color:rgba(255, 0, 0, 0.06304459446111967)\">could</span></span> <span style=\"font-size:20px; font-family:Times New Roman;\">not</span> <span style=\"font-size:20px; font-family:Times New Roman;\">have</span> <span style=\"font-size:20px; font-family:Times New Roman;\">been</span> <span style=\"font-size:20px; font-family:Times New Roman;\">more</span> <span style=\"font-size:20px; font-family:Times New Roman;\"><span style=\"background-color:rgba(255, 0, 0, 0.6238631371224195)\">helpful</span></span> <span style=\"font-size:20px; font-family:Times New Roman;\"><span style=\"background-color:rgba(0, 0, 255, 0.02373781221017872)\">Despite</span></span> <span style=\"font-size:20px; font-family:Times New Roman;\"><span style=\"background-color:rgba(255, 0, 0, 0.004306774401866274)\">rumours</span></span> <span style=\"font-size:20px; font-family:Times New Roman;\">about</span> <span style=\"font-size:20px; font-family:Times New Roman;\">the</span> <span style=\"font-size:20px; font-family:Times New Roman;\"><span style=\"background-color:rgba(255, 0, 0, 0.009383652105647086)\">bad</span></span> <span style=\"font-size:20px; font-family:Times New Roman;\"><span style=\"background-color:rgba(255, 0, 0, 0.006512471594330758)\">manners</span></span> <span style=\"font-size:20px; font-family:Times New Roman;\">of</span> <span style=\"font-size:20px; font-family:Times New Roman;\"><span style=\"background-color:rgba(255, 0, 0, 0.004013701091686018)\">Parisians</span></span> <span style=\"font-size:20px; font-family:Times New Roman;\"><span style=\"background-color:rgba(255, 0, 0, 0.0057381594524199605)\">everybody</span></span> <span style=\"font-size:20px; font-family:Times New Roman;\">we</span> <span style=\"font-size:20px; font-family:Times New Roman;\"><span style=\"background-color:rgba(255, 0, 0, 0.012527322466052522)\">met</span></span> <span style=\"font-size:20px; font-family:Times New Roman;\">were</span> <span style=\"font-size:20px; font-family:Times New Roman;\"><span style=\"background-color:rgba(255, 0, 0, 0.6550738172617465)\">friendly</span></span> <span style=\"font-size:20px; font-family:Times New Roman;\">and</span> <span style=\"font-size:20px; font-family:Times New Roman;\">did</span> <span style=\"font-size:20px; font-family:Times New Roman;\">their</span> <span style=\"font-size:20px; font-family:Times New Roman;\">very</span> <span style=\"font-size:20px; font-family:Times New Roman;\"><span style=\"background-color:rgba(255, 0, 0, 0.05918996267758956)\">best</span></span> <span style=\"font-size:20px; font-family:Times New Roman;\">to</span> <span style=\"font-size:20px; font-family:Times New Roman;\"><span style=\"background-color:rgba(255, 0, 0, 0.01865422827741629)\">communicate</span></span> <span style=\"font-size:20px; font-family:Times New Roman;\">in</span> <span style=\"font-size:20px; font-family:Times New Roman;\"><span style=\"background-color:rgba(255, 0, 0, 0.05893685588260514)\">English</span></span> <span style=\"font-size:20px; font-family:Times New Roman;\">to</span> <span style=\"font-size:20px; font-family:Times New Roman;\"><span style=\"background-color:rgba(255, 0, 0, 0.04557062463773871)\">make</span></span> <span style=\"font-size:20px; font-family:Times New Roman;\">up</span> <span style=\"font-size:20px; font-family:Times New Roman;\">for</span> <span style=\"font-size:20px; font-family:Times New Roman;\">our</span> <span style=\"font-size:20px; font-family:Times New Roman;\">very</span> <span style=\"font-size:20px; font-family:Times New Roman;\"><span style=\"background-color:rgba(255, 0, 0, 0.0014211822712006219)\">poor</span></span> <span style=\"font-size:20px; font-family:Times New Roman;\"><span style=\"background-color:rgba(255, 0, 0, 0.012882340628134268)\">French</span></span>"
      ],
      "text/plain": [
       "<IPython.core.display.HTML object>"
      ]
     },
     "metadata": {},
     "output_type": "display_data"
    },
    {
     "name": "stdout",
     "output_type": "stream",
     "text": [
      "\n",
      " Everything i needed was very close from trains to buses etc \n"
     ]
    },
    {
     "data": {
      "text/html": [
       "<span style=\"font-size:16px; font-family:Times New Roman;\">\n",
       " <span style=\"background-color: rgba(255, 0, 0, 1);\">Number 1 Topic is 5</span> with  probability 0.4766234748271249, Title is: Proximity and Access</span>"
      ],
      "text/plain": [
       "<IPython.core.display.HTML object>"
      ]
     },
     "metadata": {},
     "output_type": "display_data"
    },
    {
     "data": {
      "text/html": [
       "<span style=\"font-size:16px; font-family:Times New Roman;\">\n",
       " <span style=\"background-color: rgba(0, 0, 255, 1);\">Number 2 Topic is 0</span> with  probability 0.1640991330223242, Title is: Hospitality Excellence</span>"
      ],
      "text/plain": [
       "<IPython.core.display.HTML object>"
      ]
     },
     "metadata": {},
     "output_type": "display_data"
    },
    {
     "name": "stdout",
     "output_type": "stream",
     "text": [
      "{5: {'close': 0.0643373522182428, 'everything': 0.012356467450562566, 'buses': 0.00782580120123298, 'trains': 0.0068622587382800165, 'etc': 0.0049680855422017485, 'needed': 0.004616596763262885}, 0: {'close': 0.016550970705302582, 'everything': 0.012218961934668489, 'etc': 0.004029876765703575, 'needed': 0.003726848100627459, 'buses': 0.0016962056054587236, 'trains': 0.0012783940500010046}}\n"
     ]
    },
    {
     "data": {
      "text/html": [
       "<span style=\"font-size:20px; font-family:Times New Roman;\"><span style=\"background-color:rgba(255, 0, 0, 0.08717668067358524)\">Everything</span></span> <span style=\"font-size:20px; font-family:Times New Roman;\">i</span> <span style=\"font-size:20px; font-family:Times New Roman;\"><span style=\"background-color:rgba(255, 0, 0, 0.03257076372676015)\">needed</span></span> <span style=\"font-size:20px; font-family:Times New Roman;\">was</span> <span style=\"font-size:20px; font-family:Times New Roman;\">very</span> <span style=\"font-size:20px; font-family:Times New Roman;\"><span style=\"background-color:rgba(255, 0, 0, 0.45390940672597974)\">close</span></span> <span style=\"font-size:20px; font-family:Times New Roman;\">from</span> <span style=\"font-size:20px; font-family:Times New Roman;\"><span style=\"background-color:rgba(255, 0, 0, 0.04841423660281812)\">trains</span></span> <span style=\"font-size:20px; font-family:Times New Roman;\">to</span> <span style=\"font-size:20px; font-family:Times New Roman;\"><span style=\"background-color:rgba(255, 0, 0, 0.05521216925989529)\">buses</span></span> <span style=\"font-size:20px; font-family:Times New Roman;\"><span style=\"background-color:rgba(255, 0, 0, 0.035050568344422675)\">etc</span></span>"
      ],
      "text/plain": [
       "<IPython.core.display.HTML object>"
      ]
     },
     "metadata": {},
     "output_type": "display_data"
    },
    {
     "name": "stdout",
     "output_type": "stream",
     "text": [
      "\n",
      " Location was far from central London approximately 8 tube stops \n"
     ]
    },
    {
     "data": {
      "text/html": [
       "<span style=\"font-size:16px; font-family:Times New Roman;\">\n",
       " <span style=\"background-color: rgba(255, 0, 0, 1);\">Number 1 Topic is 5</span> with  probability 0.23792285575354455, Title is: Proximity and Access</span>"
      ],
      "text/plain": [
       "<IPython.core.display.HTML object>"
      ]
     },
     "metadata": {},
     "output_type": "display_data"
    },
    {
     "data": {
      "text/html": [
       "<span style=\"font-size:16px; font-family:Times New Roman;\">\n",
       " <span style=\"background-color: rgba(0, 0, 255, 1);\">Number 2 Topic is 0</span> with  probability 0.19433459249475807, Title is: Hospitality Excellence</span>"
      ],
      "text/plain": [
       "<IPython.core.display.HTML object>"
      ]
     },
     "metadata": {},
     "output_type": "display_data"
    },
    {
     "name": "stdout",
     "output_type": "stream",
     "text": [
      "{5: {'location': 0.14174051311759348, 'far': 0.04669227158400903, 'tube': 0.043335322754300076, 'london': 0.029658363836359763, 'central': 0.024011826851443253, 'stops': 0.006033850197827494, 'approximately': 0.0008256862051818854}, 0: {'location': 0.03583580936752398, 'central': 0.010406511528955734, 'tube': 0.009834649981078643, 'london': 0.009566711811136296, 'far': 0.003986796773461035, 'stops': 0.0030443479664756666, 'approximately': 0.00014100162562396314}}\n"
     ]
    },
    {
     "data": {
      "text/html": [
       "<span style=\"font-size:20px; font-family:Times New Roman;\"><span style=\"background-color:rgba(255, 0, 0, 1.0)\">Location</span></span> <span style=\"font-size:20px; font-family:Times New Roman;\">was</span> <span style=\"font-size:20px; font-family:Times New Roman;\"><span style=\"background-color:rgba(255, 0, 0, 0.3294207884323891)\">far</span></span> <span style=\"font-size:20px; font-family:Times New Roman;\">from</span> <span style=\"font-size:20px; font-family:Times New Roman;\"><span style=\"background-color:rgba(255, 0, 0, 0.16940694176492857)\">central</span></span> <span style=\"font-size:20px; font-family:Times New Roman;\"><span style=\"background-color:rgba(255, 0, 0, 0.20924408402383884)\">London</span></span> <span style=\"font-size:20px; font-family:Times New Roman;\"><span style=\"background-color:rgba(255, 0, 0, 0.005825336645260088)\">approximately</span></span> <span style=\"font-size:20px; font-family:Times New Roman;\">8</span> <span style=\"font-size:20px; font-family:Times New Roman;\"><span style=\"background-color:rgba(255, 0, 0, 0.3057370246596144)\">tube</span></span> <span style=\"font-size:20px; font-family:Times New Roman;\"><span style=\"background-color:rgba(255, 0, 0, 0.0425696934850347)\">stops</span></span>"
      ],
      "text/plain": [
       "<IPython.core.display.HTML object>"
      ]
     },
     "metadata": {},
     "output_type": "display_data"
    },
    {
     "name": "stdout",
     "output_type": "stream",
     "text": [
      "\n",
      " Wasn t as close to kings cross as you think 10 15 min walk depending how fast you walk \n"
     ]
    },
    {
     "data": {
      "text/html": [
       "<span style=\"font-size:16px; font-family:Times New Roman;\">\n",
       " <span style=\"background-color: rgba(255, 0, 0, 1);\">Number 1 Topic is 5</span> with  probability 0.22226355390658548, Title is: Proximity and Access</span>"
      ],
      "text/plain": [
       "<IPython.core.display.HTML object>"
      ]
     },
     "metadata": {},
     "output_type": "display_data"
    },
    {
     "data": {
      "text/html": [
       "<span style=\"font-size:16px; font-family:Times New Roman;\">\n",
       " <span style=\"background-color: rgba(0, 0, 255, 1);\">Number 2 Topic is 0</span> with  probability 0.12776565082285543, Title is: Hospitality Excellence</span>"
      ],
      "text/plain": [
       "<IPython.core.display.HTML object>"
      ]
     },
     "metadata": {},
     "output_type": "display_data"
    },
    {
     "name": "stdout",
     "output_type": "stream",
     "text": [
      "{5: {'close': 0.0643373522182428, 'walk': 0.04132036261531725, 'min': 0.015576097529577695, 'cross': 0.0063278272127768554, 'kings': 0.004044812279301003, 'depending': 0.0016002594006444104, 'fast': 0.0015971645388423415, 'think': 0.0008683468550857145}, 0: {'close': 0.016550970705302582, 'walk': 0.01636728867856922, 'min': 0.005750110236979397, 'fast': 0.002272885217091532, 'think': 0.0015570108023404484, 'cross': 0.001134626706820384, 'kings': 0.000978532235115557, 'depending': 0.00027327473257372163}}\n"
     ]
    },
    {
     "data": {
      "text/html": [
       "<span style=\"font-size:20px; font-family:Times New Roman;\">Wasn</span> <span style=\"font-size:20px; font-family:Times New Roman;\">t</span> <span style=\"font-size:20px; font-family:Times New Roman;\">as</span> <span style=\"font-size:20px; font-family:Times New Roman;\"><span style=\"background-color:rgba(255, 0, 0, 0.45390940672597974)\">close</span></span> <span style=\"font-size:20px; font-family:Times New Roman;\">to</span> <span style=\"font-size:20px; font-family:Times New Roman;\"><span style=\"background-color:rgba(255, 0, 0, 0.028536740768994318)\">kings</span></span> <span style=\"font-size:20px; font-family:Times New Roman;\"><span style=\"background-color:rgba(255, 0, 0, 0.044643744216779024)\">cross</span></span> <span style=\"font-size:20px; font-family:Times New Roman;\">as</span> <span style=\"font-size:20px; font-family:Times New Roman;\">you</span> <span style=\"font-size:20px; font-family:Times New Roman;\"><span style=\"background-color:rgba(0, 0, 255, 0.03207960052514644)\">think</span></span> <span style=\"font-size:20px; font-family:Times New Roman;\">10</span> <span style=\"font-size:20px; font-family:Times New Roman;\">15</span> <span style=\"font-size:20px; font-family:Times New Roman;\"><span style=\"background-color:rgba(255, 0, 0, 0.10989164062539519)\">min</span></span> <span style=\"font-size:20px; font-family:Times New Roman;\"><span style=\"background-color:rgba(255, 0, 0, 0.29152118689619994)\">walk</span></span> <span style=\"font-size:20px; font-family:Times New Roman;\"><span style=\"background-color:rgba(255, 0, 0, 0.011290063549556735)\">depending</span></span> <span style=\"font-size:20px; font-family:Times New Roman;\">how</span> <span style=\"font-size:20px; font-family:Times New Roman;\"><span style=\"background-color:rgba(0, 0, 255, 0.04682899418180416)\">fast</span></span> <span style=\"font-size:20px; font-family:Times New Roman;\">you</span> <span style=\"font-size:20px; font-family:Times New Roman;\"><span style=\"background-color:rgba(255, 0, 0, 0.29152118689619994)\">walk</span></span>"
      ],
      "text/plain": [
       "<IPython.core.display.HTML object>"
      ]
     },
     "metadata": {},
     "output_type": "display_data"
    },
    {
     "name": "stdout",
     "output_type": "stream",
     "text": [
      "\n",
      " there was nothing postive about my overall experince with Brittania \n"
     ]
    },
    {
     "data": {
      "text/html": [
       "<span style=\"font-size:16px; font-family:Times New Roman;\">\n",
       " <span style=\"background-color: rgba(255, 0, 0, 1);\">Number 1 Topic is 7</span> with  probability 0.29867120346508347, Title is: Perfect Everything Thought</span>"
      ],
      "text/plain": [
       "<IPython.core.display.HTML object>"
      ]
     },
     "metadata": {},
     "output_type": "display_data"
    },
    {
     "data": {
      "text/html": [
       "<span style=\"font-size:16px; font-family:Times New Roman;\">\n",
       " <span style=\"background-color: rgba(0, 0, 255, 1);\">Number 2 Topic is 0</span> with  probability 0.13511251891669787, Title is: Hospitality Excellence</span>"
      ],
      "text/plain": [
       "<IPython.core.display.HTML object>"
      ]
     },
     "metadata": {},
     "output_type": "display_data"
    },
    {
     "name": "stdout",
     "output_type": "stream",
     "text": [
      "{7: {'nothing': 0.3231399063269309, 'overall': 0.018280413762420844, 'postive': 0.002445471898613174, 'brittania': 0.002445471898613174, 'experince': 0.002181717551237244}, 0: {'overall': 0.004534534832447693, 'nothing': 0.003744546367588792}}\n"
     ]
    },
    {
     "data": {
      "text/html": [
       "<span style=\"font-size:20px; font-family:Times New Roman;\">there</span> <span style=\"font-size:20px; font-family:Times New Roman;\">was</span> <span style=\"font-size:20px; font-family:Times New Roman;\"><span style=\"background-color:rgba(255, 0, 0, 1.0)\">nothing</span></span> <span style=\"font-size:20px; font-family:Times New Roman;\"><span style=\"background-color:rgba(255, 0, 0, 0.007567842444501462)\">postive</span></span> <span style=\"font-size:20px; font-family:Times New Roman;\">about</span> <span style=\"font-size:20px; font-family:Times New Roman;\">my</span> <span style=\"font-size:20px; font-family:Times New Roman;\"><span style=\"background-color:rgba(255, 0, 0, 0.05657120462220463)\">overall</span></span> <span style=\"font-size:20px; font-family:Times New Roman;\"><span style=\"background-color:rgba(255, 0, 0, 0.00675161906196114)\">experince</span></span> <span style=\"font-size:20px; font-family:Times New Roman;\">with</span> <span style=\"font-size:20px; font-family:Times New Roman;\"><span style=\"background-color:rgba(255, 0, 0, 0.007567842444501462)\">Brittania</span></span>"
      ],
      "text/plain": [
       "<IPython.core.display.HTML object>"
      ]
     },
     "metadata": {},
     "output_type": "display_data"
    },
    {
     "name": "stdout",
     "output_type": "stream",
     "text": [
      "\n",
      " Quite pricey but you can get deals to bring it down Mini bar expensive but theres a vending machine a minute down the road go there instead\n"
     ]
    },
    {
     "data": {
      "text/html": [
       "<span style=\"font-size:16px; font-family:Times New Roman;\">\n",
       " <span style=\"background-color: rgba(255, 0, 0, 1);\">Number 1 Topic is 18</span> with  probability 1.0, Title is: Bar Drink Prices</span>"
      ],
      "text/plain": [
       "<IPython.core.display.HTML object>"
      ]
     },
     "metadata": {},
     "output_type": "display_data"
    },
    {
     "data": {
      "text/html": [
       "<span style=\"font-size:16px; font-family:Times New Roman;\">\n",
       " <span style=\"background-color: rgba(0, 0, 255, 1);\">Number 2 Topic is 2</span> with  probability 8.86469568675485e-307, Title is: Hotel Amenities Excellence</span>"
      ],
      "text/plain": [
       "<IPython.core.display.HTML object>"
      ]
     },
     "metadata": {},
     "output_type": "display_data"
    },
    {
     "name": "stdout",
     "output_type": "stream",
     "text": [
      "{18: {'bar': 0.2210480515986648, 'expensive': 0.12697257466012904, 'mini': 0.05851991364799036, 'pricey': 0.03234402702979137, 'quite': 0.017950238543636816, 'bring': 0.00797036320532531, 'get': 0.007888796849045825, 'instead': 0.00685192398850709, 'minute': 0.005932329903716568, 'theres': 0.005644995057534793, 'deals': 0.005423309392253164, 'vending': 0.005120320619211441, 'machine': 0.0030405643093701475, 'road': 0.00299006876288965}, 2: {'bar': 0.03377622288306225, 'expensive': 0.008373259830556945, 'quite': 0.006677011039744786, 'get': 0.004427374280474093, 'mini': 0.0025727468762341355, 'pricey': 0.001688577867184629, 'road': 0.0015610189571400922, 'machine': 0.000952428637007678, 'minute': 0.0006194158177660867, 'bring': 0.00041610708801160276, 'instead': 0.00017885848264917074}}\n"
     ]
    },
    {
     "data": {
      "text/html": [
       "<span style=\"font-size:20px; font-family:Times New Roman;\"><span style=\"background-color:rgba(255, 0, 0, 0.0812051425643294)\">Quite</span></span> <span style=\"font-size:20px; font-family:Times New Roman;\"><span style=\"background-color:rgba(255, 0, 0, 0.1463212491395999)\">pricey</span></span> <span style=\"font-size:20px; font-family:Times New Roman;\">but</span> <span style=\"font-size:20px; font-family:Times New Roman;\">you</span> <span style=\"font-size:20px; font-family:Times New Roman;\">can</span> <span style=\"font-size:20px; font-family:Times New Roman;\"><span style=\"background-color:rgba(255, 0, 0, 0.0356881537384855)\">get</span></span> <span style=\"font-size:20px; font-family:Times New Roman;\"><span style=\"background-color:rgba(255, 0, 0, 0.024534527009085486)\">deals</span></span> <span style=\"font-size:20px; font-family:Times New Roman;\">to</span> <span style=\"font-size:20px; font-family:Times New Roman;\"><span style=\"background-color:rgba(255, 0, 0, 0.036057152043105604)\">bring</span></span> <span style=\"font-size:20px; font-family:Times New Roman;\">it</span> <span style=\"font-size:20px; font-family:Times New Roman;\">down</span> <span style=\"font-size:20px; font-family:Times New Roman;\"><span style=\"background-color:rgba(255, 0, 0, 0.26473842779776774)\">Mini</span></span> <span style=\"font-size:20px; font-family:Times New Roman;\"><span style=\"background-color:rgba(255, 0, 0, 1.0)\">bar</span></span> <span style=\"font-size:20px; font-family:Times New Roman;\"><span style=\"background-color:rgba(255, 0, 0, 0.5744116437210705)\">expensive</span></span> <span style=\"font-size:20px; font-family:Times New Roman;\">but</span> <span style=\"font-size:20px; font-family:Times New Roman;\"><span style=\"background-color:rgba(255, 0, 0, 0.02553741151170088)\">theres</span></span> <span style=\"font-size:20px; font-family:Times New Roman;\">a</span> <span style=\"font-size:20px; font-family:Times New Roman;\"><span style=\"background-color:rgba(255, 0, 0, 0.023163835112683568)\">vending</span></span> <span style=\"font-size:20px; font-family:Times New Roman;\"><span style=\"background-color:rgba(255, 0, 0, 0.013755218774289858)\">machine</span></span> <span style=\"font-size:20px; font-family:Times New Roman;\">a</span> <span style=\"font-size:20px; font-family:Times New Roman;\"><span style=\"background-color:rgba(255, 0, 0, 0.026837286557437362)\">minute</span></span> <span style=\"font-size:20px; font-family:Times New Roman;\">down</span> <span style=\"font-size:20px; font-family:Times New Roman;\">the</span> <span style=\"font-size:20px; font-family:Times New Roman;\"><span style=\"background-color:rgba(255, 0, 0, 0.013526781807235396)\">road</span></span> <span style=\"font-size:20px; font-family:Times New Roman;\">go</span> <span style=\"font-size:20px; font-family:Times New Roman;\">there</span> <span style=\"font-size:20px; font-family:Times New Roman;\"><span style=\"background-color:rgba(255, 0, 0, 0.030997441230323323)\">instead</span></span>"
      ],
      "text/plain": [
       "<IPython.core.display.HTML object>"
      ]
     },
     "metadata": {},
     "output_type": "display_data"
    },
    {
     "name": "stdout",
     "output_type": "stream",
     "text": [
      "\n",
      "The Momo restaurant wasn t our style of food although it looked very modern and was quite busy\n"
     ]
    },
    {
     "data": {
      "text/html": [
       "<span style=\"font-size:16px; font-family:Times New Roman;\">\n",
       " <span style=\"background-color: rgba(255, 0, 0, 1);\">Number 1 Topic is 2</span> with  probability 0.25723428529533776, Title is: Hotel Amenities Excellence</span>"
      ],
      "text/plain": [
       "<IPython.core.display.HTML object>"
      ]
     },
     "metadata": {},
     "output_type": "display_data"
    },
    {
     "data": {
      "text/html": [
       "<span style=\"font-size:16px; font-family:Times New Roman;\">\n",
       " <span style=\"background-color: rgba(0, 0, 255, 1);\">Number 2 Topic is 0</span> with  probability 0.10402316222028421, Title is: Hospitality Excellence</span>"
      ],
      "text/plain": [
       "<IPython.core.display.HTML object>"
      ]
     },
     "metadata": {},
     "output_type": "display_data"
    },
    {
     "name": "stdout",
     "output_type": "stream",
     "text": [
      "{2: {'food': 0.02504594262317111, 'restaurant': 0.0206095246084464, 'quite': 0.006677011039744786, 'modern': 0.006339149766614592, 'although': 0.003100580545487424, 'busy': 0.0029336766635038834, 'looked': 0.001777448786276063, 'style': 0.0015065735748058156, 'momo': 0.00033035896171392133}, 0: {'modern': 0.013670064700344759, 'quite': 0.005541962481607148, 'food': 0.004606203095332542, 'restaurant': 0.004317238448095118, 'style': 0.003626350939844156, 'although': 0.003333854822793243, 'looked': 0.0021727057447457295, 'busy': 0.0017450623089125899}}\n"
     ]
    },
    {
     "data": {
      "text/html": [
       "<span style=\"font-size:20px; font-family:Times New Roman;\">The</span> <span style=\"font-size:20px; font-family:Times New Roman;\"><span style=\"background-color:rgba(255, 0, 0, 0.0028664946521041196)\">Momo</span></span> <span style=\"font-size:20px; font-family:Times New Roman;\"><span style=\"background-color:rgba(255, 0, 0, 0.17882696980891483)\">restaurant</span></span> <span style=\"font-size:20px; font-family:Times New Roman;\">wasn</span> <span style=\"font-size:20px; font-family:Times New Roman;\">t</span> <span style=\"font-size:20px; font-family:Times New Roman;\">our</span> <span style=\"font-size:20px; font-family:Times New Roman;\"><span style=\"background-color:rgba(0, 0, 255, 0.07471488915768827)\">style</span></span> <span style=\"font-size:20px; font-family:Times New Roman;\">of</span> <span style=\"font-size:20px; font-family:Times New Roman;\"><span style=\"background-color:rgba(255, 0, 0, 0.2173213652620619)\">food</span></span> <span style=\"font-size:20px; font-family:Times New Roman;\"><span style=\"background-color:rgba(0, 0, 255, 0.06868849642101277)\">although</span></span> <span style=\"font-size:20px; font-family:Times New Roman;\">it</span> <span style=\"font-size:20px; font-family:Times New Roman;\"><span style=\"background-color:rgba(0, 0, 255, 0.04476496389451101)\">looked</span></span> <span style=\"font-size:20px; font-family:Times New Roman;\">very</span> <span style=\"font-size:20px; font-family:Times New Roman;\"><span style=\"background-color:rgba(0, 0, 255, 0.2816487940101514)\">modern</span></span> <span style=\"font-size:20px; font-family:Times New Roman;\">and</span> <span style=\"font-size:20px; font-family:Times New Roman;\">was</span> <span style=\"font-size:20px; font-family:Times New Roman;\"><span style=\"background-color:rgba(255, 0, 0, 0.05793581726426056)\">quite</span></span> <span style=\"font-size:20px; font-family:Times New Roman;\"><span style=\"background-color:rgba(255, 0, 0, 0.025455245479972)\">busy</span></span>"
      ],
      "text/plain": [
       "<IPython.core.display.HTML object>"
      ]
     },
     "metadata": {},
     "output_type": "display_data"
    },
    {
     "name": "stdout",
     "output_type": "stream",
     "text": [
      "\n",
      "The rooms are adequate and comfortable although I d say they are not going to be everyone s cup of tea as there is only one side to the bed with the toilet and shower in a pod Think open plan\n"
     ]
    },
    {
     "data": {
      "text/html": [
       "<span style=\"font-size:16px; font-family:Times New Roman;\">\n",
       " <span style=\"background-color: rgba(255, 0, 0, 1);\">Number 1 Topic is 0</span> with  probability 0.19169082602033272, Title is: Hospitality Excellence</span>"
      ],
      "text/plain": [
       "<IPython.core.display.HTML object>"
      ]
     },
     "metadata": {},
     "output_type": "display_data"
    },
    {
     "data": {
      "text/html": [
       "<span style=\"font-size:16px; font-family:Times New Roman;\">\n",
       " <span style=\"background-color: rgba(0, 0, 255, 1);\">Number 2 Topic is 1</span> with  probability 0.1299539015680582, Title is: Bathroom and spa</span>"
      ],
      "text/plain": [
       "<IPython.core.display.HTML object>"
      ]
     },
     "metadata": {},
     "output_type": "display_data"
    },
    {
     "name": "stdout",
     "output_type": "stream",
     "text": [
      "{0: {'comfortable': 0.026514309589912105, 'rooms': 0.022525856144947343, 'bed': 0.013568441629805767, 'shower': 0.008537696382555497, 'one': 0.0066631768966275585, 'although': 0.003333854822793243, 'tea': 0.002696606506963827, 'say': 0.002341950072981652, 'going': 0.0023419326310190045, 'side': 0.0022038708376959718, 'think': 0.0015570108023404484, 'everyone': 0.001347378655768482, 'open': 0.001310357119088459, 'toilet': 0.0011151414358305028, 'adequate': 0.0010074177085627877, 'plan': 0.000642211801184966, 'cup': 0.00026633209375020935, 'pod': 7.136328034439413e-05}, 1: {'shower': 0.08029141689171172, 'toilet': 0.028259102674370883, 'bed': 0.014857759529752377, 'rooms': 0.013621535514710948, 'one': 0.012225523782620165, 'comfortable': 0.008356532442084091, 'open': 0.007431124276472782, 'although': 0.005671955182369398, 'side': 0.005366502252860077, 'think': 0.0036616111947131865, 'going': 0.0036178340234156382, 'say': 0.0026588159268273568, 'tea': 0.002627804852728277, 'everyone': 0.001747542364793535, 'adequate': 0.0012061061281208262, 'pod': 0.0010679742004556722, 'plan': 0.000873718543389124, 'cup': 0.00047828934461403323}}\n"
     ]
    },
    {
     "data": {
      "text/html": [
       "<span style=\"font-size:20px; font-family:Times New Roman;\">The</span> <span style=\"font-size:20px; font-family:Times New Roman;\"><span style=\"background-color:rgba(255, 0, 0, 0.4641075485992815)\">rooms</span></span> <span style=\"font-size:20px; font-family:Times New Roman;\">are</span> <span style=\"font-size:20px; font-family:Times New Roman;\"><span style=\"background-color:rgba(0, 0, 255, 0.01502160722543345)\">adequate</span></span> <span style=\"font-size:20px; font-family:Times New Roman;\">and</span> <span style=\"font-size:20px; font-family:Times New Roman;\"><span style=\"background-color:rgba(255, 0, 0, 0.546282953570966)\">comfortable</span></span> <span style=\"font-size:20px; font-family:Times New Roman;\"><span style=\"background-color:rgba(0, 0, 255, 0.07064211097456544)\">although</span></span> <span style=\"font-size:20px; font-family:Times New Roman;\">I</span> <span style=\"font-size:20px; font-family:Times New Roman;\">d</span> <span style=\"font-size:20px; font-family:Times New Roman;\"><span style=\"background-color:rgba(0, 0, 255, 0.033114572263848285)\">say</span></span> <span style=\"font-size:20px; font-family:Times New Roman;\">they</span> <span style=\"font-size:20px; font-family:Times New Roman;\">are</span> <span style=\"font-size:20px; font-family:Times New Roman;\">not</span> <span style=\"font-size:20px; font-family:Times New Roman;\"><span style=\"background-color:rgba(0, 0, 255, 0.04505878913925478)\">going</span></span> <span style=\"font-size:20px; font-family:Times New Roman;\">to</span> <span style=\"font-size:20px; font-family:Times New Roman;\">be</span> <span style=\"font-size:20px; font-family:Times New Roman;\"><span style=\"background-color:rgba(0, 0, 255, 0.021764995966510704)\">everyone</span></span> <span style=\"font-size:20px; font-family:Times New Roman;\">s</span> <span style=\"font-size:20px; font-family:Times New Roman;\"><span style=\"background-color:rgba(0, 0, 255, 0.005956917477980213)\">cup</span></span> <span style=\"font-size:20px; font-family:Times New Roman;\">of</span> <span style=\"font-size:20px; font-family:Times New Roman;\"><span style=\"background-color:rgba(255, 0, 0, 0.055559061881187324)\">tea</span></span> <span style=\"font-size:20px; font-family:Times New Roman;\">as</span> <span style=\"font-size:20px; font-family:Times New Roman;\">there</span> <span style=\"font-size:20px; font-family:Times New Roman;\">is</span> <span style=\"font-size:20px; font-family:Times New Roman;\">only</span> <span style=\"font-size:20px; font-family:Times New Roman;\"><span style=\"background-color:rgba(0, 0, 255, 0.15226439208450654)\">one</span></span> <span style=\"font-size:20px; font-family:Times New Roman;\"><span style=\"background-color:rgba(0, 0, 255, 0.06683780733497116)\">side</span></span> <span style=\"font-size:20px; font-family:Times New Roman;\">to</span> <span style=\"font-size:20px; font-family:Times New Roman;\">the</span> <span style=\"font-size:20px; font-family:Times New Roman;\"><span style=\"background-color:rgba(0, 0, 255, 0.1850479180083582)\">bed</span></span> <span style=\"font-size:20px; font-family:Times New Roman;\">with</span> <span style=\"font-size:20px; font-family:Times New Roman;\">the</span> <span style=\"font-size:20px; font-family:Times New Roman;\"><span style=\"background-color:rgba(0, 0, 255, 0.35195670681068775)\">toilet</span></span> <span style=\"font-size:20px; font-family:Times New Roman;\">and</span> <span style=\"font-size:20px; font-family:Times New Roman;\"><span style=\"background-color:rgba(0, 0, 255, 1.0)\">shower</span></span> <span style=\"font-size:20px; font-family:Times New Roman;\">in</span> <span style=\"font-size:20px; font-family:Times New Roman;\">a</span> <span style=\"font-size:20px; font-family:Times New Roman;\"><span style=\"background-color:rgba(0, 0, 255, 0.013301224985181654)\">pod</span></span> <span style=\"font-size:20px; font-family:Times New Roman;\"><span style=\"background-color:rgba(0, 0, 255, 0.0456040176704263)\">Think</span></span> <span style=\"font-size:20px; font-family:Times New Roman;\"><span style=\"background-color:rgba(0, 0, 255, 0.09255191356873263)\">open</span></span> <span style=\"font-size:20px; font-family:Times New Roman;\"><span style=\"background-color:rgba(0, 0, 255, 0.01088184238381918)\">plan</span></span>"
      ],
      "text/plain": [
       "<IPython.core.display.HTML object>"
      ]
     },
     "metadata": {},
     "output_type": "display_data"
    },
    {
     "name": "stdout",
     "output_type": "stream",
     "text": [
      "\n",
      "We made a point of letting the hotel know at the time of booking we were celebrating my wife s 50th birthday We asked when checking in if we had a room with some sort of view and were told no and we are not moving you Were disappointed there was nothing in the room when we checked in but after after some lunch and a walk we arrived back to find a card and bottle of processco had been left Thank you We would definitely book the Strand Palace again but would make sure we had a nicer room\n"
     ]
    },
    {
     "data": {
      "text/html": [
       "<span style=\"font-size:16px; font-family:Times New Roman;\">\n",
       " <span style=\"background-color: rgba(255, 0, 0, 1);\">Number 1 Topic is 6</span> with  probability 0.2830789119901198, Title is: Hotel Booking Reception</span>"
      ],
      "text/plain": [
       "<IPython.core.display.HTML object>"
      ]
     },
     "metadata": {},
     "output_type": "display_data"
    },
    {
     "data": {
      "text/html": [
       "<span style=\"font-size:16px; font-family:Times New Roman;\">\n",
       " <span style=\"background-color: rgba(0, 0, 255, 1);\">Number 2 Topic is 0</span> with  probability 0.1366643292743594, Title is: Hospitality Excellence</span>"
      ],
      "text/plain": [
       "<IPython.core.display.HTML object>"
      ]
     },
     "metadata": {},
     "output_type": "display_data"
    },
    {
     "name": "stdout",
     "output_type": "stream",
     "text": [
      "{6: {'room': 0.0312774394878031, 'hotel': 0.02713918418622058, 'booking': 0.02644008317916262, 'told': 0.0199907811523774, 'card': 0.01966667910170656, 'asked': 0.01568698249078915, 'would': 0.015071039988020014, 'time': 0.014235320948373148, 'back': 0.012902505411590829, 'arrived': 0.011267835811585093, 'checked': 0.010562467913077694, 'made': 0.010125223213468952, 'left': 0.009024654623642499, 'know': 0.007631569044296368, 'checking': 0.006500446129803468, 'find': 0.006059363265201731, 'make': 0.005824638732037589, 'disappointed': 0.005077046542745887, 'nothing': 0.005030605704449359, 'book': 0.004761433451010329, 'view': 0.00464896763316084, 'sort': 0.0036047425503531235, 'sure': 0.0034418939629361264, 'wife': 0.003156881277806667, 'point': 0.003051427603119293, 'bottle': 0.00259298016295945, 'walk': 0.0024445932737035105, 'definitely': 0.0019210301609668226, 'birthday': 0.0016326160227594898, 'moving': 0.0011219920641484253, 'thank': 0.0009113273709733619, 'nicer': 0.000804699503525506, 'lunch': 0.00044590272000343196, 'celebrating': 0.00040552262764066314, 'letting': 0.00028765199967776037, 'processco': 0.00019760574378635475, 'strand': 0.00015294010482778787, 'palace': 0.00011550996137736036}, 0: {'hotel': 0.048535853840198054, 'room': 0.02927797724444089, 'walk': 0.01636728867856922, 'view': 0.011865545376186169, 'would': 0.01093678210925847, 'definitely': 0.009162899493305975, 'back': 0.007165779440133855, 'time': 0.006720173463717399, 'made': 0.005412270766903251, 'make': 0.003937370254746942, 'nothing': 0.003744546367588792, 'find': 0.003630184779461685, 'thank': 0.0025088797560834718, 'sure': 0.0024893307632249903, 'arrived': 0.002396356345691846, 'book': 0.002095971026414722, 'asked': 0.0018785051397492934, 'booking': 0.0018442190615125089, 'left': 0.0016196107988295247, 'birthday': 0.001242926846841495, 'checked': 0.0011404900090733608, 'know': 0.001133033154777319, 'palace': 0.000916266443099527, 'point': 0.0007808070383928566, 'checking': 0.0006932957336238936, 'bottle': 0.0006913764257306162, 'wife': 0.0006652394759880842, 'nicer': 0.0006436805122716621, 'card': 0.0005759407546029914, 'disappointed': 0.00043870320413084426, 'lunch': 0.00041612474177082145, 'told': 0.0004115243411080995, 'strand': 0.0002854531213775765, 'celebrating': 0.000252294190547357, 'moving': 0.00023268087510661066, 'sort': 0.00010512540737756382}}\n"
     ]
    },
    {
     "data": {
      "text/html": [
       "<span style=\"font-size:20px; font-family:Times New Roman;\">We</span> <span style=\"font-size:20px; font-family:Times New Roman;\"><span style=\"background-color:rgba(255, 0, 0, 0.3237228935385637)\">made</span></span> <span style=\"font-size:20px; font-family:Times New Roman;\">a</span> <span style=\"font-size:20px; font-family:Times New Roman;\"><span style=\"background-color:rgba(255, 0, 0, 0.0975600193970233)\">point</span></span> <span style=\"font-size:20px; font-family:Times New Roman;\">of</span> <span style=\"font-size:20px; font-family:Times New Roman;\"><span style=\"background-color:rgba(255, 0, 0, 0.009196788624271264)\">letting</span></span> <span style=\"font-size:20px; font-family:Times New Roman;\">the</span> <span style=\"font-size:20px; font-family:Times New Roman;\"><span style=\"background-color:rgba(0, 0, 255, 1.0)\">hotel</span></span> <span style=\"font-size:20px; font-family:Times New Roman;\"><span style=\"background-color:rgba(255, 0, 0, 0.2439959654393181)\">know</span></span> <span style=\"font-size:20px; font-family:Times New Roman;\">at</span> <span style=\"font-size:20px; font-family:Times New Roman;\">the</span> <span style=\"font-size:20px; font-family:Times New Roman;\"><span style=\"background-color:rgba(255, 0, 0, 0.4551306366981968)\">time</span></span> <span style=\"font-size:20px; font-family:Times New Roman;\">of</span> <span style=\"font-size:20px; font-family:Times New Roman;\"><span style=\"background-color:rgba(255, 0, 0, 0.8453403990909534)\">booking</span></span> <span style=\"font-size:20px; font-family:Times New Roman;\">we</span> <span style=\"font-size:20px; font-family:Times New Roman;\">were</span> <span style=\"font-size:20px; font-family:Times New Roman;\"><span style=\"background-color:rgba(255, 0, 0, 0.012965339691530698)\">celebrating</span></span> <span style=\"font-size:20px; font-family:Times New Roman;\">my</span> <span style=\"font-size:20px; font-family:Times New Roman;\"><span style=\"background-color:rgba(255, 0, 0, 0.10093157654537926)\">wife</span></span> <span style=\"font-size:20px; font-family:Times New Roman;\">s</span> <span style=\"font-size:20px; font-family:Times New Roman;\">50th</span> <span style=\"font-size:20px; font-family:Times New Roman;\"><span style=\"background-color:rgba(255, 0, 0, 0.05219787966966228)\">birthday</span></span> <span style=\"font-size:20px; font-family:Times New Roman;\">We</span> <span style=\"font-size:20px; font-family:Times New Roman;\"><span style=\"background-color:rgba(255, 0, 0, 0.5015430530017145)\">asked</span></span> <span style=\"font-size:20px; font-family:Times New Roman;\">when</span> <span style=\"font-size:20px; font-family:Times New Roman;\"><span style=\"background-color:rgba(255, 0, 0, 0.20783178662493684)\">checking</span></span> <span style=\"font-size:20px; font-family:Times New Roman;\">in</span> <span style=\"font-size:20px; font-family:Times New Roman;\">if</span> <span style=\"font-size:20px; font-family:Times New Roman;\">we</span> <span style=\"font-size:20px; font-family:Times New Roman;\">had</span> <span style=\"font-size:20px; font-family:Times New Roman;\">a</span> <span style=\"font-size:20px; font-family:Times New Roman;\"><span style=\"background-color:rgba(255, 0, 0, 1.0)\">room</span></span> <span style=\"font-size:20px; font-family:Times New Roman;\">with</span> <span style=\"font-size:20px; font-family:Times New Roman;\">some</span> <span style=\"font-size:20px; font-family:Times New Roman;\"><span style=\"background-color:rgba(255, 0, 0, 0.11525056428480417)\">sort</span></span> <span style=\"font-size:20px; font-family:Times New Roman;\">of</span> <span style=\"font-size:20px; font-family:Times New Roman;\"><span style=\"background-color:rgba(0, 0, 255, 0.24446969482092357)\">view</span></span> <span style=\"font-size:20px; font-family:Times New Roman;\">and</span> <span style=\"font-size:20px; font-family:Times New Roman;\">were</span> <span style=\"font-size:20px; font-family:Times New Roman;\"><span style=\"background-color:rgba(255, 0, 0, 0.6391437879744911)\">told</span></span> <span style=\"font-size:20px; font-family:Times New Roman;\">no</span> <span style=\"font-size:20px; font-family:Times New Roman;\">and</span> <span style=\"font-size:20px; font-family:Times New Roman;\">we</span> <span style=\"font-size:20px; font-family:Times New Roman;\">are</span> <span style=\"font-size:20px; font-family:Times New Roman;\">not</span> <span style=\"font-size:20px; font-family:Times New Roman;\"><span style=\"background-color:rgba(255, 0, 0, 0.03587224793723781)\">moving</span></span> <span style=\"font-size:20px; font-family:Times New Roman;\">you</span> <span style=\"font-size:20px; font-family:Times New Roman;\">Were</span> <span style=\"font-size:20px; font-family:Times New Roman;\"><span style=\"background-color:rgba(255, 0, 0, 0.1623229594841267)\">disappointed</span></span> <span style=\"font-size:20px; font-family:Times New Roman;\">there</span> <span style=\"font-size:20px; font-family:Times New Roman;\">was</span> <span style=\"font-size:20px; font-family:Times New Roman;\"><span style=\"background-color:rgba(255, 0, 0, 0.1608381564101846)\">nothing</span></span> <span style=\"font-size:20px; font-family:Times New Roman;\">in</span> <span style=\"font-size:20px; font-family:Times New Roman;\">the</span> <span style=\"font-size:20px; font-family:Times New Roman;\"><span style=\"background-color:rgba(255, 0, 0, 1.0)\">room</span></span> <span style=\"font-size:20px; font-family:Times New Roman;\">when</span> <span style=\"font-size:20px; font-family:Times New Roman;\">we</span> <span style=\"font-size:20px; font-family:Times New Roman;\"><span style=\"background-color:rgba(255, 0, 0, 0.3377024489871243)\">checked</span></span> <span style=\"font-size:20px; font-family:Times New Roman;\">in</span> <span style=\"font-size:20px; font-family:Times New Roman;\">but</span> <span style=\"font-size:20px; font-family:Times New Roman;\">after</span> <span style=\"font-size:20px; font-family:Times New Roman;\">after</span> <span style=\"font-size:20px; font-family:Times New Roman;\">some</span> <span style=\"font-size:20px; font-family:Times New Roman;\"><span style=\"background-color:rgba(255, 0, 0, 0.01425636904124826)\">lunch</span></span> <span style=\"font-size:20px; font-family:Times New Roman;\">and</span> <span style=\"font-size:20px; font-family:Times New Roman;\">a</span> <span style=\"font-size:20px; font-family:Times New Roman;\"><span style=\"background-color:rgba(0, 0, 255, 0.33722057785277093)\">walk</span></span> <span style=\"font-size:20px; font-family:Times New Roman;\">we</span> <span style=\"font-size:20px; font-family:Times New Roman;\"><span style=\"background-color:rgba(255, 0, 0, 0.36025441967457345)\">arrived</span></span> <span style=\"font-size:20px; font-family:Times New Roman;\"><span style=\"background-color:rgba(255, 0, 0, 0.41251795616525033)\">back</span></span> <span style=\"font-size:20px; font-family:Times New Roman;\">to</span> <span style=\"font-size:20px; font-family:Times New Roman;\"><span style=\"background-color:rgba(255, 0, 0, 0.1937295176468851)\">find</span></span> <span style=\"font-size:20px; font-family:Times New Roman;\">a</span> <span style=\"font-size:20px; font-family:Times New Roman;\"><span style=\"background-color:rgba(255, 0, 0, 0.6287816209947668)\">card</span></span> <span style=\"font-size:20px; font-family:Times New Roman;\">and</span> <span style=\"font-size:20px; font-family:Times New Roman;\"><span style=\"background-color:rgba(255, 0, 0, 0.08290257148353222)\">bottle</span></span> <span style=\"font-size:20px; font-family:Times New Roman;\">of</span> <span style=\"font-size:20px; font-family:Times New Roman;\"><span style=\"background-color:rgba(255, 0, 0, 0.006317836338982056)\">processco</span></span> <span style=\"font-size:20px; font-family:Times New Roman;\">had</span> <span style=\"font-size:20px; font-family:Times New Roman;\">been</span> <span style=\"font-size:20px; font-family:Times New Roman;\"><span style=\"background-color:rgba(255, 0, 0, 0.2885355953501801)\">left</span></span> <span style=\"font-size:20px; font-family:Times New Roman;\"><span style=\"background-color:rgba(0, 0, 255, 0.05169126650875117)\">Thank</span></span> <span style=\"font-size:20px; font-family:Times New Roman;\">you</span> <span style=\"font-size:20px; font-family:Times New Roman;\">We</span> <span style=\"font-size:20px; font-family:Times New Roman;\"><span style=\"background-color:rgba(255, 0, 0, 0.4818501845043004)\">would</span></span> <span style=\"font-size:20px; font-family:Times New Roman;\"><span style=\"background-color:rgba(0, 0, 255, 0.1887862017113035)\">definitely</span></span> <span style=\"font-size:20px; font-family:Times New Roman;\"><span style=\"background-color:rgba(255, 0, 0, 0.15223220087651643)\">book</span></span> <span style=\"font-size:20px; font-family:Times New Roman;\">the</span> <span style=\"font-size:20px; font-family:Times New Roman;\"><span style=\"background-color:rgba(0, 0, 255, 0.00588128360361017)\">Strand</span></span> <span style=\"font-size:20px; font-family:Times New Roman;\"><span style=\"background-color:rgba(0, 0, 255, 0.01887813586459795)\">Palace</span></span> <span style=\"font-size:20px; font-family:Times New Roman;\">again</span> <span style=\"font-size:20px; font-family:Times New Roman;\">but</span> <span style=\"font-size:20px; font-family:Times New Roman;\"><span style=\"background-color:rgba(255, 0, 0, 0.4818501845043004)\">would</span></span> <span style=\"font-size:20px; font-family:Times New Roman;\"><span style=\"background-color:rgba(255, 0, 0, 0.1862249220978896)\">make</span></span> <span style=\"font-size:20px; font-family:Times New Roman;\"><span style=\"background-color:rgba(255, 0, 0, 0.11004398119859912)\">sure</span></span> <span style=\"font-size:20px; font-family:Times New Roman;\">we</span> <span style=\"font-size:20px; font-family:Times New Roman;\">had</span> <span style=\"font-size:20px; font-family:Times New Roman;\">a</span> <span style=\"font-size:20px; font-family:Times New Roman;\"><span style=\"background-color:rgba(255, 0, 0, 0.025727793473609158)\">nicer</span></span> <span style=\"font-size:20px; font-family:Times New Roman;\"><span style=\"background-color:rgba(255, 0, 0, 1.0)\">room</span></span>"
      ],
      "text/plain": [
       "<IPython.core.display.HTML object>"
      ]
     },
     "metadata": {},
     "output_type": "display_data"
    }
   ],
   "source": [
    "# Calculate topic representations for the selected reviews with 90 percentile cut off\n",
    "top_topics90_words= []\n",
    "reviews = selected_docs.review.tolist()\n",
    "for rev in reviews:\n",
    "    print('\\n' + rev)\n",
    "    top_topics90_words.append(explain_BERTopic_topN(df, review=rev, topic_model=topic_model, cutoff_method = percentile_cutoff, cutoff_value = 90, titles = titles)[0])"
   ]
  },
  {
   "cell_type": "code",
   "execution_count": null,
   "metadata": {
    "id": "JZBok-lRVTmK"
   },
   "outputs": [],
   "source": []
  },
  {
   "cell_type": "code",
   "execution_count": null,
   "metadata": {
    "colab": {
     "base_uri": "https://localhost:8080/"
    },
    "executionInfo": {
     "elapsed": 10,
     "status": "ok",
     "timestamp": 1739261389335,
     "user": {
      "displayName": "Sule Ozturk",
      "userId": "14268268360802730607"
     },
     "user_tz": -180
    },
    "id": "_h-9oHnVXHLv",
    "outputId": "38ed78eb-d823-4264-865a-cff445018079"
   },
   "outputs": [
    {
     "data": {
      "text/plain": [
       "74"
      ]
     },
     "execution_count": 40,
     "metadata": {},
     "output_type": "execute_result"
    }
   ],
   "source": [
    "len(top_topics85)"
   ]
  },
  {
   "cell_type": "code",
   "execution_count": null,
   "metadata": {
    "colab": {
     "base_uri": "https://localhost:8080/"
    },
    "executionInfo": {
     "elapsed": 8,
     "status": "ok",
     "timestamp": 1739261406115,
     "user": {
      "displayName": "Sule Ozturk",
      "userId": "14268268360802730607"
     },
     "user_tz": -180
    },
    "id": "yRUs8QhMDtg1",
    "outputId": "9f586f9b-98e5-4b43-e6f1-ed531220556a"
   },
   "outputs": [
    {
     "data": {
      "text/plain": [
       "74"
      ]
     },
     "execution_count": 41,
     "metadata": {},
     "output_type": "execute_result"
    }
   ],
   "source": [
    "len(top_topics90)"
   ]
  },
  {
   "cell_type": "code",
   "execution_count": null,
   "metadata": {
    "id": "rVgsuw5Znm0j"
   },
   "outputs": [],
   "source": [
    "data = {#'85 Percentile Top topics': top_topics85_words,\n",
    "        'topic_word_scores': top_topics90_words\n",
    "        #'90 Percentile Top Topics': top_topics90,\n",
    "        #\"sentiment\": selected_docs['polarity'], \"emotion\": selected_docs[\"emotion_new\"]\n",
    "        }\n",
    "selected_reviews_topics = pd.DataFrame(data)"
   ]
  },
  {
   "cell_type": "code",
   "execution_count": null,
   "metadata": {
    "colab": {
     "base_uri": "https://localhost:8080/",
     "height": 424
    },
    "collapsed": true,
    "executionInfo": {
     "elapsed": 10,
     "status": "ok",
     "timestamp": 1741293738750,
     "user": {
      "displayName": "Sule Ozturk",
      "userId": "14268268360802730607"
     },
     "user_tz": -180
    },
    "id": "Eh2cFDFv3HYo",
    "outputId": "911fdaa5-e360-4a49-a2e8-7ca0101e5192"
   },
   "outputs": [
    {
     "data": {
      "application/vnd.google.colaboratory.intrinsic+json": {
       "summary": "{\n  \"name\": \"selected_reviews_topics\",\n  \"rows\": 77,\n  \"fields\": [\n    {\n      \"column\": \"topic_word_scores\",\n      \"properties\": {\n        \"dtype\": \"object\",\n        \"semantic_type\": \"\",\n        \"description\": \"\"\n      }\n    }\n  ]\n}",
       "type": "dataframe",
       "variable_name": "selected_reviews_topics"
      },
      "text/html": [
       "\n",
       "  <div id=\"df-2fe9e9a5-6dd1-48d5-8708-a68ac7352bc5\" class=\"colab-df-container\">\n",
       "    <div>\n",
       "<style scoped>\n",
       "    .dataframe tbody tr th:only-of-type {\n",
       "        vertical-align: middle;\n",
       "    }\n",
       "\n",
       "    .dataframe tbody tr th {\n",
       "        vertical-align: top;\n",
       "    }\n",
       "\n",
       "    .dataframe thead th {\n",
       "        text-align: right;\n",
       "    }\n",
       "</style>\n",
       "<table border=\"1\" class=\"dataframe\">\n",
       "  <thead>\n",
       "    <tr style=\"text-align: right;\">\n",
       "      <th></th>\n",
       "      <th>topic_word_scores</th>\n",
       "    </tr>\n",
       "  </thead>\n",
       "  <tbody>\n",
       "    <tr>\n",
       "      <th>0</th>\n",
       "      <td>{0: {'location': 0.03583580936752398, 'stay': ...</td>\n",
       "    </tr>\n",
       "    <tr>\n",
       "      <th>1</th>\n",
       "      <td>{0: {'hotel': 0.048535853840198054, 'location'...</td>\n",
       "    </tr>\n",
       "    <tr>\n",
       "      <th>2</th>\n",
       "      <td>{0: {'staff': 0.04179384363660856, 'location':...</td>\n",
       "    </tr>\n",
       "    <tr>\n",
       "      <th>3</th>\n",
       "      <td>{0: {'station': 0.022796498986596227, 'central...</td>\n",
       "    </tr>\n",
       "    <tr>\n",
       "      <th>4</th>\n",
       "      <td>{0: {'hotel': 0.048535853840198054, 'location'...</td>\n",
       "    </tr>\n",
       "    <tr>\n",
       "      <th>...</th>\n",
       "      <td>...</td>\n",
       "    </tr>\n",
       "    <tr>\n",
       "      <th>72</th>\n",
       "      <td>{7: {'nothing': 0.3231399063269309, 'overall':...</td>\n",
       "    </tr>\n",
       "    <tr>\n",
       "      <th>73</th>\n",
       "      <td>{18: {'bar': 0.2210480515986648, 'expensive': ...</td>\n",
       "    </tr>\n",
       "    <tr>\n",
       "      <th>74</th>\n",
       "      <td>{2: {'food': 0.02504594262317111, 'restaurant'...</td>\n",
       "    </tr>\n",
       "    <tr>\n",
       "      <th>75</th>\n",
       "      <td>{0: {'comfortable': 0.026514309589912105, 'roo...</td>\n",
       "    </tr>\n",
       "    <tr>\n",
       "      <th>76</th>\n",
       "      <td>{6: {'room': 0.0312774394878031, 'hotel': 0.02...</td>\n",
       "    </tr>\n",
       "  </tbody>\n",
       "</table>\n",
       "<p>77 rows × 1 columns</p>\n",
       "</div>\n",
       "    <div class=\"colab-df-buttons\">\n",
       "\n",
       "  <div class=\"colab-df-container\">\n",
       "    <button class=\"colab-df-convert\" onclick=\"convertToInteractive('df-2fe9e9a5-6dd1-48d5-8708-a68ac7352bc5')\"\n",
       "            title=\"Convert this dataframe to an interactive table.\"\n",
       "            style=\"display:none;\">\n",
       "\n",
       "  <svg xmlns=\"http://www.w3.org/2000/svg\" height=\"24px\" viewBox=\"0 -960 960 960\">\n",
       "    <path d=\"M120-120v-720h720v720H120Zm60-500h600v-160H180v160Zm220 220h160v-160H400v160Zm0 220h160v-160H400v160ZM180-400h160v-160H180v160Zm440 0h160v-160H620v160ZM180-180h160v-160H180v160Zm440 0h160v-160H620v160Z\"/>\n",
       "  </svg>\n",
       "    </button>\n",
       "\n",
       "  <style>\n",
       "    .colab-df-container {\n",
       "      display:flex;\n",
       "      gap: 12px;\n",
       "    }\n",
       "\n",
       "    .colab-df-convert {\n",
       "      background-color: #E8F0FE;\n",
       "      border: none;\n",
       "      border-radius: 50%;\n",
       "      cursor: pointer;\n",
       "      display: none;\n",
       "      fill: #1967D2;\n",
       "      height: 32px;\n",
       "      padding: 0 0 0 0;\n",
       "      width: 32px;\n",
       "    }\n",
       "\n",
       "    .colab-df-convert:hover {\n",
       "      background-color: #E2EBFA;\n",
       "      box-shadow: 0px 1px 2px rgba(60, 64, 67, 0.3), 0px 1px 3px 1px rgba(60, 64, 67, 0.15);\n",
       "      fill: #174EA6;\n",
       "    }\n",
       "\n",
       "    .colab-df-buttons div {\n",
       "      margin-bottom: 4px;\n",
       "    }\n",
       "\n",
       "    [theme=dark] .colab-df-convert {\n",
       "      background-color: #3B4455;\n",
       "      fill: #D2E3FC;\n",
       "    }\n",
       "\n",
       "    [theme=dark] .colab-df-convert:hover {\n",
       "      background-color: #434B5C;\n",
       "      box-shadow: 0px 1px 3px 1px rgba(0, 0, 0, 0.15);\n",
       "      filter: drop-shadow(0px 1px 2px rgba(0, 0, 0, 0.3));\n",
       "      fill: #FFFFFF;\n",
       "    }\n",
       "  </style>\n",
       "\n",
       "    <script>\n",
       "      const buttonEl =\n",
       "        document.querySelector('#df-2fe9e9a5-6dd1-48d5-8708-a68ac7352bc5 button.colab-df-convert');\n",
       "      buttonEl.style.display =\n",
       "        google.colab.kernel.accessAllowed ? 'block' : 'none';\n",
       "\n",
       "      async function convertToInteractive(key) {\n",
       "        const element = document.querySelector('#df-2fe9e9a5-6dd1-48d5-8708-a68ac7352bc5');\n",
       "        const dataTable =\n",
       "          await google.colab.kernel.invokeFunction('convertToInteractive',\n",
       "                                                    [key], {});\n",
       "        if (!dataTable) return;\n",
       "\n",
       "        const docLinkHtml = 'Like what you see? Visit the ' +\n",
       "          '<a target=\"_blank\" href=https://colab.research.google.com/notebooks/data_table.ipynb>data table notebook</a>'\n",
       "          + ' to learn more about interactive tables.';\n",
       "        element.innerHTML = '';\n",
       "        dataTable['output_type'] = 'display_data';\n",
       "        await google.colab.output.renderOutput(dataTable, element);\n",
       "        const docLink = document.createElement('div');\n",
       "        docLink.innerHTML = docLinkHtml;\n",
       "        element.appendChild(docLink);\n",
       "      }\n",
       "    </script>\n",
       "  </div>\n",
       "\n",
       "\n",
       "<div id=\"df-e999b146-b3a2-45e6-9011-ff9173a6a3d1\">\n",
       "  <button class=\"colab-df-quickchart\" onclick=\"quickchart('df-e999b146-b3a2-45e6-9011-ff9173a6a3d1')\"\n",
       "            title=\"Suggest charts\"\n",
       "            style=\"display:none;\">\n",
       "\n",
       "<svg xmlns=\"http://www.w3.org/2000/svg\" height=\"24px\"viewBox=\"0 0 24 24\"\n",
       "     width=\"24px\">\n",
       "    <g>\n",
       "        <path d=\"M19 3H5c-1.1 0-2 .9-2 2v14c0 1.1.9 2 2 2h14c1.1 0 2-.9 2-2V5c0-1.1-.9-2-2-2zM9 17H7v-7h2v7zm4 0h-2V7h2v10zm4 0h-2v-4h2v4z\"/>\n",
       "    </g>\n",
       "</svg>\n",
       "  </button>\n",
       "\n",
       "<style>\n",
       "  .colab-df-quickchart {\n",
       "      --bg-color: #E8F0FE;\n",
       "      --fill-color: #1967D2;\n",
       "      --hover-bg-color: #E2EBFA;\n",
       "      --hover-fill-color: #174EA6;\n",
       "      --disabled-fill-color: #AAA;\n",
       "      --disabled-bg-color: #DDD;\n",
       "  }\n",
       "\n",
       "  [theme=dark] .colab-df-quickchart {\n",
       "      --bg-color: #3B4455;\n",
       "      --fill-color: #D2E3FC;\n",
       "      --hover-bg-color: #434B5C;\n",
       "      --hover-fill-color: #FFFFFF;\n",
       "      --disabled-bg-color: #3B4455;\n",
       "      --disabled-fill-color: #666;\n",
       "  }\n",
       "\n",
       "  .colab-df-quickchart {\n",
       "    background-color: var(--bg-color);\n",
       "    border: none;\n",
       "    border-radius: 50%;\n",
       "    cursor: pointer;\n",
       "    display: none;\n",
       "    fill: var(--fill-color);\n",
       "    height: 32px;\n",
       "    padding: 0;\n",
       "    width: 32px;\n",
       "  }\n",
       "\n",
       "  .colab-df-quickchart:hover {\n",
       "    background-color: var(--hover-bg-color);\n",
       "    box-shadow: 0 1px 2px rgba(60, 64, 67, 0.3), 0 1px 3px 1px rgba(60, 64, 67, 0.15);\n",
       "    fill: var(--button-hover-fill-color);\n",
       "  }\n",
       "\n",
       "  .colab-df-quickchart-complete:disabled,\n",
       "  .colab-df-quickchart-complete:disabled:hover {\n",
       "    background-color: var(--disabled-bg-color);\n",
       "    fill: var(--disabled-fill-color);\n",
       "    box-shadow: none;\n",
       "  }\n",
       "\n",
       "  .colab-df-spinner {\n",
       "    border: 2px solid var(--fill-color);\n",
       "    border-color: transparent;\n",
       "    border-bottom-color: var(--fill-color);\n",
       "    animation:\n",
       "      spin 1s steps(1) infinite;\n",
       "  }\n",
       "\n",
       "  @keyframes spin {\n",
       "    0% {\n",
       "      border-color: transparent;\n",
       "      border-bottom-color: var(--fill-color);\n",
       "      border-left-color: var(--fill-color);\n",
       "    }\n",
       "    20% {\n",
       "      border-color: transparent;\n",
       "      border-left-color: var(--fill-color);\n",
       "      border-top-color: var(--fill-color);\n",
       "    }\n",
       "    30% {\n",
       "      border-color: transparent;\n",
       "      border-left-color: var(--fill-color);\n",
       "      border-top-color: var(--fill-color);\n",
       "      border-right-color: var(--fill-color);\n",
       "    }\n",
       "    40% {\n",
       "      border-color: transparent;\n",
       "      border-right-color: var(--fill-color);\n",
       "      border-top-color: var(--fill-color);\n",
       "    }\n",
       "    60% {\n",
       "      border-color: transparent;\n",
       "      border-right-color: var(--fill-color);\n",
       "    }\n",
       "    80% {\n",
       "      border-color: transparent;\n",
       "      border-right-color: var(--fill-color);\n",
       "      border-bottom-color: var(--fill-color);\n",
       "    }\n",
       "    90% {\n",
       "      border-color: transparent;\n",
       "      border-bottom-color: var(--fill-color);\n",
       "    }\n",
       "  }\n",
       "</style>\n",
       "\n",
       "  <script>\n",
       "    async function quickchart(key) {\n",
       "      const quickchartButtonEl =\n",
       "        document.querySelector('#' + key + ' button');\n",
       "      quickchartButtonEl.disabled = true;  // To prevent multiple clicks.\n",
       "      quickchartButtonEl.classList.add('colab-df-spinner');\n",
       "      try {\n",
       "        const charts = await google.colab.kernel.invokeFunction(\n",
       "            'suggestCharts', [key], {});\n",
       "      } catch (error) {\n",
       "        console.error('Error during call to suggestCharts:', error);\n",
       "      }\n",
       "      quickchartButtonEl.classList.remove('colab-df-spinner');\n",
       "      quickchartButtonEl.classList.add('colab-df-quickchart-complete');\n",
       "    }\n",
       "    (() => {\n",
       "      let quickchartButtonEl =\n",
       "        document.querySelector('#df-e999b146-b3a2-45e6-9011-ff9173a6a3d1 button');\n",
       "      quickchartButtonEl.style.display =\n",
       "        google.colab.kernel.accessAllowed ? 'block' : 'none';\n",
       "    })();\n",
       "  </script>\n",
       "</div>\n",
       "\n",
       "  <div id=\"id_051107b6-e023-40d9-9902-ff70e850e9a7\">\n",
       "    <style>\n",
       "      .colab-df-generate {\n",
       "        background-color: #E8F0FE;\n",
       "        border: none;\n",
       "        border-radius: 50%;\n",
       "        cursor: pointer;\n",
       "        display: none;\n",
       "        fill: #1967D2;\n",
       "        height: 32px;\n",
       "        padding: 0 0 0 0;\n",
       "        width: 32px;\n",
       "      }\n",
       "\n",
       "      .colab-df-generate:hover {\n",
       "        background-color: #E2EBFA;\n",
       "        box-shadow: 0px 1px 2px rgba(60, 64, 67, 0.3), 0px 1px 3px 1px rgba(60, 64, 67, 0.15);\n",
       "        fill: #174EA6;\n",
       "      }\n",
       "\n",
       "      [theme=dark] .colab-df-generate {\n",
       "        background-color: #3B4455;\n",
       "        fill: #D2E3FC;\n",
       "      }\n",
       "\n",
       "      [theme=dark] .colab-df-generate:hover {\n",
       "        background-color: #434B5C;\n",
       "        box-shadow: 0px 1px 3px 1px rgba(0, 0, 0, 0.15);\n",
       "        filter: drop-shadow(0px 1px 2px rgba(0, 0, 0, 0.3));\n",
       "        fill: #FFFFFF;\n",
       "      }\n",
       "    </style>\n",
       "    <button class=\"colab-df-generate\" onclick=\"generateWithVariable('selected_reviews_topics')\"\n",
       "            title=\"Generate code using this dataframe.\"\n",
       "            style=\"display:none;\">\n",
       "\n",
       "  <svg xmlns=\"http://www.w3.org/2000/svg\" height=\"24px\"viewBox=\"0 0 24 24\"\n",
       "       width=\"24px\">\n",
       "    <path d=\"M7,19H8.4L18.45,9,17,7.55,7,17.6ZM5,21V16.75L18.45,3.32a2,2,0,0,1,2.83,0l1.4,1.43a1.91,1.91,0,0,1,.58,1.4,1.91,1.91,0,0,1-.58,1.4L9.25,21ZM18.45,9,17,7.55Zm-12,3A5.31,5.31,0,0,0,4.9,8.1,5.31,5.31,0,0,0,1,6.5,5.31,5.31,0,0,0,4.9,4.9,5.31,5.31,0,0,0,6.5,1,5.31,5.31,0,0,0,8.1,4.9,5.31,5.31,0,0,0,12,6.5,5.46,5.46,0,0,0,6.5,12Z\"/>\n",
       "  </svg>\n",
       "    </button>\n",
       "    <script>\n",
       "      (() => {\n",
       "      const buttonEl =\n",
       "        document.querySelector('#id_051107b6-e023-40d9-9902-ff70e850e9a7 button.colab-df-generate');\n",
       "      buttonEl.style.display =\n",
       "        google.colab.kernel.accessAllowed ? 'block' : 'none';\n",
       "\n",
       "      buttonEl.onclick = () => {\n",
       "        google.colab.notebook.generateWithVariable('selected_reviews_topics');\n",
       "      }\n",
       "      })();\n",
       "    </script>\n",
       "  </div>\n",
       "\n",
       "    </div>\n",
       "  </div>\n"
      ],
      "text/plain": [
       "                                    topic_word_scores\n",
       "0   {0: {'location': 0.03583580936752398, 'stay': ...\n",
       "1   {0: {'hotel': 0.048535853840198054, 'location'...\n",
       "2   {0: {'staff': 0.04179384363660856, 'location':...\n",
       "3   {0: {'station': 0.022796498986596227, 'central...\n",
       "4   {0: {'hotel': 0.048535853840198054, 'location'...\n",
       "..                                                ...\n",
       "72  {7: {'nothing': 0.3231399063269309, 'overall':...\n",
       "73  {18: {'bar': 0.2210480515986648, 'expensive': ...\n",
       "74  {2: {'food': 0.02504594262317111, 'restaurant'...\n",
       "75  {0: {'comfortable': 0.026514309589912105, 'roo...\n",
       "76  {6: {'room': 0.0312774394878031, 'hotel': 0.02...\n",
       "\n",
       "[77 rows x 1 columns]"
      ]
     },
     "execution_count": 46,
     "metadata": {},
     "output_type": "execute_result"
    }
   ],
   "source": [
    "selected_reviews_topics"
   ]
  }
 ],
 "metadata": {
  "accelerator": "GPU",
  "colab": {
   "authorship_tag": "ABX9TyN4KaX0JluQAaYIbR7MHIzy",
   "gpuType": "T4",
   "machine_shape": "hm",
   "mount_file_id": "1Ctbs29H-SmIwntBbovsISIe9WDYnO6r0",
   "provenance": []
  },
  "kernelspec": {
   "display_name": "Python 3",
   "name": "python3"
  },
  "language_info": {
   "name": "python"
  }
 },
 "nbformat": 4,
 "nbformat_minor": 0
}
